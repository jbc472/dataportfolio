{
 "cells": [
  {
   "cell_type": "code",
   "execution_count": 1061,
   "id": "female-finder",
   "metadata": {},
   "outputs": [],
   "source": [
    "import seaborn as sns\n",
    "import matplotlib.pyplot as plt\n",
    "%matplotlib inline\n",
    "import pandas as pd\n",
    "import numpy as np"
   ]
  },
  {
   "cell_type": "markdown",
   "id": "limited-elephant",
   "metadata": {},
   "source": [
    "https://webrobots.io/kickstarter-datasets/"
   ]
  },
  {
   "cell_type": "code",
   "execution_count": 1062,
   "id": "mighty-granny",
   "metadata": {},
   "outputs": [],
   "source": [
    "pd.options.display.max_columns = None"
   ]
  },
  {
   "cell_type": "code",
   "execution_count": 1063,
   "id": "intended-frederick",
   "metadata": {},
   "outputs": [],
   "source": [
    "data = pd.read_csv('Kickstarter.csv')"
   ]
  },
  {
   "cell_type": "code",
   "execution_count": 1064,
   "id": "sublime-strain",
   "metadata": {},
   "outputs": [
    {
     "data": {
      "text/html": [
       "<div>\n",
       "<style scoped>\n",
       "    .dataframe tbody tr th:only-of-type {\n",
       "        vertical-align: middle;\n",
       "    }\n",
       "\n",
       "    .dataframe tbody tr th {\n",
       "        vertical-align: top;\n",
       "    }\n",
       "\n",
       "    .dataframe thead th {\n",
       "        text-align: right;\n",
       "    }\n",
       "</style>\n",
       "<table border=\"1\" class=\"dataframe\">\n",
       "  <thead>\n",
       "    <tr style=\"text-align: right;\">\n",
       "      <th></th>\n",
       "      <th>backers_count</th>\n",
       "      <th>blurb</th>\n",
       "      <th>category</th>\n",
       "      <th>converted_pledged_amount</th>\n",
       "      <th>country</th>\n",
       "      <th>country_displayable_name</th>\n",
       "      <th>created_at</th>\n",
       "      <th>creator</th>\n",
       "      <th>currency</th>\n",
       "      <th>currency_symbol</th>\n",
       "      <th>currency_trailing_code</th>\n",
       "      <th>current_currency</th>\n",
       "      <th>deadline</th>\n",
       "      <th>disable_communication</th>\n",
       "      <th>friends</th>\n",
       "      <th>fx_rate</th>\n",
       "      <th>goal</th>\n",
       "      <th>id</th>\n",
       "      <th>is_backing</th>\n",
       "      <th>is_starrable</th>\n",
       "      <th>is_starred</th>\n",
       "      <th>launched_at</th>\n",
       "      <th>location</th>\n",
       "      <th>name</th>\n",
       "      <th>permissions</th>\n",
       "      <th>photo</th>\n",
       "      <th>pledged</th>\n",
       "      <th>profile</th>\n",
       "      <th>slug</th>\n",
       "      <th>source_url</th>\n",
       "      <th>spotlight</th>\n",
       "      <th>staff_pick</th>\n",
       "      <th>state</th>\n",
       "      <th>state_changed_at</th>\n",
       "      <th>static_usd_rate</th>\n",
       "      <th>urls</th>\n",
       "      <th>usd_pledged</th>\n",
       "      <th>usd_type</th>\n",
       "    </tr>\n",
       "  </thead>\n",
       "  <tbody>\n",
       "    <tr>\n",
       "      <th>0</th>\n",
       "      <td>0</td>\n",
       "      <td>A humble little Astro traveling around brewing up fresh coffee and hot meals at National Parks, Rock Gyms, and Trail heads.</td>\n",
       "      <td>{\"id\":311,\"name\":\"Food Trucks\",\"analytics_name\":\"Food Trucks\",\"slug\":\"food/food trucks\",\"position\":8,\"parent_id\":10,\"parent_name\":\"Food\",\"color\":16725570,\"urls\":{\"web\":{\"discover\":\"http://www.kick...</td>\n",
       "      <td>0</td>\n",
       "      <td>US</td>\n",
       "      <td>the United States</td>\n",
       "      <td>1498065534</td>\n",
       "      <td>{\"id\":939819973,\"name\":\"Daniel Sanchez\",\"is_registered\":null,\"is_email_verified\":null,\"chosen_currency\":null,\"is_superbacker\":null,\"avatar\":{\"thumb\":\"https://ksr-ugc.imgix.net/assets/017/204/442/4...</td>\n",
       "      <td>USD</td>\n",
       "      <td>$</td>\n",
       "      <td>True</td>\n",
       "      <td>USD</td>\n",
       "      <td>1500766709</td>\n",
       "      <td>False</td>\n",
       "      <td>NaN</td>\n",
       "      <td>1.000000</td>\n",
       "      <td>1000</td>\n",
       "      <td>1166044523</td>\n",
       "      <td>NaN</td>\n",
       "      <td>False</td>\n",
       "      <td>NaN</td>\n",
       "      <td>1498174709</td>\n",
       "      <td>{\"id\":2475687,\"name\":\"Portland\",\"slug\":\"portland-or\",\"short_name\":\"Portland, OR\",\"displayable_name\":\"Portland, OR\",\"localized_name\":\"Portland\",\"country\":\"US\",\"state\":\"OR\",\"type\":\"Town\",\"is_root\":f...</td>\n",
       "      <td>CrimpCoffee: Good Coffee Good Times</td>\n",
       "      <td>NaN</td>\n",
       "      <td>{\"key\":\"assets/017/204/299/11b86dcad20a73f1882c9ba5649a6f4f_original.png\",\"full\":\"https://ksr-ugc.imgix.net/assets/017/204/299/11b86dcad20a73f1882c9ba5649a6f4f_original.png?ixlib=rb-2.1.0&amp;crop=fac...</td>\n",
       "      <td>0.00</td>\n",
       "      <td>{\"id\":3047341,\"project_id\":3047341,\"state\":\"inactive\",\"state_changed_at\":1498065534,\"name\":null,\"blurb\":null,\"background_color\":null,\"text_color\":null,\"link_background_color\":null,\"link_text_color...</td>\n",
       "      <td>crimpcoffee-good-coffee-good-times</td>\n",
       "      <td>https://www.kickstarter.com/discover/categories/food/food%20trucks</td>\n",
       "      <td>False</td>\n",
       "      <td>False</td>\n",
       "      <td>failed</td>\n",
       "      <td>1500766709</td>\n",
       "      <td>1.000000</td>\n",
       "      <td>{\"web\":{\"project\":\"https://www.kickstarter.com/projects/939819973/crimpcoffee-good-coffee-good-times?ref=discovery_category_newest\",\"rewards\":\"https://www.kickstarter.com/projects/939819973/crimpc...</td>\n",
       "      <td>0.000000</td>\n",
       "      <td>international</td>\n",
       "    </tr>\n",
       "    <tr>\n",
       "      <th>1</th>\n",
       "      <td>454</td>\n",
       "      <td>Spooky ghost miniatures for tabletop gaming, RPG, DnD. Great for undead themed campaigns.</td>\n",
       "      <td>{\"id\":34,\"name\":\"Tabletop Games\",\"analytics_name\":\"Tabletop Games\",\"slug\":\"games/tabletop games\",\"position\":6,\"parent_id\":12,\"parent_name\":\"Games\",\"color\":51627,\"urls\":{\"web\":{\"discover\":\"http://w...</td>\n",
       "      <td>17010</td>\n",
       "      <td>DK</td>\n",
       "      <td>Denmark</td>\n",
       "      <td>1603805375</td>\n",
       "      <td>{\"id\":1449949486,\"name\":\"Fleshcraft Studio\",\"slug\":\"fleshcraftstudio\",\"is_registered\":null,\"is_email_verified\":null,\"chosen_currency\":null,\"is_superbacker\":null,\"avatar\":{\"thumb\":\"https://ksr-ugc....</td>\n",
       "      <td>DKK</td>\n",
       "      <td>kr</td>\n",
       "      <td>True</td>\n",
       "      <td>USD</td>\n",
       "      <td>1607716729</td>\n",
       "      <td>False</td>\n",
       "      <td>NaN</td>\n",
       "      <td>0.161007</td>\n",
       "      <td>7500</td>\n",
       "      <td>986370978</td>\n",
       "      <td>NaN</td>\n",
       "      <td>False</td>\n",
       "      <td>NaN</td>\n",
       "      <td>1605124729</td>\n",
       "      <td>{\"id\":557827,\"name\":\"Svendborg\",\"slug\":\"svendborg-dk\",\"short_name\":\"Svendborg, Denmark\",\"displayable_name\":\"Svendborg, Denmark\",\"localized_name\":\"Svendborg\",\"country\":\"DK\",\"state\":\"Syddanmark\",\"ty...</td>\n",
       "      <td>Spawns of the Great Rot - Printable stl 3d miniatures</td>\n",
       "      <td>NaN</td>\n",
       "      <td>{\"key\":\"assets/031/378/029/0463bccb1bb9ac99bc7f8f8d22d1ec42_original.png\",\"full\":\"https://ksr-ugc.imgix.net/assets/031/378/029/0463bccb1bb9ac99bc7f8f8d22d1ec42_original.png?ixlib=rb-2.1.0&amp;crop=fac...</td>\n",
       "      <td>104176.17</td>\n",
       "      <td>{\"id\":4097429,\"project_id\":4097429,\"state\":\"active\",\"state_changed_at\":1607952554,\"name\":\"Spawns of the Great Rot - Printable stl 3d miniatures\",\"blurb\":\"Spooky ghost miniatures for tabletop gamin...</td>\n",
       "      <td>spawns-of-the-great-rot-printable-stl-3d-miniatures</td>\n",
       "      <td>https://www.kickstarter.com/discover/categories/games</td>\n",
       "      <td>True</td>\n",
       "      <td>False</td>\n",
       "      <td>successful</td>\n",
       "      <td>1607716729</td>\n",
       "      <td>0.158957</td>\n",
       "      <td>{\"web\":{\"project\":\"https://www.kickstarter.com/projects/fleshcraftstudio/spawns-of-the-great-rot-printable-stl-3d-miniatures?ref=discovery_category_newest\",\"rewards\":\"https://www.kickstarter.com/p...</td>\n",
       "      <td>16559.556457</td>\n",
       "      <td>international</td>\n",
       "    </tr>\n",
       "    <tr>\n",
       "      <th>2</th>\n",
       "      <td>1</td>\n",
       "      <td>As a part of Dreamcatcher Comics we will be starting a gaming department. We currently require funding to cover costs of software etc.</td>\n",
       "      <td>{\"id\":272,\"name\":\"Mobile Games\",\"analytics_name\":\"Mobile Games\",\"slug\":\"games/mobile games\",\"position\":3,\"parent_id\":12,\"parent_name\":\"Games\",\"color\":51627,\"urls\":{\"web\":{\"discover\":\"http://www.ki...</td>\n",
       "      <td>64</td>\n",
       "      <td>GB</td>\n",
       "      <td>the United Kingdom</td>\n",
       "      <td>1492296418</td>\n",
       "      <td>{\"id\":1942869476,\"name\":\"Sebastian\",\"slug\":\"dreamcatchercomics\",\"is_registered\":null,\"is_email_verified\":null,\"chosen_currency\":null,\"is_superbacker\":null,\"avatar\":{\"thumb\":\"https://ksr-ugc.imgix....</td>\n",
       "      <td>GBP</td>\n",
       "      <td>£</td>\n",
       "      <td>False</td>\n",
       "      <td>USD</td>\n",
       "      <td>1495025970</td>\n",
       "      <td>False</td>\n",
       "      <td>NaN</td>\n",
       "      <td>1.377223</td>\n",
       "      <td>500</td>\n",
       "      <td>2059825834</td>\n",
       "      <td>NaN</td>\n",
       "      <td>False</td>\n",
       "      <td>NaN</td>\n",
       "      <td>1493297970</td>\n",
       "      <td>{\"id\":19612,\"name\":\"Enfield\",\"slug\":\"enfield-london-gb\",\"short_name\":\"Enfield, UK\",\"displayable_name\":\"Enfield, UK\",\"localized_name\":\"Enfield\",\"country\":\"GB\",\"state\":\"England\",\"type\":\"Suburb\",\"is_...</td>\n",
       "      <td>Dreamcatcher Games</td>\n",
       "      <td>NaN</td>\n",
       "      <td>{\"key\":\"assets/016/272/743/7285d141aaf3b1a29f6b9be7351f9762_original.jpg\",\"full\":\"https://ksr-ugc.imgix.net/assets/016/272/743/7285d141aaf3b1a29f6b9be7351f9762_original.jpg?ixlib=rb-2.1.0&amp;crop=fac...</td>\n",
       "      <td>50.00</td>\n",
       "      <td>{\"id\":2963211,\"project_id\":2963211,\"state\":\"inactive\",\"state_changed_at\":1492296418,\"name\":null,\"blurb\":null,\"background_color\":null,\"text_color\":null,\"link_background_color\":null,\"link_text_color...</td>\n",
       "      <td>dreamcatcher-games</td>\n",
       "      <td>https://www.kickstarter.com/discover/categories/games/mobile%20games</td>\n",
       "      <td>False</td>\n",
       "      <td>False</td>\n",
       "      <td>failed</td>\n",
       "      <td>1495025970</td>\n",
       "      <td>1.283700</td>\n",
       "      <td>{\"web\":{\"project\":\"https://www.kickstarter.com/projects/dreamcatchercomics/dreamcatcher-games?ref=discovery_category_newest\",\"rewards\":\"https://www.kickstarter.com/projects/dreamcatchercomics/drea...</td>\n",
       "      <td>64.185017</td>\n",
       "      <td>international</td>\n",
       "    </tr>\n",
       "    <tr>\n",
       "      <th>3</th>\n",
       "      <td>92</td>\n",
       "      <td>We write D&amp;D gaming modules that make the game mastering experience as easy as it is for the players. Welcome to the Common Lands!</td>\n",
       "      <td>{\"id\":34,\"name\":\"Tabletop Games\",\"analytics_name\":\"Tabletop Games\",\"slug\":\"games/tabletop games\",\"position\":6,\"parent_id\":12,\"parent_name\":\"Games\",\"color\":51627,\"urls\":{\"web\":{\"discover\":\"http://w...</td>\n",
       "      <td>6223</td>\n",
       "      <td>US</td>\n",
       "      <td>the United States</td>\n",
       "      <td>1604510331</td>\n",
       "      <td>{\"id\":899047186,\"name\":\"Cory J. Burns\",\"slug\":\"thecommonlands\",\"is_registered\":null,\"is_email_verified\":null,\"chosen_currency\":null,\"is_superbacker\":null,\"avatar\":{\"thumb\":\"https://ksr-ugc.imgix.n...</td>\n",
       "      <td>USD</td>\n",
       "      <td>$</td>\n",
       "      <td>True</td>\n",
       "      <td>USD</td>\n",
       "      <td>1609738200</td>\n",
       "      <td>False</td>\n",
       "      <td>NaN</td>\n",
       "      <td>1.000000</td>\n",
       "      <td>5000</td>\n",
       "      <td>1462846972</td>\n",
       "      <td>NaN</td>\n",
       "      <td>False</td>\n",
       "      <td>NaN</td>\n",
       "      <td>1605219501</td>\n",
       "      <td>{\"id\":2379574,\"name\":\"Chicago\",\"slug\":\"chicago-il\",\"short_name\":\"Chicago, IL\",\"displayable_name\":\"Chicago, IL\",\"localized_name\":\"Chicago\",\"country\":\"US\",\"state\":\"IL\",\"type\":\"Town\",\"is_root\":false,...</td>\n",
       "      <td>Felbar's Shoppe of Curiosities and Occult for 5th Edition</td>\n",
       "      <td>NaN</td>\n",
       "      <td>{\"key\":\"assets/031/677/529/0f4e2fcf1cb9c1c838af51fdf8862e3e_original.png\",\"full\":\"https://ksr-ugc.imgix.net/assets/031/677/529/0f4e2fcf1cb9c1c838af51fdf8862e3e_original.png?ixlib=rb-2.1.0&amp;crop=fac...</td>\n",
       "      <td>6223.00</td>\n",
       "      <td>{\"id\":4102301,\"project_id\":4102301,\"state\":\"inactive\",\"state_changed_at\":1604510331,\"name\":null,\"blurb\":null,\"background_color\":null,\"text_color\":null,\"link_background_color\":null,\"link_text_color...</td>\n",
       "      <td>felbars-shoppe-of-curiosities-and-occult</td>\n",
       "      <td>https://www.kickstarter.com/discover/categories/games</td>\n",
       "      <td>True</td>\n",
       "      <td>False</td>\n",
       "      <td>successful</td>\n",
       "      <td>1609738201</td>\n",
       "      <td>1.000000</td>\n",
       "      <td>{\"web\":{\"project\":\"https://www.kickstarter.com/projects/thecommonlands/felbars-shoppe-of-curiosities-and-occult?ref=discovery_category_newest\",\"rewards\":\"https://www.kickstarter.com/projects/theco...</td>\n",
       "      <td>6223.000000</td>\n",
       "      <td>international</td>\n",
       "    </tr>\n",
       "    <tr>\n",
       "      <th>4</th>\n",
       "      <td>128</td>\n",
       "      <td>Wander creates high quality, hand-crafted, functional adaptogenic pantry staples for everyday use. Organic + Vegan + Global Fair Trade</td>\n",
       "      <td>{\"id\":313,\"name\":\"Small Batch\",\"analytics_name\":\"Small Batch\",\"slug\":\"food/small batch\",\"position\":10,\"parent_id\":10,\"parent_name\":\"Food\",\"color\":16725570,\"urls\":{\"web\":{\"discover\":\"http://www.kic...</td>\n",
       "      <td>10448</td>\n",
       "      <td>US</td>\n",
       "      <td>the United States</td>\n",
       "      <td>1595259627</td>\n",
       "      <td>{\"id\":354732308,\"name\":\"Wander Foods\",\"slug\":\"wanderfoods\",\"is_registered\":null,\"is_email_verified\":null,\"chosen_currency\":null,\"is_superbacker\":null,\"avatar\":{\"thumb\":\"https://ksr-ugc.imgix.net/a...</td>\n",
       "      <td>USD</td>\n",
       "      <td>$</td>\n",
       "      <td>True</td>\n",
       "      <td>USD</td>\n",
       "      <td>1604073600</td>\n",
       "      <td>False</td>\n",
       "      <td>NaN</td>\n",
       "      <td>1.000000</td>\n",
       "      <td>10000</td>\n",
       "      <td>1635933643</td>\n",
       "      <td>NaN</td>\n",
       "      <td>False</td>\n",
       "      <td>NaN</td>\n",
       "      <td>1601558300</td>\n",
       "      <td>{\"id\":12589335,\"name\":\"Brooklyn\",\"slug\":\"brooklyn-ny\",\"short_name\":\"Brooklyn, NY\",\"displayable_name\":\"Brooklyn, NY\",\"localized_name\":\"Brooklyn\",\"country\":\"US\",\"state\":\"NY\",\"type\":\"County\",\"is_root...</td>\n",
       "      <td>Wander: Flavorful and Functional Pantry Staples</td>\n",
       "      <td>NaN</td>\n",
       "      <td>{\"key\":\"assets/030/595/766/a1598df9a293a692dcf5f7eddf4fcfff_original.jpg\",\"full\":\"https://ksr-ugc.imgix.net/assets/030/595/766/a1598df9a293a692dcf5f7eddf4fcfff_original.jpg?ixlib=rb-2.1.0&amp;crop=fac...</td>\n",
       "      <td>10448.00</td>\n",
       "      <td>{\"id\":4036864,\"project_id\":4036864,\"state\":\"inactive\",\"state_changed_at\":1595259627,\"name\":null,\"blurb\":null,\"background_color\":null,\"text_color\":null,\"link_background_color\":null,\"link_text_color...</td>\n",
       "      <td>wander-flavorful-and-functional-pantry-staples</td>\n",
       "      <td>https://www.kickstarter.com/discover/categories/food/small%20batch</td>\n",
       "      <td>True</td>\n",
       "      <td>False</td>\n",
       "      <td>successful</td>\n",
       "      <td>1604073600</td>\n",
       "      <td>1.000000</td>\n",
       "      <td>{\"web\":{\"project\":\"https://www.kickstarter.com/projects/wanderfoods/wander-flavorful-and-functional-pantry-staples?ref=discovery_category_newest\",\"rewards\":\"https://www.kickstarter.com/projects/wa...</td>\n",
       "      <td>10448.000000</td>\n",
       "      <td>international</td>\n",
       "    </tr>\n",
       "  </tbody>\n",
       "</table>\n",
       "</div>"
      ],
      "text/plain": [
       "   backers_count  \\\n",
       "0              0   \n",
       "1            454   \n",
       "2              1   \n",
       "3             92   \n",
       "4            128   \n",
       "\n",
       "                                                                                                                                    blurb  \\\n",
       "0             A humble little Astro traveling around brewing up fresh coffee and hot meals at National Parks, Rock Gyms, and Trail heads.   \n",
       "1                                               Spooky ghost miniatures for tabletop gaming, RPG, DnD. Great for undead themed campaigns.   \n",
       "2  As a part of Dreamcatcher Comics we will be starting a gaming department. We currently require funding to cover costs of software etc.   \n",
       "3      We write D&D gaming modules that make the game mastering experience as easy as it is for the players. Welcome to the Common Lands!   \n",
       "4  Wander creates high quality, hand-crafted, functional adaptogenic pantry staples for everyday use. Organic + Vegan + Global Fair Trade   \n",
       "\n",
       "                                                                                                                                                                                                  category  \\\n",
       "0  {\"id\":311,\"name\":\"Food Trucks\",\"analytics_name\":\"Food Trucks\",\"slug\":\"food/food trucks\",\"position\":8,\"parent_id\":10,\"parent_name\":\"Food\",\"color\":16725570,\"urls\":{\"web\":{\"discover\":\"http://www.kick...   \n",
       "1  {\"id\":34,\"name\":\"Tabletop Games\",\"analytics_name\":\"Tabletop Games\",\"slug\":\"games/tabletop games\",\"position\":6,\"parent_id\":12,\"parent_name\":\"Games\",\"color\":51627,\"urls\":{\"web\":{\"discover\":\"http://w...   \n",
       "2  {\"id\":272,\"name\":\"Mobile Games\",\"analytics_name\":\"Mobile Games\",\"slug\":\"games/mobile games\",\"position\":3,\"parent_id\":12,\"parent_name\":\"Games\",\"color\":51627,\"urls\":{\"web\":{\"discover\":\"http://www.ki...   \n",
       "3  {\"id\":34,\"name\":\"Tabletop Games\",\"analytics_name\":\"Tabletop Games\",\"slug\":\"games/tabletop games\",\"position\":6,\"parent_id\":12,\"parent_name\":\"Games\",\"color\":51627,\"urls\":{\"web\":{\"discover\":\"http://w...   \n",
       "4  {\"id\":313,\"name\":\"Small Batch\",\"analytics_name\":\"Small Batch\",\"slug\":\"food/small batch\",\"position\":10,\"parent_id\":10,\"parent_name\":\"Food\",\"color\":16725570,\"urls\":{\"web\":{\"discover\":\"http://www.kic...   \n",
       "\n",
       "   converted_pledged_amount country country_displayable_name  created_at  \\\n",
       "0                         0      US        the United States  1498065534   \n",
       "1                     17010      DK                  Denmark  1603805375   \n",
       "2                        64      GB       the United Kingdom  1492296418   \n",
       "3                      6223      US        the United States  1604510331   \n",
       "4                     10448      US        the United States  1595259627   \n",
       "\n",
       "                                                                                                                                                                                                   creator  \\\n",
       "0  {\"id\":939819973,\"name\":\"Daniel Sanchez\",\"is_registered\":null,\"is_email_verified\":null,\"chosen_currency\":null,\"is_superbacker\":null,\"avatar\":{\"thumb\":\"https://ksr-ugc.imgix.net/assets/017/204/442/4...   \n",
       "1  {\"id\":1449949486,\"name\":\"Fleshcraft Studio\",\"slug\":\"fleshcraftstudio\",\"is_registered\":null,\"is_email_verified\":null,\"chosen_currency\":null,\"is_superbacker\":null,\"avatar\":{\"thumb\":\"https://ksr-ugc....   \n",
       "2  {\"id\":1942869476,\"name\":\"Sebastian\",\"slug\":\"dreamcatchercomics\",\"is_registered\":null,\"is_email_verified\":null,\"chosen_currency\":null,\"is_superbacker\":null,\"avatar\":{\"thumb\":\"https://ksr-ugc.imgix....   \n",
       "3  {\"id\":899047186,\"name\":\"Cory J. Burns\",\"slug\":\"thecommonlands\",\"is_registered\":null,\"is_email_verified\":null,\"chosen_currency\":null,\"is_superbacker\":null,\"avatar\":{\"thumb\":\"https://ksr-ugc.imgix.n...   \n",
       "4  {\"id\":354732308,\"name\":\"Wander Foods\",\"slug\":\"wanderfoods\",\"is_registered\":null,\"is_email_verified\":null,\"chosen_currency\":null,\"is_superbacker\":null,\"avatar\":{\"thumb\":\"https://ksr-ugc.imgix.net/a...   \n",
       "\n",
       "  currency currency_symbol  currency_trailing_code current_currency  \\\n",
       "0      USD               $                    True              USD   \n",
       "1      DKK              kr                    True              USD   \n",
       "2      GBP               £                   False              USD   \n",
       "3      USD               $                    True              USD   \n",
       "4      USD               $                    True              USD   \n",
       "\n",
       "     deadline  disable_communication friends   fx_rate   goal          id  \\\n",
       "0  1500766709                  False     NaN  1.000000   1000  1166044523   \n",
       "1  1607716729                  False     NaN  0.161007   7500   986370978   \n",
       "2  1495025970                  False     NaN  1.377223    500  2059825834   \n",
       "3  1609738200                  False     NaN  1.000000   5000  1462846972   \n",
       "4  1604073600                  False     NaN  1.000000  10000  1635933643   \n",
       "\n",
       "  is_backing  is_starrable is_starred  launched_at  \\\n",
       "0        NaN         False        NaN   1498174709   \n",
       "1        NaN         False        NaN   1605124729   \n",
       "2        NaN         False        NaN   1493297970   \n",
       "3        NaN         False        NaN   1605219501   \n",
       "4        NaN         False        NaN   1601558300   \n",
       "\n",
       "                                                                                                                                                                                                  location  \\\n",
       "0  {\"id\":2475687,\"name\":\"Portland\",\"slug\":\"portland-or\",\"short_name\":\"Portland, OR\",\"displayable_name\":\"Portland, OR\",\"localized_name\":\"Portland\",\"country\":\"US\",\"state\":\"OR\",\"type\":\"Town\",\"is_root\":f...   \n",
       "1  {\"id\":557827,\"name\":\"Svendborg\",\"slug\":\"svendborg-dk\",\"short_name\":\"Svendborg, Denmark\",\"displayable_name\":\"Svendborg, Denmark\",\"localized_name\":\"Svendborg\",\"country\":\"DK\",\"state\":\"Syddanmark\",\"ty...   \n",
       "2  {\"id\":19612,\"name\":\"Enfield\",\"slug\":\"enfield-london-gb\",\"short_name\":\"Enfield, UK\",\"displayable_name\":\"Enfield, UK\",\"localized_name\":\"Enfield\",\"country\":\"GB\",\"state\":\"England\",\"type\":\"Suburb\",\"is_...   \n",
       "3  {\"id\":2379574,\"name\":\"Chicago\",\"slug\":\"chicago-il\",\"short_name\":\"Chicago, IL\",\"displayable_name\":\"Chicago, IL\",\"localized_name\":\"Chicago\",\"country\":\"US\",\"state\":\"IL\",\"type\":\"Town\",\"is_root\":false,...   \n",
       "4  {\"id\":12589335,\"name\":\"Brooklyn\",\"slug\":\"brooklyn-ny\",\"short_name\":\"Brooklyn, NY\",\"displayable_name\":\"Brooklyn, NY\",\"localized_name\":\"Brooklyn\",\"country\":\"US\",\"state\":\"NY\",\"type\":\"County\",\"is_root...   \n",
       "\n",
       "                                                        name permissions  \\\n",
       "0                        CrimpCoffee: Good Coffee Good Times         NaN   \n",
       "1      Spawns of the Great Rot - Printable stl 3d miniatures         NaN   \n",
       "2                                         Dreamcatcher Games         NaN   \n",
       "3  Felbar's Shoppe of Curiosities and Occult for 5th Edition         NaN   \n",
       "4            Wander: Flavorful and Functional Pantry Staples         NaN   \n",
       "\n",
       "                                                                                                                                                                                                     photo  \\\n",
       "0  {\"key\":\"assets/017/204/299/11b86dcad20a73f1882c9ba5649a6f4f_original.png\",\"full\":\"https://ksr-ugc.imgix.net/assets/017/204/299/11b86dcad20a73f1882c9ba5649a6f4f_original.png?ixlib=rb-2.1.0&crop=fac...   \n",
       "1  {\"key\":\"assets/031/378/029/0463bccb1bb9ac99bc7f8f8d22d1ec42_original.png\",\"full\":\"https://ksr-ugc.imgix.net/assets/031/378/029/0463bccb1bb9ac99bc7f8f8d22d1ec42_original.png?ixlib=rb-2.1.0&crop=fac...   \n",
       "2  {\"key\":\"assets/016/272/743/7285d141aaf3b1a29f6b9be7351f9762_original.jpg\",\"full\":\"https://ksr-ugc.imgix.net/assets/016/272/743/7285d141aaf3b1a29f6b9be7351f9762_original.jpg?ixlib=rb-2.1.0&crop=fac...   \n",
       "3  {\"key\":\"assets/031/677/529/0f4e2fcf1cb9c1c838af51fdf8862e3e_original.png\",\"full\":\"https://ksr-ugc.imgix.net/assets/031/677/529/0f4e2fcf1cb9c1c838af51fdf8862e3e_original.png?ixlib=rb-2.1.0&crop=fac...   \n",
       "4  {\"key\":\"assets/030/595/766/a1598df9a293a692dcf5f7eddf4fcfff_original.jpg\",\"full\":\"https://ksr-ugc.imgix.net/assets/030/595/766/a1598df9a293a692dcf5f7eddf4fcfff_original.jpg?ixlib=rb-2.1.0&crop=fac...   \n",
       "\n",
       "     pledged  \\\n",
       "0       0.00   \n",
       "1  104176.17   \n",
       "2      50.00   \n",
       "3    6223.00   \n",
       "4   10448.00   \n",
       "\n",
       "                                                                                                                                                                                                   profile  \\\n",
       "0  {\"id\":3047341,\"project_id\":3047341,\"state\":\"inactive\",\"state_changed_at\":1498065534,\"name\":null,\"blurb\":null,\"background_color\":null,\"text_color\":null,\"link_background_color\":null,\"link_text_color...   \n",
       "1  {\"id\":4097429,\"project_id\":4097429,\"state\":\"active\",\"state_changed_at\":1607952554,\"name\":\"Spawns of the Great Rot - Printable stl 3d miniatures\",\"blurb\":\"Spooky ghost miniatures for tabletop gamin...   \n",
       "2  {\"id\":2963211,\"project_id\":2963211,\"state\":\"inactive\",\"state_changed_at\":1492296418,\"name\":null,\"blurb\":null,\"background_color\":null,\"text_color\":null,\"link_background_color\":null,\"link_text_color...   \n",
       "3  {\"id\":4102301,\"project_id\":4102301,\"state\":\"inactive\",\"state_changed_at\":1604510331,\"name\":null,\"blurb\":null,\"background_color\":null,\"text_color\":null,\"link_background_color\":null,\"link_text_color...   \n",
       "4  {\"id\":4036864,\"project_id\":4036864,\"state\":\"inactive\",\"state_changed_at\":1595259627,\"name\":null,\"blurb\":null,\"background_color\":null,\"text_color\":null,\"link_background_color\":null,\"link_text_color...   \n",
       "\n",
       "                                                  slug  \\\n",
       "0                   crimpcoffee-good-coffee-good-times   \n",
       "1  spawns-of-the-great-rot-printable-stl-3d-miniatures   \n",
       "2                                   dreamcatcher-games   \n",
       "3             felbars-shoppe-of-curiosities-and-occult   \n",
       "4       wander-flavorful-and-functional-pantry-staples   \n",
       "\n",
       "                                                             source_url  \\\n",
       "0    https://www.kickstarter.com/discover/categories/food/food%20trucks   \n",
       "1                 https://www.kickstarter.com/discover/categories/games   \n",
       "2  https://www.kickstarter.com/discover/categories/games/mobile%20games   \n",
       "3                 https://www.kickstarter.com/discover/categories/games   \n",
       "4    https://www.kickstarter.com/discover/categories/food/small%20batch   \n",
       "\n",
       "   spotlight  staff_pick       state  state_changed_at  static_usd_rate  \\\n",
       "0      False       False      failed        1500766709         1.000000   \n",
       "1       True       False  successful        1607716729         0.158957   \n",
       "2      False       False      failed        1495025970         1.283700   \n",
       "3       True       False  successful        1609738201         1.000000   \n",
       "4       True       False  successful        1604073600         1.000000   \n",
       "\n",
       "                                                                                                                                                                                                      urls  \\\n",
       "0  {\"web\":{\"project\":\"https://www.kickstarter.com/projects/939819973/crimpcoffee-good-coffee-good-times?ref=discovery_category_newest\",\"rewards\":\"https://www.kickstarter.com/projects/939819973/crimpc...   \n",
       "1  {\"web\":{\"project\":\"https://www.kickstarter.com/projects/fleshcraftstudio/spawns-of-the-great-rot-printable-stl-3d-miniatures?ref=discovery_category_newest\",\"rewards\":\"https://www.kickstarter.com/p...   \n",
       "2  {\"web\":{\"project\":\"https://www.kickstarter.com/projects/dreamcatchercomics/dreamcatcher-games?ref=discovery_category_newest\",\"rewards\":\"https://www.kickstarter.com/projects/dreamcatchercomics/drea...   \n",
       "3  {\"web\":{\"project\":\"https://www.kickstarter.com/projects/thecommonlands/felbars-shoppe-of-curiosities-and-occult?ref=discovery_category_newest\",\"rewards\":\"https://www.kickstarter.com/projects/theco...   \n",
       "4  {\"web\":{\"project\":\"https://www.kickstarter.com/projects/wanderfoods/wander-flavorful-and-functional-pantry-staples?ref=discovery_category_newest\",\"rewards\":\"https://www.kickstarter.com/projects/wa...   \n",
       "\n",
       "    usd_pledged       usd_type  \n",
       "0      0.000000  international  \n",
       "1  16559.556457  international  \n",
       "2     64.185017  international  \n",
       "3   6223.000000  international  \n",
       "4  10448.000000  international  "
      ]
     },
     "execution_count": 1064,
     "metadata": {},
     "output_type": "execute_result"
    }
   ],
   "source": [
    "data.head()"
   ]
  },
  {
   "cell_type": "markdown",
   "id": "bored-baltimore",
   "metadata": {},
   "source": [
    "# Data Cleaning"
   ]
  },
  {
   "cell_type": "markdown",
   "id": "incomplete-course",
   "metadata": {},
   "source": [
    "#drop duplicated items"
   ]
  },
  {
   "cell_type": "code",
   "execution_count": 1065,
   "id": "herbal-shell",
   "metadata": {},
   "outputs": [
    {
     "data": {
      "text/plain": [
       "11"
      ]
     },
     "execution_count": 1065,
     "metadata": {},
     "output_type": "execute_result"
    }
   ],
   "source": [
    "data['id'].duplicated().sum()"
   ]
  },
  {
   "cell_type": "code",
   "execution_count": 1066,
   "id": "empirical-drunk",
   "metadata": {},
   "outputs": [],
   "source": [
    "duplicates = data[data.duplicated(subset='id')]"
   ]
  },
  {
   "cell_type": "code",
   "execution_count": 1067,
   "id": "amazing-stamp",
   "metadata": {},
   "outputs": [],
   "source": [
    "data.drop_duplicates(inplace=True)"
   ]
  },
  {
   "cell_type": "markdown",
   "id": "decimal-meaning",
   "metadata": {},
   "source": [
    "### Date conversion"
   ]
  },
  {
   "cell_type": "code",
   "execution_count": 1068,
   "id": "metropolitan-soldier",
   "metadata": {},
   "outputs": [],
   "source": [
    "from datetime import datetime"
   ]
  },
  {
   "cell_type": "code",
   "execution_count": 1069,
   "id": "unknown-brooklyn",
   "metadata": {},
   "outputs": [],
   "source": [
    "def unix(row):\n",
    "    ts = datetime.utcfromtimestamp(int(row)).strftime('%Y-%m-%d')\n",
    "    return ts\n",
    "\n",
    "data['Launched_at'] = data['launched_at'].apply(unix)\n",
    "data['Deadline'] = data['deadline'].apply(unix)\n",
    "data['Created'] = data['created_at'].apply(unix)"
   ]
  },
  {
   "cell_type": "code",
   "execution_count": 1070,
   "id": "clear-locking",
   "metadata": {},
   "outputs": [],
   "source": [
    "data['Launched_at'] = pd.DatetimeIndex(data['Launched_at'])\n",
    "data['Deadline'] = pd.DatetimeIndex(data['Deadline'])\n",
    "data['Created'] = pd.DatetimeIndex(data['Created'])"
   ]
  },
  {
   "cell_type": "code",
   "execution_count": 1071,
   "id": "matched-stick",
   "metadata": {},
   "outputs": [
    {
     "data": {
      "text/plain": [
       "2429   2021-04-14\n",
       "231    2021-04-14\n",
       "1057   2021-04-14\n",
       "2580   2021-04-14\n",
       "3567   2021-04-13\n",
       "          ...    \n",
       "488    2010-02-23\n",
       "1065   2010-01-13\n",
       "3167   2010-01-05\n",
       "1641   2009-10-20\n",
       "1689   2009-05-12\n",
       "Name: Launched_at, Length: 3670, dtype: datetime64[ns]"
      ]
     },
     "execution_count": 1071,
     "metadata": {},
     "output_type": "execute_result"
    }
   ],
   "source": [
    "data['Launched_at'].sort_values(ascending=False)"
   ]
  },
  {
   "cell_type": "code",
   "execution_count": 1072,
   "id": "floppy-dividend",
   "metadata": {},
   "outputs": [
    {
     "data": {
      "text/plain": [
       "2580   2021-06-13\n",
       "1057   2021-06-13\n",
       "1677   2021-06-12\n",
       "896    2021-06-11\n",
       "3287   2021-06-11\n",
       "          ...    \n",
       "1957   2010-05-03\n",
       "3167   2010-03-05\n",
       "1065   2010-03-01\n",
       "1641   2010-01-15\n",
       "1689   2009-08-01\n",
       "Name: Deadline, Length: 3670, dtype: datetime64[ns]"
      ]
     },
     "execution_count": 1072,
     "metadata": {},
     "output_type": "execute_result"
    }
   ],
   "source": [
    "data['Deadline'].sort_values(ascending=False)"
   ]
  },
  {
   "cell_type": "code",
   "execution_count": 1073,
   "id": "corresponding-november",
   "metadata": {},
   "outputs": [
    {
     "data": {
      "text/plain": [
       "3287   2021-04-13\n",
       "1677   2021-04-13\n",
       "2429   2021-04-11\n",
       "2576   2021-04-10\n",
       "1166   2021-04-08\n",
       "          ...    \n",
       "488    2010-02-12\n",
       "1065   2010-01-07\n",
       "3167   2009-12-31\n",
       "1641   2009-10-15\n",
       "1689   2009-05-12\n",
       "Name: Created, Length: 3670, dtype: datetime64[ns]"
      ]
     },
     "execution_count": 1073,
     "metadata": {},
     "output_type": "execute_result"
    }
   ],
   "source": [
    "data['Created'].sort_values(ascending=False)"
   ]
  },
  {
   "cell_type": "code",
   "execution_count": 1074,
   "id": "random-purse",
   "metadata": {},
   "outputs": [],
   "source": [
    "data['Launch_Period'] = data['Deadline']-data['Launched_at']\n",
    "data['Created_to_Launch'] = data['Launched_at']-data['Created']"
   ]
  },
  {
   "cell_type": "code",
   "execution_count": 1075,
   "id": "palestinian-rwanda",
   "metadata": {},
   "outputs": [
    {
     "data": {
      "text/plain": [
       "0        1 days\n",
       "1       15 days\n",
       "2       12 days\n",
       "3        8 days\n",
       "4       73 days\n",
       "         ...   \n",
       "3665   399 days\n",
       "3666    13 days\n",
       "3667    24 days\n",
       "3668     5 days\n",
       "3669    26 days\n",
       "Name: Created_to_Launch, Length: 3670, dtype: timedelta64[ns]"
      ]
     },
     "execution_count": 1075,
     "metadata": {},
     "output_type": "execute_result"
    }
   ],
   "source": [
    "data['Created_to_Launch']"
   ]
  },
  {
   "cell_type": "code",
   "execution_count": 1076,
   "id": "selective-catalog",
   "metadata": {},
   "outputs": [
    {
     "data": {
      "text/plain": [
       "0      30 days\n",
       "1      30 days\n",
       "2      20 days\n",
       "3      53 days\n",
       "4      29 days\n",
       "         ...  \n",
       "3665   14 days\n",
       "3666   22 days\n",
       "3667   15 days\n",
       "3668   15 days\n",
       "3669   30 days\n",
       "Name: Launch_Period, Length: 3670, dtype: timedelta64[ns]"
      ]
     },
     "execution_count": 1076,
     "metadata": {},
     "output_type": "execute_result"
    }
   ],
   "source": [
    "data['Launch_Period'] "
   ]
  },
  {
   "cell_type": "code",
   "execution_count": 1077,
   "id": "independent-brass",
   "metadata": {},
   "outputs": [
    {
     "data": {
      "text/plain": [
       "Index(['backers_count', 'blurb', 'category', 'converted_pledged_amount',\n",
       "       'country', 'country_displayable_name', 'created_at', 'creator',\n",
       "       'currency', 'currency_symbol', 'currency_trailing_code',\n",
       "       'current_currency', 'deadline', 'disable_communication', 'friends',\n",
       "       'fx_rate', 'goal', 'id', 'is_backing', 'is_starrable', 'is_starred',\n",
       "       'launched_at', 'location', 'name', 'permissions', 'photo', 'pledged',\n",
       "       'profile', 'slug', 'source_url', 'spotlight', 'staff_pick', 'state',\n",
       "       'state_changed_at', 'static_usd_rate', 'urls', 'usd_pledged',\n",
       "       'usd_type', 'Launched_at', 'Deadline', 'Created', 'Launch_Period',\n",
       "       'Created_to_Launch'],\n",
       "      dtype='object')"
      ]
     },
     "execution_count": 1077,
     "metadata": {},
     "output_type": "execute_result"
    }
   ],
   "source": [
    "data.columns"
   ]
  },
  {
   "cell_type": "code",
   "execution_count": 1078,
   "id": "professional-roman",
   "metadata": {},
   "outputs": [],
   "source": [
    "data = data.drop(['created_at'], axis = 1)\n",
    "data = data.drop(['deadline'], axis = 1)\n",
    "data = data.drop(['launched_at'], axis = 1)"
   ]
  },
  {
   "cell_type": "code",
   "execution_count": 1079,
   "id": "engaging-contents",
   "metadata": {},
   "outputs": [],
   "source": [
    "data['Launch_Year'] = data['Launched_at'].apply(lambda x:str(x)[:4])\n",
    "data['Launch_Month'] = data['Launched_at'].apply(lambda x:str(x)[5:7])\n",
    "data['Launch_Day'] = data['Launched_at'].apply(lambda x:str(x)[8:10])\n"
   ]
  },
  {
   "cell_type": "code",
   "execution_count": 1080,
   "id": "sapphire-korea",
   "metadata": {},
   "outputs": [
    {
     "data": {
      "text/plain": [
       "0       2017\n",
       "1       2020\n",
       "2       2017\n",
       "3       2020\n",
       "4       2020\n",
       "        ... \n",
       "3665    2020\n",
       "3666    2021\n",
       "3667    2020\n",
       "3668    2018\n",
       "3669    2021\n",
       "Name: Launch_Year, Length: 3670, dtype: object"
      ]
     },
     "execution_count": 1080,
     "metadata": {},
     "output_type": "execute_result"
    }
   ],
   "source": [
    "data['Launch_Year']\n"
   ]
  },
  {
   "cell_type": "code",
   "execution_count": 1081,
   "id": "better-milwaukee",
   "metadata": {},
   "outputs": [
    {
     "data": {
      "text/plain": [
       "0       06\n",
       "1       11\n",
       "2       04\n",
       "3       11\n",
       "4       10\n",
       "        ..\n",
       "3665    06\n",
       "3666    03\n",
       "3667    08\n",
       "3668    03\n",
       "3669    03\n",
       "Name: Launch_Month, Length: 3670, dtype: object"
      ]
     },
     "execution_count": 1081,
     "metadata": {},
     "output_type": "execute_result"
    }
   ],
   "source": [
    "data['Launch_Month']\n"
   ]
  },
  {
   "cell_type": "code",
   "execution_count": 1082,
   "id": "broadband-lover",
   "metadata": {},
   "outputs": [
    {
     "data": {
      "text/plain": [
       "0       22\n",
       "1       11\n",
       "2       27\n",
       "3       12\n",
       "4       01\n",
       "        ..\n",
       "3665    15\n",
       "3666    15\n",
       "3667    27\n",
       "3668    14\n",
       "3669    30\n",
       "Name: Launch_Day, Length: 3670, dtype: object"
      ]
     },
     "execution_count": 1082,
     "metadata": {},
     "output_type": "execute_result"
    }
   ],
   "source": [
    "data['Launch_Day']"
   ]
  },
  {
   "cell_type": "code",
   "execution_count": 1083,
   "id": "victorian-jacksonville",
   "metadata": {},
   "outputs": [
    {
     "data": {
      "text/html": [
       "<div>\n",
       "<style scoped>\n",
       "    .dataframe tbody tr th:only-of-type {\n",
       "        vertical-align: middle;\n",
       "    }\n",
       "\n",
       "    .dataframe tbody tr th {\n",
       "        vertical-align: top;\n",
       "    }\n",
       "\n",
       "    .dataframe thead th {\n",
       "        text-align: right;\n",
       "    }\n",
       "</style>\n",
       "<table border=\"1\" class=\"dataframe\">\n",
       "  <thead>\n",
       "    <tr style=\"text-align: right;\">\n",
       "      <th></th>\n",
       "      <th>backers_count</th>\n",
       "      <th>blurb</th>\n",
       "      <th>category</th>\n",
       "      <th>converted_pledged_amount</th>\n",
       "      <th>country</th>\n",
       "      <th>country_displayable_name</th>\n",
       "      <th>creator</th>\n",
       "      <th>currency</th>\n",
       "      <th>currency_symbol</th>\n",
       "      <th>currency_trailing_code</th>\n",
       "      <th>current_currency</th>\n",
       "      <th>disable_communication</th>\n",
       "      <th>friends</th>\n",
       "      <th>fx_rate</th>\n",
       "      <th>goal</th>\n",
       "      <th>id</th>\n",
       "      <th>is_backing</th>\n",
       "      <th>is_starrable</th>\n",
       "      <th>is_starred</th>\n",
       "      <th>location</th>\n",
       "      <th>name</th>\n",
       "      <th>permissions</th>\n",
       "      <th>photo</th>\n",
       "      <th>pledged</th>\n",
       "      <th>profile</th>\n",
       "      <th>slug</th>\n",
       "      <th>source_url</th>\n",
       "      <th>spotlight</th>\n",
       "      <th>staff_pick</th>\n",
       "      <th>state</th>\n",
       "      <th>state_changed_at</th>\n",
       "      <th>static_usd_rate</th>\n",
       "      <th>urls</th>\n",
       "      <th>usd_pledged</th>\n",
       "      <th>usd_type</th>\n",
       "      <th>Launched_at</th>\n",
       "      <th>Deadline</th>\n",
       "      <th>Created</th>\n",
       "      <th>Launch_Period</th>\n",
       "      <th>Created_to_Launch</th>\n",
       "      <th>Launch_Year</th>\n",
       "      <th>Launch_Month</th>\n",
       "      <th>Launch_Day</th>\n",
       "    </tr>\n",
       "  </thead>\n",
       "  <tbody>\n",
       "    <tr>\n",
       "      <th>0</th>\n",
       "      <td>0</td>\n",
       "      <td>A humble little Astro traveling around brewing up fresh coffee and hot meals at National Parks, Rock Gyms, and Trail heads.</td>\n",
       "      <td>{\"id\":311,\"name\":\"Food Trucks\",\"analytics_name\":\"Food Trucks\",\"slug\":\"food/food trucks\",\"position\":8,\"parent_id\":10,\"parent_name\":\"Food\",\"color\":16725570,\"urls\":{\"web\":{\"discover\":\"http://www.kick...</td>\n",
       "      <td>0</td>\n",
       "      <td>US</td>\n",
       "      <td>the United States</td>\n",
       "      <td>{\"id\":939819973,\"name\":\"Daniel Sanchez\",\"is_registered\":null,\"is_email_verified\":null,\"chosen_currency\":null,\"is_superbacker\":null,\"avatar\":{\"thumb\":\"https://ksr-ugc.imgix.net/assets/017/204/442/4...</td>\n",
       "      <td>USD</td>\n",
       "      <td>$</td>\n",
       "      <td>True</td>\n",
       "      <td>USD</td>\n",
       "      <td>False</td>\n",
       "      <td>NaN</td>\n",
       "      <td>1.000000</td>\n",
       "      <td>1000</td>\n",
       "      <td>1166044523</td>\n",
       "      <td>NaN</td>\n",
       "      <td>False</td>\n",
       "      <td>NaN</td>\n",
       "      <td>{\"id\":2475687,\"name\":\"Portland\",\"slug\":\"portland-or\",\"short_name\":\"Portland, OR\",\"displayable_name\":\"Portland, OR\",\"localized_name\":\"Portland\",\"country\":\"US\",\"state\":\"OR\",\"type\":\"Town\",\"is_root\":f...</td>\n",
       "      <td>CrimpCoffee: Good Coffee Good Times</td>\n",
       "      <td>NaN</td>\n",
       "      <td>{\"key\":\"assets/017/204/299/11b86dcad20a73f1882c9ba5649a6f4f_original.png\",\"full\":\"https://ksr-ugc.imgix.net/assets/017/204/299/11b86dcad20a73f1882c9ba5649a6f4f_original.png?ixlib=rb-2.1.0&amp;crop=fac...</td>\n",
       "      <td>0.00</td>\n",
       "      <td>{\"id\":3047341,\"project_id\":3047341,\"state\":\"inactive\",\"state_changed_at\":1498065534,\"name\":null,\"blurb\":null,\"background_color\":null,\"text_color\":null,\"link_background_color\":null,\"link_text_color...</td>\n",
       "      <td>crimpcoffee-good-coffee-good-times</td>\n",
       "      <td>https://www.kickstarter.com/discover/categories/food/food%20trucks</td>\n",
       "      <td>False</td>\n",
       "      <td>False</td>\n",
       "      <td>failed</td>\n",
       "      <td>1500766709</td>\n",
       "      <td>1.000000</td>\n",
       "      <td>{\"web\":{\"project\":\"https://www.kickstarter.com/projects/939819973/crimpcoffee-good-coffee-good-times?ref=discovery_category_newest\",\"rewards\":\"https://www.kickstarter.com/projects/939819973/crimpc...</td>\n",
       "      <td>0.000000</td>\n",
       "      <td>international</td>\n",
       "      <td>2017-06-22</td>\n",
       "      <td>2017-07-22</td>\n",
       "      <td>2017-06-21</td>\n",
       "      <td>30 days</td>\n",
       "      <td>1 days</td>\n",
       "      <td>2017</td>\n",
       "      <td>06</td>\n",
       "      <td>22</td>\n",
       "    </tr>\n",
       "    <tr>\n",
       "      <th>1</th>\n",
       "      <td>454</td>\n",
       "      <td>Spooky ghost miniatures for tabletop gaming, RPG, DnD. Great for undead themed campaigns.</td>\n",
       "      <td>{\"id\":34,\"name\":\"Tabletop Games\",\"analytics_name\":\"Tabletop Games\",\"slug\":\"games/tabletop games\",\"position\":6,\"parent_id\":12,\"parent_name\":\"Games\",\"color\":51627,\"urls\":{\"web\":{\"discover\":\"http://w...</td>\n",
       "      <td>17010</td>\n",
       "      <td>DK</td>\n",
       "      <td>Denmark</td>\n",
       "      <td>{\"id\":1449949486,\"name\":\"Fleshcraft Studio\",\"slug\":\"fleshcraftstudio\",\"is_registered\":null,\"is_email_verified\":null,\"chosen_currency\":null,\"is_superbacker\":null,\"avatar\":{\"thumb\":\"https://ksr-ugc....</td>\n",
       "      <td>DKK</td>\n",
       "      <td>kr</td>\n",
       "      <td>True</td>\n",
       "      <td>USD</td>\n",
       "      <td>False</td>\n",
       "      <td>NaN</td>\n",
       "      <td>0.161007</td>\n",
       "      <td>7500</td>\n",
       "      <td>986370978</td>\n",
       "      <td>NaN</td>\n",
       "      <td>False</td>\n",
       "      <td>NaN</td>\n",
       "      <td>{\"id\":557827,\"name\":\"Svendborg\",\"slug\":\"svendborg-dk\",\"short_name\":\"Svendborg, Denmark\",\"displayable_name\":\"Svendborg, Denmark\",\"localized_name\":\"Svendborg\",\"country\":\"DK\",\"state\":\"Syddanmark\",\"ty...</td>\n",
       "      <td>Spawns of the Great Rot - Printable stl 3d miniatures</td>\n",
       "      <td>NaN</td>\n",
       "      <td>{\"key\":\"assets/031/378/029/0463bccb1bb9ac99bc7f8f8d22d1ec42_original.png\",\"full\":\"https://ksr-ugc.imgix.net/assets/031/378/029/0463bccb1bb9ac99bc7f8f8d22d1ec42_original.png?ixlib=rb-2.1.0&amp;crop=fac...</td>\n",
       "      <td>104176.17</td>\n",
       "      <td>{\"id\":4097429,\"project_id\":4097429,\"state\":\"active\",\"state_changed_at\":1607952554,\"name\":\"Spawns of the Great Rot - Printable stl 3d miniatures\",\"blurb\":\"Spooky ghost miniatures for tabletop gamin...</td>\n",
       "      <td>spawns-of-the-great-rot-printable-stl-3d-miniatures</td>\n",
       "      <td>https://www.kickstarter.com/discover/categories/games</td>\n",
       "      <td>True</td>\n",
       "      <td>False</td>\n",
       "      <td>successful</td>\n",
       "      <td>1607716729</td>\n",
       "      <td>0.158957</td>\n",
       "      <td>{\"web\":{\"project\":\"https://www.kickstarter.com/projects/fleshcraftstudio/spawns-of-the-great-rot-printable-stl-3d-miniatures?ref=discovery_category_newest\",\"rewards\":\"https://www.kickstarter.com/p...</td>\n",
       "      <td>16559.556457</td>\n",
       "      <td>international</td>\n",
       "      <td>2020-11-11</td>\n",
       "      <td>2020-12-11</td>\n",
       "      <td>2020-10-27</td>\n",
       "      <td>30 days</td>\n",
       "      <td>15 days</td>\n",
       "      <td>2020</td>\n",
       "      <td>11</td>\n",
       "      <td>11</td>\n",
       "    </tr>\n",
       "    <tr>\n",
       "      <th>2</th>\n",
       "      <td>1</td>\n",
       "      <td>As a part of Dreamcatcher Comics we will be starting a gaming department. We currently require funding to cover costs of software etc.</td>\n",
       "      <td>{\"id\":272,\"name\":\"Mobile Games\",\"analytics_name\":\"Mobile Games\",\"slug\":\"games/mobile games\",\"position\":3,\"parent_id\":12,\"parent_name\":\"Games\",\"color\":51627,\"urls\":{\"web\":{\"discover\":\"http://www.ki...</td>\n",
       "      <td>64</td>\n",
       "      <td>GB</td>\n",
       "      <td>the United Kingdom</td>\n",
       "      <td>{\"id\":1942869476,\"name\":\"Sebastian\",\"slug\":\"dreamcatchercomics\",\"is_registered\":null,\"is_email_verified\":null,\"chosen_currency\":null,\"is_superbacker\":null,\"avatar\":{\"thumb\":\"https://ksr-ugc.imgix....</td>\n",
       "      <td>GBP</td>\n",
       "      <td>£</td>\n",
       "      <td>False</td>\n",
       "      <td>USD</td>\n",
       "      <td>False</td>\n",
       "      <td>NaN</td>\n",
       "      <td>1.377223</td>\n",
       "      <td>500</td>\n",
       "      <td>2059825834</td>\n",
       "      <td>NaN</td>\n",
       "      <td>False</td>\n",
       "      <td>NaN</td>\n",
       "      <td>{\"id\":19612,\"name\":\"Enfield\",\"slug\":\"enfield-london-gb\",\"short_name\":\"Enfield, UK\",\"displayable_name\":\"Enfield, UK\",\"localized_name\":\"Enfield\",\"country\":\"GB\",\"state\":\"England\",\"type\":\"Suburb\",\"is_...</td>\n",
       "      <td>Dreamcatcher Games</td>\n",
       "      <td>NaN</td>\n",
       "      <td>{\"key\":\"assets/016/272/743/7285d141aaf3b1a29f6b9be7351f9762_original.jpg\",\"full\":\"https://ksr-ugc.imgix.net/assets/016/272/743/7285d141aaf3b1a29f6b9be7351f9762_original.jpg?ixlib=rb-2.1.0&amp;crop=fac...</td>\n",
       "      <td>50.00</td>\n",
       "      <td>{\"id\":2963211,\"project_id\":2963211,\"state\":\"inactive\",\"state_changed_at\":1492296418,\"name\":null,\"blurb\":null,\"background_color\":null,\"text_color\":null,\"link_background_color\":null,\"link_text_color...</td>\n",
       "      <td>dreamcatcher-games</td>\n",
       "      <td>https://www.kickstarter.com/discover/categories/games/mobile%20games</td>\n",
       "      <td>False</td>\n",
       "      <td>False</td>\n",
       "      <td>failed</td>\n",
       "      <td>1495025970</td>\n",
       "      <td>1.283700</td>\n",
       "      <td>{\"web\":{\"project\":\"https://www.kickstarter.com/projects/dreamcatchercomics/dreamcatcher-games?ref=discovery_category_newest\",\"rewards\":\"https://www.kickstarter.com/projects/dreamcatchercomics/drea...</td>\n",
       "      <td>64.185017</td>\n",
       "      <td>international</td>\n",
       "      <td>2017-04-27</td>\n",
       "      <td>2017-05-17</td>\n",
       "      <td>2017-04-15</td>\n",
       "      <td>20 days</td>\n",
       "      <td>12 days</td>\n",
       "      <td>2017</td>\n",
       "      <td>04</td>\n",
       "      <td>27</td>\n",
       "    </tr>\n",
       "    <tr>\n",
       "      <th>3</th>\n",
       "      <td>92</td>\n",
       "      <td>We write D&amp;D gaming modules that make the game mastering experience as easy as it is for the players. Welcome to the Common Lands!</td>\n",
       "      <td>{\"id\":34,\"name\":\"Tabletop Games\",\"analytics_name\":\"Tabletop Games\",\"slug\":\"games/tabletop games\",\"position\":6,\"parent_id\":12,\"parent_name\":\"Games\",\"color\":51627,\"urls\":{\"web\":{\"discover\":\"http://w...</td>\n",
       "      <td>6223</td>\n",
       "      <td>US</td>\n",
       "      <td>the United States</td>\n",
       "      <td>{\"id\":899047186,\"name\":\"Cory J. Burns\",\"slug\":\"thecommonlands\",\"is_registered\":null,\"is_email_verified\":null,\"chosen_currency\":null,\"is_superbacker\":null,\"avatar\":{\"thumb\":\"https://ksr-ugc.imgix.n...</td>\n",
       "      <td>USD</td>\n",
       "      <td>$</td>\n",
       "      <td>True</td>\n",
       "      <td>USD</td>\n",
       "      <td>False</td>\n",
       "      <td>NaN</td>\n",
       "      <td>1.000000</td>\n",
       "      <td>5000</td>\n",
       "      <td>1462846972</td>\n",
       "      <td>NaN</td>\n",
       "      <td>False</td>\n",
       "      <td>NaN</td>\n",
       "      <td>{\"id\":2379574,\"name\":\"Chicago\",\"slug\":\"chicago-il\",\"short_name\":\"Chicago, IL\",\"displayable_name\":\"Chicago, IL\",\"localized_name\":\"Chicago\",\"country\":\"US\",\"state\":\"IL\",\"type\":\"Town\",\"is_root\":false,...</td>\n",
       "      <td>Felbar's Shoppe of Curiosities and Occult for 5th Edition</td>\n",
       "      <td>NaN</td>\n",
       "      <td>{\"key\":\"assets/031/677/529/0f4e2fcf1cb9c1c838af51fdf8862e3e_original.png\",\"full\":\"https://ksr-ugc.imgix.net/assets/031/677/529/0f4e2fcf1cb9c1c838af51fdf8862e3e_original.png?ixlib=rb-2.1.0&amp;crop=fac...</td>\n",
       "      <td>6223.00</td>\n",
       "      <td>{\"id\":4102301,\"project_id\":4102301,\"state\":\"inactive\",\"state_changed_at\":1604510331,\"name\":null,\"blurb\":null,\"background_color\":null,\"text_color\":null,\"link_background_color\":null,\"link_text_color...</td>\n",
       "      <td>felbars-shoppe-of-curiosities-and-occult</td>\n",
       "      <td>https://www.kickstarter.com/discover/categories/games</td>\n",
       "      <td>True</td>\n",
       "      <td>False</td>\n",
       "      <td>successful</td>\n",
       "      <td>1609738201</td>\n",
       "      <td>1.000000</td>\n",
       "      <td>{\"web\":{\"project\":\"https://www.kickstarter.com/projects/thecommonlands/felbars-shoppe-of-curiosities-and-occult?ref=discovery_category_newest\",\"rewards\":\"https://www.kickstarter.com/projects/theco...</td>\n",
       "      <td>6223.000000</td>\n",
       "      <td>international</td>\n",
       "      <td>2020-11-12</td>\n",
       "      <td>2021-01-04</td>\n",
       "      <td>2020-11-04</td>\n",
       "      <td>53 days</td>\n",
       "      <td>8 days</td>\n",
       "      <td>2020</td>\n",
       "      <td>11</td>\n",
       "      <td>12</td>\n",
       "    </tr>\n",
       "    <tr>\n",
       "      <th>4</th>\n",
       "      <td>128</td>\n",
       "      <td>Wander creates high quality, hand-crafted, functional adaptogenic pantry staples for everyday use. Organic + Vegan + Global Fair Trade</td>\n",
       "      <td>{\"id\":313,\"name\":\"Small Batch\",\"analytics_name\":\"Small Batch\",\"slug\":\"food/small batch\",\"position\":10,\"parent_id\":10,\"parent_name\":\"Food\",\"color\":16725570,\"urls\":{\"web\":{\"discover\":\"http://www.kic...</td>\n",
       "      <td>10448</td>\n",
       "      <td>US</td>\n",
       "      <td>the United States</td>\n",
       "      <td>{\"id\":354732308,\"name\":\"Wander Foods\",\"slug\":\"wanderfoods\",\"is_registered\":null,\"is_email_verified\":null,\"chosen_currency\":null,\"is_superbacker\":null,\"avatar\":{\"thumb\":\"https://ksr-ugc.imgix.net/a...</td>\n",
       "      <td>USD</td>\n",
       "      <td>$</td>\n",
       "      <td>True</td>\n",
       "      <td>USD</td>\n",
       "      <td>False</td>\n",
       "      <td>NaN</td>\n",
       "      <td>1.000000</td>\n",
       "      <td>10000</td>\n",
       "      <td>1635933643</td>\n",
       "      <td>NaN</td>\n",
       "      <td>False</td>\n",
       "      <td>NaN</td>\n",
       "      <td>{\"id\":12589335,\"name\":\"Brooklyn\",\"slug\":\"brooklyn-ny\",\"short_name\":\"Brooklyn, NY\",\"displayable_name\":\"Brooklyn, NY\",\"localized_name\":\"Brooklyn\",\"country\":\"US\",\"state\":\"NY\",\"type\":\"County\",\"is_root...</td>\n",
       "      <td>Wander: Flavorful and Functional Pantry Staples</td>\n",
       "      <td>NaN</td>\n",
       "      <td>{\"key\":\"assets/030/595/766/a1598df9a293a692dcf5f7eddf4fcfff_original.jpg\",\"full\":\"https://ksr-ugc.imgix.net/assets/030/595/766/a1598df9a293a692dcf5f7eddf4fcfff_original.jpg?ixlib=rb-2.1.0&amp;crop=fac...</td>\n",
       "      <td>10448.00</td>\n",
       "      <td>{\"id\":4036864,\"project_id\":4036864,\"state\":\"inactive\",\"state_changed_at\":1595259627,\"name\":null,\"blurb\":null,\"background_color\":null,\"text_color\":null,\"link_background_color\":null,\"link_text_color...</td>\n",
       "      <td>wander-flavorful-and-functional-pantry-staples</td>\n",
       "      <td>https://www.kickstarter.com/discover/categories/food/small%20batch</td>\n",
       "      <td>True</td>\n",
       "      <td>False</td>\n",
       "      <td>successful</td>\n",
       "      <td>1604073600</td>\n",
       "      <td>1.000000</td>\n",
       "      <td>{\"web\":{\"project\":\"https://www.kickstarter.com/projects/wanderfoods/wander-flavorful-and-functional-pantry-staples?ref=discovery_category_newest\",\"rewards\":\"https://www.kickstarter.com/projects/wa...</td>\n",
       "      <td>10448.000000</td>\n",
       "      <td>international</td>\n",
       "      <td>2020-10-01</td>\n",
       "      <td>2020-10-30</td>\n",
       "      <td>2020-07-20</td>\n",
       "      <td>29 days</td>\n",
       "      <td>73 days</td>\n",
       "      <td>2020</td>\n",
       "      <td>10</td>\n",
       "      <td>01</td>\n",
       "    </tr>\n",
       "  </tbody>\n",
       "</table>\n",
       "</div>"
      ],
      "text/plain": [
       "   backers_count  \\\n",
       "0              0   \n",
       "1            454   \n",
       "2              1   \n",
       "3             92   \n",
       "4            128   \n",
       "\n",
       "                                                                                                                                    blurb  \\\n",
       "0             A humble little Astro traveling around brewing up fresh coffee and hot meals at National Parks, Rock Gyms, and Trail heads.   \n",
       "1                                               Spooky ghost miniatures for tabletop gaming, RPG, DnD. Great for undead themed campaigns.   \n",
       "2  As a part of Dreamcatcher Comics we will be starting a gaming department. We currently require funding to cover costs of software etc.   \n",
       "3      We write D&D gaming modules that make the game mastering experience as easy as it is for the players. Welcome to the Common Lands!   \n",
       "4  Wander creates high quality, hand-crafted, functional adaptogenic pantry staples for everyday use. Organic + Vegan + Global Fair Trade   \n",
       "\n",
       "                                                                                                                                                                                                  category  \\\n",
       "0  {\"id\":311,\"name\":\"Food Trucks\",\"analytics_name\":\"Food Trucks\",\"slug\":\"food/food trucks\",\"position\":8,\"parent_id\":10,\"parent_name\":\"Food\",\"color\":16725570,\"urls\":{\"web\":{\"discover\":\"http://www.kick...   \n",
       "1  {\"id\":34,\"name\":\"Tabletop Games\",\"analytics_name\":\"Tabletop Games\",\"slug\":\"games/tabletop games\",\"position\":6,\"parent_id\":12,\"parent_name\":\"Games\",\"color\":51627,\"urls\":{\"web\":{\"discover\":\"http://w...   \n",
       "2  {\"id\":272,\"name\":\"Mobile Games\",\"analytics_name\":\"Mobile Games\",\"slug\":\"games/mobile games\",\"position\":3,\"parent_id\":12,\"parent_name\":\"Games\",\"color\":51627,\"urls\":{\"web\":{\"discover\":\"http://www.ki...   \n",
       "3  {\"id\":34,\"name\":\"Tabletop Games\",\"analytics_name\":\"Tabletop Games\",\"slug\":\"games/tabletop games\",\"position\":6,\"parent_id\":12,\"parent_name\":\"Games\",\"color\":51627,\"urls\":{\"web\":{\"discover\":\"http://w...   \n",
       "4  {\"id\":313,\"name\":\"Small Batch\",\"analytics_name\":\"Small Batch\",\"slug\":\"food/small batch\",\"position\":10,\"parent_id\":10,\"parent_name\":\"Food\",\"color\":16725570,\"urls\":{\"web\":{\"discover\":\"http://www.kic...   \n",
       "\n",
       "   converted_pledged_amount country country_displayable_name  \\\n",
       "0                         0      US        the United States   \n",
       "1                     17010      DK                  Denmark   \n",
       "2                        64      GB       the United Kingdom   \n",
       "3                      6223      US        the United States   \n",
       "4                     10448      US        the United States   \n",
       "\n",
       "                                                                                                                                                                                                   creator  \\\n",
       "0  {\"id\":939819973,\"name\":\"Daniel Sanchez\",\"is_registered\":null,\"is_email_verified\":null,\"chosen_currency\":null,\"is_superbacker\":null,\"avatar\":{\"thumb\":\"https://ksr-ugc.imgix.net/assets/017/204/442/4...   \n",
       "1  {\"id\":1449949486,\"name\":\"Fleshcraft Studio\",\"slug\":\"fleshcraftstudio\",\"is_registered\":null,\"is_email_verified\":null,\"chosen_currency\":null,\"is_superbacker\":null,\"avatar\":{\"thumb\":\"https://ksr-ugc....   \n",
       "2  {\"id\":1942869476,\"name\":\"Sebastian\",\"slug\":\"dreamcatchercomics\",\"is_registered\":null,\"is_email_verified\":null,\"chosen_currency\":null,\"is_superbacker\":null,\"avatar\":{\"thumb\":\"https://ksr-ugc.imgix....   \n",
       "3  {\"id\":899047186,\"name\":\"Cory J. Burns\",\"slug\":\"thecommonlands\",\"is_registered\":null,\"is_email_verified\":null,\"chosen_currency\":null,\"is_superbacker\":null,\"avatar\":{\"thumb\":\"https://ksr-ugc.imgix.n...   \n",
       "4  {\"id\":354732308,\"name\":\"Wander Foods\",\"slug\":\"wanderfoods\",\"is_registered\":null,\"is_email_verified\":null,\"chosen_currency\":null,\"is_superbacker\":null,\"avatar\":{\"thumb\":\"https://ksr-ugc.imgix.net/a...   \n",
       "\n",
       "  currency currency_symbol  currency_trailing_code current_currency  \\\n",
       "0      USD               $                    True              USD   \n",
       "1      DKK              kr                    True              USD   \n",
       "2      GBP               £                   False              USD   \n",
       "3      USD               $                    True              USD   \n",
       "4      USD               $                    True              USD   \n",
       "\n",
       "   disable_communication friends   fx_rate   goal          id is_backing  \\\n",
       "0                  False     NaN  1.000000   1000  1166044523        NaN   \n",
       "1                  False     NaN  0.161007   7500   986370978        NaN   \n",
       "2                  False     NaN  1.377223    500  2059825834        NaN   \n",
       "3                  False     NaN  1.000000   5000  1462846972        NaN   \n",
       "4                  False     NaN  1.000000  10000  1635933643        NaN   \n",
       "\n",
       "   is_starrable is_starred  \\\n",
       "0         False        NaN   \n",
       "1         False        NaN   \n",
       "2         False        NaN   \n",
       "3         False        NaN   \n",
       "4         False        NaN   \n",
       "\n",
       "                                                                                                                                                                                                  location  \\\n",
       "0  {\"id\":2475687,\"name\":\"Portland\",\"slug\":\"portland-or\",\"short_name\":\"Portland, OR\",\"displayable_name\":\"Portland, OR\",\"localized_name\":\"Portland\",\"country\":\"US\",\"state\":\"OR\",\"type\":\"Town\",\"is_root\":f...   \n",
       "1  {\"id\":557827,\"name\":\"Svendborg\",\"slug\":\"svendborg-dk\",\"short_name\":\"Svendborg, Denmark\",\"displayable_name\":\"Svendborg, Denmark\",\"localized_name\":\"Svendborg\",\"country\":\"DK\",\"state\":\"Syddanmark\",\"ty...   \n",
       "2  {\"id\":19612,\"name\":\"Enfield\",\"slug\":\"enfield-london-gb\",\"short_name\":\"Enfield, UK\",\"displayable_name\":\"Enfield, UK\",\"localized_name\":\"Enfield\",\"country\":\"GB\",\"state\":\"England\",\"type\":\"Suburb\",\"is_...   \n",
       "3  {\"id\":2379574,\"name\":\"Chicago\",\"slug\":\"chicago-il\",\"short_name\":\"Chicago, IL\",\"displayable_name\":\"Chicago, IL\",\"localized_name\":\"Chicago\",\"country\":\"US\",\"state\":\"IL\",\"type\":\"Town\",\"is_root\":false,...   \n",
       "4  {\"id\":12589335,\"name\":\"Brooklyn\",\"slug\":\"brooklyn-ny\",\"short_name\":\"Brooklyn, NY\",\"displayable_name\":\"Brooklyn, NY\",\"localized_name\":\"Brooklyn\",\"country\":\"US\",\"state\":\"NY\",\"type\":\"County\",\"is_root...   \n",
       "\n",
       "                                                        name permissions  \\\n",
       "0                        CrimpCoffee: Good Coffee Good Times         NaN   \n",
       "1      Spawns of the Great Rot - Printable stl 3d miniatures         NaN   \n",
       "2                                         Dreamcatcher Games         NaN   \n",
       "3  Felbar's Shoppe of Curiosities and Occult for 5th Edition         NaN   \n",
       "4            Wander: Flavorful and Functional Pantry Staples         NaN   \n",
       "\n",
       "                                                                                                                                                                                                     photo  \\\n",
       "0  {\"key\":\"assets/017/204/299/11b86dcad20a73f1882c9ba5649a6f4f_original.png\",\"full\":\"https://ksr-ugc.imgix.net/assets/017/204/299/11b86dcad20a73f1882c9ba5649a6f4f_original.png?ixlib=rb-2.1.0&crop=fac...   \n",
       "1  {\"key\":\"assets/031/378/029/0463bccb1bb9ac99bc7f8f8d22d1ec42_original.png\",\"full\":\"https://ksr-ugc.imgix.net/assets/031/378/029/0463bccb1bb9ac99bc7f8f8d22d1ec42_original.png?ixlib=rb-2.1.0&crop=fac...   \n",
       "2  {\"key\":\"assets/016/272/743/7285d141aaf3b1a29f6b9be7351f9762_original.jpg\",\"full\":\"https://ksr-ugc.imgix.net/assets/016/272/743/7285d141aaf3b1a29f6b9be7351f9762_original.jpg?ixlib=rb-2.1.0&crop=fac...   \n",
       "3  {\"key\":\"assets/031/677/529/0f4e2fcf1cb9c1c838af51fdf8862e3e_original.png\",\"full\":\"https://ksr-ugc.imgix.net/assets/031/677/529/0f4e2fcf1cb9c1c838af51fdf8862e3e_original.png?ixlib=rb-2.1.0&crop=fac...   \n",
       "4  {\"key\":\"assets/030/595/766/a1598df9a293a692dcf5f7eddf4fcfff_original.jpg\",\"full\":\"https://ksr-ugc.imgix.net/assets/030/595/766/a1598df9a293a692dcf5f7eddf4fcfff_original.jpg?ixlib=rb-2.1.0&crop=fac...   \n",
       "\n",
       "     pledged  \\\n",
       "0       0.00   \n",
       "1  104176.17   \n",
       "2      50.00   \n",
       "3    6223.00   \n",
       "4   10448.00   \n",
       "\n",
       "                                                                                                                                                                                                   profile  \\\n",
       "0  {\"id\":3047341,\"project_id\":3047341,\"state\":\"inactive\",\"state_changed_at\":1498065534,\"name\":null,\"blurb\":null,\"background_color\":null,\"text_color\":null,\"link_background_color\":null,\"link_text_color...   \n",
       "1  {\"id\":4097429,\"project_id\":4097429,\"state\":\"active\",\"state_changed_at\":1607952554,\"name\":\"Spawns of the Great Rot - Printable stl 3d miniatures\",\"blurb\":\"Spooky ghost miniatures for tabletop gamin...   \n",
       "2  {\"id\":2963211,\"project_id\":2963211,\"state\":\"inactive\",\"state_changed_at\":1492296418,\"name\":null,\"blurb\":null,\"background_color\":null,\"text_color\":null,\"link_background_color\":null,\"link_text_color...   \n",
       "3  {\"id\":4102301,\"project_id\":4102301,\"state\":\"inactive\",\"state_changed_at\":1604510331,\"name\":null,\"blurb\":null,\"background_color\":null,\"text_color\":null,\"link_background_color\":null,\"link_text_color...   \n",
       "4  {\"id\":4036864,\"project_id\":4036864,\"state\":\"inactive\",\"state_changed_at\":1595259627,\"name\":null,\"blurb\":null,\"background_color\":null,\"text_color\":null,\"link_background_color\":null,\"link_text_color...   \n",
       "\n",
       "                                                  slug  \\\n",
       "0                   crimpcoffee-good-coffee-good-times   \n",
       "1  spawns-of-the-great-rot-printable-stl-3d-miniatures   \n",
       "2                                   dreamcatcher-games   \n",
       "3             felbars-shoppe-of-curiosities-and-occult   \n",
       "4       wander-flavorful-and-functional-pantry-staples   \n",
       "\n",
       "                                                             source_url  \\\n",
       "0    https://www.kickstarter.com/discover/categories/food/food%20trucks   \n",
       "1                 https://www.kickstarter.com/discover/categories/games   \n",
       "2  https://www.kickstarter.com/discover/categories/games/mobile%20games   \n",
       "3                 https://www.kickstarter.com/discover/categories/games   \n",
       "4    https://www.kickstarter.com/discover/categories/food/small%20batch   \n",
       "\n",
       "   spotlight  staff_pick       state  state_changed_at  static_usd_rate  \\\n",
       "0      False       False      failed        1500766709         1.000000   \n",
       "1       True       False  successful        1607716729         0.158957   \n",
       "2      False       False      failed        1495025970         1.283700   \n",
       "3       True       False  successful        1609738201         1.000000   \n",
       "4       True       False  successful        1604073600         1.000000   \n",
       "\n",
       "                                                                                                                                                                                                      urls  \\\n",
       "0  {\"web\":{\"project\":\"https://www.kickstarter.com/projects/939819973/crimpcoffee-good-coffee-good-times?ref=discovery_category_newest\",\"rewards\":\"https://www.kickstarter.com/projects/939819973/crimpc...   \n",
       "1  {\"web\":{\"project\":\"https://www.kickstarter.com/projects/fleshcraftstudio/spawns-of-the-great-rot-printable-stl-3d-miniatures?ref=discovery_category_newest\",\"rewards\":\"https://www.kickstarter.com/p...   \n",
       "2  {\"web\":{\"project\":\"https://www.kickstarter.com/projects/dreamcatchercomics/dreamcatcher-games?ref=discovery_category_newest\",\"rewards\":\"https://www.kickstarter.com/projects/dreamcatchercomics/drea...   \n",
       "3  {\"web\":{\"project\":\"https://www.kickstarter.com/projects/thecommonlands/felbars-shoppe-of-curiosities-and-occult?ref=discovery_category_newest\",\"rewards\":\"https://www.kickstarter.com/projects/theco...   \n",
       "4  {\"web\":{\"project\":\"https://www.kickstarter.com/projects/wanderfoods/wander-flavorful-and-functional-pantry-staples?ref=discovery_category_newest\",\"rewards\":\"https://www.kickstarter.com/projects/wa...   \n",
       "\n",
       "    usd_pledged       usd_type Launched_at   Deadline    Created  \\\n",
       "0      0.000000  international  2017-06-22 2017-07-22 2017-06-21   \n",
       "1  16559.556457  international  2020-11-11 2020-12-11 2020-10-27   \n",
       "2     64.185017  international  2017-04-27 2017-05-17 2017-04-15   \n",
       "3   6223.000000  international  2020-11-12 2021-01-04 2020-11-04   \n",
       "4  10448.000000  international  2020-10-01 2020-10-30 2020-07-20   \n",
       "\n",
       "  Launch_Period Created_to_Launch Launch_Year Launch_Month Launch_Day  \n",
       "0       30 days            1 days        2017           06         22  \n",
       "1       30 days           15 days        2020           11         11  \n",
       "2       20 days           12 days        2017           04         27  \n",
       "3       53 days            8 days        2020           11         12  \n",
       "4       29 days           73 days        2020           10         01  "
      ]
     },
     "execution_count": 1083,
     "metadata": {},
     "output_type": "execute_result"
    }
   ],
   "source": [
    "data.head()"
   ]
  },
  {
   "cell_type": "markdown",
   "id": "assured-fundamental",
   "metadata": {},
   "source": [
    "### name,blurb conversion"
   ]
  },
  {
   "cell_type": "code",
   "execution_count": 1084,
   "id": "brave-insertion",
   "metadata": {},
   "outputs": [],
   "source": [
    "data['blurb_words_count'] = data['blurb'].str.split().str.len()\n",
    "data['name_words_count'] = data['name'].str.split().str.len()"
   ]
  },
  {
   "cell_type": "code",
   "execution_count": 1085,
   "id": "varied-memorial",
   "metadata": {},
   "outputs": [
    {
     "data": {
      "text/plain": [
       "0       21\n",
       "1       13\n",
       "2       23\n",
       "3       24\n",
       "4       19\n",
       "        ..\n",
       "3665     6\n",
       "3666     8\n",
       "3667    16\n",
       "3668    17\n",
       "3669    22\n",
       "Name: blurb_words_count, Length: 3670, dtype: int64"
      ]
     },
     "execution_count": 1085,
     "metadata": {},
     "output_type": "execute_result"
    }
   ],
   "source": [
    "data['blurb_words_count']"
   ]
  },
  {
   "cell_type": "code",
   "execution_count": 1086,
   "id": "alternative-genesis",
   "metadata": {},
   "outputs": [
    {
     "data": {
      "text/plain": [
       "0        5\n",
       "1       10\n",
       "2        2\n",
       "3        9\n",
       "4        6\n",
       "        ..\n",
       "3665     5\n",
       "3666     4\n",
       "3667     9\n",
       "3668     4\n",
       "3669     8\n",
       "Name: name_words_count, Length: 3670, dtype: int64"
      ]
     },
     "execution_count": 1086,
     "metadata": {},
     "output_type": "execute_result"
    }
   ],
   "source": [
    "data['name_words_count']"
   ]
  },
  {
   "cell_type": "code",
   "execution_count": 1087,
   "id": "billion-christmas",
   "metadata": {},
   "outputs": [],
   "source": [
    "data=data.drop(['blurb','name'],axis = 1)"
   ]
  },
  {
   "cell_type": "markdown",
   "id": "expanded-sensitivity",
   "metadata": {},
   "source": [
    "### Goal change to usd"
   ]
  },
  {
   "cell_type": "code",
   "execution_count": 1088,
   "id": "angry-casino",
   "metadata": {},
   "outputs": [],
   "source": [
    "# Calculate new column 'usd_goal' as goal * static_usd_rate\n",
    "data['usd_goal'] = round(data['goal'] * data['static_usd_rate'],2)"
   ]
  },
  {
   "cell_type": "code",
   "execution_count": 1089,
   "id": "spiritual-independence",
   "metadata": {},
   "outputs": [],
   "source": [
    "data=data.drop(['goal','static_usd_rate'],axis = 1)"
   ]
  },
  {
   "cell_type": "markdown",
   "id": "abroad-voluntary",
   "metadata": {},
   "source": [
    "### category"
   ]
  },
  {
   "cell_type": "code",
   "execution_count": 1090,
   "id": "computational-apollo",
   "metadata": {},
   "outputs": [
    {
     "data": {
      "text/plain": [
       "'https://www.kickstarter.com/discover/categories/games'"
      ]
     },
     "execution_count": 1090,
     "metadata": {},
     "output_type": "execute_result"
    }
   ],
   "source": [
    "data['source_url'][3]"
   ]
  },
  {
   "cell_type": "code",
   "execution_count": 1091,
   "id": "suited-typing",
   "metadata": {},
   "outputs": [
    {
     "data": {
      "text/plain": [
       "'{\"id\":272,\"name\":\"Mobile Games\",\"analytics_name\":\"Mobile Games\",\"slug\":\"games/mobile games\",\"position\":3,\"parent_id\":12,\"parent_name\":\"Games\",\"color\":51627,\"urls\":{\"web\":{\"discover\":\"http://www.kickstarter.com/discover/categories/games/mobile%20games\"}}}'"
      ]
     },
     "execution_count": 1091,
     "metadata": {},
     "output_type": "execute_result"
    }
   ],
   "source": [
    "data['category'][2]"
   ]
  },
  {
   "cell_type": "code",
   "execution_count": 1092,
   "id": "phantom-liberal",
   "metadata": {},
   "outputs": [
    {
     "data": {
      "text/plain": [
       "film%20&%20video    926\n",
       "music               897\n",
       "food                471\n",
       "publishing          372\n",
       "fashion             341\n",
       "journalism          244\n",
       "games               190\n",
       "technology          131\n",
       "design               56\n",
       "dance                21\n",
       "crafts               21\n",
       "Name: Main_Categories, dtype: int64"
      ]
     },
     "execution_count": 1092,
     "metadata": {},
     "output_type": "execute_result"
    }
   ],
   "source": [
    "data['Main_Categories'] = data['source_url'].apply(lambda df:df.split('/')[5])\n",
    "data['Main_Categories'].value_counts()"
   ]
  },
  {
   "cell_type": "code",
   "execution_count": 1093,
   "id": "stock-transcription",
   "metadata": {},
   "outputs": [],
   "source": [
    "data=data.drop(['category'],axis = 1)"
   ]
  },
  {
   "cell_type": "markdown",
   "id": "brutal-germany",
   "metadata": {},
   "source": [
    "### Check and drop unessary columns"
   ]
  },
  {
   "cell_type": "code",
   "execution_count": 1094,
   "id": "honest-vacation",
   "metadata": {},
   "outputs": [
    {
     "data": {
      "text/plain": [
       "'{\"id\":3047341,\"project_id\":3047341,\"state\":\"inactive\",\"state_changed_at\":1498065534,\"name\":null,\"blurb\":null,\"background_color\":null,\"text_color\":null,\"link_background_color\":null,\"link_text_color\":null,\"link_text\":null,\"link_url\":null,\"show_feature_image\":false,\"background_image_opacity\":0.8,\"should_show_feature_image_section\":true,\"feature_image_attributes\":{\"image_urls\":{\"default\":\"https://ksr-ugc.imgix.net/assets/017/204/299/11b86dcad20a73f1882c9ba5649a6f4f_original.png?ixlib=rb-2.1.0&crop=faces&w=1552&h=873&fit=crop&v=1498082603&auto=format&frame=1&q=92&s=2a22afe531dab3c02926c6af572c563a\",\"baseball_card\":\"https://ksr-ugc.imgix.net/assets/017/204/299/11b86dcad20a73f1882c9ba5649a6f4f_original.png?ixlib=rb-2.1.0&crop=faces&w=560&h=315&fit=crop&v=1498082603&auto=format&frame=1&q=92&s=0a46e80ce182bddafde5f475b6b9c0fa\"}}}'"
      ]
     },
     "execution_count": 1094,
     "metadata": {},
     "output_type": "execute_result"
    }
   ],
   "source": [
    "data['profile'][0]"
   ]
  },
  {
   "cell_type": "code",
   "execution_count": 1095,
   "id": "lucky-finish",
   "metadata": {},
   "outputs": [
    {
     "data": {
      "text/plain": [
       "0                          crimpcoffee-good-coffee-good-times\n",
       "1         spawns-of-the-great-rot-printable-stl-3d-miniatures\n",
       "2                                          dreamcatcher-games\n",
       "3                    felbars-shoppe-of-curiosities-and-occult\n",
       "4              wander-flavorful-and-functional-pantry-staples\n",
       "                                ...                          \n",
       "3665                      blood-and-thunder-automatic-watches\n",
       "3666                           creature-comfort-throw-blanket\n",
       "3667    ifidget-bracelet-fidget-at-your-fingertips-discreetly\n",
       "3668                     dance-aegis-premieres-fission-fusion\n",
       "3669                                                  snactiv\n",
       "Name: slug, Length: 3670, dtype: object"
      ]
     },
     "execution_count": 1095,
     "metadata": {},
     "output_type": "execute_result"
    }
   ],
   "source": [
    "data['slug']"
   ]
  },
  {
   "cell_type": "code",
   "execution_count": 1096,
   "id": "devoted-patch",
   "metadata": {},
   "outputs": [
    {
     "data": {
      "text/plain": [
       "False    3670\n",
       "Name: disable_communication, dtype: int64"
      ]
     },
     "execution_count": 1096,
     "metadata": {},
     "output_type": "execute_result"
    }
   ],
   "source": [
    "data['disable_communication'].value_counts()"
   ]
  },
  {
   "cell_type": "code",
   "execution_count": 1097,
   "id": "anonymous-richards",
   "metadata": {},
   "outputs": [
    {
     "data": {
      "text/plain": [
       "False    3582\n",
       "True       88\n",
       "Name: is_starrable, dtype: int64"
      ]
     },
     "execution_count": 1097,
     "metadata": {},
     "output_type": "execute_result"
    }
   ],
   "source": [
    "data['is_starrable'].value_counts()"
   ]
  },
  {
   "cell_type": "code",
   "execution_count": 1098,
   "id": "perceived-assessment",
   "metadata": {},
   "outputs": [
    {
     "data": {
      "text/plain": [
       "[]    2\n",
       "Name: permissions, dtype: int64"
      ]
     },
     "execution_count": 1098,
     "metadata": {},
     "output_type": "execute_result"
    }
   ],
   "source": [
    "data['permissions'].value_counts()"
   ]
  },
  {
   "cell_type": "code",
   "execution_count": 1099,
   "id": "minus-ancient",
   "metadata": {},
   "outputs": [
    {
     "data": {
      "text/plain": [
       "USD    3666\n",
       "CAD       2\n",
       "EUR       2\n",
       "Name: current_currency, dtype: int64"
      ]
     },
     "execution_count": 1099,
     "metadata": {},
     "output_type": "execute_result"
    }
   ],
   "source": [
    "data['current_currency'].value_counts()"
   ]
  },
  {
   "cell_type": "code",
   "execution_count": 1100,
   "id": "professional-cigarette",
   "metadata": {},
   "outputs": [
    {
     "data": {
      "text/plain": [
       "international    3664\n",
       "domestic            2\n",
       "Name: usd_type, dtype: int64"
      ]
     },
     "execution_count": 1100,
     "metadata": {},
     "output_type": "execute_result"
    }
   ],
   "source": [
    "data['usd_type'].value_counts()"
   ]
  },
  {
   "cell_type": "code",
   "execution_count": 1101,
   "id": "mysterious-password",
   "metadata": {},
   "outputs": [
    {
     "data": {
      "text/plain": [
       "[]    2\n",
       "Name: friends, dtype: int64"
      ]
     },
     "execution_count": 1101,
     "metadata": {},
     "output_type": "execute_result"
    }
   ],
   "source": [
    "data['friends'].value_counts()"
   ]
  },
  {
   "cell_type": "code",
   "execution_count": 1102,
   "id": "derived-bundle",
   "metadata": {},
   "outputs": [
    {
     "data": {
      "text/plain": [
       "False    2\n",
       "Name: is_backing, dtype: int64"
      ]
     },
     "execution_count": 1102,
     "metadata": {},
     "output_type": "execute_result"
    }
   ],
   "source": [
    "data['is_backing'].value_counts()"
   ]
  },
  {
   "cell_type": "code",
   "execution_count": 1103,
   "id": "acoustic-thickness",
   "metadata": {},
   "outputs": [
    {
     "data": {
      "text/plain": [
       "array([nan, False], dtype=object)"
      ]
     },
     "execution_count": 1103,
     "metadata": {},
     "output_type": "execute_result"
    }
   ],
   "source": [
    "data['is_starred'].unique()"
   ]
  },
  {
   "cell_type": "code",
   "execution_count": 1104,
   "id": "romance-laptop",
   "metadata": {},
   "outputs": [
    {
     "data": {
      "text/plain": [
       "False    3225\n",
       "True      445\n",
       "Name: staff_pick, dtype: int64"
      ]
     },
     "execution_count": 1104,
     "metadata": {},
     "output_type": "execute_result"
    }
   ],
   "source": [
    "data['staff_pick'].value_counts()"
   ]
  },
  {
   "cell_type": "code",
   "execution_count": 1105,
   "id": "current-antarctica",
   "metadata": {},
   "outputs": [],
   "source": [
    "data = data.drop(['profile','is_starrable','is_starred','is_backing','converted_pledged_amount','country_displayable_name','friends','disable_communication','currency_symbol','currency_trailing_code','creator','usd_type','state_changed_at','currency','current_currency','location','photo','permissions','pledged','slug','fx_rate','id','source_url','pledged'],axis = 1)"
   ]
  },
  {
   "cell_type": "code",
   "execution_count": 1106,
   "id": "official-fault",
   "metadata": {},
   "outputs": [
    {
     "data": {
      "text/html": [
       "<div>\n",
       "<style scoped>\n",
       "    .dataframe tbody tr th:only-of-type {\n",
       "        vertical-align: middle;\n",
       "    }\n",
       "\n",
       "    .dataframe tbody tr th {\n",
       "        vertical-align: top;\n",
       "    }\n",
       "\n",
       "    .dataframe thead th {\n",
       "        text-align: right;\n",
       "    }\n",
       "</style>\n",
       "<table border=\"1\" class=\"dataframe\">\n",
       "  <thead>\n",
       "    <tr style=\"text-align: right;\">\n",
       "      <th></th>\n",
       "      <th>backers_count</th>\n",
       "      <th>country</th>\n",
       "      <th>spotlight</th>\n",
       "      <th>staff_pick</th>\n",
       "      <th>state</th>\n",
       "      <th>urls</th>\n",
       "      <th>usd_pledged</th>\n",
       "      <th>Launched_at</th>\n",
       "      <th>Deadline</th>\n",
       "      <th>Created</th>\n",
       "      <th>Launch_Period</th>\n",
       "      <th>Created_to_Launch</th>\n",
       "      <th>Launch_Year</th>\n",
       "      <th>Launch_Month</th>\n",
       "      <th>Launch_Day</th>\n",
       "      <th>blurb_words_count</th>\n",
       "      <th>name_words_count</th>\n",
       "      <th>usd_goal</th>\n",
       "      <th>Main_Categories</th>\n",
       "    </tr>\n",
       "  </thead>\n",
       "  <tbody>\n",
       "    <tr>\n",
       "      <th>0</th>\n",
       "      <td>0</td>\n",
       "      <td>US</td>\n",
       "      <td>False</td>\n",
       "      <td>False</td>\n",
       "      <td>failed</td>\n",
       "      <td>{\"web\":{\"project\":\"https://www.kickstarter.com/projects/939819973/crimpcoffee-good-coffee-good-times?ref=discovery_category_newest\",\"rewards\":\"https://www.kickstarter.com/projects/939819973/crimpc...</td>\n",
       "      <td>0.000000</td>\n",
       "      <td>2017-06-22</td>\n",
       "      <td>2017-07-22</td>\n",
       "      <td>2017-06-21</td>\n",
       "      <td>30 days</td>\n",
       "      <td>1 days</td>\n",
       "      <td>2017</td>\n",
       "      <td>06</td>\n",
       "      <td>22</td>\n",
       "      <td>21</td>\n",
       "      <td>5</td>\n",
       "      <td>1000.00</td>\n",
       "      <td>food</td>\n",
       "    </tr>\n",
       "    <tr>\n",
       "      <th>1</th>\n",
       "      <td>454</td>\n",
       "      <td>DK</td>\n",
       "      <td>True</td>\n",
       "      <td>False</td>\n",
       "      <td>successful</td>\n",
       "      <td>{\"web\":{\"project\":\"https://www.kickstarter.com/projects/fleshcraftstudio/spawns-of-the-great-rot-printable-stl-3d-miniatures?ref=discovery_category_newest\",\"rewards\":\"https://www.kickstarter.com/p...</td>\n",
       "      <td>16559.556457</td>\n",
       "      <td>2020-11-11</td>\n",
       "      <td>2020-12-11</td>\n",
       "      <td>2020-10-27</td>\n",
       "      <td>30 days</td>\n",
       "      <td>15 days</td>\n",
       "      <td>2020</td>\n",
       "      <td>11</td>\n",
       "      <td>11</td>\n",
       "      <td>13</td>\n",
       "      <td>10</td>\n",
       "      <td>1192.18</td>\n",
       "      <td>games</td>\n",
       "    </tr>\n",
       "    <tr>\n",
       "      <th>2</th>\n",
       "      <td>1</td>\n",
       "      <td>GB</td>\n",
       "      <td>False</td>\n",
       "      <td>False</td>\n",
       "      <td>failed</td>\n",
       "      <td>{\"web\":{\"project\":\"https://www.kickstarter.com/projects/dreamcatchercomics/dreamcatcher-games?ref=discovery_category_newest\",\"rewards\":\"https://www.kickstarter.com/projects/dreamcatchercomics/drea...</td>\n",
       "      <td>64.185017</td>\n",
       "      <td>2017-04-27</td>\n",
       "      <td>2017-05-17</td>\n",
       "      <td>2017-04-15</td>\n",
       "      <td>20 days</td>\n",
       "      <td>12 days</td>\n",
       "      <td>2017</td>\n",
       "      <td>04</td>\n",
       "      <td>27</td>\n",
       "      <td>23</td>\n",
       "      <td>2</td>\n",
       "      <td>641.85</td>\n",
       "      <td>games</td>\n",
       "    </tr>\n",
       "    <tr>\n",
       "      <th>3</th>\n",
       "      <td>92</td>\n",
       "      <td>US</td>\n",
       "      <td>True</td>\n",
       "      <td>False</td>\n",
       "      <td>successful</td>\n",
       "      <td>{\"web\":{\"project\":\"https://www.kickstarter.com/projects/thecommonlands/felbars-shoppe-of-curiosities-and-occult?ref=discovery_category_newest\",\"rewards\":\"https://www.kickstarter.com/projects/theco...</td>\n",
       "      <td>6223.000000</td>\n",
       "      <td>2020-11-12</td>\n",
       "      <td>2021-01-04</td>\n",
       "      <td>2020-11-04</td>\n",
       "      <td>53 days</td>\n",
       "      <td>8 days</td>\n",
       "      <td>2020</td>\n",
       "      <td>11</td>\n",
       "      <td>12</td>\n",
       "      <td>24</td>\n",
       "      <td>9</td>\n",
       "      <td>5000.00</td>\n",
       "      <td>games</td>\n",
       "    </tr>\n",
       "    <tr>\n",
       "      <th>4</th>\n",
       "      <td>128</td>\n",
       "      <td>US</td>\n",
       "      <td>True</td>\n",
       "      <td>False</td>\n",
       "      <td>successful</td>\n",
       "      <td>{\"web\":{\"project\":\"https://www.kickstarter.com/projects/wanderfoods/wander-flavorful-and-functional-pantry-staples?ref=discovery_category_newest\",\"rewards\":\"https://www.kickstarter.com/projects/wa...</td>\n",
       "      <td>10448.000000</td>\n",
       "      <td>2020-10-01</td>\n",
       "      <td>2020-10-30</td>\n",
       "      <td>2020-07-20</td>\n",
       "      <td>29 days</td>\n",
       "      <td>73 days</td>\n",
       "      <td>2020</td>\n",
       "      <td>10</td>\n",
       "      <td>01</td>\n",
       "      <td>19</td>\n",
       "      <td>6</td>\n",
       "      <td>10000.00</td>\n",
       "      <td>food</td>\n",
       "    </tr>\n",
       "  </tbody>\n",
       "</table>\n",
       "</div>"
      ],
      "text/plain": [
       "   backers_count country  spotlight  staff_pick       state  \\\n",
       "0              0      US      False       False      failed   \n",
       "1            454      DK       True       False  successful   \n",
       "2              1      GB      False       False      failed   \n",
       "3             92      US       True       False  successful   \n",
       "4            128      US       True       False  successful   \n",
       "\n",
       "                                                                                                                                                                                                      urls  \\\n",
       "0  {\"web\":{\"project\":\"https://www.kickstarter.com/projects/939819973/crimpcoffee-good-coffee-good-times?ref=discovery_category_newest\",\"rewards\":\"https://www.kickstarter.com/projects/939819973/crimpc...   \n",
       "1  {\"web\":{\"project\":\"https://www.kickstarter.com/projects/fleshcraftstudio/spawns-of-the-great-rot-printable-stl-3d-miniatures?ref=discovery_category_newest\",\"rewards\":\"https://www.kickstarter.com/p...   \n",
       "2  {\"web\":{\"project\":\"https://www.kickstarter.com/projects/dreamcatchercomics/dreamcatcher-games?ref=discovery_category_newest\",\"rewards\":\"https://www.kickstarter.com/projects/dreamcatchercomics/drea...   \n",
       "3  {\"web\":{\"project\":\"https://www.kickstarter.com/projects/thecommonlands/felbars-shoppe-of-curiosities-and-occult?ref=discovery_category_newest\",\"rewards\":\"https://www.kickstarter.com/projects/theco...   \n",
       "4  {\"web\":{\"project\":\"https://www.kickstarter.com/projects/wanderfoods/wander-flavorful-and-functional-pantry-staples?ref=discovery_category_newest\",\"rewards\":\"https://www.kickstarter.com/projects/wa...   \n",
       "\n",
       "    usd_pledged Launched_at   Deadline    Created Launch_Period  \\\n",
       "0      0.000000  2017-06-22 2017-07-22 2017-06-21       30 days   \n",
       "1  16559.556457  2020-11-11 2020-12-11 2020-10-27       30 days   \n",
       "2     64.185017  2017-04-27 2017-05-17 2017-04-15       20 days   \n",
       "3   6223.000000  2020-11-12 2021-01-04 2020-11-04       53 days   \n",
       "4  10448.000000  2020-10-01 2020-10-30 2020-07-20       29 days   \n",
       "\n",
       "  Created_to_Launch Launch_Year Launch_Month Launch_Day  blurb_words_count  \\\n",
       "0            1 days        2017           06         22                 21   \n",
       "1           15 days        2020           11         11                 13   \n",
       "2           12 days        2017           04         27                 23   \n",
       "3            8 days        2020           11         12                 24   \n",
       "4           73 days        2020           10         01                 19   \n",
       "\n",
       "   name_words_count  usd_goal Main_Categories  \n",
       "0                 5   1000.00            food  \n",
       "1                10   1192.18           games  \n",
       "2                 2    641.85           games  \n",
       "3                 9   5000.00           games  \n",
       "4                 6  10000.00            food  "
      ]
     },
     "execution_count": 1106,
     "metadata": {},
     "output_type": "execute_result"
    }
   ],
   "source": [
    "data.head()"
   ]
  },
  {
   "cell_type": "code",
   "execution_count": 1107,
   "id": "judicial-projector",
   "metadata": {},
   "outputs": [
    {
     "name": "stdout",
     "output_type": "stream",
     "text": [
      "<class 'pandas.core.frame.DataFrame'>\n",
      "Int64Index: 3670 entries, 0 to 3669\n",
      "Data columns (total 19 columns):\n",
      " #   Column             Non-Null Count  Dtype          \n",
      "---  ------             --------------  -----          \n",
      " 0   backers_count      3670 non-null   int64          \n",
      " 1   country            3670 non-null   object         \n",
      " 2   spotlight          3670 non-null   bool           \n",
      " 3   staff_pick         3670 non-null   bool           \n",
      " 4   state              3670 non-null   object         \n",
      " 5   urls               3670 non-null   object         \n",
      " 6   usd_pledged        3670 non-null   float64        \n",
      " 7   Launched_at        3670 non-null   datetime64[ns] \n",
      " 8   Deadline           3670 non-null   datetime64[ns] \n",
      " 9   Created            3670 non-null   datetime64[ns] \n",
      " 10  Launch_Period      3670 non-null   timedelta64[ns]\n",
      " 11  Created_to_Launch  3670 non-null   timedelta64[ns]\n",
      " 12  Launch_Year        3670 non-null   object         \n",
      " 13  Launch_Month       3670 non-null   object         \n",
      " 14  Launch_Day         3670 non-null   object         \n",
      " 15  blurb_words_count  3670 non-null   int64          \n",
      " 16  name_words_count   3670 non-null   int64          \n",
      " 17  usd_goal           3670 non-null   float64        \n",
      " 18  Main_Categories    3670 non-null   object         \n",
      "dtypes: bool(2), datetime64[ns](3), float64(2), int64(3), object(7), timedelta64[ns](2)\n",
      "memory usage: 683.3+ KB\n"
     ]
    }
   ],
   "source": [
    "data.info()"
   ]
  },
  {
   "cell_type": "markdown",
   "id": "measured-cement",
   "metadata": {},
   "source": [
    "# Null Value Check"
   ]
  },
  {
   "cell_type": "code",
   "execution_count": 1108,
   "id": "saving-tournament",
   "metadata": {},
   "outputs": [
    {
     "data": {
      "text/plain": [
       "backers_count        0\n",
       "country              0\n",
       "spotlight            0\n",
       "staff_pick           0\n",
       "state                0\n",
       "urls                 0\n",
       "usd_pledged          0\n",
       "Launched_at          0\n",
       "Deadline             0\n",
       "Created              0\n",
       "Launch_Period        0\n",
       "Created_to_Launch    0\n",
       "Launch_Year          0\n",
       "Launch_Month         0\n",
       "Launch_Day           0\n",
       "blurb_words_count    0\n",
       "name_words_count     0\n",
       "usd_goal             0\n",
       "Main_Categories      0\n",
       "dtype: int64"
      ]
     },
     "execution_count": 1108,
     "metadata": {},
     "output_type": "execute_result"
    }
   ],
   "source": [
    "data.isnull().sum()"
   ]
  },
  {
   "cell_type": "markdown",
   "id": "elegant-paris",
   "metadata": {},
   "source": [
    "# Deal with Outliers"
   ]
  },
  {
   "cell_type": "code",
   "execution_count": 1109,
   "id": "protective-adjustment",
   "metadata": {},
   "outputs": [],
   "source": [
    "#sns.heatmap(data)"
   ]
  },
  {
   "cell_type": "code",
   "execution_count": 1110,
   "id": "supreme-member",
   "metadata": {},
   "outputs": [],
   "source": [
    "#sns.pairplot(data)"
   ]
  },
  {
   "cell_type": "code",
   "execution_count": 1111,
   "id": "serial-freeware",
   "metadata": {},
   "outputs": [
    {
     "name": "stderr",
     "output_type": "stream",
     "text": [
      "c:\\users\\grace\\appdata\\local\\programs\\python\\python38\\lib\\site-packages\\seaborn\\distributions.py:2557: FutureWarning: `distplot` is a deprecated function and will be removed in a future version. Please adapt your code to use either `displot` (a figure-level function with similar flexibility) or `histplot` (an axes-level function for histograms).\n",
      "  warnings.warn(msg, FutureWarning)\n"
     ]
    },
    {
     "data": {
      "text/plain": [
       "<AxesSubplot:xlabel='usd_pledged', ylabel='Density'>"
      ]
     },
     "execution_count": 1111,
     "metadata": {},
     "output_type": "execute_result"
    },
    {
     "data": {
      "image/png": "[encoded data removed]",
      "text/plain": [
       "<Figure size 432x288 with 1 Axes>"
      ]
     },
     "metadata": {
      "needs_background": "light"
     },
     "output_type": "display_data"
    }
   ],
   "source": [
    "sns.distplot(data['usd_pledged'])"
   ]
  },
  {
   "cell_type": "code",
   "execution_count": 1112,
   "id": "finished-junction",
   "metadata": {},
   "outputs": [
    {
     "data": {
      "text/html": [
       "<div>\n",
       "<style scoped>\n",
       "    .dataframe tbody tr th:only-of-type {\n",
       "        vertical-align: middle;\n",
       "    }\n",
       "\n",
       "    .dataframe tbody tr th {\n",
       "        vertical-align: top;\n",
       "    }\n",
       "\n",
       "    .dataframe thead th {\n",
       "        text-align: right;\n",
       "    }\n",
       "</style>\n",
       "<table border=\"1\" class=\"dataframe\">\n",
       "  <thead>\n",
       "    <tr style=\"text-align: right;\">\n",
       "      <th></th>\n",
       "      <th>backers_count</th>\n",
       "      <th>usd_pledged</th>\n",
       "      <th>Launch_Period</th>\n",
       "      <th>Created_to_Launch</th>\n",
       "      <th>blurb_words_count</th>\n",
       "      <th>name_words_count</th>\n",
       "      <th>usd_goal</th>\n",
       "    </tr>\n",
       "  </thead>\n",
       "  <tbody>\n",
       "    <tr>\n",
       "      <th>count</th>\n",
       "      <td>3670.000000</td>\n",
       "      <td>3.670000e+03</td>\n",
       "      <td>3670</td>\n",
       "      <td>3670</td>\n",
       "      <td>3670.000000</td>\n",
       "      <td>3670.000000</td>\n",
       "      <td>3.670000e+03</td>\n",
       "    </tr>\n",
       "    <tr>\n",
       "      <th>mean</th>\n",
       "      <td>121.920981</td>\n",
       "      <td>1.074435e+04</td>\n",
       "      <td>33 days 16:44:51.662125340</td>\n",
       "      <td>47 days 03:05:59.019073569</td>\n",
       "      <td>18.052316</td>\n",
       "      <td>5.689646</td>\n",
       "      <td>3.883545e+04</td>\n",
       "    </tr>\n",
       "    <tr>\n",
       "      <th>std</th>\n",
       "      <td>608.343958</td>\n",
       "      <td>7.081422e+04</td>\n",
       "      <td>12 days 09:23:31.919665863</td>\n",
       "      <td>144 days 06:29:01.210732386</td>\n",
       "      <td>5.640883</td>\n",
       "      <td>2.699116</td>\n",
       "      <td>8.513298e+05</td>\n",
       "    </tr>\n",
       "    <tr>\n",
       "      <th>min</th>\n",
       "      <td>0.000000</td>\n",
       "      <td>0.000000e+00</td>\n",
       "      <td>2 days 00:00:00</td>\n",
       "      <td>0 days 00:00:00</td>\n",
       "      <td>1.000000</td>\n",
       "      <td>1.000000</td>\n",
       "      <td>1.000000e+00</td>\n",
       "    </tr>\n",
       "    <tr>\n",
       "      <th>25%</th>\n",
       "      <td>4.000000</td>\n",
       "      <td>1.000000e+02</td>\n",
       "      <td>30 days 00:00:00</td>\n",
       "      <td>3 days 00:00:00</td>\n",
       "      <td>15.000000</td>\n",
       "      <td>4.000000</td>\n",
       "      <td>1.764420e+03</td>\n",
       "    </tr>\n",
       "    <tr>\n",
       "      <th>50%</th>\n",
       "      <td>27.000000</td>\n",
       "      <td>1.805500e+03</td>\n",
       "      <td>30 days 00:00:00</td>\n",
       "      <td>11 days 00:00:00</td>\n",
       "      <td>19.000000</td>\n",
       "      <td>5.000000</td>\n",
       "      <td>5.000000e+03</td>\n",
       "    </tr>\n",
       "    <tr>\n",
       "      <th>75%</th>\n",
       "      <td>89.000000</td>\n",
       "      <td>7.255250e+03</td>\n",
       "      <td>36 days 00:00:00</td>\n",
       "      <td>35 days 00:00:00</td>\n",
       "      <td>22.000000</td>\n",
       "      <td>8.000000</td>\n",
       "      <td>1.397281e+04</td>\n",
       "    </tr>\n",
       "    <tr>\n",
       "      <th>max</th>\n",
       "      <td>24912.000000</td>\n",
       "      <td>3.502960e+06</td>\n",
       "      <td>91 days 00:00:00</td>\n",
       "      <td>2958 days 00:00:00</td>\n",
       "      <td>32.000000</td>\n",
       "      <td>16.000000</td>\n",
       "      <td>5.000000e+07</td>\n",
       "    </tr>\n",
       "  </tbody>\n",
       "</table>\n",
       "</div>"
      ],
      "text/plain": [
       "       backers_count   usd_pledged               Launch_Period  \\\n",
       "count    3670.000000  3.670000e+03                        3670   \n",
       "mean      121.920981  1.074435e+04  33 days 16:44:51.662125340   \n",
       "std       608.343958  7.081422e+04  12 days 09:23:31.919665863   \n",
       "min         0.000000  0.000000e+00             2 days 00:00:00   \n",
       "25%         4.000000  1.000000e+02            30 days 00:00:00   \n",
       "50%        27.000000  1.805500e+03            30 days 00:00:00   \n",
       "75%        89.000000  7.255250e+03            36 days 00:00:00   \n",
       "max     24912.000000  3.502960e+06            91 days 00:00:00   \n",
       "\n",
       "                 Created_to_Launch  blurb_words_count  name_words_count  \\\n",
       "count                         3670        3670.000000       3670.000000   \n",
       "mean    47 days 03:05:59.019073569          18.052316          5.689646   \n",
       "std    144 days 06:29:01.210732386           5.640883          2.699116   \n",
       "min                0 days 00:00:00           1.000000          1.000000   \n",
       "25%                3 days 00:00:00          15.000000          4.000000   \n",
       "50%               11 days 00:00:00          19.000000          5.000000   \n",
       "75%               35 days 00:00:00          22.000000          8.000000   \n",
       "max             2958 days 00:00:00          32.000000         16.000000   \n",
       "\n",
       "           usd_goal  \n",
       "count  3.670000e+03  \n",
       "mean   3.883545e+04  \n",
       "std    8.513298e+05  \n",
       "min    1.000000e+00  \n",
       "25%    1.764420e+03  \n",
       "50%    5.000000e+03  \n",
       "75%    1.397281e+04  \n",
       "max    5.000000e+07  "
      ]
     },
     "execution_count": 1112,
     "metadata": {},
     "output_type": "execute_result"
    }
   ],
   "source": [
    "data.describe()"
   ]
  },
  {
   "cell_type": "code",
   "execution_count": 1113,
   "id": "agreed-civilization",
   "metadata": {},
   "outputs": [
    {
     "data": {
      "text/plain": [
       "<AxesSubplot:xlabel='usd_pledged', ylabel='backers_count'>"
      ]
     },
     "execution_count": 1113,
     "metadata": {},
     "output_type": "execute_result"
    },
    {
     "data": {
      "image/png": "[encoded data removed]",
      "text/plain": [
       "<Figure size 432x288 with 1 Axes>"
      ]
     },
     "metadata": {
      "needs_background": "light"
     },
     "output_type": "display_data"
    }
   ],
   "source": [
    "sns.scatterplot(data=data,x='usd_pledged',y='backers_count')"
   ]
  },
  {
   "cell_type": "code",
   "execution_count": 1114,
   "id": "saved-trunk",
   "metadata": {},
   "outputs": [],
   "source": [
    "pd.options.display.max_colwidth = 200"
   ]
  },
  {
   "cell_type": "code",
   "execution_count": 1115,
   "id": "spiritual-implementation",
   "metadata": {},
   "outputs": [
    {
     "data": {
      "text/plain": [
       "234     {\"web\":{\"project\":\"https://www.kickstarter.com/projects/pixels-dice/pixels-the-electronic-dice?ref=discovery_category_newest\",\"rewards\":\"https://www.kickstarter.com/projects/pixels-dice/pixels-the...\n",
       "791     {\"web\":{\"project\":\"https://www.kickstarter.com/projects/instafloss/instafloss-say-bye-to-painful-time-consuming-flossing?ref=discovery_category_newest\",\"rewards\":\"https://www.kickstarter.com/proje...\n",
       "942     {\"web\":{\"project\":\"https://www.kickstarter.com/projects/timbuktu/kickstarter-gold-good-night-stories-for-rebel-girl?ref=discovery_category_newest\",\"rewards\":\"https://www.kickstarter.com/projects/t...\n",
       "2761    {\"web\":{\"project\":\"https://www.kickstarter.com/projects/acemarks/handcrafted-dress-shoes-reinvented-for-the-modern?ref=discovery_category_newest\",\"rewards\":\"https://www.kickstarter.com/projects/ac...\n",
       "Name: urls, dtype: object"
      ]
     },
     "execution_count": 1115,
     "metadata": {},
     "output_type": "execute_result"
    }
   ],
   "source": [
    "q = data['usd_pledged'].quantile(0.999) \n",
    "data[data['usd_pledged']>q]['urls']\n"
   ]
  },
  {
   "cell_type": "code",
   "execution_count": 1116,
   "id": "brilliant-subsection",
   "metadata": {},
   "outputs": [],
   "source": [
    "data = data[data['usd_pledged']<q]"
   ]
  },
  {
   "cell_type": "markdown",
   "id": "sensitive-merit",
   "metadata": {},
   "source": [
    "# EDA"
   ]
  },
  {
   "cell_type": "markdown",
   "id": "obvious-substitute",
   "metadata": {},
   "source": [
    "###### 1.Top Earned project\n"
   ]
  },
  {
   "cell_type": "code",
   "execution_count": 1117,
   "id": "african-director",
   "metadata": {},
   "outputs": [
    {
     "data": {
      "text/plain": [
       "film%20&%20video    926\n",
       "music               897\n",
       "food                471\n",
       "publishing          371\n",
       "fashion             340\n",
       "journalism          244\n",
       "games               189\n",
       "technology          130\n",
       "design               56\n",
       "dance                21\n",
       "crafts               21\n",
       "Name: Main_Categories, dtype: int64"
      ]
     },
     "execution_count": 1117,
     "metadata": {},
     "output_type": "execute_result"
    }
   ],
   "source": [
    "data['Main_Categories'].value_counts()"
   ]
  },
  {
   "cell_type": "code",
   "execution_count": 1118,
   "id": "rough-effort",
   "metadata": {},
   "outputs": [
    {
     "data": {
      "text/plain": [
       "<AxesSubplot:ylabel='Main_Categories'>"
      ]
     },
     "execution_count": 1118,
     "metadata": {},
     "output_type": "execute_result"
    },
    {
     "data": {
      "image/png": "[encoded data removed]",
      "text/plain": [
       "<Figure size 432x288 with 1 Axes>"
      ]
     },
     "metadata": {},
     "output_type": "display_data"
    }
   ],
   "source": [
    "# Top Categories\n",
    "data['Main_Categories'].value_counts().plot.pie(autopct='%1.1f%%')"
   ]
  },
  {
   "cell_type": "code",
   "execution_count": 1119,
   "id": "equal-austria",
   "metadata": {},
   "outputs": [
    {
     "data": {
      "text/plain": [
       "<AxesSubplot:ylabel='state'>"
      ]
     },
     "execution_count": 1119,
     "metadata": {},
     "output_type": "execute_result"
    },
    {
     "data": {
      "image/png": "[encoded data removed]",
      "text/plain": [
       "<Figure size 432x288 with 1 Axes>"
      ]
     },
     "metadata": {},
     "output_type": "display_data"
    }
   ],
   "source": [
    "data['state'].value_counts().plot.pie(autopct='%1.1f%%')"
   ]
  },
  {
   "cell_type": "code",
   "execution_count": 1120,
   "id": "separate-westminster",
   "metadata": {},
   "outputs": [
    {
     "data": {
      "text/plain": [
       "array(['failed', 'successful', 'canceled'], dtype=object)"
      ]
     },
     "execution_count": 1120,
     "metadata": {},
     "output_type": "execute_result"
    }
   ],
   "source": [
    "#only look into finished projects\n",
    "data = data[data['state']!='live']\n",
    "#data = data[(data['state']!='live')&(data['state']!='canceled')]\n",
    "data['state'].unique()"
   ]
  },
  {
   "cell_type": "code",
   "execution_count": 1121,
   "id": "coupled-programmer",
   "metadata": {},
   "outputs": [],
   "source": [
    "data['state'] = data['state'].map({'canceled':'failed','failed':'failed','successful':'successful'})\n",
    "#data['state'] = data['state'].map({'failed':'failed','successful':'successful'})"
   ]
  },
  {
   "cell_type": "code",
   "execution_count": 1122,
   "id": "technological-carolina",
   "metadata": {},
   "outputs": [
    {
     "data": {
      "text/plain": [
       "array(['failed', 'successful'], dtype=object)"
      ]
     },
     "execution_count": 1122,
     "metadata": {},
     "output_type": "execute_result"
    }
   ],
   "source": [
    "data['state'].unique()"
   ]
  },
  {
   "cell_type": "code",
   "execution_count": 1123,
   "id": "usual-composition",
   "metadata": {},
   "outputs": [
    {
     "data": {
      "text/plain": [
       "array(['2017', '2020', '2014', '2016', '2021', '2019', '2018', '2015',\n",
       "       '2013', '2012', '2011', '2010', '2009'], dtype=object)"
      ]
     },
     "execution_count": 1123,
     "metadata": {},
     "output_type": "execute_result"
    }
   ],
   "source": [
    "data['Launch_Year'].unique()\n"
   ]
  },
  {
   "cell_type": "code",
   "execution_count": 1124,
   "id": "listed-austin",
   "metadata": {},
   "outputs": [],
   "source": [
    "data['Launch_Period']=data['Launch_Period'].dt.days\n",
    "data['Created_to_Launch']=data['Created_to_Launch'].dt.days"
   ]
  },
  {
   "cell_type": "code",
   "execution_count": 1125,
   "id": "recognized-ordering",
   "metadata": {},
   "outputs": [],
   "source": [
    "data['Launch_Year'] = data['Launch_Year'].astype(str).astype(int)\n",
    "data['Launch_Month'] = data['Launch_Month'].astype(str).astype(int)\n",
    "data['Launch_Day'] = data['Launch_Day'].astype(str).astype(int)\n",
    "data['Launch_Period'] = data['Launch_Period'].astype(str).astype(int)\n",
    "data['Created_to_Launch'] = data['Created_to_Launch'].astype(str).astype(int)\n"
   ]
  },
  {
   "cell_type": "code",
   "execution_count": 1126,
   "id": "public-budapest",
   "metadata": {},
   "outputs": [
    {
     "data": {
      "text/plain": [
       "Text(0.5, 1.0, 'Number of projects over the years')"
      ]
     },
     "execution_count": 1126,
     "metadata": {},
     "output_type": "execute_result"
    },
    {
     "data": {
      "image/png": "[encoded data removed]",
      "text/plain": [
       "<Figure size 432x288 with 1 Axes>"
      ]
     },
     "metadata": {
      "needs_background": "light"
     },
     "output_type": "display_data"
    }
   ],
   "source": [
    "sns.kdeplot(data = data, x = 'Launch_Year',palette='viridis')\n",
    "plt.title('Number of projects over the years')"
   ]
  },
  {
   "cell_type": "code",
   "execution_count": 1127,
   "id": "general-yugoslavia",
   "metadata": {},
   "outputs": [
    {
     "data": {
      "text/plain": [
       "Text(0.5, 1.0, 'Number of projects over the years')"
      ]
     },
     "execution_count": 1127,
     "metadata": {},
     "output_type": "execute_result"
    },
    {
     "data": {
      "image/png": "[encoded data removed]",
      "text/plain": [
       "<Figure size 432x288 with 1 Axes>"
      ]
     },
     "metadata": {
      "needs_background": "light"
     },
     "output_type": "display_data"
    }
   ],
   "source": [
    "sns.countplot(data = data, x = data['Launch_Year'],hue = 'state',palette='viridis')\n",
    "plt.title('Number of projects over the years')"
   ]
  },
  {
   "cell_type": "code",
   "execution_count": 1128,
   "id": "recognized-scheme",
   "metadata": {},
   "outputs": [
    {
     "data": {
      "text/plain": [
       "Text(0.5, 1.0, 'Months with highest successful cases')"
      ]
     },
     "execution_count": 1128,
     "metadata": {},
     "output_type": "execute_result"
    },
    {
     "data": {
      "image/png": "[encoded data removed]",
      "text/plain": [
       "<Figure size 432x288 with 1 Axes>"
      ]
     },
     "metadata": {
      "needs_background": "light"
     },
     "output_type": "display_data"
    }
   ],
   "source": [
    "#months with highest successful numbers\n",
    "succesful = data[data['state']=='successful']\n",
    "sns.countplot(data = succesful, x = 'Launch_Month',hue = 'state',palette='viridis')\n",
    "plt.title('Months with highest successful cases')"
   ]
  },
  {
   "cell_type": "code",
   "execution_count": 1129,
   "id": "coordinated-quantum",
   "metadata": {},
   "outputs": [
    {
     "data": {
      "text/plain": [
       "Text(0.5, 1.0, 'Projects per country')"
      ]
     },
     "execution_count": 1129,
     "metadata": {},
     "output_type": "execute_result"
    },
    {
     "data": {
      "image/png": "[encoded data removed]",
      "text/plain": [
       "<Figure size 432x288 with 1 Axes>"
      ]
     },
     "metadata": {
      "needs_background": "light"
     },
     "output_type": "display_data"
    }
   ],
   "source": [
    "#most participated countries\n",
    "x = data.country.value_counts().plot(kind='bar')\n",
    "plt.title('Projects per country')"
   ]
  },
  {
   "cell_type": "code",
   "execution_count": 1130,
   "id": "sudden-oklahoma",
   "metadata": {},
   "outputs": [
    {
     "name": "stderr",
     "output_type": "stream",
     "text": [
      "c:\\users\\grace\\appdata\\local\\programs\\python\\python38\\lib\\site-packages\\pandas\\core\\series.py:726: RuntimeWarning: divide by zero encountered in log\n",
      "  result = getattr(ufunc, method)(*inputs, **kwargs)\n",
      "c:\\users\\grace\\appdata\\local\\programs\\python\\python38\\lib\\site-packages\\seaborn\\_decorators.py:36: FutureWarning: Pass the following variables as keyword args: x, y. From version 0.12, the only valid positional argument will be `data`, and passing other arguments without an explicit keyword will result in an error or misinterpretation.\n",
      "  warnings.warn(\n",
      "c:\\users\\grace\\appdata\\local\\programs\\python\\python38\\lib\\site-packages\\matplotlib\\cbook\\__init__.py:1183: RuntimeWarning: invalid value encountered in double_scalars\n",
      "  stats['iqr'] = q3 - q1\n"
     ]
    },
    {
     "data": {
      "image/png": "[encoded data removed]",
      "text/plain": [
       "<Figure size 1152x432 with 1 Axes>"
      ]
     },
     "metadata": {
      "needs_background": "light"
     },
     "output_type": "display_data"
    }
   ],
   "source": [
    "# Plotting the distribution of pledged amounts each year\n",
    "plt.figure(figsize=(16,6))\n",
    "sns.boxplot(data.Launched_at.dt.year, np.log(data.usd_pledged))\n",
    "plt.xlabel('Launched_Year', fontsize=12)\n",
    "plt.ylabel('Amount pledged (log-transformed $)', fontsize=12) # Log-transforming to make the trend clearer, as the distribution is heavily positively skewed\n",
    "plt.title('Amount pledged 2009-2021', fontsize=16)\n",
    "plt.show()"
   ]
  },
  {
   "cell_type": "code",
   "execution_count": 1131,
   "id": "lyric-shark",
   "metadata": {},
   "outputs": [
    {
     "data": {
      "text/html": [
       "<div>\n",
       "<style scoped>\n",
       "    .dataframe tbody tr th:only-of-type {\n",
       "        vertical-align: middle;\n",
       "    }\n",
       "\n",
       "    .dataframe tbody tr th {\n",
       "        vertical-align: top;\n",
       "    }\n",
       "\n",
       "    .dataframe thead th {\n",
       "        text-align: right;\n",
       "    }\n",
       "</style>\n",
       "<table border=\"1\" class=\"dataframe\">\n",
       "  <thead>\n",
       "    <tr style=\"text-align: right;\">\n",
       "      <th></th>\n",
       "      <th>urls</th>\n",
       "      <th>Main_Categories</th>\n",
       "    </tr>\n",
       "  </thead>\n",
       "  <tbody>\n",
       "    <tr>\n",
       "      <th>169</th>\n",
       "      <td>{\"web\":{\"project\":\"https://www.kickstarter.com/projects/hitpointpress/heckna-cosmic-carnival-horror-campaign-setting-for-5e-dnd?ref=discovery_category_newest\",\"rewards\":\"https://www.kickstarter.co...</td>\n",
       "      <td>games</td>\n",
       "    </tr>\n",
       "    <tr>\n",
       "      <th>850</th>\n",
       "      <td>{\"web\":{\"project\":\"https://www.kickstarter.com/projects/1302528630/masters-of-anatomy?ref=discovery_category_newest\",\"rewards\":\"https://www.kickstarter.com/projects/1302528630/masters-of-anatomy/r...</td>\n",
       "      <td>publishing</td>\n",
       "    </tr>\n",
       "    <tr>\n",
       "      <th>2443</th>\n",
       "      <td>{\"web\":{\"project\":\"https://www.kickstarter.com/projects/774031583/implosion-zero-day?ref=discovery_category_newest\",\"rewards\":\"https://www.kickstarter.com/projects/774031583/implosion-zero-day/rew...</td>\n",
       "      <td>film%20&amp;%20video</td>\n",
       "    </tr>\n",
       "    <tr>\n",
       "      <th>1096</th>\n",
       "      <td>{\"web\":{\"project\":\"https://www.kickstarter.com/projects/skytrek/skytrek-the-best-smart-luggage-in-the-world?ref=discovery_category_newest\",\"rewards\":\"https://www.kickstarter.com/projects/skytrek/s...</td>\n",
       "      <td>technology</td>\n",
       "    </tr>\n",
       "    <tr>\n",
       "      <th>84</th>\n",
       "      <td>{\"web\":{\"project\":\"https://www.kickstarter.com/projects/tomvasel/dice-tower-2021?ref=discovery_category_newest\",\"rewards\":\"https://www.kickstarter.com/projects/tomvasel/dice-tower-2021/rewards\"}}</td>\n",
       "      <td>games</td>\n",
       "    </tr>\n",
       "    <tr>\n",
       "      <th>72</th>\n",
       "      <td>{\"web\":{\"project\":\"https://www.kickstarter.com/projects/99831120/arcana-heart-3-love-max-six-stars-2d-fighting-game?ref=discovery_category_newest\",\"rewards\":\"https://www.kickstarter.com/projects/9...</td>\n",
       "      <td>games</td>\n",
       "    </tr>\n",
       "    <tr>\n",
       "      <th>175</th>\n",
       "      <td>{\"web\":{\"project\":\"https://www.kickstarter.com/projects/radgostforest/forest-of-radgost?ref=discovery_category_newest\",\"rewards\":\"https://www.kickstarter.com/projects/radgostforest/forest-of-radgo...</td>\n",
       "      <td>games</td>\n",
       "    </tr>\n",
       "    <tr>\n",
       "      <th>1547</th>\n",
       "      <td>{\"web\":{\"project\":\"https://www.kickstarter.com/projects/vincentregan/enemy-of-man-feature-film?ref=discovery_category_newest\",\"rewards\":\"https://www.kickstarter.com/projects/vincentregan/enemy-of-...</td>\n",
       "      <td>film%20&amp;%20video</td>\n",
       "    </tr>\n",
       "    <tr>\n",
       "      <th>306</th>\n",
       "      <td>{\"web\":{\"project\":\"https://www.kickstarter.com/projects/hon-br1/heroes-of-normandie-big-red-one-edition?ref=discovery_category_newest\",\"rewards\":\"https://www.kickstarter.com/projects/hon-br1/heroe...</td>\n",
       "      <td>games</td>\n",
       "    </tr>\n",
       "    <tr>\n",
       "      <th>65</th>\n",
       "      <td>{\"web\":{\"project\":\"https://www.kickstarter.com/projects/nordgames/dangerous-destinations?ref=discovery_category_newest\",\"rewards\":\"https://www.kickstarter.com/projects/nordgames/dangerous-destinat...</td>\n",
       "      <td>games</td>\n",
       "    </tr>\n",
       "  </tbody>\n",
       "</table>\n",
       "</div>"
      ],
      "text/plain": [
       "                                                                                                                                                                                                         urls  \\\n",
       "169   {\"web\":{\"project\":\"https://www.kickstarter.com/projects/hitpointpress/heckna-cosmic-carnival-horror-campaign-setting-for-5e-dnd?ref=discovery_category_newest\",\"rewards\":\"https://www.kickstarter.co...   \n",
       "850   {\"web\":{\"project\":\"https://www.kickstarter.com/projects/1302528630/masters-of-anatomy?ref=discovery_category_newest\",\"rewards\":\"https://www.kickstarter.com/projects/1302528630/masters-of-anatomy/r...   \n",
       "2443  {\"web\":{\"project\":\"https://www.kickstarter.com/projects/774031583/implosion-zero-day?ref=discovery_category_newest\",\"rewards\":\"https://www.kickstarter.com/projects/774031583/implosion-zero-day/rew...   \n",
       "1096  {\"web\":{\"project\":\"https://www.kickstarter.com/projects/skytrek/skytrek-the-best-smart-luggage-in-the-world?ref=discovery_category_newest\",\"rewards\":\"https://www.kickstarter.com/projects/skytrek/s...   \n",
       "84        {\"web\":{\"project\":\"https://www.kickstarter.com/projects/tomvasel/dice-tower-2021?ref=discovery_category_newest\",\"rewards\":\"https://www.kickstarter.com/projects/tomvasel/dice-tower-2021/rewards\"}}   \n",
       "72    {\"web\":{\"project\":\"https://www.kickstarter.com/projects/99831120/arcana-heart-3-love-max-six-stars-2d-fighting-game?ref=discovery_category_newest\",\"rewards\":\"https://www.kickstarter.com/projects/9...   \n",
       "175   {\"web\":{\"project\":\"https://www.kickstarter.com/projects/radgostforest/forest-of-radgost?ref=discovery_category_newest\",\"rewards\":\"https://www.kickstarter.com/projects/radgostforest/forest-of-radgo...   \n",
       "1547  {\"web\":{\"project\":\"https://www.kickstarter.com/projects/vincentregan/enemy-of-man-feature-film?ref=discovery_category_newest\",\"rewards\":\"https://www.kickstarter.com/projects/vincentregan/enemy-of-...   \n",
       "306   {\"web\":{\"project\":\"https://www.kickstarter.com/projects/hon-br1/heroes-of-normandie-big-red-one-edition?ref=discovery_category_newest\",\"rewards\":\"https://www.kickstarter.com/projects/hon-br1/heroe...   \n",
       "65    {\"web\":{\"project\":\"https://www.kickstarter.com/projects/nordgames/dangerous-destinations?ref=discovery_category_newest\",\"rewards\":\"https://www.kickstarter.com/projects/nordgames/dangerous-destinat...   \n",
       "\n",
       "       Main_Categories  \n",
       "169              games  \n",
       "850         publishing  \n",
       "2443  film%20&%20video  \n",
       "1096        technology  \n",
       "84               games  \n",
       "72               games  \n",
       "175              games  \n",
       "1547  film%20&%20video  \n",
       "306              games  \n",
       "65               games  "
      ]
     },
     "execution_count": 1131,
     "metadata": {},
     "output_type": "execute_result"
    }
   ],
   "source": [
    "#highest pledged from 2009\n",
    "data.sort_values('usd_pledged', ascending = False).head(10)[['urls','Main_Categories']]"
   ]
  },
  {
   "cell_type": "code",
   "execution_count": 1132,
   "id": "median-review",
   "metadata": {},
   "outputs": [
    {
     "data": {
      "text/html": [
       "<div>\n",
       "<style scoped>\n",
       "    .dataframe tbody tr th:only-of-type {\n",
       "        vertical-align: middle;\n",
       "    }\n",
       "\n",
       "    .dataframe tbody tr th {\n",
       "        vertical-align: top;\n",
       "    }\n",
       "\n",
       "    .dataframe thead th {\n",
       "        text-align: right;\n",
       "    }\n",
       "</style>\n",
       "<table border=\"1\" class=\"dataframe\">\n",
       "  <thead>\n",
       "    <tr style=\"text-align: right;\">\n",
       "      <th></th>\n",
       "      <th>urls</th>\n",
       "    </tr>\n",
       "  </thead>\n",
       "  <tbody>\n",
       "    <tr>\n",
       "      <th>169</th>\n",
       "      <td>{\"web\":{\"project\":\"https://www.kickstarter.com/projects/hitpointpress/heckna-cosmic-carnival-horror-campaign-setting-for-5e-dnd?ref=discovery_category_newest\",\"rewards\":\"https://www.kickstarter.co...</td>\n",
       "    </tr>\n",
       "    <tr>\n",
       "      <th>1096</th>\n",
       "      <td>{\"web\":{\"project\":\"https://www.kickstarter.com/projects/skytrek/skytrek-the-best-smart-luggage-in-the-world?ref=discovery_category_newest\",\"rewards\":\"https://www.kickstarter.com/projects/skytrek/s...</td>\n",
       "    </tr>\n",
       "    <tr>\n",
       "      <th>84</th>\n",
       "      <td>{\"web\":{\"project\":\"https://www.kickstarter.com/projects/tomvasel/dice-tower-2021?ref=discovery_category_newest\",\"rewards\":\"https://www.kickstarter.com/projects/tomvasel/dice-tower-2021/rewards\"}}</td>\n",
       "    </tr>\n",
       "    <tr>\n",
       "      <th>175</th>\n",
       "      <td>{\"web\":{\"project\":\"https://www.kickstarter.com/projects/radgostforest/forest-of-radgost?ref=discovery_category_newest\",\"rewards\":\"https://www.kickstarter.com/projects/radgostforest/forest-of-radgo...</td>\n",
       "    </tr>\n",
       "    <tr>\n",
       "      <th>306</th>\n",
       "      <td>{\"web\":{\"project\":\"https://www.kickstarter.com/projects/hon-br1/heroes-of-normandie-big-red-one-edition?ref=discovery_category_newest\",\"rewards\":\"https://www.kickstarter.com/projects/hon-br1/heroe...</td>\n",
       "    </tr>\n",
       "    <tr>\n",
       "      <th>65</th>\n",
       "      <td>{\"web\":{\"project\":\"https://www.kickstarter.com/projects/nordgames/dangerous-destinations?ref=discovery_category_newest\",\"rewards\":\"https://www.kickstarter.com/projects/nordgames/dangerous-destinat...</td>\n",
       "    </tr>\n",
       "    <tr>\n",
       "      <th>3560</th>\n",
       "      <td>{\"web\":{\"project\":\"https://www.kickstarter.com/projects/1740872294/isospine-trigger-point-therapy-to-stretch-out-your-back?ref=discovery_category_newest\",\"rewards\":\"https://www.kickstarter.com/pro...</td>\n",
       "    </tr>\n",
       "    <tr>\n",
       "      <th>790</th>\n",
       "      <td>{\"web\":{\"project\":\"https://www.kickstarter.com/projects/2034560442/air-omni-a-6-in-1-charging-machine-for-apple-family?ref=discovery_category_newest\",\"rewards\":\"https://www.kickstarter.com/project...</td>\n",
       "    </tr>\n",
       "    <tr>\n",
       "      <th>1062</th>\n",
       "      <td>{\"web\":{\"project\":\"https://www.kickstarter.com/projects/1749662654/godview-55g-lightweight-300-5k-super-waveguide-mr-glasses?ref=discovery_category_newest\",\"rewards\":\"https://www.kickstarter.com/p...</td>\n",
       "    </tr>\n",
       "    <tr>\n",
       "      <th>3666</th>\n",
       "      <td>{\"web\":{\"project\":\"https://www.kickstarter.com/projects/159974695/creature-comfort-throw-blanket?ref=discovery_category_newest\",\"rewards\":\"https://www.kickstarter.com/projects/159974695/creature-c...</td>\n",
       "    </tr>\n",
       "  </tbody>\n",
       "</table>\n",
       "</div>"
      ],
      "text/plain": [
       "                                                                                                                                                                                                         urls\n",
       "169   {\"web\":{\"project\":\"https://www.kickstarter.com/projects/hitpointpress/heckna-cosmic-carnival-horror-campaign-setting-for-5e-dnd?ref=discovery_category_newest\",\"rewards\":\"https://www.kickstarter.co...\n",
       "1096  {\"web\":{\"project\":\"https://www.kickstarter.com/projects/skytrek/skytrek-the-best-smart-luggage-in-the-world?ref=discovery_category_newest\",\"rewards\":\"https://www.kickstarter.com/projects/skytrek/s...\n",
       "84        {\"web\":{\"project\":\"https://www.kickstarter.com/projects/tomvasel/dice-tower-2021?ref=discovery_category_newest\",\"rewards\":\"https://www.kickstarter.com/projects/tomvasel/dice-tower-2021/rewards\"}}\n",
       "175   {\"web\":{\"project\":\"https://www.kickstarter.com/projects/radgostforest/forest-of-radgost?ref=discovery_category_newest\",\"rewards\":\"https://www.kickstarter.com/projects/radgostforest/forest-of-radgo...\n",
       "306   {\"web\":{\"project\":\"https://www.kickstarter.com/projects/hon-br1/heroes-of-normandie-big-red-one-edition?ref=discovery_category_newest\",\"rewards\":\"https://www.kickstarter.com/projects/hon-br1/heroe...\n",
       "65    {\"web\":{\"project\":\"https://www.kickstarter.com/projects/nordgames/dangerous-destinations?ref=discovery_category_newest\",\"rewards\":\"https://www.kickstarter.com/projects/nordgames/dangerous-destinat...\n",
       "3560  {\"web\":{\"project\":\"https://www.kickstarter.com/projects/1740872294/isospine-trigger-point-therapy-to-stretch-out-your-back?ref=discovery_category_newest\",\"rewards\":\"https://www.kickstarter.com/pro...\n",
       "790   {\"web\":{\"project\":\"https://www.kickstarter.com/projects/2034560442/air-omni-a-6-in-1-charging-machine-for-apple-family?ref=discovery_category_newest\",\"rewards\":\"https://www.kickstarter.com/project...\n",
       "1062  {\"web\":{\"project\":\"https://www.kickstarter.com/projects/1749662654/godview-55g-lightweight-300-5k-super-waveguide-mr-glasses?ref=discovery_category_newest\",\"rewards\":\"https://www.kickstarter.com/p...\n",
       "3666  {\"web\":{\"project\":\"https://www.kickstarter.com/projects/159974695/creature-comfort-throw-blanket?ref=discovery_category_newest\",\"rewards\":\"https://www.kickstarter.com/projects/159974695/creature-c..."
      ]
     },
     "execution_count": 1132,
     "metadata": {},
     "output_type": "execute_result"
    }
   ],
   "source": [
    "# highest pledged project in 3 years\n",
    "threeyears_data = data[data['Launch_Year']>2018]\n",
    "#highest pledged from 2009\n",
    "threeyears_data.sort_values('usd_pledged', ascending = False).head(10)[['urls']]"
   ]
  },
  {
   "cell_type": "code",
   "execution_count": 1133,
   "id": "residential-connectivity",
   "metadata": {},
   "outputs": [
    {
     "data": {
      "text/plain": [
       "Text(0.5, 1.0, 'Success and Failure of each categories')"
      ]
     },
     "execution_count": 1133,
     "metadata": {},
     "output_type": "execute_result"
    },
    {
     "data": {
      "image/png": "[encoded data removed]",
      "text/plain": [
       "<Figure size 1152x288 with 1 Axes>"
      ]
     },
     "metadata": {
      "needs_background": "light"
     },
     "output_type": "display_data"
    }
   ],
   "source": [
    "fig, ax = plt.subplots(figsize= (16, 4))\n",
    "sns.countplot(ax=ax,data = data, x = data['Main_Categories'],hue = 'state',palette='viridis')\n",
    "plt.title('Success and Failure of each categories')"
   ]
  },
  {
   "cell_type": "code",
   "execution_count": 1134,
   "id": "least-literature",
   "metadata": {},
   "outputs": [
    {
     "data": {
      "text/plain": [
       "Text(0.5, 1.0, 'Successful cases of each categories')"
      ]
     },
     "execution_count": 1134,
     "metadata": {},
     "output_type": "execute_result"
    },
    {
     "data": {
      "image/png": "[encoded data removed]",
      "text/plain": [
       "<Figure size 1152x288 with 1 Axes>"
      ]
     },
     "metadata": {
      "needs_background": "light"
     },
     "output_type": "display_data"
    }
   ],
   "source": [
    "# most successful categories\n",
    "fig, ax = plt.subplots(figsize= (16, 4))\n",
    "sns.countplot(ax=ax, data = succesful, x = 'Main_Categories',palette='viridis')\n",
    "plt.title('Successful cases of each categories')"
   ]
  },
  {
   "cell_type": "code",
   "execution_count": 1135,
   "id": "detailed-corner",
   "metadata": {},
   "outputs": [
    {
     "data": {
      "text/html": [
       "<div>\n",
       "<style scoped>\n",
       "    .dataframe tbody tr th:only-of-type {\n",
       "        vertical-align: middle;\n",
       "    }\n",
       "\n",
       "    .dataframe tbody tr th {\n",
       "        vertical-align: top;\n",
       "    }\n",
       "\n",
       "    .dataframe thead th {\n",
       "        text-align: right;\n",
       "    }\n",
       "</style>\n",
       "<table border=\"1\" class=\"dataframe\">\n",
       "  <thead>\n",
       "    <tr style=\"text-align: right;\">\n",
       "      <th></th>\n",
       "      <th>backers_count</th>\n",
       "      <th>country</th>\n",
       "      <th>spotlight</th>\n",
       "      <th>staff_pick</th>\n",
       "      <th>state</th>\n",
       "      <th>urls</th>\n",
       "      <th>usd_pledged</th>\n",
       "      <th>Launched_at</th>\n",
       "      <th>Deadline</th>\n",
       "      <th>Created</th>\n",
       "      <th>Launch_Period</th>\n",
       "      <th>Created_to_Launch</th>\n",
       "      <th>Launch_Year</th>\n",
       "      <th>Launch_Month</th>\n",
       "      <th>Launch_Day</th>\n",
       "      <th>blurb_words_count</th>\n",
       "      <th>name_words_count</th>\n",
       "      <th>usd_goal</th>\n",
       "      <th>Main_Categories</th>\n",
       "    </tr>\n",
       "  </thead>\n",
       "  <tbody>\n",
       "    <tr>\n",
       "      <th>0</th>\n",
       "      <td>0</td>\n",
       "      <td>US</td>\n",
       "      <td>False</td>\n",
       "      <td>False</td>\n",
       "      <td>failed</td>\n",
       "      <td>{\"web\":{\"project\":\"https://www.kickstarter.com/projects/939819973/crimpcoffee-good-coffee-good-times?ref=discovery_category_newest\",\"rewards\":\"https://www.kickstarter.com/projects/939819973/crimpc...</td>\n",
       "      <td>0.000000</td>\n",
       "      <td>2017-06-22</td>\n",
       "      <td>2017-07-22</td>\n",
       "      <td>2017-06-21</td>\n",
       "      <td>30</td>\n",
       "      <td>1</td>\n",
       "      <td>2017</td>\n",
       "      <td>6</td>\n",
       "      <td>22</td>\n",
       "      <td>21</td>\n",
       "      <td>5</td>\n",
       "      <td>1000.00</td>\n",
       "      <td>food</td>\n",
       "    </tr>\n",
       "    <tr>\n",
       "      <th>1</th>\n",
       "      <td>454</td>\n",
       "      <td>DK</td>\n",
       "      <td>True</td>\n",
       "      <td>False</td>\n",
       "      <td>successful</td>\n",
       "      <td>{\"web\":{\"project\":\"https://www.kickstarter.com/projects/fleshcraftstudio/spawns-of-the-great-rot-printable-stl-3d-miniatures?ref=discovery_category_newest\",\"rewards\":\"https://www.kickstarter.com/p...</td>\n",
       "      <td>16559.556457</td>\n",
       "      <td>2020-11-11</td>\n",
       "      <td>2020-12-11</td>\n",
       "      <td>2020-10-27</td>\n",
       "      <td>30</td>\n",
       "      <td>15</td>\n",
       "      <td>2020</td>\n",
       "      <td>11</td>\n",
       "      <td>11</td>\n",
       "      <td>13</td>\n",
       "      <td>10</td>\n",
       "      <td>1192.18</td>\n",
       "      <td>games</td>\n",
       "    </tr>\n",
       "    <tr>\n",
       "      <th>2</th>\n",
       "      <td>1</td>\n",
       "      <td>GB</td>\n",
       "      <td>False</td>\n",
       "      <td>False</td>\n",
       "      <td>failed</td>\n",
       "      <td>{\"web\":{\"project\":\"https://www.kickstarter.com/projects/dreamcatchercomics/dreamcatcher-games?ref=discovery_category_newest\",\"rewards\":\"https://www.kickstarter.com/projects/dreamcatchercomics/drea...</td>\n",
       "      <td>64.185017</td>\n",
       "      <td>2017-04-27</td>\n",
       "      <td>2017-05-17</td>\n",
       "      <td>2017-04-15</td>\n",
       "      <td>20</td>\n",
       "      <td>12</td>\n",
       "      <td>2017</td>\n",
       "      <td>4</td>\n",
       "      <td>27</td>\n",
       "      <td>23</td>\n",
       "      <td>2</td>\n",
       "      <td>641.85</td>\n",
       "      <td>games</td>\n",
       "    </tr>\n",
       "    <tr>\n",
       "      <th>3</th>\n",
       "      <td>92</td>\n",
       "      <td>US</td>\n",
       "      <td>True</td>\n",
       "      <td>False</td>\n",
       "      <td>successful</td>\n",
       "      <td>{\"web\":{\"project\":\"https://www.kickstarter.com/projects/thecommonlands/felbars-shoppe-of-curiosities-and-occult?ref=discovery_category_newest\",\"rewards\":\"https://www.kickstarter.com/projects/theco...</td>\n",
       "      <td>6223.000000</td>\n",
       "      <td>2020-11-12</td>\n",
       "      <td>2021-01-04</td>\n",
       "      <td>2020-11-04</td>\n",
       "      <td>53</td>\n",
       "      <td>8</td>\n",
       "      <td>2020</td>\n",
       "      <td>11</td>\n",
       "      <td>12</td>\n",
       "      <td>24</td>\n",
       "      <td>9</td>\n",
       "      <td>5000.00</td>\n",
       "      <td>games</td>\n",
       "    </tr>\n",
       "    <tr>\n",
       "      <th>4</th>\n",
       "      <td>128</td>\n",
       "      <td>US</td>\n",
       "      <td>True</td>\n",
       "      <td>False</td>\n",
       "      <td>successful</td>\n",
       "      <td>{\"web\":{\"project\":\"https://www.kickstarter.com/projects/wanderfoods/wander-flavorful-and-functional-pantry-staples?ref=discovery_category_newest\",\"rewards\":\"https://www.kickstarter.com/projects/wa...</td>\n",
       "      <td>10448.000000</td>\n",
       "      <td>2020-10-01</td>\n",
       "      <td>2020-10-30</td>\n",
       "      <td>2020-07-20</td>\n",
       "      <td>29</td>\n",
       "      <td>73</td>\n",
       "      <td>2020</td>\n",
       "      <td>10</td>\n",
       "      <td>1</td>\n",
       "      <td>19</td>\n",
       "      <td>6</td>\n",
       "      <td>10000.00</td>\n",
       "      <td>food</td>\n",
       "    </tr>\n",
       "  </tbody>\n",
       "</table>\n",
       "</div>"
      ],
      "text/plain": [
       "   backers_count country  spotlight  staff_pick       state  \\\n",
       "0              0      US      False       False      failed   \n",
       "1            454      DK       True       False  successful   \n",
       "2              1      GB      False       False      failed   \n",
       "3             92      US       True       False  successful   \n",
       "4            128      US       True       False  successful   \n",
       "\n",
       "                                                                                                                                                                                                      urls  \\\n",
       "0  {\"web\":{\"project\":\"https://www.kickstarter.com/projects/939819973/crimpcoffee-good-coffee-good-times?ref=discovery_category_newest\",\"rewards\":\"https://www.kickstarter.com/projects/939819973/crimpc...   \n",
       "1  {\"web\":{\"project\":\"https://www.kickstarter.com/projects/fleshcraftstudio/spawns-of-the-great-rot-printable-stl-3d-miniatures?ref=discovery_category_newest\",\"rewards\":\"https://www.kickstarter.com/p...   \n",
       "2  {\"web\":{\"project\":\"https://www.kickstarter.com/projects/dreamcatchercomics/dreamcatcher-games?ref=discovery_category_newest\",\"rewards\":\"https://www.kickstarter.com/projects/dreamcatchercomics/drea...   \n",
       "3  {\"web\":{\"project\":\"https://www.kickstarter.com/projects/thecommonlands/felbars-shoppe-of-curiosities-and-occult?ref=discovery_category_newest\",\"rewards\":\"https://www.kickstarter.com/projects/theco...   \n",
       "4  {\"web\":{\"project\":\"https://www.kickstarter.com/projects/wanderfoods/wander-flavorful-and-functional-pantry-staples?ref=discovery_category_newest\",\"rewards\":\"https://www.kickstarter.com/projects/wa...   \n",
       "\n",
       "    usd_pledged Launched_at   Deadline    Created  Launch_Period  \\\n",
       "0      0.000000  2017-06-22 2017-07-22 2017-06-21             30   \n",
       "1  16559.556457  2020-11-11 2020-12-11 2020-10-27             30   \n",
       "2     64.185017  2017-04-27 2017-05-17 2017-04-15             20   \n",
       "3   6223.000000  2020-11-12 2021-01-04 2020-11-04             53   \n",
       "4  10448.000000  2020-10-01 2020-10-30 2020-07-20             29   \n",
       "\n",
       "   Created_to_Launch  Launch_Year  Launch_Month  Launch_Day  \\\n",
       "0                  1         2017             6          22   \n",
       "1                 15         2020            11          11   \n",
       "2                 12         2017             4          27   \n",
       "3                  8         2020            11          12   \n",
       "4                 73         2020            10           1   \n",
       "\n",
       "   blurb_words_count  name_words_count  usd_goal Main_Categories  \n",
       "0                 21                 5   1000.00            food  \n",
       "1                 13                10   1192.18           games  \n",
       "2                 23                 2    641.85           games  \n",
       "3                 24                 9   5000.00           games  \n",
       "4                 19                 6  10000.00            food  "
      ]
     },
     "execution_count": 1135,
     "metadata": {},
     "output_type": "execute_result"
    }
   ],
   "source": [
    "data.head()"
   ]
  },
  {
   "cell_type": "code",
   "execution_count": 1136,
   "id": "tender-sierra",
   "metadata": {},
   "outputs": [],
   "source": [
    "data_cleaned=data.drop(['urls','Launched_at','Deadline','Created'],axis=1)\n"
   ]
  },
  {
   "cell_type": "code",
   "execution_count": 1137,
   "id": "consecutive-democracy",
   "metadata": {},
   "outputs": [],
   "source": [
    "data_cleaned_linear = data_cleaned.copy()"
   ]
  },
  {
   "cell_type": "markdown",
   "id": "material-uganda",
   "metadata": {},
   "source": [
    "# Data Transformation"
   ]
  },
  {
   "cell_type": "code",
   "execution_count": 1138,
   "id": "diverse-chile",
   "metadata": {},
   "outputs": [
    {
     "data": {
      "text/plain": [
       "array([[<AxesSubplot:title={'center':'backers_count'}>,\n",
       "        <AxesSubplot:title={'center':'usd_pledged'}>,\n",
       "        <AxesSubplot:title={'center':'Launch_Period'}>],\n",
       "       [<AxesSubplot:title={'center':'Created_to_Launch'}>,\n",
       "        <AxesSubplot:title={'center':'Launch_Year'}>,\n",
       "        <AxesSubplot:title={'center':'Launch_Month'}>],\n",
       "       [<AxesSubplot:title={'center':'Launch_Day'}>,\n",
       "        <AxesSubplot:title={'center':'blurb_words_count'}>,\n",
       "        <AxesSubplot:title={'center':'name_words_count'}>],\n",
       "       [<AxesSubplot:title={'center':'usd_goal'}>, <AxesSubplot:>,\n",
       "        <AxesSubplot:>]], dtype=object)"
      ]
     },
     "execution_count": 1138,
     "metadata": {},
     "output_type": "execute_result"
    },
    {
     "data": {
      "image/png": "[encoded data removed]",
      "text/plain": [
       "<Figure size 864x720 with 12 Axes>"
      ]
     },
     "metadata": {
      "needs_background": "light"
     },
     "output_type": "display_data"
    }
   ],
   "source": [
    "# check skewness and distribution\n",
    "data_cleaned[data_cleaned.describe().columns].hist(figsize=(12,10),bins = 50)"
   ]
  },
  {
   "cell_type": "code",
   "execution_count": 1139,
   "id": "modern-snapshot",
   "metadata": {},
   "outputs": [
    {
     "data": {
      "text/plain": [
       "<AxesSubplot:>"
      ]
     },
     "execution_count": 1139,
     "metadata": {},
     "output_type": "execute_result"
    },
    {
     "data": {
      "image/png": "[encoded data removed]",
      "text/plain": [
       "<Figure size 432x288 with 2 Axes>"
      ]
     },
     "metadata": {
      "needs_background": "light"
     },
     "output_type": "display_data"
    }
   ],
   "source": [
    "sns.heatmap(data_cleaned.corr())"
   ]
  },
  {
   "cell_type": "markdown",
   "id": "insured-start",
   "metadata": {},
   "source": [
    "### Create dummy variables"
   ]
  },
  {
   "cell_type": "code",
   "execution_count": 1140,
   "id": "frank-matter",
   "metadata": {},
   "outputs": [
    {
     "data": {
      "text/html": [
       "<div>\n",
       "<style scoped>\n",
       "    .dataframe tbody tr th:only-of-type {\n",
       "        vertical-align: middle;\n",
       "    }\n",
       "\n",
       "    .dataframe tbody tr th {\n",
       "        vertical-align: top;\n",
       "    }\n",
       "\n",
       "    .dataframe thead th {\n",
       "        text-align: right;\n",
       "    }\n",
       "</style>\n",
       "<table border=\"1\" class=\"dataframe\">\n",
       "  <thead>\n",
       "    <tr style=\"text-align: right;\">\n",
       "      <th></th>\n",
       "      <th>backers_count</th>\n",
       "      <th>country</th>\n",
       "      <th>spotlight</th>\n",
       "      <th>staff_pick</th>\n",
       "      <th>state</th>\n",
       "      <th>usd_pledged</th>\n",
       "      <th>Launch_Period</th>\n",
       "      <th>Created_to_Launch</th>\n",
       "      <th>Launch_Year</th>\n",
       "      <th>Launch_Month</th>\n",
       "      <th>Launch_Day</th>\n",
       "      <th>blurb_words_count</th>\n",
       "      <th>name_words_count</th>\n",
       "      <th>usd_goal</th>\n",
       "      <th>Main_Categories</th>\n",
       "    </tr>\n",
       "  </thead>\n",
       "  <tbody>\n",
       "    <tr>\n",
       "      <th>0</th>\n",
       "      <td>0</td>\n",
       "      <td>US</td>\n",
       "      <td>False</td>\n",
       "      <td>False</td>\n",
       "      <td>failed</td>\n",
       "      <td>0.000000</td>\n",
       "      <td>30</td>\n",
       "      <td>1</td>\n",
       "      <td>2017</td>\n",
       "      <td>6</td>\n",
       "      <td>22</td>\n",
       "      <td>21</td>\n",
       "      <td>5</td>\n",
       "      <td>1000.00</td>\n",
       "      <td>food</td>\n",
       "    </tr>\n",
       "    <tr>\n",
       "      <th>1</th>\n",
       "      <td>454</td>\n",
       "      <td>DK</td>\n",
       "      <td>True</td>\n",
       "      <td>False</td>\n",
       "      <td>successful</td>\n",
       "      <td>16559.556457</td>\n",
       "      <td>30</td>\n",
       "      <td>15</td>\n",
       "      <td>2020</td>\n",
       "      <td>11</td>\n",
       "      <td>11</td>\n",
       "      <td>13</td>\n",
       "      <td>10</td>\n",
       "      <td>1192.18</td>\n",
       "      <td>games</td>\n",
       "    </tr>\n",
       "    <tr>\n",
       "      <th>2</th>\n",
       "      <td>1</td>\n",
       "      <td>GB</td>\n",
       "      <td>False</td>\n",
       "      <td>False</td>\n",
       "      <td>failed</td>\n",
       "      <td>64.185017</td>\n",
       "      <td>20</td>\n",
       "      <td>12</td>\n",
       "      <td>2017</td>\n",
       "      <td>4</td>\n",
       "      <td>27</td>\n",
       "      <td>23</td>\n",
       "      <td>2</td>\n",
       "      <td>641.85</td>\n",
       "      <td>games</td>\n",
       "    </tr>\n",
       "    <tr>\n",
       "      <th>3</th>\n",
       "      <td>92</td>\n",
       "      <td>US</td>\n",
       "      <td>True</td>\n",
       "      <td>False</td>\n",
       "      <td>successful</td>\n",
       "      <td>6223.000000</td>\n",
       "      <td>53</td>\n",
       "      <td>8</td>\n",
       "      <td>2020</td>\n",
       "      <td>11</td>\n",
       "      <td>12</td>\n",
       "      <td>24</td>\n",
       "      <td>9</td>\n",
       "      <td>5000.00</td>\n",
       "      <td>games</td>\n",
       "    </tr>\n",
       "    <tr>\n",
       "      <th>4</th>\n",
       "      <td>128</td>\n",
       "      <td>US</td>\n",
       "      <td>True</td>\n",
       "      <td>False</td>\n",
       "      <td>successful</td>\n",
       "      <td>10448.000000</td>\n",
       "      <td>29</td>\n",
       "      <td>73</td>\n",
       "      <td>2020</td>\n",
       "      <td>10</td>\n",
       "      <td>1</td>\n",
       "      <td>19</td>\n",
       "      <td>6</td>\n",
       "      <td>10000.00</td>\n",
       "      <td>food</td>\n",
       "    </tr>\n",
       "  </tbody>\n",
       "</table>\n",
       "</div>"
      ],
      "text/plain": [
       "   backers_count country  spotlight  staff_pick       state   usd_pledged  \\\n",
       "0              0      US      False       False      failed      0.000000   \n",
       "1            454      DK       True       False  successful  16559.556457   \n",
       "2              1      GB      False       False      failed     64.185017   \n",
       "3             92      US       True       False  successful   6223.000000   \n",
       "4            128      US       True       False  successful  10448.000000   \n",
       "\n",
       "   Launch_Period  Created_to_Launch  Launch_Year  Launch_Month  Launch_Day  \\\n",
       "0             30                  1         2017             6          22   \n",
       "1             30                 15         2020            11          11   \n",
       "2             20                 12         2017             4          27   \n",
       "3             53                  8         2020            11          12   \n",
       "4             29                 73         2020            10           1   \n",
       "\n",
       "   blurb_words_count  name_words_count  usd_goal Main_Categories  \n",
       "0                 21                 5   1000.00            food  \n",
       "1                 13                10   1192.18           games  \n",
       "2                 23                 2    641.85           games  \n",
       "3                 24                 9   5000.00           games  \n",
       "4                 19                 6  10000.00            food  "
      ]
     },
     "execution_count": 1140,
     "metadata": {},
     "output_type": "execute_result"
    }
   ],
   "source": [
    "data_cleaned.head()"
   ]
  },
  {
   "cell_type": "code",
   "execution_count": 1141,
   "id": "intellectual-joining",
   "metadata": {},
   "outputs": [],
   "source": [
    "data_cleaned['spotlight'] = data_cleaned['spotlight'].map({True: 1, False:0})\n",
    "data_cleaned['staff_pick'] = data_cleaned['staff_pick'].map({True: 1, False:0})\n",
    "data_cleaned['state'] = data_cleaned['state'].map({'successful': 1, 'failed':0})"
   ]
  },
  {
   "cell_type": "code",
   "execution_count": 1142,
   "id": "sustained-implementation",
   "metadata": {},
   "outputs": [
    {
     "data": {
      "text/plain": [
       "0       0\n",
       "1       1\n",
       "2       0\n",
       "3       1\n",
       "4       1\n",
       "       ..\n",
       "3663    1\n",
       "3665    1\n",
       "3666    1\n",
       "3667    1\n",
       "3668    1\n",
       "Name: spotlight, Length: 3578, dtype: int64"
      ]
     },
     "execution_count": 1142,
     "metadata": {},
     "output_type": "execute_result"
    }
   ],
   "source": [
    "data_cleaned['spotlight']"
   ]
  },
  {
   "cell_type": "code",
   "execution_count": 1143,
   "id": "exact-comparison",
   "metadata": {},
   "outputs": [],
   "source": [
    "\n",
    "categories = pd.get_dummies(data_cleaned['Main_Categories'],drop_first=True)\n",
    "#country = pd.get_dummies(data_cleaned['country'],drop_first=False)\n"
   ]
  },
  {
   "cell_type": "code",
   "execution_count": 1144,
   "id": "stainless-avatar",
   "metadata": {},
   "outputs": [],
   "source": [
    "data_cleaned=pd.concat([data_cleaned,categories],axis=1)"
   ]
  },
  {
   "cell_type": "code",
   "execution_count": 1145,
   "id": "downtown-commodity",
   "metadata": {},
   "outputs": [
    {
     "data": {
      "text/html": [
       "<div>\n",
       "<style scoped>\n",
       "    .dataframe tbody tr th:only-of-type {\n",
       "        vertical-align: middle;\n",
       "    }\n",
       "\n",
       "    .dataframe tbody tr th {\n",
       "        vertical-align: top;\n",
       "    }\n",
       "\n",
       "    .dataframe thead th {\n",
       "        text-align: right;\n",
       "    }\n",
       "</style>\n",
       "<table border=\"1\" class=\"dataframe\">\n",
       "  <thead>\n",
       "    <tr style=\"text-align: right;\">\n",
       "      <th></th>\n",
       "      <th>backers_count</th>\n",
       "      <th>country</th>\n",
       "      <th>spotlight</th>\n",
       "      <th>staff_pick</th>\n",
       "      <th>state</th>\n",
       "      <th>usd_pledged</th>\n",
       "      <th>Launch_Period</th>\n",
       "      <th>Created_to_Launch</th>\n",
       "      <th>Launch_Year</th>\n",
       "      <th>Launch_Month</th>\n",
       "      <th>Launch_Day</th>\n",
       "      <th>blurb_words_count</th>\n",
       "      <th>name_words_count</th>\n",
       "      <th>usd_goal</th>\n",
       "      <th>Main_Categories</th>\n",
       "      <th>dance</th>\n",
       "      <th>design</th>\n",
       "      <th>fashion</th>\n",
       "      <th>film%20&amp;%20video</th>\n",
       "      <th>food</th>\n",
       "      <th>games</th>\n",
       "      <th>journalism</th>\n",
       "      <th>music</th>\n",
       "      <th>publishing</th>\n",
       "      <th>technology</th>\n",
       "    </tr>\n",
       "  </thead>\n",
       "  <tbody>\n",
       "    <tr>\n",
       "      <th>0</th>\n",
       "      <td>0</td>\n",
       "      <td>US</td>\n",
       "      <td>0</td>\n",
       "      <td>0</td>\n",
       "      <td>0</td>\n",
       "      <td>0.000000</td>\n",
       "      <td>30</td>\n",
       "      <td>1</td>\n",
       "      <td>2017</td>\n",
       "      <td>6</td>\n",
       "      <td>22</td>\n",
       "      <td>21</td>\n",
       "      <td>5</td>\n",
       "      <td>1000.00</td>\n",
       "      <td>food</td>\n",
       "      <td>0</td>\n",
       "      <td>0</td>\n",
       "      <td>0</td>\n",
       "      <td>0</td>\n",
       "      <td>1</td>\n",
       "      <td>0</td>\n",
       "      <td>0</td>\n",
       "      <td>0</td>\n",
       "      <td>0</td>\n",
       "      <td>0</td>\n",
       "    </tr>\n",
       "    <tr>\n",
       "      <th>1</th>\n",
       "      <td>454</td>\n",
       "      <td>DK</td>\n",
       "      <td>1</td>\n",
       "      <td>0</td>\n",
       "      <td>1</td>\n",
       "      <td>16559.556457</td>\n",
       "      <td>30</td>\n",
       "      <td>15</td>\n",
       "      <td>2020</td>\n",
       "      <td>11</td>\n",
       "      <td>11</td>\n",
       "      <td>13</td>\n",
       "      <td>10</td>\n",
       "      <td>1192.18</td>\n",
       "      <td>games</td>\n",
       "      <td>0</td>\n",
       "      <td>0</td>\n",
       "      <td>0</td>\n",
       "      <td>0</td>\n",
       "      <td>0</td>\n",
       "      <td>1</td>\n",
       "      <td>0</td>\n",
       "      <td>0</td>\n",
       "      <td>0</td>\n",
       "      <td>0</td>\n",
       "    </tr>\n",
       "    <tr>\n",
       "      <th>2</th>\n",
       "      <td>1</td>\n",
       "      <td>GB</td>\n",
       "      <td>0</td>\n",
       "      <td>0</td>\n",
       "      <td>0</td>\n",
       "      <td>64.185017</td>\n",
       "      <td>20</td>\n",
       "      <td>12</td>\n",
       "      <td>2017</td>\n",
       "      <td>4</td>\n",
       "      <td>27</td>\n",
       "      <td>23</td>\n",
       "      <td>2</td>\n",
       "      <td>641.85</td>\n",
       "      <td>games</td>\n",
       "      <td>0</td>\n",
       "      <td>0</td>\n",
       "      <td>0</td>\n",
       "      <td>0</td>\n",
       "      <td>0</td>\n",
       "      <td>1</td>\n",
       "      <td>0</td>\n",
       "      <td>0</td>\n",
       "      <td>0</td>\n",
       "      <td>0</td>\n",
       "    </tr>\n",
       "    <tr>\n",
       "      <th>3</th>\n",
       "      <td>92</td>\n",
       "      <td>US</td>\n",
       "      <td>1</td>\n",
       "      <td>0</td>\n",
       "      <td>1</td>\n",
       "      <td>6223.000000</td>\n",
       "      <td>53</td>\n",
       "      <td>8</td>\n",
       "      <td>2020</td>\n",
       "      <td>11</td>\n",
       "      <td>12</td>\n",
       "      <td>24</td>\n",
       "      <td>9</td>\n",
       "      <td>5000.00</td>\n",
       "      <td>games</td>\n",
       "      <td>0</td>\n",
       "      <td>0</td>\n",
       "      <td>0</td>\n",
       "      <td>0</td>\n",
       "      <td>0</td>\n",
       "      <td>1</td>\n",
       "      <td>0</td>\n",
       "      <td>0</td>\n",
       "      <td>0</td>\n",
       "      <td>0</td>\n",
       "    </tr>\n",
       "    <tr>\n",
       "      <th>4</th>\n",
       "      <td>128</td>\n",
       "      <td>US</td>\n",
       "      <td>1</td>\n",
       "      <td>0</td>\n",
       "      <td>1</td>\n",
       "      <td>10448.000000</td>\n",
       "      <td>29</td>\n",
       "      <td>73</td>\n",
       "      <td>2020</td>\n",
       "      <td>10</td>\n",
       "      <td>1</td>\n",
       "      <td>19</td>\n",
       "      <td>6</td>\n",
       "      <td>10000.00</td>\n",
       "      <td>food</td>\n",
       "      <td>0</td>\n",
       "      <td>0</td>\n",
       "      <td>0</td>\n",
       "      <td>0</td>\n",
       "      <td>1</td>\n",
       "      <td>0</td>\n",
       "      <td>0</td>\n",
       "      <td>0</td>\n",
       "      <td>0</td>\n",
       "      <td>0</td>\n",
       "    </tr>\n",
       "    <tr>\n",
       "      <th>...</th>\n",
       "      <td>...</td>\n",
       "      <td>...</td>\n",
       "      <td>...</td>\n",
       "      <td>...</td>\n",
       "      <td>...</td>\n",
       "      <td>...</td>\n",
       "      <td>...</td>\n",
       "      <td>...</td>\n",
       "      <td>...</td>\n",
       "      <td>...</td>\n",
       "      <td>...</td>\n",
       "      <td>...</td>\n",
       "      <td>...</td>\n",
       "      <td>...</td>\n",
       "      <td>...</td>\n",
       "      <td>...</td>\n",
       "      <td>...</td>\n",
       "      <td>...</td>\n",
       "      <td>...</td>\n",
       "      <td>...</td>\n",
       "      <td>...</td>\n",
       "      <td>...</td>\n",
       "      <td>...</td>\n",
       "      <td>...</td>\n",
       "      <td>...</td>\n",
       "    </tr>\n",
       "    <tr>\n",
       "      <th>3663</th>\n",
       "      <td>181</td>\n",
       "      <td>US</td>\n",
       "      <td>1</td>\n",
       "      <td>1</td>\n",
       "      <td>1</td>\n",
       "      <td>12972.000000</td>\n",
       "      <td>26</td>\n",
       "      <td>11</td>\n",
       "      <td>2020</td>\n",
       "      <td>11</td>\n",
       "      <td>8</td>\n",
       "      <td>15</td>\n",
       "      <td>4</td>\n",
       "      <td>7500.00</td>\n",
       "      <td>design</td>\n",
       "      <td>0</td>\n",
       "      <td>1</td>\n",
       "      <td>0</td>\n",
       "      <td>0</td>\n",
       "      <td>0</td>\n",
       "      <td>0</td>\n",
       "      <td>0</td>\n",
       "      <td>0</td>\n",
       "      <td>0</td>\n",
       "      <td>0</td>\n",
       "    </tr>\n",
       "    <tr>\n",
       "      <th>3665</th>\n",
       "      <td>11</td>\n",
       "      <td>CA</td>\n",
       "      <td>1</td>\n",
       "      <td>0</td>\n",
       "      <td>1</td>\n",
       "      <td>4123.386083</td>\n",
       "      <td>14</td>\n",
       "      <td>399</td>\n",
       "      <td>2020</td>\n",
       "      <td>6</td>\n",
       "      <td>15</td>\n",
       "      <td>6</td>\n",
       "      <td>5</td>\n",
       "      <td>2207.66</td>\n",
       "      <td>design</td>\n",
       "      <td>0</td>\n",
       "      <td>1</td>\n",
       "      <td>0</td>\n",
       "      <td>0</td>\n",
       "      <td>0</td>\n",
       "      <td>0</td>\n",
       "      <td>0</td>\n",
       "      <td>0</td>\n",
       "      <td>0</td>\n",
       "      <td>0</td>\n",
       "    </tr>\n",
       "    <tr>\n",
       "      <th>3666</th>\n",
       "      <td>2188</td>\n",
       "      <td>US</td>\n",
       "      <td>1</td>\n",
       "      <td>1</td>\n",
       "      <td>1</td>\n",
       "      <td>204313.000000</td>\n",
       "      <td>22</td>\n",
       "      <td>13</td>\n",
       "      <td>2021</td>\n",
       "      <td>3</td>\n",
       "      <td>15</td>\n",
       "      <td>8</td>\n",
       "      <td>4</td>\n",
       "      <td>5000.00</td>\n",
       "      <td>fashion</td>\n",
       "      <td>0</td>\n",
       "      <td>0</td>\n",
       "      <td>1</td>\n",
       "      <td>0</td>\n",
       "      <td>0</td>\n",
       "      <td>0</td>\n",
       "      <td>0</td>\n",
       "      <td>0</td>\n",
       "      <td>0</td>\n",
       "      <td>0</td>\n",
       "    </tr>\n",
       "    <tr>\n",
       "      <th>3667</th>\n",
       "      <td>85</td>\n",
       "      <td>GB</td>\n",
       "      <td>1</td>\n",
       "      <td>0</td>\n",
       "      <td>1</td>\n",
       "      <td>3703.839916</td>\n",
       "      <td>15</td>\n",
       "      <td>24</td>\n",
       "      <td>2020</td>\n",
       "      <td>8</td>\n",
       "      <td>27</td>\n",
       "      <td>16</td>\n",
       "      <td>9</td>\n",
       "      <td>2626.84</td>\n",
       "      <td>design</td>\n",
       "      <td>0</td>\n",
       "      <td>1</td>\n",
       "      <td>0</td>\n",
       "      <td>0</td>\n",
       "      <td>0</td>\n",
       "      <td>0</td>\n",
       "      <td>0</td>\n",
       "      <td>0</td>\n",
       "      <td>0</td>\n",
       "      <td>0</td>\n",
       "    </tr>\n",
       "    <tr>\n",
       "      <th>3668</th>\n",
       "      <td>20</td>\n",
       "      <td>US</td>\n",
       "      <td>1</td>\n",
       "      <td>0</td>\n",
       "      <td>1</td>\n",
       "      <td>3139.000000</td>\n",
       "      <td>15</td>\n",
       "      <td>5</td>\n",
       "      <td>2018</td>\n",
       "      <td>3</td>\n",
       "      <td>14</td>\n",
       "      <td>17</td>\n",
       "      <td>4</td>\n",
       "      <td>2900.00</td>\n",
       "      <td>dance</td>\n",
       "      <td>1</td>\n",
       "      <td>0</td>\n",
       "      <td>0</td>\n",
       "      <td>0</td>\n",
       "      <td>0</td>\n",
       "      <td>0</td>\n",
       "      <td>0</td>\n",
       "      <td>0</td>\n",
       "      <td>0</td>\n",
       "      <td>0</td>\n",
       "    </tr>\n",
       "  </tbody>\n",
       "</table>\n",
       "<p>3578 rows × 25 columns</p>\n",
       "</div>"
      ],
      "text/plain": [
       "      backers_count country  spotlight  staff_pick  state    usd_pledged  \\\n",
       "0                 0      US          0           0      0       0.000000   \n",
       "1               454      DK          1           0      1   16559.556457   \n",
       "2                 1      GB          0           0      0      64.185017   \n",
       "3                92      US          1           0      1    6223.000000   \n",
       "4               128      US          1           0      1   10448.000000   \n",
       "...             ...     ...        ...         ...    ...            ...   \n",
       "3663            181      US          1           1      1   12972.000000   \n",
       "3665             11      CA          1           0      1    4123.386083   \n",
       "3666           2188      US          1           1      1  204313.000000   \n",
       "3667             85      GB          1           0      1    3703.839916   \n",
       "3668             20      US          1           0      1    3139.000000   \n",
       "\n",
       "      Launch_Period  Created_to_Launch  Launch_Year  Launch_Month  Launch_Day  \\\n",
       "0                30                  1         2017             6          22   \n",
       "1                30                 15         2020            11          11   \n",
       "2                20                 12         2017             4          27   \n",
       "3                53                  8         2020            11          12   \n",
       "4                29                 73         2020            10           1   \n",
       "...             ...                ...          ...           ...         ...   \n",
       "3663             26                 11         2020            11           8   \n",
       "3665             14                399         2020             6          15   \n",
       "3666             22                 13         2021             3          15   \n",
       "3667             15                 24         2020             8          27   \n",
       "3668             15                  5         2018             3          14   \n",
       "\n",
       "      blurb_words_count  name_words_count  usd_goal Main_Categories  dance  \\\n",
       "0                    21                 5   1000.00            food      0   \n",
       "1                    13                10   1192.18           games      0   \n",
       "2                    23                 2    641.85           games      0   \n",
       "3                    24                 9   5000.00           games      0   \n",
       "4                    19                 6  10000.00            food      0   \n",
       "...                 ...               ...       ...             ...    ...   \n",
       "3663                 15                 4   7500.00          design      0   \n",
       "3665                  6                 5   2207.66          design      0   \n",
       "3666                  8                 4   5000.00         fashion      0   \n",
       "3667                 16                 9   2626.84          design      0   \n",
       "3668                 17                 4   2900.00           dance      1   \n",
       "\n",
       "      design  fashion  film%20&%20video  food  games  journalism  music  \\\n",
       "0          0        0                 0     1      0           0      0   \n",
       "1          0        0                 0     0      1           0      0   \n",
       "2          0        0                 0     0      1           0      0   \n",
       "3          0        0                 0     0      1           0      0   \n",
       "4          0        0                 0     1      0           0      0   \n",
       "...      ...      ...               ...   ...    ...         ...    ...   \n",
       "3663       1        0                 0     0      0           0      0   \n",
       "3665       1        0                 0     0      0           0      0   \n",
       "3666       0        1                 0     0      0           0      0   \n",
       "3667       1        0                 0     0      0           0      0   \n",
       "3668       0        0                 0     0      0           0      0   \n",
       "\n",
       "      publishing  technology  \n",
       "0              0           0  \n",
       "1              0           0  \n",
       "2              0           0  \n",
       "3              0           0  \n",
       "4              0           0  \n",
       "...          ...         ...  \n",
       "3663           0           0  \n",
       "3665           0           0  \n",
       "3666           0           0  \n",
       "3667           0           0  \n",
       "3668           0           0  \n",
       "\n",
       "[3578 rows x 25 columns]"
      ]
     },
     "execution_count": 1145,
     "metadata": {},
     "output_type": "execute_result"
    }
   ],
   "source": [
    "data_cleaned"
   ]
  },
  {
   "cell_type": "code",
   "execution_count": 1146,
   "id": "sustained-collect",
   "metadata": {},
   "outputs": [],
   "source": [
    "data_predict_pledging_amount = data_cleaned.copy()\n",
    "data_predict_success_failed = data_cleaned.copy()"
   ]
  },
  {
   "cell_type": "code",
   "execution_count": 1147,
   "id": "numerous-undergraduate",
   "metadata": {},
   "outputs": [],
   "source": [
    "# Replacing 0s with 0.01 and log-transforming (logistic regression and random forest)\n",
    "log_columns = ['Created_to_Launch', 'name_words_count', 'usd_goal','backers_count']\n",
    "for col in log_columns:\n",
    "    data_predict_success_failed[col] = data_predict_success_failed[col].astype('float64').replace(0.0, 0.01)\n",
    "    data_predict_success_failed[col] = np.log(data_predict_success_failed[col])"
   ]
  },
  {
   "cell_type": "code",
   "execution_count": 1148,
   "id": "greater-mining",
   "metadata": {},
   "outputs": [],
   "source": [
    "# this is for logistic regression and random forest\n",
    "data_predict_success_failed = data_predict_success_failed.drop(['country','backers_count','Main_Categories','usd_pledged','spotlight'],axis=1)"
   ]
  },
  {
   "cell_type": "code",
   "execution_count": 1149,
   "id": "noble-converter",
   "metadata": {},
   "outputs": [],
   "source": [
    "# Replacing 0s with 0.01 and log-transforming (linear regression and random forest regression)\n",
    "data_predict_pledging_amount['usd_pledged'] = data_predict_pledging_amount['usd_pledged'].astype('float64').replace(0.0, 0.01)\n",
    "data_predict_pledging_amount['usd_pledged'] = np.log(data_predict_pledging_amount['usd_pledged'])"
   ]
  },
  {
   "cell_type": "code",
   "execution_count": 1150,
   "id": "certified-lexington",
   "metadata": {},
   "outputs": [],
   "source": [
    "# this is for linear regression \n",
    "data_predict_pledging_amount = data_predict_pledging_amount.drop(['state','country','backers_count','Launch_Year','Launch_Day','Launch_Month','Main_Categories','spotlight'],axis=1)\n"
   ]
  },
  {
   "cell_type": "code",
   "execution_count": 1151,
   "id": "fitting-cincinnati",
   "metadata": {},
   "outputs": [],
   "source": [
    "data_predict_pledging_amount.replace([-np.inf], np.nan, inplace=True)\n",
    "data_predict_pledging_amount =data_predict_pledging_amount.dropna(subset=['usd_pledged'], how=\"all\")\n",
    "\n"
   ]
  },
  {
   "cell_type": "code",
   "execution_count": 1152,
   "id": "grave-mortgage",
   "metadata": {},
   "outputs": [
    {
     "data": {
      "text/plain": [
       "<seaborn.axisgrid.FacetGrid at 0x2246c8e97f0>"
      ]
     },
     "execution_count": 1152,
     "metadata": {},
     "output_type": "execute_result"
    },
    {
     "data": {
      "image/png": "[encoded data removed]",
      "text/plain": [
       "<Figure size 360x360 with 1 Axes>"
      ]
     },
     "metadata": {
      "needs_background": "light"
     },
     "output_type": "display_data"
    }
   ],
   "source": [
    "sns.displot(data = data_predict_pledging_amount, x = 'usd_pledged')"
   ]
  },
  {
   "cell_type": "code",
   "execution_count": 1153,
   "id": "adjacent-south",
   "metadata": {},
   "outputs": [
    {
     "data": {
      "text/html": [
       "<div>\n",
       "<style scoped>\n",
       "    .dataframe tbody tr th:only-of-type {\n",
       "        vertical-align: middle;\n",
       "    }\n",
       "\n",
       "    .dataframe tbody tr th {\n",
       "        vertical-align: top;\n",
       "    }\n",
       "\n",
       "    .dataframe thead th {\n",
       "        text-align: right;\n",
       "    }\n",
       "</style>\n",
       "<table border=\"1\" class=\"dataframe\">\n",
       "  <thead>\n",
       "    <tr style=\"text-align: right;\">\n",
       "      <th></th>\n",
       "      <th>staff_pick</th>\n",
       "      <th>usd_pledged</th>\n",
       "      <th>Launch_Period</th>\n",
       "      <th>Created_to_Launch</th>\n",
       "      <th>blurb_words_count</th>\n",
       "      <th>name_words_count</th>\n",
       "      <th>usd_goal</th>\n",
       "      <th>dance</th>\n",
       "      <th>design</th>\n",
       "      <th>fashion</th>\n",
       "      <th>film%20&amp;%20video</th>\n",
       "      <th>food</th>\n",
       "      <th>games</th>\n",
       "      <th>journalism</th>\n",
       "      <th>music</th>\n",
       "      <th>publishing</th>\n",
       "      <th>technology</th>\n",
       "    </tr>\n",
       "  </thead>\n",
       "  <tbody>\n",
       "    <tr>\n",
       "      <th>0</th>\n",
       "      <td>0</td>\n",
       "      <td>-4.60517</td>\n",
       "      <td>30</td>\n",
       "      <td>1</td>\n",
       "      <td>21</td>\n",
       "      <td>5</td>\n",
       "      <td>1000.00</td>\n",
       "      <td>0</td>\n",
       "      <td>0</td>\n",
       "      <td>0</td>\n",
       "      <td>0</td>\n",
       "      <td>1</td>\n",
       "      <td>0</td>\n",
       "      <td>0</td>\n",
       "      <td>0</td>\n",
       "      <td>0</td>\n",
       "      <td>0</td>\n",
       "    </tr>\n",
       "    <tr>\n",
       "      <th>24</th>\n",
       "      <td>0</td>\n",
       "      <td>-4.60517</td>\n",
       "      <td>28</td>\n",
       "      <td>6</td>\n",
       "      <td>19</td>\n",
       "      <td>2</td>\n",
       "      <td>13000.00</td>\n",
       "      <td>0</td>\n",
       "      <td>0</td>\n",
       "      <td>0</td>\n",
       "      <td>0</td>\n",
       "      <td>1</td>\n",
       "      <td>0</td>\n",
       "      <td>0</td>\n",
       "      <td>0</td>\n",
       "      <td>0</td>\n",
       "      <td>0</td>\n",
       "    </tr>\n",
       "    <tr>\n",
       "      <th>45</th>\n",
       "      <td>0</td>\n",
       "      <td>-4.60517</td>\n",
       "      <td>14</td>\n",
       "      <td>249</td>\n",
       "      <td>26</td>\n",
       "      <td>4</td>\n",
       "      <td>129780.00</td>\n",
       "      <td>0</td>\n",
       "      <td>0</td>\n",
       "      <td>0</td>\n",
       "      <td>0</td>\n",
       "      <td>1</td>\n",
       "      <td>0</td>\n",
       "      <td>0</td>\n",
       "      <td>0</td>\n",
       "      <td>0</td>\n",
       "      <td>0</td>\n",
       "    </tr>\n",
       "    <tr>\n",
       "      <th>50</th>\n",
       "      <td>0</td>\n",
       "      <td>-4.60517</td>\n",
       "      <td>30</td>\n",
       "      <td>87</td>\n",
       "      <td>21</td>\n",
       "      <td>8</td>\n",
       "      <td>3000.00</td>\n",
       "      <td>0</td>\n",
       "      <td>0</td>\n",
       "      <td>0</td>\n",
       "      <td>0</td>\n",
       "      <td>0</td>\n",
       "      <td>0</td>\n",
       "      <td>1</td>\n",
       "      <td>0</td>\n",
       "      <td>0</td>\n",
       "      <td>0</td>\n",
       "    </tr>\n",
       "    <tr>\n",
       "      <th>70</th>\n",
       "      <td>0</td>\n",
       "      <td>-4.60517</td>\n",
       "      <td>60</td>\n",
       "      <td>72</td>\n",
       "      <td>18</td>\n",
       "      <td>4</td>\n",
       "      <td>35000.00</td>\n",
       "      <td>0</td>\n",
       "      <td>0</td>\n",
       "      <td>0</td>\n",
       "      <td>0</td>\n",
       "      <td>1</td>\n",
       "      <td>0</td>\n",
       "      <td>0</td>\n",
       "      <td>0</td>\n",
       "      <td>0</td>\n",
       "      <td>0</td>\n",
       "    </tr>\n",
       "    <tr>\n",
       "      <th>...</th>\n",
       "      <td>...</td>\n",
       "      <td>...</td>\n",
       "      <td>...</td>\n",
       "      <td>...</td>\n",
       "      <td>...</td>\n",
       "      <td>...</td>\n",
       "      <td>...</td>\n",
       "      <td>...</td>\n",
       "      <td>...</td>\n",
       "      <td>...</td>\n",
       "      <td>...</td>\n",
       "      <td>...</td>\n",
       "      <td>...</td>\n",
       "      <td>...</td>\n",
       "      <td>...</td>\n",
       "      <td>...</td>\n",
       "      <td>...</td>\n",
       "    </tr>\n",
       "    <tr>\n",
       "      <th>3553</th>\n",
       "      <td>0</td>\n",
       "      <td>-4.60517</td>\n",
       "      <td>30</td>\n",
       "      <td>1</td>\n",
       "      <td>18</td>\n",
       "      <td>2</td>\n",
       "      <td>35000.00</td>\n",
       "      <td>0</td>\n",
       "      <td>0</td>\n",
       "      <td>0</td>\n",
       "      <td>0</td>\n",
       "      <td>0</td>\n",
       "      <td>0</td>\n",
       "      <td>0</td>\n",
       "      <td>0</td>\n",
       "      <td>0</td>\n",
       "      <td>0</td>\n",
       "    </tr>\n",
       "    <tr>\n",
       "      <th>3569</th>\n",
       "      <td>0</td>\n",
       "      <td>-4.60517</td>\n",
       "      <td>60</td>\n",
       "      <td>13</td>\n",
       "      <td>7</td>\n",
       "      <td>6</td>\n",
       "      <td>25000.00</td>\n",
       "      <td>0</td>\n",
       "      <td>0</td>\n",
       "      <td>0</td>\n",
       "      <td>0</td>\n",
       "      <td>0</td>\n",
       "      <td>0</td>\n",
       "      <td>0</td>\n",
       "      <td>0</td>\n",
       "      <td>0</td>\n",
       "      <td>0</td>\n",
       "    </tr>\n",
       "    <tr>\n",
       "      <th>3636</th>\n",
       "      <td>0</td>\n",
       "      <td>-4.60517</td>\n",
       "      <td>30</td>\n",
       "      <td>6</td>\n",
       "      <td>14</td>\n",
       "      <td>6</td>\n",
       "      <td>7443.61</td>\n",
       "      <td>1</td>\n",
       "      <td>0</td>\n",
       "      <td>0</td>\n",
       "      <td>0</td>\n",
       "      <td>0</td>\n",
       "      <td>0</td>\n",
       "      <td>0</td>\n",
       "      <td>0</td>\n",
       "      <td>0</td>\n",
       "      <td>0</td>\n",
       "    </tr>\n",
       "    <tr>\n",
       "      <th>3642</th>\n",
       "      <td>0</td>\n",
       "      <td>-4.60517</td>\n",
       "      <td>21</td>\n",
       "      <td>2</td>\n",
       "      <td>23</td>\n",
       "      <td>4</td>\n",
       "      <td>22462.64</td>\n",
       "      <td>0</td>\n",
       "      <td>1</td>\n",
       "      <td>0</td>\n",
       "      <td>0</td>\n",
       "      <td>0</td>\n",
       "      <td>0</td>\n",
       "      <td>0</td>\n",
       "      <td>0</td>\n",
       "      <td>0</td>\n",
       "      <td>0</td>\n",
       "    </tr>\n",
       "    <tr>\n",
       "      <th>3662</th>\n",
       "      <td>0</td>\n",
       "      <td>-4.60517</td>\n",
       "      <td>20</td>\n",
       "      <td>3</td>\n",
       "      <td>16</td>\n",
       "      <td>8</td>\n",
       "      <td>600.00</td>\n",
       "      <td>0</td>\n",
       "      <td>1</td>\n",
       "      <td>0</td>\n",
       "      <td>0</td>\n",
       "      <td>0</td>\n",
       "      <td>0</td>\n",
       "      <td>0</td>\n",
       "      <td>0</td>\n",
       "      <td>0</td>\n",
       "      <td>0</td>\n",
       "    </tr>\n",
       "  </tbody>\n",
       "</table>\n",
       "<p>275 rows × 17 columns</p>\n",
       "</div>"
      ],
      "text/plain": [
       "      staff_pick  usd_pledged  Launch_Period  Created_to_Launch  \\\n",
       "0              0     -4.60517             30                  1   \n",
       "24             0     -4.60517             28                  6   \n",
       "45             0     -4.60517             14                249   \n",
       "50             0     -4.60517             30                 87   \n",
       "70             0     -4.60517             60                 72   \n",
       "...          ...          ...            ...                ...   \n",
       "3553           0     -4.60517             30                  1   \n",
       "3569           0     -4.60517             60                 13   \n",
       "3636           0     -4.60517             30                  6   \n",
       "3642           0     -4.60517             21                  2   \n",
       "3662           0     -4.60517             20                  3   \n",
       "\n",
       "      blurb_words_count  name_words_count   usd_goal  dance  design  fashion  \\\n",
       "0                    21                 5    1000.00      0       0        0   \n",
       "24                   19                 2   13000.00      0       0        0   \n",
       "45                   26                 4  129780.00      0       0        0   \n",
       "50                   21                 8    3000.00      0       0        0   \n",
       "70                   18                 4   35000.00      0       0        0   \n",
       "...                 ...               ...        ...    ...     ...      ...   \n",
       "3553                 18                 2   35000.00      0       0        0   \n",
       "3569                  7                 6   25000.00      0       0        0   \n",
       "3636                 14                 6    7443.61      1       0        0   \n",
       "3642                 23                 4   22462.64      0       1        0   \n",
       "3662                 16                 8     600.00      0       1        0   \n",
       "\n",
       "      film%20&%20video  food  games  journalism  music  publishing  technology  \n",
       "0                    0     1      0           0      0           0           0  \n",
       "24                   0     1      0           0      0           0           0  \n",
       "45                   0     1      0           0      0           0           0  \n",
       "50                   0     0      0           1      0           0           0  \n",
       "70                   0     1      0           0      0           0           0  \n",
       "...                ...   ...    ...         ...    ...         ...         ...  \n",
       "3553                 0     0      0           0      0           0           0  \n",
       "3569                 0     0      0           0      0           0           0  \n",
       "3636                 0     0      0           0      0           0           0  \n",
       "3642                 0     0      0           0      0           0           0  \n",
       "3662                 0     0      0           0      0           0           0  \n",
       "\n",
       "[275 rows x 17 columns]"
      ]
     },
     "execution_count": 1153,
     "metadata": {},
     "output_type": "execute_result"
    }
   ],
   "source": [
    "data_predict_pledging_amount[data_predict_pledging_amount['usd_pledged']<-2.5]\n"
   ]
  },
  {
   "cell_type": "code",
   "execution_count": 1154,
   "id": "drawn-diary",
   "metadata": {},
   "outputs": [],
   "source": [
    "data_predict_pledging_amount = data_predict_pledging_amount[data_predict_pledging_amount['usd_pledged']>-2.5]"
   ]
  },
  {
   "cell_type": "code",
   "execution_count": 1155,
   "id": "seventh-sunday",
   "metadata": {},
   "outputs": [
    {
     "data": {
      "text/plain": [
       "<seaborn.axisgrid.FacetGrid at 0x2246bd4efd0>"
      ]
     },
     "execution_count": 1155,
     "metadata": {},
     "output_type": "execute_result"
    },
    {
     "data": {
      "image/png": "[encoded data removed]",
      "text/plain": [
       "<Figure size 360x360 with 1 Axes>"
      ]
     },
     "metadata": {
      "needs_background": "light"
     },
     "output_type": "display_data"
    }
   ],
   "source": [
    "sns.displot(data = data_predict_pledging_amount, x = 'usd_pledged')"
   ]
  },
  {
   "cell_type": "markdown",
   "id": "magnetic-action",
   "metadata": {},
   "source": [
    "# Predict success and fail"
   ]
  },
  {
   "cell_type": "markdown",
   "id": "elder-authorization",
   "metadata": {},
   "source": [
    "# Data split and Standardization for distance based models for logistic regression"
   ]
  },
  {
   "cell_type": "code",
   "execution_count": 1181,
   "id": "apart-bracelet",
   "metadata": {},
   "outputs": [],
   "source": [
    "X = data_predict_success_failed.drop('state',axis=1)\n",
    "y = data_predict_success_failed['state']"
   ]
  },
  {
   "cell_type": "code",
   "execution_count": 1182,
   "id": "indian-shell",
   "metadata": {},
   "outputs": [],
   "source": [
    "from sklearn.model_selection import train_test_split\n",
    "X_train,X_test,y_train,y_test=train_test_split(X,y,test_size=0.3,random_state=101)"
   ]
  },
  {
   "cell_type": "code",
   "execution_count": 1183,
   "id": "figured-sperm",
   "metadata": {},
   "outputs": [
    {
     "data": {
      "text/html": [
       "<div>\n",
       "<style scoped>\n",
       "    .dataframe tbody tr th:only-of-type {\n",
       "        vertical-align: middle;\n",
       "    }\n",
       "\n",
       "    .dataframe tbody tr th {\n",
       "        vertical-align: top;\n",
       "    }\n",
       "\n",
       "    .dataframe thead th {\n",
       "        text-align: right;\n",
       "    }\n",
       "</style>\n",
       "<table border=\"1\" class=\"dataframe\">\n",
       "  <thead>\n",
       "    <tr style=\"text-align: right;\">\n",
       "      <th></th>\n",
       "      <th>staff_pick</th>\n",
       "      <th>Launch_Period</th>\n",
       "      <th>Created_to_Launch</th>\n",
       "      <th>Launch_Year</th>\n",
       "      <th>Launch_Month</th>\n",
       "      <th>Launch_Day</th>\n",
       "      <th>blurb_words_count</th>\n",
       "      <th>name_words_count</th>\n",
       "      <th>usd_goal</th>\n",
       "      <th>dance</th>\n",
       "      <th>design</th>\n",
       "      <th>fashion</th>\n",
       "      <th>film%20&amp;%20video</th>\n",
       "      <th>food</th>\n",
       "      <th>games</th>\n",
       "      <th>journalism</th>\n",
       "      <th>music</th>\n",
       "      <th>publishing</th>\n",
       "      <th>technology</th>\n",
       "    </tr>\n",
       "  </thead>\n",
       "  <tbody>\n",
       "    <tr>\n",
       "      <th>781</th>\n",
       "      <td>1</td>\n",
       "      <td>19</td>\n",
       "      <td>2.639057</td>\n",
       "      <td>2013</td>\n",
       "      <td>3</td>\n",
       "      <td>15</td>\n",
       "      <td>22</td>\n",
       "      <td>2.302585</td>\n",
       "      <td>6.214608</td>\n",
       "      <td>0</td>\n",
       "      <td>0</td>\n",
       "      <td>0</td>\n",
       "      <td>0</td>\n",
       "      <td>0</td>\n",
       "      <td>0</td>\n",
       "      <td>0</td>\n",
       "      <td>0</td>\n",
       "      <td>1</td>\n",
       "      <td>0</td>\n",
       "    </tr>\n",
       "    <tr>\n",
       "      <th>2199</th>\n",
       "      <td>0</td>\n",
       "      <td>30</td>\n",
       "      <td>0.000000</td>\n",
       "      <td>2015</td>\n",
       "      <td>10</td>\n",
       "      <td>13</td>\n",
       "      <td>20</td>\n",
       "      <td>0.693147</td>\n",
       "      <td>10.203592</td>\n",
       "      <td>0</td>\n",
       "      <td>0</td>\n",
       "      <td>1</td>\n",
       "      <td>0</td>\n",
       "      <td>0</td>\n",
       "      <td>0</td>\n",
       "      <td>0</td>\n",
       "      <td>0</td>\n",
       "      <td>0</td>\n",
       "      <td>0</td>\n",
       "    </tr>\n",
       "    <tr>\n",
       "      <th>1572</th>\n",
       "      <td>0</td>\n",
       "      <td>60</td>\n",
       "      <td>2.397895</td>\n",
       "      <td>2017</td>\n",
       "      <td>3</td>\n",
       "      <td>21</td>\n",
       "      <td>22</td>\n",
       "      <td>2.079442</td>\n",
       "      <td>16.118096</td>\n",
       "      <td>0</td>\n",
       "      <td>0</td>\n",
       "      <td>0</td>\n",
       "      <td>1</td>\n",
       "      <td>0</td>\n",
       "      <td>0</td>\n",
       "      <td>0</td>\n",
       "      <td>0</td>\n",
       "      <td>0</td>\n",
       "      <td>0</td>\n",
       "    </tr>\n",
       "    <tr>\n",
       "      <th>3658</th>\n",
       "      <td>0</td>\n",
       "      <td>24</td>\n",
       "      <td>3.583519</td>\n",
       "      <td>2020</td>\n",
       "      <td>5</td>\n",
       "      <td>22</td>\n",
       "      <td>12</td>\n",
       "      <td>1.945910</td>\n",
       "      <td>8.030331</td>\n",
       "      <td>0</td>\n",
       "      <td>1</td>\n",
       "      <td>0</td>\n",
       "      <td>0</td>\n",
       "      <td>0</td>\n",
       "      <td>0</td>\n",
       "      <td>0</td>\n",
       "      <td>0</td>\n",
       "      <td>0</td>\n",
       "      <td>0</td>\n",
       "    </tr>\n",
       "    <tr>\n",
       "      <th>179</th>\n",
       "      <td>0</td>\n",
       "      <td>37</td>\n",
       "      <td>2.995732</td>\n",
       "      <td>2018</td>\n",
       "      <td>5</td>\n",
       "      <td>22</td>\n",
       "      <td>16</td>\n",
       "      <td>1.386294</td>\n",
       "      <td>7.608548</td>\n",
       "      <td>0</td>\n",
       "      <td>0</td>\n",
       "      <td>0</td>\n",
       "      <td>0</td>\n",
       "      <td>0</td>\n",
       "      <td>1</td>\n",
       "      <td>0</td>\n",
       "      <td>0</td>\n",
       "      <td>0</td>\n",
       "      <td>0</td>\n",
       "    </tr>\n",
       "    <tr>\n",
       "      <th>...</th>\n",
       "      <td>...</td>\n",
       "      <td>...</td>\n",
       "      <td>...</td>\n",
       "      <td>...</td>\n",
       "      <td>...</td>\n",
       "      <td>...</td>\n",
       "      <td>...</td>\n",
       "      <td>...</td>\n",
       "      <td>...</td>\n",
       "      <td>...</td>\n",
       "      <td>...</td>\n",
       "      <td>...</td>\n",
       "      <td>...</td>\n",
       "      <td>...</td>\n",
       "      <td>...</td>\n",
       "      <td>...</td>\n",
       "      <td>...</td>\n",
       "      <td>...</td>\n",
       "      <td>...</td>\n",
       "    </tr>\n",
       "    <tr>\n",
       "      <th>623</th>\n",
       "      <td>0</td>\n",
       "      <td>30</td>\n",
       "      <td>2.197225</td>\n",
       "      <td>2012</td>\n",
       "      <td>3</td>\n",
       "      <td>9</td>\n",
       "      <td>23</td>\n",
       "      <td>1.386294</td>\n",
       "      <td>6.907755</td>\n",
       "      <td>0</td>\n",
       "      <td>0</td>\n",
       "      <td>0</td>\n",
       "      <td>1</td>\n",
       "      <td>0</td>\n",
       "      <td>0</td>\n",
       "      <td>0</td>\n",
       "      <td>0</td>\n",
       "      <td>0</td>\n",
       "      <td>0</td>\n",
       "    </tr>\n",
       "    <tr>\n",
       "      <th>1646</th>\n",
       "      <td>0</td>\n",
       "      <td>31</td>\n",
       "      <td>4.499810</td>\n",
       "      <td>2015</td>\n",
       "      <td>5</td>\n",
       "      <td>5</td>\n",
       "      <td>23</td>\n",
       "      <td>1.945910</td>\n",
       "      <td>10.596635</td>\n",
       "      <td>0</td>\n",
       "      <td>0</td>\n",
       "      <td>0</td>\n",
       "      <td>0</td>\n",
       "      <td>0</td>\n",
       "      <td>0</td>\n",
       "      <td>0</td>\n",
       "      <td>1</td>\n",
       "      <td>0</td>\n",
       "      <td>0</td>\n",
       "    </tr>\n",
       "    <tr>\n",
       "      <th>1406</th>\n",
       "      <td>1</td>\n",
       "      <td>34</td>\n",
       "      <td>3.367296</td>\n",
       "      <td>2014</td>\n",
       "      <td>1</td>\n",
       "      <td>21</td>\n",
       "      <td>24</td>\n",
       "      <td>2.397895</td>\n",
       "      <td>9.210340</td>\n",
       "      <td>0</td>\n",
       "      <td>0</td>\n",
       "      <td>0</td>\n",
       "      <td>1</td>\n",
       "      <td>0</td>\n",
       "      <td>0</td>\n",
       "      <td>0</td>\n",
       "      <td>0</td>\n",
       "      <td>0</td>\n",
       "      <td>0</td>\n",
       "    </tr>\n",
       "    <tr>\n",
       "      <th>1594</th>\n",
       "      <td>0</td>\n",
       "      <td>45</td>\n",
       "      <td>1.098612</td>\n",
       "      <td>2015</td>\n",
       "      <td>1</td>\n",
       "      <td>26</td>\n",
       "      <td>15</td>\n",
       "      <td>1.098612</td>\n",
       "      <td>9.210340</td>\n",
       "      <td>0</td>\n",
       "      <td>0</td>\n",
       "      <td>0</td>\n",
       "      <td>0</td>\n",
       "      <td>1</td>\n",
       "      <td>0</td>\n",
       "      <td>0</td>\n",
       "      <td>0</td>\n",
       "      <td>0</td>\n",
       "      <td>0</td>\n",
       "    </tr>\n",
       "    <tr>\n",
       "      <th>897</th>\n",
       "      <td>0</td>\n",
       "      <td>30</td>\n",
       "      <td>3.258097</td>\n",
       "      <td>2016</td>\n",
       "      <td>6</td>\n",
       "      <td>14</td>\n",
       "      <td>19</td>\n",
       "      <td>1.098612</td>\n",
       "      <td>11.002100</td>\n",
       "      <td>0</td>\n",
       "      <td>0</td>\n",
       "      <td>0</td>\n",
       "      <td>0</td>\n",
       "      <td>0</td>\n",
       "      <td>0</td>\n",
       "      <td>0</td>\n",
       "      <td>0</td>\n",
       "      <td>1</td>\n",
       "      <td>0</td>\n",
       "    </tr>\n",
       "  </tbody>\n",
       "</table>\n",
       "<p>2504 rows × 19 columns</p>\n",
       "</div>"
      ],
      "text/plain": [
       "      staff_pick  Launch_Period  Created_to_Launch  Launch_Year  Launch_Month  \\\n",
       "781            1             19           2.639057         2013             3   \n",
       "2199           0             30           0.000000         2015            10   \n",
       "1572           0             60           2.397895         2017             3   \n",
       "3658           0             24           3.583519         2020             5   \n",
       "179            0             37           2.995732         2018             5   \n",
       "...          ...            ...                ...          ...           ...   \n",
       "623            0             30           2.197225         2012             3   \n",
       "1646           0             31           4.499810         2015             5   \n",
       "1406           1             34           3.367296         2014             1   \n",
       "1594           0             45           1.098612         2015             1   \n",
       "897            0             30           3.258097         2016             6   \n",
       "\n",
       "      Launch_Day  blurb_words_count  name_words_count   usd_goal  dance  \\\n",
       "781           15                 22          2.302585   6.214608      0   \n",
       "2199          13                 20          0.693147  10.203592      0   \n",
       "1572          21                 22          2.079442  16.118096      0   \n",
       "3658          22                 12          1.945910   8.030331      0   \n",
       "179           22                 16          1.386294   7.608548      0   \n",
       "...          ...                ...               ...        ...    ...   \n",
       "623            9                 23          1.386294   6.907755      0   \n",
       "1646           5                 23          1.945910  10.596635      0   \n",
       "1406          21                 24          2.397895   9.210340      0   \n",
       "1594          26                 15          1.098612   9.210340      0   \n",
       "897           14                 19          1.098612  11.002100      0   \n",
       "\n",
       "      design  fashion  film%20&%20video  food  games  journalism  music  \\\n",
       "781        0        0                 0     0      0           0      0   \n",
       "2199       0        1                 0     0      0           0      0   \n",
       "1572       0        0                 1     0      0           0      0   \n",
       "3658       1        0                 0     0      0           0      0   \n",
       "179        0        0                 0     0      1           0      0   \n",
       "...      ...      ...               ...   ...    ...         ...    ...   \n",
       "623        0        0                 1     0      0           0      0   \n",
       "1646       0        0                 0     0      0           0      1   \n",
       "1406       0        0                 1     0      0           0      0   \n",
       "1594       0        0                 0     1      0           0      0   \n",
       "897        0        0                 0     0      0           0      0   \n",
       "\n",
       "      publishing  technology  \n",
       "781            1           0  \n",
       "2199           0           0  \n",
       "1572           0           0  \n",
       "3658           0           0  \n",
       "179            0           0  \n",
       "...          ...         ...  \n",
       "623            0           0  \n",
       "1646           0           0  \n",
       "1406           0           0  \n",
       "1594           0           0  \n",
       "897            1           0  \n",
       "\n",
       "[2504 rows x 19 columns]"
      ]
     },
     "execution_count": 1183,
     "metadata": {},
     "output_type": "execute_result"
    }
   ],
   "source": [
    "X_train"
   ]
  },
  {
   "cell_type": "code",
   "execution_count": 1184,
   "id": "deluxe-rachel",
   "metadata": {},
   "outputs": [],
   "source": [
    "from sklearn.preprocessing import StandardScaler"
   ]
  },
  {
   "cell_type": "code",
   "execution_count": 1185,
   "id": "threaded-choir",
   "metadata": {},
   "outputs": [],
   "source": [
    "columns_to_omit = ['staff_pick', 'dance', 'design', 'fashion','film%20&%20video','food','games','journalism','music','publishing','technology']"
   ]
  },
  {
   "cell_type": "code",
   "execution_count": 1186,
   "id": "amber-firmware",
   "metadata": {},
   "outputs": [],
   "source": [
    "columns_to_scale = [x for x in unscaled_inputs.columns.values if x not in columns_to_omit]"
   ]
  },
  {
   "cell_type": "code",
   "execution_count": 1187,
   "id": "other-tribute",
   "metadata": {},
   "outputs": [],
   "source": [
    "X_train_for_scale = X_train.loc[:,columns_to_scale]\n",
    "X_test_for_scale = X_test.loc[:,columns_to_scale]"
   ]
  },
  {
   "cell_type": "code",
   "execution_count": 1188,
   "id": "rapid-conference",
   "metadata": {},
   "outputs": [],
   "source": [
    "X_train_not_for_scale = X_train.loc[:,columns_to_omit]\n",
    "X_test_not_for_scale = X_test.loc[:,columns_to_omit]"
   ]
  },
  {
   "cell_type": "code",
   "execution_count": 1189,
   "id": "dress-specification",
   "metadata": {},
   "outputs": [],
   "source": [
    "X_train_scaled_features=StandardScaler().fit_transform(X_train_for_scale.values)\n",
    "X_test_scaled_features=StandardScaler().fit_transform(X_test_for_scale.values)"
   ]
  },
  {
   "cell_type": "code",
   "execution_count": 1190,
   "id": "fabulous-tutorial",
   "metadata": {},
   "outputs": [],
   "source": [
    "#dataframe\n",
    "X_train_scaled_features_df=pd.DataFrame(X_train_scaled_features, index=X_train.index,columns=X_train_for_scale.columns)\n",
    "X_test_scaled_features_df=pd.DataFrame(X_test_scaled_features, index=X_test.index,columns=X_test_for_scale.columns)"
   ]
  },
  {
   "cell_type": "code",
   "execution_count": 1191,
   "id": "impressive-mainland",
   "metadata": {},
   "outputs": [],
   "source": [
    "X_train_scaled_features_df = pd.concat([X_train_not_for_scale,X_train_scaled_features_df],axis = 1)\n",
    "X_test_scaled_features_df=  pd.concat([X_test_not_for_scale,X_test_scaled_features_df],axis = 1)"
   ]
  },
  {
   "cell_type": "markdown",
   "id": "opposite-manchester",
   "metadata": {},
   "source": [
    "# Logistic regression"
   ]
  },
  {
   "cell_type": "code",
   "execution_count": 1192,
   "id": "intellectual-mitchell",
   "metadata": {},
   "outputs": [],
   "source": [
    "from sklearn.linear_model import LogisticRegression"
   ]
  },
  {
   "cell_type": "code",
   "execution_count": 1193,
   "id": "fatty-motion",
   "metadata": {},
   "outputs": [
    {
     "data": {
      "text/plain": [
       "LogisticRegression()"
      ]
     },
     "execution_count": 1193,
     "metadata": {},
     "output_type": "execute_result"
    }
   ],
   "source": [
    "logmodel=LogisticRegression()\n",
    "logmodel.fit(X_train_scaled_features_df,y_train)"
   ]
  },
  {
   "cell_type": "markdown",
   "id": "spoken-cliff",
   "metadata": {},
   "source": [
    "### test"
   ]
  },
  {
   "cell_type": "code",
   "execution_count": 1194,
   "id": "authentic-bailey",
   "metadata": {},
   "outputs": [],
   "source": [
    "predictions=logmodel.predict(X_test_scaled_features_df)"
   ]
  },
  {
   "cell_type": "code",
   "execution_count": 1195,
   "id": "dried-packing",
   "metadata": {},
   "outputs": [
    {
     "data": {
      "text/plain": [
       "array([1, 1, 1, ..., 1, 1, 0], dtype=int64)"
      ]
     },
     "execution_count": 1195,
     "metadata": {},
     "output_type": "execute_result"
    }
   ],
   "source": [
    "predictions"
   ]
  },
  {
   "cell_type": "code",
   "execution_count": 1196,
   "id": "advanced-factor",
   "metadata": {},
   "outputs": [
    {
     "data": {
      "text/html": [
       "<div>\n",
       "<style scoped>\n",
       "    .dataframe tbody tr th:only-of-type {\n",
       "        vertical-align: middle;\n",
       "    }\n",
       "\n",
       "    .dataframe tbody tr th {\n",
       "        vertical-align: top;\n",
       "    }\n",
       "\n",
       "    .dataframe thead th {\n",
       "        text-align: right;\n",
       "    }\n",
       "</style>\n",
       "<table border=\"1\" class=\"dataframe\">\n",
       "  <thead>\n",
       "    <tr style=\"text-align: right;\">\n",
       "      <th></th>\n",
       "      <th>staff_pick</th>\n",
       "      <th>state</th>\n",
       "      <th>Launch_Period</th>\n",
       "      <th>Created_to_Launch</th>\n",
       "      <th>Launch_Year</th>\n",
       "      <th>Launch_Month</th>\n",
       "      <th>Launch_Day</th>\n",
       "      <th>blurb_words_count</th>\n",
       "      <th>name_words_count</th>\n",
       "      <th>usd_goal</th>\n",
       "      <th>dance</th>\n",
       "      <th>design</th>\n",
       "      <th>fashion</th>\n",
       "      <th>film%20&amp;%20video</th>\n",
       "      <th>food</th>\n",
       "      <th>games</th>\n",
       "      <th>journalism</th>\n",
       "      <th>music</th>\n",
       "      <th>publishing</th>\n",
       "      <th>technology</th>\n",
       "    </tr>\n",
       "  </thead>\n",
       "  <tbody>\n",
       "    <tr>\n",
       "      <th>0</th>\n",
       "      <td>0</td>\n",
       "      <td>0</td>\n",
       "      <td>30</td>\n",
       "      <td>0.000000</td>\n",
       "      <td>2017</td>\n",
       "      <td>6</td>\n",
       "      <td>22</td>\n",
       "      <td>21</td>\n",
       "      <td>1.609438</td>\n",
       "      <td>6.907755</td>\n",
       "      <td>0</td>\n",
       "      <td>0</td>\n",
       "      <td>0</td>\n",
       "      <td>0</td>\n",
       "      <td>1</td>\n",
       "      <td>0</td>\n",
       "      <td>0</td>\n",
       "      <td>0</td>\n",
       "      <td>0</td>\n",
       "      <td>0</td>\n",
       "    </tr>\n",
       "    <tr>\n",
       "      <th>1</th>\n",
       "      <td>0</td>\n",
       "      <td>1</td>\n",
       "      <td>30</td>\n",
       "      <td>2.708050</td>\n",
       "      <td>2020</td>\n",
       "      <td>11</td>\n",
       "      <td>11</td>\n",
       "      <td>13</td>\n",
       "      <td>2.302585</td>\n",
       "      <td>7.083539</td>\n",
       "      <td>0</td>\n",
       "      <td>0</td>\n",
       "      <td>0</td>\n",
       "      <td>0</td>\n",
       "      <td>0</td>\n",
       "      <td>1</td>\n",
       "      <td>0</td>\n",
       "      <td>0</td>\n",
       "      <td>0</td>\n",
       "      <td>0</td>\n",
       "    </tr>\n",
       "    <tr>\n",
       "      <th>2</th>\n",
       "      <td>0</td>\n",
       "      <td>0</td>\n",
       "      <td>20</td>\n",
       "      <td>2.484907</td>\n",
       "      <td>2017</td>\n",
       "      <td>4</td>\n",
       "      <td>27</td>\n",
       "      <td>23</td>\n",
       "      <td>0.693147</td>\n",
       "      <td>6.464355</td>\n",
       "      <td>0</td>\n",
       "      <td>0</td>\n",
       "      <td>0</td>\n",
       "      <td>0</td>\n",
       "      <td>0</td>\n",
       "      <td>1</td>\n",
       "      <td>0</td>\n",
       "      <td>0</td>\n",
       "      <td>0</td>\n",
       "      <td>0</td>\n",
       "    </tr>\n",
       "    <tr>\n",
       "      <th>3</th>\n",
       "      <td>0</td>\n",
       "      <td>1</td>\n",
       "      <td>53</td>\n",
       "      <td>2.079442</td>\n",
       "      <td>2020</td>\n",
       "      <td>11</td>\n",
       "      <td>12</td>\n",
       "      <td>24</td>\n",
       "      <td>2.197225</td>\n",
       "      <td>8.517193</td>\n",
       "      <td>0</td>\n",
       "      <td>0</td>\n",
       "      <td>0</td>\n",
       "      <td>0</td>\n",
       "      <td>0</td>\n",
       "      <td>1</td>\n",
       "      <td>0</td>\n",
       "      <td>0</td>\n",
       "      <td>0</td>\n",
       "      <td>0</td>\n",
       "    </tr>\n",
       "    <tr>\n",
       "      <th>4</th>\n",
       "      <td>0</td>\n",
       "      <td>1</td>\n",
       "      <td>29</td>\n",
       "      <td>4.290459</td>\n",
       "      <td>2020</td>\n",
       "      <td>10</td>\n",
       "      <td>1</td>\n",
       "      <td>19</td>\n",
       "      <td>1.791759</td>\n",
       "      <td>9.210340</td>\n",
       "      <td>0</td>\n",
       "      <td>0</td>\n",
       "      <td>0</td>\n",
       "      <td>0</td>\n",
       "      <td>1</td>\n",
       "      <td>0</td>\n",
       "      <td>0</td>\n",
       "      <td>0</td>\n",
       "      <td>0</td>\n",
       "      <td>0</td>\n",
       "    </tr>\n",
       "    <tr>\n",
       "      <th>...</th>\n",
       "      <td>...</td>\n",
       "      <td>...</td>\n",
       "      <td>...</td>\n",
       "      <td>...</td>\n",
       "      <td>...</td>\n",
       "      <td>...</td>\n",
       "      <td>...</td>\n",
       "      <td>...</td>\n",
       "      <td>...</td>\n",
       "      <td>...</td>\n",
       "      <td>...</td>\n",
       "      <td>...</td>\n",
       "      <td>...</td>\n",
       "      <td>...</td>\n",
       "      <td>...</td>\n",
       "      <td>...</td>\n",
       "      <td>...</td>\n",
       "      <td>...</td>\n",
       "      <td>...</td>\n",
       "      <td>...</td>\n",
       "    </tr>\n",
       "    <tr>\n",
       "      <th>3663</th>\n",
       "      <td>1</td>\n",
       "      <td>1</td>\n",
       "      <td>26</td>\n",
       "      <td>2.397895</td>\n",
       "      <td>2020</td>\n",
       "      <td>11</td>\n",
       "      <td>8</td>\n",
       "      <td>15</td>\n",
       "      <td>1.386294</td>\n",
       "      <td>8.922658</td>\n",
       "      <td>0</td>\n",
       "      <td>1</td>\n",
       "      <td>0</td>\n",
       "      <td>0</td>\n",
       "      <td>0</td>\n",
       "      <td>0</td>\n",
       "      <td>0</td>\n",
       "      <td>0</td>\n",
       "      <td>0</td>\n",
       "      <td>0</td>\n",
       "    </tr>\n",
       "    <tr>\n",
       "      <th>3665</th>\n",
       "      <td>0</td>\n",
       "      <td>1</td>\n",
       "      <td>14</td>\n",
       "      <td>5.988961</td>\n",
       "      <td>2020</td>\n",
       "      <td>6</td>\n",
       "      <td>15</td>\n",
       "      <td>6</td>\n",
       "      <td>1.609438</td>\n",
       "      <td>7.699688</td>\n",
       "      <td>0</td>\n",
       "      <td>1</td>\n",
       "      <td>0</td>\n",
       "      <td>0</td>\n",
       "      <td>0</td>\n",
       "      <td>0</td>\n",
       "      <td>0</td>\n",
       "      <td>0</td>\n",
       "      <td>0</td>\n",
       "      <td>0</td>\n",
       "    </tr>\n",
       "    <tr>\n",
       "      <th>3666</th>\n",
       "      <td>1</td>\n",
       "      <td>1</td>\n",
       "      <td>22</td>\n",
       "      <td>2.564949</td>\n",
       "      <td>2021</td>\n",
       "      <td>3</td>\n",
       "      <td>15</td>\n",
       "      <td>8</td>\n",
       "      <td>1.386294</td>\n",
       "      <td>8.517193</td>\n",
       "      <td>0</td>\n",
       "      <td>0</td>\n",
       "      <td>1</td>\n",
       "      <td>0</td>\n",
       "      <td>0</td>\n",
       "      <td>0</td>\n",
       "      <td>0</td>\n",
       "      <td>0</td>\n",
       "      <td>0</td>\n",
       "      <td>0</td>\n",
       "    </tr>\n",
       "    <tr>\n",
       "      <th>3667</th>\n",
       "      <td>0</td>\n",
       "      <td>1</td>\n",
       "      <td>15</td>\n",
       "      <td>3.178054</td>\n",
       "      <td>2020</td>\n",
       "      <td>8</td>\n",
       "      <td>27</td>\n",
       "      <td>16</td>\n",
       "      <td>2.197225</td>\n",
       "      <td>7.873537</td>\n",
       "      <td>0</td>\n",
       "      <td>1</td>\n",
       "      <td>0</td>\n",
       "      <td>0</td>\n",
       "      <td>0</td>\n",
       "      <td>0</td>\n",
       "      <td>0</td>\n",
       "      <td>0</td>\n",
       "      <td>0</td>\n",
       "      <td>0</td>\n",
       "    </tr>\n",
       "    <tr>\n",
       "      <th>3668</th>\n",
       "      <td>0</td>\n",
       "      <td>1</td>\n",
       "      <td>15</td>\n",
       "      <td>1.609438</td>\n",
       "      <td>2018</td>\n",
       "      <td>3</td>\n",
       "      <td>14</td>\n",
       "      <td>17</td>\n",
       "      <td>1.386294</td>\n",
       "      <td>7.972466</td>\n",
       "      <td>1</td>\n",
       "      <td>0</td>\n",
       "      <td>0</td>\n",
       "      <td>0</td>\n",
       "      <td>0</td>\n",
       "      <td>0</td>\n",
       "      <td>0</td>\n",
       "      <td>0</td>\n",
       "      <td>0</td>\n",
       "      <td>0</td>\n",
       "    </tr>\n",
       "  </tbody>\n",
       "</table>\n",
       "<p>3578 rows × 20 columns</p>\n",
       "</div>"
      ],
      "text/plain": [
       "      staff_pick  state  Launch_Period  Created_to_Launch  Launch_Year  \\\n",
       "0              0      0             30           0.000000         2017   \n",
       "1              0      1             30           2.708050         2020   \n",
       "2              0      0             20           2.484907         2017   \n",
       "3              0      1             53           2.079442         2020   \n",
       "4              0      1             29           4.290459         2020   \n",
       "...          ...    ...            ...                ...          ...   \n",
       "3663           1      1             26           2.397895         2020   \n",
       "3665           0      1             14           5.988961         2020   \n",
       "3666           1      1             22           2.564949         2021   \n",
       "3667           0      1             15           3.178054         2020   \n",
       "3668           0      1             15           1.609438         2018   \n",
       "\n",
       "      Launch_Month  Launch_Day  blurb_words_count  name_words_count  usd_goal  \\\n",
       "0                6          22                 21          1.609438  6.907755   \n",
       "1               11          11                 13          2.302585  7.083539   \n",
       "2                4          27                 23          0.693147  6.464355   \n",
       "3               11          12                 24          2.197225  8.517193   \n",
       "4               10           1                 19          1.791759  9.210340   \n",
       "...            ...         ...                ...               ...       ...   \n",
       "3663            11           8                 15          1.386294  8.922658   \n",
       "3665             6          15                  6          1.609438  7.699688   \n",
       "3666             3          15                  8          1.386294  8.517193   \n",
       "3667             8          27                 16          2.197225  7.873537   \n",
       "3668             3          14                 17          1.386294  7.972466   \n",
       "\n",
       "      dance  design  fashion  film%20&%20video  food  games  journalism  \\\n",
       "0         0       0        0                 0     1      0           0   \n",
       "1         0       0        0                 0     0      1           0   \n",
       "2         0       0        0                 0     0      1           0   \n",
       "3         0       0        0                 0     0      1           0   \n",
       "4         0       0        0                 0     1      0           0   \n",
       "...     ...     ...      ...               ...   ...    ...         ...   \n",
       "3663      0       1        0                 0     0      0           0   \n",
       "3665      0       1        0                 0     0      0           0   \n",
       "3666      0       0        1                 0     0      0           0   \n",
       "3667      0       1        0                 0     0      0           0   \n",
       "3668      1       0        0                 0     0      0           0   \n",
       "\n",
       "      music  publishing  technology  \n",
       "0         0           0           0  \n",
       "1         0           0           0  \n",
       "2         0           0           0  \n",
       "3         0           0           0  \n",
       "4         0           0           0  \n",
       "...     ...         ...         ...  \n",
       "3663      0           0           0  \n",
       "3665      0           0           0  \n",
       "3666      0           0           0  \n",
       "3667      0           0           0  \n",
       "3668      0           0           0  \n",
       "\n",
       "[3578 rows x 20 columns]"
      ]
     },
     "execution_count": 1196,
     "metadata": {},
     "output_type": "execute_result"
    }
   ],
   "source": [
    "data={'Predicted':predictions,'Actual':y_test}\n",
    "df=pd.DataFrame(data=data_predict_success_failed)\n",
    "df"
   ]
  },
  {
   "cell_type": "markdown",
   "id": "pressing-patch",
   "metadata": {},
   "source": [
    "# Evaluation 1"
   ]
  },
  {
   "cell_type": "code",
   "execution_count": 1197,
   "id": "spanish-honolulu",
   "metadata": {},
   "outputs": [
    {
     "data": {
      "text/html": [
       "<style  type=\"text/css\" >\n",
       "#T_b9a7b2d8_c852_11eb_ab4b_60f26212e75arow0_col1{\n",
       "            width:  10em;\n",
       "             height:  80%;\n",
       "            background:  linear-gradient(90deg, transparent 50.0%, lightblue 50.0%, lightblue 100.0%, transparent 100.0%);\n",
       "        }#T_b9a7b2d8_c852_11eb_ab4b_60f26212e75arow1_col1{\n",
       "            width:  10em;\n",
       "             height:  80%;\n",
       "            background:  linear-gradient(90deg, transparent 50.0%, lightblue 50.0%, lightblue 77.3%, transparent 77.3%);\n",
       "        }#T_b9a7b2d8_c852_11eb_ab4b_60f26212e75arow2_col1,#T_b9a7b2d8_c852_11eb_ab4b_60f26212e75arow3_col1{\n",
       "            width:  10em;\n",
       "             height:  80%;\n",
       "            background:  linear-gradient(90deg, transparent 50.0%, lightblue 50.0%, lightblue 69.8%, transparent 69.8%);\n",
       "        }#T_b9a7b2d8_c852_11eb_ab4b_60f26212e75arow4_col1{\n",
       "            width:  10em;\n",
       "             height:  80%;\n",
       "            background:  linear-gradient(90deg, transparent 50.0%, lightblue 50.0%, lightblue 63.9%, transparent 63.9%);\n",
       "        }#T_b9a7b2d8_c852_11eb_ab4b_60f26212e75arow5_col1{\n",
       "            width:  10em;\n",
       "             height:  80%;\n",
       "            background:  linear-gradient(90deg, transparent 50.0%, lightblue 50.0%, lightblue 61.2%, transparent 61.2%);\n",
       "        }#T_b9a7b2d8_c852_11eb_ab4b_60f26212e75arow6_col1{\n",
       "            width:  10em;\n",
       "             height:  80%;\n",
       "            background:  linear-gradient(90deg, transparent 50.0%, lightblue 50.0%, lightblue 60.6%, transparent 60.6%);\n",
       "        }#T_b9a7b2d8_c852_11eb_ab4b_60f26212e75arow7_col1{\n",
       "            width:  10em;\n",
       "             height:  80%;\n",
       "            background:  linear-gradient(90deg, transparent 50.0%, lightblue 50.0%, lightblue 57.7%, transparent 57.7%);\n",
       "        }#T_b9a7b2d8_c852_11eb_ab4b_60f26212e75arow8_col1{\n",
       "            width:  10em;\n",
       "             height:  80%;\n",
       "            background:  linear-gradient(90deg, transparent 50.0%, lightblue 50.0%, lightblue 53.3%, transparent 53.3%);\n",
       "        }#T_b9a7b2d8_c852_11eb_ab4b_60f26212e75arow9_col1{\n",
       "            width:  10em;\n",
       "             height:  80%;\n",
       "            background:  linear-gradient(90deg, transparent 50.0%, lightblue 50.0%, lightblue 53.1%, transparent 53.1%);\n",
       "        }#T_b9a7b2d8_c852_11eb_ab4b_60f26212e75arow10_col1{\n",
       "            width:  10em;\n",
       "             height:  80%;\n",
       "            background:  linear-gradient(90deg, transparent 50.0%, lightblue 50.0%, lightblue 52.7%, transparent 52.7%);\n",
       "        }#T_b9a7b2d8_c852_11eb_ab4b_60f26212e75arow11_col1{\n",
       "            width:  10em;\n",
       "             height:  80%;\n",
       "            background:  linear-gradient(90deg, transparent 49.3%, grey 49.3%, grey 50.0%, transparent 50.0%);\n",
       "        }#T_b9a7b2d8_c852_11eb_ab4b_60f26212e75arow12_col1{\n",
       "            width:  10em;\n",
       "             height:  80%;\n",
       "            background:  linear-gradient(90deg, transparent 48.9%, grey 48.9%, grey 50.0%, transparent 50.0%);\n",
       "        }#T_b9a7b2d8_c852_11eb_ab4b_60f26212e75arow13_col1{\n",
       "            width:  10em;\n",
       "             height:  80%;\n",
       "            background:  linear-gradient(90deg, transparent 48.7%, grey 48.7%, grey 50.0%, transparent 50.0%);\n",
       "        }#T_b9a7b2d8_c852_11eb_ab4b_60f26212e75arow14_col1{\n",
       "            width:  10em;\n",
       "             height:  80%;\n",
       "            background:  linear-gradient(90deg, transparent 45.1%, grey 45.1%, grey 50.0%, transparent 50.0%);\n",
       "        }#T_b9a7b2d8_c852_11eb_ab4b_60f26212e75arow15_col1{\n",
       "            width:  10em;\n",
       "             height:  80%;\n",
       "            background:  linear-gradient(90deg, transparent 44.7%, grey 44.7%, grey 50.0%, transparent 50.0%);\n",
       "        }#T_b9a7b2d8_c852_11eb_ab4b_60f26212e75arow16_col1{\n",
       "            width:  10em;\n",
       "             height:  80%;\n",
       "            background:  linear-gradient(90deg, transparent 42.5%, grey 42.5%, grey 50.0%, transparent 50.0%);\n",
       "        }#T_b9a7b2d8_c852_11eb_ab4b_60f26212e75arow17_col1{\n",
       "            width:  10em;\n",
       "             height:  80%;\n",
       "            background:  linear-gradient(90deg, transparent 42.3%, grey 42.3%, grey 50.0%, transparent 50.0%);\n",
       "        }#T_b9a7b2d8_c852_11eb_ab4b_60f26212e75arow18_col1{\n",
       "            width:  10em;\n",
       "             height:  80%;\n",
       "            background:  linear-gradient(90deg, transparent 37.9%, grey 37.9%, grey 50.0%, transparent 50.0%);\n",
       "        }</style><table id=\"T_b9a7b2d8_c852_11eb_ab4b_60f26212e75a\" ><thead>    <tr>        <th class=\"blank level0\" ></th>        <th class=\"col_heading level0 col0\" >variable</th>        <th class=\"col_heading level0 col1\" >cofficient</th>    </tr></thead><tbody>\n",
       "                <tr>\n",
       "                        <th id=\"T_b9a7b2d8_c852_11eb_ab4b_60f26212e75alevel0_row0\" class=\"row_heading level0 row0\" >0</th>\n",
       "                        <td id=\"T_b9a7b2d8_c852_11eb_ab4b_60f26212e75arow0_col0\" class=\"data row0 col0\" >staff_pick</td>\n",
       "                        <td id=\"T_b9a7b2d8_c852_11eb_ab4b_60f26212e75arow0_col1\" class=\"data row0 col1\" >2.730000</td>\n",
       "            </tr>\n",
       "            <tr>\n",
       "                        <th id=\"T_b9a7b2d8_c852_11eb_ab4b_60f26212e75alevel0_row1\" class=\"row_heading level0 row1\" >1</th>\n",
       "                        <td id=\"T_b9a7b2d8_c852_11eb_ab4b_60f26212e75arow1_col0\" class=\"data row1 col0\" >dance</td>\n",
       "                        <td id=\"T_b9a7b2d8_c852_11eb_ab4b_60f26212e75arow1_col1\" class=\"data row1 col1\" >1.490000</td>\n",
       "            </tr>\n",
       "            <tr>\n",
       "                        <th id=\"T_b9a7b2d8_c852_11eb_ab4b_60f26212e75alevel0_row2\" class=\"row_heading level0 row2\" >8</th>\n",
       "                        <td id=\"T_b9a7b2d8_c852_11eb_ab4b_60f26212e75arow2_col0\" class=\"data row2 col0\" >music</td>\n",
       "                        <td id=\"T_b9a7b2d8_c852_11eb_ab4b_60f26212e75arow2_col1\" class=\"data row2 col1\" >1.080000</td>\n",
       "            </tr>\n",
       "            <tr>\n",
       "                        <th id=\"T_b9a7b2d8_c852_11eb_ab4b_60f26212e75alevel0_row3\" class=\"row_heading level0 row3\" >9</th>\n",
       "                        <td id=\"T_b9a7b2d8_c852_11eb_ab4b_60f26212e75arow3_col0\" class=\"data row3 col0\" >publishing</td>\n",
       "                        <td id=\"T_b9a7b2d8_c852_11eb_ab4b_60f26212e75arow3_col1\" class=\"data row3 col1\" >1.080000</td>\n",
       "            </tr>\n",
       "            <tr>\n",
       "                        <th id=\"T_b9a7b2d8_c852_11eb_ab4b_60f26212e75alevel0_row4\" class=\"row_heading level0 row4\" >4</th>\n",
       "                        <td id=\"T_b9a7b2d8_c852_11eb_ab4b_60f26212e75arow4_col0\" class=\"data row4 col0\" >film%20&%20video</td>\n",
       "                        <td id=\"T_b9a7b2d8_c852_11eb_ab4b_60f26212e75arow4_col1\" class=\"data row4 col1\" >0.760000</td>\n",
       "            </tr>\n",
       "            <tr>\n",
       "                        <th id=\"T_b9a7b2d8_c852_11eb_ab4b_60f26212e75alevel0_row5\" class=\"row_heading level0 row5\" >12</th>\n",
       "                        <td id=\"T_b9a7b2d8_c852_11eb_ab4b_60f26212e75arow5_col0\" class=\"data row5 col0\" >Created_to_Launch</td>\n",
       "                        <td id=\"T_b9a7b2d8_c852_11eb_ab4b_60f26212e75arow5_col1\" class=\"data row5 col1\" >0.610000</td>\n",
       "            </tr>\n",
       "            <tr>\n",
       "                        <th id=\"T_b9a7b2d8_c852_11eb_ab4b_60f26212e75alevel0_row6\" class=\"row_heading level0 row6\" >6</th>\n",
       "                        <td id=\"T_b9a7b2d8_c852_11eb_ab4b_60f26212e75arow6_col0\" class=\"data row6 col0\" >games</td>\n",
       "                        <td id=\"T_b9a7b2d8_c852_11eb_ab4b_60f26212e75arow6_col1\" class=\"data row6 col1\" >0.580000</td>\n",
       "            </tr>\n",
       "            <tr>\n",
       "                        <th id=\"T_b9a7b2d8_c852_11eb_ab4b_60f26212e75alevel0_row7\" class=\"row_heading level0 row7\" >2</th>\n",
       "                        <td id=\"T_b9a7b2d8_c852_11eb_ab4b_60f26212e75arow7_col0\" class=\"data row7 col0\" >design</td>\n",
       "                        <td id=\"T_b9a7b2d8_c852_11eb_ab4b_60f26212e75arow7_col1\" class=\"data row7 col1\" >0.420000</td>\n",
       "            </tr>\n",
       "            <tr>\n",
       "                        <th id=\"T_b9a7b2d8_c852_11eb_ab4b_60f26212e75alevel0_row8\" class=\"row_heading level0 row8\" >17</th>\n",
       "                        <td id=\"T_b9a7b2d8_c852_11eb_ab4b_60f26212e75arow8_col0\" class=\"data row8 col0\" >name_words_count</td>\n",
       "                        <td id=\"T_b9a7b2d8_c852_11eb_ab4b_60f26212e75arow8_col1\" class=\"data row8 col1\" >0.180000</td>\n",
       "            </tr>\n",
       "            <tr>\n",
       "                        <th id=\"T_b9a7b2d8_c852_11eb_ab4b_60f26212e75alevel0_row9\" class=\"row_heading level0 row9\" >13</th>\n",
       "                        <td id=\"T_b9a7b2d8_c852_11eb_ab4b_60f26212e75arow9_col0\" class=\"data row9 col0\" >Launch_Year</td>\n",
       "                        <td id=\"T_b9a7b2d8_c852_11eb_ab4b_60f26212e75arow9_col1\" class=\"data row9 col1\" >0.170000</td>\n",
       "            </tr>\n",
       "            <tr>\n",
       "                        <th id=\"T_b9a7b2d8_c852_11eb_ab4b_60f26212e75alevel0_row10\" class=\"row_heading level0 row10\" >10</th>\n",
       "                        <td id=\"T_b9a7b2d8_c852_11eb_ab4b_60f26212e75arow10_col0\" class=\"data row10 col0\" >technology</td>\n",
       "                        <td id=\"T_b9a7b2d8_c852_11eb_ab4b_60f26212e75arow10_col1\" class=\"data row10 col1\" >0.150000</td>\n",
       "            </tr>\n",
       "            <tr>\n",
       "                        <th id=\"T_b9a7b2d8_c852_11eb_ab4b_60f26212e75alevel0_row11\" class=\"row_heading level0 row11\" >15</th>\n",
       "                        <td id=\"T_b9a7b2d8_c852_11eb_ab4b_60f26212e75arow11_col0\" class=\"data row11 col0\" >Launch_Day</td>\n",
       "                        <td id=\"T_b9a7b2d8_c852_11eb_ab4b_60f26212e75arow11_col1\" class=\"data row11 col1\" >-0.040000</td>\n",
       "            </tr>\n",
       "            <tr>\n",
       "                        <th id=\"T_b9a7b2d8_c852_11eb_ab4b_60f26212e75alevel0_row12\" class=\"row_heading level0 row12\" >14</th>\n",
       "                        <td id=\"T_b9a7b2d8_c852_11eb_ab4b_60f26212e75arow12_col0\" class=\"data row12 col0\" >Launch_Month</td>\n",
       "                        <td id=\"T_b9a7b2d8_c852_11eb_ab4b_60f26212e75arow12_col1\" class=\"data row12 col1\" >-0.060000</td>\n",
       "            </tr>\n",
       "            <tr>\n",
       "                        <th id=\"T_b9a7b2d8_c852_11eb_ab4b_60f26212e75alevel0_row13\" class=\"row_heading level0 row13\" >16</th>\n",
       "                        <td id=\"T_b9a7b2d8_c852_11eb_ab4b_60f26212e75arow13_col0\" class=\"data row13 col0\" >blurb_words_count</td>\n",
       "                        <td id=\"T_b9a7b2d8_c852_11eb_ab4b_60f26212e75arow13_col1\" class=\"data row13 col1\" >-0.070000</td>\n",
       "            </tr>\n",
       "            <tr>\n",
       "                        <th id=\"T_b9a7b2d8_c852_11eb_ab4b_60f26212e75alevel0_row14\" class=\"row_heading level0 row14\" >11</th>\n",
       "                        <td id=\"T_b9a7b2d8_c852_11eb_ab4b_60f26212e75arow14_col0\" class=\"data row14 col0\" >Launch_Period</td>\n",
       "                        <td id=\"T_b9a7b2d8_c852_11eb_ab4b_60f26212e75arow14_col1\" class=\"data row14 col1\" >-0.270000</td>\n",
       "            </tr>\n",
       "            <tr>\n",
       "                        <th id=\"T_b9a7b2d8_c852_11eb_ab4b_60f26212e75alevel0_row15\" class=\"row_heading level0 row15\" >3</th>\n",
       "                        <td id=\"T_b9a7b2d8_c852_11eb_ab4b_60f26212e75arow15_col0\" class=\"data row15 col0\" >fashion</td>\n",
       "                        <td id=\"T_b9a7b2d8_c852_11eb_ab4b_60f26212e75arow15_col1\" class=\"data row15 col1\" >-0.290000</td>\n",
       "            </tr>\n",
       "            <tr>\n",
       "                        <th id=\"T_b9a7b2d8_c852_11eb_ab4b_60f26212e75alevel0_row16\" class=\"row_heading level0 row16\" >5</th>\n",
       "                        <td id=\"T_b9a7b2d8_c852_11eb_ab4b_60f26212e75arow16_col0\" class=\"data row16 col0\" >food</td>\n",
       "                        <td id=\"T_b9a7b2d8_c852_11eb_ab4b_60f26212e75arow16_col1\" class=\"data row16 col1\" >-0.410000</td>\n",
       "            </tr>\n",
       "            <tr>\n",
       "                        <th id=\"T_b9a7b2d8_c852_11eb_ab4b_60f26212e75alevel0_row17\" class=\"row_heading level0 row17\" >7</th>\n",
       "                        <td id=\"T_b9a7b2d8_c852_11eb_ab4b_60f26212e75arow17_col0\" class=\"data row17 col0\" >journalism</td>\n",
       "                        <td id=\"T_b9a7b2d8_c852_11eb_ab4b_60f26212e75arow17_col1\" class=\"data row17 col1\" >-0.420000</td>\n",
       "            </tr>\n",
       "            <tr>\n",
       "                        <th id=\"T_b9a7b2d8_c852_11eb_ab4b_60f26212e75alevel0_row18\" class=\"row_heading level0 row18\" >18</th>\n",
       "                        <td id=\"T_b9a7b2d8_c852_11eb_ab4b_60f26212e75arow18_col0\" class=\"data row18 col0\" >usd_goal</td>\n",
       "                        <td id=\"T_b9a7b2d8_c852_11eb_ab4b_60f26212e75arow18_col1\" class=\"data row18 col1\" >-0.660000</td>\n",
       "            </tr>\n",
       "    </tbody></table>"
      ],
      "text/plain": [
       "<pandas.io.formats.style.Styler at 0x22470010040>"
      ]
     },
     "execution_count": 1197,
     "metadata": {},
     "output_type": "execute_result"
    }
   ],
   "source": [
    "pd.DataFrame({'variable':[c for c in X_train_scaled_features_df.columns],'cofficient':[round(x,2)for x in logmodel.coef_[0]]}).sort_values('cofficient',ascending=False).style.bar(color=['grey','lightblue'],align='zero')\n"
   ]
  },
  {
   "cell_type": "code",
   "execution_count": 1198,
   "id": "legislative-sudan",
   "metadata": {},
   "outputs": [],
   "source": [
    "#for each x test data, what is the probability of predicting 1,0\n",
    "pred_proba_df = pd.DataFrame(logmodel.predict_proba(X_test_scaled_features_df))"
   ]
  },
  {
   "cell_type": "code",
   "execution_count": 1199,
   "id": "satisfactory-shelf",
   "metadata": {},
   "outputs": [
    {
     "data": {
      "text/html": [
       "<div>\n",
       "<style scoped>\n",
       "    .dataframe tbody tr th:only-of-type {\n",
       "        vertical-align: middle;\n",
       "    }\n",
       "\n",
       "    .dataframe tbody tr th {\n",
       "        vertical-align: top;\n",
       "    }\n",
       "\n",
       "    .dataframe thead th {\n",
       "        text-align: right;\n",
       "    }\n",
       "</style>\n",
       "<table border=\"1\" class=\"dataframe\">\n",
       "  <thead>\n",
       "    <tr style=\"text-align: right;\">\n",
       "      <th></th>\n",
       "      <th>0</th>\n",
       "      <th>1</th>\n",
       "    </tr>\n",
       "  </thead>\n",
       "  <tbody>\n",
       "    <tr>\n",
       "      <th>0</th>\n",
       "      <td>0.213016</td>\n",
       "      <td>0.786984</td>\n",
       "    </tr>\n",
       "    <tr>\n",
       "      <th>1</th>\n",
       "      <td>0.057713</td>\n",
       "      <td>0.942287</td>\n",
       "    </tr>\n",
       "    <tr>\n",
       "      <th>2</th>\n",
       "      <td>0.220546</td>\n",
       "      <td>0.779454</td>\n",
       "    </tr>\n",
       "    <tr>\n",
       "      <th>3</th>\n",
       "      <td>0.386539</td>\n",
       "      <td>0.613461</td>\n",
       "    </tr>\n",
       "    <tr>\n",
       "      <th>4</th>\n",
       "      <td>0.247275</td>\n",
       "      <td>0.752725</td>\n",
       "    </tr>\n",
       "  </tbody>\n",
       "</table>\n",
       "</div>"
      ],
      "text/plain": [
       "          0         1\n",
       "0  0.213016  0.786984\n",
       "1  0.057713  0.942287\n",
       "2  0.220546  0.779454\n",
       "3  0.386539  0.613461\n",
       "4  0.247275  0.752725"
      ]
     },
     "execution_count": 1199,
     "metadata": {},
     "output_type": "execute_result"
    }
   ],
   "source": [
    "pred_proba_df.head()"
   ]
  },
  {
   "cell_type": "markdown",
   "id": "wrapped-japan",
   "metadata": {},
   "source": [
    "Transform to usable data"
   ]
  },
  {
   "cell_type": "code",
   "execution_count": 1200,
   "id": "coordinate-ghana",
   "metadata": {},
   "outputs": [
    {
     "data": {
      "text/plain": [
       "array(['staff_pick', 'Launch_Period', 'Created_to_Launch', 'Launch_Year',\n",
       "       'Launch_Month', 'Launch_Day', 'blurb_words_count',\n",
       "       'name_words_count', 'usd_goal', 'dance', 'design', 'fashion',\n",
       "       'film%20&%20video', 'food', 'games', 'journalism', 'music',\n",
       "       'publishing', 'technology'], dtype=object)"
      ]
     },
     "execution_count": 1200,
     "metadata": {},
     "output_type": "execute_result"
    }
   ],
   "source": [
    "feature_name = X.columns.values\n",
    "feature_name"
   ]
  },
  {
   "cell_type": "code",
   "execution_count": 1201,
   "id": "planned-microphone",
   "metadata": {},
   "outputs": [
    {
     "data": {
      "text/plain": [
       "array([[ 2.73309403,  1.4880004 ,  0.41982579, -0.28592015,  0.75719339,\n",
       "        -0.40984323,  0.58429159, -0.42056445,  1.07711803,  1.07653685,\n",
       "         0.14895574, -0.26871682,  0.61324686,  0.1686596 , -0.06191784,\n",
       "        -0.04373177, -0.06740117,  0.18265714, -0.66267533]])"
      ]
     },
     "execution_count": 1201,
     "metadata": {},
     "output_type": "execute_result"
    }
   ],
   "source": [
    "logmodel.coef_"
   ]
  },
  {
   "cell_type": "code",
   "execution_count": 1202,
   "id": "imposed-biotechnology",
   "metadata": {},
   "outputs": [
    {
     "data": {
      "text/html": [
       "<div>\n",
       "<style scoped>\n",
       "    .dataframe tbody tr th:only-of-type {\n",
       "        vertical-align: middle;\n",
       "    }\n",
       "\n",
       "    .dataframe tbody tr th {\n",
       "        vertical-align: top;\n",
       "    }\n",
       "\n",
       "    .dataframe thead th {\n",
       "        text-align: right;\n",
       "    }\n",
       "</style>\n",
       "<table border=\"1\" class=\"dataframe\">\n",
       "  <thead>\n",
       "    <tr style=\"text-align: right;\">\n",
       "      <th></th>\n",
       "      <th>Feature name</th>\n",
       "      <th>Coefficient</th>\n",
       "    </tr>\n",
       "  </thead>\n",
       "  <tbody>\n",
       "    <tr>\n",
       "      <th>0</th>\n",
       "      <td>staff_pick</td>\n",
       "      <td>2.733094</td>\n",
       "    </tr>\n",
       "    <tr>\n",
       "      <th>1</th>\n",
       "      <td>Launch_Period</td>\n",
       "      <td>1.488000</td>\n",
       "    </tr>\n",
       "    <tr>\n",
       "      <th>2</th>\n",
       "      <td>Created_to_Launch</td>\n",
       "      <td>0.419826</td>\n",
       "    </tr>\n",
       "    <tr>\n",
       "      <th>3</th>\n",
       "      <td>Launch_Year</td>\n",
       "      <td>-0.285920</td>\n",
       "    </tr>\n",
       "    <tr>\n",
       "      <th>4</th>\n",
       "      <td>Launch_Month</td>\n",
       "      <td>0.757193</td>\n",
       "    </tr>\n",
       "    <tr>\n",
       "      <th>5</th>\n",
       "      <td>Launch_Day</td>\n",
       "      <td>-0.409843</td>\n",
       "    </tr>\n",
       "    <tr>\n",
       "      <th>6</th>\n",
       "      <td>blurb_words_count</td>\n",
       "      <td>0.584292</td>\n",
       "    </tr>\n",
       "    <tr>\n",
       "      <th>7</th>\n",
       "      <td>name_words_count</td>\n",
       "      <td>-0.420564</td>\n",
       "    </tr>\n",
       "    <tr>\n",
       "      <th>8</th>\n",
       "      <td>usd_goal</td>\n",
       "      <td>1.077118</td>\n",
       "    </tr>\n",
       "    <tr>\n",
       "      <th>9</th>\n",
       "      <td>dance</td>\n",
       "      <td>1.076537</td>\n",
       "    </tr>\n",
       "    <tr>\n",
       "      <th>10</th>\n",
       "      <td>design</td>\n",
       "      <td>0.148956</td>\n",
       "    </tr>\n",
       "    <tr>\n",
       "      <th>11</th>\n",
       "      <td>fashion</td>\n",
       "      <td>-0.268717</td>\n",
       "    </tr>\n",
       "    <tr>\n",
       "      <th>12</th>\n",
       "      <td>film%20&amp;%20video</td>\n",
       "      <td>0.613247</td>\n",
       "    </tr>\n",
       "    <tr>\n",
       "      <th>13</th>\n",
       "      <td>food</td>\n",
       "      <td>0.168660</td>\n",
       "    </tr>\n",
       "    <tr>\n",
       "      <th>14</th>\n",
       "      <td>games</td>\n",
       "      <td>-0.061918</td>\n",
       "    </tr>\n",
       "    <tr>\n",
       "      <th>15</th>\n",
       "      <td>journalism</td>\n",
       "      <td>-0.043732</td>\n",
       "    </tr>\n",
       "    <tr>\n",
       "      <th>16</th>\n",
       "      <td>music</td>\n",
       "      <td>-0.067401</td>\n",
       "    </tr>\n",
       "    <tr>\n",
       "      <th>17</th>\n",
       "      <td>publishing</td>\n",
       "      <td>0.182657</td>\n",
       "    </tr>\n",
       "    <tr>\n",
       "      <th>18</th>\n",
       "      <td>technology</td>\n",
       "      <td>-0.662675</td>\n",
       "    </tr>\n",
       "  </tbody>\n",
       "</table>\n",
       "</div>"
      ],
      "text/plain": [
       "         Feature name  Coefficient\n",
       "0          staff_pick     2.733094\n",
       "1       Launch_Period     1.488000\n",
       "2   Created_to_Launch     0.419826\n",
       "3         Launch_Year    -0.285920\n",
       "4        Launch_Month     0.757193\n",
       "5          Launch_Day    -0.409843\n",
       "6   blurb_words_count     0.584292\n",
       "7    name_words_count    -0.420564\n",
       "8            usd_goal     1.077118\n",
       "9               dance     1.076537\n",
       "10             design     0.148956\n",
       "11            fashion    -0.268717\n",
       "12   film%20&%20video     0.613247\n",
       "13               food     0.168660\n",
       "14              games    -0.061918\n",
       "15         journalism    -0.043732\n",
       "16              music    -0.067401\n",
       "17         publishing     0.182657\n",
       "18         technology    -0.662675"
      ]
     },
     "execution_count": 1202,
     "metadata": {},
     "output_type": "execute_result"
    }
   ],
   "source": [
    "summary_table = pd.DataFrame(columns=['Feature name'],data = feature_name)\n",
    "summary_table['Coefficient'] = np.transpose(logmodel.coef_)\n",
    "summary_table"
   ]
  },
  {
   "cell_type": "code",
   "execution_count": 1203,
   "id": "removed-civilization",
   "metadata": {},
   "outputs": [
    {
     "data": {
      "text/html": [
       "<div>\n",
       "<style scoped>\n",
       "    .dataframe tbody tr th:only-of-type {\n",
       "        vertical-align: middle;\n",
       "    }\n",
       "\n",
       "    .dataframe tbody tr th {\n",
       "        vertical-align: top;\n",
       "    }\n",
       "\n",
       "    .dataframe thead th {\n",
       "        text-align: right;\n",
       "    }\n",
       "</style>\n",
       "<table border=\"1\" class=\"dataframe\">\n",
       "  <thead>\n",
       "    <tr style=\"text-align: right;\">\n",
       "      <th></th>\n",
       "      <th>Feature name</th>\n",
       "      <th>Coefficient</th>\n",
       "    </tr>\n",
       "  </thead>\n",
       "  <tbody>\n",
       "    <tr>\n",
       "      <th>0</th>\n",
       "      <td>Intercept</td>\n",
       "      <td>-0.241408</td>\n",
       "    </tr>\n",
       "    <tr>\n",
       "      <th>1</th>\n",
       "      <td>staff_pick</td>\n",
       "      <td>2.733094</td>\n",
       "    </tr>\n",
       "    <tr>\n",
       "      <th>2</th>\n",
       "      <td>Launch_Period</td>\n",
       "      <td>1.488000</td>\n",
       "    </tr>\n",
       "    <tr>\n",
       "      <th>3</th>\n",
       "      <td>Created_to_Launch</td>\n",
       "      <td>0.419826</td>\n",
       "    </tr>\n",
       "    <tr>\n",
       "      <th>4</th>\n",
       "      <td>Launch_Year</td>\n",
       "      <td>-0.285920</td>\n",
       "    </tr>\n",
       "    <tr>\n",
       "      <th>5</th>\n",
       "      <td>Launch_Month</td>\n",
       "      <td>0.757193</td>\n",
       "    </tr>\n",
       "    <tr>\n",
       "      <th>6</th>\n",
       "      <td>Launch_Day</td>\n",
       "      <td>-0.409843</td>\n",
       "    </tr>\n",
       "    <tr>\n",
       "      <th>7</th>\n",
       "      <td>blurb_words_count</td>\n",
       "      <td>0.584292</td>\n",
       "    </tr>\n",
       "    <tr>\n",
       "      <th>8</th>\n",
       "      <td>name_words_count</td>\n",
       "      <td>-0.420564</td>\n",
       "    </tr>\n",
       "    <tr>\n",
       "      <th>9</th>\n",
       "      <td>usd_goal</td>\n",
       "      <td>1.077118</td>\n",
       "    </tr>\n",
       "    <tr>\n",
       "      <th>10</th>\n",
       "      <td>dance</td>\n",
       "      <td>1.076537</td>\n",
       "    </tr>\n",
       "    <tr>\n",
       "      <th>11</th>\n",
       "      <td>design</td>\n",
       "      <td>0.148956</td>\n",
       "    </tr>\n",
       "    <tr>\n",
       "      <th>12</th>\n",
       "      <td>fashion</td>\n",
       "      <td>-0.268717</td>\n",
       "    </tr>\n",
       "    <tr>\n",
       "      <th>13</th>\n",
       "      <td>film%20&amp;%20video</td>\n",
       "      <td>0.613247</td>\n",
       "    </tr>\n",
       "    <tr>\n",
       "      <th>14</th>\n",
       "      <td>food</td>\n",
       "      <td>0.168660</td>\n",
       "    </tr>\n",
       "    <tr>\n",
       "      <th>15</th>\n",
       "      <td>games</td>\n",
       "      <td>-0.061918</td>\n",
       "    </tr>\n",
       "    <tr>\n",
       "      <th>16</th>\n",
       "      <td>journalism</td>\n",
       "      <td>-0.043732</td>\n",
       "    </tr>\n",
       "    <tr>\n",
       "      <th>17</th>\n",
       "      <td>music</td>\n",
       "      <td>-0.067401</td>\n",
       "    </tr>\n",
       "    <tr>\n",
       "      <th>18</th>\n",
       "      <td>publishing</td>\n",
       "      <td>0.182657</td>\n",
       "    </tr>\n",
       "    <tr>\n",
       "      <th>19</th>\n",
       "      <td>technology</td>\n",
       "      <td>-0.662675</td>\n",
       "    </tr>\n",
       "  </tbody>\n",
       "</table>\n",
       "</div>"
      ],
      "text/plain": [
       "         Feature name  Coefficient\n",
       "0           Intercept    -0.241408\n",
       "1          staff_pick     2.733094\n",
       "2       Launch_Period     1.488000\n",
       "3   Created_to_Launch     0.419826\n",
       "4         Launch_Year    -0.285920\n",
       "5        Launch_Month     0.757193\n",
       "6          Launch_Day    -0.409843\n",
       "7   blurb_words_count     0.584292\n",
       "8    name_words_count    -0.420564\n",
       "9            usd_goal     1.077118\n",
       "10              dance     1.076537\n",
       "11             design     0.148956\n",
       "12            fashion    -0.268717\n",
       "13   film%20&%20video     0.613247\n",
       "14               food     0.168660\n",
       "15              games    -0.061918\n",
       "16         journalism    -0.043732\n",
       "17              music    -0.067401\n",
       "18         publishing     0.182657\n",
       "19         technology    -0.662675"
      ]
     },
     "execution_count": 1203,
     "metadata": {},
     "output_type": "execute_result"
    }
   ],
   "source": [
    "summary_table.index = summary_table.index + 1\n",
    "summary_table.loc[0] = ['Intercept', logmodel.intercept_[0]]\n",
    "summary_table = summary_table.sort_index()\n",
    "summary_table"
   ]
  },
  {
   "cell_type": "markdown",
   "id": "compact-investor",
   "metadata": {},
   "source": [
    "interpreting by odd ratio"
   ]
  },
  {
   "cell_type": "code",
   "execution_count": 1204,
   "id": "identical-producer",
   "metadata": {},
   "outputs": [
    {
     "data": {
      "text/html": [
       "<div>\n",
       "<style scoped>\n",
       "    .dataframe tbody tr th:only-of-type {\n",
       "        vertical-align: middle;\n",
       "    }\n",
       "\n",
       "    .dataframe tbody tr th {\n",
       "        vertical-align: top;\n",
       "    }\n",
       "\n",
       "    .dataframe thead th {\n",
       "        text-align: right;\n",
       "    }\n",
       "</style>\n",
       "<table border=\"1\" class=\"dataframe\">\n",
       "  <thead>\n",
       "    <tr style=\"text-align: right;\">\n",
       "      <th></th>\n",
       "      <th>Feature name</th>\n",
       "      <th>Coefficient</th>\n",
       "      <th>Odds_ratio</th>\n",
       "    </tr>\n",
       "  </thead>\n",
       "  <tbody>\n",
       "    <tr>\n",
       "      <th>0</th>\n",
       "      <td>Intercept</td>\n",
       "      <td>-0.241408</td>\n",
       "      <td>0.785521</td>\n",
       "    </tr>\n",
       "    <tr>\n",
       "      <th>1</th>\n",
       "      <td>staff_pick</td>\n",
       "      <td>2.733094</td>\n",
       "      <td>15.380401</td>\n",
       "    </tr>\n",
       "    <tr>\n",
       "      <th>2</th>\n",
       "      <td>Launch_Period</td>\n",
       "      <td>1.488000</td>\n",
       "      <td>4.428232</td>\n",
       "    </tr>\n",
       "    <tr>\n",
       "      <th>3</th>\n",
       "      <td>Created_to_Launch</td>\n",
       "      <td>0.419826</td>\n",
       "      <td>1.521696</td>\n",
       "    </tr>\n",
       "    <tr>\n",
       "      <th>4</th>\n",
       "      <td>Launch_Year</td>\n",
       "      <td>-0.285920</td>\n",
       "      <td>0.751323</td>\n",
       "    </tr>\n",
       "    <tr>\n",
       "      <th>5</th>\n",
       "      <td>Launch_Month</td>\n",
       "      <td>0.757193</td>\n",
       "      <td>2.132283</td>\n",
       "    </tr>\n",
       "    <tr>\n",
       "      <th>6</th>\n",
       "      <td>Launch_Day</td>\n",
       "      <td>-0.409843</td>\n",
       "      <td>0.663754</td>\n",
       "    </tr>\n",
       "    <tr>\n",
       "      <th>7</th>\n",
       "      <td>blurb_words_count</td>\n",
       "      <td>0.584292</td>\n",
       "      <td>1.793720</td>\n",
       "    </tr>\n",
       "    <tr>\n",
       "      <th>8</th>\n",
       "      <td>name_words_count</td>\n",
       "      <td>-0.420564</td>\n",
       "      <td>0.656676</td>\n",
       "    </tr>\n",
       "    <tr>\n",
       "      <th>9</th>\n",
       "      <td>usd_goal</td>\n",
       "      <td>1.077118</td>\n",
       "      <td>2.936205</td>\n",
       "    </tr>\n",
       "    <tr>\n",
       "      <th>10</th>\n",
       "      <td>dance</td>\n",
       "      <td>1.076537</td>\n",
       "      <td>2.934499</td>\n",
       "    </tr>\n",
       "    <tr>\n",
       "      <th>11</th>\n",
       "      <td>design</td>\n",
       "      <td>0.148956</td>\n",
       "      <td>1.160622</td>\n",
       "    </tr>\n",
       "    <tr>\n",
       "      <th>12</th>\n",
       "      <td>fashion</td>\n",
       "      <td>-0.268717</td>\n",
       "      <td>0.764360</td>\n",
       "    </tr>\n",
       "    <tr>\n",
       "      <th>13</th>\n",
       "      <td>film%20&amp;%20video</td>\n",
       "      <td>0.613247</td>\n",
       "      <td>1.846417</td>\n",
       "    </tr>\n",
       "    <tr>\n",
       "      <th>14</th>\n",
       "      <td>food</td>\n",
       "      <td>0.168660</td>\n",
       "      <td>1.183717</td>\n",
       "    </tr>\n",
       "    <tr>\n",
       "      <th>15</th>\n",
       "      <td>games</td>\n",
       "      <td>-0.061918</td>\n",
       "      <td>0.939960</td>\n",
       "    </tr>\n",
       "    <tr>\n",
       "      <th>16</th>\n",
       "      <td>journalism</td>\n",
       "      <td>-0.043732</td>\n",
       "      <td>0.957211</td>\n",
       "    </tr>\n",
       "    <tr>\n",
       "      <th>17</th>\n",
       "      <td>music</td>\n",
       "      <td>-0.067401</td>\n",
       "      <td>0.934820</td>\n",
       "    </tr>\n",
       "    <tr>\n",
       "      <th>18</th>\n",
       "      <td>publishing</td>\n",
       "      <td>0.182657</td>\n",
       "      <td>1.200403</td>\n",
       "    </tr>\n",
       "    <tr>\n",
       "      <th>19</th>\n",
       "      <td>technology</td>\n",
       "      <td>-0.662675</td>\n",
       "      <td>0.515470</td>\n",
       "    </tr>\n",
       "  </tbody>\n",
       "</table>\n",
       "</div>"
      ],
      "text/plain": [
       "         Feature name  Coefficient  Odds_ratio\n",
       "0           Intercept    -0.241408    0.785521\n",
       "1          staff_pick     2.733094   15.380401\n",
       "2       Launch_Period     1.488000    4.428232\n",
       "3   Created_to_Launch     0.419826    1.521696\n",
       "4         Launch_Year    -0.285920    0.751323\n",
       "5        Launch_Month     0.757193    2.132283\n",
       "6          Launch_Day    -0.409843    0.663754\n",
       "7   blurb_words_count     0.584292    1.793720\n",
       "8    name_words_count    -0.420564    0.656676\n",
       "9            usd_goal     1.077118    2.936205\n",
       "10              dance     1.076537    2.934499\n",
       "11             design     0.148956    1.160622\n",
       "12            fashion    -0.268717    0.764360\n",
       "13   film%20&%20video     0.613247    1.846417\n",
       "14               food     0.168660    1.183717\n",
       "15              games    -0.061918    0.939960\n",
       "16         journalism    -0.043732    0.957211\n",
       "17              music    -0.067401    0.934820\n",
       "18         publishing     0.182657    1.200403\n",
       "19         technology    -0.662675    0.515470"
      ]
     },
     "execution_count": 1204,
     "metadata": {},
     "output_type": "execute_result"
    }
   ],
   "source": [
    "summary_table['Odds_ratio'] = np.exp(summary_table.Coefficient)\n",
    "summary_table"
   ]
  },
  {
   "cell_type": "code",
   "execution_count": 1205,
   "id": "meaningful-reputation",
   "metadata": {},
   "outputs": [
    {
     "data": {
      "text/html": [
       "<div>\n",
       "<style scoped>\n",
       "    .dataframe tbody tr th:only-of-type {\n",
       "        vertical-align: middle;\n",
       "    }\n",
       "\n",
       "    .dataframe tbody tr th {\n",
       "        vertical-align: top;\n",
       "    }\n",
       "\n",
       "    .dataframe thead th {\n",
       "        text-align: right;\n",
       "    }\n",
       "</style>\n",
       "<table border=\"1\" class=\"dataframe\">\n",
       "  <thead>\n",
       "    <tr style=\"text-align: right;\">\n",
       "      <th></th>\n",
       "      <th>Feature name</th>\n",
       "      <th>Coefficient</th>\n",
       "      <th>Odds_ratio</th>\n",
       "    </tr>\n",
       "  </thead>\n",
       "  <tbody>\n",
       "    <tr>\n",
       "      <th>1</th>\n",
       "      <td>staff_pick</td>\n",
       "      <td>2.733094</td>\n",
       "      <td>15.380401</td>\n",
       "    </tr>\n",
       "    <tr>\n",
       "      <th>2</th>\n",
       "      <td>Launch_Period</td>\n",
       "      <td>1.488000</td>\n",
       "      <td>4.428232</td>\n",
       "    </tr>\n",
       "    <tr>\n",
       "      <th>9</th>\n",
       "      <td>usd_goal</td>\n",
       "      <td>1.077118</td>\n",
       "      <td>2.936205</td>\n",
       "    </tr>\n",
       "    <tr>\n",
       "      <th>10</th>\n",
       "      <td>dance</td>\n",
       "      <td>1.076537</td>\n",
       "      <td>2.934499</td>\n",
       "    </tr>\n",
       "    <tr>\n",
       "      <th>5</th>\n",
       "      <td>Launch_Month</td>\n",
       "      <td>0.757193</td>\n",
       "      <td>2.132283</td>\n",
       "    </tr>\n",
       "    <tr>\n",
       "      <th>13</th>\n",
       "      <td>film%20&amp;%20video</td>\n",
       "      <td>0.613247</td>\n",
       "      <td>1.846417</td>\n",
       "    </tr>\n",
       "    <tr>\n",
       "      <th>7</th>\n",
       "      <td>blurb_words_count</td>\n",
       "      <td>0.584292</td>\n",
       "      <td>1.793720</td>\n",
       "    </tr>\n",
       "    <tr>\n",
       "      <th>3</th>\n",
       "      <td>Created_to_Launch</td>\n",
       "      <td>0.419826</td>\n",
       "      <td>1.521696</td>\n",
       "    </tr>\n",
       "    <tr>\n",
       "      <th>18</th>\n",
       "      <td>publishing</td>\n",
       "      <td>0.182657</td>\n",
       "      <td>1.200403</td>\n",
       "    </tr>\n",
       "    <tr>\n",
       "      <th>14</th>\n",
       "      <td>food</td>\n",
       "      <td>0.168660</td>\n",
       "      <td>1.183717</td>\n",
       "    </tr>\n",
       "    <tr>\n",
       "      <th>11</th>\n",
       "      <td>design</td>\n",
       "      <td>0.148956</td>\n",
       "      <td>1.160622</td>\n",
       "    </tr>\n",
       "    <tr>\n",
       "      <th>16</th>\n",
       "      <td>journalism</td>\n",
       "      <td>-0.043732</td>\n",
       "      <td>0.957211</td>\n",
       "    </tr>\n",
       "    <tr>\n",
       "      <th>15</th>\n",
       "      <td>games</td>\n",
       "      <td>-0.061918</td>\n",
       "      <td>0.939960</td>\n",
       "    </tr>\n",
       "    <tr>\n",
       "      <th>17</th>\n",
       "      <td>music</td>\n",
       "      <td>-0.067401</td>\n",
       "      <td>0.934820</td>\n",
       "    </tr>\n",
       "    <tr>\n",
       "      <th>0</th>\n",
       "      <td>Intercept</td>\n",
       "      <td>-0.241408</td>\n",
       "      <td>0.785521</td>\n",
       "    </tr>\n",
       "    <tr>\n",
       "      <th>12</th>\n",
       "      <td>fashion</td>\n",
       "      <td>-0.268717</td>\n",
       "      <td>0.764360</td>\n",
       "    </tr>\n",
       "    <tr>\n",
       "      <th>4</th>\n",
       "      <td>Launch_Year</td>\n",
       "      <td>-0.285920</td>\n",
       "      <td>0.751323</td>\n",
       "    </tr>\n",
       "    <tr>\n",
       "      <th>6</th>\n",
       "      <td>Launch_Day</td>\n",
       "      <td>-0.409843</td>\n",
       "      <td>0.663754</td>\n",
       "    </tr>\n",
       "    <tr>\n",
       "      <th>8</th>\n",
       "      <td>name_words_count</td>\n",
       "      <td>-0.420564</td>\n",
       "      <td>0.656676</td>\n",
       "    </tr>\n",
       "    <tr>\n",
       "      <th>19</th>\n",
       "      <td>technology</td>\n",
       "      <td>-0.662675</td>\n",
       "      <td>0.515470</td>\n",
       "    </tr>\n",
       "  </tbody>\n",
       "</table>\n",
       "</div>"
      ],
      "text/plain": [
       "         Feature name  Coefficient  Odds_ratio\n",
       "1          staff_pick     2.733094   15.380401\n",
       "2       Launch_Period     1.488000    4.428232\n",
       "9            usd_goal     1.077118    2.936205\n",
       "10              dance     1.076537    2.934499\n",
       "5        Launch_Month     0.757193    2.132283\n",
       "13   film%20&%20video     0.613247    1.846417\n",
       "7   blurb_words_count     0.584292    1.793720\n",
       "3   Created_to_Launch     0.419826    1.521696\n",
       "18         publishing     0.182657    1.200403\n",
       "14               food     0.168660    1.183717\n",
       "11             design     0.148956    1.160622\n",
       "16         journalism    -0.043732    0.957211\n",
       "15              games    -0.061918    0.939960\n",
       "17              music    -0.067401    0.934820\n",
       "0           Intercept    -0.241408    0.785521\n",
       "12            fashion    -0.268717    0.764360\n",
       "4         Launch_Year    -0.285920    0.751323\n",
       "6          Launch_Day    -0.409843    0.663754\n",
       "8    name_words_count    -0.420564    0.656676\n",
       "19         technology    -0.662675    0.515470"
      ]
     },
     "execution_count": 1205,
     "metadata": {},
     "output_type": "execute_result"
    }
   ],
   "source": [
    "# A feautre is not particularly important :if its coefficient is around 0, oddratio around 1\n",
    "summary_table.sort_values('Odds_ratio', ascending = False)"
   ]
  },
  {
   "cell_type": "markdown",
   "id": "cross-socket",
   "metadata": {},
   "source": [
    "### Evaluation 2"
   ]
  },
  {
   "cell_type": "code",
   "execution_count": 1206,
   "id": "increasing-jenny",
   "metadata": {},
   "outputs": [
    {
     "name": "stdout",
     "output_type": "stream",
     "text": [
      "[[240 188]\n",
      " [115 531]]\n"
     ]
    }
   ],
   "source": [
    "from sklearn.metrics import confusion_matrix\n",
    "print(confusion_matrix(y_test,predictions))"
   ]
  },
  {
   "cell_type": "code",
   "execution_count": 1207,
   "id": "large-funds",
   "metadata": {},
   "outputs": [
    {
     "name": "stdout",
     "output_type": "stream",
     "text": [
      "              precision    recall  f1-score   support\n",
      "\n",
      "           0       0.68      0.56      0.61       428\n",
      "           1       0.74      0.82      0.78       646\n",
      "\n",
      "    accuracy                           0.72      1074\n",
      "   macro avg       0.71      0.69      0.70      1074\n",
      "weighted avg       0.71      0.72      0.71      1074\n",
      "\n"
     ]
    }
   ],
   "source": [
    "from sklearn.metrics import classification_report\n",
    "print(classification_report(y_test,predictions))"
   ]
  },
  {
   "cell_type": "code",
   "execution_count": 1208,
   "id": "cardiovascular-paste",
   "metadata": {},
   "outputs": [],
   "source": [
    "from sklearn.metrics import accuracy_score"
   ]
  },
  {
   "cell_type": "code",
   "execution_count": 1209,
   "id": "brown-testing",
   "metadata": {},
   "outputs": [],
   "source": [
    "log_test_acc=accuracy_score(y_test,predictions)\n",
    "log_train_acc=accuracy_score(y_train,logmodel.predict(X_train_scaled_features_df))"
   ]
  },
  {
   "cell_type": "code",
   "execution_count": 1210,
   "id": "infectious-promise",
   "metadata": {},
   "outputs": [
    {
     "data": {
      "text/plain": [
       "0.7178770949720671"
      ]
     },
     "execution_count": 1210,
     "metadata": {},
     "output_type": "execute_result"
    }
   ],
   "source": [
    "log_test_acc"
   ]
  },
  {
   "cell_type": "code",
   "execution_count": 1211,
   "id": "ethical-password",
   "metadata": {},
   "outputs": [
    {
     "data": {
      "text/plain": [
       "0.7376198083067093"
      ]
     },
     "execution_count": 1211,
     "metadata": {},
     "output_type": "execute_result"
    }
   ],
   "source": [
    "log_train_acc"
   ]
  },
  {
   "cell_type": "code",
   "execution_count": 1212,
   "id": "adaptive-ivory",
   "metadata": {},
   "outputs": [
    {
     "name": "stdout",
     "output_type": "stream",
     "text": [
      "Accuracy of logistic_test: 71.79 %\n",
      "Accuracy of logistic_train: 73.76 %\n"
     ]
    }
   ],
   "source": [
    "print('Accuracy of logistic_test:',round(log_test_acc*100,2),'%')\n",
    "print('Accuracy of logistic_train:',round(log_train_acc*100,2),'%')"
   ]
  },
  {
   "cell_type": "markdown",
   "id": "rapid-feelings",
   "metadata": {},
   "source": [
    "# Decision tree\n"
   ]
  },
  {
   "cell_type": "code",
   "execution_count": 1213,
   "id": "invisible-budget",
   "metadata": {},
   "outputs": [],
   "source": [
    "from sklearn.tree import DecisionTreeClassifier"
   ]
  },
  {
   "cell_type": "code",
   "execution_count": 1214,
   "id": "stuck-movement",
   "metadata": {},
   "outputs": [],
   "source": [
    "# can change the max_depth to optimize\n",
    "dtree=DecisionTreeClassifier(max_depth=4)\n"
   ]
  },
  {
   "cell_type": "code",
   "execution_count": 1215,
   "id": "cardiovascular-orchestra",
   "metadata": {},
   "outputs": [
    {
     "data": {
      "text/plain": [
       "DecisionTreeClassifier(max_depth=4)"
      ]
     },
     "execution_count": 1215,
     "metadata": {},
     "output_type": "execute_result"
    }
   ],
   "source": [
    "dtree.fit(X_train,y_train)"
   ]
  },
  {
   "cell_type": "code",
   "execution_count": 1216,
   "id": "detailed-bridges",
   "metadata": {},
   "outputs": [],
   "source": [
    "from sklearn.metrics import f1_score\n",
    "from sklearn.metrics import accuracy_score"
   ]
  },
  {
   "cell_type": "code",
   "execution_count": 1217,
   "id": "metallic-flood",
   "metadata": {},
   "outputs": [],
   "source": [
    "def f1_scores_by_depth(depth):\n",
    "    dtree=DecisionTreeClassifier(max_depth=depth)\n",
    "    dtree.fit(X_train,y_train)\n",
    "    return f1_score(y_true=y_train,y_pred=dtree.predict(X_train)),f1_score(y_true=y_test,y_pred=dtree.predict(X_test))"
   ]
  },
  {
   "cell_type": "code",
   "execution_count": 1218,
   "id": "victorian-correspondence",
   "metadata": {},
   "outputs": [
    {
     "data": {
      "text/plain": [
       "Text(0, 0.5, 'depth')"
      ]
     },
     "execution_count": 1218,
     "metadata": {},
     "output_type": "execute_result"
    },
    {
     "data": {
      "image/png": "[encoded data removed]",
      "text/plain": [
       "<Figure size 1008x576 with 1 Axes>"
      ]
     },
     "metadata": {
      "needs_background": "light"
     },
     "output_type": "display_data"
    }
   ],
   "source": [
    "# smaller the gap, higher f1 score is better\n",
    "pd.DataFrame([f1_scores_by_depth(depth) for depth in range(1,11)], \n",
    "             columns=['train', 'test'], \n",
    "             index=range(1,11)) \\\n",
    "  .plot(figsize=(14,8))\n",
    "plt.ylabel('f1_score')\n",
    "plt.ylabel('depth')"
   ]
  },
  {
   "cell_type": "code",
   "execution_count": 1219,
   "id": "excess-slovakia",
   "metadata": {},
   "outputs": [],
   "source": [
    "predictions=dtree.predict(X_test)"
   ]
  },
  {
   "cell_type": "code",
   "execution_count": 1220,
   "id": "understanding-heritage",
   "metadata": {},
   "outputs": [],
   "source": [
    "from sklearn.metrics import classification_report,confusion_matrix"
   ]
  },
  {
   "cell_type": "code",
   "execution_count": 1221,
   "id": "nasty-roller",
   "metadata": {},
   "outputs": [
    {
     "name": "stdout",
     "output_type": "stream",
     "text": [
      "              precision    recall  f1-score   support\n",
      "\n",
      "           0       0.68      0.54      0.60       428\n",
      "           1       0.73      0.83      0.78       646\n",
      "\n",
      "    accuracy                           0.71      1074\n",
      "   macro avg       0.70      0.68      0.69      1074\n",
      "weighted avg       0.71      0.71      0.70      1074\n",
      "\n"
     ]
    }
   ],
   "source": [
    "print(classification_report(y_test,predictions))\n"
   ]
  },
  {
   "cell_type": "code",
   "execution_count": 1222,
   "id": "social-adobe",
   "metadata": {},
   "outputs": [],
   "source": [
    "from sklearn.tree import plot_tree"
   ]
  },
  {
   "cell_type": "code",
   "execution_count": 1223,
   "id": "touched-fishing",
   "metadata": {},
   "outputs": [
    {
     "name": "stdout",
     "output_type": "stream",
     "text": [
      "0.7122905027932961\n",
      "0.728035143769968\n"
     ]
    },
    {
     "data": {
      "image/png": "[encoded data removed]",
      "text/plain": [
       "<Figure size 1440x1224 with 1 Axes>"
      ]
     },
     "metadata": {
      "needs_background": "light"
     },
     "output_type": "display_data"
    }
   ],
   "source": [
    "fig=plt.figure(figsize=(20,17))\n",
    "a=plot_tree(dtree,feature_names=X_train.columns,fontsize=12,filled=True,\n",
    "            class_names=['Not Survived','Survived'])\n",
    "\n",
    "print(accuracy_score(y_true=y_test,y_pred=dtree.predict(X_test)))\n",
    "print(accuracy_score(y_true=y_train,y_pred=dtree.predict(X_train)))\n"
   ]
  },
  {
   "cell_type": "markdown",
   "id": "expired-farming",
   "metadata": {},
   "source": [
    "# Random Forest"
   ]
  },
  {
   "cell_type": "code",
   "execution_count": 1247,
   "id": "french-morris",
   "metadata": {},
   "outputs": [],
   "source": [
    "from sklearn.ensemble import RandomForestClassifier"
   ]
  },
  {
   "cell_type": "code",
   "execution_count": 1248,
   "id": "freelance-lewis",
   "metadata": {},
   "outputs": [],
   "source": [
    "rfc=RandomForestClassifier(n_estimators=250,max_depth=6, random_state=42)\n"
   ]
  },
  {
   "cell_type": "code",
   "execution_count": 1249,
   "id": "distinct-gnome",
   "metadata": {},
   "outputs": [
    {
     "data": {
      "text/plain": [
       "RandomForestClassifier(max_depth=6, n_estimators=250, random_state=42)"
      ]
     },
     "execution_count": 1249,
     "metadata": {},
     "output_type": "execute_result"
    }
   ],
   "source": [
    "rfc.fit(X_train,y_train)"
   ]
  },
  {
   "cell_type": "code",
   "execution_count": 1250,
   "id": "alpha-payment",
   "metadata": {},
   "outputs": [],
   "source": [
    "def f1_scores_by_depth_and_estimators(depth, n_estimators):\n",
    "    rfc = RandomForestClassifier(max_depth=depth, n_estimators=n_estimators)\n",
    "    rfc.fit(X_train, y_train)\n",
    "    return f1_score(y_true=y_test, y_pred=rfc.predict(X_test))"
   ]
  },
  {
   "cell_type": "code",
   "execution_count": 1251,
   "id": "featured-model",
   "metadata": {},
   "outputs": [
    {
     "data": {
      "text/plain": [
       "<AxesSubplot:>"
      ]
     },
     "execution_count": 1251,
     "metadata": {},
     "output_type": "execute_result"
    },
    {
     "data": {
      "image/png": "[encoded data removed]",
      "text/plain": [
       "<Figure size 864x576 with 2 Axes>"
      ]
     },
     "metadata": {
      "needs_background": "light"
     },
     "output_type": "display_data"
    }
   ],
   "source": [
    "#based on f1 score\n",
    "#prefer the lighter color(higher f1 score)\n",
    "import seaborn as sns\n",
    "import matplotlib.pyplot as plt\n",
    "\n",
    "fig, ax = plt.subplots(figsize=(12,8))\n",
    "\n",
    "d_range = range(1,11)\n",
    "n_range = range(1,100)\n",
    "\n",
    "sns.heatmap(\n",
    "pd.DataFrame([[f1_scores_by_depth_and_estimators(d, n) for d in d_range] for n in n_range], \n",
    "             columns=['depth'+str(i) for i in d_range], \n",
    "             index=n_range)\n",
    ")"
   ]
  },
  {
   "cell_type": "code",
   "execution_count": 1254,
   "id": "reported-capitol",
   "metadata": {},
   "outputs": [
    {
     "name": "stdout",
     "output_type": "stream",
     "text": [
      "{'max_features': 4, 'min_samples_split': 10}\n",
      "0.749534450651769\n",
      "[[251 177]\n",
      " [ 92 554]]\n"
     ]
    }
   ],
   "source": [
    "#or based on accuracy\n",
    "from sklearn.model_selection import GridSearchCV\n",
    "\n",
    "rf_clf = RandomForestClassifier(n_estimators=250,random_state=42)\n",
    "\n",
    "params_grid = {\"max_features\":[4,5,6,7,8,9,10],\n",
    "                \"min_samples_split\":[2,3,10]}\n",
    "                \n",
    "grid_search = GridSearchCV(rf_clf, params_grid, n_jobs = -1, cv=5, scoring='accuracy')\n",
    "\n",
    "\n",
    "grid_search.fit(X_train,y_train)\n",
    "print(grid_search.best_params_)\n",
    "cvrf_clf = grid_search.best_estimator_\n",
    "print(accuracy_score(y_test, cvrf_clf.predict(X_test)))\n",
    "print(confusion_matrix(y_test, cvrf_clf.predict(X_test)))"
   ]
  },
  {
   "cell_type": "code",
   "execution_count": 1252,
   "id": "partial-curtis",
   "metadata": {},
   "outputs": [],
   "source": [
    "prediction_rf=rfc.predict(X_test)"
   ]
  },
  {
   "cell_type": "code",
   "execution_count": 1253,
   "id": "hourly-connecticut",
   "metadata": {},
   "outputs": [
    {
     "name": "stdout",
     "output_type": "stream",
     "text": [
      "              precision    recall  f1-score   support\n",
      "\n",
      "           0       0.75      0.51      0.61       428\n",
      "           1       0.73      0.89      0.80       646\n",
      "\n",
      "    accuracy                           0.74      1074\n",
      "   macro avg       0.74      0.70      0.71      1074\n",
      "weighted avg       0.74      0.74      0.73      1074\n",
      "\n"
     ]
    }
   ],
   "source": [
    "print(classification_report(y_test,prediction_rf))"
   ]
  },
  {
   "cell_type": "markdown",
   "id": "assigned-energy",
   "metadata": {},
   "source": [
    "## XG Boost"
   ]
  },
  {
   "cell_type": "code",
   "execution_count": 870,
   "id": "statewide-nursery",
   "metadata": {},
   "outputs": [],
   "source": [
    "from xgboost import XGBClassifier"
   ]
  },
  {
   "cell_type": "code",
   "execution_count": 871,
   "id": "blessed-scanning",
   "metadata": {},
   "outputs": [
    {
     "name": "stderr",
     "output_type": "stream",
     "text": [
      "c:\\users\\grace\\appdata\\local\\programs\\python\\python38\\lib\\site-packages\\xgboost\\sklearn.py:1146: UserWarning: The use of label encoder in XGBClassifier is deprecated and will be removed in a future release. To remove this warning, do the following: 1) Pass option use_label_encoder=False when constructing XGBClassifier object; and 2) Encode your labels (y) as integers starting with 0, i.e. 0, 1, 2, ..., [num_class - 1].\n",
      "  warnings.warn(label_encoder_deprecation_msg, UserWarning)\n"
     ]
    },
    {
     "name": "stdout",
     "output_type": "stream",
     "text": [
      "[19:38:25] WARNING: C:/Users/Administrator/workspace/xgboost-win64_release_1.4.0/src/learner.cc:1095: Starting in XGBoost 1.3.0, the default evaluation metric used with the objective 'binary:logistic' was changed from 'error' to 'logloss'. Explicitly set eval_metric if you'd like to restore the old behavior.\n"
     ]
    },
    {
     "data": {
      "text/plain": [
       "XGBClassifier(base_score=0.5, booster='gbtree', colsample_bylevel=1,\n",
       "              colsample_bynode=1, colsample_bytree=1, gamma=0, gpu_id=-1,\n",
       "              importance_type='gain', interaction_constraints='',\n",
       "              learning_rate=0.300000012, max_delta_step=0, max_depth=6,\n",
       "              min_child_weight=1, missing=nan, monotone_constraints='()',\n",
       "              n_estimators=100, n_jobs=12, num_parallel_tree=1, random_state=0,\n",
       "              reg_alpha=0, reg_lambda=1, scale_pos_weight=1, subsample=1,\n",
       "              tree_method='exact', validate_parameters=1, verbosity=None)"
      ]
     },
     "execution_count": 871,
     "metadata": {},
     "output_type": "execute_result"
    }
   ],
   "source": [
    "XGB_model=XGBClassifier()\n",
    "XGB_model.fit(X_train,y_train)"
   ]
  },
  {
   "cell_type": "code",
   "execution_count": 872,
   "id": "ordered-easter",
   "metadata": {},
   "outputs": [],
   "source": [
    "y_pred = XGB_model.predict(X_test)\n",
    "predictions_xg = [round(value) for value in y_pred]"
   ]
  },
  {
   "cell_type": "code",
   "execution_count": 873,
   "id": "floppy-wiring",
   "metadata": {},
   "outputs": [
    {
     "name": "stdout",
     "output_type": "stream",
     "text": [
      "Acurracy of XGB: 73.9292364990689 %\n"
     ]
    }
   ],
   "source": [
    "# evaluate predictions\n",
    "accuracy = accuracy_score(y_test,predictions_xg)\n",
    "\n",
    "print('Acurracy of XGB:',accuracy*100.0,'%')"
   ]
  },
  {
   "cell_type": "code",
   "execution_count": 874,
   "id": "advance-shirt",
   "metadata": {},
   "outputs": [
    {
     "name": "stdout",
     "output_type": "stream",
     "text": [
      "              precision    recall  f1-score   support\n",
      "\n",
      "           0       0.70      0.61      0.65       428\n",
      "           1       0.76      0.83      0.79       646\n",
      "\n",
      "    accuracy                           0.74      1074\n",
      "   macro avg       0.73      0.72      0.72      1074\n",
      "weighted avg       0.74      0.74      0.74      1074\n",
      "\n"
     ]
    }
   ],
   "source": [
    "print(classification_report(y_test,predictions_xg))"
   ]
  },
  {
   "cell_type": "code",
   "execution_count": 875,
   "id": "falling-myrtle",
   "metadata": {},
   "outputs": [
    {
     "name": "stdout",
     "output_type": "stream",
     "text": [
      "Accuracy of XGB_test: 73.93%\n",
      "Accuracy of XGB_train: 99.28%\n"
     ]
    }
   ],
   "source": [
    "xgb_test_acc=accuracy_score(y_true=y_test, y_pred= XGB_model.predict(X_test))\n",
    "xgb_train_acc=accuracy_score(y_true=y_train, y_pred= XGB_model.predict(X_train))\n",
    "print(\"Accuracy of XGB_test: %.2f%%\" % (xgb_test_acc * 100.0))\n",
    "print(\"Accuracy of XGB_train: %.2f%%\" % (xgb_train_acc * 100.0))"
   ]
  },
  {
   "cell_type": "markdown",
   "id": "limiting-sellers",
   "metadata": {},
   "source": [
    "# Predict pledging amount"
   ]
  },
  {
   "cell_type": "markdown",
   "id": "cutting-christmas",
   "metadata": {},
   "source": [
    "## split data and stadardisation"
   ]
  },
  {
   "cell_type": "code",
   "execution_count": 876,
   "id": "comparative-textbook",
   "metadata": {},
   "outputs": [],
   "source": [
    "X = data_predict_pledging_amount.drop('usd_pledged',axis=1)\n",
    "y = data_predict_pledging_amount['usd_pledged']"
   ]
  },
  {
   "cell_type": "code",
   "execution_count": 877,
   "id": "marine-logging",
   "metadata": {},
   "outputs": [],
   "source": [
    "from sklearn.model_selection import train_test_split"
   ]
  },
  {
   "cell_type": "code",
   "execution_count": 878,
   "id": "coordinated-donor",
   "metadata": {},
   "outputs": [],
   "source": [
    "X_train,X_test,y_train, y_test =train_test_split(X,y,test_size=0.3,random_state=101)"
   ]
  },
  {
   "cell_type": "code",
   "execution_count": 879,
   "id": "rural-slave",
   "metadata": {},
   "outputs": [],
   "source": [
    "from  sklearn.preprocessing import StandardScaler\n",
    "X_train_scaled_features=StandardScaler().fit_transform(X_train.values)\n",
    "X_test_scaled_features=StandardScaler().fit_transform(X_test.values)\n"
   ]
  },
  {
   "cell_type": "code",
   "execution_count": 880,
   "id": "flush-corps",
   "metadata": {},
   "outputs": [
    {
     "data": {
      "text/plain": [
       "array([[-0.3920039 , -0.27302412,  0.00609626, ...,  1.63829633,\n",
       "        -0.3497289 , -0.18266935],\n",
       "       [-0.3920039 , -2.14134545, -0.32953656, ..., -0.61039018,\n",
       "        -0.3497289 , -0.18266935],\n",
       "       [-0.3920039 , -0.27302412, -0.25853731, ..., -0.61039018,\n",
       "        -0.3497289 , -0.18266935],\n",
       "       ...,\n",
       "       [-0.3920039 , -0.27302412,  3.07842744, ..., -0.61039018,\n",
       "        -0.3497289 , -0.18266935],\n",
       "       [-0.3920039 , -0.27302412,  0.03191417, ...,  1.63829633,\n",
       "        -0.3497289 , -0.18266935],\n",
       "       [-0.3920039 , -0.27302412, -0.32953656, ..., -0.61039018,\n",
       "        -0.3497289 , -0.18266935]])"
      ]
     },
     "execution_count": 880,
     "metadata": {},
     "output_type": "execute_result"
    }
   ],
   "source": [
    "X_test_scaled_features"
   ]
  },
  {
   "cell_type": "code",
   "execution_count": 881,
   "id": "sharing-wichita",
   "metadata": {},
   "outputs": [],
   "source": [
    "#array to df\n",
    "X_train_scaled_features_df = pd.DataFrame(X_train_scaled_features,index=X_train.index,columns=X_train.columns)\n",
    "X_test_scaled_features_df = pd.DataFrame(X_test_scaled_features,index=X_test.index,columns=X_test.columns)"
   ]
  },
  {
   "cell_type": "code",
   "execution_count": 882,
   "id": "continued-prefix",
   "metadata": {},
   "outputs": [
    {
     "data": {
      "text/plain": [
       "LinearRegression()"
      ]
     },
     "execution_count": 882,
     "metadata": {},
     "output_type": "execute_result"
    }
   ],
   "source": [
    "from sklearn.linear_model import LinearRegression\n",
    "lm = LinearRegression()\n",
    "lm.fit(X_train_scaled_features,y_train)"
   ]
  },
  {
   "cell_type": "code",
   "execution_count": 883,
   "id": "visible-agreement",
   "metadata": {},
   "outputs": [
    {
     "name": "stdout",
     "output_type": "stream",
     "text": [
      "7.059734718946585\n"
     ]
    }
   ],
   "source": [
    "print(lm.intercept_)"
   ]
  },
  {
   "cell_type": "code",
   "execution_count": 884,
   "id": "intimate-uganda",
   "metadata": {},
   "outputs": [
    {
     "data": {
      "text/html": [
       "<div>\n",
       "<style scoped>\n",
       "    .dataframe tbody tr th:only-of-type {\n",
       "        vertical-align: middle;\n",
       "    }\n",
       "\n",
       "    .dataframe tbody tr th {\n",
       "        vertical-align: top;\n",
       "    }\n",
       "\n",
       "    .dataframe thead th {\n",
       "        text-align: right;\n",
       "    }\n",
       "</style>\n",
       "<table border=\"1\" class=\"dataframe\">\n",
       "  <thead>\n",
       "    <tr style=\"text-align: right;\">\n",
       "      <th></th>\n",
       "      <th>Coefficient</th>\n",
       "    </tr>\n",
       "  </thead>\n",
       "  <tbody>\n",
       "    <tr>\n",
       "      <th>staff_pick</th>\n",
       "      <td>0.910487</td>\n",
       "    </tr>\n",
       "    <tr>\n",
       "      <th>Launch_Period</th>\n",
       "      <td>-0.307183</td>\n",
       "    </tr>\n",
       "    <tr>\n",
       "      <th>Created_to_Launch</th>\n",
       "      <td>0.205278</td>\n",
       "    </tr>\n",
       "    <tr>\n",
       "      <th>blurb_words_count</th>\n",
       "      <td>-0.127285</td>\n",
       "    </tr>\n",
       "    <tr>\n",
       "      <th>name_words_count</th>\n",
       "      <td>0.340381</td>\n",
       "    </tr>\n",
       "    <tr>\n",
       "      <th>usd_goal</th>\n",
       "      <td>-0.065820</td>\n",
       "    </tr>\n",
       "    <tr>\n",
       "      <th>dance</th>\n",
       "      <td>0.224046</td>\n",
       "    </tr>\n",
       "    <tr>\n",
       "      <th>design</th>\n",
       "      <td>0.329874</td>\n",
       "    </tr>\n",
       "    <tr>\n",
       "      <th>fashion</th>\n",
       "      <td>0.517454</td>\n",
       "    </tr>\n",
       "    <tr>\n",
       "      <th>film%20&amp;%20video</th>\n",
       "      <td>0.862537</td>\n",
       "    </tr>\n",
       "    <tr>\n",
       "      <th>food</th>\n",
       "      <td>0.475797</td>\n",
       "    </tr>\n",
       "    <tr>\n",
       "      <th>games</th>\n",
       "      <td>0.517289</td>\n",
       "    </tr>\n",
       "    <tr>\n",
       "      <th>journalism</th>\n",
       "      <td>0.164440</td>\n",
       "    </tr>\n",
       "    <tr>\n",
       "      <th>music</th>\n",
       "      <td>0.808490</td>\n",
       "    </tr>\n",
       "    <tr>\n",
       "      <th>publishing</th>\n",
       "      <td>0.611955</td>\n",
       "    </tr>\n",
       "    <tr>\n",
       "      <th>technology</th>\n",
       "      <td>0.364269</td>\n",
       "    </tr>\n",
       "  </tbody>\n",
       "</table>\n",
       "</div>"
      ],
      "text/plain": [
       "                   Coefficient\n",
       "staff_pick            0.910487\n",
       "Launch_Period        -0.307183\n",
       "Created_to_Launch     0.205278\n",
       "blurb_words_count    -0.127285\n",
       "name_words_count      0.340381\n",
       "usd_goal             -0.065820\n",
       "dance                 0.224046\n",
       "design                0.329874\n",
       "fashion               0.517454\n",
       "film%20&%20video      0.862537\n",
       "food                  0.475797\n",
       "games                 0.517289\n",
       "journalism            0.164440\n",
       "music                 0.808490\n",
       "publishing            0.611955\n",
       "technology            0.364269"
      ]
     },
     "execution_count": 884,
     "metadata": {},
     "output_type": "execute_result"
    }
   ],
   "source": [
    "coeff_df=pd.DataFrame(lm.coef_,X.columns,columns=['Coefficient'])\n",
    "coeff_df"
   ]
  },
  {
   "cell_type": "code",
   "execution_count": 885,
   "id": "substantial-demonstration",
   "metadata": {},
   "outputs": [],
   "source": [
    "predictions = lm.predict(X_test_scaled_features_df)"
   ]
  },
  {
   "cell_type": "code",
   "execution_count": 886,
   "id": "extended-blink",
   "metadata": {},
   "outputs": [
    {
     "data": {
      "text/plain": [
       "<matplotlib.collections.PathCollection at 0x22462e4b7f0>"
      ]
     },
     "execution_count": 886,
     "metadata": {},
     "output_type": "execute_result"
    },
    {
     "data": {
      "image/png": "[encoded data removed]",
      "text/plain": [
       "<Figure size 432x288 with 1 Axes>"
      ]
     },
     "metadata": {
      "needs_background": "light"
     },
     "output_type": "display_data"
    }
   ],
   "source": [
    "plt.scatter(y_test,predictions)"
   ]
  },
  {
   "cell_type": "code",
   "execution_count": 887,
   "id": "exposed-surge",
   "metadata": {},
   "outputs": [],
   "source": [
    "from sklearn import metrics\n",
    "from sklearn.metrics import r2_score"
   ]
  },
  {
   "cell_type": "code",
   "execution_count": 888,
   "id": "indoor-receipt",
   "metadata": {},
   "outputs": [],
   "source": [
    "r2=r2_score(y_test,predictions)"
   ]
  },
  {
   "cell_type": "code",
   "execution_count": 889,
   "id": "interior-mount",
   "metadata": {},
   "outputs": [
    {
     "data": {
      "text/plain": [
       "0.1704286874285692"
      ]
     },
     "execution_count": 889,
     "metadata": {},
     "output_type": "execute_result"
    }
   ],
   "source": [
    "r2"
   ]
  },
  {
   "cell_type": "code",
   "execution_count": 890,
   "id": "minimal-pound",
   "metadata": {},
   "outputs": [
    {
     "name": "stdout",
     "output_type": "stream",
     "text": [
      "MAE: 1.9550410363946686\n",
      "MSE: 6.413476108358356\n",
      "RMSE: 2.5324841773164857\n"
     ]
    }
   ],
   "source": [
    "print('MAE:', metrics.mean_absolute_error(y_test, predictions))\n",
    "print('MSE:', metrics.mean_squared_error(y_test, predictions))\n",
    "print('RMSE:', np.sqrt(metrics.mean_squared_error(y_test, predictions)))"
   ]
  },
  {
   "cell_type": "markdown",
   "id": "collaborative-delicious",
   "metadata": {},
   "source": [
    "# Decision Tree Regressor"
   ]
  },
  {
   "cell_type": "code",
   "execution_count": 891,
   "id": "hispanic-single",
   "metadata": {},
   "outputs": [],
   "source": [
    "from sklearn.tree import DecisionTreeRegressor"
   ]
  },
  {
   "cell_type": "code",
   "execution_count": 892,
   "id": "protecting-boundary",
   "metadata": {},
   "outputs": [
    {
     "data": {
      "text/plain": [
       "DecisionTreeRegressor(random_state=0)"
      ]
     },
     "execution_count": 892,
     "metadata": {},
     "output_type": "execute_result"
    }
   ],
   "source": [
    "regressor = DecisionTreeRegressor(random_state=0)\n",
    "regressor.fit(X_train,y_train)"
   ]
  },
  {
   "cell_type": "code",
   "execution_count": 893,
   "id": "official-lunch",
   "metadata": {},
   "outputs": [
    {
     "name": "stdout",
     "output_type": "stream",
     "text": [
      "5\n"
     ]
    }
   ],
   "source": [
    "#fit the best max.depth\n",
    "\n",
    "myList = list(range(2,100))\n",
    "scores=[]\n",
    "for i in myList:\n",
    "    dt_reg=DecisionTreeRegressor(max_depth=i)\n",
    "    dt_reg.fit(X_train,y_train)\n",
    "    scores.append(dt_reg.score(X_test,y_test))\n",
    "    \n",
    "print(myList[scores.index(max(scores))])"
   ]
  },
  {
   "cell_type": "code",
   "execution_count": 894,
   "id": "defined-dallas",
   "metadata": {},
   "outputs": [
    {
     "data": {
      "text/plain": [
       "DecisionTreeRegressor(max_depth=12)"
      ]
     },
     "execution_count": 894,
     "metadata": {},
     "output_type": "execute_result"
    }
   ],
   "source": [
    "# Fit regression model\n",
    "regr_1 = DecisionTreeRegressor(max_depth=2)\n",
    "regr_2 = DecisionTreeRegressor(max_depth=5)\n",
    "regr_3 = DecisionTreeRegressor(max_depth=8)\n",
    "regr_4 = DecisionTreeRegressor(max_depth=10)\n",
    "regr_5 = DecisionTreeRegressor(max_depth=12)\n",
    "regr_1.fit(X, y)\n",
    "regr_2.fit(X, y)\n",
    "regr_3.fit(X, y)\n",
    "regr_4.fit(X, y)\n",
    "regr_5.fit(X, y)"
   ]
  },
  {
   "cell_type": "code",
   "execution_count": 895,
   "id": "prescribed-diagnosis",
   "metadata": {},
   "outputs": [],
   "source": [
    "y_1 = regr_1.predict(X_test)\n",
    "y_2 = regr_2.predict(X_test)\n",
    "y_3 = regr_3.predict(X_test)\n",
    "y_4 = regr_4.predict(X_test)\n",
    "y_5 = regr_5.predict(X_test)"
   ]
  },
  {
   "cell_type": "code",
   "execution_count": 896,
   "id": "ordered-nylon",
   "metadata": {},
   "outputs": [
    {
     "name": "stdout",
     "output_type": "stream",
     "text": [
      "Mean Absolute Error: 1.939431759060544\n",
      "Mean Squared Error: 6.492492893931403\n",
      "Root Mean Squared Error: 2.548037066828386\n",
      "R Squared: 0.160208011867374\n"
     ]
    }
   ],
   "source": [
    "from sklearn import metrics\n",
    "print('Mean Absolute Error:', metrics.mean_absolute_error(y_test, y_1))\n",
    "print('Mean Squared Error:', metrics.mean_squared_error(y_test, y_1))\n",
    "print('Root Mean Squared Error:', np.sqrt(metrics.mean_squared_error(y_test, y_1)))\n",
    "print('R Squared:',r2_score(y_test,y_1))"
   ]
  },
  {
   "cell_type": "code",
   "execution_count": 897,
   "id": "color-boxing",
   "metadata": {},
   "outputs": [
    {
     "name": "stdout",
     "output_type": "stream",
     "text": [
      "Mean Absolute Error: 0.9442776260565527\n",
      "Mean Squared Error: 2.4057391126817804\n",
      "Root Mean Squared Error: 1.55104452311395\n",
      "R Squared: 0.6888220803051066\n"
     ]
    }
   ],
   "source": [
    "from sklearn import metrics\n",
    "print('Mean Absolute Error:', metrics.mean_absolute_error(y_test, y_5))\n",
    "print('Mean Squared Error:', metrics.mean_squared_error(y_test, y_5))\n",
    "print('Root Mean Squared Error:', np.sqrt(metrics.mean_squared_error(y_test, y_5)))\n",
    "print('R Squared:',r2_score(y_test,y_5))"
   ]
  }
 ],
 "metadata": {
  "kernelspec": {
   "display_name": "Python 3",
   "language": "python",
   "name": "python3"
  },
  "language_info": {
   "codemirror_mode": {
    "name": "ipython",
    "version": 3
   },
   "file_extension": ".py",
   "mimetype": "text/x-python",
   "name": "python",
   "nbconvert_exporter": "python",
   "pygments_lexer": "ipython3",
   "version": "3.8.5"
  }
 },
 "nbformat": 4,
 "nbformat_minor": 5
}
