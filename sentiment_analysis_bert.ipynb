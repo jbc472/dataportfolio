{
 "cells": [
  {
   "cell_type": "code",
   "execution_count": 52,
   "id": "operating-annex",
   "metadata": {},
   "outputs": [],
   "source": [
    "from transformers import AutoTokenizer, AutoModelForSequenceClassification\n",
    "import torch\n",
    "import requests\n",
    "from bs4 import BeautifulSoup\n",
    "import re\n",
    "import numpy as np\n",
    "import pandas as pd"
   ]
  },
  {
   "cell_type": "code",
   "execution_count": 4,
   "id": "aggressive-montreal",
   "metadata": {},
   "outputs": [],
   "source": [
    "tokenizer = AutoTokenizer.from_pretrained('nlptown/bert-base-multilingual-uncased-sentiment')\n",
    "\n",
    "model = AutoModelForSequenceClassification.from_pretrained('nlptown/bert-base-multilingual-uncased-sentiment')"
   ]
  },
  {
   "cell_type": "markdown",
   "id": "convenient-idaho",
   "metadata": {},
   "source": [
    "# Test for one sentence"
   ]
  },
  {
   "cell_type": "code",
   "execution_count": 5,
   "id": "hispanic-orlando",
   "metadata": {},
   "outputs": [],
   "source": [
    "tokens = tokenizer.encode('its ok', return_tensors='pt')\n"
   ]
  },
  {
   "cell_type": "code",
   "execution_count": 6,
   "id": "million-district",
   "metadata": {},
   "outputs": [],
   "source": [
    "result = model(tokens)"
   ]
  },
  {
   "cell_type": "code",
   "execution_count": 7,
   "id": "decent-rugby",
   "metadata": {},
   "outputs": [
    {
     "data": {
      "text/plain": [
       "tensor(2)"
      ]
     },
     "execution_count": 7,
     "metadata": {},
     "output_type": "execute_result"
    }
   ],
   "source": [
    "torch.argmax(result.logits)"
   ]
  },
  {
   "cell_type": "code",
   "execution_count": 8,
   "id": "hybrid-prospect",
   "metadata": {},
   "outputs": [
    {
     "data": {
      "text/plain": [
       "3"
      ]
     },
     "execution_count": 8,
     "metadata": {},
     "output_type": "execute_result"
    }
   ],
   "source": [
    "int(torch.argmax(result.logits))+1"
   ]
  },
  {
   "cell_type": "markdown",
   "id": "israeli-lyric",
   "metadata": {},
   "source": [
    "# Collect reviews"
   ]
  },
  {
   "cell_type": "code",
   "execution_count": 49,
   "id": "activated-survivor",
   "metadata": {},
   "outputs": [],
   "source": [
    "url = 'https://www.lookfantastic.com.hk/aesop-parsley-seed-anti-oxidant-serum-100ml/10363854.html'\n",
    "r = requests.get('http://localhost:8050/render.html', params = {'url':url,'wait':2})\n",
    "soup = BeautifulSoup(r.text, 'html.parser')\n",
    "results = soup.find_all('p',{'class':'productReviews_topReviewsExcerpt'})\n",
    "reviews = [result.text for result in results]"
   ]
  },
  {
   "cell_type": "code",
   "execution_count": 50,
   "id": "protective-pulse",
   "metadata": {},
   "outputs": [
    {
     "data": {
      "text/plain": [
       "['\\nJust one use, I can feel the difference the next day. Brighter with moisture. This protection layer is required I recommend.\\n',\n",
       " '\\nGreat product, on my third bottle! My skin feels more resistant and does not get sensitive or break out as easily. \\n',\n",
       " '\\nFirst time using Aesop & this serum. Not oily easily absorb , use together with Aesop Lucent day & night.\\xa0\\nFace seems clearer after a 2 weeks. Not sure it’s due to this Parsley serum or the Lucent serum.\\xa0\\nHappy with purchase especially when it’s on discount t\\n\\n',\n",
       " '\\nThis is my holy grail serum\\nAbsorbs fast and keeps skin plump and soft like a baby’s skin\\n',\n",
       " '\\nUse after few weeks, I feel my skin brightening than before. It really good scent and moisturiser.\\nYou can wait it discount and buy to try. Look fantastic really more often give discount on this brand. Delivery fast to me. (Malaysia)\\n',\n",
       " \"\\nI've been using this product for a few years now, bought this on lookfantastic when there was an offer so the price was really good. The scent is lovely, and works well for my combination, yet sensitive skin.\\n\\nDelivery took about 4-5 weeks - would be great if it was faster! The tracking option didn't come with a tracking number, so there was no way to track the shipment at all. Packaging was well done, it's a glass bottle and it had an extra mesh sleeve, on top of being bubble wrapped. Everything arrived intact.\\n\",\n",
       " '\\nthis serum suits my skin condition. (Combination and sensitive skin). Hope the courier can be changed to a better company. Delivery took more than 2 weeks. \\n',\n",
       " '\\nI have combination skin and product is certainly not oily. It is light texture, absorbs in a second, smells lovely and botanical. \\n']"
      ]
     },
     "execution_count": 50,
     "metadata": {},
     "output_type": "execute_result"
    }
   ],
   "source": [
    "reviews"
   ]
  },
  {
   "cell_type": "markdown",
   "id": "billion-priest",
   "metadata": {},
   "source": [
    "# Score"
   ]
  },
  {
   "cell_type": "code",
   "execution_count": 53,
   "id": "opened-poster",
   "metadata": {},
   "outputs": [],
   "source": [
    "df = pd.DataFrame(np.array(reviews), columns=['review'])\n"
   ]
  },
  {
   "cell_type": "code",
   "execution_count": 54,
   "id": "configured-method",
   "metadata": {},
   "outputs": [
    {
     "data": {
      "text/plain": [
       "'\\nJust one use, I can feel the difference the next day. Brighter with moisture. This protection layer is required I recommend.\\n'"
      ]
     },
     "execution_count": 54,
     "metadata": {},
     "output_type": "execute_result"
    }
   ],
   "source": [
    "df['review'].iloc[0]\n"
   ]
  },
  {
   "cell_type": "code",
   "execution_count": 55,
   "id": "marked-procedure",
   "metadata": {},
   "outputs": [],
   "source": [
    "def sentiment_score(review):\n",
    "    tokens = tokenizer.encode(review, return_tensors='pt')\n",
    "    result = model(tokens)\n",
    "    return int(torch.argmax(result.logits))+1"
   ]
  },
  {
   "cell_type": "code",
   "execution_count": 56,
   "id": "twelve-journey",
   "metadata": {},
   "outputs": [
    {
     "data": {
      "text/plain": [
       "5"
      ]
     },
     "execution_count": 56,
     "metadata": {},
     "output_type": "execute_result"
    }
   ],
   "source": [
    "sentiment_score(df['review'].iloc[1])\n"
   ]
  },
  {
   "cell_type": "code",
   "execution_count": 57,
   "id": "motivated-repository",
   "metadata": {},
   "outputs": [],
   "source": [
    "df['sentiment'] = df['review'].apply(lambda x: sentiment_score(x[:512]))\n"
   ]
  },
  {
   "cell_type": "code",
   "execution_count": 58,
   "id": "serious-standard",
   "metadata": {},
   "outputs": [
    {
     "data": {
      "text/html": [
       "<div>\n",
       "<style scoped>\n",
       "    .dataframe tbody tr th:only-of-type {\n",
       "        vertical-align: middle;\n",
       "    }\n",
       "\n",
       "    .dataframe tbody tr th {\n",
       "        vertical-align: top;\n",
       "    }\n",
       "\n",
       "    .dataframe thead th {\n",
       "        text-align: right;\n",
       "    }\n",
       "</style>\n",
       "<table border=\"1\" class=\"dataframe\">\n",
       "  <thead>\n",
       "    <tr style=\"text-align: right;\">\n",
       "      <th></th>\n",
       "      <th>review</th>\n",
       "      <th>sentiment</th>\n",
       "    </tr>\n",
       "  </thead>\n",
       "  <tbody>\n",
       "    <tr>\n",
       "      <th>0</th>\n",
       "      <td>\\nJust one use, I can feel the difference the ...</td>\n",
       "      <td>5</td>\n",
       "    </tr>\n",
       "    <tr>\n",
       "      <th>1</th>\n",
       "      <td>\\nGreat product, on my third bottle! My skin f...</td>\n",
       "      <td>5</td>\n",
       "    </tr>\n",
       "    <tr>\n",
       "      <th>2</th>\n",
       "      <td>\\nFirst time using Aesop &amp; this serum. Not oil...</td>\n",
       "      <td>5</td>\n",
       "    </tr>\n",
       "    <tr>\n",
       "      <th>3</th>\n",
       "      <td>\\nThis is my holy grail serum\\nAbsorbs fast an...</td>\n",
       "      <td>5</td>\n",
       "    </tr>\n",
       "    <tr>\n",
       "      <th>4</th>\n",
       "      <td>\\nUse after few weeks, I feel my skin brighten...</td>\n",
       "      <td>5</td>\n",
       "    </tr>\n",
       "    <tr>\n",
       "      <th>5</th>\n",
       "      <td>\\nI've been using this product for a few years...</td>\n",
       "      <td>4</td>\n",
       "    </tr>\n",
       "    <tr>\n",
       "      <th>6</th>\n",
       "      <td>\\nthis serum suits my skin condition. (Combina...</td>\n",
       "      <td>5</td>\n",
       "    </tr>\n",
       "    <tr>\n",
       "      <th>7</th>\n",
       "      <td>\\nI have combination skin and product is certa...</td>\n",
       "      <td>4</td>\n",
       "    </tr>\n",
       "  </tbody>\n",
       "</table>\n",
       "</div>"
      ],
      "text/plain": [
       "                                              review  sentiment\n",
       "0  \\nJust one use, I can feel the difference the ...          5\n",
       "1  \\nGreat product, on my third bottle! My skin f...          5\n",
       "2  \\nFirst time using Aesop & this serum. Not oil...          5\n",
       "3  \\nThis is my holy grail serum\\nAbsorbs fast an...          5\n",
       "4  \\nUse after few weeks, I feel my skin brighten...          5\n",
       "5  \\nI've been using this product for a few years...          4\n",
       "6  \\nthis serum suits my skin condition. (Combina...          5\n",
       "7  \\nI have combination skin and product is certa...          4"
      ]
     },
     "execution_count": 58,
     "metadata": {},
     "output_type": "execute_result"
    }
   ],
   "source": [
    "df"
   ]
  }
 ],
 "metadata": {
  "kernelspec": {
   "display_name": "Python 3",
   "language": "python",
   "name": "python3"
  },
  "language_info": {
   "codemirror_mode": {
    "name": "ipython",
    "version": 3
   },
   "file_extension": ".py",
   "mimetype": "text/x-python",
   "name": "python",
   "nbconvert_exporter": "python",
   "pygments_lexer": "ipython3",
   "version": "3.8.5"
  }
 },
 "nbformat": 4,
 "nbformat_minor": 5
}
