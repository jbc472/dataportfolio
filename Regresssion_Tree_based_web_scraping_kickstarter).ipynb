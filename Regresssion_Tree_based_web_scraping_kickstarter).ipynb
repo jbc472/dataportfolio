{
 "cells": [
  {
   "cell_type": "code",
   "execution_count": 656,
   "id": "hispanic-rochester",
   "metadata": {},
   "outputs": [],
   "source": [
    "import seaborn as sns\n",
    "import matplotlib.pyplot as plt\n",
    "%matplotlib inline\n",
    "import pandas as pd\n",
    "import numpy as np\n"
   ]
  },
  {
   "cell_type": "code",
   "execution_count": 657,
   "id": "pursuant-ensemble",
   "metadata": {},
   "outputs": [],
   "source": [
    "pd.options.display.max_columns = None"
   ]
  },
  {
   "cell_type": "code",
   "execution_count": 658,
   "id": "amateur-michael",
   "metadata": {},
   "outputs": [],
   "source": [
    "data = pd.read_csv('Kickstarter.csv')"
   ]
  },
  {
   "cell_type": "code",
   "execution_count": 659,
   "id": "blank-device",
   "metadata": {},
   "outputs": [
    {
     "data": {
      "text/html": [
       "<div>\n",
       "<style scoped>\n",
       "    .dataframe tbody tr th:only-of-type {\n",
       "        vertical-align: middle;\n",
       "    }\n",
       "\n",
       "    .dataframe tbody tr th {\n",
       "        vertical-align: top;\n",
       "    }\n",
       "\n",
       "    .dataframe thead th {\n",
       "        text-align: right;\n",
       "    }\n",
       "</style>\n",
       "<table border=\"1\" class=\"dataframe\">\n",
       "  <thead>\n",
       "    <tr style=\"text-align: right;\">\n",
       "      <th></th>\n",
       "      <th>backers_count</th>\n",
       "      <th>blurb</th>\n",
       "      <th>category</th>\n",
       "      <th>converted_pledged_amount</th>\n",
       "      <th>country</th>\n",
       "      <th>country_displayable_name</th>\n",
       "      <th>created_at</th>\n",
       "      <th>creator</th>\n",
       "      <th>currency</th>\n",
       "      <th>currency_symbol</th>\n",
       "      <th>currency_trailing_code</th>\n",
       "      <th>current_currency</th>\n",
       "      <th>deadline</th>\n",
       "      <th>disable_communication</th>\n",
       "      <th>friends</th>\n",
       "      <th>fx_rate</th>\n",
       "      <th>goal</th>\n",
       "      <th>id</th>\n",
       "      <th>is_backing</th>\n",
       "      <th>is_starrable</th>\n",
       "      <th>is_starred</th>\n",
       "      <th>launched_at</th>\n",
       "      <th>location</th>\n",
       "      <th>name</th>\n",
       "      <th>permissions</th>\n",
       "      <th>photo</th>\n",
       "      <th>pledged</th>\n",
       "      <th>profile</th>\n",
       "      <th>slug</th>\n",
       "      <th>source_url</th>\n",
       "      <th>spotlight</th>\n",
       "      <th>staff_pick</th>\n",
       "      <th>state</th>\n",
       "      <th>state_changed_at</th>\n",
       "      <th>static_usd_rate</th>\n",
       "      <th>urls</th>\n",
       "      <th>usd_pledged</th>\n",
       "      <th>usd_type</th>\n",
       "    </tr>\n",
       "  </thead>\n",
       "  <tbody>\n",
       "    <tr>\n",
       "      <th>0</th>\n",
       "      <td>0</td>\n",
       "      <td>A humble little Astro traveling around brewing up fresh coffee and hot meals at National Parks, Rock Gyms, and Trail heads.</td>\n",
       "      <td>{\"id\":311,\"name\":\"Food Trucks\",\"analytics_name\":\"Food Trucks\",\"slug\":\"food/food trucks\",\"position\":8,\"parent_id\":10,\"parent_name\":\"Food\",\"color\":16725570,\"urls\":{\"web\":{\"discover\":\"http://www.kick...</td>\n",
       "      <td>0</td>\n",
       "      <td>US</td>\n",
       "      <td>the United States</td>\n",
       "      <td>1498065534</td>\n",
       "      <td>{\"id\":939819973,\"name\":\"Daniel Sanchez\",\"is_registered\":null,\"is_email_verified\":null,\"chosen_currency\":null,\"is_superbacker\":null,\"avatar\":{\"thumb\":\"https://ksr-ugc.imgix.net/assets/017/204/442/4...</td>\n",
       "      <td>USD</td>\n",
       "      <td>$</td>\n",
       "      <td>True</td>\n",
       "      <td>USD</td>\n",
       "      <td>1500766709</td>\n",
       "      <td>False</td>\n",
       "      <td>NaN</td>\n",
       "      <td>1.000000</td>\n",
       "      <td>1000</td>\n",
       "      <td>1166044523</td>\n",
       "      <td>NaN</td>\n",
       "      <td>False</td>\n",
       "      <td>NaN</td>\n",
       "      <td>1498174709</td>\n",
       "      <td>{\"id\":2475687,\"name\":\"Portland\",\"slug\":\"portland-or\",\"short_name\":\"Portland, OR\",\"displayable_name\":\"Portland, OR\",\"localized_name\":\"Portland\",\"country\":\"US\",\"state\":\"OR\",\"type\":\"Town\",\"is_root\":f...</td>\n",
       "      <td>CrimpCoffee: Good Coffee Good Times</td>\n",
       "      <td>NaN</td>\n",
       "      <td>{\"key\":\"assets/017/204/299/11b86dcad20a73f1882c9ba5649a6f4f_original.png\",\"full\":\"https://ksr-ugc.imgix.net/assets/017/204/299/11b86dcad20a73f1882c9ba5649a6f4f_original.png?ixlib=rb-2.1.0&amp;crop=fac...</td>\n",
       "      <td>0.00</td>\n",
       "      <td>{\"id\":3047341,\"project_id\":3047341,\"state\":\"inactive\",\"state_changed_at\":1498065534,\"name\":null,\"blurb\":null,\"background_color\":null,\"text_color\":null,\"link_background_color\":null,\"link_text_color...</td>\n",
       "      <td>crimpcoffee-good-coffee-good-times</td>\n",
       "      <td>https://www.kickstarter.com/discover/categories/food/food%20trucks</td>\n",
       "      <td>False</td>\n",
       "      <td>False</td>\n",
       "      <td>failed</td>\n",
       "      <td>1500766709</td>\n",
       "      <td>1.000000</td>\n",
       "      <td>{\"web\":{\"project\":\"https://www.kickstarter.com/projects/939819973/crimpcoffee-good-coffee-good-times?ref=discovery_category_newest\",\"rewards\":\"https://www.kickstarter.com/projects/939819973/crimpc...</td>\n",
       "      <td>0.000000</td>\n",
       "      <td>international</td>\n",
       "    </tr>\n",
       "    <tr>\n",
       "      <th>1</th>\n",
       "      <td>454</td>\n",
       "      <td>Spooky ghost miniatures for tabletop gaming, RPG, DnD. Great for undead themed campaigns.</td>\n",
       "      <td>{\"id\":34,\"name\":\"Tabletop Games\",\"analytics_name\":\"Tabletop Games\",\"slug\":\"games/tabletop games\",\"position\":6,\"parent_id\":12,\"parent_name\":\"Games\",\"color\":51627,\"urls\":{\"web\":{\"discover\":\"http://w...</td>\n",
       "      <td>17010</td>\n",
       "      <td>DK</td>\n",
       "      <td>Denmark</td>\n",
       "      <td>1603805375</td>\n",
       "      <td>{\"id\":1449949486,\"name\":\"Fleshcraft Studio\",\"slug\":\"fleshcraftstudio\",\"is_registered\":null,\"is_email_verified\":null,\"chosen_currency\":null,\"is_superbacker\":null,\"avatar\":{\"thumb\":\"https://ksr-ugc....</td>\n",
       "      <td>DKK</td>\n",
       "      <td>kr</td>\n",
       "      <td>True</td>\n",
       "      <td>USD</td>\n",
       "      <td>1607716729</td>\n",
       "      <td>False</td>\n",
       "      <td>NaN</td>\n",
       "      <td>0.161007</td>\n",
       "      <td>7500</td>\n",
       "      <td>986370978</td>\n",
       "      <td>NaN</td>\n",
       "      <td>False</td>\n",
       "      <td>NaN</td>\n",
       "      <td>1605124729</td>\n",
       "      <td>{\"id\":557827,\"name\":\"Svendborg\",\"slug\":\"svendborg-dk\",\"short_name\":\"Svendborg, Denmark\",\"displayable_name\":\"Svendborg, Denmark\",\"localized_name\":\"Svendborg\",\"country\":\"DK\",\"state\":\"Syddanmark\",\"ty...</td>\n",
       "      <td>Spawns of the Great Rot - Printable stl 3d miniatures</td>\n",
       "      <td>NaN</td>\n",
       "      <td>{\"key\":\"assets/031/378/029/0463bccb1bb9ac99bc7f8f8d22d1ec42_original.png\",\"full\":\"https://ksr-ugc.imgix.net/assets/031/378/029/0463bccb1bb9ac99bc7f8f8d22d1ec42_original.png?ixlib=rb-2.1.0&amp;crop=fac...</td>\n",
       "      <td>104176.17</td>\n",
       "      <td>{\"id\":4097429,\"project_id\":4097429,\"state\":\"active\",\"state_changed_at\":1607952554,\"name\":\"Spawns of the Great Rot - Printable stl 3d miniatures\",\"blurb\":\"Spooky ghost miniatures for tabletop gamin...</td>\n",
       "      <td>spawns-of-the-great-rot-printable-stl-3d-miniatures</td>\n",
       "      <td>https://www.kickstarter.com/discover/categories/games</td>\n",
       "      <td>True</td>\n",
       "      <td>False</td>\n",
       "      <td>successful</td>\n",
       "      <td>1607716729</td>\n",
       "      <td>0.158957</td>\n",
       "      <td>{\"web\":{\"project\":\"https://www.kickstarter.com/projects/fleshcraftstudio/spawns-of-the-great-rot-printable-stl-3d-miniatures?ref=discovery_category_newest\",\"rewards\":\"https://www.kickstarter.com/p...</td>\n",
       "      <td>16559.556457</td>\n",
       "      <td>international</td>\n",
       "    </tr>\n",
       "    <tr>\n",
       "      <th>2</th>\n",
       "      <td>1</td>\n",
       "      <td>As a part of Dreamcatcher Comics we will be starting a gaming department. We currently require funding to cover costs of software etc.</td>\n",
       "      <td>{\"id\":272,\"name\":\"Mobile Games\",\"analytics_name\":\"Mobile Games\",\"slug\":\"games/mobile games\",\"position\":3,\"parent_id\":12,\"parent_name\":\"Games\",\"color\":51627,\"urls\":{\"web\":{\"discover\":\"http://www.ki...</td>\n",
       "      <td>64</td>\n",
       "      <td>GB</td>\n",
       "      <td>the United Kingdom</td>\n",
       "      <td>1492296418</td>\n",
       "      <td>{\"id\":1942869476,\"name\":\"Sebastian\",\"slug\":\"dreamcatchercomics\",\"is_registered\":null,\"is_email_verified\":null,\"chosen_currency\":null,\"is_superbacker\":null,\"avatar\":{\"thumb\":\"https://ksr-ugc.imgix....</td>\n",
       "      <td>GBP</td>\n",
       "      <td>£</td>\n",
       "      <td>False</td>\n",
       "      <td>USD</td>\n",
       "      <td>1495025970</td>\n",
       "      <td>False</td>\n",
       "      <td>NaN</td>\n",
       "      <td>1.377223</td>\n",
       "      <td>500</td>\n",
       "      <td>2059825834</td>\n",
       "      <td>NaN</td>\n",
       "      <td>False</td>\n",
       "      <td>NaN</td>\n",
       "      <td>1493297970</td>\n",
       "      <td>{\"id\":19612,\"name\":\"Enfield\",\"slug\":\"enfield-london-gb\",\"short_name\":\"Enfield, UK\",\"displayable_name\":\"Enfield, UK\",\"localized_name\":\"Enfield\",\"country\":\"GB\",\"state\":\"England\",\"type\":\"Suburb\",\"is_...</td>\n",
       "      <td>Dreamcatcher Games</td>\n",
       "      <td>NaN</td>\n",
       "      <td>{\"key\":\"assets/016/272/743/7285d141aaf3b1a29f6b9be7351f9762_original.jpg\",\"full\":\"https://ksr-ugc.imgix.net/assets/016/272/743/7285d141aaf3b1a29f6b9be7351f9762_original.jpg?ixlib=rb-2.1.0&amp;crop=fac...</td>\n",
       "      <td>50.00</td>\n",
       "      <td>{\"id\":2963211,\"project_id\":2963211,\"state\":\"inactive\",\"state_changed_at\":1492296418,\"name\":null,\"blurb\":null,\"background_color\":null,\"text_color\":null,\"link_background_color\":null,\"link_text_color...</td>\n",
       "      <td>dreamcatcher-games</td>\n",
       "      <td>https://www.kickstarter.com/discover/categories/games/mobile%20games</td>\n",
       "      <td>False</td>\n",
       "      <td>False</td>\n",
       "      <td>failed</td>\n",
       "      <td>1495025970</td>\n",
       "      <td>1.283700</td>\n",
       "      <td>{\"web\":{\"project\":\"https://www.kickstarter.com/projects/dreamcatchercomics/dreamcatcher-games?ref=discovery_category_newest\",\"rewards\":\"https://www.kickstarter.com/projects/dreamcatchercomics/drea...</td>\n",
       "      <td>64.185017</td>\n",
       "      <td>international</td>\n",
       "    </tr>\n",
       "    <tr>\n",
       "      <th>3</th>\n",
       "      <td>92</td>\n",
       "      <td>We write D&amp;D gaming modules that make the game mastering experience as easy as it is for the players. Welcome to the Common Lands!</td>\n",
       "      <td>{\"id\":34,\"name\":\"Tabletop Games\",\"analytics_name\":\"Tabletop Games\",\"slug\":\"games/tabletop games\",\"position\":6,\"parent_id\":12,\"parent_name\":\"Games\",\"color\":51627,\"urls\":{\"web\":{\"discover\":\"http://w...</td>\n",
       "      <td>6223</td>\n",
       "      <td>US</td>\n",
       "      <td>the United States</td>\n",
       "      <td>1604510331</td>\n",
       "      <td>{\"id\":899047186,\"name\":\"Cory J. Burns\",\"slug\":\"thecommonlands\",\"is_registered\":null,\"is_email_verified\":null,\"chosen_currency\":null,\"is_superbacker\":null,\"avatar\":{\"thumb\":\"https://ksr-ugc.imgix.n...</td>\n",
       "      <td>USD</td>\n",
       "      <td>$</td>\n",
       "      <td>True</td>\n",
       "      <td>USD</td>\n",
       "      <td>1609738200</td>\n",
       "      <td>False</td>\n",
       "      <td>NaN</td>\n",
       "      <td>1.000000</td>\n",
       "      <td>5000</td>\n",
       "      <td>1462846972</td>\n",
       "      <td>NaN</td>\n",
       "      <td>False</td>\n",
       "      <td>NaN</td>\n",
       "      <td>1605219501</td>\n",
       "      <td>{\"id\":2379574,\"name\":\"Chicago\",\"slug\":\"chicago-il\",\"short_name\":\"Chicago, IL\",\"displayable_name\":\"Chicago, IL\",\"localized_name\":\"Chicago\",\"country\":\"US\",\"state\":\"IL\",\"type\":\"Town\",\"is_root\":false,...</td>\n",
       "      <td>Felbar's Shoppe of Curiosities and Occult for 5th Edition</td>\n",
       "      <td>NaN</td>\n",
       "      <td>{\"key\":\"assets/031/677/529/0f4e2fcf1cb9c1c838af51fdf8862e3e_original.png\",\"full\":\"https://ksr-ugc.imgix.net/assets/031/677/529/0f4e2fcf1cb9c1c838af51fdf8862e3e_original.png?ixlib=rb-2.1.0&amp;crop=fac...</td>\n",
       "      <td>6223.00</td>\n",
       "      <td>{\"id\":4102301,\"project_id\":4102301,\"state\":\"inactive\",\"state_changed_at\":1604510331,\"name\":null,\"blurb\":null,\"background_color\":null,\"text_color\":null,\"link_background_color\":null,\"link_text_color...</td>\n",
       "      <td>felbars-shoppe-of-curiosities-and-occult</td>\n",
       "      <td>https://www.kickstarter.com/discover/categories/games</td>\n",
       "      <td>True</td>\n",
       "      <td>False</td>\n",
       "      <td>successful</td>\n",
       "      <td>1609738201</td>\n",
       "      <td>1.000000</td>\n",
       "      <td>{\"web\":{\"project\":\"https://www.kickstarter.com/projects/thecommonlands/felbars-shoppe-of-curiosities-and-occult?ref=discovery_category_newest\",\"rewards\":\"https://www.kickstarter.com/projects/theco...</td>\n",
       "      <td>6223.000000</td>\n",
       "      <td>international</td>\n",
       "    </tr>\n",
       "    <tr>\n",
       "      <th>4</th>\n",
       "      <td>128</td>\n",
       "      <td>Wander creates high quality, hand-crafted, functional adaptogenic pantry staples for everyday use. Organic + Vegan + Global Fair Trade</td>\n",
       "      <td>{\"id\":313,\"name\":\"Small Batch\",\"analytics_name\":\"Small Batch\",\"slug\":\"food/small batch\",\"position\":10,\"parent_id\":10,\"parent_name\":\"Food\",\"color\":16725570,\"urls\":{\"web\":{\"discover\":\"http://www.kic...</td>\n",
       "      <td>10448</td>\n",
       "      <td>US</td>\n",
       "      <td>the United States</td>\n",
       "      <td>1595259627</td>\n",
       "      <td>{\"id\":354732308,\"name\":\"Wander Foods\",\"slug\":\"wanderfoods\",\"is_registered\":null,\"is_email_verified\":null,\"chosen_currency\":null,\"is_superbacker\":null,\"avatar\":{\"thumb\":\"https://ksr-ugc.imgix.net/a...</td>\n",
       "      <td>USD</td>\n",
       "      <td>$</td>\n",
       "      <td>True</td>\n",
       "      <td>USD</td>\n",
       "      <td>1604073600</td>\n",
       "      <td>False</td>\n",
       "      <td>NaN</td>\n",
       "      <td>1.000000</td>\n",
       "      <td>10000</td>\n",
       "      <td>1635933643</td>\n",
       "      <td>NaN</td>\n",
       "      <td>False</td>\n",
       "      <td>NaN</td>\n",
       "      <td>1601558300</td>\n",
       "      <td>{\"id\":12589335,\"name\":\"Brooklyn\",\"slug\":\"brooklyn-ny\",\"short_name\":\"Brooklyn, NY\",\"displayable_name\":\"Brooklyn, NY\",\"localized_name\":\"Brooklyn\",\"country\":\"US\",\"state\":\"NY\",\"type\":\"County\",\"is_root...</td>\n",
       "      <td>Wander: Flavorful and Functional Pantry Staples</td>\n",
       "      <td>NaN</td>\n",
       "      <td>{\"key\":\"assets/030/595/766/a1598df9a293a692dcf5f7eddf4fcfff_original.jpg\",\"full\":\"https://ksr-ugc.imgix.net/assets/030/595/766/a1598df9a293a692dcf5f7eddf4fcfff_original.jpg?ixlib=rb-2.1.0&amp;crop=fac...</td>\n",
       "      <td>10448.00</td>\n",
       "      <td>{\"id\":4036864,\"project_id\":4036864,\"state\":\"inactive\",\"state_changed_at\":1595259627,\"name\":null,\"blurb\":null,\"background_color\":null,\"text_color\":null,\"link_background_color\":null,\"link_text_color...</td>\n",
       "      <td>wander-flavorful-and-functional-pantry-staples</td>\n",
       "      <td>https://www.kickstarter.com/discover/categories/food/small%20batch</td>\n",
       "      <td>True</td>\n",
       "      <td>False</td>\n",
       "      <td>successful</td>\n",
       "      <td>1604073600</td>\n",
       "      <td>1.000000</td>\n",
       "      <td>{\"web\":{\"project\":\"https://www.kickstarter.com/projects/wanderfoods/wander-flavorful-and-functional-pantry-staples?ref=discovery_category_newest\",\"rewards\":\"https://www.kickstarter.com/projects/wa...</td>\n",
       "      <td>10448.000000</td>\n",
       "      <td>international</td>\n",
       "    </tr>\n",
       "  </tbody>\n",
       "</table>\n",
       "</div>"
      ],
      "text/plain": [
       "   backers_count  \\\n",
       "0              0   \n",
       "1            454   \n",
       "2              1   \n",
       "3             92   \n",
       "4            128   \n",
       "\n",
       "                                                                                                                                    blurb  \\\n",
       "0             A humble little Astro traveling around brewing up fresh coffee and hot meals at National Parks, Rock Gyms, and Trail heads.   \n",
       "1                                               Spooky ghost miniatures for tabletop gaming, RPG, DnD. Great for undead themed campaigns.   \n",
       "2  As a part of Dreamcatcher Comics we will be starting a gaming department. We currently require funding to cover costs of software etc.   \n",
       "3      We write D&D gaming modules that make the game mastering experience as easy as it is for the players. Welcome to the Common Lands!   \n",
       "4  Wander creates high quality, hand-crafted, functional adaptogenic pantry staples for everyday use. Organic + Vegan + Global Fair Trade   \n",
       "\n",
       "                                                                                                                                                                                                  category  \\\n",
       "0  {\"id\":311,\"name\":\"Food Trucks\",\"analytics_name\":\"Food Trucks\",\"slug\":\"food/food trucks\",\"position\":8,\"parent_id\":10,\"parent_name\":\"Food\",\"color\":16725570,\"urls\":{\"web\":{\"discover\":\"http://www.kick...   \n",
       "1  {\"id\":34,\"name\":\"Tabletop Games\",\"analytics_name\":\"Tabletop Games\",\"slug\":\"games/tabletop games\",\"position\":6,\"parent_id\":12,\"parent_name\":\"Games\",\"color\":51627,\"urls\":{\"web\":{\"discover\":\"http://w...   \n",
       "2  {\"id\":272,\"name\":\"Mobile Games\",\"analytics_name\":\"Mobile Games\",\"slug\":\"games/mobile games\",\"position\":3,\"parent_id\":12,\"parent_name\":\"Games\",\"color\":51627,\"urls\":{\"web\":{\"discover\":\"http://www.ki...   \n",
       "3  {\"id\":34,\"name\":\"Tabletop Games\",\"analytics_name\":\"Tabletop Games\",\"slug\":\"games/tabletop games\",\"position\":6,\"parent_id\":12,\"parent_name\":\"Games\",\"color\":51627,\"urls\":{\"web\":{\"discover\":\"http://w...   \n",
       "4  {\"id\":313,\"name\":\"Small Batch\",\"analytics_name\":\"Small Batch\",\"slug\":\"food/small batch\",\"position\":10,\"parent_id\":10,\"parent_name\":\"Food\",\"color\":16725570,\"urls\":{\"web\":{\"discover\":\"http://www.kic...   \n",
       "\n",
       "   converted_pledged_amount country country_displayable_name  created_at  \\\n",
       "0                         0      US        the United States  1498065534   \n",
       "1                     17010      DK                  Denmark  1603805375   \n",
       "2                        64      GB       the United Kingdom  1492296418   \n",
       "3                      6223      US        the United States  1604510331   \n",
       "4                     10448      US        the United States  1595259627   \n",
       "\n",
       "                                                                                                                                                                                                   creator  \\\n",
       "0  {\"id\":939819973,\"name\":\"Daniel Sanchez\",\"is_registered\":null,\"is_email_verified\":null,\"chosen_currency\":null,\"is_superbacker\":null,\"avatar\":{\"thumb\":\"https://ksr-ugc.imgix.net/assets/017/204/442/4...   \n",
       "1  {\"id\":1449949486,\"name\":\"Fleshcraft Studio\",\"slug\":\"fleshcraftstudio\",\"is_registered\":null,\"is_email_verified\":null,\"chosen_currency\":null,\"is_superbacker\":null,\"avatar\":{\"thumb\":\"https://ksr-ugc....   \n",
       "2  {\"id\":1942869476,\"name\":\"Sebastian\",\"slug\":\"dreamcatchercomics\",\"is_registered\":null,\"is_email_verified\":null,\"chosen_currency\":null,\"is_superbacker\":null,\"avatar\":{\"thumb\":\"https://ksr-ugc.imgix....   \n",
       "3  {\"id\":899047186,\"name\":\"Cory J. Burns\",\"slug\":\"thecommonlands\",\"is_registered\":null,\"is_email_verified\":null,\"chosen_currency\":null,\"is_superbacker\":null,\"avatar\":{\"thumb\":\"https://ksr-ugc.imgix.n...   \n",
       "4  {\"id\":354732308,\"name\":\"Wander Foods\",\"slug\":\"wanderfoods\",\"is_registered\":null,\"is_email_verified\":null,\"chosen_currency\":null,\"is_superbacker\":null,\"avatar\":{\"thumb\":\"https://ksr-ugc.imgix.net/a...   \n",
       "\n",
       "  currency currency_symbol  currency_trailing_code current_currency  \\\n",
       "0      USD               $                    True              USD   \n",
       "1      DKK              kr                    True              USD   \n",
       "2      GBP               £                   False              USD   \n",
       "3      USD               $                    True              USD   \n",
       "4      USD               $                    True              USD   \n",
       "\n",
       "     deadline  disable_communication friends   fx_rate   goal          id  \\\n",
       "0  1500766709                  False     NaN  1.000000   1000  1166044523   \n",
       "1  1607716729                  False     NaN  0.161007   7500   986370978   \n",
       "2  1495025970                  False     NaN  1.377223    500  2059825834   \n",
       "3  1609738200                  False     NaN  1.000000   5000  1462846972   \n",
       "4  1604073600                  False     NaN  1.000000  10000  1635933643   \n",
       "\n",
       "  is_backing  is_starrable is_starred  launched_at  \\\n",
       "0        NaN         False        NaN   1498174709   \n",
       "1        NaN         False        NaN   1605124729   \n",
       "2        NaN         False        NaN   1493297970   \n",
       "3        NaN         False        NaN   1605219501   \n",
       "4        NaN         False        NaN   1601558300   \n",
       "\n",
       "                                                                                                                                                                                                  location  \\\n",
       "0  {\"id\":2475687,\"name\":\"Portland\",\"slug\":\"portland-or\",\"short_name\":\"Portland, OR\",\"displayable_name\":\"Portland, OR\",\"localized_name\":\"Portland\",\"country\":\"US\",\"state\":\"OR\",\"type\":\"Town\",\"is_root\":f...   \n",
       "1  {\"id\":557827,\"name\":\"Svendborg\",\"slug\":\"svendborg-dk\",\"short_name\":\"Svendborg, Denmark\",\"displayable_name\":\"Svendborg, Denmark\",\"localized_name\":\"Svendborg\",\"country\":\"DK\",\"state\":\"Syddanmark\",\"ty...   \n",
       "2  {\"id\":19612,\"name\":\"Enfield\",\"slug\":\"enfield-london-gb\",\"short_name\":\"Enfield, UK\",\"displayable_name\":\"Enfield, UK\",\"localized_name\":\"Enfield\",\"country\":\"GB\",\"state\":\"England\",\"type\":\"Suburb\",\"is_...   \n",
       "3  {\"id\":2379574,\"name\":\"Chicago\",\"slug\":\"chicago-il\",\"short_name\":\"Chicago, IL\",\"displayable_name\":\"Chicago, IL\",\"localized_name\":\"Chicago\",\"country\":\"US\",\"state\":\"IL\",\"type\":\"Town\",\"is_root\":false,...   \n",
       "4  {\"id\":12589335,\"name\":\"Brooklyn\",\"slug\":\"brooklyn-ny\",\"short_name\":\"Brooklyn, NY\",\"displayable_name\":\"Brooklyn, NY\",\"localized_name\":\"Brooklyn\",\"country\":\"US\",\"state\":\"NY\",\"type\":\"County\",\"is_root...   \n",
       "\n",
       "                                                        name permissions  \\\n",
       "0                        CrimpCoffee: Good Coffee Good Times         NaN   \n",
       "1      Spawns of the Great Rot - Printable stl 3d miniatures         NaN   \n",
       "2                                         Dreamcatcher Games         NaN   \n",
       "3  Felbar's Shoppe of Curiosities and Occult for 5th Edition         NaN   \n",
       "4            Wander: Flavorful and Functional Pantry Staples         NaN   \n",
       "\n",
       "                                                                                                                                                                                                     photo  \\\n",
       "0  {\"key\":\"assets/017/204/299/11b86dcad20a73f1882c9ba5649a6f4f_original.png\",\"full\":\"https://ksr-ugc.imgix.net/assets/017/204/299/11b86dcad20a73f1882c9ba5649a6f4f_original.png?ixlib=rb-2.1.0&crop=fac...   \n",
       "1  {\"key\":\"assets/031/378/029/0463bccb1bb9ac99bc7f8f8d22d1ec42_original.png\",\"full\":\"https://ksr-ugc.imgix.net/assets/031/378/029/0463bccb1bb9ac99bc7f8f8d22d1ec42_original.png?ixlib=rb-2.1.0&crop=fac...   \n",
       "2  {\"key\":\"assets/016/272/743/7285d141aaf3b1a29f6b9be7351f9762_original.jpg\",\"full\":\"https://ksr-ugc.imgix.net/assets/016/272/743/7285d141aaf3b1a29f6b9be7351f9762_original.jpg?ixlib=rb-2.1.0&crop=fac...   \n",
       "3  {\"key\":\"assets/031/677/529/0f4e2fcf1cb9c1c838af51fdf8862e3e_original.png\",\"full\":\"https://ksr-ugc.imgix.net/assets/031/677/529/0f4e2fcf1cb9c1c838af51fdf8862e3e_original.png?ixlib=rb-2.1.0&crop=fac...   \n",
       "4  {\"key\":\"assets/030/595/766/a1598df9a293a692dcf5f7eddf4fcfff_original.jpg\",\"full\":\"https://ksr-ugc.imgix.net/assets/030/595/766/a1598df9a293a692dcf5f7eddf4fcfff_original.jpg?ixlib=rb-2.1.0&crop=fac...   \n",
       "\n",
       "     pledged  \\\n",
       "0       0.00   \n",
       "1  104176.17   \n",
       "2      50.00   \n",
       "3    6223.00   \n",
       "4   10448.00   \n",
       "\n",
       "                                                                                                                                                                                                   profile  \\\n",
       "0  {\"id\":3047341,\"project_id\":3047341,\"state\":\"inactive\",\"state_changed_at\":1498065534,\"name\":null,\"blurb\":null,\"background_color\":null,\"text_color\":null,\"link_background_color\":null,\"link_text_color...   \n",
       "1  {\"id\":4097429,\"project_id\":4097429,\"state\":\"active\",\"state_changed_at\":1607952554,\"name\":\"Spawns of the Great Rot - Printable stl 3d miniatures\",\"blurb\":\"Spooky ghost miniatures for tabletop gamin...   \n",
       "2  {\"id\":2963211,\"project_id\":2963211,\"state\":\"inactive\",\"state_changed_at\":1492296418,\"name\":null,\"blurb\":null,\"background_color\":null,\"text_color\":null,\"link_background_color\":null,\"link_text_color...   \n",
       "3  {\"id\":4102301,\"project_id\":4102301,\"state\":\"inactive\",\"state_changed_at\":1604510331,\"name\":null,\"blurb\":null,\"background_color\":null,\"text_color\":null,\"link_background_color\":null,\"link_text_color...   \n",
       "4  {\"id\":4036864,\"project_id\":4036864,\"state\":\"inactive\",\"state_changed_at\":1595259627,\"name\":null,\"blurb\":null,\"background_color\":null,\"text_color\":null,\"link_background_color\":null,\"link_text_color...   \n",
       "\n",
       "                                                  slug  \\\n",
       "0                   crimpcoffee-good-coffee-good-times   \n",
       "1  spawns-of-the-great-rot-printable-stl-3d-miniatures   \n",
       "2                                   dreamcatcher-games   \n",
       "3             felbars-shoppe-of-curiosities-and-occult   \n",
       "4       wander-flavorful-and-functional-pantry-staples   \n",
       "\n",
       "                                                             source_url  \\\n",
       "0    https://www.kickstarter.com/discover/categories/food/food%20trucks   \n",
       "1                 https://www.kickstarter.com/discover/categories/games   \n",
       "2  https://www.kickstarter.com/discover/categories/games/mobile%20games   \n",
       "3                 https://www.kickstarter.com/discover/categories/games   \n",
       "4    https://www.kickstarter.com/discover/categories/food/small%20batch   \n",
       "\n",
       "   spotlight  staff_pick       state  state_changed_at  static_usd_rate  \\\n",
       "0      False       False      failed        1500766709         1.000000   \n",
       "1       True       False  successful        1607716729         0.158957   \n",
       "2      False       False      failed        1495025970         1.283700   \n",
       "3       True       False  successful        1609738201         1.000000   \n",
       "4       True       False  successful        1604073600         1.000000   \n",
       "\n",
       "                                                                                                                                                                                                      urls  \\\n",
       "0  {\"web\":{\"project\":\"https://www.kickstarter.com/projects/939819973/crimpcoffee-good-coffee-good-times?ref=discovery_category_newest\",\"rewards\":\"https://www.kickstarter.com/projects/939819973/crimpc...   \n",
       "1  {\"web\":{\"project\":\"https://www.kickstarter.com/projects/fleshcraftstudio/spawns-of-the-great-rot-printable-stl-3d-miniatures?ref=discovery_category_newest\",\"rewards\":\"https://www.kickstarter.com/p...   \n",
       "2  {\"web\":{\"project\":\"https://www.kickstarter.com/projects/dreamcatchercomics/dreamcatcher-games?ref=discovery_category_newest\",\"rewards\":\"https://www.kickstarter.com/projects/dreamcatchercomics/drea...   \n",
       "3  {\"web\":{\"project\":\"https://www.kickstarter.com/projects/thecommonlands/felbars-shoppe-of-curiosities-and-occult?ref=discovery_category_newest\",\"rewards\":\"https://www.kickstarter.com/projects/theco...   \n",
       "4  {\"web\":{\"project\":\"https://www.kickstarter.com/projects/wanderfoods/wander-flavorful-and-functional-pantry-staples?ref=discovery_category_newest\",\"rewards\":\"https://www.kickstarter.com/projects/wa...   \n",
       "\n",
       "    usd_pledged       usd_type  \n",
       "0      0.000000  international  \n",
       "1  16559.556457  international  \n",
       "2     64.185017  international  \n",
       "3   6223.000000  international  \n",
       "4  10448.000000  international  "
      ]
     },
     "execution_count": 659,
     "metadata": {},
     "output_type": "execute_result"
    }
   ],
   "source": [
    "data.head()"
   ]
  },
  {
   "cell_type": "markdown",
   "id": "freelance-cameroon",
   "metadata": {},
   "source": [
    "# Data Cleaning"
   ]
  },
  {
   "cell_type": "markdown",
   "id": "amazing-cleaning",
   "metadata": {},
   "source": [
    "#drop duplicated items"
   ]
  },
  {
   "cell_type": "code",
   "execution_count": 660,
   "id": "swedish-plasma",
   "metadata": {},
   "outputs": [
    {
     "data": {
      "text/plain": [
       "11"
      ]
     },
     "execution_count": 660,
     "metadata": {},
     "output_type": "execute_result"
    }
   ],
   "source": [
    "data['id'].duplicated().sum()"
   ]
  },
  {
   "cell_type": "code",
   "execution_count": 661,
   "id": "meaning-miniature",
   "metadata": {},
   "outputs": [],
   "source": [
    "duplicates = data[data.duplicated(subset='id')]"
   ]
  },
  {
   "cell_type": "code",
   "execution_count": 662,
   "id": "greater-compiler",
   "metadata": {},
   "outputs": [],
   "source": [
    "data.drop_duplicates(inplace=True)"
   ]
  },
  {
   "cell_type": "markdown",
   "id": "painful-drill",
   "metadata": {},
   "source": [
    "### Date conversion"
   ]
  },
  {
   "cell_type": "code",
   "execution_count": 663,
   "id": "rocky-remains",
   "metadata": {},
   "outputs": [],
   "source": [
    "from datetime import datetime"
   ]
  },
  {
   "cell_type": "code",
   "execution_count": 664,
   "id": "capital-sampling",
   "metadata": {},
   "outputs": [],
   "source": [
    "def unix(row):\n",
    "    ts = datetime.utcfromtimestamp(int(row)).strftime('%Y-%m-%d')\n",
    "    return ts\n",
    "\n",
    "data['Launched_at'] = data['launched_at'].apply(unix)\n",
    "data['Deadline'] = data['deadline'].apply(unix)\n",
    "data['Created'] = data['created_at'].apply(unix)"
   ]
  },
  {
   "cell_type": "code",
   "execution_count": 665,
   "id": "patient-galaxy",
   "metadata": {},
   "outputs": [],
   "source": [
    "data['Launched_at'] = pd.DatetimeIndex(data['Launched_at'])\n",
    "data['Deadline'] = pd.DatetimeIndex(data['Deadline'])\n",
    "data['Created'] = pd.DatetimeIndex(data['Created'])"
   ]
  },
  {
   "cell_type": "code",
   "execution_count": 666,
   "id": "short-migration",
   "metadata": {},
   "outputs": [
    {
     "data": {
      "text/plain": [
       "2429   2021-04-14\n",
       "231    2021-04-14\n",
       "1057   2021-04-14\n",
       "2580   2021-04-14\n",
       "3567   2021-04-13\n",
       "          ...    \n",
       "488    2010-02-23\n",
       "1065   2010-01-13\n",
       "3167   2010-01-05\n",
       "1641   2009-10-20\n",
       "1689   2009-05-12\n",
       "Name: Launched_at, Length: 3670, dtype: datetime64[ns]"
      ]
     },
     "execution_count": 666,
     "metadata": {},
     "output_type": "execute_result"
    }
   ],
   "source": [
    "data['Launched_at'].sort_values(ascending=False)"
   ]
  },
  {
   "cell_type": "code",
   "execution_count": 667,
   "id": "lightweight-settle",
   "metadata": {},
   "outputs": [
    {
     "data": {
      "text/plain": [
       "2580   2021-06-13\n",
       "1057   2021-06-13\n",
       "1677   2021-06-12\n",
       "896    2021-06-11\n",
       "3287   2021-06-11\n",
       "          ...    \n",
       "1957   2010-05-03\n",
       "3167   2010-03-05\n",
       "1065   2010-03-01\n",
       "1641   2010-01-15\n",
       "1689   2009-08-01\n",
       "Name: Deadline, Length: 3670, dtype: datetime64[ns]"
      ]
     },
     "execution_count": 667,
     "metadata": {},
     "output_type": "execute_result"
    }
   ],
   "source": [
    "data['Deadline'].sort_values(ascending=False)"
   ]
  },
  {
   "cell_type": "code",
   "execution_count": 668,
   "id": "automated-removal",
   "metadata": {},
   "outputs": [
    {
     "data": {
      "text/plain": [
       "3287   2021-04-13\n",
       "1677   2021-04-13\n",
       "2429   2021-04-11\n",
       "2576   2021-04-10\n",
       "1166   2021-04-08\n",
       "          ...    \n",
       "488    2010-02-12\n",
       "1065   2010-01-07\n",
       "3167   2009-12-31\n",
       "1641   2009-10-15\n",
       "1689   2009-05-12\n",
       "Name: Created, Length: 3670, dtype: datetime64[ns]"
      ]
     },
     "execution_count": 668,
     "metadata": {},
     "output_type": "execute_result"
    }
   ],
   "source": [
    "data['Created'].sort_values(ascending=False)"
   ]
  },
  {
   "cell_type": "code",
   "execution_count": 669,
   "id": "matched-saying",
   "metadata": {},
   "outputs": [],
   "source": [
    "data['Launch_Period'] = data['Deadline']-data['Launched_at']\n",
    "data['Created_to_Launch'] = data['Launched_at']-data['Created']"
   ]
  },
  {
   "cell_type": "code",
   "execution_count": 670,
   "id": "employed-bubble",
   "metadata": {},
   "outputs": [
    {
     "data": {
      "text/plain": [
       "0        1 days\n",
       "1       15 days\n",
       "2       12 days\n",
       "3        8 days\n",
       "4       73 days\n",
       "         ...   \n",
       "3665   399 days\n",
       "3666    13 days\n",
       "3667    24 days\n",
       "3668     5 days\n",
       "3669    26 days\n",
       "Name: Created_to_Launch, Length: 3670, dtype: timedelta64[ns]"
      ]
     },
     "execution_count": 670,
     "metadata": {},
     "output_type": "execute_result"
    }
   ],
   "source": [
    "data['Created_to_Launch']"
   ]
  },
  {
   "cell_type": "code",
   "execution_count": 671,
   "id": "reserved-kernel",
   "metadata": {},
   "outputs": [
    {
     "data": {
      "text/plain": [
       "0      30 days\n",
       "1      30 days\n",
       "2      20 days\n",
       "3      53 days\n",
       "4      29 days\n",
       "         ...  \n",
       "3665   14 days\n",
       "3666   22 days\n",
       "3667   15 days\n",
       "3668   15 days\n",
       "3669   30 days\n",
       "Name: Launch_Period, Length: 3670, dtype: timedelta64[ns]"
      ]
     },
     "execution_count": 671,
     "metadata": {},
     "output_type": "execute_result"
    }
   ],
   "source": [
    "data['Launch_Period'] "
   ]
  },
  {
   "cell_type": "code",
   "execution_count": 672,
   "id": "behind-david",
   "metadata": {},
   "outputs": [
    {
     "data": {
      "text/plain": [
       "Index(['backers_count', 'blurb', 'category', 'converted_pledged_amount',\n",
       "       'country', 'country_displayable_name', 'created_at', 'creator',\n",
       "       'currency', 'currency_symbol', 'currency_trailing_code',\n",
       "       'current_currency', 'deadline', 'disable_communication', 'friends',\n",
       "       'fx_rate', 'goal', 'id', 'is_backing', 'is_starrable', 'is_starred',\n",
       "       'launched_at', 'location', 'name', 'permissions', 'photo', 'pledged',\n",
       "       'profile', 'slug', 'source_url', 'spotlight', 'staff_pick', 'state',\n",
       "       'state_changed_at', 'static_usd_rate', 'urls', 'usd_pledged',\n",
       "       'usd_type', 'Launched_at', 'Deadline', 'Created', 'Launch_Period',\n",
       "       'Created_to_Launch'],\n",
       "      dtype='object')"
      ]
     },
     "execution_count": 672,
     "metadata": {},
     "output_type": "execute_result"
    }
   ],
   "source": [
    "data.columns"
   ]
  },
  {
   "cell_type": "code",
   "execution_count": 673,
   "id": "generic-xerox",
   "metadata": {},
   "outputs": [],
   "source": [
    "data = data.drop(['created_at'], axis = 1)\n",
    "data = data.drop(['deadline'], axis = 1)\n",
    "data = data.drop(['launched_at'], axis = 1)"
   ]
  },
  {
   "cell_type": "code",
   "execution_count": 674,
   "id": "attempted-seven",
   "metadata": {},
   "outputs": [],
   "source": [
    "data['Launch_Year'] = data['Launched_at'].apply(lambda x:str(x)[:4])\n",
    "data['Launch_Month'] = data['Launched_at'].apply(lambda x:str(x)[5:7])\n",
    "data['Launch_Day'] = data['Launched_at'].apply(lambda x:str(x)[8:10])\n"
   ]
  },
  {
   "cell_type": "code",
   "execution_count": 675,
   "id": "lasting-identity",
   "metadata": {},
   "outputs": [
    {
     "data": {
      "text/plain": [
       "0       2017\n",
       "1       2020\n",
       "2       2017\n",
       "3       2020\n",
       "4       2020\n",
       "        ... \n",
       "3665    2020\n",
       "3666    2021\n",
       "3667    2020\n",
       "3668    2018\n",
       "3669    2021\n",
       "Name: Launch_Year, Length: 3670, dtype: object"
      ]
     },
     "execution_count": 675,
     "metadata": {},
     "output_type": "execute_result"
    }
   ],
   "source": [
    "data['Launch_Year']\n"
   ]
  },
  {
   "cell_type": "code",
   "execution_count": 676,
   "id": "verbal-parallel",
   "metadata": {},
   "outputs": [
    {
     "data": {
      "text/plain": [
       "0       06\n",
       "1       11\n",
       "2       04\n",
       "3       11\n",
       "4       10\n",
       "        ..\n",
       "3665    06\n",
       "3666    03\n",
       "3667    08\n",
       "3668    03\n",
       "3669    03\n",
       "Name: Launch_Month, Length: 3670, dtype: object"
      ]
     },
     "execution_count": 676,
     "metadata": {},
     "output_type": "execute_result"
    }
   ],
   "source": [
    "data['Launch_Month']\n"
   ]
  },
  {
   "cell_type": "code",
   "execution_count": 677,
   "id": "hired-government",
   "metadata": {},
   "outputs": [
    {
     "data": {
      "text/plain": [
       "0       22\n",
       "1       11\n",
       "2       27\n",
       "3       12\n",
       "4       01\n",
       "        ..\n",
       "3665    15\n",
       "3666    15\n",
       "3667    27\n",
       "3668    14\n",
       "3669    30\n",
       "Name: Launch_Day, Length: 3670, dtype: object"
      ]
     },
     "execution_count": 677,
     "metadata": {},
     "output_type": "execute_result"
    }
   ],
   "source": [
    "data['Launch_Day']"
   ]
  },
  {
   "cell_type": "code",
   "execution_count": 678,
   "id": "dutch-celtic",
   "metadata": {},
   "outputs": [
    {
     "data": {
      "text/html": [
       "<div>\n",
       "<style scoped>\n",
       "    .dataframe tbody tr th:only-of-type {\n",
       "        vertical-align: middle;\n",
       "    }\n",
       "\n",
       "    .dataframe tbody tr th {\n",
       "        vertical-align: top;\n",
       "    }\n",
       "\n",
       "    .dataframe thead th {\n",
       "        text-align: right;\n",
       "    }\n",
       "</style>\n",
       "<table border=\"1\" class=\"dataframe\">\n",
       "  <thead>\n",
       "    <tr style=\"text-align: right;\">\n",
       "      <th></th>\n",
       "      <th>backers_count</th>\n",
       "      <th>blurb</th>\n",
       "      <th>category</th>\n",
       "      <th>converted_pledged_amount</th>\n",
       "      <th>country</th>\n",
       "      <th>country_displayable_name</th>\n",
       "      <th>creator</th>\n",
       "      <th>currency</th>\n",
       "      <th>currency_symbol</th>\n",
       "      <th>currency_trailing_code</th>\n",
       "      <th>current_currency</th>\n",
       "      <th>disable_communication</th>\n",
       "      <th>friends</th>\n",
       "      <th>fx_rate</th>\n",
       "      <th>goal</th>\n",
       "      <th>id</th>\n",
       "      <th>is_backing</th>\n",
       "      <th>is_starrable</th>\n",
       "      <th>is_starred</th>\n",
       "      <th>location</th>\n",
       "      <th>name</th>\n",
       "      <th>permissions</th>\n",
       "      <th>photo</th>\n",
       "      <th>pledged</th>\n",
       "      <th>profile</th>\n",
       "      <th>slug</th>\n",
       "      <th>source_url</th>\n",
       "      <th>spotlight</th>\n",
       "      <th>staff_pick</th>\n",
       "      <th>state</th>\n",
       "      <th>state_changed_at</th>\n",
       "      <th>static_usd_rate</th>\n",
       "      <th>urls</th>\n",
       "      <th>usd_pledged</th>\n",
       "      <th>usd_type</th>\n",
       "      <th>Launched_at</th>\n",
       "      <th>Deadline</th>\n",
       "      <th>Created</th>\n",
       "      <th>Launch_Period</th>\n",
       "      <th>Created_to_Launch</th>\n",
       "      <th>Launch_Year</th>\n",
       "      <th>Launch_Month</th>\n",
       "      <th>Launch_Day</th>\n",
       "    </tr>\n",
       "  </thead>\n",
       "  <tbody>\n",
       "    <tr>\n",
       "      <th>0</th>\n",
       "      <td>0</td>\n",
       "      <td>A humble little Astro traveling around brewing up fresh coffee and hot meals at National Parks, Rock Gyms, and Trail heads.</td>\n",
       "      <td>{\"id\":311,\"name\":\"Food Trucks\",\"analytics_name\":\"Food Trucks\",\"slug\":\"food/food trucks\",\"position\":8,\"parent_id\":10,\"parent_name\":\"Food\",\"color\":16725570,\"urls\":{\"web\":{\"discover\":\"http://www.kick...</td>\n",
       "      <td>0</td>\n",
       "      <td>US</td>\n",
       "      <td>the United States</td>\n",
       "      <td>{\"id\":939819973,\"name\":\"Daniel Sanchez\",\"is_registered\":null,\"is_email_verified\":null,\"chosen_currency\":null,\"is_superbacker\":null,\"avatar\":{\"thumb\":\"https://ksr-ugc.imgix.net/assets/017/204/442/4...</td>\n",
       "      <td>USD</td>\n",
       "      <td>$</td>\n",
       "      <td>True</td>\n",
       "      <td>USD</td>\n",
       "      <td>False</td>\n",
       "      <td>NaN</td>\n",
       "      <td>1.000000</td>\n",
       "      <td>1000</td>\n",
       "      <td>1166044523</td>\n",
       "      <td>NaN</td>\n",
       "      <td>False</td>\n",
       "      <td>NaN</td>\n",
       "      <td>{\"id\":2475687,\"name\":\"Portland\",\"slug\":\"portland-or\",\"short_name\":\"Portland, OR\",\"displayable_name\":\"Portland, OR\",\"localized_name\":\"Portland\",\"country\":\"US\",\"state\":\"OR\",\"type\":\"Town\",\"is_root\":f...</td>\n",
       "      <td>CrimpCoffee: Good Coffee Good Times</td>\n",
       "      <td>NaN</td>\n",
       "      <td>{\"key\":\"assets/017/204/299/11b86dcad20a73f1882c9ba5649a6f4f_original.png\",\"full\":\"https://ksr-ugc.imgix.net/assets/017/204/299/11b86dcad20a73f1882c9ba5649a6f4f_original.png?ixlib=rb-2.1.0&amp;crop=fac...</td>\n",
       "      <td>0.00</td>\n",
       "      <td>{\"id\":3047341,\"project_id\":3047341,\"state\":\"inactive\",\"state_changed_at\":1498065534,\"name\":null,\"blurb\":null,\"background_color\":null,\"text_color\":null,\"link_background_color\":null,\"link_text_color...</td>\n",
       "      <td>crimpcoffee-good-coffee-good-times</td>\n",
       "      <td>https://www.kickstarter.com/discover/categories/food/food%20trucks</td>\n",
       "      <td>False</td>\n",
       "      <td>False</td>\n",
       "      <td>failed</td>\n",
       "      <td>1500766709</td>\n",
       "      <td>1.000000</td>\n",
       "      <td>{\"web\":{\"project\":\"https://www.kickstarter.com/projects/939819973/crimpcoffee-good-coffee-good-times?ref=discovery_category_newest\",\"rewards\":\"https://www.kickstarter.com/projects/939819973/crimpc...</td>\n",
       "      <td>0.000000</td>\n",
       "      <td>international</td>\n",
       "      <td>2017-06-22</td>\n",
       "      <td>2017-07-22</td>\n",
       "      <td>2017-06-21</td>\n",
       "      <td>30 days</td>\n",
       "      <td>1 days</td>\n",
       "      <td>2017</td>\n",
       "      <td>06</td>\n",
       "      <td>22</td>\n",
       "    </tr>\n",
       "    <tr>\n",
       "      <th>1</th>\n",
       "      <td>454</td>\n",
       "      <td>Spooky ghost miniatures for tabletop gaming, RPG, DnD. Great for undead themed campaigns.</td>\n",
       "      <td>{\"id\":34,\"name\":\"Tabletop Games\",\"analytics_name\":\"Tabletop Games\",\"slug\":\"games/tabletop games\",\"position\":6,\"parent_id\":12,\"parent_name\":\"Games\",\"color\":51627,\"urls\":{\"web\":{\"discover\":\"http://w...</td>\n",
       "      <td>17010</td>\n",
       "      <td>DK</td>\n",
       "      <td>Denmark</td>\n",
       "      <td>{\"id\":1449949486,\"name\":\"Fleshcraft Studio\",\"slug\":\"fleshcraftstudio\",\"is_registered\":null,\"is_email_verified\":null,\"chosen_currency\":null,\"is_superbacker\":null,\"avatar\":{\"thumb\":\"https://ksr-ugc....</td>\n",
       "      <td>DKK</td>\n",
       "      <td>kr</td>\n",
       "      <td>True</td>\n",
       "      <td>USD</td>\n",
       "      <td>False</td>\n",
       "      <td>NaN</td>\n",
       "      <td>0.161007</td>\n",
       "      <td>7500</td>\n",
       "      <td>986370978</td>\n",
       "      <td>NaN</td>\n",
       "      <td>False</td>\n",
       "      <td>NaN</td>\n",
       "      <td>{\"id\":557827,\"name\":\"Svendborg\",\"slug\":\"svendborg-dk\",\"short_name\":\"Svendborg, Denmark\",\"displayable_name\":\"Svendborg, Denmark\",\"localized_name\":\"Svendborg\",\"country\":\"DK\",\"state\":\"Syddanmark\",\"ty...</td>\n",
       "      <td>Spawns of the Great Rot - Printable stl 3d miniatures</td>\n",
       "      <td>NaN</td>\n",
       "      <td>{\"key\":\"assets/031/378/029/0463bccb1bb9ac99bc7f8f8d22d1ec42_original.png\",\"full\":\"https://ksr-ugc.imgix.net/assets/031/378/029/0463bccb1bb9ac99bc7f8f8d22d1ec42_original.png?ixlib=rb-2.1.0&amp;crop=fac...</td>\n",
       "      <td>104176.17</td>\n",
       "      <td>{\"id\":4097429,\"project_id\":4097429,\"state\":\"active\",\"state_changed_at\":1607952554,\"name\":\"Spawns of the Great Rot - Printable stl 3d miniatures\",\"blurb\":\"Spooky ghost miniatures for tabletop gamin...</td>\n",
       "      <td>spawns-of-the-great-rot-printable-stl-3d-miniatures</td>\n",
       "      <td>https://www.kickstarter.com/discover/categories/games</td>\n",
       "      <td>True</td>\n",
       "      <td>False</td>\n",
       "      <td>successful</td>\n",
       "      <td>1607716729</td>\n",
       "      <td>0.158957</td>\n",
       "      <td>{\"web\":{\"project\":\"https://www.kickstarter.com/projects/fleshcraftstudio/spawns-of-the-great-rot-printable-stl-3d-miniatures?ref=discovery_category_newest\",\"rewards\":\"https://www.kickstarter.com/p...</td>\n",
       "      <td>16559.556457</td>\n",
       "      <td>international</td>\n",
       "      <td>2020-11-11</td>\n",
       "      <td>2020-12-11</td>\n",
       "      <td>2020-10-27</td>\n",
       "      <td>30 days</td>\n",
       "      <td>15 days</td>\n",
       "      <td>2020</td>\n",
       "      <td>11</td>\n",
       "      <td>11</td>\n",
       "    </tr>\n",
       "    <tr>\n",
       "      <th>2</th>\n",
       "      <td>1</td>\n",
       "      <td>As a part of Dreamcatcher Comics we will be starting a gaming department. We currently require funding to cover costs of software etc.</td>\n",
       "      <td>{\"id\":272,\"name\":\"Mobile Games\",\"analytics_name\":\"Mobile Games\",\"slug\":\"games/mobile games\",\"position\":3,\"parent_id\":12,\"parent_name\":\"Games\",\"color\":51627,\"urls\":{\"web\":{\"discover\":\"http://www.ki...</td>\n",
       "      <td>64</td>\n",
       "      <td>GB</td>\n",
       "      <td>the United Kingdom</td>\n",
       "      <td>{\"id\":1942869476,\"name\":\"Sebastian\",\"slug\":\"dreamcatchercomics\",\"is_registered\":null,\"is_email_verified\":null,\"chosen_currency\":null,\"is_superbacker\":null,\"avatar\":{\"thumb\":\"https://ksr-ugc.imgix....</td>\n",
       "      <td>GBP</td>\n",
       "      <td>£</td>\n",
       "      <td>False</td>\n",
       "      <td>USD</td>\n",
       "      <td>False</td>\n",
       "      <td>NaN</td>\n",
       "      <td>1.377223</td>\n",
       "      <td>500</td>\n",
       "      <td>2059825834</td>\n",
       "      <td>NaN</td>\n",
       "      <td>False</td>\n",
       "      <td>NaN</td>\n",
       "      <td>{\"id\":19612,\"name\":\"Enfield\",\"slug\":\"enfield-london-gb\",\"short_name\":\"Enfield, UK\",\"displayable_name\":\"Enfield, UK\",\"localized_name\":\"Enfield\",\"country\":\"GB\",\"state\":\"England\",\"type\":\"Suburb\",\"is_...</td>\n",
       "      <td>Dreamcatcher Games</td>\n",
       "      <td>NaN</td>\n",
       "      <td>{\"key\":\"assets/016/272/743/7285d141aaf3b1a29f6b9be7351f9762_original.jpg\",\"full\":\"https://ksr-ugc.imgix.net/assets/016/272/743/7285d141aaf3b1a29f6b9be7351f9762_original.jpg?ixlib=rb-2.1.0&amp;crop=fac...</td>\n",
       "      <td>50.00</td>\n",
       "      <td>{\"id\":2963211,\"project_id\":2963211,\"state\":\"inactive\",\"state_changed_at\":1492296418,\"name\":null,\"blurb\":null,\"background_color\":null,\"text_color\":null,\"link_background_color\":null,\"link_text_color...</td>\n",
       "      <td>dreamcatcher-games</td>\n",
       "      <td>https://www.kickstarter.com/discover/categories/games/mobile%20games</td>\n",
       "      <td>False</td>\n",
       "      <td>False</td>\n",
       "      <td>failed</td>\n",
       "      <td>1495025970</td>\n",
       "      <td>1.283700</td>\n",
       "      <td>{\"web\":{\"project\":\"https://www.kickstarter.com/projects/dreamcatchercomics/dreamcatcher-games?ref=discovery_category_newest\",\"rewards\":\"https://www.kickstarter.com/projects/dreamcatchercomics/drea...</td>\n",
       "      <td>64.185017</td>\n",
       "      <td>international</td>\n",
       "      <td>2017-04-27</td>\n",
       "      <td>2017-05-17</td>\n",
       "      <td>2017-04-15</td>\n",
       "      <td>20 days</td>\n",
       "      <td>12 days</td>\n",
       "      <td>2017</td>\n",
       "      <td>04</td>\n",
       "      <td>27</td>\n",
       "    </tr>\n",
       "    <tr>\n",
       "      <th>3</th>\n",
       "      <td>92</td>\n",
       "      <td>We write D&amp;D gaming modules that make the game mastering experience as easy as it is for the players. Welcome to the Common Lands!</td>\n",
       "      <td>{\"id\":34,\"name\":\"Tabletop Games\",\"analytics_name\":\"Tabletop Games\",\"slug\":\"games/tabletop games\",\"position\":6,\"parent_id\":12,\"parent_name\":\"Games\",\"color\":51627,\"urls\":{\"web\":{\"discover\":\"http://w...</td>\n",
       "      <td>6223</td>\n",
       "      <td>US</td>\n",
       "      <td>the United States</td>\n",
       "      <td>{\"id\":899047186,\"name\":\"Cory J. Burns\",\"slug\":\"thecommonlands\",\"is_registered\":null,\"is_email_verified\":null,\"chosen_currency\":null,\"is_superbacker\":null,\"avatar\":{\"thumb\":\"https://ksr-ugc.imgix.n...</td>\n",
       "      <td>USD</td>\n",
       "      <td>$</td>\n",
       "      <td>True</td>\n",
       "      <td>USD</td>\n",
       "      <td>False</td>\n",
       "      <td>NaN</td>\n",
       "      <td>1.000000</td>\n",
       "      <td>5000</td>\n",
       "      <td>1462846972</td>\n",
       "      <td>NaN</td>\n",
       "      <td>False</td>\n",
       "      <td>NaN</td>\n",
       "      <td>{\"id\":2379574,\"name\":\"Chicago\",\"slug\":\"chicago-il\",\"short_name\":\"Chicago, IL\",\"displayable_name\":\"Chicago, IL\",\"localized_name\":\"Chicago\",\"country\":\"US\",\"state\":\"IL\",\"type\":\"Town\",\"is_root\":false,...</td>\n",
       "      <td>Felbar's Shoppe of Curiosities and Occult for 5th Edition</td>\n",
       "      <td>NaN</td>\n",
       "      <td>{\"key\":\"assets/031/677/529/0f4e2fcf1cb9c1c838af51fdf8862e3e_original.png\",\"full\":\"https://ksr-ugc.imgix.net/assets/031/677/529/0f4e2fcf1cb9c1c838af51fdf8862e3e_original.png?ixlib=rb-2.1.0&amp;crop=fac...</td>\n",
       "      <td>6223.00</td>\n",
       "      <td>{\"id\":4102301,\"project_id\":4102301,\"state\":\"inactive\",\"state_changed_at\":1604510331,\"name\":null,\"blurb\":null,\"background_color\":null,\"text_color\":null,\"link_background_color\":null,\"link_text_color...</td>\n",
       "      <td>felbars-shoppe-of-curiosities-and-occult</td>\n",
       "      <td>https://www.kickstarter.com/discover/categories/games</td>\n",
       "      <td>True</td>\n",
       "      <td>False</td>\n",
       "      <td>successful</td>\n",
       "      <td>1609738201</td>\n",
       "      <td>1.000000</td>\n",
       "      <td>{\"web\":{\"project\":\"https://www.kickstarter.com/projects/thecommonlands/felbars-shoppe-of-curiosities-and-occult?ref=discovery_category_newest\",\"rewards\":\"https://www.kickstarter.com/projects/theco...</td>\n",
       "      <td>6223.000000</td>\n",
       "      <td>international</td>\n",
       "      <td>2020-11-12</td>\n",
       "      <td>2021-01-04</td>\n",
       "      <td>2020-11-04</td>\n",
       "      <td>53 days</td>\n",
       "      <td>8 days</td>\n",
       "      <td>2020</td>\n",
       "      <td>11</td>\n",
       "      <td>12</td>\n",
       "    </tr>\n",
       "    <tr>\n",
       "      <th>4</th>\n",
       "      <td>128</td>\n",
       "      <td>Wander creates high quality, hand-crafted, functional adaptogenic pantry staples for everyday use. Organic + Vegan + Global Fair Trade</td>\n",
       "      <td>{\"id\":313,\"name\":\"Small Batch\",\"analytics_name\":\"Small Batch\",\"slug\":\"food/small batch\",\"position\":10,\"parent_id\":10,\"parent_name\":\"Food\",\"color\":16725570,\"urls\":{\"web\":{\"discover\":\"http://www.kic...</td>\n",
       "      <td>10448</td>\n",
       "      <td>US</td>\n",
       "      <td>the United States</td>\n",
       "      <td>{\"id\":354732308,\"name\":\"Wander Foods\",\"slug\":\"wanderfoods\",\"is_registered\":null,\"is_email_verified\":null,\"chosen_currency\":null,\"is_superbacker\":null,\"avatar\":{\"thumb\":\"https://ksr-ugc.imgix.net/a...</td>\n",
       "      <td>USD</td>\n",
       "      <td>$</td>\n",
       "      <td>True</td>\n",
       "      <td>USD</td>\n",
       "      <td>False</td>\n",
       "      <td>NaN</td>\n",
       "      <td>1.000000</td>\n",
       "      <td>10000</td>\n",
       "      <td>1635933643</td>\n",
       "      <td>NaN</td>\n",
       "      <td>False</td>\n",
       "      <td>NaN</td>\n",
       "      <td>{\"id\":12589335,\"name\":\"Brooklyn\",\"slug\":\"brooklyn-ny\",\"short_name\":\"Brooklyn, NY\",\"displayable_name\":\"Brooklyn, NY\",\"localized_name\":\"Brooklyn\",\"country\":\"US\",\"state\":\"NY\",\"type\":\"County\",\"is_root...</td>\n",
       "      <td>Wander: Flavorful and Functional Pantry Staples</td>\n",
       "      <td>NaN</td>\n",
       "      <td>{\"key\":\"assets/030/595/766/a1598df9a293a692dcf5f7eddf4fcfff_original.jpg\",\"full\":\"https://ksr-ugc.imgix.net/assets/030/595/766/a1598df9a293a692dcf5f7eddf4fcfff_original.jpg?ixlib=rb-2.1.0&amp;crop=fac...</td>\n",
       "      <td>10448.00</td>\n",
       "      <td>{\"id\":4036864,\"project_id\":4036864,\"state\":\"inactive\",\"state_changed_at\":1595259627,\"name\":null,\"blurb\":null,\"background_color\":null,\"text_color\":null,\"link_background_color\":null,\"link_text_color...</td>\n",
       "      <td>wander-flavorful-and-functional-pantry-staples</td>\n",
       "      <td>https://www.kickstarter.com/discover/categories/food/small%20batch</td>\n",
       "      <td>True</td>\n",
       "      <td>False</td>\n",
       "      <td>successful</td>\n",
       "      <td>1604073600</td>\n",
       "      <td>1.000000</td>\n",
       "      <td>{\"web\":{\"project\":\"https://www.kickstarter.com/projects/wanderfoods/wander-flavorful-and-functional-pantry-staples?ref=discovery_category_newest\",\"rewards\":\"https://www.kickstarter.com/projects/wa...</td>\n",
       "      <td>10448.000000</td>\n",
       "      <td>international</td>\n",
       "      <td>2020-10-01</td>\n",
       "      <td>2020-10-30</td>\n",
       "      <td>2020-07-20</td>\n",
       "      <td>29 days</td>\n",
       "      <td>73 days</td>\n",
       "      <td>2020</td>\n",
       "      <td>10</td>\n",
       "      <td>01</td>\n",
       "    </tr>\n",
       "  </tbody>\n",
       "</table>\n",
       "</div>"
      ],
      "text/plain": [
       "   backers_count  \\\n",
       "0              0   \n",
       "1            454   \n",
       "2              1   \n",
       "3             92   \n",
       "4            128   \n",
       "\n",
       "                                                                                                                                    blurb  \\\n",
       "0             A humble little Astro traveling around brewing up fresh coffee and hot meals at National Parks, Rock Gyms, and Trail heads.   \n",
       "1                                               Spooky ghost miniatures for tabletop gaming, RPG, DnD. Great for undead themed campaigns.   \n",
       "2  As a part of Dreamcatcher Comics we will be starting a gaming department. We currently require funding to cover costs of software etc.   \n",
       "3      We write D&D gaming modules that make the game mastering experience as easy as it is for the players. Welcome to the Common Lands!   \n",
       "4  Wander creates high quality, hand-crafted, functional adaptogenic pantry staples for everyday use. Organic + Vegan + Global Fair Trade   \n",
       "\n",
       "                                                                                                                                                                                                  category  \\\n",
       "0  {\"id\":311,\"name\":\"Food Trucks\",\"analytics_name\":\"Food Trucks\",\"slug\":\"food/food trucks\",\"position\":8,\"parent_id\":10,\"parent_name\":\"Food\",\"color\":16725570,\"urls\":{\"web\":{\"discover\":\"http://www.kick...   \n",
       "1  {\"id\":34,\"name\":\"Tabletop Games\",\"analytics_name\":\"Tabletop Games\",\"slug\":\"games/tabletop games\",\"position\":6,\"parent_id\":12,\"parent_name\":\"Games\",\"color\":51627,\"urls\":{\"web\":{\"discover\":\"http://w...   \n",
       "2  {\"id\":272,\"name\":\"Mobile Games\",\"analytics_name\":\"Mobile Games\",\"slug\":\"games/mobile games\",\"position\":3,\"parent_id\":12,\"parent_name\":\"Games\",\"color\":51627,\"urls\":{\"web\":{\"discover\":\"http://www.ki...   \n",
       "3  {\"id\":34,\"name\":\"Tabletop Games\",\"analytics_name\":\"Tabletop Games\",\"slug\":\"games/tabletop games\",\"position\":6,\"parent_id\":12,\"parent_name\":\"Games\",\"color\":51627,\"urls\":{\"web\":{\"discover\":\"http://w...   \n",
       "4  {\"id\":313,\"name\":\"Small Batch\",\"analytics_name\":\"Small Batch\",\"slug\":\"food/small batch\",\"position\":10,\"parent_id\":10,\"parent_name\":\"Food\",\"color\":16725570,\"urls\":{\"web\":{\"discover\":\"http://www.kic...   \n",
       "\n",
       "   converted_pledged_amount country country_displayable_name  \\\n",
       "0                         0      US        the United States   \n",
       "1                     17010      DK                  Denmark   \n",
       "2                        64      GB       the United Kingdom   \n",
       "3                      6223      US        the United States   \n",
       "4                     10448      US        the United States   \n",
       "\n",
       "                                                                                                                                                                                                   creator  \\\n",
       "0  {\"id\":939819973,\"name\":\"Daniel Sanchez\",\"is_registered\":null,\"is_email_verified\":null,\"chosen_currency\":null,\"is_superbacker\":null,\"avatar\":{\"thumb\":\"https://ksr-ugc.imgix.net/assets/017/204/442/4...   \n",
       "1  {\"id\":1449949486,\"name\":\"Fleshcraft Studio\",\"slug\":\"fleshcraftstudio\",\"is_registered\":null,\"is_email_verified\":null,\"chosen_currency\":null,\"is_superbacker\":null,\"avatar\":{\"thumb\":\"https://ksr-ugc....   \n",
       "2  {\"id\":1942869476,\"name\":\"Sebastian\",\"slug\":\"dreamcatchercomics\",\"is_registered\":null,\"is_email_verified\":null,\"chosen_currency\":null,\"is_superbacker\":null,\"avatar\":{\"thumb\":\"https://ksr-ugc.imgix....   \n",
       "3  {\"id\":899047186,\"name\":\"Cory J. Burns\",\"slug\":\"thecommonlands\",\"is_registered\":null,\"is_email_verified\":null,\"chosen_currency\":null,\"is_superbacker\":null,\"avatar\":{\"thumb\":\"https://ksr-ugc.imgix.n...   \n",
       "4  {\"id\":354732308,\"name\":\"Wander Foods\",\"slug\":\"wanderfoods\",\"is_registered\":null,\"is_email_verified\":null,\"chosen_currency\":null,\"is_superbacker\":null,\"avatar\":{\"thumb\":\"https://ksr-ugc.imgix.net/a...   \n",
       "\n",
       "  currency currency_symbol  currency_trailing_code current_currency  \\\n",
       "0      USD               $                    True              USD   \n",
       "1      DKK              kr                    True              USD   \n",
       "2      GBP               £                   False              USD   \n",
       "3      USD               $                    True              USD   \n",
       "4      USD               $                    True              USD   \n",
       "\n",
       "   disable_communication friends   fx_rate   goal          id is_backing  \\\n",
       "0                  False     NaN  1.000000   1000  1166044523        NaN   \n",
       "1                  False     NaN  0.161007   7500   986370978        NaN   \n",
       "2                  False     NaN  1.377223    500  2059825834        NaN   \n",
       "3                  False     NaN  1.000000   5000  1462846972        NaN   \n",
       "4                  False     NaN  1.000000  10000  1635933643        NaN   \n",
       "\n",
       "   is_starrable is_starred  \\\n",
       "0         False        NaN   \n",
       "1         False        NaN   \n",
       "2         False        NaN   \n",
       "3         False        NaN   \n",
       "4         False        NaN   \n",
       "\n",
       "                                                                                                                                                                                                  location  \\\n",
       "0  {\"id\":2475687,\"name\":\"Portland\",\"slug\":\"portland-or\",\"short_name\":\"Portland, OR\",\"displayable_name\":\"Portland, OR\",\"localized_name\":\"Portland\",\"country\":\"US\",\"state\":\"OR\",\"type\":\"Town\",\"is_root\":f...   \n",
       "1  {\"id\":557827,\"name\":\"Svendborg\",\"slug\":\"svendborg-dk\",\"short_name\":\"Svendborg, Denmark\",\"displayable_name\":\"Svendborg, Denmark\",\"localized_name\":\"Svendborg\",\"country\":\"DK\",\"state\":\"Syddanmark\",\"ty...   \n",
       "2  {\"id\":19612,\"name\":\"Enfield\",\"slug\":\"enfield-london-gb\",\"short_name\":\"Enfield, UK\",\"displayable_name\":\"Enfield, UK\",\"localized_name\":\"Enfield\",\"country\":\"GB\",\"state\":\"England\",\"type\":\"Suburb\",\"is_...   \n",
       "3  {\"id\":2379574,\"name\":\"Chicago\",\"slug\":\"chicago-il\",\"short_name\":\"Chicago, IL\",\"displayable_name\":\"Chicago, IL\",\"localized_name\":\"Chicago\",\"country\":\"US\",\"state\":\"IL\",\"type\":\"Town\",\"is_root\":false,...   \n",
       "4  {\"id\":12589335,\"name\":\"Brooklyn\",\"slug\":\"brooklyn-ny\",\"short_name\":\"Brooklyn, NY\",\"displayable_name\":\"Brooklyn, NY\",\"localized_name\":\"Brooklyn\",\"country\":\"US\",\"state\":\"NY\",\"type\":\"County\",\"is_root...   \n",
       "\n",
       "                                                        name permissions  \\\n",
       "0                        CrimpCoffee: Good Coffee Good Times         NaN   \n",
       "1      Spawns of the Great Rot - Printable stl 3d miniatures         NaN   \n",
       "2                                         Dreamcatcher Games         NaN   \n",
       "3  Felbar's Shoppe of Curiosities and Occult for 5th Edition         NaN   \n",
       "4            Wander: Flavorful and Functional Pantry Staples         NaN   \n",
       "\n",
       "                                                                                                                                                                                                     photo  \\\n",
       "0  {\"key\":\"assets/017/204/299/11b86dcad20a73f1882c9ba5649a6f4f_original.png\",\"full\":\"https://ksr-ugc.imgix.net/assets/017/204/299/11b86dcad20a73f1882c9ba5649a6f4f_original.png?ixlib=rb-2.1.0&crop=fac...   \n",
       "1  {\"key\":\"assets/031/378/029/0463bccb1bb9ac99bc7f8f8d22d1ec42_original.png\",\"full\":\"https://ksr-ugc.imgix.net/assets/031/378/029/0463bccb1bb9ac99bc7f8f8d22d1ec42_original.png?ixlib=rb-2.1.0&crop=fac...   \n",
       "2  {\"key\":\"assets/016/272/743/7285d141aaf3b1a29f6b9be7351f9762_original.jpg\",\"full\":\"https://ksr-ugc.imgix.net/assets/016/272/743/7285d141aaf3b1a29f6b9be7351f9762_original.jpg?ixlib=rb-2.1.0&crop=fac...   \n",
       "3  {\"key\":\"assets/031/677/529/0f4e2fcf1cb9c1c838af51fdf8862e3e_original.png\",\"full\":\"https://ksr-ugc.imgix.net/assets/031/677/529/0f4e2fcf1cb9c1c838af51fdf8862e3e_original.png?ixlib=rb-2.1.0&crop=fac...   \n",
       "4  {\"key\":\"assets/030/595/766/a1598df9a293a692dcf5f7eddf4fcfff_original.jpg\",\"full\":\"https://ksr-ugc.imgix.net/assets/030/595/766/a1598df9a293a692dcf5f7eddf4fcfff_original.jpg?ixlib=rb-2.1.0&crop=fac...   \n",
       "\n",
       "     pledged  \\\n",
       "0       0.00   \n",
       "1  104176.17   \n",
       "2      50.00   \n",
       "3    6223.00   \n",
       "4   10448.00   \n",
       "\n",
       "                                                                                                                                                                                                   profile  \\\n",
       "0  {\"id\":3047341,\"project_id\":3047341,\"state\":\"inactive\",\"state_changed_at\":1498065534,\"name\":null,\"blurb\":null,\"background_color\":null,\"text_color\":null,\"link_background_color\":null,\"link_text_color...   \n",
       "1  {\"id\":4097429,\"project_id\":4097429,\"state\":\"active\",\"state_changed_at\":1607952554,\"name\":\"Spawns of the Great Rot - Printable stl 3d miniatures\",\"blurb\":\"Spooky ghost miniatures for tabletop gamin...   \n",
       "2  {\"id\":2963211,\"project_id\":2963211,\"state\":\"inactive\",\"state_changed_at\":1492296418,\"name\":null,\"blurb\":null,\"background_color\":null,\"text_color\":null,\"link_background_color\":null,\"link_text_color...   \n",
       "3  {\"id\":4102301,\"project_id\":4102301,\"state\":\"inactive\",\"state_changed_at\":1604510331,\"name\":null,\"blurb\":null,\"background_color\":null,\"text_color\":null,\"link_background_color\":null,\"link_text_color...   \n",
       "4  {\"id\":4036864,\"project_id\":4036864,\"state\":\"inactive\",\"state_changed_at\":1595259627,\"name\":null,\"blurb\":null,\"background_color\":null,\"text_color\":null,\"link_background_color\":null,\"link_text_color...   \n",
       "\n",
       "                                                  slug  \\\n",
       "0                   crimpcoffee-good-coffee-good-times   \n",
       "1  spawns-of-the-great-rot-printable-stl-3d-miniatures   \n",
       "2                                   dreamcatcher-games   \n",
       "3             felbars-shoppe-of-curiosities-and-occult   \n",
       "4       wander-flavorful-and-functional-pantry-staples   \n",
       "\n",
       "                                                             source_url  \\\n",
       "0    https://www.kickstarter.com/discover/categories/food/food%20trucks   \n",
       "1                 https://www.kickstarter.com/discover/categories/games   \n",
       "2  https://www.kickstarter.com/discover/categories/games/mobile%20games   \n",
       "3                 https://www.kickstarter.com/discover/categories/games   \n",
       "4    https://www.kickstarter.com/discover/categories/food/small%20batch   \n",
       "\n",
       "   spotlight  staff_pick       state  state_changed_at  static_usd_rate  \\\n",
       "0      False       False      failed        1500766709         1.000000   \n",
       "1       True       False  successful        1607716729         0.158957   \n",
       "2      False       False      failed        1495025970         1.283700   \n",
       "3       True       False  successful        1609738201         1.000000   \n",
       "4       True       False  successful        1604073600         1.000000   \n",
       "\n",
       "                                                                                                                                                                                                      urls  \\\n",
       "0  {\"web\":{\"project\":\"https://www.kickstarter.com/projects/939819973/crimpcoffee-good-coffee-good-times?ref=discovery_category_newest\",\"rewards\":\"https://www.kickstarter.com/projects/939819973/crimpc...   \n",
       "1  {\"web\":{\"project\":\"https://www.kickstarter.com/projects/fleshcraftstudio/spawns-of-the-great-rot-printable-stl-3d-miniatures?ref=discovery_category_newest\",\"rewards\":\"https://www.kickstarter.com/p...   \n",
       "2  {\"web\":{\"project\":\"https://www.kickstarter.com/projects/dreamcatchercomics/dreamcatcher-games?ref=discovery_category_newest\",\"rewards\":\"https://www.kickstarter.com/projects/dreamcatchercomics/drea...   \n",
       "3  {\"web\":{\"project\":\"https://www.kickstarter.com/projects/thecommonlands/felbars-shoppe-of-curiosities-and-occult?ref=discovery_category_newest\",\"rewards\":\"https://www.kickstarter.com/projects/theco...   \n",
       "4  {\"web\":{\"project\":\"https://www.kickstarter.com/projects/wanderfoods/wander-flavorful-and-functional-pantry-staples?ref=discovery_category_newest\",\"rewards\":\"https://www.kickstarter.com/projects/wa...   \n",
       "\n",
       "    usd_pledged       usd_type Launched_at   Deadline    Created  \\\n",
       "0      0.000000  international  2017-06-22 2017-07-22 2017-06-21   \n",
       "1  16559.556457  international  2020-11-11 2020-12-11 2020-10-27   \n",
       "2     64.185017  international  2017-04-27 2017-05-17 2017-04-15   \n",
       "3   6223.000000  international  2020-11-12 2021-01-04 2020-11-04   \n",
       "4  10448.000000  international  2020-10-01 2020-10-30 2020-07-20   \n",
       "\n",
       "  Launch_Period Created_to_Launch Launch_Year Launch_Month Launch_Day  \n",
       "0       30 days            1 days        2017           06         22  \n",
       "1       30 days           15 days        2020           11         11  \n",
       "2       20 days           12 days        2017           04         27  \n",
       "3       53 days            8 days        2020           11         12  \n",
       "4       29 days           73 days        2020           10         01  "
      ]
     },
     "execution_count": 678,
     "metadata": {},
     "output_type": "execute_result"
    }
   ],
   "source": [
    "data.head()"
   ]
  },
  {
   "cell_type": "markdown",
   "id": "assured-fifty",
   "metadata": {},
   "source": [
    "### name,blurb conversion"
   ]
  },
  {
   "cell_type": "code",
   "execution_count": 679,
   "id": "constitutional-charter",
   "metadata": {},
   "outputs": [],
   "source": [
    "data['blurb_words_count'] = data['blurb'].str.split().str.len()\n",
    "data['name_words_count'] = data['name'].str.split().str.len()"
   ]
  },
  {
   "cell_type": "code",
   "execution_count": 680,
   "id": "miniature-racing",
   "metadata": {},
   "outputs": [
    {
     "data": {
      "text/plain": [
       "0       21\n",
       "1       13\n",
       "2       23\n",
       "3       24\n",
       "4       19\n",
       "        ..\n",
       "3665     6\n",
       "3666     8\n",
       "3667    16\n",
       "3668    17\n",
       "3669    22\n",
       "Name: blurb_words_count, Length: 3670, dtype: int64"
      ]
     },
     "execution_count": 680,
     "metadata": {},
     "output_type": "execute_result"
    }
   ],
   "source": [
    "data['blurb_words_count']"
   ]
  },
  {
   "cell_type": "code",
   "execution_count": 681,
   "id": "burning-weather",
   "metadata": {},
   "outputs": [
    {
     "data": {
      "text/plain": [
       "0        5\n",
       "1       10\n",
       "2        2\n",
       "3        9\n",
       "4        6\n",
       "        ..\n",
       "3665     5\n",
       "3666     4\n",
       "3667     9\n",
       "3668     4\n",
       "3669     8\n",
       "Name: name_words_count, Length: 3670, dtype: int64"
      ]
     },
     "execution_count": 681,
     "metadata": {},
     "output_type": "execute_result"
    }
   ],
   "source": [
    "data['name_words_count']"
   ]
  },
  {
   "cell_type": "code",
   "execution_count": 682,
   "id": "dried-interference",
   "metadata": {},
   "outputs": [],
   "source": [
    "data=data.drop(['blurb','name'],axis = 1)"
   ]
  },
  {
   "cell_type": "markdown",
   "id": "marked-words",
   "metadata": {},
   "source": [
    "### Goal change to usd"
   ]
  },
  {
   "cell_type": "code",
   "execution_count": 683,
   "id": "modified-center",
   "metadata": {},
   "outputs": [],
   "source": [
    "# Calculate new column 'usd_goal' as goal * static_usd_rate\n",
    "data['usd_goal'] = round(data['goal'] * data['static_usd_rate'],2)"
   ]
  },
  {
   "cell_type": "code",
   "execution_count": 684,
   "id": "behind-closing",
   "metadata": {},
   "outputs": [],
   "source": [
    "data=data.drop(['goal','static_usd_rate'],axis = 1)"
   ]
  },
  {
   "cell_type": "markdown",
   "id": "czech-dimension",
   "metadata": {},
   "source": [
    "### category"
   ]
  },
  {
   "cell_type": "code",
   "execution_count": 685,
   "id": "failing-lucas",
   "metadata": {},
   "outputs": [
    {
     "data": {
      "text/plain": [
       "'https://www.kickstarter.com/discover/categories/games'"
      ]
     },
     "execution_count": 685,
     "metadata": {},
     "output_type": "execute_result"
    }
   ],
   "source": [
    "data['source_url'][3]"
   ]
  },
  {
   "cell_type": "code",
   "execution_count": 686,
   "id": "closing-laugh",
   "metadata": {},
   "outputs": [
    {
     "data": {
      "text/plain": [
       "'{\"id\":272,\"name\":\"Mobile Games\",\"analytics_name\":\"Mobile Games\",\"slug\":\"games/mobile games\",\"position\":3,\"parent_id\":12,\"parent_name\":\"Games\",\"color\":51627,\"urls\":{\"web\":{\"discover\":\"http://www.kickstarter.com/discover/categories/games/mobile%20games\"}}}'"
      ]
     },
     "execution_count": 686,
     "metadata": {},
     "output_type": "execute_result"
    }
   ],
   "source": [
    "data['category'][2]"
   ]
  },
  {
   "cell_type": "code",
   "execution_count": 687,
   "id": "sweet-measure",
   "metadata": {},
   "outputs": [
    {
     "data": {
      "text/plain": [
       "film%20&%20video    926\n",
       "music               897\n",
       "food                471\n",
       "publishing          372\n",
       "fashion             341\n",
       "journalism          244\n",
       "games               190\n",
       "technology          131\n",
       "design               56\n",
       "dance                21\n",
       "crafts               21\n",
       "Name: Main_Categories, dtype: int64"
      ]
     },
     "execution_count": 687,
     "metadata": {},
     "output_type": "execute_result"
    }
   ],
   "source": [
    "data['Main_Categories'] = data['source_url'].apply(lambda df:df.split('/')[5])\n",
    "data['Main_Categories'].value_counts()"
   ]
  },
  {
   "cell_type": "code",
   "execution_count": 688,
   "id": "herbal-egypt",
   "metadata": {},
   "outputs": [],
   "source": [
    "data=data.drop(['category'],axis = 1)"
   ]
  },
  {
   "cell_type": "markdown",
   "id": "rough-peninsula",
   "metadata": {},
   "source": [
    "### Check and drop unessary columns"
   ]
  },
  {
   "cell_type": "code",
   "execution_count": 689,
   "id": "juvenile-rapid",
   "metadata": {},
   "outputs": [
    {
     "data": {
      "text/plain": [
       "'{\"id\":3047341,\"project_id\":3047341,\"state\":\"inactive\",\"state_changed_at\":1498065534,\"name\":null,\"blurb\":null,\"background_color\":null,\"text_color\":null,\"link_background_color\":null,\"link_text_color\":null,\"link_text\":null,\"link_url\":null,\"show_feature_image\":false,\"background_image_opacity\":0.8,\"should_show_feature_image_section\":true,\"feature_image_attributes\":{\"image_urls\":{\"default\":\"https://ksr-ugc.imgix.net/assets/017/204/299/11b86dcad20a73f1882c9ba5649a6f4f_original.png?ixlib=rb-2.1.0&crop=faces&w=1552&h=873&fit=crop&v=1498082603&auto=format&frame=1&q=92&s=2a22afe531dab3c02926c6af572c563a\",\"baseball_card\":\"https://ksr-ugc.imgix.net/assets/017/204/299/11b86dcad20a73f1882c9ba5649a6f4f_original.png?ixlib=rb-2.1.0&crop=faces&w=560&h=315&fit=crop&v=1498082603&auto=format&frame=1&q=92&s=0a46e80ce182bddafde5f475b6b9c0fa\"}}}'"
      ]
     },
     "execution_count": 689,
     "metadata": {},
     "output_type": "execute_result"
    }
   ],
   "source": [
    "data['profile'][0]"
   ]
  },
  {
   "cell_type": "code",
   "execution_count": 690,
   "id": "trying-titanium",
   "metadata": {},
   "outputs": [
    {
     "data": {
      "text/plain": [
       "0                          crimpcoffee-good-coffee-good-times\n",
       "1         spawns-of-the-great-rot-printable-stl-3d-miniatures\n",
       "2                                          dreamcatcher-games\n",
       "3                    felbars-shoppe-of-curiosities-and-occult\n",
       "4              wander-flavorful-and-functional-pantry-staples\n",
       "                                ...                          \n",
       "3665                      blood-and-thunder-automatic-watches\n",
       "3666                           creature-comfort-throw-blanket\n",
       "3667    ifidget-bracelet-fidget-at-your-fingertips-discreetly\n",
       "3668                     dance-aegis-premieres-fission-fusion\n",
       "3669                                                  snactiv\n",
       "Name: slug, Length: 3670, dtype: object"
      ]
     },
     "execution_count": 690,
     "metadata": {},
     "output_type": "execute_result"
    }
   ],
   "source": [
    "data['slug']"
   ]
  },
  {
   "cell_type": "code",
   "execution_count": 691,
   "id": "great-consequence",
   "metadata": {},
   "outputs": [
    {
     "data": {
      "text/plain": [
       "False    3670\n",
       "Name: disable_communication, dtype: int64"
      ]
     },
     "execution_count": 691,
     "metadata": {},
     "output_type": "execute_result"
    }
   ],
   "source": [
    "data['disable_communication'].value_counts()"
   ]
  },
  {
   "cell_type": "code",
   "execution_count": 692,
   "id": "relevant-hopkins",
   "metadata": {},
   "outputs": [
    {
     "data": {
      "text/plain": [
       "False    3582\n",
       "True       88\n",
       "Name: is_starrable, dtype: int64"
      ]
     },
     "execution_count": 692,
     "metadata": {},
     "output_type": "execute_result"
    }
   ],
   "source": [
    "data['is_starrable'].value_counts()"
   ]
  },
  {
   "cell_type": "code",
   "execution_count": 693,
   "id": "cutting-steps",
   "metadata": {},
   "outputs": [
    {
     "data": {
      "text/plain": [
       "[]    2\n",
       "Name: permissions, dtype: int64"
      ]
     },
     "execution_count": 693,
     "metadata": {},
     "output_type": "execute_result"
    }
   ],
   "source": [
    "data['permissions'].value_counts()"
   ]
  },
  {
   "cell_type": "code",
   "execution_count": 694,
   "id": "general-immigration",
   "metadata": {},
   "outputs": [
    {
     "data": {
      "text/plain": [
       "USD    3666\n",
       "CAD       2\n",
       "EUR       2\n",
       "Name: current_currency, dtype: int64"
      ]
     },
     "execution_count": 694,
     "metadata": {},
     "output_type": "execute_result"
    }
   ],
   "source": [
    "data['current_currency'].value_counts()"
   ]
  },
  {
   "cell_type": "code",
   "execution_count": 695,
   "id": "offensive-bernard",
   "metadata": {},
   "outputs": [
    {
     "data": {
      "text/plain": [
       "international    3664\n",
       "domestic            2\n",
       "Name: usd_type, dtype: int64"
      ]
     },
     "execution_count": 695,
     "metadata": {},
     "output_type": "execute_result"
    }
   ],
   "source": [
    "data['usd_type'].value_counts()"
   ]
  },
  {
   "cell_type": "code",
   "execution_count": 696,
   "id": "tutorial-canyon",
   "metadata": {},
   "outputs": [
    {
     "data": {
      "text/plain": [
       "[]    2\n",
       "Name: friends, dtype: int64"
      ]
     },
     "execution_count": 696,
     "metadata": {},
     "output_type": "execute_result"
    }
   ],
   "source": [
    "data['friends'].value_counts()"
   ]
  },
  {
   "cell_type": "code",
   "execution_count": 697,
   "id": "early-internet",
   "metadata": {},
   "outputs": [
    {
     "data": {
      "text/plain": [
       "False    2\n",
       "Name: is_backing, dtype: int64"
      ]
     },
     "execution_count": 697,
     "metadata": {},
     "output_type": "execute_result"
    }
   ],
   "source": [
    "data['is_backing'].value_counts()"
   ]
  },
  {
   "cell_type": "code",
   "execution_count": 698,
   "id": "manual-petersburg",
   "metadata": {},
   "outputs": [
    {
     "data": {
      "text/plain": [
       "array([nan, False], dtype=object)"
      ]
     },
     "execution_count": 698,
     "metadata": {},
     "output_type": "execute_result"
    }
   ],
   "source": [
    "data['is_starred'].unique()"
   ]
  },
  {
   "cell_type": "code",
   "execution_count": 699,
   "id": "frequent-birthday",
   "metadata": {},
   "outputs": [
    {
     "data": {
      "text/plain": [
       "False    3225\n",
       "True      445\n",
       "Name: staff_pick, dtype: int64"
      ]
     },
     "execution_count": 699,
     "metadata": {},
     "output_type": "execute_result"
    }
   ],
   "source": [
    "data['staff_pick'].value_counts()"
   ]
  },
  {
   "cell_type": "code",
   "execution_count": 700,
   "id": "fifty-adobe",
   "metadata": {},
   "outputs": [],
   "source": [
    "data = data.drop(['profile','is_starrable','is_starred','is_backing','converted_pledged_amount','country_displayable_name','friends','disable_communication','currency_symbol','currency_trailing_code','creator','usd_type','state_changed_at','currency','current_currency','location','photo','permissions','pledged','slug','fx_rate','id','source_url','pledged'],axis = 1)"
   ]
  },
  {
   "cell_type": "code",
   "execution_count": 701,
   "id": "verified-aggregate",
   "metadata": {},
   "outputs": [
    {
     "data": {
      "text/html": [
       "<div>\n",
       "<style scoped>\n",
       "    .dataframe tbody tr th:only-of-type {\n",
       "        vertical-align: middle;\n",
       "    }\n",
       "\n",
       "    .dataframe tbody tr th {\n",
       "        vertical-align: top;\n",
       "    }\n",
       "\n",
       "    .dataframe thead th {\n",
       "        text-align: right;\n",
       "    }\n",
       "</style>\n",
       "<table border=\"1\" class=\"dataframe\">\n",
       "  <thead>\n",
       "    <tr style=\"text-align: right;\">\n",
       "      <th></th>\n",
       "      <th>backers_count</th>\n",
       "      <th>country</th>\n",
       "      <th>spotlight</th>\n",
       "      <th>staff_pick</th>\n",
       "      <th>state</th>\n",
       "      <th>urls</th>\n",
       "      <th>usd_pledged</th>\n",
       "      <th>Launched_at</th>\n",
       "      <th>Deadline</th>\n",
       "      <th>Created</th>\n",
       "      <th>Launch_Period</th>\n",
       "      <th>Created_to_Launch</th>\n",
       "      <th>Launch_Year</th>\n",
       "      <th>Launch_Month</th>\n",
       "      <th>Launch_Day</th>\n",
       "      <th>blurb_words_count</th>\n",
       "      <th>name_words_count</th>\n",
       "      <th>usd_goal</th>\n",
       "      <th>Main_Categories</th>\n",
       "    </tr>\n",
       "  </thead>\n",
       "  <tbody>\n",
       "    <tr>\n",
       "      <th>0</th>\n",
       "      <td>0</td>\n",
       "      <td>US</td>\n",
       "      <td>False</td>\n",
       "      <td>False</td>\n",
       "      <td>failed</td>\n",
       "      <td>{\"web\":{\"project\":\"https://www.kickstarter.com/projects/939819973/crimpcoffee-good-coffee-good-times?ref=discovery_category_newest\",\"rewards\":\"https://www.kickstarter.com/projects/939819973/crimpc...</td>\n",
       "      <td>0.000000</td>\n",
       "      <td>2017-06-22</td>\n",
       "      <td>2017-07-22</td>\n",
       "      <td>2017-06-21</td>\n",
       "      <td>30 days</td>\n",
       "      <td>1 days</td>\n",
       "      <td>2017</td>\n",
       "      <td>06</td>\n",
       "      <td>22</td>\n",
       "      <td>21</td>\n",
       "      <td>5</td>\n",
       "      <td>1000.00</td>\n",
       "      <td>food</td>\n",
       "    </tr>\n",
       "    <tr>\n",
       "      <th>1</th>\n",
       "      <td>454</td>\n",
       "      <td>DK</td>\n",
       "      <td>True</td>\n",
       "      <td>False</td>\n",
       "      <td>successful</td>\n",
       "      <td>{\"web\":{\"project\":\"https://www.kickstarter.com/projects/fleshcraftstudio/spawns-of-the-great-rot-printable-stl-3d-miniatures?ref=discovery_category_newest\",\"rewards\":\"https://www.kickstarter.com/p...</td>\n",
       "      <td>16559.556457</td>\n",
       "      <td>2020-11-11</td>\n",
       "      <td>2020-12-11</td>\n",
       "      <td>2020-10-27</td>\n",
       "      <td>30 days</td>\n",
       "      <td>15 days</td>\n",
       "      <td>2020</td>\n",
       "      <td>11</td>\n",
       "      <td>11</td>\n",
       "      <td>13</td>\n",
       "      <td>10</td>\n",
       "      <td>1192.18</td>\n",
       "      <td>games</td>\n",
       "    </tr>\n",
       "    <tr>\n",
       "      <th>2</th>\n",
       "      <td>1</td>\n",
       "      <td>GB</td>\n",
       "      <td>False</td>\n",
       "      <td>False</td>\n",
       "      <td>failed</td>\n",
       "      <td>{\"web\":{\"project\":\"https://www.kickstarter.com/projects/dreamcatchercomics/dreamcatcher-games?ref=discovery_category_newest\",\"rewards\":\"https://www.kickstarter.com/projects/dreamcatchercomics/drea...</td>\n",
       "      <td>64.185017</td>\n",
       "      <td>2017-04-27</td>\n",
       "      <td>2017-05-17</td>\n",
       "      <td>2017-04-15</td>\n",
       "      <td>20 days</td>\n",
       "      <td>12 days</td>\n",
       "      <td>2017</td>\n",
       "      <td>04</td>\n",
       "      <td>27</td>\n",
       "      <td>23</td>\n",
       "      <td>2</td>\n",
       "      <td>641.85</td>\n",
       "      <td>games</td>\n",
       "    </tr>\n",
       "    <tr>\n",
       "      <th>3</th>\n",
       "      <td>92</td>\n",
       "      <td>US</td>\n",
       "      <td>True</td>\n",
       "      <td>False</td>\n",
       "      <td>successful</td>\n",
       "      <td>{\"web\":{\"project\":\"https://www.kickstarter.com/projects/thecommonlands/felbars-shoppe-of-curiosities-and-occult?ref=discovery_category_newest\",\"rewards\":\"https://www.kickstarter.com/projects/theco...</td>\n",
       "      <td>6223.000000</td>\n",
       "      <td>2020-11-12</td>\n",
       "      <td>2021-01-04</td>\n",
       "      <td>2020-11-04</td>\n",
       "      <td>53 days</td>\n",
       "      <td>8 days</td>\n",
       "      <td>2020</td>\n",
       "      <td>11</td>\n",
       "      <td>12</td>\n",
       "      <td>24</td>\n",
       "      <td>9</td>\n",
       "      <td>5000.00</td>\n",
       "      <td>games</td>\n",
       "    </tr>\n",
       "    <tr>\n",
       "      <th>4</th>\n",
       "      <td>128</td>\n",
       "      <td>US</td>\n",
       "      <td>True</td>\n",
       "      <td>False</td>\n",
       "      <td>successful</td>\n",
       "      <td>{\"web\":{\"project\":\"https://www.kickstarter.com/projects/wanderfoods/wander-flavorful-and-functional-pantry-staples?ref=discovery_category_newest\",\"rewards\":\"https://www.kickstarter.com/projects/wa...</td>\n",
       "      <td>10448.000000</td>\n",
       "      <td>2020-10-01</td>\n",
       "      <td>2020-10-30</td>\n",
       "      <td>2020-07-20</td>\n",
       "      <td>29 days</td>\n",
       "      <td>73 days</td>\n",
       "      <td>2020</td>\n",
       "      <td>10</td>\n",
       "      <td>01</td>\n",
       "      <td>19</td>\n",
       "      <td>6</td>\n",
       "      <td>10000.00</td>\n",
       "      <td>food</td>\n",
       "    </tr>\n",
       "  </tbody>\n",
       "</table>\n",
       "</div>"
      ],
      "text/plain": [
       "   backers_count country  spotlight  staff_pick       state  \\\n",
       "0              0      US      False       False      failed   \n",
       "1            454      DK       True       False  successful   \n",
       "2              1      GB      False       False      failed   \n",
       "3             92      US       True       False  successful   \n",
       "4            128      US       True       False  successful   \n",
       "\n",
       "                                                                                                                                                                                                      urls  \\\n",
       "0  {\"web\":{\"project\":\"https://www.kickstarter.com/projects/939819973/crimpcoffee-good-coffee-good-times?ref=discovery_category_newest\",\"rewards\":\"https://www.kickstarter.com/projects/939819973/crimpc...   \n",
       "1  {\"web\":{\"project\":\"https://www.kickstarter.com/projects/fleshcraftstudio/spawns-of-the-great-rot-printable-stl-3d-miniatures?ref=discovery_category_newest\",\"rewards\":\"https://www.kickstarter.com/p...   \n",
       "2  {\"web\":{\"project\":\"https://www.kickstarter.com/projects/dreamcatchercomics/dreamcatcher-games?ref=discovery_category_newest\",\"rewards\":\"https://www.kickstarter.com/projects/dreamcatchercomics/drea...   \n",
       "3  {\"web\":{\"project\":\"https://www.kickstarter.com/projects/thecommonlands/felbars-shoppe-of-curiosities-and-occult?ref=discovery_category_newest\",\"rewards\":\"https://www.kickstarter.com/projects/theco...   \n",
       "4  {\"web\":{\"project\":\"https://www.kickstarter.com/projects/wanderfoods/wander-flavorful-and-functional-pantry-staples?ref=discovery_category_newest\",\"rewards\":\"https://www.kickstarter.com/projects/wa...   \n",
       "\n",
       "    usd_pledged Launched_at   Deadline    Created Launch_Period  \\\n",
       "0      0.000000  2017-06-22 2017-07-22 2017-06-21       30 days   \n",
       "1  16559.556457  2020-11-11 2020-12-11 2020-10-27       30 days   \n",
       "2     64.185017  2017-04-27 2017-05-17 2017-04-15       20 days   \n",
       "3   6223.000000  2020-11-12 2021-01-04 2020-11-04       53 days   \n",
       "4  10448.000000  2020-10-01 2020-10-30 2020-07-20       29 days   \n",
       "\n",
       "  Created_to_Launch Launch_Year Launch_Month Launch_Day  blurb_words_count  \\\n",
       "0            1 days        2017           06         22                 21   \n",
       "1           15 days        2020           11         11                 13   \n",
       "2           12 days        2017           04         27                 23   \n",
       "3            8 days        2020           11         12                 24   \n",
       "4           73 days        2020           10         01                 19   \n",
       "\n",
       "   name_words_count  usd_goal Main_Categories  \n",
       "0                 5   1000.00            food  \n",
       "1                10   1192.18           games  \n",
       "2                 2    641.85           games  \n",
       "3                 9   5000.00           games  \n",
       "4                 6  10000.00            food  "
      ]
     },
     "execution_count": 701,
     "metadata": {},
     "output_type": "execute_result"
    }
   ],
   "source": [
    "data.head()"
   ]
  },
  {
   "cell_type": "markdown",
   "id": "minimal-relay",
   "metadata": {},
   "source": [
    "# Null Value Check"
   ]
  },
  {
   "cell_type": "code",
   "execution_count": 702,
   "id": "determined-boring",
   "metadata": {},
   "outputs": [
    {
     "data": {
      "text/plain": [
       "backers_count        0\n",
       "country              0\n",
       "spotlight            0\n",
       "staff_pick           0\n",
       "state                0\n",
       "urls                 0\n",
       "usd_pledged          0\n",
       "Launched_at          0\n",
       "Deadline             0\n",
       "Created              0\n",
       "Launch_Period        0\n",
       "Created_to_Launch    0\n",
       "Launch_Year          0\n",
       "Launch_Month         0\n",
       "Launch_Day           0\n",
       "blurb_words_count    0\n",
       "name_words_count     0\n",
       "usd_goal             0\n",
       "Main_Categories      0\n",
       "dtype: int64"
      ]
     },
     "execution_count": 702,
     "metadata": {},
     "output_type": "execute_result"
    }
   ],
   "source": [
    "data.isnull().sum()"
   ]
  },
  {
   "cell_type": "markdown",
   "id": "numerous-convertible",
   "metadata": {},
   "source": [
    "# Deal with Outliers"
   ]
  },
  {
   "cell_type": "code",
   "execution_count": 703,
   "id": "bound-funeral",
   "metadata": {},
   "outputs": [],
   "source": [
    "#sns.heatmap(data)"
   ]
  },
  {
   "cell_type": "code",
   "execution_count": 704,
   "id": "finished-radius",
   "metadata": {},
   "outputs": [],
   "source": [
    "#sns.pairplot(data)"
   ]
  },
  {
   "cell_type": "code",
   "execution_count": 705,
   "id": "productive-diana",
   "metadata": {},
   "outputs": [
    {
     "name": "stderr",
     "output_type": "stream",
     "text": [
      "c:\\users\\grace\\appdata\\local\\programs\\python\\python38\\lib\\site-packages\\seaborn\\distributions.py:2557: FutureWarning: `distplot` is a deprecated function and will be removed in a future version. Please adapt your code to use either `displot` (a figure-level function with similar flexibility) or `histplot` (an axes-level function for histograms).\n",
      "  warnings.warn(msg, FutureWarning)\n"
     ]
    },
    {
     "data": {
      "text/plain": [
       "<AxesSubplot:xlabel='usd_pledged', ylabel='Density'>"
      ]
     },
     "execution_count": 705,
     "metadata": {},
     "output_type": "execute_result"
    },
    {
     "data": {
      "image/png": "[encoded data removed]",
      "text/plain": [
       "<Figure size 432x288 with 1 Axes>"
      ]
     },
     "metadata": {
      "needs_background": "light"
     },
     "output_type": "display_data"
    }
   ],
   "source": [
    "sns.distplot(data['usd_pledged'])"
   ]
  },
  {
   "cell_type": "code",
   "execution_count": 706,
   "id": "conservative-private",
   "metadata": {},
   "outputs": [
    {
     "data": {
      "text/html": [
       "<div>\n",
       "<style scoped>\n",
       "    .dataframe tbody tr th:only-of-type {\n",
       "        vertical-align: middle;\n",
       "    }\n",
       "\n",
       "    .dataframe tbody tr th {\n",
       "        vertical-align: top;\n",
       "    }\n",
       "\n",
       "    .dataframe thead th {\n",
       "        text-align: right;\n",
       "    }\n",
       "</style>\n",
       "<table border=\"1\" class=\"dataframe\">\n",
       "  <thead>\n",
       "    <tr style=\"text-align: right;\">\n",
       "      <th></th>\n",
       "      <th>backers_count</th>\n",
       "      <th>usd_pledged</th>\n",
       "      <th>Launch_Period</th>\n",
       "      <th>Created_to_Launch</th>\n",
       "      <th>blurb_words_count</th>\n",
       "      <th>name_words_count</th>\n",
       "      <th>usd_goal</th>\n",
       "    </tr>\n",
       "  </thead>\n",
       "  <tbody>\n",
       "    <tr>\n",
       "      <th>count</th>\n",
       "      <td>3670.000000</td>\n",
       "      <td>3.670000e+03</td>\n",
       "      <td>3670</td>\n",
       "      <td>3670</td>\n",
       "      <td>3670.000000</td>\n",
       "      <td>3670.000000</td>\n",
       "      <td>3.670000e+03</td>\n",
       "    </tr>\n",
       "    <tr>\n",
       "      <th>mean</th>\n",
       "      <td>121.920981</td>\n",
       "      <td>1.074435e+04</td>\n",
       "      <td>33 days 16:44:51.662125340</td>\n",
       "      <td>47 days 03:05:59.019073569</td>\n",
       "      <td>18.052316</td>\n",
       "      <td>5.689646</td>\n",
       "      <td>3.883545e+04</td>\n",
       "    </tr>\n",
       "    <tr>\n",
       "      <th>std</th>\n",
       "      <td>608.343958</td>\n",
       "      <td>7.081422e+04</td>\n",
       "      <td>12 days 09:23:31.919665863</td>\n",
       "      <td>144 days 06:29:01.210732386</td>\n",
       "      <td>5.640883</td>\n",
       "      <td>2.699116</td>\n",
       "      <td>8.513298e+05</td>\n",
       "    </tr>\n",
       "    <tr>\n",
       "      <th>min</th>\n",
       "      <td>0.000000</td>\n",
       "      <td>0.000000e+00</td>\n",
       "      <td>2 days 00:00:00</td>\n",
       "      <td>0 days 00:00:00</td>\n",
       "      <td>1.000000</td>\n",
       "      <td>1.000000</td>\n",
       "      <td>1.000000e+00</td>\n",
       "    </tr>\n",
       "    <tr>\n",
       "      <th>25%</th>\n",
       "      <td>4.000000</td>\n",
       "      <td>1.000000e+02</td>\n",
       "      <td>30 days 00:00:00</td>\n",
       "      <td>3 days 00:00:00</td>\n",
       "      <td>15.000000</td>\n",
       "      <td>4.000000</td>\n",
       "      <td>1.764420e+03</td>\n",
       "    </tr>\n",
       "    <tr>\n",
       "      <th>50%</th>\n",
       "      <td>27.000000</td>\n",
       "      <td>1.805500e+03</td>\n",
       "      <td>30 days 00:00:00</td>\n",
       "      <td>11 days 00:00:00</td>\n",
       "      <td>19.000000</td>\n",
       "      <td>5.000000</td>\n",
       "      <td>5.000000e+03</td>\n",
       "    </tr>\n",
       "    <tr>\n",
       "      <th>75%</th>\n",
       "      <td>89.000000</td>\n",
       "      <td>7.255250e+03</td>\n",
       "      <td>36 days 00:00:00</td>\n",
       "      <td>35 days 00:00:00</td>\n",
       "      <td>22.000000</td>\n",
       "      <td>8.000000</td>\n",
       "      <td>1.397281e+04</td>\n",
       "    </tr>\n",
       "    <tr>\n",
       "      <th>max</th>\n",
       "      <td>24912.000000</td>\n",
       "      <td>3.502960e+06</td>\n",
       "      <td>91 days 00:00:00</td>\n",
       "      <td>2958 days 00:00:00</td>\n",
       "      <td>32.000000</td>\n",
       "      <td>16.000000</td>\n",
       "      <td>5.000000e+07</td>\n",
       "    </tr>\n",
       "  </tbody>\n",
       "</table>\n",
       "</div>"
      ],
      "text/plain": [
       "       backers_count   usd_pledged               Launch_Period  \\\n",
       "count    3670.000000  3.670000e+03                        3670   \n",
       "mean      121.920981  1.074435e+04  33 days 16:44:51.662125340   \n",
       "std       608.343958  7.081422e+04  12 days 09:23:31.919665863   \n",
       "min         0.000000  0.000000e+00             2 days 00:00:00   \n",
       "25%         4.000000  1.000000e+02            30 days 00:00:00   \n",
       "50%        27.000000  1.805500e+03            30 days 00:00:00   \n",
       "75%        89.000000  7.255250e+03            36 days 00:00:00   \n",
       "max     24912.000000  3.502960e+06            91 days 00:00:00   \n",
       "\n",
       "                 Created_to_Launch  blurb_words_count  name_words_count  \\\n",
       "count                         3670        3670.000000       3670.000000   \n",
       "mean    47 days 03:05:59.019073569          18.052316          5.689646   \n",
       "std    144 days 06:29:01.210732386           5.640883          2.699116   \n",
       "min                0 days 00:00:00           1.000000          1.000000   \n",
       "25%                3 days 00:00:00          15.000000          4.000000   \n",
       "50%               11 days 00:00:00          19.000000          5.000000   \n",
       "75%               35 days 00:00:00          22.000000          8.000000   \n",
       "max             2958 days 00:00:00          32.000000         16.000000   \n",
       "\n",
       "           usd_goal  \n",
       "count  3.670000e+03  \n",
       "mean   3.883545e+04  \n",
       "std    8.513298e+05  \n",
       "min    1.000000e+00  \n",
       "25%    1.764420e+03  \n",
       "50%    5.000000e+03  \n",
       "75%    1.397281e+04  \n",
       "max    5.000000e+07  "
      ]
     },
     "execution_count": 706,
     "metadata": {},
     "output_type": "execute_result"
    }
   ],
   "source": [
    "data.describe()"
   ]
  },
  {
   "cell_type": "code",
   "execution_count": 707,
   "id": "raised-findings",
   "metadata": {},
   "outputs": [
    {
     "data": {
      "text/plain": [
       "<AxesSubplot:xlabel='usd_pledged', ylabel='backers_count'>"
      ]
     },
     "execution_count": 707,
     "metadata": {},
     "output_type": "execute_result"
    },
    {
     "data": {
      "image/png": "[encoded data removed]",
      "text/plain": [
       "<Figure size 432x288 with 1 Axes>"
      ]
     },
     "metadata": {
      "needs_background": "light"
     },
     "output_type": "display_data"
    }
   ],
   "source": [
    "sns.scatterplot(data=data,x='usd_pledged',y='backers_count')"
   ]
  },
  {
   "cell_type": "code",
   "execution_count": 708,
   "id": "entire-holiday",
   "metadata": {},
   "outputs": [],
   "source": [
    "pd.options.display.max_colwidth = 200"
   ]
  },
  {
   "cell_type": "code",
   "execution_count": 709,
   "id": "accessory-thriller",
   "metadata": {},
   "outputs": [
    {
     "data": {
      "text/plain": [
       "234     {\"web\":{\"project\":\"https://www.kickstarter.com/projects/pixels-dice/pixels-the-electronic-dice?ref=discovery_category_newest\",\"rewards\":\"https://www.kickstarter.com/projects/pixels-dice/pixels-the...\n",
       "791     {\"web\":{\"project\":\"https://www.kickstarter.com/projects/instafloss/instafloss-say-bye-to-painful-time-consuming-flossing?ref=discovery_category_newest\",\"rewards\":\"https://www.kickstarter.com/proje...\n",
       "942     {\"web\":{\"project\":\"https://www.kickstarter.com/projects/timbuktu/kickstarter-gold-good-night-stories-for-rebel-girl?ref=discovery_category_newest\",\"rewards\":\"https://www.kickstarter.com/projects/t...\n",
       "2761    {\"web\":{\"project\":\"https://www.kickstarter.com/projects/acemarks/handcrafted-dress-shoes-reinvented-for-the-modern?ref=discovery_category_newest\",\"rewards\":\"https://www.kickstarter.com/projects/ac...\n",
       "Name: urls, dtype: object"
      ]
     },
     "execution_count": 709,
     "metadata": {},
     "output_type": "execute_result"
    }
   ],
   "source": [
    "q = data['usd_pledged'].quantile(0.999) \n",
    "data[data['usd_pledged']>q]['urls']\n"
   ]
  },
  {
   "cell_type": "code",
   "execution_count": 710,
   "id": "valued-progressive",
   "metadata": {},
   "outputs": [],
   "source": [
    "data = data[data['usd_pledged']<q]"
   ]
  },
  {
   "cell_type": "markdown",
   "id": "metropolitan-benchmark",
   "metadata": {},
   "source": [
    "# EDA"
   ]
  },
  {
   "cell_type": "markdown",
   "id": "center-admission",
   "metadata": {},
   "source": [
    "###### 1.Top Earned project\n"
   ]
  },
  {
   "cell_type": "code",
   "execution_count": 711,
   "id": "textile-passenger",
   "metadata": {},
   "outputs": [
    {
     "data": {
      "text/plain": [
       "film%20&%20video    926\n",
       "music               897\n",
       "food                471\n",
       "publishing          371\n",
       "fashion             340\n",
       "journalism          244\n",
       "games               189\n",
       "technology          130\n",
       "design               56\n",
       "dance                21\n",
       "crafts               21\n",
       "Name: Main_Categories, dtype: int64"
      ]
     },
     "execution_count": 711,
     "metadata": {},
     "output_type": "execute_result"
    }
   ],
   "source": [
    "data['Main_Categories'].value_counts()"
   ]
  },
  {
   "cell_type": "code",
   "execution_count": 712,
   "id": "static-overhead",
   "metadata": {},
   "outputs": [
    {
     "data": {
      "text/plain": [
       "<AxesSubplot:ylabel='Main_Categories'>"
      ]
     },
     "execution_count": 712,
     "metadata": {},
     "output_type": "execute_result"
    },
    {
     "data": {
      "image/png": "[encoded data removed]",
      "text/plain": [
       "<Figure size 432x288 with 1 Axes>"
      ]
     },
     "metadata": {},
     "output_type": "display_data"
    }
   ],
   "source": [
    "# Top Categories\n",
    "data['Main_Categories'].value_counts().plot.pie(autopct='%1.1f%%')"
   ]
  },
  {
   "cell_type": "code",
   "execution_count": 713,
   "id": "precious-clearing",
   "metadata": {},
   "outputs": [
    {
     "data": {
      "text/plain": [
       "<AxesSubplot:ylabel='state'>"
      ]
     },
     "execution_count": 713,
     "metadata": {},
     "output_type": "execute_result"
    },
    {
     "data": {
      "image/png": "[encoded data removed]",
      "text/plain": [
       "<Figure size 432x288 with 1 Axes>"
      ]
     },
     "metadata": {},
     "output_type": "display_data"
    }
   ],
   "source": [
    "data['state'].value_counts().plot.pie(autopct='%1.1f%%')"
   ]
  },
  {
   "cell_type": "code",
   "execution_count": 714,
   "id": "paperback-asbestos",
   "metadata": {},
   "outputs": [
    {
     "data": {
      "text/plain": [
       "array(['failed', 'successful', 'canceled'], dtype=object)"
      ]
     },
     "execution_count": 714,
     "metadata": {},
     "output_type": "execute_result"
    }
   ],
   "source": [
    "#only look into finished projects\n",
    "data = data[data['state']!='live']\n",
    "#data = data[(data['state']!='live')&(data['state']!='canceled')]\n",
    "data['state'].unique()"
   ]
  },
  {
   "cell_type": "code",
   "execution_count": 715,
   "id": "ahead-opera",
   "metadata": {},
   "outputs": [],
   "source": [
    "data['state'] = data['state'].map({'canceled':'failed','failed':'failed','successful':'successful'})\n",
    "#data['state'] = data['state'].map({'failed':'failed','successful':'successful'})"
   ]
  },
  {
   "cell_type": "code",
   "execution_count": 716,
   "id": "bottom-marina",
   "metadata": {},
   "outputs": [
    {
     "data": {
      "text/plain": [
       "array(['failed', 'successful'], dtype=object)"
      ]
     },
     "execution_count": 716,
     "metadata": {},
     "output_type": "execute_result"
    }
   ],
   "source": [
    "data['state'].unique()"
   ]
  },
  {
   "cell_type": "code",
   "execution_count": 717,
   "id": "unlikely-black",
   "metadata": {},
   "outputs": [
    {
     "data": {
      "text/plain": [
       "array(['2017', '2020', '2014', '2016', '2021', '2019', '2018', '2015',\n",
       "       '2013', '2012', '2011', '2010', '2009'], dtype=object)"
      ]
     },
     "execution_count": 717,
     "metadata": {},
     "output_type": "execute_result"
    }
   ],
   "source": [
    "data['Launch_Year'].unique()\n"
   ]
  },
  {
   "cell_type": "code",
   "execution_count": 718,
   "id": "pressing-layout",
   "metadata": {},
   "outputs": [],
   "source": [
    "data['Launch_Period']=data['Launch_Period'].dt.days\n",
    "data['Created_to_Launch']=data['Created_to_Launch'].dt.days"
   ]
  },
  {
   "cell_type": "code",
   "execution_count": 719,
   "id": "alpine-waterproof",
   "metadata": {},
   "outputs": [],
   "source": [
    "data['Launch_Year'] = data['Launch_Year'].astype(str).astype(int)\n",
    "data['Launch_Month'] = data['Launch_Month'].astype(str).astype(int)\n",
    "data['Launch_Day'] = data['Launch_Day'].astype(str).astype(int)\n",
    "data['Launch_Period'] = data['Launch_Period'].astype(str).astype(int)\n",
    "data['Created_to_Launch'] = data['Created_to_Launch'].astype(str).astype(int)\n"
   ]
  },
  {
   "cell_type": "code",
   "execution_count": 720,
   "id": "operating-freight",
   "metadata": {},
   "outputs": [
    {
     "data": {
      "text/plain": [
       "Text(0.5, 1.0, 'Number of projects over the years')"
      ]
     },
     "execution_count": 720,
     "metadata": {},
     "output_type": "execute_result"
    },
    {
     "data": {
      "image/png": "[encoded data removed]",
      "text/plain": [
       "<Figure size 432x288 with 1 Axes>"
      ]
     },
     "metadata": {
      "needs_background": "light"
     },
     "output_type": "display_data"
    }
   ],
   "source": [
    "sns.kdeplot(data = data, x = 'Launch_Year',palette='viridis')\n",
    "plt.title('Number of projects over the years')"
   ]
  },
  {
   "cell_type": "code",
   "execution_count": 721,
   "id": "distinct-candle",
   "metadata": {},
   "outputs": [
    {
     "data": {
      "text/plain": [
       "Text(0.5, 1.0, 'Number of projects over the years')"
      ]
     },
     "execution_count": 721,
     "metadata": {},
     "output_type": "execute_result"
    },
    {
     "data": {
      "image/png": "[encoded data removed]",
      "text/plain": [
       "<Figure size 432x288 with 1 Axes>"
      ]
     },
     "metadata": {
      "needs_background": "light"
     },
     "output_type": "display_data"
    }
   ],
   "source": [
    "sns.countplot(data = data, x = data['Launch_Year'],hue = 'state',palette='viridis')\n",
    "plt.title('Number of projects over the years')"
   ]
  },
  {
   "cell_type": "code",
   "execution_count": 722,
   "id": "conscious-sensitivity",
   "metadata": {},
   "outputs": [
    {
     "data": {
      "text/plain": [
       "Text(0.5, 1.0, 'Months with highest successful cases')"
      ]
     },
     "execution_count": 722,
     "metadata": {},
     "output_type": "execute_result"
    },
    {
     "data": {
      "image/png": "[encoded data removed]",
      "text/plain": [
       "<Figure size 432x288 with 1 Axes>"
      ]
     },
     "metadata": {
      "needs_background": "light"
     },
     "output_type": "display_data"
    }
   ],
   "source": [
    "#months with highest successful numbers\n",
    "succesful = data[data['state']=='successful']\n",
    "sns.countplot(data = succesful, x = 'Launch_Month',hue = 'state',palette='viridis')\n",
    "plt.title('Months with highest successful cases')"
   ]
  },
  {
   "cell_type": "code",
   "execution_count": 723,
   "id": "brown-printer",
   "metadata": {},
   "outputs": [
    {
     "data": {
      "text/plain": [
       "Text(0.5, 1.0, 'Projects per country')"
      ]
     },
     "execution_count": 723,
     "metadata": {},
     "output_type": "execute_result"
    },
    {
     "data": {
      "image/png": "[encoded data removed]",
      "text/plain": [
       "<Figure size 432x288 with 1 Axes>"
      ]
     },
     "metadata": {
      "needs_background": "light"
     },
     "output_type": "display_data"
    }
   ],
   "source": [
    "#most participated countries\n",
    "x = data.country.value_counts().plot(kind='bar')\n",
    "plt.title('Projects per country')"
   ]
  },
  {
   "cell_type": "code",
   "execution_count": 724,
   "id": "heated-northwest",
   "metadata": {},
   "outputs": [
    {
     "name": "stderr",
     "output_type": "stream",
     "text": [
      "c:\\users\\grace\\appdata\\local\\programs\\python\\python38\\lib\\site-packages\\pandas\\core\\series.py:726: RuntimeWarning: divide by zero encountered in log\n",
      "  result = getattr(ufunc, method)(*inputs, **kwargs)\n",
      "c:\\users\\grace\\appdata\\local\\programs\\python\\python38\\lib\\site-packages\\seaborn\\_decorators.py:36: FutureWarning: Pass the following variables as keyword args: x, y. From version 0.12, the only valid positional argument will be `data`, and passing other arguments without an explicit keyword will result in an error or misinterpretation.\n",
      "  warnings.warn(\n",
      "c:\\users\\grace\\appdata\\local\\programs\\python\\python38\\lib\\site-packages\\matplotlib\\cbook\\__init__.py:1183: RuntimeWarning: invalid value encountered in double_scalars\n",
      "  stats['iqr'] = q3 - q1\n"
     ]
    },
    {
     "data": {
      "image/png": "[encoded data removed]",
      "text/plain": [
       "<Figure size 1152x432 with 1 Axes>"
      ]
     },
     "metadata": {
      "needs_background": "light"
     },
     "output_type": "display_data"
    }
   ],
   "source": [
    "# Plotting the distribution of pledged amounts each year\n",
    "plt.figure(figsize=(16,6))\n",
    "sns.boxplot(data.Launched_at.dt.year, np.log(data.usd_pledged))\n",
    "plt.xlabel('Launched_Year', fontsize=12)\n",
    "plt.ylabel('Amount pledged (log-transformed $)', fontsize=12) # Log-transforming to make the trend clearer, as the distribution is heavily positively skewed\n",
    "plt.title('Amount pledged 2009-2021', fontsize=16)\n",
    "plt.show()"
   ]
  },
  {
   "cell_type": "code",
   "execution_count": 725,
   "id": "strange-ghost",
   "metadata": {},
   "outputs": [
    {
     "data": {
      "text/html": [
       "<div>\n",
       "<style scoped>\n",
       "    .dataframe tbody tr th:only-of-type {\n",
       "        vertical-align: middle;\n",
       "    }\n",
       "\n",
       "    .dataframe tbody tr th {\n",
       "        vertical-align: top;\n",
       "    }\n",
       "\n",
       "    .dataframe thead th {\n",
       "        text-align: right;\n",
       "    }\n",
       "</style>\n",
       "<table border=\"1\" class=\"dataframe\">\n",
       "  <thead>\n",
       "    <tr style=\"text-align: right;\">\n",
       "      <th></th>\n",
       "      <th>urls</th>\n",
       "      <th>Main_Categories</th>\n",
       "    </tr>\n",
       "  </thead>\n",
       "  <tbody>\n",
       "    <tr>\n",
       "      <th>169</th>\n",
       "      <td>{\"web\":{\"project\":\"https://www.kickstarter.com/projects/hitpointpress/heckna-cosmic-carnival-horror-campaign-setting-for-5e-dnd?ref=discovery_category_newest\",\"rewards\":\"https://www.kickstarter.co...</td>\n",
       "      <td>games</td>\n",
       "    </tr>\n",
       "    <tr>\n",
       "      <th>850</th>\n",
       "      <td>{\"web\":{\"project\":\"https://www.kickstarter.com/projects/1302528630/masters-of-anatomy?ref=discovery_category_newest\",\"rewards\":\"https://www.kickstarter.com/projects/1302528630/masters-of-anatomy/r...</td>\n",
       "      <td>publishing</td>\n",
       "    </tr>\n",
       "    <tr>\n",
       "      <th>2443</th>\n",
       "      <td>{\"web\":{\"project\":\"https://www.kickstarter.com/projects/774031583/implosion-zero-day?ref=discovery_category_newest\",\"rewards\":\"https://www.kickstarter.com/projects/774031583/implosion-zero-day/rew...</td>\n",
       "      <td>film%20&amp;%20video</td>\n",
       "    </tr>\n",
       "    <tr>\n",
       "      <th>1096</th>\n",
       "      <td>{\"web\":{\"project\":\"https://www.kickstarter.com/projects/skytrek/skytrek-the-best-smart-luggage-in-the-world?ref=discovery_category_newest\",\"rewards\":\"https://www.kickstarter.com/projects/skytrek/s...</td>\n",
       "      <td>technology</td>\n",
       "    </tr>\n",
       "    <tr>\n",
       "      <th>84</th>\n",
       "      <td>{\"web\":{\"project\":\"https://www.kickstarter.com/projects/tomvasel/dice-tower-2021?ref=discovery_category_newest\",\"rewards\":\"https://www.kickstarter.com/projects/tomvasel/dice-tower-2021/rewards\"}}</td>\n",
       "      <td>games</td>\n",
       "    </tr>\n",
       "    <tr>\n",
       "      <th>72</th>\n",
       "      <td>{\"web\":{\"project\":\"https://www.kickstarter.com/projects/99831120/arcana-heart-3-love-max-six-stars-2d-fighting-game?ref=discovery_category_newest\",\"rewards\":\"https://www.kickstarter.com/projects/9...</td>\n",
       "      <td>games</td>\n",
       "    </tr>\n",
       "    <tr>\n",
       "      <th>175</th>\n",
       "      <td>{\"web\":{\"project\":\"https://www.kickstarter.com/projects/radgostforest/forest-of-radgost?ref=discovery_category_newest\",\"rewards\":\"https://www.kickstarter.com/projects/radgostforest/forest-of-radgo...</td>\n",
       "      <td>games</td>\n",
       "    </tr>\n",
       "    <tr>\n",
       "      <th>1547</th>\n",
       "      <td>{\"web\":{\"project\":\"https://www.kickstarter.com/projects/vincentregan/enemy-of-man-feature-film?ref=discovery_category_newest\",\"rewards\":\"https://www.kickstarter.com/projects/vincentregan/enemy-of-...</td>\n",
       "      <td>film%20&amp;%20video</td>\n",
       "    </tr>\n",
       "    <tr>\n",
       "      <th>306</th>\n",
       "      <td>{\"web\":{\"project\":\"https://www.kickstarter.com/projects/hon-br1/heroes-of-normandie-big-red-one-edition?ref=discovery_category_newest\",\"rewards\":\"https://www.kickstarter.com/projects/hon-br1/heroe...</td>\n",
       "      <td>games</td>\n",
       "    </tr>\n",
       "    <tr>\n",
       "      <th>65</th>\n",
       "      <td>{\"web\":{\"project\":\"https://www.kickstarter.com/projects/nordgames/dangerous-destinations?ref=discovery_category_newest\",\"rewards\":\"https://www.kickstarter.com/projects/nordgames/dangerous-destinat...</td>\n",
       "      <td>games</td>\n",
       "    </tr>\n",
       "  </tbody>\n",
       "</table>\n",
       "</div>"
      ],
      "text/plain": [
       "                                                                                                                                                                                                         urls  \\\n",
       "169   {\"web\":{\"project\":\"https://www.kickstarter.com/projects/hitpointpress/heckna-cosmic-carnival-horror-campaign-setting-for-5e-dnd?ref=discovery_category_newest\",\"rewards\":\"https://www.kickstarter.co...   \n",
       "850   {\"web\":{\"project\":\"https://www.kickstarter.com/projects/1302528630/masters-of-anatomy?ref=discovery_category_newest\",\"rewards\":\"https://www.kickstarter.com/projects/1302528630/masters-of-anatomy/r...   \n",
       "2443  {\"web\":{\"project\":\"https://www.kickstarter.com/projects/774031583/implosion-zero-day?ref=discovery_category_newest\",\"rewards\":\"https://www.kickstarter.com/projects/774031583/implosion-zero-day/rew...   \n",
       "1096  {\"web\":{\"project\":\"https://www.kickstarter.com/projects/skytrek/skytrek-the-best-smart-luggage-in-the-world?ref=discovery_category_newest\",\"rewards\":\"https://www.kickstarter.com/projects/skytrek/s...   \n",
       "84        {\"web\":{\"project\":\"https://www.kickstarter.com/projects/tomvasel/dice-tower-2021?ref=discovery_category_newest\",\"rewards\":\"https://www.kickstarter.com/projects/tomvasel/dice-tower-2021/rewards\"}}   \n",
       "72    {\"web\":{\"project\":\"https://www.kickstarter.com/projects/99831120/arcana-heart-3-love-max-six-stars-2d-fighting-game?ref=discovery_category_newest\",\"rewards\":\"https://www.kickstarter.com/projects/9...   \n",
       "175   {\"web\":{\"project\":\"https://www.kickstarter.com/projects/radgostforest/forest-of-radgost?ref=discovery_category_newest\",\"rewards\":\"https://www.kickstarter.com/projects/radgostforest/forest-of-radgo...   \n",
       "1547  {\"web\":{\"project\":\"https://www.kickstarter.com/projects/vincentregan/enemy-of-man-feature-film?ref=discovery_category_newest\",\"rewards\":\"https://www.kickstarter.com/projects/vincentregan/enemy-of-...   \n",
       "306   {\"web\":{\"project\":\"https://www.kickstarter.com/projects/hon-br1/heroes-of-normandie-big-red-one-edition?ref=discovery_category_newest\",\"rewards\":\"https://www.kickstarter.com/projects/hon-br1/heroe...   \n",
       "65    {\"web\":{\"project\":\"https://www.kickstarter.com/projects/nordgames/dangerous-destinations?ref=discovery_category_newest\",\"rewards\":\"https://www.kickstarter.com/projects/nordgames/dangerous-destinat...   \n",
       "\n",
       "       Main_Categories  \n",
       "169              games  \n",
       "850         publishing  \n",
       "2443  film%20&%20video  \n",
       "1096        technology  \n",
       "84               games  \n",
       "72               games  \n",
       "175              games  \n",
       "1547  film%20&%20video  \n",
       "306              games  \n",
       "65               games  "
      ]
     },
     "execution_count": 725,
     "metadata": {},
     "output_type": "execute_result"
    }
   ],
   "source": [
    "#highest pledged from 2009\n",
    "data.sort_values('usd_pledged', ascending = False).head(10)[['urls','Main_Categories']]"
   ]
  },
  {
   "cell_type": "code",
   "execution_count": 726,
   "id": "backed-wedding",
   "metadata": {},
   "outputs": [
    {
     "data": {
      "text/html": [
       "<div>\n",
       "<style scoped>\n",
       "    .dataframe tbody tr th:only-of-type {\n",
       "        vertical-align: middle;\n",
       "    }\n",
       "\n",
       "    .dataframe tbody tr th {\n",
       "        vertical-align: top;\n",
       "    }\n",
       "\n",
       "    .dataframe thead th {\n",
       "        text-align: right;\n",
       "    }\n",
       "</style>\n",
       "<table border=\"1\" class=\"dataframe\">\n",
       "  <thead>\n",
       "    <tr style=\"text-align: right;\">\n",
       "      <th></th>\n",
       "      <th>urls</th>\n",
       "    </tr>\n",
       "  </thead>\n",
       "  <tbody>\n",
       "    <tr>\n",
       "      <th>169</th>\n",
       "      <td>{\"web\":{\"project\":\"https://www.kickstarter.com/projects/hitpointpress/heckna-cosmic-carnival-horror-campaign-setting-for-5e-dnd?ref=discovery_category_newest\",\"rewards\":\"https://www.kickstarter.co...</td>\n",
       "    </tr>\n",
       "    <tr>\n",
       "      <th>1096</th>\n",
       "      <td>{\"web\":{\"project\":\"https://www.kickstarter.com/projects/skytrek/skytrek-the-best-smart-luggage-in-the-world?ref=discovery_category_newest\",\"rewards\":\"https://www.kickstarter.com/projects/skytrek/s...</td>\n",
       "    </tr>\n",
       "    <tr>\n",
       "      <th>84</th>\n",
       "      <td>{\"web\":{\"project\":\"https://www.kickstarter.com/projects/tomvasel/dice-tower-2021?ref=discovery_category_newest\",\"rewards\":\"https://www.kickstarter.com/projects/tomvasel/dice-tower-2021/rewards\"}}</td>\n",
       "    </tr>\n",
       "    <tr>\n",
       "      <th>175</th>\n",
       "      <td>{\"web\":{\"project\":\"https://www.kickstarter.com/projects/radgostforest/forest-of-radgost?ref=discovery_category_newest\",\"rewards\":\"https://www.kickstarter.com/projects/radgostforest/forest-of-radgo...</td>\n",
       "    </tr>\n",
       "    <tr>\n",
       "      <th>306</th>\n",
       "      <td>{\"web\":{\"project\":\"https://www.kickstarter.com/projects/hon-br1/heroes-of-normandie-big-red-one-edition?ref=discovery_category_newest\",\"rewards\":\"https://www.kickstarter.com/projects/hon-br1/heroe...</td>\n",
       "    </tr>\n",
       "    <tr>\n",
       "      <th>65</th>\n",
       "      <td>{\"web\":{\"project\":\"https://www.kickstarter.com/projects/nordgames/dangerous-destinations?ref=discovery_category_newest\",\"rewards\":\"https://www.kickstarter.com/projects/nordgames/dangerous-destinat...</td>\n",
       "    </tr>\n",
       "    <tr>\n",
       "      <th>3560</th>\n",
       "      <td>{\"web\":{\"project\":\"https://www.kickstarter.com/projects/1740872294/isospine-trigger-point-therapy-to-stretch-out-your-back?ref=discovery_category_newest\",\"rewards\":\"https://www.kickstarter.com/pro...</td>\n",
       "    </tr>\n",
       "    <tr>\n",
       "      <th>790</th>\n",
       "      <td>{\"web\":{\"project\":\"https://www.kickstarter.com/projects/2034560442/air-omni-a-6-in-1-charging-machine-for-apple-family?ref=discovery_category_newest\",\"rewards\":\"https://www.kickstarter.com/project...</td>\n",
       "    </tr>\n",
       "    <tr>\n",
       "      <th>1062</th>\n",
       "      <td>{\"web\":{\"project\":\"https://www.kickstarter.com/projects/1749662654/godview-55g-lightweight-300-5k-super-waveguide-mr-glasses?ref=discovery_category_newest\",\"rewards\":\"https://www.kickstarter.com/p...</td>\n",
       "    </tr>\n",
       "    <tr>\n",
       "      <th>3666</th>\n",
       "      <td>{\"web\":{\"project\":\"https://www.kickstarter.com/projects/159974695/creature-comfort-throw-blanket?ref=discovery_category_newest\",\"rewards\":\"https://www.kickstarter.com/projects/159974695/creature-c...</td>\n",
       "    </tr>\n",
       "  </tbody>\n",
       "</table>\n",
       "</div>"
      ],
      "text/plain": [
       "                                                                                                                                                                                                         urls\n",
       "169   {\"web\":{\"project\":\"https://www.kickstarter.com/projects/hitpointpress/heckna-cosmic-carnival-horror-campaign-setting-for-5e-dnd?ref=discovery_category_newest\",\"rewards\":\"https://www.kickstarter.co...\n",
       "1096  {\"web\":{\"project\":\"https://www.kickstarter.com/projects/skytrek/skytrek-the-best-smart-luggage-in-the-world?ref=discovery_category_newest\",\"rewards\":\"https://www.kickstarter.com/projects/skytrek/s...\n",
       "84        {\"web\":{\"project\":\"https://www.kickstarter.com/projects/tomvasel/dice-tower-2021?ref=discovery_category_newest\",\"rewards\":\"https://www.kickstarter.com/projects/tomvasel/dice-tower-2021/rewards\"}}\n",
       "175   {\"web\":{\"project\":\"https://www.kickstarter.com/projects/radgostforest/forest-of-radgost?ref=discovery_category_newest\",\"rewards\":\"https://www.kickstarter.com/projects/radgostforest/forest-of-radgo...\n",
       "306   {\"web\":{\"project\":\"https://www.kickstarter.com/projects/hon-br1/heroes-of-normandie-big-red-one-edition?ref=discovery_category_newest\",\"rewards\":\"https://www.kickstarter.com/projects/hon-br1/heroe...\n",
       "65    {\"web\":{\"project\":\"https://www.kickstarter.com/projects/nordgames/dangerous-destinations?ref=discovery_category_newest\",\"rewards\":\"https://www.kickstarter.com/projects/nordgames/dangerous-destinat...\n",
       "3560  {\"web\":{\"project\":\"https://www.kickstarter.com/projects/1740872294/isospine-trigger-point-therapy-to-stretch-out-your-back?ref=discovery_category_newest\",\"rewards\":\"https://www.kickstarter.com/pro...\n",
       "790   {\"web\":{\"project\":\"https://www.kickstarter.com/projects/2034560442/air-omni-a-6-in-1-charging-machine-for-apple-family?ref=discovery_category_newest\",\"rewards\":\"https://www.kickstarter.com/project...\n",
       "1062  {\"web\":{\"project\":\"https://www.kickstarter.com/projects/1749662654/godview-55g-lightweight-300-5k-super-waveguide-mr-glasses?ref=discovery_category_newest\",\"rewards\":\"https://www.kickstarter.com/p...\n",
       "3666  {\"web\":{\"project\":\"https://www.kickstarter.com/projects/159974695/creature-comfort-throw-blanket?ref=discovery_category_newest\",\"rewards\":\"https://www.kickstarter.com/projects/159974695/creature-c..."
      ]
     },
     "execution_count": 726,
     "metadata": {},
     "output_type": "execute_result"
    }
   ],
   "source": [
    "# highest pledged project in 3 years\n",
    "threeyears_data = data[data['Launch_Year']>2018]\n",
    "#highest pledged from 2009\n",
    "threeyears_data.sort_values('usd_pledged', ascending = False).head(10)[['urls']]"
   ]
  },
  {
   "cell_type": "code",
   "execution_count": 727,
   "id": "explicit-alarm",
   "metadata": {},
   "outputs": [
    {
     "data": {
      "text/plain": [
       "Text(0.5, 1.0, 'Success and Failure of each categories')"
      ]
     },
     "execution_count": 727,
     "metadata": {},
     "output_type": "execute_result"
    },
    {
     "data": {
      "image/png": "[encoded data removed]",
      "text/plain": [
       "<Figure size 1152x288 with 1 Axes>"
      ]
     },
     "metadata": {
      "needs_background": "light"
     },
     "output_type": "display_data"
    }
   ],
   "source": [
    "fig, ax = plt.subplots(figsize= (16, 4))\n",
    "sns.countplot(ax=ax,data = data, x = data['Main_Categories'],hue = 'state',palette='viridis')\n",
    "plt.title('Success and Failure of each categories')"
   ]
  },
  {
   "cell_type": "code",
   "execution_count": 728,
   "id": "described-birthday",
   "metadata": {},
   "outputs": [
    {
     "data": {
      "text/plain": [
       "Text(0.5, 1.0, 'Successful cases of each categories')"
      ]
     },
     "execution_count": 728,
     "metadata": {},
     "output_type": "execute_result"
    },
    {
     "data": {
      "image/png": "[encoded data removed]",
      "text/plain": [
       "<Figure size 1152x288 with 1 Axes>"
      ]
     },
     "metadata": {
      "needs_background": "light"
     },
     "output_type": "display_data"
    }
   ],
   "source": [
    "# most successful categories\n",
    "fig, ax = plt.subplots(figsize= (16, 4))\n",
    "sns.countplot(ax=ax, data = succesful, x = 'Main_Categories',palette='viridis')\n",
    "plt.title('Successful cases of each categories')"
   ]
  },
  {
   "cell_type": "code",
   "execution_count": 729,
   "id": "appreciated-helping",
   "metadata": {},
   "outputs": [
    {
     "data": {
      "text/html": [
       "<div>\n",
       "<style scoped>\n",
       "    .dataframe tbody tr th:only-of-type {\n",
       "        vertical-align: middle;\n",
       "    }\n",
       "\n",
       "    .dataframe tbody tr th {\n",
       "        vertical-align: top;\n",
       "    }\n",
       "\n",
       "    .dataframe thead th {\n",
       "        text-align: right;\n",
       "    }\n",
       "</style>\n",
       "<table border=\"1\" class=\"dataframe\">\n",
       "  <thead>\n",
       "    <tr style=\"text-align: right;\">\n",
       "      <th></th>\n",
       "      <th>backers_count</th>\n",
       "      <th>country</th>\n",
       "      <th>spotlight</th>\n",
       "      <th>staff_pick</th>\n",
       "      <th>state</th>\n",
       "      <th>urls</th>\n",
       "      <th>usd_pledged</th>\n",
       "      <th>Launched_at</th>\n",
       "      <th>Deadline</th>\n",
       "      <th>Created</th>\n",
       "      <th>Launch_Period</th>\n",
       "      <th>Created_to_Launch</th>\n",
       "      <th>Launch_Year</th>\n",
       "      <th>Launch_Month</th>\n",
       "      <th>Launch_Day</th>\n",
       "      <th>blurb_words_count</th>\n",
       "      <th>name_words_count</th>\n",
       "      <th>usd_goal</th>\n",
       "      <th>Main_Categories</th>\n",
       "    </tr>\n",
       "  </thead>\n",
       "  <tbody>\n",
       "    <tr>\n",
       "      <th>0</th>\n",
       "      <td>0</td>\n",
       "      <td>US</td>\n",
       "      <td>False</td>\n",
       "      <td>False</td>\n",
       "      <td>failed</td>\n",
       "      <td>{\"web\":{\"project\":\"https://www.kickstarter.com/projects/939819973/crimpcoffee-good-coffee-good-times?ref=discovery_category_newest\",\"rewards\":\"https://www.kickstarter.com/projects/939819973/crimpc...</td>\n",
       "      <td>0.000000</td>\n",
       "      <td>2017-06-22</td>\n",
       "      <td>2017-07-22</td>\n",
       "      <td>2017-06-21</td>\n",
       "      <td>30</td>\n",
       "      <td>1</td>\n",
       "      <td>2017</td>\n",
       "      <td>6</td>\n",
       "      <td>22</td>\n",
       "      <td>21</td>\n",
       "      <td>5</td>\n",
       "      <td>1000.00</td>\n",
       "      <td>food</td>\n",
       "    </tr>\n",
       "    <tr>\n",
       "      <th>1</th>\n",
       "      <td>454</td>\n",
       "      <td>DK</td>\n",
       "      <td>True</td>\n",
       "      <td>False</td>\n",
       "      <td>successful</td>\n",
       "      <td>{\"web\":{\"project\":\"https://www.kickstarter.com/projects/fleshcraftstudio/spawns-of-the-great-rot-printable-stl-3d-miniatures?ref=discovery_category_newest\",\"rewards\":\"https://www.kickstarter.com/p...</td>\n",
       "      <td>16559.556457</td>\n",
       "      <td>2020-11-11</td>\n",
       "      <td>2020-12-11</td>\n",
       "      <td>2020-10-27</td>\n",
       "      <td>30</td>\n",
       "      <td>15</td>\n",
       "      <td>2020</td>\n",
       "      <td>11</td>\n",
       "      <td>11</td>\n",
       "      <td>13</td>\n",
       "      <td>10</td>\n",
       "      <td>1192.18</td>\n",
       "      <td>games</td>\n",
       "    </tr>\n",
       "    <tr>\n",
       "      <th>2</th>\n",
       "      <td>1</td>\n",
       "      <td>GB</td>\n",
       "      <td>False</td>\n",
       "      <td>False</td>\n",
       "      <td>failed</td>\n",
       "      <td>{\"web\":{\"project\":\"https://www.kickstarter.com/projects/dreamcatchercomics/dreamcatcher-games?ref=discovery_category_newest\",\"rewards\":\"https://www.kickstarter.com/projects/dreamcatchercomics/drea...</td>\n",
       "      <td>64.185017</td>\n",
       "      <td>2017-04-27</td>\n",
       "      <td>2017-05-17</td>\n",
       "      <td>2017-04-15</td>\n",
       "      <td>20</td>\n",
       "      <td>12</td>\n",
       "      <td>2017</td>\n",
       "      <td>4</td>\n",
       "      <td>27</td>\n",
       "      <td>23</td>\n",
       "      <td>2</td>\n",
       "      <td>641.85</td>\n",
       "      <td>games</td>\n",
       "    </tr>\n",
       "    <tr>\n",
       "      <th>3</th>\n",
       "      <td>92</td>\n",
       "      <td>US</td>\n",
       "      <td>True</td>\n",
       "      <td>False</td>\n",
       "      <td>successful</td>\n",
       "      <td>{\"web\":{\"project\":\"https://www.kickstarter.com/projects/thecommonlands/felbars-shoppe-of-curiosities-and-occult?ref=discovery_category_newest\",\"rewards\":\"https://www.kickstarter.com/projects/theco...</td>\n",
       "      <td>6223.000000</td>\n",
       "      <td>2020-11-12</td>\n",
       "      <td>2021-01-04</td>\n",
       "      <td>2020-11-04</td>\n",
       "      <td>53</td>\n",
       "      <td>8</td>\n",
       "      <td>2020</td>\n",
       "      <td>11</td>\n",
       "      <td>12</td>\n",
       "      <td>24</td>\n",
       "      <td>9</td>\n",
       "      <td>5000.00</td>\n",
       "      <td>games</td>\n",
       "    </tr>\n",
       "    <tr>\n",
       "      <th>4</th>\n",
       "      <td>128</td>\n",
       "      <td>US</td>\n",
       "      <td>True</td>\n",
       "      <td>False</td>\n",
       "      <td>successful</td>\n",
       "      <td>{\"web\":{\"project\":\"https://www.kickstarter.com/projects/wanderfoods/wander-flavorful-and-functional-pantry-staples?ref=discovery_category_newest\",\"rewards\":\"https://www.kickstarter.com/projects/wa...</td>\n",
       "      <td>10448.000000</td>\n",
       "      <td>2020-10-01</td>\n",
       "      <td>2020-10-30</td>\n",
       "      <td>2020-07-20</td>\n",
       "      <td>29</td>\n",
       "      <td>73</td>\n",
       "      <td>2020</td>\n",
       "      <td>10</td>\n",
       "      <td>1</td>\n",
       "      <td>19</td>\n",
       "      <td>6</td>\n",
       "      <td>10000.00</td>\n",
       "      <td>food</td>\n",
       "    </tr>\n",
       "  </tbody>\n",
       "</table>\n",
       "</div>"
      ],
      "text/plain": [
       "   backers_count country  spotlight  staff_pick       state  \\\n",
       "0              0      US      False       False      failed   \n",
       "1            454      DK       True       False  successful   \n",
       "2              1      GB      False       False      failed   \n",
       "3             92      US       True       False  successful   \n",
       "4            128      US       True       False  successful   \n",
       "\n",
       "                                                                                                                                                                                                      urls  \\\n",
       "0  {\"web\":{\"project\":\"https://www.kickstarter.com/projects/939819973/crimpcoffee-good-coffee-good-times?ref=discovery_category_newest\",\"rewards\":\"https://www.kickstarter.com/projects/939819973/crimpc...   \n",
       "1  {\"web\":{\"project\":\"https://www.kickstarter.com/projects/fleshcraftstudio/spawns-of-the-great-rot-printable-stl-3d-miniatures?ref=discovery_category_newest\",\"rewards\":\"https://www.kickstarter.com/p...   \n",
       "2  {\"web\":{\"project\":\"https://www.kickstarter.com/projects/dreamcatchercomics/dreamcatcher-games?ref=discovery_category_newest\",\"rewards\":\"https://www.kickstarter.com/projects/dreamcatchercomics/drea...   \n",
       "3  {\"web\":{\"project\":\"https://www.kickstarter.com/projects/thecommonlands/felbars-shoppe-of-curiosities-and-occult?ref=discovery_category_newest\",\"rewards\":\"https://www.kickstarter.com/projects/theco...   \n",
       "4  {\"web\":{\"project\":\"https://www.kickstarter.com/projects/wanderfoods/wander-flavorful-and-functional-pantry-staples?ref=discovery_category_newest\",\"rewards\":\"https://www.kickstarter.com/projects/wa...   \n",
       "\n",
       "    usd_pledged Launched_at   Deadline    Created  Launch_Period  \\\n",
       "0      0.000000  2017-06-22 2017-07-22 2017-06-21             30   \n",
       "1  16559.556457  2020-11-11 2020-12-11 2020-10-27             30   \n",
       "2     64.185017  2017-04-27 2017-05-17 2017-04-15             20   \n",
       "3   6223.000000  2020-11-12 2021-01-04 2020-11-04             53   \n",
       "4  10448.000000  2020-10-01 2020-10-30 2020-07-20             29   \n",
       "\n",
       "   Created_to_Launch  Launch_Year  Launch_Month  Launch_Day  \\\n",
       "0                  1         2017             6          22   \n",
       "1                 15         2020            11          11   \n",
       "2                 12         2017             4          27   \n",
       "3                  8         2020            11          12   \n",
       "4                 73         2020            10           1   \n",
       "\n",
       "   blurb_words_count  name_words_count  usd_goal Main_Categories  \n",
       "0                 21                 5   1000.00            food  \n",
       "1                 13                10   1192.18           games  \n",
       "2                 23                 2    641.85           games  \n",
       "3                 24                 9   5000.00           games  \n",
       "4                 19                 6  10000.00            food  "
      ]
     },
     "execution_count": 729,
     "metadata": {},
     "output_type": "execute_result"
    }
   ],
   "source": [
    "data.head()"
   ]
  },
  {
   "cell_type": "code",
   "execution_count": 730,
   "id": "interracial-stand",
   "metadata": {},
   "outputs": [],
   "source": [
    "data_cleaned=data.drop(['urls','Launched_at','Deadline','Created'],axis=1)\n"
   ]
  },
  {
   "cell_type": "code",
   "execution_count": 731,
   "id": "backed-elimination",
   "metadata": {},
   "outputs": [],
   "source": [
    "data_cleaned_linear = data_cleaned.copy()"
   ]
  },
  {
   "cell_type": "markdown",
   "id": "specific-division",
   "metadata": {},
   "source": [
    "# Data Transformation"
   ]
  },
  {
   "cell_type": "code",
   "execution_count": 732,
   "id": "recreational-salmon",
   "metadata": {},
   "outputs": [
    {
     "data": {
      "text/plain": [
       "array([[<AxesSubplot:title={'center':'backers_count'}>,\n",
       "        <AxesSubplot:title={'center':'usd_pledged'}>,\n",
       "        <AxesSubplot:title={'center':'Launch_Period'}>],\n",
       "       [<AxesSubplot:title={'center':'Created_to_Launch'}>,\n",
       "        <AxesSubplot:title={'center':'Launch_Year'}>,\n",
       "        <AxesSubplot:title={'center':'Launch_Month'}>],\n",
       "       [<AxesSubplot:title={'center':'Launch_Day'}>,\n",
       "        <AxesSubplot:title={'center':'blurb_words_count'}>,\n",
       "        <AxesSubplot:title={'center':'name_words_count'}>],\n",
       "       [<AxesSubplot:title={'center':'usd_goal'}>, <AxesSubplot:>,\n",
       "        <AxesSubplot:>]], dtype=object)"
      ]
     },
     "execution_count": 732,
     "metadata": {},
     "output_type": "execute_result"
    },
    {
     "data": {
      "image/png": "[encoded data removed]",
      "text/plain": [
       "<Figure size 864x720 with 12 Axes>"
      ]
     },
     "metadata": {
      "needs_background": "light"
     },
     "output_type": "display_data"
    }
   ],
   "source": [
    "# check skewness and distribution\n",
    "data_cleaned[data_cleaned.describe().columns].hist(figsize=(12,10),bins = 50)"
   ]
  },
  {
   "cell_type": "code",
   "execution_count": 733,
   "id": "exempt-vienna",
   "metadata": {},
   "outputs": [
    {
     "data": {
      "text/plain": [
       "<AxesSubplot:>"
      ]
     },
     "execution_count": 733,
     "metadata": {},
     "output_type": "execute_result"
    },
    {
     "data": {
      "image/png": "[encoded data removed]",
      "text/plain": [
       "<Figure size 432x288 with 2 Axes>"
      ]
     },
     "metadata": {
      "needs_background": "light"
     },
     "output_type": "display_data"
    }
   ],
   "source": [
    "sns.heatmap(data_cleaned.corr())"
   ]
  },
  {
   "cell_type": "markdown",
   "id": "above-influence",
   "metadata": {},
   "source": [
    "### Create dummy variables"
   ]
  },
  {
   "cell_type": "code",
   "execution_count": 734,
   "id": "faced-pasta",
   "metadata": {},
   "outputs": [
    {
     "data": {
      "text/html": [
       "<div>\n",
       "<style scoped>\n",
       "    .dataframe tbody tr th:only-of-type {\n",
       "        vertical-align: middle;\n",
       "    }\n",
       "\n",
       "    .dataframe tbody tr th {\n",
       "        vertical-align: top;\n",
       "    }\n",
       "\n",
       "    .dataframe thead th {\n",
       "        text-align: right;\n",
       "    }\n",
       "</style>\n",
       "<table border=\"1\" class=\"dataframe\">\n",
       "  <thead>\n",
       "    <tr style=\"text-align: right;\">\n",
       "      <th></th>\n",
       "      <th>backers_count</th>\n",
       "      <th>country</th>\n",
       "      <th>spotlight</th>\n",
       "      <th>staff_pick</th>\n",
       "      <th>state</th>\n",
       "      <th>usd_pledged</th>\n",
       "      <th>Launch_Period</th>\n",
       "      <th>Created_to_Launch</th>\n",
       "      <th>Launch_Year</th>\n",
       "      <th>Launch_Month</th>\n",
       "      <th>Launch_Day</th>\n",
       "      <th>blurb_words_count</th>\n",
       "      <th>name_words_count</th>\n",
       "      <th>usd_goal</th>\n",
       "      <th>Main_Categories</th>\n",
       "    </tr>\n",
       "  </thead>\n",
       "  <tbody>\n",
       "    <tr>\n",
       "      <th>0</th>\n",
       "      <td>0</td>\n",
       "      <td>US</td>\n",
       "      <td>False</td>\n",
       "      <td>False</td>\n",
       "      <td>failed</td>\n",
       "      <td>0.000000</td>\n",
       "      <td>30</td>\n",
       "      <td>1</td>\n",
       "      <td>2017</td>\n",
       "      <td>6</td>\n",
       "      <td>22</td>\n",
       "      <td>21</td>\n",
       "      <td>5</td>\n",
       "      <td>1000.00</td>\n",
       "      <td>food</td>\n",
       "    </tr>\n",
       "    <tr>\n",
       "      <th>1</th>\n",
       "      <td>454</td>\n",
       "      <td>DK</td>\n",
       "      <td>True</td>\n",
       "      <td>False</td>\n",
       "      <td>successful</td>\n",
       "      <td>16559.556457</td>\n",
       "      <td>30</td>\n",
       "      <td>15</td>\n",
       "      <td>2020</td>\n",
       "      <td>11</td>\n",
       "      <td>11</td>\n",
       "      <td>13</td>\n",
       "      <td>10</td>\n",
       "      <td>1192.18</td>\n",
       "      <td>games</td>\n",
       "    </tr>\n",
       "    <tr>\n",
       "      <th>2</th>\n",
       "      <td>1</td>\n",
       "      <td>GB</td>\n",
       "      <td>False</td>\n",
       "      <td>False</td>\n",
       "      <td>failed</td>\n",
       "      <td>64.185017</td>\n",
       "      <td>20</td>\n",
       "      <td>12</td>\n",
       "      <td>2017</td>\n",
       "      <td>4</td>\n",
       "      <td>27</td>\n",
       "      <td>23</td>\n",
       "      <td>2</td>\n",
       "      <td>641.85</td>\n",
       "      <td>games</td>\n",
       "    </tr>\n",
       "    <tr>\n",
       "      <th>3</th>\n",
       "      <td>92</td>\n",
       "      <td>US</td>\n",
       "      <td>True</td>\n",
       "      <td>False</td>\n",
       "      <td>successful</td>\n",
       "      <td>6223.000000</td>\n",
       "      <td>53</td>\n",
       "      <td>8</td>\n",
       "      <td>2020</td>\n",
       "      <td>11</td>\n",
       "      <td>12</td>\n",
       "      <td>24</td>\n",
       "      <td>9</td>\n",
       "      <td>5000.00</td>\n",
       "      <td>games</td>\n",
       "    </tr>\n",
       "    <tr>\n",
       "      <th>4</th>\n",
       "      <td>128</td>\n",
       "      <td>US</td>\n",
       "      <td>True</td>\n",
       "      <td>False</td>\n",
       "      <td>successful</td>\n",
       "      <td>10448.000000</td>\n",
       "      <td>29</td>\n",
       "      <td>73</td>\n",
       "      <td>2020</td>\n",
       "      <td>10</td>\n",
       "      <td>1</td>\n",
       "      <td>19</td>\n",
       "      <td>6</td>\n",
       "      <td>10000.00</td>\n",
       "      <td>food</td>\n",
       "    </tr>\n",
       "  </tbody>\n",
       "</table>\n",
       "</div>"
      ],
      "text/plain": [
       "   backers_count country  spotlight  staff_pick       state   usd_pledged  \\\n",
       "0              0      US      False       False      failed      0.000000   \n",
       "1            454      DK       True       False  successful  16559.556457   \n",
       "2              1      GB      False       False      failed     64.185017   \n",
       "3             92      US       True       False  successful   6223.000000   \n",
       "4            128      US       True       False  successful  10448.000000   \n",
       "\n",
       "   Launch_Period  Created_to_Launch  Launch_Year  Launch_Month  Launch_Day  \\\n",
       "0             30                  1         2017             6          22   \n",
       "1             30                 15         2020            11          11   \n",
       "2             20                 12         2017             4          27   \n",
       "3             53                  8         2020            11          12   \n",
       "4             29                 73         2020            10           1   \n",
       "\n",
       "   blurb_words_count  name_words_count  usd_goal Main_Categories  \n",
       "0                 21                 5   1000.00            food  \n",
       "1                 13                10   1192.18           games  \n",
       "2                 23                 2    641.85           games  \n",
       "3                 24                 9   5000.00           games  \n",
       "4                 19                 6  10000.00            food  "
      ]
     },
     "execution_count": 734,
     "metadata": {},
     "output_type": "execute_result"
    }
   ],
   "source": [
    "data_cleaned.head()"
   ]
  },
  {
   "cell_type": "code",
   "execution_count": 735,
   "id": "formed-peeing",
   "metadata": {},
   "outputs": [],
   "source": [
    "data_cleaned['spotlight'] = data_cleaned['spotlight'].map({True: 1, False:0})\n",
    "data_cleaned['staff_pick'] = data_cleaned['staff_pick'].map({True: 1, False:0})\n",
    "data_cleaned['state'] = data_cleaned['state'].map({'successful': 1, 'failed':0})"
   ]
  },
  {
   "cell_type": "code",
   "execution_count": 736,
   "id": "chinese-salvation",
   "metadata": {},
   "outputs": [
    {
     "data": {
      "text/plain": [
       "0       0\n",
       "1       1\n",
       "2       0\n",
       "3       1\n",
       "4       1\n",
       "       ..\n",
       "3663    1\n",
       "3665    1\n",
       "3666    1\n",
       "3667    1\n",
       "3668    1\n",
       "Name: spotlight, Length: 3578, dtype: int64"
      ]
     },
     "execution_count": 736,
     "metadata": {},
     "output_type": "execute_result"
    }
   ],
   "source": [
    "data_cleaned['spotlight']"
   ]
  },
  {
   "cell_type": "code",
   "execution_count": 737,
   "id": "civil-candy",
   "metadata": {},
   "outputs": [],
   "source": [
    "month= pd.get_dummies(data_cleaned['Launch_Month'],drop_first=False)\n",
    "#day= pd.get_dummies(data_cleaned['Launch_Day'],drop_first=False)\n",
    "categories = pd.get_dummies(data_cleaned['Main_Categories'],drop_first=False)\n",
    "#country = pd.get_dummies(data_cleaned['country'],drop_first=False)\n"
   ]
  },
  {
   "cell_type": "code",
   "execution_count": 738,
   "id": "indonesian-depression",
   "metadata": {},
   "outputs": [],
   "source": [
    "data_cleaned=pd.concat([data_cleaned,month,categories],axis=1)"
   ]
  },
  {
   "cell_type": "code",
   "execution_count": 739,
   "id": "governing-smell",
   "metadata": {},
   "outputs": [
    {
     "data": {
      "text/html": [
       "<div>\n",
       "<style scoped>\n",
       "    .dataframe tbody tr th:only-of-type {\n",
       "        vertical-align: middle;\n",
       "    }\n",
       "\n",
       "    .dataframe tbody tr th {\n",
       "        vertical-align: top;\n",
       "    }\n",
       "\n",
       "    .dataframe thead th {\n",
       "        text-align: right;\n",
       "    }\n",
       "</style>\n",
       "<table border=\"1\" class=\"dataframe\">\n",
       "  <thead>\n",
       "    <tr style=\"text-align: right;\">\n",
       "      <th></th>\n",
       "      <th>backers_count</th>\n",
       "      <th>country</th>\n",
       "      <th>spotlight</th>\n",
       "      <th>staff_pick</th>\n",
       "      <th>state</th>\n",
       "      <th>usd_pledged</th>\n",
       "      <th>Launch_Period</th>\n",
       "      <th>Created_to_Launch</th>\n",
       "      <th>Launch_Year</th>\n",
       "      <th>Launch_Month</th>\n",
       "      <th>Launch_Day</th>\n",
       "      <th>blurb_words_count</th>\n",
       "      <th>name_words_count</th>\n",
       "      <th>usd_goal</th>\n",
       "      <th>Main_Categories</th>\n",
       "      <th>1</th>\n",
       "      <th>2</th>\n",
       "      <th>3</th>\n",
       "      <th>4</th>\n",
       "      <th>5</th>\n",
       "      <th>6</th>\n",
       "      <th>7</th>\n",
       "      <th>8</th>\n",
       "      <th>9</th>\n",
       "      <th>10</th>\n",
       "      <th>11</th>\n",
       "      <th>12</th>\n",
       "      <th>crafts</th>\n",
       "      <th>dance</th>\n",
       "      <th>design</th>\n",
       "      <th>fashion</th>\n",
       "      <th>film%20&amp;%20video</th>\n",
       "      <th>food</th>\n",
       "      <th>games</th>\n",
       "      <th>journalism</th>\n",
       "      <th>music</th>\n",
       "      <th>publishing</th>\n",
       "      <th>technology</th>\n",
       "    </tr>\n",
       "  </thead>\n",
       "  <tbody>\n",
       "    <tr>\n",
       "      <th>0</th>\n",
       "      <td>0</td>\n",
       "      <td>US</td>\n",
       "      <td>0</td>\n",
       "      <td>0</td>\n",
       "      <td>0</td>\n",
       "      <td>0.000000</td>\n",
       "      <td>30</td>\n",
       "      <td>1</td>\n",
       "      <td>2017</td>\n",
       "      <td>6</td>\n",
       "      <td>22</td>\n",
       "      <td>21</td>\n",
       "      <td>5</td>\n",
       "      <td>1000.00</td>\n",
       "      <td>food</td>\n",
       "      <td>0</td>\n",
       "      <td>0</td>\n",
       "      <td>0</td>\n",
       "      <td>0</td>\n",
       "      <td>0</td>\n",
       "      <td>1</td>\n",
       "      <td>0</td>\n",
       "      <td>0</td>\n",
       "      <td>0</td>\n",
       "      <td>0</td>\n",
       "      <td>0</td>\n",
       "      <td>0</td>\n",
       "      <td>0</td>\n",
       "      <td>0</td>\n",
       "      <td>0</td>\n",
       "      <td>0</td>\n",
       "      <td>0</td>\n",
       "      <td>1</td>\n",
       "      <td>0</td>\n",
       "      <td>0</td>\n",
       "      <td>0</td>\n",
       "      <td>0</td>\n",
       "      <td>0</td>\n",
       "    </tr>\n",
       "    <tr>\n",
       "      <th>1</th>\n",
       "      <td>454</td>\n",
       "      <td>DK</td>\n",
       "      <td>1</td>\n",
       "      <td>0</td>\n",
       "      <td>1</td>\n",
       "      <td>16559.556457</td>\n",
       "      <td>30</td>\n",
       "      <td>15</td>\n",
       "      <td>2020</td>\n",
       "      <td>11</td>\n",
       "      <td>11</td>\n",
       "      <td>13</td>\n",
       "      <td>10</td>\n",
       "      <td>1192.18</td>\n",
       "      <td>games</td>\n",
       "      <td>0</td>\n",
       "      <td>0</td>\n",
       "      <td>0</td>\n",
       "      <td>0</td>\n",
       "      <td>0</td>\n",
       "      <td>0</td>\n",
       "      <td>0</td>\n",
       "      <td>0</td>\n",
       "      <td>0</td>\n",
       "      <td>0</td>\n",
       "      <td>1</td>\n",
       "      <td>0</td>\n",
       "      <td>0</td>\n",
       "      <td>0</td>\n",
       "      <td>0</td>\n",
       "      <td>0</td>\n",
       "      <td>0</td>\n",
       "      <td>0</td>\n",
       "      <td>1</td>\n",
       "      <td>0</td>\n",
       "      <td>0</td>\n",
       "      <td>0</td>\n",
       "      <td>0</td>\n",
       "    </tr>\n",
       "    <tr>\n",
       "      <th>2</th>\n",
       "      <td>1</td>\n",
       "      <td>GB</td>\n",
       "      <td>0</td>\n",
       "      <td>0</td>\n",
       "      <td>0</td>\n",
       "      <td>64.185017</td>\n",
       "      <td>20</td>\n",
       "      <td>12</td>\n",
       "      <td>2017</td>\n",
       "      <td>4</td>\n",
       "      <td>27</td>\n",
       "      <td>23</td>\n",
       "      <td>2</td>\n",
       "      <td>641.85</td>\n",
       "      <td>games</td>\n",
       "      <td>0</td>\n",
       "      <td>0</td>\n",
       "      <td>0</td>\n",
       "      <td>1</td>\n",
       "      <td>0</td>\n",
       "      <td>0</td>\n",
       "      <td>0</td>\n",
       "      <td>0</td>\n",
       "      <td>0</td>\n",
       "      <td>0</td>\n",
       "      <td>0</td>\n",
       "      <td>0</td>\n",
       "      <td>0</td>\n",
       "      <td>0</td>\n",
       "      <td>0</td>\n",
       "      <td>0</td>\n",
       "      <td>0</td>\n",
       "      <td>0</td>\n",
       "      <td>1</td>\n",
       "      <td>0</td>\n",
       "      <td>0</td>\n",
       "      <td>0</td>\n",
       "      <td>0</td>\n",
       "    </tr>\n",
       "    <tr>\n",
       "      <th>3</th>\n",
       "      <td>92</td>\n",
       "      <td>US</td>\n",
       "      <td>1</td>\n",
       "      <td>0</td>\n",
       "      <td>1</td>\n",
       "      <td>6223.000000</td>\n",
       "      <td>53</td>\n",
       "      <td>8</td>\n",
       "      <td>2020</td>\n",
       "      <td>11</td>\n",
       "      <td>12</td>\n",
       "      <td>24</td>\n",
       "      <td>9</td>\n",
       "      <td>5000.00</td>\n",
       "      <td>games</td>\n",
       "      <td>0</td>\n",
       "      <td>0</td>\n",
       "      <td>0</td>\n",
       "      <td>0</td>\n",
       "      <td>0</td>\n",
       "      <td>0</td>\n",
       "      <td>0</td>\n",
       "      <td>0</td>\n",
       "      <td>0</td>\n",
       "      <td>0</td>\n",
       "      <td>1</td>\n",
       "      <td>0</td>\n",
       "      <td>0</td>\n",
       "      <td>0</td>\n",
       "      <td>0</td>\n",
       "      <td>0</td>\n",
       "      <td>0</td>\n",
       "      <td>0</td>\n",
       "      <td>1</td>\n",
       "      <td>0</td>\n",
       "      <td>0</td>\n",
       "      <td>0</td>\n",
       "      <td>0</td>\n",
       "    </tr>\n",
       "    <tr>\n",
       "      <th>4</th>\n",
       "      <td>128</td>\n",
       "      <td>US</td>\n",
       "      <td>1</td>\n",
       "      <td>0</td>\n",
       "      <td>1</td>\n",
       "      <td>10448.000000</td>\n",
       "      <td>29</td>\n",
       "      <td>73</td>\n",
       "      <td>2020</td>\n",
       "      <td>10</td>\n",
       "      <td>1</td>\n",
       "      <td>19</td>\n",
       "      <td>6</td>\n",
       "      <td>10000.00</td>\n",
       "      <td>food</td>\n",
       "      <td>0</td>\n",
       "      <td>0</td>\n",
       "      <td>0</td>\n",
       "      <td>0</td>\n",
       "      <td>0</td>\n",
       "      <td>0</td>\n",
       "      <td>0</td>\n",
       "      <td>0</td>\n",
       "      <td>0</td>\n",
       "      <td>1</td>\n",
       "      <td>0</td>\n",
       "      <td>0</td>\n",
       "      <td>0</td>\n",
       "      <td>0</td>\n",
       "      <td>0</td>\n",
       "      <td>0</td>\n",
       "      <td>0</td>\n",
       "      <td>1</td>\n",
       "      <td>0</td>\n",
       "      <td>0</td>\n",
       "      <td>0</td>\n",
       "      <td>0</td>\n",
       "      <td>0</td>\n",
       "    </tr>\n",
       "    <tr>\n",
       "      <th>...</th>\n",
       "      <td>...</td>\n",
       "      <td>...</td>\n",
       "      <td>...</td>\n",
       "      <td>...</td>\n",
       "      <td>...</td>\n",
       "      <td>...</td>\n",
       "      <td>...</td>\n",
       "      <td>...</td>\n",
       "      <td>...</td>\n",
       "      <td>...</td>\n",
       "      <td>...</td>\n",
       "      <td>...</td>\n",
       "      <td>...</td>\n",
       "      <td>...</td>\n",
       "      <td>...</td>\n",
       "      <td>...</td>\n",
       "      <td>...</td>\n",
       "      <td>...</td>\n",
       "      <td>...</td>\n",
       "      <td>...</td>\n",
       "      <td>...</td>\n",
       "      <td>...</td>\n",
       "      <td>...</td>\n",
       "      <td>...</td>\n",
       "      <td>...</td>\n",
       "      <td>...</td>\n",
       "      <td>...</td>\n",
       "      <td>...</td>\n",
       "      <td>...</td>\n",
       "      <td>...</td>\n",
       "      <td>...</td>\n",
       "      <td>...</td>\n",
       "      <td>...</td>\n",
       "      <td>...</td>\n",
       "      <td>...</td>\n",
       "      <td>...</td>\n",
       "      <td>...</td>\n",
       "      <td>...</td>\n",
       "    </tr>\n",
       "    <tr>\n",
       "      <th>3663</th>\n",
       "      <td>181</td>\n",
       "      <td>US</td>\n",
       "      <td>1</td>\n",
       "      <td>1</td>\n",
       "      <td>1</td>\n",
       "      <td>12972.000000</td>\n",
       "      <td>26</td>\n",
       "      <td>11</td>\n",
       "      <td>2020</td>\n",
       "      <td>11</td>\n",
       "      <td>8</td>\n",
       "      <td>15</td>\n",
       "      <td>4</td>\n",
       "      <td>7500.00</td>\n",
       "      <td>design</td>\n",
       "      <td>0</td>\n",
       "      <td>0</td>\n",
       "      <td>0</td>\n",
       "      <td>0</td>\n",
       "      <td>0</td>\n",
       "      <td>0</td>\n",
       "      <td>0</td>\n",
       "      <td>0</td>\n",
       "      <td>0</td>\n",
       "      <td>0</td>\n",
       "      <td>1</td>\n",
       "      <td>0</td>\n",
       "      <td>0</td>\n",
       "      <td>0</td>\n",
       "      <td>1</td>\n",
       "      <td>0</td>\n",
       "      <td>0</td>\n",
       "      <td>0</td>\n",
       "      <td>0</td>\n",
       "      <td>0</td>\n",
       "      <td>0</td>\n",
       "      <td>0</td>\n",
       "      <td>0</td>\n",
       "    </tr>\n",
       "    <tr>\n",
       "      <th>3665</th>\n",
       "      <td>11</td>\n",
       "      <td>CA</td>\n",
       "      <td>1</td>\n",
       "      <td>0</td>\n",
       "      <td>1</td>\n",
       "      <td>4123.386083</td>\n",
       "      <td>14</td>\n",
       "      <td>399</td>\n",
       "      <td>2020</td>\n",
       "      <td>6</td>\n",
       "      <td>15</td>\n",
       "      <td>6</td>\n",
       "      <td>5</td>\n",
       "      <td>2207.66</td>\n",
       "      <td>design</td>\n",
       "      <td>0</td>\n",
       "      <td>0</td>\n",
       "      <td>0</td>\n",
       "      <td>0</td>\n",
       "      <td>0</td>\n",
       "      <td>1</td>\n",
       "      <td>0</td>\n",
       "      <td>0</td>\n",
       "      <td>0</td>\n",
       "      <td>0</td>\n",
       "      <td>0</td>\n",
       "      <td>0</td>\n",
       "      <td>0</td>\n",
       "      <td>0</td>\n",
       "      <td>1</td>\n",
       "      <td>0</td>\n",
       "      <td>0</td>\n",
       "      <td>0</td>\n",
       "      <td>0</td>\n",
       "      <td>0</td>\n",
       "      <td>0</td>\n",
       "      <td>0</td>\n",
       "      <td>0</td>\n",
       "    </tr>\n",
       "    <tr>\n",
       "      <th>3666</th>\n",
       "      <td>2188</td>\n",
       "      <td>US</td>\n",
       "      <td>1</td>\n",
       "      <td>1</td>\n",
       "      <td>1</td>\n",
       "      <td>204313.000000</td>\n",
       "      <td>22</td>\n",
       "      <td>13</td>\n",
       "      <td>2021</td>\n",
       "      <td>3</td>\n",
       "      <td>15</td>\n",
       "      <td>8</td>\n",
       "      <td>4</td>\n",
       "      <td>5000.00</td>\n",
       "      <td>fashion</td>\n",
       "      <td>0</td>\n",
       "      <td>0</td>\n",
       "      <td>1</td>\n",
       "      <td>0</td>\n",
       "      <td>0</td>\n",
       "      <td>0</td>\n",
       "      <td>0</td>\n",
       "      <td>0</td>\n",
       "      <td>0</td>\n",
       "      <td>0</td>\n",
       "      <td>0</td>\n",
       "      <td>0</td>\n",
       "      <td>0</td>\n",
       "      <td>0</td>\n",
       "      <td>0</td>\n",
       "      <td>1</td>\n",
       "      <td>0</td>\n",
       "      <td>0</td>\n",
       "      <td>0</td>\n",
       "      <td>0</td>\n",
       "      <td>0</td>\n",
       "      <td>0</td>\n",
       "      <td>0</td>\n",
       "    </tr>\n",
       "    <tr>\n",
       "      <th>3667</th>\n",
       "      <td>85</td>\n",
       "      <td>GB</td>\n",
       "      <td>1</td>\n",
       "      <td>0</td>\n",
       "      <td>1</td>\n",
       "      <td>3703.839916</td>\n",
       "      <td>15</td>\n",
       "      <td>24</td>\n",
       "      <td>2020</td>\n",
       "      <td>8</td>\n",
       "      <td>27</td>\n",
       "      <td>16</td>\n",
       "      <td>9</td>\n",
       "      <td>2626.84</td>\n",
       "      <td>design</td>\n",
       "      <td>0</td>\n",
       "      <td>0</td>\n",
       "      <td>0</td>\n",
       "      <td>0</td>\n",
       "      <td>0</td>\n",
       "      <td>0</td>\n",
       "      <td>0</td>\n",
       "      <td>1</td>\n",
       "      <td>0</td>\n",
       "      <td>0</td>\n",
       "      <td>0</td>\n",
       "      <td>0</td>\n",
       "      <td>0</td>\n",
       "      <td>0</td>\n",
       "      <td>1</td>\n",
       "      <td>0</td>\n",
       "      <td>0</td>\n",
       "      <td>0</td>\n",
       "      <td>0</td>\n",
       "      <td>0</td>\n",
       "      <td>0</td>\n",
       "      <td>0</td>\n",
       "      <td>0</td>\n",
       "    </tr>\n",
       "    <tr>\n",
       "      <th>3668</th>\n",
       "      <td>20</td>\n",
       "      <td>US</td>\n",
       "      <td>1</td>\n",
       "      <td>0</td>\n",
       "      <td>1</td>\n",
       "      <td>3139.000000</td>\n",
       "      <td>15</td>\n",
       "      <td>5</td>\n",
       "      <td>2018</td>\n",
       "      <td>3</td>\n",
       "      <td>14</td>\n",
       "      <td>17</td>\n",
       "      <td>4</td>\n",
       "      <td>2900.00</td>\n",
       "      <td>dance</td>\n",
       "      <td>0</td>\n",
       "      <td>0</td>\n",
       "      <td>1</td>\n",
       "      <td>0</td>\n",
       "      <td>0</td>\n",
       "      <td>0</td>\n",
       "      <td>0</td>\n",
       "      <td>0</td>\n",
       "      <td>0</td>\n",
       "      <td>0</td>\n",
       "      <td>0</td>\n",
       "      <td>0</td>\n",
       "      <td>0</td>\n",
       "      <td>1</td>\n",
       "      <td>0</td>\n",
       "      <td>0</td>\n",
       "      <td>0</td>\n",
       "      <td>0</td>\n",
       "      <td>0</td>\n",
       "      <td>0</td>\n",
       "      <td>0</td>\n",
       "      <td>0</td>\n",
       "      <td>0</td>\n",
       "    </tr>\n",
       "  </tbody>\n",
       "</table>\n",
       "<p>3578 rows × 38 columns</p>\n",
       "</div>"
      ],
      "text/plain": [
       "      backers_count country  spotlight  staff_pick  state    usd_pledged  \\\n",
       "0                 0      US          0           0      0       0.000000   \n",
       "1               454      DK          1           0      1   16559.556457   \n",
       "2                 1      GB          0           0      0      64.185017   \n",
       "3                92      US          1           0      1    6223.000000   \n",
       "4               128      US          1           0      1   10448.000000   \n",
       "...             ...     ...        ...         ...    ...            ...   \n",
       "3663            181      US          1           1      1   12972.000000   \n",
       "3665             11      CA          1           0      1    4123.386083   \n",
       "3666           2188      US          1           1      1  204313.000000   \n",
       "3667             85      GB          1           0      1    3703.839916   \n",
       "3668             20      US          1           0      1    3139.000000   \n",
       "\n",
       "      Launch_Period  Created_to_Launch  Launch_Year  Launch_Month  Launch_Day  \\\n",
       "0                30                  1         2017             6          22   \n",
       "1                30                 15         2020            11          11   \n",
       "2                20                 12         2017             4          27   \n",
       "3                53                  8         2020            11          12   \n",
       "4                29                 73         2020            10           1   \n",
       "...             ...                ...          ...           ...         ...   \n",
       "3663             26                 11         2020            11           8   \n",
       "3665             14                399         2020             6          15   \n",
       "3666             22                 13         2021             3          15   \n",
       "3667             15                 24         2020             8          27   \n",
       "3668             15                  5         2018             3          14   \n",
       "\n",
       "      blurb_words_count  name_words_count  usd_goal Main_Categories  1  2  3  \\\n",
       "0                    21                 5   1000.00            food  0  0  0   \n",
       "1                    13                10   1192.18           games  0  0  0   \n",
       "2                    23                 2    641.85           games  0  0  0   \n",
       "3                    24                 9   5000.00           games  0  0  0   \n",
       "4                    19                 6  10000.00            food  0  0  0   \n",
       "...                 ...               ...       ...             ... .. .. ..   \n",
       "3663                 15                 4   7500.00          design  0  0  0   \n",
       "3665                  6                 5   2207.66          design  0  0  0   \n",
       "3666                  8                 4   5000.00         fashion  0  0  1   \n",
       "3667                 16                 9   2626.84          design  0  0  0   \n",
       "3668                 17                 4   2900.00           dance  0  0  1   \n",
       "\n",
       "      4  5  6  7  8  9  10  11  12  crafts  dance  design  fashion  \\\n",
       "0     0  0  1  0  0  0   0   0   0       0      0       0        0   \n",
       "1     0  0  0  0  0  0   0   1   0       0      0       0        0   \n",
       "2     1  0  0  0  0  0   0   0   0       0      0       0        0   \n",
       "3     0  0  0  0  0  0   0   1   0       0      0       0        0   \n",
       "4     0  0  0  0  0  0   1   0   0       0      0       0        0   \n",
       "...  .. .. .. .. .. ..  ..  ..  ..     ...    ...     ...      ...   \n",
       "3663  0  0  0  0  0  0   0   1   0       0      0       1        0   \n",
       "3665  0  0  1  0  0  0   0   0   0       0      0       1        0   \n",
       "3666  0  0  0  0  0  0   0   0   0       0      0       0        1   \n",
       "3667  0  0  0  0  1  0   0   0   0       0      0       1        0   \n",
       "3668  0  0  0  0  0  0   0   0   0       0      1       0        0   \n",
       "\n",
       "      film%20&%20video  food  games  journalism  music  publishing  technology  \n",
       "0                    0     1      0           0      0           0           0  \n",
       "1                    0     0      1           0      0           0           0  \n",
       "2                    0     0      1           0      0           0           0  \n",
       "3                    0     0      1           0      0           0           0  \n",
       "4                    0     1      0           0      0           0           0  \n",
       "...                ...   ...    ...         ...    ...         ...         ...  \n",
       "3663                 0     0      0           0      0           0           0  \n",
       "3665                 0     0      0           0      0           0           0  \n",
       "3666                 0     0      0           0      0           0           0  \n",
       "3667                 0     0      0           0      0           0           0  \n",
       "3668                 0     0      0           0      0           0           0  \n",
       "\n",
       "[3578 rows x 38 columns]"
      ]
     },
     "execution_count": 739,
     "metadata": {},
     "output_type": "execute_result"
    }
   ],
   "source": [
    "data_cleaned"
   ]
  },
  {
   "cell_type": "code",
   "execution_count": 740,
   "id": "aware-coordinate",
   "metadata": {},
   "outputs": [],
   "source": [
    "data_predict_pledging_amount = data_cleaned.copy()\n",
    "data_predict_success_failed = data_cleaned.copy()"
   ]
  },
  {
   "cell_type": "code",
   "execution_count": 741,
   "id": "informative-utilization",
   "metadata": {},
   "outputs": [],
   "source": [
    "# Replacing 0s with 0.01 and log-transforming (logistic regression and random forest)\n",
    "log_columns = ['Created_to_Launch', 'name_words_count', 'usd_goal','backers_count']\n",
    "for col in log_columns:\n",
    "    data_predict_success_failed[col] = data_predict_success_failed[col].astype('float64').replace(0.0, 0.01)\n",
    "    data_predict_success_failed[col] = np.log(data_predict_success_failed[col])"
   ]
  },
  {
   "cell_type": "code",
   "execution_count": 742,
   "id": "super-suggestion",
   "metadata": {},
   "outputs": [],
   "source": [
    "# this is for logistic regression and random forest\n",
    "data_predict_success_failed = data_predict_success_failed.drop(['country','backers_count','Launch_Year','Launch_Day','Launch_Month','Main_Categories','usd_pledged','spotlight'],axis=1)"
   ]
  },
  {
   "cell_type": "code",
   "execution_count": 743,
   "id": "varied-invention",
   "metadata": {},
   "outputs": [],
   "source": [
    "# Replacing 0s with 0.01 and log-transforming (linear regression and random forest regression)\n",
    "data_predict_pledging_amount['usd_pledged'] = data_predict_pledging_amount['usd_pledged'].astype('float64').replace(0.0, 0.01)\n",
    "data_predict_pledging_amount['usd_pledged'] = np.log(data_predict_pledging_amount['usd_pledged'])"
   ]
  },
  {
   "cell_type": "code",
   "execution_count": 744,
   "id": "mighty-wells",
   "metadata": {},
   "outputs": [],
   "source": [
    "# this is for linear regression \n",
    "data_predict_pledging_amount = data_predict_pledging_amount.drop(['state','country','backers_count','Launch_Year','Launch_Day','Launch_Month','Main_Categories','spotlight'],axis=1)\n"
   ]
  },
  {
   "cell_type": "code",
   "execution_count": 745,
   "id": "literary-current",
   "metadata": {},
   "outputs": [],
   "source": [
    "data_predict_pledging_amount.replace([-np.inf], np.nan, inplace=True)\n",
    "data_predict_pledging_amount =data_predict_pledging_amount.dropna(subset=['usd_pledged'], how=\"all\")\n",
    "\n"
   ]
  },
  {
   "cell_type": "code",
   "execution_count": 746,
   "id": "sunrise-cocktail",
   "metadata": {},
   "outputs": [
    {
     "data": {
      "text/plain": [
       "<seaborn.axisgrid.FacetGrid at 0x150f94a00d0>"
      ]
     },
     "execution_count": 746,
     "metadata": {},
     "output_type": "execute_result"
    },
    {
     "data": {
      "image/png": "[encoded data removed]",
      "text/plain": [
       "<Figure size 360x360 with 1 Axes>"
      ]
     },
     "metadata": {
      "needs_background": "light"
     },
     "output_type": "display_data"
    }
   ],
   "source": [
    "sns.displot(data = data_predict_pledging_amount, x = 'usd_pledged')"
   ]
  },
  {
   "cell_type": "code",
   "execution_count": 747,
   "id": "rational-board",
   "metadata": {},
   "outputs": [
    {
     "data": {
      "text/html": [
       "<div>\n",
       "<style scoped>\n",
       "    .dataframe tbody tr th:only-of-type {\n",
       "        vertical-align: middle;\n",
       "    }\n",
       "\n",
       "    .dataframe tbody tr th {\n",
       "        vertical-align: top;\n",
       "    }\n",
       "\n",
       "    .dataframe thead th {\n",
       "        text-align: right;\n",
       "    }\n",
       "</style>\n",
       "<table border=\"1\" class=\"dataframe\">\n",
       "  <thead>\n",
       "    <tr style=\"text-align: right;\">\n",
       "      <th></th>\n",
       "      <th>staff_pick</th>\n",
       "      <th>usd_pledged</th>\n",
       "      <th>Launch_Period</th>\n",
       "      <th>Created_to_Launch</th>\n",
       "      <th>blurb_words_count</th>\n",
       "      <th>name_words_count</th>\n",
       "      <th>usd_goal</th>\n",
       "      <th>1</th>\n",
       "      <th>2</th>\n",
       "      <th>3</th>\n",
       "      <th>4</th>\n",
       "      <th>5</th>\n",
       "      <th>6</th>\n",
       "      <th>7</th>\n",
       "      <th>8</th>\n",
       "      <th>9</th>\n",
       "      <th>10</th>\n",
       "      <th>11</th>\n",
       "      <th>12</th>\n",
       "      <th>crafts</th>\n",
       "      <th>dance</th>\n",
       "      <th>design</th>\n",
       "      <th>fashion</th>\n",
       "      <th>film%20&amp;%20video</th>\n",
       "      <th>food</th>\n",
       "      <th>games</th>\n",
       "      <th>journalism</th>\n",
       "      <th>music</th>\n",
       "      <th>publishing</th>\n",
       "      <th>technology</th>\n",
       "    </tr>\n",
       "  </thead>\n",
       "  <tbody>\n",
       "    <tr>\n",
       "      <th>0</th>\n",
       "      <td>0</td>\n",
       "      <td>-4.60517</td>\n",
       "      <td>30</td>\n",
       "      <td>1</td>\n",
       "      <td>21</td>\n",
       "      <td>5</td>\n",
       "      <td>1000.00</td>\n",
       "      <td>0</td>\n",
       "      <td>0</td>\n",
       "      <td>0</td>\n",
       "      <td>0</td>\n",
       "      <td>0</td>\n",
       "      <td>1</td>\n",
       "      <td>0</td>\n",
       "      <td>0</td>\n",
       "      <td>0</td>\n",
       "      <td>0</td>\n",
       "      <td>0</td>\n",
       "      <td>0</td>\n",
       "      <td>0</td>\n",
       "      <td>0</td>\n",
       "      <td>0</td>\n",
       "      <td>0</td>\n",
       "      <td>0</td>\n",
       "      <td>1</td>\n",
       "      <td>0</td>\n",
       "      <td>0</td>\n",
       "      <td>0</td>\n",
       "      <td>0</td>\n",
       "      <td>0</td>\n",
       "    </tr>\n",
       "    <tr>\n",
       "      <th>24</th>\n",
       "      <td>0</td>\n",
       "      <td>-4.60517</td>\n",
       "      <td>28</td>\n",
       "      <td>6</td>\n",
       "      <td>19</td>\n",
       "      <td>2</td>\n",
       "      <td>13000.00</td>\n",
       "      <td>0</td>\n",
       "      <td>0</td>\n",
       "      <td>0</td>\n",
       "      <td>0</td>\n",
       "      <td>0</td>\n",
       "      <td>0</td>\n",
       "      <td>0</td>\n",
       "      <td>1</td>\n",
       "      <td>0</td>\n",
       "      <td>0</td>\n",
       "      <td>0</td>\n",
       "      <td>0</td>\n",
       "      <td>0</td>\n",
       "      <td>0</td>\n",
       "      <td>0</td>\n",
       "      <td>0</td>\n",
       "      <td>0</td>\n",
       "      <td>1</td>\n",
       "      <td>0</td>\n",
       "      <td>0</td>\n",
       "      <td>0</td>\n",
       "      <td>0</td>\n",
       "      <td>0</td>\n",
       "    </tr>\n",
       "    <tr>\n",
       "      <th>45</th>\n",
       "      <td>0</td>\n",
       "      <td>-4.60517</td>\n",
       "      <td>14</td>\n",
       "      <td>249</td>\n",
       "      <td>26</td>\n",
       "      <td>4</td>\n",
       "      <td>129780.00</td>\n",
       "      <td>0</td>\n",
       "      <td>0</td>\n",
       "      <td>0</td>\n",
       "      <td>0</td>\n",
       "      <td>0</td>\n",
       "      <td>0</td>\n",
       "      <td>1</td>\n",
       "      <td>0</td>\n",
       "      <td>0</td>\n",
       "      <td>0</td>\n",
       "      <td>0</td>\n",
       "      <td>0</td>\n",
       "      <td>0</td>\n",
       "      <td>0</td>\n",
       "      <td>0</td>\n",
       "      <td>0</td>\n",
       "      <td>0</td>\n",
       "      <td>1</td>\n",
       "      <td>0</td>\n",
       "      <td>0</td>\n",
       "      <td>0</td>\n",
       "      <td>0</td>\n",
       "      <td>0</td>\n",
       "    </tr>\n",
       "    <tr>\n",
       "      <th>50</th>\n",
       "      <td>0</td>\n",
       "      <td>-4.60517</td>\n",
       "      <td>30</td>\n",
       "      <td>87</td>\n",
       "      <td>21</td>\n",
       "      <td>8</td>\n",
       "      <td>3000.00</td>\n",
       "      <td>0</td>\n",
       "      <td>0</td>\n",
       "      <td>0</td>\n",
       "      <td>0</td>\n",
       "      <td>0</td>\n",
       "      <td>0</td>\n",
       "      <td>1</td>\n",
       "      <td>0</td>\n",
       "      <td>0</td>\n",
       "      <td>0</td>\n",
       "      <td>0</td>\n",
       "      <td>0</td>\n",
       "      <td>0</td>\n",
       "      <td>0</td>\n",
       "      <td>0</td>\n",
       "      <td>0</td>\n",
       "      <td>0</td>\n",
       "      <td>0</td>\n",
       "      <td>0</td>\n",
       "      <td>1</td>\n",
       "      <td>0</td>\n",
       "      <td>0</td>\n",
       "      <td>0</td>\n",
       "    </tr>\n",
       "    <tr>\n",
       "      <th>70</th>\n",
       "      <td>0</td>\n",
       "      <td>-4.60517</td>\n",
       "      <td>60</td>\n",
       "      <td>72</td>\n",
       "      <td>18</td>\n",
       "      <td>4</td>\n",
       "      <td>35000.00</td>\n",
       "      <td>0</td>\n",
       "      <td>0</td>\n",
       "      <td>0</td>\n",
       "      <td>0</td>\n",
       "      <td>0</td>\n",
       "      <td>0</td>\n",
       "      <td>0</td>\n",
       "      <td>0</td>\n",
       "      <td>1</td>\n",
       "      <td>0</td>\n",
       "      <td>0</td>\n",
       "      <td>0</td>\n",
       "      <td>0</td>\n",
       "      <td>0</td>\n",
       "      <td>0</td>\n",
       "      <td>0</td>\n",
       "      <td>0</td>\n",
       "      <td>1</td>\n",
       "      <td>0</td>\n",
       "      <td>0</td>\n",
       "      <td>0</td>\n",
       "      <td>0</td>\n",
       "      <td>0</td>\n",
       "    </tr>\n",
       "    <tr>\n",
       "      <th>...</th>\n",
       "      <td>...</td>\n",
       "      <td>...</td>\n",
       "      <td>...</td>\n",
       "      <td>...</td>\n",
       "      <td>...</td>\n",
       "      <td>...</td>\n",
       "      <td>...</td>\n",
       "      <td>...</td>\n",
       "      <td>...</td>\n",
       "      <td>...</td>\n",
       "      <td>...</td>\n",
       "      <td>...</td>\n",
       "      <td>...</td>\n",
       "      <td>...</td>\n",
       "      <td>...</td>\n",
       "      <td>...</td>\n",
       "      <td>...</td>\n",
       "      <td>...</td>\n",
       "      <td>...</td>\n",
       "      <td>...</td>\n",
       "      <td>...</td>\n",
       "      <td>...</td>\n",
       "      <td>...</td>\n",
       "      <td>...</td>\n",
       "      <td>...</td>\n",
       "      <td>...</td>\n",
       "      <td>...</td>\n",
       "      <td>...</td>\n",
       "      <td>...</td>\n",
       "      <td>...</td>\n",
       "    </tr>\n",
       "    <tr>\n",
       "      <th>3553</th>\n",
       "      <td>0</td>\n",
       "      <td>-4.60517</td>\n",
       "      <td>30</td>\n",
       "      <td>1</td>\n",
       "      <td>18</td>\n",
       "      <td>2</td>\n",
       "      <td>35000.00</td>\n",
       "      <td>0</td>\n",
       "      <td>0</td>\n",
       "      <td>0</td>\n",
       "      <td>0</td>\n",
       "      <td>0</td>\n",
       "      <td>0</td>\n",
       "      <td>0</td>\n",
       "      <td>0</td>\n",
       "      <td>1</td>\n",
       "      <td>0</td>\n",
       "      <td>0</td>\n",
       "      <td>0</td>\n",
       "      <td>1</td>\n",
       "      <td>0</td>\n",
       "      <td>0</td>\n",
       "      <td>0</td>\n",
       "      <td>0</td>\n",
       "      <td>0</td>\n",
       "      <td>0</td>\n",
       "      <td>0</td>\n",
       "      <td>0</td>\n",
       "      <td>0</td>\n",
       "      <td>0</td>\n",
       "    </tr>\n",
       "    <tr>\n",
       "      <th>3569</th>\n",
       "      <td>0</td>\n",
       "      <td>-4.60517</td>\n",
       "      <td>60</td>\n",
       "      <td>13</td>\n",
       "      <td>7</td>\n",
       "      <td>6</td>\n",
       "      <td>25000.00</td>\n",
       "      <td>0</td>\n",
       "      <td>0</td>\n",
       "      <td>0</td>\n",
       "      <td>0</td>\n",
       "      <td>1</td>\n",
       "      <td>0</td>\n",
       "      <td>0</td>\n",
       "      <td>0</td>\n",
       "      <td>0</td>\n",
       "      <td>0</td>\n",
       "      <td>0</td>\n",
       "      <td>0</td>\n",
       "      <td>1</td>\n",
       "      <td>0</td>\n",
       "      <td>0</td>\n",
       "      <td>0</td>\n",
       "      <td>0</td>\n",
       "      <td>0</td>\n",
       "      <td>0</td>\n",
       "      <td>0</td>\n",
       "      <td>0</td>\n",
       "      <td>0</td>\n",
       "      <td>0</td>\n",
       "    </tr>\n",
       "    <tr>\n",
       "      <th>3636</th>\n",
       "      <td>0</td>\n",
       "      <td>-4.60517</td>\n",
       "      <td>30</td>\n",
       "      <td>6</td>\n",
       "      <td>14</td>\n",
       "      <td>6</td>\n",
       "      <td>7443.61</td>\n",
       "      <td>0</td>\n",
       "      <td>0</td>\n",
       "      <td>0</td>\n",
       "      <td>0</td>\n",
       "      <td>1</td>\n",
       "      <td>0</td>\n",
       "      <td>0</td>\n",
       "      <td>0</td>\n",
       "      <td>0</td>\n",
       "      <td>0</td>\n",
       "      <td>0</td>\n",
       "      <td>0</td>\n",
       "      <td>0</td>\n",
       "      <td>1</td>\n",
       "      <td>0</td>\n",
       "      <td>0</td>\n",
       "      <td>0</td>\n",
       "      <td>0</td>\n",
       "      <td>0</td>\n",
       "      <td>0</td>\n",
       "      <td>0</td>\n",
       "      <td>0</td>\n",
       "      <td>0</td>\n",
       "    </tr>\n",
       "    <tr>\n",
       "      <th>3642</th>\n",
       "      <td>0</td>\n",
       "      <td>-4.60517</td>\n",
       "      <td>21</td>\n",
       "      <td>2</td>\n",
       "      <td>23</td>\n",
       "      <td>4</td>\n",
       "      <td>22462.64</td>\n",
       "      <td>0</td>\n",
       "      <td>0</td>\n",
       "      <td>0</td>\n",
       "      <td>0</td>\n",
       "      <td>1</td>\n",
       "      <td>0</td>\n",
       "      <td>0</td>\n",
       "      <td>0</td>\n",
       "      <td>0</td>\n",
       "      <td>0</td>\n",
       "      <td>0</td>\n",
       "      <td>0</td>\n",
       "      <td>0</td>\n",
       "      <td>0</td>\n",
       "      <td>1</td>\n",
       "      <td>0</td>\n",
       "      <td>0</td>\n",
       "      <td>0</td>\n",
       "      <td>0</td>\n",
       "      <td>0</td>\n",
       "      <td>0</td>\n",
       "      <td>0</td>\n",
       "      <td>0</td>\n",
       "    </tr>\n",
       "    <tr>\n",
       "      <th>3662</th>\n",
       "      <td>0</td>\n",
       "      <td>-4.60517</td>\n",
       "      <td>20</td>\n",
       "      <td>3</td>\n",
       "      <td>16</td>\n",
       "      <td>8</td>\n",
       "      <td>600.00</td>\n",
       "      <td>0</td>\n",
       "      <td>0</td>\n",
       "      <td>0</td>\n",
       "      <td>0</td>\n",
       "      <td>0</td>\n",
       "      <td>0</td>\n",
       "      <td>0</td>\n",
       "      <td>0</td>\n",
       "      <td>0</td>\n",
       "      <td>0</td>\n",
       "      <td>0</td>\n",
       "      <td>1</td>\n",
       "      <td>0</td>\n",
       "      <td>0</td>\n",
       "      <td>1</td>\n",
       "      <td>0</td>\n",
       "      <td>0</td>\n",
       "      <td>0</td>\n",
       "      <td>0</td>\n",
       "      <td>0</td>\n",
       "      <td>0</td>\n",
       "      <td>0</td>\n",
       "      <td>0</td>\n",
       "    </tr>\n",
       "  </tbody>\n",
       "</table>\n",
       "<p>275 rows × 30 columns</p>\n",
       "</div>"
      ],
      "text/plain": [
       "      staff_pick  usd_pledged  Launch_Period  Created_to_Launch  \\\n",
       "0              0     -4.60517             30                  1   \n",
       "24             0     -4.60517             28                  6   \n",
       "45             0     -4.60517             14                249   \n",
       "50             0     -4.60517             30                 87   \n",
       "70             0     -4.60517             60                 72   \n",
       "...          ...          ...            ...                ...   \n",
       "3553           0     -4.60517             30                  1   \n",
       "3569           0     -4.60517             60                 13   \n",
       "3636           0     -4.60517             30                  6   \n",
       "3642           0     -4.60517             21                  2   \n",
       "3662           0     -4.60517             20                  3   \n",
       "\n",
       "      blurb_words_count  name_words_count   usd_goal  1  2  3  4  5  6  7  8  \\\n",
       "0                    21                 5    1000.00  0  0  0  0  0  1  0  0   \n",
       "24                   19                 2   13000.00  0  0  0  0  0  0  0  1   \n",
       "45                   26                 4  129780.00  0  0  0  0  0  0  1  0   \n",
       "50                   21                 8    3000.00  0  0  0  0  0  0  1  0   \n",
       "70                   18                 4   35000.00  0  0  0  0  0  0  0  0   \n",
       "...                 ...               ...        ... .. .. .. .. .. .. .. ..   \n",
       "3553                 18                 2   35000.00  0  0  0  0  0  0  0  0   \n",
       "3569                  7                 6   25000.00  0  0  0  0  1  0  0  0   \n",
       "3636                 14                 6    7443.61  0  0  0  0  1  0  0  0   \n",
       "3642                 23                 4   22462.64  0  0  0  0  1  0  0  0   \n",
       "3662                 16                 8     600.00  0  0  0  0  0  0  0  0   \n",
       "\n",
       "      9  10  11  12  crafts  dance  design  fashion  film%20&%20video  food  \\\n",
       "0     0   0   0   0       0      0       0        0                 0     1   \n",
       "24    0   0   0   0       0      0       0        0                 0     1   \n",
       "45    0   0   0   0       0      0       0        0                 0     1   \n",
       "50    0   0   0   0       0      0       0        0                 0     0   \n",
       "70    1   0   0   0       0      0       0        0                 0     1   \n",
       "...  ..  ..  ..  ..     ...    ...     ...      ...               ...   ...   \n",
       "3553  1   0   0   0       1      0       0        0                 0     0   \n",
       "3569  0   0   0   0       1      0       0        0                 0     0   \n",
       "3636  0   0   0   0       0      1       0        0                 0     0   \n",
       "3642  0   0   0   0       0      0       1        0                 0     0   \n",
       "3662  0   0   0   1       0      0       1        0                 0     0   \n",
       "\n",
       "      games  journalism  music  publishing  technology  \n",
       "0         0           0      0           0           0  \n",
       "24        0           0      0           0           0  \n",
       "45        0           0      0           0           0  \n",
       "50        0           1      0           0           0  \n",
       "70        0           0      0           0           0  \n",
       "...     ...         ...    ...         ...         ...  \n",
       "3553      0           0      0           0           0  \n",
       "3569      0           0      0           0           0  \n",
       "3636      0           0      0           0           0  \n",
       "3642      0           0      0           0           0  \n",
       "3662      0           0      0           0           0  \n",
       "\n",
       "[275 rows x 30 columns]"
      ]
     },
     "execution_count": 747,
     "metadata": {},
     "output_type": "execute_result"
    }
   ],
   "source": [
    "data_predict_pledging_amount[data_predict_pledging_amount['usd_pledged']<-2.5]\n"
   ]
  },
  {
   "cell_type": "code",
   "execution_count": 748,
   "id": "honey-duration",
   "metadata": {},
   "outputs": [],
   "source": [
    "data_predict_pledging_amount = data_predict_pledging_amount[data_predict_pledging_amount['usd_pledged']>-2.5]"
   ]
  },
  {
   "cell_type": "code",
   "execution_count": 749,
   "id": "executed-activity",
   "metadata": {},
   "outputs": [
    {
     "data": {
      "text/plain": [
       "<seaborn.axisgrid.FacetGrid at 0x150fc553670>"
      ]
     },
     "execution_count": 749,
     "metadata": {},
     "output_type": "execute_result"
    },
    {
     "data": {
      "image/png": "[encoded data removed]",
      "text/plain": [
       "<Figure size 360x360 with 1 Axes>"
      ]
     },
     "metadata": {
      "needs_background": "light"
     },
     "output_type": "display_data"
    }
   ],
   "source": [
    "sns.displot(data = data_predict_pledging_amount, x = 'usd_pledged')"
   ]
  },
  {
   "cell_type": "code",
   "execution_count": 750,
   "id": "loaded-hometown",
   "metadata": {},
   "outputs": [
    {
     "ename": "ValueError",
     "evalue": "x and y must be the same size",
     "output_type": "error",
     "traceback": [
      "\u001b[1;31m---------------------------------------------------------------------------\u001b[0m",
      "\u001b[1;31mValueError\u001b[0m                                Traceback (most recent call last)",
      "\u001b[1;32m<ipython-input-750-33bf1a2d3187>\u001b[0m in \u001b[0;36m<module>\u001b[1;34m\u001b[0m\n\u001b[0;32m      1\u001b[0m \u001b[0mf\u001b[0m\u001b[1;33m,\u001b[0m \u001b[1;33m(\u001b[0m\u001b[0max1\u001b[0m\u001b[1;33m,\u001b[0m \u001b[0max2\u001b[0m\u001b[1;33m,\u001b[0m \u001b[0max3\u001b[0m\u001b[1;33m)\u001b[0m \u001b[1;33m=\u001b[0m \u001b[0mplt\u001b[0m\u001b[1;33m.\u001b[0m\u001b[0msubplots\u001b[0m\u001b[1;33m(\u001b[0m\u001b[1;36m1\u001b[0m\u001b[1;33m,\u001b[0m \u001b[1;36m3\u001b[0m\u001b[1;33m,\u001b[0m \u001b[0msharey\u001b[0m\u001b[1;33m=\u001b[0m\u001b[1;32mTrue\u001b[0m\u001b[1;33m,\u001b[0m \u001b[0mfigsize\u001b[0m \u001b[1;33m=\u001b[0m\u001b[1;33m(\u001b[0m\u001b[1;36m15\u001b[0m\u001b[1;33m,\u001b[0m\u001b[1;36m3\u001b[0m\u001b[1;33m)\u001b[0m\u001b[1;33m)\u001b[0m \u001b[1;31m#sharey -> share 'Price' as y\u001b[0m\u001b[1;33m\u001b[0m\u001b[1;33m\u001b[0m\u001b[0m\n\u001b[1;32m----> 2\u001b[1;33m \u001b[0max1\u001b[0m\u001b[1;33m.\u001b[0m\u001b[0mscatter\u001b[0m\u001b[1;33m(\u001b[0m\u001b[0mdata_cleaned\u001b[0m\u001b[1;33m[\u001b[0m\u001b[1;34m'Launch_Period'\u001b[0m\u001b[1;33m]\u001b[0m\u001b[1;33m,\u001b[0m\u001b[0mdata_predict_pledging_amount\u001b[0m\u001b[1;33m[\u001b[0m\u001b[1;34m'usd_pledged'\u001b[0m\u001b[1;33m]\u001b[0m\u001b[1;33m)\u001b[0m\u001b[1;33m\u001b[0m\u001b[1;33m\u001b[0m\u001b[0m\n\u001b[0m\u001b[0;32m      3\u001b[0m \u001b[0max1\u001b[0m\u001b[1;33m.\u001b[0m\u001b[0mset_title\u001b[0m\u001b[1;33m(\u001b[0m\u001b[1;34m'usd_pledged & Launch_Period'\u001b[0m\u001b[1;33m)\u001b[0m\u001b[1;33m\u001b[0m\u001b[1;33m\u001b[0m\u001b[0m\n\u001b[0;32m      4\u001b[0m \u001b[0max2\u001b[0m\u001b[1;33m.\u001b[0m\u001b[0mscatter\u001b[0m\u001b[1;33m(\u001b[0m\u001b[0mdata_cleaned\u001b[0m\u001b[1;33m[\u001b[0m\u001b[1;34m'name_words_count'\u001b[0m\u001b[1;33m]\u001b[0m\u001b[1;33m,\u001b[0m\u001b[0mdata_predict_pledging_amount\u001b[0m\u001b[1;33m[\u001b[0m\u001b[1;34m'usd_pledged'\u001b[0m\u001b[1;33m]\u001b[0m\u001b[1;33m)\u001b[0m\u001b[1;33m\u001b[0m\u001b[1;33m\u001b[0m\u001b[0m\n\u001b[0;32m      5\u001b[0m \u001b[0max2\u001b[0m\u001b[1;33m.\u001b[0m\u001b[0mset_title\u001b[0m\u001b[1;33m(\u001b[0m\u001b[1;34m'usd_pledged & name_words_count'\u001b[0m\u001b[1;33m)\u001b[0m\u001b[1;33m\u001b[0m\u001b[1;33m\u001b[0m\u001b[0m\n",
      "\u001b[1;32mc:\\users\\grace\\appdata\\local\\programs\\python\\python38\\lib\\site-packages\\matplotlib\\__init__.py\u001b[0m in \u001b[0;36minner\u001b[1;34m(ax, data, *args, **kwargs)\u001b[0m\n\u001b[0;32m   1436\u001b[0m     \u001b[1;32mdef\u001b[0m \u001b[0minner\u001b[0m\u001b[1;33m(\u001b[0m\u001b[0max\u001b[0m\u001b[1;33m,\u001b[0m \u001b[1;33m*\u001b[0m\u001b[0margs\u001b[0m\u001b[1;33m,\u001b[0m \u001b[0mdata\u001b[0m\u001b[1;33m=\u001b[0m\u001b[1;32mNone\u001b[0m\u001b[1;33m,\u001b[0m \u001b[1;33m**\u001b[0m\u001b[0mkwargs\u001b[0m\u001b[1;33m)\u001b[0m\u001b[1;33m:\u001b[0m\u001b[1;33m\u001b[0m\u001b[1;33m\u001b[0m\u001b[0m\n\u001b[0;32m   1437\u001b[0m         \u001b[1;32mif\u001b[0m \u001b[0mdata\u001b[0m \u001b[1;32mis\u001b[0m \u001b[1;32mNone\u001b[0m\u001b[1;33m:\u001b[0m\u001b[1;33m\u001b[0m\u001b[1;33m\u001b[0m\u001b[0m\n\u001b[1;32m-> 1438\u001b[1;33m             \u001b[1;32mreturn\u001b[0m \u001b[0mfunc\u001b[0m\u001b[1;33m(\u001b[0m\u001b[0max\u001b[0m\u001b[1;33m,\u001b[0m \u001b[1;33m*\u001b[0m\u001b[0mmap\u001b[0m\u001b[1;33m(\u001b[0m\u001b[0msanitize_sequence\u001b[0m\u001b[1;33m,\u001b[0m \u001b[0margs\u001b[0m\u001b[1;33m)\u001b[0m\u001b[1;33m,\u001b[0m \u001b[1;33m**\u001b[0m\u001b[0mkwargs\u001b[0m\u001b[1;33m)\u001b[0m\u001b[1;33m\u001b[0m\u001b[1;33m\u001b[0m\u001b[0m\n\u001b[0m\u001b[0;32m   1439\u001b[0m \u001b[1;33m\u001b[0m\u001b[0m\n\u001b[0;32m   1440\u001b[0m         \u001b[0mbound\u001b[0m \u001b[1;33m=\u001b[0m \u001b[0mnew_sig\u001b[0m\u001b[1;33m.\u001b[0m\u001b[0mbind\u001b[0m\u001b[1;33m(\u001b[0m\u001b[0max\u001b[0m\u001b[1;33m,\u001b[0m \u001b[1;33m*\u001b[0m\u001b[0margs\u001b[0m\u001b[1;33m,\u001b[0m \u001b[1;33m**\u001b[0m\u001b[0mkwargs\u001b[0m\u001b[1;33m)\u001b[0m\u001b[1;33m\u001b[0m\u001b[1;33m\u001b[0m\u001b[0m\n",
      "\u001b[1;32mc:\\users\\grace\\appdata\\local\\programs\\python\\python38\\lib\\site-packages\\matplotlib\\cbook\\deprecation.py\u001b[0m in \u001b[0;36mwrapper\u001b[1;34m(*inner_args, **inner_kwargs)\u001b[0m\n\u001b[0;32m    409\u001b[0m                          \u001b[1;32melse\u001b[0m \u001b[0mdeprecation_addendum\u001b[0m\u001b[1;33m,\u001b[0m\u001b[1;33m\u001b[0m\u001b[1;33m\u001b[0m\u001b[0m\n\u001b[0;32m    410\u001b[0m                 **kwargs)\n\u001b[1;32m--> 411\u001b[1;33m         \u001b[1;32mreturn\u001b[0m \u001b[0mfunc\u001b[0m\u001b[1;33m(\u001b[0m\u001b[1;33m*\u001b[0m\u001b[0minner_args\u001b[0m\u001b[1;33m,\u001b[0m \u001b[1;33m**\u001b[0m\u001b[0minner_kwargs\u001b[0m\u001b[1;33m)\u001b[0m\u001b[1;33m\u001b[0m\u001b[1;33m\u001b[0m\u001b[0m\n\u001b[0m\u001b[0;32m    412\u001b[0m \u001b[1;33m\u001b[0m\u001b[0m\n\u001b[0;32m    413\u001b[0m     \u001b[1;32mreturn\u001b[0m \u001b[0mwrapper\u001b[0m\u001b[1;33m\u001b[0m\u001b[1;33m\u001b[0m\u001b[0m\n",
      "\u001b[1;32mc:\\users\\grace\\appdata\\local\\programs\\python\\python38\\lib\\site-packages\\matplotlib\\axes\\_axes.py\u001b[0m in \u001b[0;36mscatter\u001b[1;34m(self, x, y, s, c, marker, cmap, norm, vmin, vmax, alpha, linewidths, verts, edgecolors, plotnonfinite, **kwargs)\u001b[0m\n\u001b[0;32m   4439\u001b[0m         \u001b[0my\u001b[0m \u001b[1;33m=\u001b[0m \u001b[0mnp\u001b[0m\u001b[1;33m.\u001b[0m\u001b[0mma\u001b[0m\u001b[1;33m.\u001b[0m\u001b[0mravel\u001b[0m\u001b[1;33m(\u001b[0m\u001b[0my\u001b[0m\u001b[1;33m)\u001b[0m\u001b[1;33m\u001b[0m\u001b[1;33m\u001b[0m\u001b[0m\n\u001b[0;32m   4440\u001b[0m         \u001b[1;32mif\u001b[0m \u001b[0mx\u001b[0m\u001b[1;33m.\u001b[0m\u001b[0msize\u001b[0m \u001b[1;33m!=\u001b[0m \u001b[0my\u001b[0m\u001b[1;33m.\u001b[0m\u001b[0msize\u001b[0m\u001b[1;33m:\u001b[0m\u001b[1;33m\u001b[0m\u001b[1;33m\u001b[0m\u001b[0m\n\u001b[1;32m-> 4441\u001b[1;33m             \u001b[1;32mraise\u001b[0m \u001b[0mValueError\u001b[0m\u001b[1;33m(\u001b[0m\u001b[1;34m\"x and y must be the same size\"\u001b[0m\u001b[1;33m)\u001b[0m\u001b[1;33m\u001b[0m\u001b[1;33m\u001b[0m\u001b[0m\n\u001b[0m\u001b[0;32m   4442\u001b[0m \u001b[1;33m\u001b[0m\u001b[0m\n\u001b[0;32m   4443\u001b[0m         \u001b[1;32mif\u001b[0m \u001b[0ms\u001b[0m \u001b[1;32mis\u001b[0m \u001b[1;32mNone\u001b[0m\u001b[1;33m:\u001b[0m\u001b[1;33m\u001b[0m\u001b[1;33m\u001b[0m\u001b[0m\n",
      "\u001b[1;31mValueError\u001b[0m: x and y must be the same size"
     ]
    },
    {
     "data": {
      "image/png": "[encoded data removed]",
      "text/plain": [
       "<Figure size 1080x216 with 3 Axes>"
      ]
     },
     "metadata": {
      "needs_background": "light"
     },
     "output_type": "display_data"
    }
   ],
   "source": [
    "f, (ax1, ax2, ax3) = plt.subplots(1, 3, sharey=True, figsize =(15,3)) #sharey -> share 'Price' as y\n",
    "ax1.scatter(data_cleaned['Launch_Period'],data_predict_pledging_amount['usd_pledged'])\n",
    "ax1.set_title('usd_pledged & Launch_Period')\n",
    "ax2.scatter(data_cleaned['name_words_count'],data_predict_pledging_amount['usd_pledged'])\n",
    "ax2.set_title('usd_pledged & name_words_count')\n",
    "ax3.scatter(data_cleaned['usd_goal'],data_predict_pledging_amount['usd_pledged'])\n",
    "ax3.set_title('usd_pledged & usd_goal')\n",
    "\n",
    "\n",
    "plt.show()"
   ]
  },
  {
   "cell_type": "markdown",
   "id": "alone-recommendation",
   "metadata": {},
   "source": [
    "# Predict success and fail"
   ]
  },
  {
   "cell_type": "markdown",
   "id": "hispanic-lease",
   "metadata": {},
   "source": [
    "# Data split and Standardization for distance based models for logistic regression"
   ]
  },
  {
   "cell_type": "code",
   "execution_count": 751,
   "id": "sonic-sunglasses",
   "metadata": {},
   "outputs": [],
   "source": [
    "from sklearn.model_selection import train_test_split\n",
    "X_train,X_test,y_train,y_test=train_test_split(data_predict_success_failed.drop('state',axis=1),data_predict_success_failed['state'],test_size=0.3,random_state=101)"
   ]
  },
  {
   "cell_type": "code",
   "execution_count": 752,
   "id": "noticed-monkey",
   "metadata": {},
   "outputs": [
    {
     "data": {
      "text/html": [
       "<div>\n",
       "<style scoped>\n",
       "    .dataframe tbody tr th:only-of-type {\n",
       "        vertical-align: middle;\n",
       "    }\n",
       "\n",
       "    .dataframe tbody tr th {\n",
       "        vertical-align: top;\n",
       "    }\n",
       "\n",
       "    .dataframe thead th {\n",
       "        text-align: right;\n",
       "    }\n",
       "</style>\n",
       "<table border=\"1\" class=\"dataframe\">\n",
       "  <thead>\n",
       "    <tr style=\"text-align: right;\">\n",
       "      <th></th>\n",
       "      <th>staff_pick</th>\n",
       "      <th>Launch_Period</th>\n",
       "      <th>Created_to_Launch</th>\n",
       "      <th>blurb_words_count</th>\n",
       "      <th>name_words_count</th>\n",
       "      <th>usd_goal</th>\n",
       "      <th>1</th>\n",
       "      <th>2</th>\n",
       "      <th>3</th>\n",
       "      <th>4</th>\n",
       "      <th>5</th>\n",
       "      <th>6</th>\n",
       "      <th>7</th>\n",
       "      <th>8</th>\n",
       "      <th>9</th>\n",
       "      <th>10</th>\n",
       "      <th>11</th>\n",
       "      <th>12</th>\n",
       "      <th>crafts</th>\n",
       "      <th>dance</th>\n",
       "      <th>design</th>\n",
       "      <th>fashion</th>\n",
       "      <th>film%20&amp;%20video</th>\n",
       "      <th>food</th>\n",
       "      <th>games</th>\n",
       "      <th>journalism</th>\n",
       "      <th>music</th>\n",
       "      <th>publishing</th>\n",
       "      <th>technology</th>\n",
       "    </tr>\n",
       "  </thead>\n",
       "  <tbody>\n",
       "    <tr>\n",
       "      <th>781</th>\n",
       "      <td>1</td>\n",
       "      <td>19</td>\n",
       "      <td>2.639057</td>\n",
       "      <td>22</td>\n",
       "      <td>2.302585</td>\n",
       "      <td>6.214608</td>\n",
       "      <td>0</td>\n",
       "      <td>0</td>\n",
       "      <td>1</td>\n",
       "      <td>0</td>\n",
       "      <td>0</td>\n",
       "      <td>0</td>\n",
       "      <td>0</td>\n",
       "      <td>0</td>\n",
       "      <td>0</td>\n",
       "      <td>0</td>\n",
       "      <td>0</td>\n",
       "      <td>0</td>\n",
       "      <td>0</td>\n",
       "      <td>0</td>\n",
       "      <td>0</td>\n",
       "      <td>0</td>\n",
       "      <td>0</td>\n",
       "      <td>0</td>\n",
       "      <td>0</td>\n",
       "      <td>0</td>\n",
       "      <td>0</td>\n",
       "      <td>1</td>\n",
       "      <td>0</td>\n",
       "    </tr>\n",
       "    <tr>\n",
       "      <th>2199</th>\n",
       "      <td>0</td>\n",
       "      <td>30</td>\n",
       "      <td>0.000000</td>\n",
       "      <td>20</td>\n",
       "      <td>0.693147</td>\n",
       "      <td>10.203592</td>\n",
       "      <td>0</td>\n",
       "      <td>0</td>\n",
       "      <td>0</td>\n",
       "      <td>0</td>\n",
       "      <td>0</td>\n",
       "      <td>0</td>\n",
       "      <td>0</td>\n",
       "      <td>0</td>\n",
       "      <td>0</td>\n",
       "      <td>1</td>\n",
       "      <td>0</td>\n",
       "      <td>0</td>\n",
       "      <td>0</td>\n",
       "      <td>0</td>\n",
       "      <td>0</td>\n",
       "      <td>1</td>\n",
       "      <td>0</td>\n",
       "      <td>0</td>\n",
       "      <td>0</td>\n",
       "      <td>0</td>\n",
       "      <td>0</td>\n",
       "      <td>0</td>\n",
       "      <td>0</td>\n",
       "    </tr>\n",
       "    <tr>\n",
       "      <th>1572</th>\n",
       "      <td>0</td>\n",
       "      <td>60</td>\n",
       "      <td>2.397895</td>\n",
       "      <td>22</td>\n",
       "      <td>2.079442</td>\n",
       "      <td>16.118096</td>\n",
       "      <td>0</td>\n",
       "      <td>0</td>\n",
       "      <td>1</td>\n",
       "      <td>0</td>\n",
       "      <td>0</td>\n",
       "      <td>0</td>\n",
       "      <td>0</td>\n",
       "      <td>0</td>\n",
       "      <td>0</td>\n",
       "      <td>0</td>\n",
       "      <td>0</td>\n",
       "      <td>0</td>\n",
       "      <td>0</td>\n",
       "      <td>0</td>\n",
       "      <td>0</td>\n",
       "      <td>0</td>\n",
       "      <td>1</td>\n",
       "      <td>0</td>\n",
       "      <td>0</td>\n",
       "      <td>0</td>\n",
       "      <td>0</td>\n",
       "      <td>0</td>\n",
       "      <td>0</td>\n",
       "    </tr>\n",
       "    <tr>\n",
       "      <th>3658</th>\n",
       "      <td>0</td>\n",
       "      <td>24</td>\n",
       "      <td>3.583519</td>\n",
       "      <td>12</td>\n",
       "      <td>1.945910</td>\n",
       "      <td>8.030331</td>\n",
       "      <td>0</td>\n",
       "      <td>0</td>\n",
       "      <td>0</td>\n",
       "      <td>0</td>\n",
       "      <td>1</td>\n",
       "      <td>0</td>\n",
       "      <td>0</td>\n",
       "      <td>0</td>\n",
       "      <td>0</td>\n",
       "      <td>0</td>\n",
       "      <td>0</td>\n",
       "      <td>0</td>\n",
       "      <td>0</td>\n",
       "      <td>0</td>\n",
       "      <td>1</td>\n",
       "      <td>0</td>\n",
       "      <td>0</td>\n",
       "      <td>0</td>\n",
       "      <td>0</td>\n",
       "      <td>0</td>\n",
       "      <td>0</td>\n",
       "      <td>0</td>\n",
       "      <td>0</td>\n",
       "    </tr>\n",
       "    <tr>\n",
       "      <th>179</th>\n",
       "      <td>0</td>\n",
       "      <td>37</td>\n",
       "      <td>2.995732</td>\n",
       "      <td>16</td>\n",
       "      <td>1.386294</td>\n",
       "      <td>7.608548</td>\n",
       "      <td>0</td>\n",
       "      <td>0</td>\n",
       "      <td>0</td>\n",
       "      <td>0</td>\n",
       "      <td>1</td>\n",
       "      <td>0</td>\n",
       "      <td>0</td>\n",
       "      <td>0</td>\n",
       "      <td>0</td>\n",
       "      <td>0</td>\n",
       "      <td>0</td>\n",
       "      <td>0</td>\n",
       "      <td>0</td>\n",
       "      <td>0</td>\n",
       "      <td>0</td>\n",
       "      <td>0</td>\n",
       "      <td>0</td>\n",
       "      <td>0</td>\n",
       "      <td>1</td>\n",
       "      <td>0</td>\n",
       "      <td>0</td>\n",
       "      <td>0</td>\n",
       "      <td>0</td>\n",
       "    </tr>\n",
       "    <tr>\n",
       "      <th>...</th>\n",
       "      <td>...</td>\n",
       "      <td>...</td>\n",
       "      <td>...</td>\n",
       "      <td>...</td>\n",
       "      <td>...</td>\n",
       "      <td>...</td>\n",
       "      <td>...</td>\n",
       "      <td>...</td>\n",
       "      <td>...</td>\n",
       "      <td>...</td>\n",
       "      <td>...</td>\n",
       "      <td>...</td>\n",
       "      <td>...</td>\n",
       "      <td>...</td>\n",
       "      <td>...</td>\n",
       "      <td>...</td>\n",
       "      <td>...</td>\n",
       "      <td>...</td>\n",
       "      <td>...</td>\n",
       "      <td>...</td>\n",
       "      <td>...</td>\n",
       "      <td>...</td>\n",
       "      <td>...</td>\n",
       "      <td>...</td>\n",
       "      <td>...</td>\n",
       "      <td>...</td>\n",
       "      <td>...</td>\n",
       "      <td>...</td>\n",
       "      <td>...</td>\n",
       "    </tr>\n",
       "    <tr>\n",
       "      <th>623</th>\n",
       "      <td>0</td>\n",
       "      <td>30</td>\n",
       "      <td>2.197225</td>\n",
       "      <td>23</td>\n",
       "      <td>1.386294</td>\n",
       "      <td>6.907755</td>\n",
       "      <td>0</td>\n",
       "      <td>0</td>\n",
       "      <td>1</td>\n",
       "      <td>0</td>\n",
       "      <td>0</td>\n",
       "      <td>0</td>\n",
       "      <td>0</td>\n",
       "      <td>0</td>\n",
       "      <td>0</td>\n",
       "      <td>0</td>\n",
       "      <td>0</td>\n",
       "      <td>0</td>\n",
       "      <td>0</td>\n",
       "      <td>0</td>\n",
       "      <td>0</td>\n",
       "      <td>0</td>\n",
       "      <td>1</td>\n",
       "      <td>0</td>\n",
       "      <td>0</td>\n",
       "      <td>0</td>\n",
       "      <td>0</td>\n",
       "      <td>0</td>\n",
       "      <td>0</td>\n",
       "    </tr>\n",
       "    <tr>\n",
       "      <th>1646</th>\n",
       "      <td>0</td>\n",
       "      <td>31</td>\n",
       "      <td>4.499810</td>\n",
       "      <td>23</td>\n",
       "      <td>1.945910</td>\n",
       "      <td>10.596635</td>\n",
       "      <td>0</td>\n",
       "      <td>0</td>\n",
       "      <td>0</td>\n",
       "      <td>0</td>\n",
       "      <td>1</td>\n",
       "      <td>0</td>\n",
       "      <td>0</td>\n",
       "      <td>0</td>\n",
       "      <td>0</td>\n",
       "      <td>0</td>\n",
       "      <td>0</td>\n",
       "      <td>0</td>\n",
       "      <td>0</td>\n",
       "      <td>0</td>\n",
       "      <td>0</td>\n",
       "      <td>0</td>\n",
       "      <td>0</td>\n",
       "      <td>0</td>\n",
       "      <td>0</td>\n",
       "      <td>0</td>\n",
       "      <td>1</td>\n",
       "      <td>0</td>\n",
       "      <td>0</td>\n",
       "    </tr>\n",
       "    <tr>\n",
       "      <th>1406</th>\n",
       "      <td>1</td>\n",
       "      <td>34</td>\n",
       "      <td>3.367296</td>\n",
       "      <td>24</td>\n",
       "      <td>2.397895</td>\n",
       "      <td>9.210340</td>\n",
       "      <td>1</td>\n",
       "      <td>0</td>\n",
       "      <td>0</td>\n",
       "      <td>0</td>\n",
       "      <td>0</td>\n",
       "      <td>0</td>\n",
       "      <td>0</td>\n",
       "      <td>0</td>\n",
       "      <td>0</td>\n",
       "      <td>0</td>\n",
       "      <td>0</td>\n",
       "      <td>0</td>\n",
       "      <td>0</td>\n",
       "      <td>0</td>\n",
       "      <td>0</td>\n",
       "      <td>0</td>\n",
       "      <td>1</td>\n",
       "      <td>0</td>\n",
       "      <td>0</td>\n",
       "      <td>0</td>\n",
       "      <td>0</td>\n",
       "      <td>0</td>\n",
       "      <td>0</td>\n",
       "    </tr>\n",
       "    <tr>\n",
       "      <th>1594</th>\n",
       "      <td>0</td>\n",
       "      <td>45</td>\n",
       "      <td>1.098612</td>\n",
       "      <td>15</td>\n",
       "      <td>1.098612</td>\n",
       "      <td>9.210340</td>\n",
       "      <td>1</td>\n",
       "      <td>0</td>\n",
       "      <td>0</td>\n",
       "      <td>0</td>\n",
       "      <td>0</td>\n",
       "      <td>0</td>\n",
       "      <td>0</td>\n",
       "      <td>0</td>\n",
       "      <td>0</td>\n",
       "      <td>0</td>\n",
       "      <td>0</td>\n",
       "      <td>0</td>\n",
       "      <td>0</td>\n",
       "      <td>0</td>\n",
       "      <td>0</td>\n",
       "      <td>0</td>\n",
       "      <td>0</td>\n",
       "      <td>1</td>\n",
       "      <td>0</td>\n",
       "      <td>0</td>\n",
       "      <td>0</td>\n",
       "      <td>0</td>\n",
       "      <td>0</td>\n",
       "    </tr>\n",
       "    <tr>\n",
       "      <th>897</th>\n",
       "      <td>0</td>\n",
       "      <td>30</td>\n",
       "      <td>3.258097</td>\n",
       "      <td>19</td>\n",
       "      <td>1.098612</td>\n",
       "      <td>11.002100</td>\n",
       "      <td>0</td>\n",
       "      <td>0</td>\n",
       "      <td>0</td>\n",
       "      <td>0</td>\n",
       "      <td>0</td>\n",
       "      <td>1</td>\n",
       "      <td>0</td>\n",
       "      <td>0</td>\n",
       "      <td>0</td>\n",
       "      <td>0</td>\n",
       "      <td>0</td>\n",
       "      <td>0</td>\n",
       "      <td>0</td>\n",
       "      <td>0</td>\n",
       "      <td>0</td>\n",
       "      <td>0</td>\n",
       "      <td>0</td>\n",
       "      <td>0</td>\n",
       "      <td>0</td>\n",
       "      <td>0</td>\n",
       "      <td>0</td>\n",
       "      <td>1</td>\n",
       "      <td>0</td>\n",
       "    </tr>\n",
       "  </tbody>\n",
       "</table>\n",
       "<p>2504 rows × 29 columns</p>\n",
       "</div>"
      ],
      "text/plain": [
       "      staff_pick  Launch_Period  Created_to_Launch  blurb_words_count  \\\n",
       "781            1             19           2.639057                 22   \n",
       "2199           0             30           0.000000                 20   \n",
       "1572           0             60           2.397895                 22   \n",
       "3658           0             24           3.583519                 12   \n",
       "179            0             37           2.995732                 16   \n",
       "...          ...            ...                ...                ...   \n",
       "623            0             30           2.197225                 23   \n",
       "1646           0             31           4.499810                 23   \n",
       "1406           1             34           3.367296                 24   \n",
       "1594           0             45           1.098612                 15   \n",
       "897            0             30           3.258097                 19   \n",
       "\n",
       "      name_words_count   usd_goal  1  2  3  4  5  6  7  8  9  10  11  12  \\\n",
       "781           2.302585   6.214608  0  0  1  0  0  0  0  0  0   0   0   0   \n",
       "2199          0.693147  10.203592  0  0  0  0  0  0  0  0  0   1   0   0   \n",
       "1572          2.079442  16.118096  0  0  1  0  0  0  0  0  0   0   0   0   \n",
       "3658          1.945910   8.030331  0  0  0  0  1  0  0  0  0   0   0   0   \n",
       "179           1.386294   7.608548  0  0  0  0  1  0  0  0  0   0   0   0   \n",
       "...                ...        ... .. .. .. .. .. .. .. .. ..  ..  ..  ..   \n",
       "623           1.386294   6.907755  0  0  1  0  0  0  0  0  0   0   0   0   \n",
       "1646          1.945910  10.596635  0  0  0  0  1  0  0  0  0   0   0   0   \n",
       "1406          2.397895   9.210340  1  0  0  0  0  0  0  0  0   0   0   0   \n",
       "1594          1.098612   9.210340  1  0  0  0  0  0  0  0  0   0   0   0   \n",
       "897           1.098612  11.002100  0  0  0  0  0  1  0  0  0   0   0   0   \n",
       "\n",
       "      crafts  dance  design  fashion  film%20&%20video  food  games  \\\n",
       "781        0      0       0        0                 0     0      0   \n",
       "2199       0      0       0        1                 0     0      0   \n",
       "1572       0      0       0        0                 1     0      0   \n",
       "3658       0      0       1        0                 0     0      0   \n",
       "179        0      0       0        0                 0     0      1   \n",
       "...      ...    ...     ...      ...               ...   ...    ...   \n",
       "623        0      0       0        0                 1     0      0   \n",
       "1646       0      0       0        0                 0     0      0   \n",
       "1406       0      0       0        0                 1     0      0   \n",
       "1594       0      0       0        0                 0     1      0   \n",
       "897        0      0       0        0                 0     0      0   \n",
       "\n",
       "      journalism  music  publishing  technology  \n",
       "781            0      0           1           0  \n",
       "2199           0      0           0           0  \n",
       "1572           0      0           0           0  \n",
       "3658           0      0           0           0  \n",
       "179            0      0           0           0  \n",
       "...          ...    ...         ...         ...  \n",
       "623            0      0           0           0  \n",
       "1646           0      1           0           0  \n",
       "1406           0      0           0           0  \n",
       "1594           0      0           0           0  \n",
       "897            0      0           1           0  \n",
       "\n",
       "[2504 rows x 29 columns]"
      ]
     },
     "execution_count": 752,
     "metadata": {},
     "output_type": "execute_result"
    }
   ],
   "source": [
    "X_train"
   ]
  },
  {
   "cell_type": "code",
   "execution_count": 753,
   "id": "liable-ancient",
   "metadata": {},
   "outputs": [],
   "source": [
    "from sklearn.preprocessing import StandardScaler"
   ]
  },
  {
   "cell_type": "code",
   "execution_count": 754,
   "id": "surface-damages",
   "metadata": {},
   "outputs": [],
   "source": [
    "X_train_scaled_features=StandardScaler().fit_transform(X_train.values)\n",
    "X_test_scaled_features=StandardScaler().fit_transform(X_test.values)"
   ]
  },
  {
   "cell_type": "code",
   "execution_count": 755,
   "id": "active-probe",
   "metadata": {},
   "outputs": [],
   "source": [
    "#dataframe\n",
    "X_train_scaled_features_df=pd.DataFrame(X_train_scaled_features, index=X_train.index,columns=X_train.columns)\n",
    "X_test_scaled_features_df=pd.DataFrame(X_test_scaled_features, index=X_test.index,columns=X_test.columns)"
   ]
  },
  {
   "cell_type": "markdown",
   "id": "amateur-natural",
   "metadata": {},
   "source": [
    "# Logistic regression"
   ]
  },
  {
   "cell_type": "code",
   "execution_count": 756,
   "id": "curious-quality",
   "metadata": {},
   "outputs": [],
   "source": [
    "from sklearn.linear_model import LogisticRegression"
   ]
  },
  {
   "cell_type": "code",
   "execution_count": 757,
   "id": "loaded-engineering",
   "metadata": {},
   "outputs": [
    {
     "data": {
      "text/plain": [
       "LogisticRegression()"
      ]
     },
     "execution_count": 757,
     "metadata": {},
     "output_type": "execute_result"
    }
   ],
   "source": [
    "logmodel=LogisticRegression()\n",
    "logmodel.fit(X_train_scaled_features,y_train)"
   ]
  },
  {
   "cell_type": "markdown",
   "id": "upset-prisoner",
   "metadata": {},
   "source": [
    "### test"
   ]
  },
  {
   "cell_type": "code",
   "execution_count": 758,
   "id": "fixed-recovery",
   "metadata": {},
   "outputs": [],
   "source": [
    "predictions=logmodel.predict(X_test_scaled_features)"
   ]
  },
  {
   "cell_type": "code",
   "execution_count": 759,
   "id": "outer-burning",
   "metadata": {},
   "outputs": [
    {
     "data": {
      "text/plain": [
       "array([1, 1, 1, ..., 1, 0, 0], dtype=int64)"
      ]
     },
     "execution_count": 759,
     "metadata": {},
     "output_type": "execute_result"
    }
   ],
   "source": [
    "predictions"
   ]
  },
  {
   "cell_type": "code",
   "execution_count": 760,
   "id": "regional-doctrine",
   "metadata": {},
   "outputs": [
    {
     "data": {
      "text/html": [
       "<div>\n",
       "<style scoped>\n",
       "    .dataframe tbody tr th:only-of-type {\n",
       "        vertical-align: middle;\n",
       "    }\n",
       "\n",
       "    .dataframe tbody tr th {\n",
       "        vertical-align: top;\n",
       "    }\n",
       "\n",
       "    .dataframe thead th {\n",
       "        text-align: right;\n",
       "    }\n",
       "</style>\n",
       "<table border=\"1\" class=\"dataframe\">\n",
       "  <thead>\n",
       "    <tr style=\"text-align: right;\">\n",
       "      <th></th>\n",
       "      <th>staff_pick</th>\n",
       "      <th>state</th>\n",
       "      <th>Launch_Period</th>\n",
       "      <th>Created_to_Launch</th>\n",
       "      <th>blurb_words_count</th>\n",
       "      <th>name_words_count</th>\n",
       "      <th>usd_goal</th>\n",
       "      <th>1</th>\n",
       "      <th>2</th>\n",
       "      <th>3</th>\n",
       "      <th>4</th>\n",
       "      <th>5</th>\n",
       "      <th>6</th>\n",
       "      <th>7</th>\n",
       "      <th>8</th>\n",
       "      <th>9</th>\n",
       "      <th>10</th>\n",
       "      <th>11</th>\n",
       "      <th>12</th>\n",
       "      <th>crafts</th>\n",
       "      <th>dance</th>\n",
       "      <th>design</th>\n",
       "      <th>fashion</th>\n",
       "      <th>film%20&amp;%20video</th>\n",
       "      <th>food</th>\n",
       "      <th>games</th>\n",
       "      <th>journalism</th>\n",
       "      <th>music</th>\n",
       "      <th>publishing</th>\n",
       "      <th>technology</th>\n",
       "    </tr>\n",
       "  </thead>\n",
       "  <tbody>\n",
       "    <tr>\n",
       "      <th>0</th>\n",
       "      <td>0</td>\n",
       "      <td>0</td>\n",
       "      <td>30</td>\n",
       "      <td>0.000000</td>\n",
       "      <td>21</td>\n",
       "      <td>1.609438</td>\n",
       "      <td>6.907755</td>\n",
       "      <td>0</td>\n",
       "      <td>0</td>\n",
       "      <td>0</td>\n",
       "      <td>0</td>\n",
       "      <td>0</td>\n",
       "      <td>1</td>\n",
       "      <td>0</td>\n",
       "      <td>0</td>\n",
       "      <td>0</td>\n",
       "      <td>0</td>\n",
       "      <td>0</td>\n",
       "      <td>0</td>\n",
       "      <td>0</td>\n",
       "      <td>0</td>\n",
       "      <td>0</td>\n",
       "      <td>0</td>\n",
       "      <td>0</td>\n",
       "      <td>1</td>\n",
       "      <td>0</td>\n",
       "      <td>0</td>\n",
       "      <td>0</td>\n",
       "      <td>0</td>\n",
       "      <td>0</td>\n",
       "    </tr>\n",
       "    <tr>\n",
       "      <th>1</th>\n",
       "      <td>0</td>\n",
       "      <td>1</td>\n",
       "      <td>30</td>\n",
       "      <td>2.708050</td>\n",
       "      <td>13</td>\n",
       "      <td>2.302585</td>\n",
       "      <td>7.083539</td>\n",
       "      <td>0</td>\n",
       "      <td>0</td>\n",
       "      <td>0</td>\n",
       "      <td>0</td>\n",
       "      <td>0</td>\n",
       "      <td>0</td>\n",
       "      <td>0</td>\n",
       "      <td>0</td>\n",
       "      <td>0</td>\n",
       "      <td>0</td>\n",
       "      <td>1</td>\n",
       "      <td>0</td>\n",
       "      <td>0</td>\n",
       "      <td>0</td>\n",
       "      <td>0</td>\n",
       "      <td>0</td>\n",
       "      <td>0</td>\n",
       "      <td>0</td>\n",
       "      <td>1</td>\n",
       "      <td>0</td>\n",
       "      <td>0</td>\n",
       "      <td>0</td>\n",
       "      <td>0</td>\n",
       "    </tr>\n",
       "    <tr>\n",
       "      <th>2</th>\n",
       "      <td>0</td>\n",
       "      <td>0</td>\n",
       "      <td>20</td>\n",
       "      <td>2.484907</td>\n",
       "      <td>23</td>\n",
       "      <td>0.693147</td>\n",
       "      <td>6.464355</td>\n",
       "      <td>0</td>\n",
       "      <td>0</td>\n",
       "      <td>0</td>\n",
       "      <td>1</td>\n",
       "      <td>0</td>\n",
       "      <td>0</td>\n",
       "      <td>0</td>\n",
       "      <td>0</td>\n",
       "      <td>0</td>\n",
       "      <td>0</td>\n",
       "      <td>0</td>\n",
       "      <td>0</td>\n",
       "      <td>0</td>\n",
       "      <td>0</td>\n",
       "      <td>0</td>\n",
       "      <td>0</td>\n",
       "      <td>0</td>\n",
       "      <td>0</td>\n",
       "      <td>1</td>\n",
       "      <td>0</td>\n",
       "      <td>0</td>\n",
       "      <td>0</td>\n",
       "      <td>0</td>\n",
       "    </tr>\n",
       "    <tr>\n",
       "      <th>3</th>\n",
       "      <td>0</td>\n",
       "      <td>1</td>\n",
       "      <td>53</td>\n",
       "      <td>2.079442</td>\n",
       "      <td>24</td>\n",
       "      <td>2.197225</td>\n",
       "      <td>8.517193</td>\n",
       "      <td>0</td>\n",
       "      <td>0</td>\n",
       "      <td>0</td>\n",
       "      <td>0</td>\n",
       "      <td>0</td>\n",
       "      <td>0</td>\n",
       "      <td>0</td>\n",
       "      <td>0</td>\n",
       "      <td>0</td>\n",
       "      <td>0</td>\n",
       "      <td>1</td>\n",
       "      <td>0</td>\n",
       "      <td>0</td>\n",
       "      <td>0</td>\n",
       "      <td>0</td>\n",
       "      <td>0</td>\n",
       "      <td>0</td>\n",
       "      <td>0</td>\n",
       "      <td>1</td>\n",
       "      <td>0</td>\n",
       "      <td>0</td>\n",
       "      <td>0</td>\n",
       "      <td>0</td>\n",
       "    </tr>\n",
       "    <tr>\n",
       "      <th>4</th>\n",
       "      <td>0</td>\n",
       "      <td>1</td>\n",
       "      <td>29</td>\n",
       "      <td>4.290459</td>\n",
       "      <td>19</td>\n",
       "      <td>1.791759</td>\n",
       "      <td>9.210340</td>\n",
       "      <td>0</td>\n",
       "      <td>0</td>\n",
       "      <td>0</td>\n",
       "      <td>0</td>\n",
       "      <td>0</td>\n",
       "      <td>0</td>\n",
       "      <td>0</td>\n",
       "      <td>0</td>\n",
       "      <td>0</td>\n",
       "      <td>1</td>\n",
       "      <td>0</td>\n",
       "      <td>0</td>\n",
       "      <td>0</td>\n",
       "      <td>0</td>\n",
       "      <td>0</td>\n",
       "      <td>0</td>\n",
       "      <td>0</td>\n",
       "      <td>1</td>\n",
       "      <td>0</td>\n",
       "      <td>0</td>\n",
       "      <td>0</td>\n",
       "      <td>0</td>\n",
       "      <td>0</td>\n",
       "    </tr>\n",
       "    <tr>\n",
       "      <th>...</th>\n",
       "      <td>...</td>\n",
       "      <td>...</td>\n",
       "      <td>...</td>\n",
       "      <td>...</td>\n",
       "      <td>...</td>\n",
       "      <td>...</td>\n",
       "      <td>...</td>\n",
       "      <td>...</td>\n",
       "      <td>...</td>\n",
       "      <td>...</td>\n",
       "      <td>...</td>\n",
       "      <td>...</td>\n",
       "      <td>...</td>\n",
       "      <td>...</td>\n",
       "      <td>...</td>\n",
       "      <td>...</td>\n",
       "      <td>...</td>\n",
       "      <td>...</td>\n",
       "      <td>...</td>\n",
       "      <td>...</td>\n",
       "      <td>...</td>\n",
       "      <td>...</td>\n",
       "      <td>...</td>\n",
       "      <td>...</td>\n",
       "      <td>...</td>\n",
       "      <td>...</td>\n",
       "      <td>...</td>\n",
       "      <td>...</td>\n",
       "      <td>...</td>\n",
       "      <td>...</td>\n",
       "    </tr>\n",
       "    <tr>\n",
       "      <th>3663</th>\n",
       "      <td>1</td>\n",
       "      <td>1</td>\n",
       "      <td>26</td>\n",
       "      <td>2.397895</td>\n",
       "      <td>15</td>\n",
       "      <td>1.386294</td>\n",
       "      <td>8.922658</td>\n",
       "      <td>0</td>\n",
       "      <td>0</td>\n",
       "      <td>0</td>\n",
       "      <td>0</td>\n",
       "      <td>0</td>\n",
       "      <td>0</td>\n",
       "      <td>0</td>\n",
       "      <td>0</td>\n",
       "      <td>0</td>\n",
       "      <td>0</td>\n",
       "      <td>1</td>\n",
       "      <td>0</td>\n",
       "      <td>0</td>\n",
       "      <td>0</td>\n",
       "      <td>1</td>\n",
       "      <td>0</td>\n",
       "      <td>0</td>\n",
       "      <td>0</td>\n",
       "      <td>0</td>\n",
       "      <td>0</td>\n",
       "      <td>0</td>\n",
       "      <td>0</td>\n",
       "      <td>0</td>\n",
       "    </tr>\n",
       "    <tr>\n",
       "      <th>3665</th>\n",
       "      <td>0</td>\n",
       "      <td>1</td>\n",
       "      <td>14</td>\n",
       "      <td>5.988961</td>\n",
       "      <td>6</td>\n",
       "      <td>1.609438</td>\n",
       "      <td>7.699688</td>\n",
       "      <td>0</td>\n",
       "      <td>0</td>\n",
       "      <td>0</td>\n",
       "      <td>0</td>\n",
       "      <td>0</td>\n",
       "      <td>1</td>\n",
       "      <td>0</td>\n",
       "      <td>0</td>\n",
       "      <td>0</td>\n",
       "      <td>0</td>\n",
       "      <td>0</td>\n",
       "      <td>0</td>\n",
       "      <td>0</td>\n",
       "      <td>0</td>\n",
       "      <td>1</td>\n",
       "      <td>0</td>\n",
       "      <td>0</td>\n",
       "      <td>0</td>\n",
       "      <td>0</td>\n",
       "      <td>0</td>\n",
       "      <td>0</td>\n",
       "      <td>0</td>\n",
       "      <td>0</td>\n",
       "    </tr>\n",
       "    <tr>\n",
       "      <th>3666</th>\n",
       "      <td>1</td>\n",
       "      <td>1</td>\n",
       "      <td>22</td>\n",
       "      <td>2.564949</td>\n",
       "      <td>8</td>\n",
       "      <td>1.386294</td>\n",
       "      <td>8.517193</td>\n",
       "      <td>0</td>\n",
       "      <td>0</td>\n",
       "      <td>1</td>\n",
       "      <td>0</td>\n",
       "      <td>0</td>\n",
       "      <td>0</td>\n",
       "      <td>0</td>\n",
       "      <td>0</td>\n",
       "      <td>0</td>\n",
       "      <td>0</td>\n",
       "      <td>0</td>\n",
       "      <td>0</td>\n",
       "      <td>0</td>\n",
       "      <td>0</td>\n",
       "      <td>0</td>\n",
       "      <td>1</td>\n",
       "      <td>0</td>\n",
       "      <td>0</td>\n",
       "      <td>0</td>\n",
       "      <td>0</td>\n",
       "      <td>0</td>\n",
       "      <td>0</td>\n",
       "      <td>0</td>\n",
       "    </tr>\n",
       "    <tr>\n",
       "      <th>3667</th>\n",
       "      <td>0</td>\n",
       "      <td>1</td>\n",
       "      <td>15</td>\n",
       "      <td>3.178054</td>\n",
       "      <td>16</td>\n",
       "      <td>2.197225</td>\n",
       "      <td>7.873537</td>\n",
       "      <td>0</td>\n",
       "      <td>0</td>\n",
       "      <td>0</td>\n",
       "      <td>0</td>\n",
       "      <td>0</td>\n",
       "      <td>0</td>\n",
       "      <td>0</td>\n",
       "      <td>1</td>\n",
       "      <td>0</td>\n",
       "      <td>0</td>\n",
       "      <td>0</td>\n",
       "      <td>0</td>\n",
       "      <td>0</td>\n",
       "      <td>0</td>\n",
       "      <td>1</td>\n",
       "      <td>0</td>\n",
       "      <td>0</td>\n",
       "      <td>0</td>\n",
       "      <td>0</td>\n",
       "      <td>0</td>\n",
       "      <td>0</td>\n",
       "      <td>0</td>\n",
       "      <td>0</td>\n",
       "    </tr>\n",
       "    <tr>\n",
       "      <th>3668</th>\n",
       "      <td>0</td>\n",
       "      <td>1</td>\n",
       "      <td>15</td>\n",
       "      <td>1.609438</td>\n",
       "      <td>17</td>\n",
       "      <td>1.386294</td>\n",
       "      <td>7.972466</td>\n",
       "      <td>0</td>\n",
       "      <td>0</td>\n",
       "      <td>1</td>\n",
       "      <td>0</td>\n",
       "      <td>0</td>\n",
       "      <td>0</td>\n",
       "      <td>0</td>\n",
       "      <td>0</td>\n",
       "      <td>0</td>\n",
       "      <td>0</td>\n",
       "      <td>0</td>\n",
       "      <td>0</td>\n",
       "      <td>0</td>\n",
       "      <td>1</td>\n",
       "      <td>0</td>\n",
       "      <td>0</td>\n",
       "      <td>0</td>\n",
       "      <td>0</td>\n",
       "      <td>0</td>\n",
       "      <td>0</td>\n",
       "      <td>0</td>\n",
       "      <td>0</td>\n",
       "      <td>0</td>\n",
       "    </tr>\n",
       "  </tbody>\n",
       "</table>\n",
       "<p>3578 rows × 30 columns</p>\n",
       "</div>"
      ],
      "text/plain": [
       "      staff_pick  state  Launch_Period  Created_to_Launch  blurb_words_count  \\\n",
       "0              0      0             30           0.000000                 21   \n",
       "1              0      1             30           2.708050                 13   \n",
       "2              0      0             20           2.484907                 23   \n",
       "3              0      1             53           2.079442                 24   \n",
       "4              0      1             29           4.290459                 19   \n",
       "...          ...    ...            ...                ...                ...   \n",
       "3663           1      1             26           2.397895                 15   \n",
       "3665           0      1             14           5.988961                  6   \n",
       "3666           1      1             22           2.564949                  8   \n",
       "3667           0      1             15           3.178054                 16   \n",
       "3668           0      1             15           1.609438                 17   \n",
       "\n",
       "      name_words_count  usd_goal  1  2  3  4  5  6  7  8  9  10  11  12  \\\n",
       "0             1.609438  6.907755  0  0  0  0  0  1  0  0  0   0   0   0   \n",
       "1             2.302585  7.083539  0  0  0  0  0  0  0  0  0   0   1   0   \n",
       "2             0.693147  6.464355  0  0  0  1  0  0  0  0  0   0   0   0   \n",
       "3             2.197225  8.517193  0  0  0  0  0  0  0  0  0   0   1   0   \n",
       "4             1.791759  9.210340  0  0  0  0  0  0  0  0  0   1   0   0   \n",
       "...                ...       ... .. .. .. .. .. .. .. .. ..  ..  ..  ..   \n",
       "3663          1.386294  8.922658  0  0  0  0  0  0  0  0  0   0   1   0   \n",
       "3665          1.609438  7.699688  0  0  0  0  0  1  0  0  0   0   0   0   \n",
       "3666          1.386294  8.517193  0  0  1  0  0  0  0  0  0   0   0   0   \n",
       "3667          2.197225  7.873537  0  0  0  0  0  0  0  1  0   0   0   0   \n",
       "3668          1.386294  7.972466  0  0  1  0  0  0  0  0  0   0   0   0   \n",
       "\n",
       "      crafts  dance  design  fashion  film%20&%20video  food  games  \\\n",
       "0          0      0       0        0                 0     1      0   \n",
       "1          0      0       0        0                 0     0      1   \n",
       "2          0      0       0        0                 0     0      1   \n",
       "3          0      0       0        0                 0     0      1   \n",
       "4          0      0       0        0                 0     1      0   \n",
       "...      ...    ...     ...      ...               ...   ...    ...   \n",
       "3663       0      0       1        0                 0     0      0   \n",
       "3665       0      0       1        0                 0     0      0   \n",
       "3666       0      0       0        1                 0     0      0   \n",
       "3667       0      0       1        0                 0     0      0   \n",
       "3668       0      1       0        0                 0     0      0   \n",
       "\n",
       "      journalism  music  publishing  technology  \n",
       "0              0      0           0           0  \n",
       "1              0      0           0           0  \n",
       "2              0      0           0           0  \n",
       "3              0      0           0           0  \n",
       "4              0      0           0           0  \n",
       "...          ...    ...         ...         ...  \n",
       "3663           0      0           0           0  \n",
       "3665           0      0           0           0  \n",
       "3666           0      0           0           0  \n",
       "3667           0      0           0           0  \n",
       "3668           0      0           0           0  \n",
       "\n",
       "[3578 rows x 30 columns]"
      ]
     },
     "execution_count": 760,
     "metadata": {},
     "output_type": "execute_result"
    }
   ],
   "source": [
    "data={'Predicted':predictions,'Actual':y_test}\n",
    "df=pd.DataFrame(data=data_predict_success_failed)\n",
    "df"
   ]
  },
  {
   "cell_type": "code",
   "execution_count": 761,
   "id": "synthetic-translator",
   "metadata": {},
   "outputs": [
    {
     "data": {
      "text/html": [
       "<style  type=\"text/css\" >\n",
       "#T_e5b063a7_bc45_11eb_b2cc_60f26212e75arow0_col1{\n",
       "            width:  10em;\n",
       "             height:  80%;\n",
       "            background:  linear-gradient(90deg, transparent 50.0%, lightblue 50.0%, lightblue 100.0%, transparent 100.0%);\n",
       "        }#T_e5b063a7_bc45_11eb_b2cc_60f26212e75arow1_col1{\n",
       "            width:  10em;\n",
       "             height:  80%;\n",
       "            background:  linear-gradient(90deg, transparent 50.0%, lightblue 50.0%, lightblue 83.0%, transparent 83.0%);\n",
       "        }#T_e5b063a7_bc45_11eb_b2cc_60f26212e75arow2_col1{\n",
       "            width:  10em;\n",
       "             height:  80%;\n",
       "            background:  linear-gradient(90deg, transparent 50.0%, lightblue 50.0%, lightblue 62.8%, transparent 62.8%);\n",
       "        }#T_e5b063a7_bc45_11eb_b2cc_60f26212e75arow3_col1,#T_e5b063a7_bc45_11eb_b2cc_60f26212e75arow4_col1{\n",
       "            width:  10em;\n",
       "             height:  80%;\n",
       "            background:  linear-gradient(90deg, transparent 50.0%, lightblue 50.0%, lightblue 59.6%, transparent 59.6%);\n",
       "        }#T_e5b063a7_bc45_11eb_b2cc_60f26212e75arow5_col1{\n",
       "            width:  10em;\n",
       "             height:  80%;\n",
       "            background:  linear-gradient(90deg, transparent 50.0%, lightblue 50.0%, lightblue 57.4%, transparent 57.4%);\n",
       "        }#T_e5b063a7_bc45_11eb_b2cc_60f26212e75arow6_col1{\n",
       "            width:  10em;\n",
       "             height:  80%;\n",
       "            background:  linear-gradient(90deg, transparent 50.0%, lightblue 50.0%, lightblue 56.9%, transparent 56.9%);\n",
       "        }#T_e5b063a7_bc45_11eb_b2cc_60f26212e75arow7_col1{\n",
       "            width:  10em;\n",
       "             height:  80%;\n",
       "            background:  linear-gradient(90deg, transparent 50.0%, lightblue 50.0%, lightblue 55.3%, transparent 55.3%);\n",
       "        }#T_e5b063a7_bc45_11eb_b2cc_60f26212e75arow8_col1{\n",
       "            width:  10em;\n",
       "             height:  80%;\n",
       "            background:  linear-gradient(90deg, transparent 50.0%, lightblue 50.0%, lightblue 53.2%, transparent 53.2%);\n",
       "        }#T_e5b063a7_bc45_11eb_b2cc_60f26212e75arow9_col1{\n",
       "            width:  10em;\n",
       "             height:  80%;\n",
       "            background:  linear-gradient(90deg, transparent 50.0%, lightblue 50.0%, lightblue 52.7%, transparent 52.7%);\n",
       "        }#T_e5b063a7_bc45_11eb_b2cc_60f26212e75arow10_col1{\n",
       "            width:  10em;\n",
       "             height:  80%;\n",
       "            background:  linear-gradient(90deg, transparent 50.0%, lightblue 50.0%, lightblue 52.1%, transparent 52.1%);\n",
       "        }#T_e5b063a7_bc45_11eb_b2cc_60f26212e75arow11_col1,#T_e5b063a7_bc45_11eb_b2cc_60f26212e75arow12_col1,#T_e5b063a7_bc45_11eb_b2cc_60f26212e75arow13_col1{\n",
       "            width:  10em;\n",
       "             height:  80%;\n",
       "            background:  linear-gradient(90deg, transparent 50.0%, lightblue 50.0%, lightblue 51.1%, transparent 51.1%);\n",
       "        }#T_e5b063a7_bc45_11eb_b2cc_60f26212e75arow14_col1{\n",
       "            width:  10em;\n",
       "             height:  80%;\n",
       "        }#T_e5b063a7_bc45_11eb_b2cc_60f26212e75arow15_col1{\n",
       "            width:  10em;\n",
       "             height:  80%;\n",
       "            background:  linear-gradient(90deg, transparent 49.5%, grey 49.5%, grey 50.0%, transparent 50.0%);\n",
       "        }#T_e5b063a7_bc45_11eb_b2cc_60f26212e75arow16_col1,#T_e5b063a7_bc45_11eb_b2cc_60f26212e75arow17_col1{\n",
       "            width:  10em;\n",
       "             height:  80%;\n",
       "            background:  linear-gradient(90deg, transparent 48.4%, grey 48.4%, grey 50.0%, transparent 50.0%);\n",
       "        }#T_e5b063a7_bc45_11eb_b2cc_60f26212e75arow18_col1,#T_e5b063a7_bc45_11eb_b2cc_60f26212e75arow19_col1{\n",
       "            width:  10em;\n",
       "             height:  80%;\n",
       "            background:  linear-gradient(90deg, transparent 47.9%, grey 47.9%, grey 50.0%, transparent 50.0%);\n",
       "        }#T_e5b063a7_bc45_11eb_b2cc_60f26212e75arow20_col1{\n",
       "            width:  10em;\n",
       "             height:  80%;\n",
       "            background:  linear-gradient(90deg, transparent 47.3%, grey 47.3%, grey 50.0%, transparent 50.0%);\n",
       "        }#T_e5b063a7_bc45_11eb_b2cc_60f26212e75arow21_col1{\n",
       "            width:  10em;\n",
       "             height:  80%;\n",
       "            background:  linear-gradient(90deg, transparent 46.3%, grey 46.3%, grey 50.0%, transparent 50.0%);\n",
       "        }#T_e5b063a7_bc45_11eb_b2cc_60f26212e75arow22_col1{\n",
       "            width:  10em;\n",
       "             height:  80%;\n",
       "            background:  linear-gradient(90deg, transparent 44.1%, grey 44.1%, grey 50.0%, transparent 50.0%);\n",
       "        }#T_e5b063a7_bc45_11eb_b2cc_60f26212e75arow23_col1{\n",
       "            width:  10em;\n",
       "             height:  80%;\n",
       "            background:  linear-gradient(90deg, transparent 39.9%, grey 39.9%, grey 50.0%, transparent 50.0%);\n",
       "        }#T_e5b063a7_bc45_11eb_b2cc_60f26212e75arow24_col1{\n",
       "            width:  10em;\n",
       "             height:  80%;\n",
       "            background:  linear-gradient(90deg, transparent 38.3%, grey 38.3%, grey 50.0%, transparent 50.0%);\n",
       "        }#T_e5b063a7_bc45_11eb_b2cc_60f26212e75arow25_col1{\n",
       "            width:  10em;\n",
       "             height:  80%;\n",
       "            background:  linear-gradient(90deg, transparent 37.8%, grey 37.8%, grey 50.0%, transparent 50.0%);\n",
       "        }#T_e5b063a7_bc45_11eb_b2cc_60f26212e75arow26_col1{\n",
       "            width:  10em;\n",
       "             height:  80%;\n",
       "            background:  linear-gradient(90deg, transparent 35.6%, grey 35.6%, grey 50.0%, transparent 50.0%);\n",
       "        }#T_e5b063a7_bc45_11eb_b2cc_60f26212e75arow27_col1{\n",
       "            width:  10em;\n",
       "             height:  80%;\n",
       "            background:  linear-gradient(90deg, transparent 34.6%, grey 34.6%, grey 50.0%, transparent 50.0%);\n",
       "        }#T_e5b063a7_bc45_11eb_b2cc_60f26212e75arow28_col1{\n",
       "            width:  10em;\n",
       "             height:  80%;\n",
       "            background:  linear-gradient(90deg, transparent 14.4%, grey 14.4%, grey 50.0%, transparent 50.0%);\n",
       "        }</style><table id=\"T_e5b063a7_bc45_11eb_b2cc_60f26212e75a\" ><thead>    <tr>        <th class=\"blank level0\" ></th>        <th class=\"col_heading level0 col0\" >variable</th>        <th class=\"col_heading level0 col1\" >cofficient</th>    </tr></thead><tbody>\n",
       "                <tr>\n",
       "                        <th id=\"T_e5b063a7_bc45_11eb_b2cc_60f26212e75alevel0_row0\" class=\"row_heading level0 row0\" >0</th>\n",
       "                        <td id=\"T_e5b063a7_bc45_11eb_b2cc_60f26212e75arow0_col0\" class=\"data row0 col0\" >staff_pick</td>\n",
       "                        <td id=\"T_e5b063a7_bc45_11eb_b2cc_60f26212e75arow0_col1\" class=\"data row0 col1\" >0.940000</td>\n",
       "            </tr>\n",
       "            <tr>\n",
       "                        <th id=\"T_e5b063a7_bc45_11eb_b2cc_60f26212e75alevel0_row1\" class=\"row_heading level0 row1\" >2</th>\n",
       "                        <td id=\"T_e5b063a7_bc45_11eb_b2cc_60f26212e75arow1_col0\" class=\"data row1 col0\" >Created_to_Launch</td>\n",
       "                        <td id=\"T_e5b063a7_bc45_11eb_b2cc_60f26212e75arow1_col1\" class=\"data row1 col1\" >0.620000</td>\n",
       "            </tr>\n",
       "            <tr>\n",
       "                        <th id=\"T_e5b063a7_bc45_11eb_b2cc_60f26212e75alevel0_row2\" class=\"row_heading level0 row2\" >26</th>\n",
       "                        <td id=\"T_e5b063a7_bc45_11eb_b2cc_60f26212e75arow2_col0\" class=\"data row2 col0\" >music</td>\n",
       "                        <td id=\"T_e5b063a7_bc45_11eb_b2cc_60f26212e75arow2_col1\" class=\"data row2 col1\" >0.240000</td>\n",
       "            </tr>\n",
       "            <tr>\n",
       "                        <th id=\"T_e5b063a7_bc45_11eb_b2cc_60f26212e75alevel0_row3\" class=\"row_heading level0 row3\" >27</th>\n",
       "                        <td id=\"T_e5b063a7_bc45_11eb_b2cc_60f26212e75arow3_col0\" class=\"data row3 col0\" >publishing</td>\n",
       "                        <td id=\"T_e5b063a7_bc45_11eb_b2cc_60f26212e75arow3_col1\" class=\"data row3 col1\" >0.180000</td>\n",
       "            </tr>\n",
       "            <tr>\n",
       "                        <th id=\"T_e5b063a7_bc45_11eb_b2cc_60f26212e75alevel0_row4\" class=\"row_heading level0 row4\" >4</th>\n",
       "                        <td id=\"T_e5b063a7_bc45_11eb_b2cc_60f26212e75arow4_col0\" class=\"data row4 col0\" >name_words_count</td>\n",
       "                        <td id=\"T_e5b063a7_bc45_11eb_b2cc_60f26212e75arow4_col1\" class=\"data row4 col1\" >0.180000</td>\n",
       "            </tr>\n",
       "            <tr>\n",
       "                        <th id=\"T_e5b063a7_bc45_11eb_b2cc_60f26212e75alevel0_row5\" class=\"row_heading level0 row5\" >19</th>\n",
       "                        <td id=\"T_e5b063a7_bc45_11eb_b2cc_60f26212e75arow5_col0\" class=\"data row5 col0\" >dance</td>\n",
       "                        <td id=\"T_e5b063a7_bc45_11eb_b2cc_60f26212e75arow5_col1\" class=\"data row5 col1\" >0.140000</td>\n",
       "            </tr>\n",
       "            <tr>\n",
       "                        <th id=\"T_e5b063a7_bc45_11eb_b2cc_60f26212e75alevel0_row6\" class=\"row_heading level0 row6\" >22</th>\n",
       "                        <td id=\"T_e5b063a7_bc45_11eb_b2cc_60f26212e75arow6_col0\" class=\"data row6 col0\" >film%20&%20video</td>\n",
       "                        <td id=\"T_e5b063a7_bc45_11eb_b2cc_60f26212e75arow6_col1\" class=\"data row6 col1\" >0.130000</td>\n",
       "            </tr>\n",
       "            <tr>\n",
       "                        <th id=\"T_e5b063a7_bc45_11eb_b2cc_60f26212e75alevel0_row7\" class=\"row_heading level0 row7\" >7</th>\n",
       "                        <td id=\"T_e5b063a7_bc45_11eb_b2cc_60f26212e75arow7_col0\" class=\"data row7 col0\" >2</td>\n",
       "                        <td id=\"T_e5b063a7_bc45_11eb_b2cc_60f26212e75arow7_col1\" class=\"data row7 col1\" >0.100000</td>\n",
       "            </tr>\n",
       "            <tr>\n",
       "                        <th id=\"T_e5b063a7_bc45_11eb_b2cc_60f26212e75alevel0_row8\" class=\"row_heading level0 row8\" >14</th>\n",
       "                        <td id=\"T_e5b063a7_bc45_11eb_b2cc_60f26212e75arow8_col0\" class=\"data row8 col0\" >9</td>\n",
       "                        <td id=\"T_e5b063a7_bc45_11eb_b2cc_60f26212e75arow8_col1\" class=\"data row8 col1\" >0.060000</td>\n",
       "            </tr>\n",
       "            <tr>\n",
       "                        <th id=\"T_e5b063a7_bc45_11eb_b2cc_60f26212e75alevel0_row9\" class=\"row_heading level0 row9\" >24</th>\n",
       "                        <td id=\"T_e5b063a7_bc45_11eb_b2cc_60f26212e75arow9_col0\" class=\"data row9 col0\" >games</td>\n",
       "                        <td id=\"T_e5b063a7_bc45_11eb_b2cc_60f26212e75arow9_col1\" class=\"data row9 col1\" >0.050000</td>\n",
       "            </tr>\n",
       "            <tr>\n",
       "                        <th id=\"T_e5b063a7_bc45_11eb_b2cc_60f26212e75alevel0_row10\" class=\"row_heading level0 row10\" >8</th>\n",
       "                        <td id=\"T_e5b063a7_bc45_11eb_b2cc_60f26212e75arow10_col0\" class=\"data row10 col0\" >3</td>\n",
       "                        <td id=\"T_e5b063a7_bc45_11eb_b2cc_60f26212e75arow10_col1\" class=\"data row10 col1\" >0.040000</td>\n",
       "            </tr>\n",
       "            <tr>\n",
       "                        <th id=\"T_e5b063a7_bc45_11eb_b2cc_60f26212e75alevel0_row11\" class=\"row_heading level0 row11\" >20</th>\n",
       "                        <td id=\"T_e5b063a7_bc45_11eb_b2cc_60f26212e75arow11_col0\" class=\"data row11 col0\" >design</td>\n",
       "                        <td id=\"T_e5b063a7_bc45_11eb_b2cc_60f26212e75arow11_col1\" class=\"data row11 col1\" >0.020000</td>\n",
       "            </tr>\n",
       "            <tr>\n",
       "                        <th id=\"T_e5b063a7_bc45_11eb_b2cc_60f26212e75alevel0_row12\" class=\"row_heading level0 row12\" >6</th>\n",
       "                        <td id=\"T_e5b063a7_bc45_11eb_b2cc_60f26212e75arow12_col0\" class=\"data row12 col0\" >1</td>\n",
       "                        <td id=\"T_e5b063a7_bc45_11eb_b2cc_60f26212e75arow12_col1\" class=\"data row12 col1\" >0.020000</td>\n",
       "            </tr>\n",
       "            <tr>\n",
       "                        <th id=\"T_e5b063a7_bc45_11eb_b2cc_60f26212e75alevel0_row13\" class=\"row_heading level0 row13\" >9</th>\n",
       "                        <td id=\"T_e5b063a7_bc45_11eb_b2cc_60f26212e75arow13_col0\" class=\"data row13 col0\" >4</td>\n",
       "                        <td id=\"T_e5b063a7_bc45_11eb_b2cc_60f26212e75arow13_col1\" class=\"data row13 col1\" >0.020000</td>\n",
       "            </tr>\n",
       "            <tr>\n",
       "                        <th id=\"T_e5b063a7_bc45_11eb_b2cc_60f26212e75alevel0_row14\" class=\"row_heading level0 row14\" >15</th>\n",
       "                        <td id=\"T_e5b063a7_bc45_11eb_b2cc_60f26212e75arow14_col0\" class=\"data row14 col0\" >10</td>\n",
       "                        <td id=\"T_e5b063a7_bc45_11eb_b2cc_60f26212e75arow14_col1\" class=\"data row14 col1\" >-0.000000</td>\n",
       "            </tr>\n",
       "            <tr>\n",
       "                        <th id=\"T_e5b063a7_bc45_11eb_b2cc_60f26212e75alevel0_row15\" class=\"row_heading level0 row15\" >13</th>\n",
       "                        <td id=\"T_e5b063a7_bc45_11eb_b2cc_60f26212e75arow15_col0\" class=\"data row15 col0\" >8</td>\n",
       "                        <td id=\"T_e5b063a7_bc45_11eb_b2cc_60f26212e75arow15_col1\" class=\"data row15 col1\" >-0.010000</td>\n",
       "            </tr>\n",
       "            <tr>\n",
       "                        <th id=\"T_e5b063a7_bc45_11eb_b2cc_60f26212e75alevel0_row16\" class=\"row_heading level0 row16\" >17</th>\n",
       "                        <td id=\"T_e5b063a7_bc45_11eb_b2cc_60f26212e75arow16_col0\" class=\"data row16 col0\" >12</td>\n",
       "                        <td id=\"T_e5b063a7_bc45_11eb_b2cc_60f26212e75arow16_col1\" class=\"data row16 col1\" >-0.030000</td>\n",
       "            </tr>\n",
       "            <tr>\n",
       "                        <th id=\"T_e5b063a7_bc45_11eb_b2cc_60f26212e75alevel0_row17\" class=\"row_heading level0 row17\" >28</th>\n",
       "                        <td id=\"T_e5b063a7_bc45_11eb_b2cc_60f26212e75arow17_col0\" class=\"data row17 col0\" >technology</td>\n",
       "                        <td id=\"T_e5b063a7_bc45_11eb_b2cc_60f26212e75arow17_col1\" class=\"data row17 col1\" >-0.030000</td>\n",
       "            </tr>\n",
       "            <tr>\n",
       "                        <th id=\"T_e5b063a7_bc45_11eb_b2cc_60f26212e75alevel0_row18\" class=\"row_heading level0 row18\" >10</th>\n",
       "                        <td id=\"T_e5b063a7_bc45_11eb_b2cc_60f26212e75arow18_col0\" class=\"data row18 col0\" >5</td>\n",
       "                        <td id=\"T_e5b063a7_bc45_11eb_b2cc_60f26212e75arow18_col1\" class=\"data row18 col1\" >-0.040000</td>\n",
       "            </tr>\n",
       "            <tr>\n",
       "                        <th id=\"T_e5b063a7_bc45_11eb_b2cc_60f26212e75alevel0_row19\" class=\"row_heading level0 row19\" >12</th>\n",
       "                        <td id=\"T_e5b063a7_bc45_11eb_b2cc_60f26212e75arow19_col0\" class=\"data row19 col0\" >7</td>\n",
       "                        <td id=\"T_e5b063a7_bc45_11eb_b2cc_60f26212e75arow19_col1\" class=\"data row19 col1\" >-0.040000</td>\n",
       "            </tr>\n",
       "            <tr>\n",
       "                        <th id=\"T_e5b063a7_bc45_11eb_b2cc_60f26212e75alevel0_row20\" class=\"row_heading level0 row20\" >11</th>\n",
       "                        <td id=\"T_e5b063a7_bc45_11eb_b2cc_60f26212e75arow20_col0\" class=\"data row20 col0\" >6</td>\n",
       "                        <td id=\"T_e5b063a7_bc45_11eb_b2cc_60f26212e75arow20_col1\" class=\"data row20 col1\" >-0.050000</td>\n",
       "            </tr>\n",
       "            <tr>\n",
       "                        <th id=\"T_e5b063a7_bc45_11eb_b2cc_60f26212e75alevel0_row21\" class=\"row_heading level0 row21\" >16</th>\n",
       "                        <td id=\"T_e5b063a7_bc45_11eb_b2cc_60f26212e75arow21_col0\" class=\"data row21 col0\" >11</td>\n",
       "                        <td id=\"T_e5b063a7_bc45_11eb_b2cc_60f26212e75arow21_col1\" class=\"data row21 col1\" >-0.070000</td>\n",
       "            </tr>\n",
       "            <tr>\n",
       "                        <th id=\"T_e5b063a7_bc45_11eb_b2cc_60f26212e75alevel0_row22\" class=\"row_heading level0 row22\" >3</th>\n",
       "                        <td id=\"T_e5b063a7_bc45_11eb_b2cc_60f26212e75arow22_col0\" class=\"data row22 col0\" >blurb_words_count</td>\n",
       "                        <td id=\"T_e5b063a7_bc45_11eb_b2cc_60f26212e75arow22_col1\" class=\"data row22 col1\" >-0.110000</td>\n",
       "            </tr>\n",
       "            <tr>\n",
       "                        <th id=\"T_e5b063a7_bc45_11eb_b2cc_60f26212e75alevel0_row23\" class=\"row_heading level0 row23\" >18</th>\n",
       "                        <td id=\"T_e5b063a7_bc45_11eb_b2cc_60f26212e75arow23_col0\" class=\"data row23 col0\" >crafts</td>\n",
       "                        <td id=\"T_e5b063a7_bc45_11eb_b2cc_60f26212e75arow23_col1\" class=\"data row23 col1\" >-0.190000</td>\n",
       "            </tr>\n",
       "            <tr>\n",
       "                        <th id=\"T_e5b063a7_bc45_11eb_b2cc_60f26212e75alevel0_row24\" class=\"row_heading level0 row24\" >21</th>\n",
       "                        <td id=\"T_e5b063a7_bc45_11eb_b2cc_60f26212e75arow24_col0\" class=\"data row24 col0\" >fashion</td>\n",
       "                        <td id=\"T_e5b063a7_bc45_11eb_b2cc_60f26212e75arow24_col1\" class=\"data row24 col1\" >-0.220000</td>\n",
       "            </tr>\n",
       "            <tr>\n",
       "                        <th id=\"T_e5b063a7_bc45_11eb_b2cc_60f26212e75alevel0_row25\" class=\"row_heading level0 row25\" >25</th>\n",
       "                        <td id=\"T_e5b063a7_bc45_11eb_b2cc_60f26212e75arow25_col0\" class=\"data row25 col0\" >journalism</td>\n",
       "                        <td id=\"T_e5b063a7_bc45_11eb_b2cc_60f26212e75arow25_col1\" class=\"data row25 col1\" >-0.230000</td>\n",
       "            </tr>\n",
       "            <tr>\n",
       "                        <th id=\"T_e5b063a7_bc45_11eb_b2cc_60f26212e75alevel0_row26\" class=\"row_heading level0 row26\" >1</th>\n",
       "                        <td id=\"T_e5b063a7_bc45_11eb_b2cc_60f26212e75arow26_col0\" class=\"data row26 col0\" >Launch_Period</td>\n",
       "                        <td id=\"T_e5b063a7_bc45_11eb_b2cc_60f26212e75arow26_col1\" class=\"data row26 col1\" >-0.270000</td>\n",
       "            </tr>\n",
       "            <tr>\n",
       "                        <th id=\"T_e5b063a7_bc45_11eb_b2cc_60f26212e75alevel0_row27\" class=\"row_heading level0 row27\" >23</th>\n",
       "                        <td id=\"T_e5b063a7_bc45_11eb_b2cc_60f26212e75arow27_col0\" class=\"data row27 col0\" >food</td>\n",
       "                        <td id=\"T_e5b063a7_bc45_11eb_b2cc_60f26212e75arow27_col1\" class=\"data row27 col1\" >-0.290000</td>\n",
       "            </tr>\n",
       "            <tr>\n",
       "                        <th id=\"T_e5b063a7_bc45_11eb_b2cc_60f26212e75alevel0_row28\" class=\"row_heading level0 row28\" >5</th>\n",
       "                        <td id=\"T_e5b063a7_bc45_11eb_b2cc_60f26212e75arow28_col0\" class=\"data row28 col0\" >usd_goal</td>\n",
       "                        <td id=\"T_e5b063a7_bc45_11eb_b2cc_60f26212e75arow28_col1\" class=\"data row28 col1\" >-0.670000</td>\n",
       "            </tr>\n",
       "    </tbody></table>"
      ],
      "text/plain": [
       "<pandas.io.formats.style.Styler at 0x150fca79760>"
      ]
     },
     "execution_count": 761,
     "metadata": {},
     "output_type": "execute_result"
    }
   ],
   "source": [
    "pd.DataFrame({'variable':[c for c in X_train_scaled_features_df.columns],'cofficient':[round(x,2)for x in logmodel.coef_[0]]}).sort_values('cofficient',ascending=False).style.bar(color=['grey','lightblue'],align='zero')"
   ]
  },
  {
   "cell_type": "code",
   "execution_count": 762,
   "id": "seasonal-vision",
   "metadata": {},
   "outputs": [],
   "source": [
    "#for each x test data, what is the probability of predicting 1,0\n",
    "pred_proba_df = pd.DataFrame(logmodel.predict_proba(X_test_scaled_features))"
   ]
  },
  {
   "cell_type": "code",
   "execution_count": 763,
   "id": "insured-strength",
   "metadata": {},
   "outputs": [
    {
     "data": {
      "text/html": [
       "<div>\n",
       "<style scoped>\n",
       "    .dataframe tbody tr th:only-of-type {\n",
       "        vertical-align: middle;\n",
       "    }\n",
       "\n",
       "    .dataframe tbody tr th {\n",
       "        vertical-align: top;\n",
       "    }\n",
       "\n",
       "    .dataframe thead th {\n",
       "        text-align: right;\n",
       "    }\n",
       "</style>\n",
       "<table border=\"1\" class=\"dataframe\">\n",
       "  <thead>\n",
       "    <tr style=\"text-align: right;\">\n",
       "      <th></th>\n",
       "      <th>0</th>\n",
       "      <th>1</th>\n",
       "    </tr>\n",
       "  </thead>\n",
       "  <tbody>\n",
       "    <tr>\n",
       "      <th>0</th>\n",
       "      <td>0.154364</td>\n",
       "      <td>0.845636</td>\n",
       "    </tr>\n",
       "    <tr>\n",
       "      <th>1</th>\n",
       "      <td>0.042962</td>\n",
       "      <td>0.957038</td>\n",
       "    </tr>\n",
       "    <tr>\n",
       "      <th>2</th>\n",
       "      <td>0.206077</td>\n",
       "      <td>0.793923</td>\n",
       "    </tr>\n",
       "    <tr>\n",
       "      <th>3</th>\n",
       "      <td>0.312203</td>\n",
       "      <td>0.687797</td>\n",
       "    </tr>\n",
       "    <tr>\n",
       "      <th>4</th>\n",
       "      <td>0.286739</td>\n",
       "      <td>0.713261</td>\n",
       "    </tr>\n",
       "  </tbody>\n",
       "</table>\n",
       "</div>"
      ],
      "text/plain": [
       "          0         1\n",
       "0  0.154364  0.845636\n",
       "1  0.042962  0.957038\n",
       "2  0.206077  0.793923\n",
       "3  0.312203  0.687797\n",
       "4  0.286739  0.713261"
      ]
     },
     "execution_count": 763,
     "metadata": {},
     "output_type": "execute_result"
    }
   ],
   "source": [
    "pred_proba_df.head()"
   ]
  },
  {
   "cell_type": "markdown",
   "id": "affecting-grain",
   "metadata": {},
   "source": [
    "### Evaluation"
   ]
  },
  {
   "cell_type": "code",
   "execution_count": 764,
   "id": "bridal-czech",
   "metadata": {},
   "outputs": [
    {
     "name": "stdout",
     "output_type": "stream",
     "text": [
      "[[237 191]\n",
      " [116 530]]\n"
     ]
    }
   ],
   "source": [
    "from sklearn.metrics import confusion_matrix\n",
    "print(confusion_matrix(y_test,predictions))"
   ]
  },
  {
   "cell_type": "code",
   "execution_count": 765,
   "id": "wicked-therapist",
   "metadata": {},
   "outputs": [
    {
     "name": "stdout",
     "output_type": "stream",
     "text": [
      "              precision    recall  f1-score   support\n",
      "\n",
      "           0       0.67      0.55      0.61       428\n",
      "           1       0.74      0.82      0.78       646\n",
      "\n",
      "    accuracy                           0.71      1074\n",
      "   macro avg       0.70      0.69      0.69      1074\n",
      "weighted avg       0.71      0.71      0.71      1074\n",
      "\n"
     ]
    }
   ],
   "source": [
    "from sklearn.metrics import classification_report\n",
    "print(classification_report(y_test,predictions))"
   ]
  },
  {
   "cell_type": "code",
   "execution_count": 766,
   "id": "checked-compatibility",
   "metadata": {},
   "outputs": [],
   "source": [
    "from sklearn.metrics import accuracy_score"
   ]
  },
  {
   "cell_type": "code",
   "execution_count": 767,
   "id": "lightweight-database",
   "metadata": {},
   "outputs": [],
   "source": [
    "log_test_acc=accuracy_score(y_test,predictions)\n",
    "log_train_acc=accuracy_score(y_train,logmodel.predict(X_train_scaled_features))"
   ]
  },
  {
   "cell_type": "code",
   "execution_count": 768,
   "id": "thorough-theme",
   "metadata": {},
   "outputs": [
    {
     "data": {
      "text/plain": [
       "0.7141527001862198"
      ]
     },
     "execution_count": 768,
     "metadata": {},
     "output_type": "execute_result"
    }
   ],
   "source": [
    "log_test_acc"
   ]
  },
  {
   "cell_type": "code",
   "execution_count": 769,
   "id": "caring-newsletter",
   "metadata": {},
   "outputs": [
    {
     "data": {
      "text/plain": [
       "0.737220447284345"
      ]
     },
     "execution_count": 769,
     "metadata": {},
     "output_type": "execute_result"
    }
   ],
   "source": [
    "log_train_acc"
   ]
  },
  {
   "cell_type": "code",
   "execution_count": 770,
   "id": "unable-plain",
   "metadata": {},
   "outputs": [
    {
     "name": "stdout",
     "output_type": "stream",
     "text": [
      "Accuracy of logistic_test: 71.42 %\n",
      "Accuracy of logistic_train: 73.72 %\n"
     ]
    }
   ],
   "source": [
    "print('Accuracy of logistic_test:',round(log_test_acc*100,2),'%')\n",
    "print('Accuracy of logistic_train:',round(log_train_acc*100,2),'%')"
   ]
  },
  {
   "cell_type": "markdown",
   "id": "signal-judgment",
   "metadata": {},
   "source": [
    "# Decision tree\n"
   ]
  },
  {
   "cell_type": "code",
   "execution_count": 771,
   "id": "affiliated-teach",
   "metadata": {},
   "outputs": [],
   "source": [
    "from sklearn.tree import DecisionTreeClassifier"
   ]
  },
  {
   "cell_type": "code",
   "execution_count": 772,
   "id": "natural-terminal",
   "metadata": {},
   "outputs": [],
   "source": [
    "# can change the max_depth to optimize\n",
    "dtree=DecisionTreeClassifier(max_depth=4)\n"
   ]
  },
  {
   "cell_type": "code",
   "execution_count": 773,
   "id": "serious-killing",
   "metadata": {},
   "outputs": [
    {
     "data": {
      "text/plain": [
       "DecisionTreeClassifier(max_depth=4)"
      ]
     },
     "execution_count": 773,
     "metadata": {},
     "output_type": "execute_result"
    }
   ],
   "source": [
    "dtree.fit(X_train,y_train)"
   ]
  },
  {
   "cell_type": "code",
   "execution_count": 774,
   "id": "framed-universal",
   "metadata": {},
   "outputs": [],
   "source": [
    "from sklearn.metrics import f1_score\n",
    "from sklearn.metrics import accuracy_score"
   ]
  },
  {
   "cell_type": "code",
   "execution_count": 775,
   "id": "funded-excellence",
   "metadata": {},
   "outputs": [],
   "source": [
    "def f1_scores_by_depth(depth):\n",
    "    dtree=DecisionTreeClassifier(max_depth=depth)\n",
    "    dtree.fit(X_train,y_train)\n",
    "    return f1_score(y_true=y_train,y_pred=dtree.predict(X_train)),f1_score(y_true=y_test,y_pred=dtree.predict(X_test))"
   ]
  },
  {
   "cell_type": "code",
   "execution_count": 776,
   "id": "demographic-analysis",
   "metadata": {},
   "outputs": [
    {
     "data": {
      "text/plain": [
       "Text(0, 0.5, 'depth')"
      ]
     },
     "execution_count": 776,
     "metadata": {},
     "output_type": "execute_result"
    },
    {
     "data": {
      "image/png": "[encoded data removed]",
      "text/plain": [
       "<Figure size 1008x576 with 1 Axes>"
      ]
     },
     "metadata": {
      "needs_background": "light"
     },
     "output_type": "display_data"
    }
   ],
   "source": [
    "# smaller the gap, higher f1 score is better\n",
    "pd.DataFrame([f1_scores_by_depth(depth) for depth in range(1,11)], \n",
    "             columns=['train', 'test'], \n",
    "             index=range(1,11)) \\\n",
    "  .plot(figsize=(14,8))\n",
    "plt.ylabel('f1_score')\n",
    "plt.ylabel('depth')"
   ]
  },
  {
   "cell_type": "code",
   "execution_count": 777,
   "id": "formal-louisville",
   "metadata": {},
   "outputs": [],
   "source": [
    "predictions=dtree.predict(X_test)"
   ]
  },
  {
   "cell_type": "code",
   "execution_count": 778,
   "id": "separated-turner",
   "metadata": {},
   "outputs": [],
   "source": [
    "from sklearn.metrics import classification_report,confusion_matrix"
   ]
  },
  {
   "cell_type": "code",
   "execution_count": 779,
   "id": "saving-burning",
   "metadata": {},
   "outputs": [
    {
     "name": "stdout",
     "output_type": "stream",
     "text": [
      "              precision    recall  f1-score   support\n",
      "\n",
      "           0       0.75      0.40      0.52       428\n",
      "           1       0.70      0.91      0.79       646\n",
      "\n",
      "    accuracy                           0.71      1074\n",
      "   macro avg       0.72      0.66      0.66      1074\n",
      "weighted avg       0.72      0.71      0.68      1074\n",
      "\n"
     ]
    }
   ],
   "source": [
    "print(classification_report(y_test,predictions))\n"
   ]
  },
  {
   "cell_type": "code",
   "execution_count": 780,
   "id": "handed-competition",
   "metadata": {},
   "outputs": [],
   "source": [
    "from sklearn.tree import plot_tree"
   ]
  },
  {
   "cell_type": "code",
   "execution_count": 781,
   "id": "turkish-nerve",
   "metadata": {},
   "outputs": [
    {
     "name": "stdout",
     "output_type": "stream",
     "text": [
      "0.7085661080074488\n",
      "0.7256389776357828\n"
     ]
    },
    {
     "data": {
      "image/png": "[encoded data removed]",
      "text/plain": [
       "<Figure size 1440x1224 with 1 Axes>"
      ]
     },
     "metadata": {
      "needs_background": "light"
     },
     "output_type": "display_data"
    }
   ],
   "source": [
    "fig=plt.figure(figsize=(20,17))\n",
    "a=plot_tree(dtree,feature_names=X_train.columns,fontsize=12,filled=True,\n",
    "            class_names=['Not Survived','Survived'])\n",
    "\n",
    "print(accuracy_score(y_true=y_test,y_pred=dtree.predict(X_test)))\n",
    "print(accuracy_score(y_true=y_train,y_pred=dtree.predict(X_train)))\n"
   ]
  },
  {
   "cell_type": "markdown",
   "id": "exact-diving",
   "metadata": {},
   "source": [
    "# Random Forest"
   ]
  },
  {
   "cell_type": "code",
   "execution_count": 782,
   "id": "remarkable-bulletin",
   "metadata": {},
   "outputs": [],
   "source": [
    "from sklearn.ensemble import RandomForestClassifier"
   ]
  },
  {
   "cell_type": "code",
   "execution_count": 783,
   "id": "alike-newspaper",
   "metadata": {},
   "outputs": [],
   "source": [
    "rfc=RandomForestClassifier(n_estimators=100,max_depth=10)"
   ]
  },
  {
   "cell_type": "code",
   "execution_count": 784,
   "id": "instructional-performance",
   "metadata": {},
   "outputs": [
    {
     "data": {
      "text/plain": [
       "RandomForestClassifier(max_depth=10)"
      ]
     },
     "execution_count": 784,
     "metadata": {},
     "output_type": "execute_result"
    }
   ],
   "source": [
    "rfc.fit(X_train,y_train)"
   ]
  },
  {
   "cell_type": "code",
   "execution_count": 785,
   "id": "destroyed-conducting",
   "metadata": {},
   "outputs": [],
   "source": [
    "def f1_scores_by_depth_and_estimators(depth, n_estimators):\n",
    "    rfc = RandomForestClassifier(max_depth=depth, n_estimators=n_estimators)\n",
    "    rfc.fit(X_train, y_train)\n",
    "    return f1_score(y_true=y_test, y_pred=rfc.predict(X_test))"
   ]
  },
  {
   "cell_type": "code",
   "execution_count": 786,
   "id": "executed-appointment",
   "metadata": {},
   "outputs": [
    {
     "ename": "KeyboardInterrupt",
     "evalue": "",
     "output_type": "error",
     "traceback": [
      "\u001b[1;31m---------------------------------------------------------------------------\u001b[0m",
      "\u001b[1;31mKeyboardInterrupt\u001b[0m                         Traceback (most recent call last)",
      "\u001b[1;32m<ipython-input-786-dd2ff3a8389e>\u001b[0m in \u001b[0;36m<module>\u001b[1;34m\u001b[0m\n\u001b[0;32m      9\u001b[0m \u001b[1;33m\u001b[0m\u001b[0m\n\u001b[0;32m     10\u001b[0m sns.heatmap(\n\u001b[1;32m---> 11\u001b[1;33m pd.DataFrame([[f1_scores_by_depth_and_estimators(d, n) for d in d_range] for n in n_range], \n\u001b[0m\u001b[0;32m     12\u001b[0m              \u001b[0mcolumns\u001b[0m\u001b[1;33m=\u001b[0m\u001b[1;33m[\u001b[0m\u001b[1;34m'depth'\u001b[0m\u001b[1;33m+\u001b[0m\u001b[0mstr\u001b[0m\u001b[1;33m(\u001b[0m\u001b[0mi\u001b[0m\u001b[1;33m)\u001b[0m \u001b[1;32mfor\u001b[0m \u001b[0mi\u001b[0m \u001b[1;32min\u001b[0m \u001b[0md_range\u001b[0m\u001b[1;33m]\u001b[0m\u001b[1;33m,\u001b[0m\u001b[1;33m\u001b[0m\u001b[1;33m\u001b[0m\u001b[0m\n\u001b[0;32m     13\u001b[0m              index=n_range)\n",
      "\u001b[1;32m<ipython-input-786-dd2ff3a8389e>\u001b[0m in \u001b[0;36m<listcomp>\u001b[1;34m(.0)\u001b[0m\n\u001b[0;32m      9\u001b[0m \u001b[1;33m\u001b[0m\u001b[0m\n\u001b[0;32m     10\u001b[0m sns.heatmap(\n\u001b[1;32m---> 11\u001b[1;33m pd.DataFrame([[f1_scores_by_depth_and_estimators(d, n) for d in d_range] for n in n_range], \n\u001b[0m\u001b[0;32m     12\u001b[0m              \u001b[0mcolumns\u001b[0m\u001b[1;33m=\u001b[0m\u001b[1;33m[\u001b[0m\u001b[1;34m'depth'\u001b[0m\u001b[1;33m+\u001b[0m\u001b[0mstr\u001b[0m\u001b[1;33m(\u001b[0m\u001b[0mi\u001b[0m\u001b[1;33m)\u001b[0m \u001b[1;32mfor\u001b[0m \u001b[0mi\u001b[0m \u001b[1;32min\u001b[0m \u001b[0md_range\u001b[0m\u001b[1;33m]\u001b[0m\u001b[1;33m,\u001b[0m\u001b[1;33m\u001b[0m\u001b[1;33m\u001b[0m\u001b[0m\n\u001b[0;32m     13\u001b[0m              index=n_range)\n",
      "\u001b[1;32m<ipython-input-786-dd2ff3a8389e>\u001b[0m in \u001b[0;36m<listcomp>\u001b[1;34m(.0)\u001b[0m\n\u001b[0;32m      9\u001b[0m \u001b[1;33m\u001b[0m\u001b[0m\n\u001b[0;32m     10\u001b[0m sns.heatmap(\n\u001b[1;32m---> 11\u001b[1;33m pd.DataFrame([[f1_scores_by_depth_and_estimators(d, n) for d in d_range] for n in n_range], \n\u001b[0m\u001b[0;32m     12\u001b[0m              \u001b[0mcolumns\u001b[0m\u001b[1;33m=\u001b[0m\u001b[1;33m[\u001b[0m\u001b[1;34m'depth'\u001b[0m\u001b[1;33m+\u001b[0m\u001b[0mstr\u001b[0m\u001b[1;33m(\u001b[0m\u001b[0mi\u001b[0m\u001b[1;33m)\u001b[0m \u001b[1;32mfor\u001b[0m \u001b[0mi\u001b[0m \u001b[1;32min\u001b[0m \u001b[0md_range\u001b[0m\u001b[1;33m]\u001b[0m\u001b[1;33m,\u001b[0m\u001b[1;33m\u001b[0m\u001b[1;33m\u001b[0m\u001b[0m\n\u001b[0;32m     13\u001b[0m              index=n_range)\n",
      "\u001b[1;32m<ipython-input-785-0c15972924e6>\u001b[0m in \u001b[0;36mf1_scores_by_depth_and_estimators\u001b[1;34m(depth, n_estimators)\u001b[0m\n\u001b[0;32m      1\u001b[0m \u001b[1;32mdef\u001b[0m \u001b[0mf1_scores_by_depth_and_estimators\u001b[0m\u001b[1;33m(\u001b[0m\u001b[0mdepth\u001b[0m\u001b[1;33m,\u001b[0m \u001b[0mn_estimators\u001b[0m\u001b[1;33m)\u001b[0m\u001b[1;33m:\u001b[0m\u001b[1;33m\u001b[0m\u001b[1;33m\u001b[0m\u001b[0m\n\u001b[0;32m      2\u001b[0m     \u001b[0mrfc\u001b[0m \u001b[1;33m=\u001b[0m \u001b[0mRandomForestClassifier\u001b[0m\u001b[1;33m(\u001b[0m\u001b[0mmax_depth\u001b[0m\u001b[1;33m=\u001b[0m\u001b[0mdepth\u001b[0m\u001b[1;33m,\u001b[0m \u001b[0mn_estimators\u001b[0m\u001b[1;33m=\u001b[0m\u001b[0mn_estimators\u001b[0m\u001b[1;33m)\u001b[0m\u001b[1;33m\u001b[0m\u001b[1;33m\u001b[0m\u001b[0m\n\u001b[1;32m----> 3\u001b[1;33m     \u001b[0mrfc\u001b[0m\u001b[1;33m.\u001b[0m\u001b[0mfit\u001b[0m\u001b[1;33m(\u001b[0m\u001b[0mX_train\u001b[0m\u001b[1;33m,\u001b[0m \u001b[0my_train\u001b[0m\u001b[1;33m)\u001b[0m\u001b[1;33m\u001b[0m\u001b[1;33m\u001b[0m\u001b[0m\n\u001b[0m\u001b[0;32m      4\u001b[0m     \u001b[1;32mreturn\u001b[0m \u001b[0mf1_score\u001b[0m\u001b[1;33m(\u001b[0m\u001b[0my_true\u001b[0m\u001b[1;33m=\u001b[0m\u001b[0my_test\u001b[0m\u001b[1;33m,\u001b[0m \u001b[0my_pred\u001b[0m\u001b[1;33m=\u001b[0m\u001b[0mrfc\u001b[0m\u001b[1;33m.\u001b[0m\u001b[0mpredict\u001b[0m\u001b[1;33m(\u001b[0m\u001b[0mX_test\u001b[0m\u001b[1;33m)\u001b[0m\u001b[1;33m)\u001b[0m\u001b[1;33m\u001b[0m\u001b[1;33m\u001b[0m\u001b[0m\n",
      "\u001b[1;32mc:\\users\\grace\\appdata\\local\\programs\\python\\python38\\lib\\site-packages\\sklearn\\ensemble\\_forest.py\u001b[0m in \u001b[0;36mfit\u001b[1;34m(self, X, y, sample_weight)\u001b[0m\n\u001b[0;32m    385\u001b[0m             \u001b[1;31m# parallel_backend contexts set at a higher level,\u001b[0m\u001b[1;33m\u001b[0m\u001b[1;33m\u001b[0m\u001b[1;33m\u001b[0m\u001b[0m\n\u001b[0;32m    386\u001b[0m             \u001b[1;31m# since correctness does not rely on using threads.\u001b[0m\u001b[1;33m\u001b[0m\u001b[1;33m\u001b[0m\u001b[1;33m\u001b[0m\u001b[0m\n\u001b[1;32m--> 387\u001b[1;33m             trees = Parallel(n_jobs=self.n_jobs, verbose=self.verbose,\n\u001b[0m\u001b[0;32m    388\u001b[0m                              \u001b[1;33m**\u001b[0m\u001b[0m_joblib_parallel_args\u001b[0m\u001b[1;33m(\u001b[0m\u001b[0mprefer\u001b[0m\u001b[1;33m=\u001b[0m\u001b[1;34m'threads'\u001b[0m\u001b[1;33m)\u001b[0m\u001b[1;33m)\u001b[0m\u001b[1;33m(\u001b[0m\u001b[1;33m\u001b[0m\u001b[1;33m\u001b[0m\u001b[0m\n\u001b[0;32m    389\u001b[0m                 delayed(_parallel_build_trees)(\n",
      "\u001b[1;32mc:\\users\\grace\\appdata\\local\\programs\\python\\python38\\lib\\site-packages\\joblib\\parallel.py\u001b[0m in \u001b[0;36m__call__\u001b[1;34m(self, iterable)\u001b[0m\n\u001b[0;32m   1042\u001b[0m                 \u001b[0mself\u001b[0m\u001b[1;33m.\u001b[0m\u001b[0m_iterating\u001b[0m \u001b[1;33m=\u001b[0m \u001b[0mself\u001b[0m\u001b[1;33m.\u001b[0m\u001b[0m_original_iterator\u001b[0m \u001b[1;32mis\u001b[0m \u001b[1;32mnot\u001b[0m \u001b[1;32mNone\u001b[0m\u001b[1;33m\u001b[0m\u001b[1;33m\u001b[0m\u001b[0m\n\u001b[0;32m   1043\u001b[0m \u001b[1;33m\u001b[0m\u001b[0m\n\u001b[1;32m-> 1044\u001b[1;33m             \u001b[1;32mwhile\u001b[0m \u001b[0mself\u001b[0m\u001b[1;33m.\u001b[0m\u001b[0mdispatch_one_batch\u001b[0m\u001b[1;33m(\u001b[0m\u001b[0miterator\u001b[0m\u001b[1;33m)\u001b[0m\u001b[1;33m:\u001b[0m\u001b[1;33m\u001b[0m\u001b[1;33m\u001b[0m\u001b[0m\n\u001b[0m\u001b[0;32m   1045\u001b[0m                 \u001b[1;32mpass\u001b[0m\u001b[1;33m\u001b[0m\u001b[1;33m\u001b[0m\u001b[0m\n\u001b[0;32m   1046\u001b[0m \u001b[1;33m\u001b[0m\u001b[0m\n",
      "\u001b[1;32mc:\\users\\grace\\appdata\\local\\programs\\python\\python38\\lib\\site-packages\\joblib\\parallel.py\u001b[0m in \u001b[0;36mdispatch_one_batch\u001b[1;34m(self, iterator)\u001b[0m\n\u001b[0;32m    857\u001b[0m                 \u001b[1;32mreturn\u001b[0m \u001b[1;32mFalse\u001b[0m\u001b[1;33m\u001b[0m\u001b[1;33m\u001b[0m\u001b[0m\n\u001b[0;32m    858\u001b[0m             \u001b[1;32melse\u001b[0m\u001b[1;33m:\u001b[0m\u001b[1;33m\u001b[0m\u001b[1;33m\u001b[0m\u001b[0m\n\u001b[1;32m--> 859\u001b[1;33m                 \u001b[0mself\u001b[0m\u001b[1;33m.\u001b[0m\u001b[0m_dispatch\u001b[0m\u001b[1;33m(\u001b[0m\u001b[0mtasks\u001b[0m\u001b[1;33m)\u001b[0m\u001b[1;33m\u001b[0m\u001b[1;33m\u001b[0m\u001b[0m\n\u001b[0m\u001b[0;32m    860\u001b[0m                 \u001b[1;32mreturn\u001b[0m \u001b[1;32mTrue\u001b[0m\u001b[1;33m\u001b[0m\u001b[1;33m\u001b[0m\u001b[0m\n\u001b[0;32m    861\u001b[0m \u001b[1;33m\u001b[0m\u001b[0m\n",
      "\u001b[1;32mc:\\users\\grace\\appdata\\local\\programs\\python\\python38\\lib\\site-packages\\joblib\\parallel.py\u001b[0m in \u001b[0;36m_dispatch\u001b[1;34m(self, batch)\u001b[0m\n\u001b[0;32m    775\u001b[0m         \u001b[1;32mwith\u001b[0m \u001b[0mself\u001b[0m\u001b[1;33m.\u001b[0m\u001b[0m_lock\u001b[0m\u001b[1;33m:\u001b[0m\u001b[1;33m\u001b[0m\u001b[1;33m\u001b[0m\u001b[0m\n\u001b[0;32m    776\u001b[0m             \u001b[0mjob_idx\u001b[0m \u001b[1;33m=\u001b[0m \u001b[0mlen\u001b[0m\u001b[1;33m(\u001b[0m\u001b[0mself\u001b[0m\u001b[1;33m.\u001b[0m\u001b[0m_jobs\u001b[0m\u001b[1;33m)\u001b[0m\u001b[1;33m\u001b[0m\u001b[1;33m\u001b[0m\u001b[0m\n\u001b[1;32m--> 777\u001b[1;33m             \u001b[0mjob\u001b[0m \u001b[1;33m=\u001b[0m \u001b[0mself\u001b[0m\u001b[1;33m.\u001b[0m\u001b[0m_backend\u001b[0m\u001b[1;33m.\u001b[0m\u001b[0mapply_async\u001b[0m\u001b[1;33m(\u001b[0m\u001b[0mbatch\u001b[0m\u001b[1;33m,\u001b[0m \u001b[0mcallback\u001b[0m\u001b[1;33m=\u001b[0m\u001b[0mcb\u001b[0m\u001b[1;33m)\u001b[0m\u001b[1;33m\u001b[0m\u001b[1;33m\u001b[0m\u001b[0m\n\u001b[0m\u001b[0;32m    778\u001b[0m             \u001b[1;31m# A job can complete so quickly than its callback is\u001b[0m\u001b[1;33m\u001b[0m\u001b[1;33m\u001b[0m\u001b[1;33m\u001b[0m\u001b[0m\n\u001b[0;32m    779\u001b[0m             \u001b[1;31m# called before we get here, causing self._jobs to\u001b[0m\u001b[1;33m\u001b[0m\u001b[1;33m\u001b[0m\u001b[1;33m\u001b[0m\u001b[0m\n",
      "\u001b[1;32mc:\\users\\grace\\appdata\\local\\programs\\python\\python38\\lib\\site-packages\\joblib\\_parallel_backends.py\u001b[0m in \u001b[0;36mapply_async\u001b[1;34m(self, func, callback)\u001b[0m\n\u001b[0;32m    206\u001b[0m     \u001b[1;32mdef\u001b[0m \u001b[0mapply_async\u001b[0m\u001b[1;33m(\u001b[0m\u001b[0mself\u001b[0m\u001b[1;33m,\u001b[0m \u001b[0mfunc\u001b[0m\u001b[1;33m,\u001b[0m \u001b[0mcallback\u001b[0m\u001b[1;33m=\u001b[0m\u001b[1;32mNone\u001b[0m\u001b[1;33m)\u001b[0m\u001b[1;33m:\u001b[0m\u001b[1;33m\u001b[0m\u001b[1;33m\u001b[0m\u001b[0m\n\u001b[0;32m    207\u001b[0m         \u001b[1;34m\"\"\"Schedule a func to be run\"\"\"\u001b[0m\u001b[1;33m\u001b[0m\u001b[1;33m\u001b[0m\u001b[0m\n\u001b[1;32m--> 208\u001b[1;33m         \u001b[0mresult\u001b[0m \u001b[1;33m=\u001b[0m \u001b[0mImmediateResult\u001b[0m\u001b[1;33m(\u001b[0m\u001b[0mfunc\u001b[0m\u001b[1;33m)\u001b[0m\u001b[1;33m\u001b[0m\u001b[1;33m\u001b[0m\u001b[0m\n\u001b[0m\u001b[0;32m    209\u001b[0m         \u001b[1;32mif\u001b[0m \u001b[0mcallback\u001b[0m\u001b[1;33m:\u001b[0m\u001b[1;33m\u001b[0m\u001b[1;33m\u001b[0m\u001b[0m\n\u001b[0;32m    210\u001b[0m             \u001b[0mcallback\u001b[0m\u001b[1;33m(\u001b[0m\u001b[0mresult\u001b[0m\u001b[1;33m)\u001b[0m\u001b[1;33m\u001b[0m\u001b[1;33m\u001b[0m\u001b[0m\n",
      "\u001b[1;32mc:\\users\\grace\\appdata\\local\\programs\\python\\python38\\lib\\site-packages\\joblib\\_parallel_backends.py\u001b[0m in \u001b[0;36m__init__\u001b[1;34m(self, batch)\u001b[0m\n\u001b[0;32m    570\u001b[0m         \u001b[1;31m# Don't delay the application, to avoid keeping the input\u001b[0m\u001b[1;33m\u001b[0m\u001b[1;33m\u001b[0m\u001b[1;33m\u001b[0m\u001b[0m\n\u001b[0;32m    571\u001b[0m         \u001b[1;31m# arguments in memory\u001b[0m\u001b[1;33m\u001b[0m\u001b[1;33m\u001b[0m\u001b[1;33m\u001b[0m\u001b[0m\n\u001b[1;32m--> 572\u001b[1;33m         \u001b[0mself\u001b[0m\u001b[1;33m.\u001b[0m\u001b[0mresults\u001b[0m \u001b[1;33m=\u001b[0m \u001b[0mbatch\u001b[0m\u001b[1;33m(\u001b[0m\u001b[1;33m)\u001b[0m\u001b[1;33m\u001b[0m\u001b[1;33m\u001b[0m\u001b[0m\n\u001b[0m\u001b[0;32m    573\u001b[0m \u001b[1;33m\u001b[0m\u001b[0m\n\u001b[0;32m    574\u001b[0m     \u001b[1;32mdef\u001b[0m \u001b[0mget\u001b[0m\u001b[1;33m(\u001b[0m\u001b[0mself\u001b[0m\u001b[1;33m)\u001b[0m\u001b[1;33m:\u001b[0m\u001b[1;33m\u001b[0m\u001b[1;33m\u001b[0m\u001b[0m\n",
      "\u001b[1;32mc:\\users\\grace\\appdata\\local\\programs\\python\\python38\\lib\\site-packages\\joblib\\parallel.py\u001b[0m in \u001b[0;36m__call__\u001b[1;34m(self)\u001b[0m\n\u001b[0;32m    260\u001b[0m         \u001b[1;31m# change the default number of processes to -1\u001b[0m\u001b[1;33m\u001b[0m\u001b[1;33m\u001b[0m\u001b[1;33m\u001b[0m\u001b[0m\n\u001b[0;32m    261\u001b[0m         \u001b[1;32mwith\u001b[0m \u001b[0mparallel_backend\u001b[0m\u001b[1;33m(\u001b[0m\u001b[0mself\u001b[0m\u001b[1;33m.\u001b[0m\u001b[0m_backend\u001b[0m\u001b[1;33m,\u001b[0m \u001b[0mn_jobs\u001b[0m\u001b[1;33m=\u001b[0m\u001b[0mself\u001b[0m\u001b[1;33m.\u001b[0m\u001b[0m_n_jobs\u001b[0m\u001b[1;33m)\u001b[0m\u001b[1;33m:\u001b[0m\u001b[1;33m\u001b[0m\u001b[1;33m\u001b[0m\u001b[0m\n\u001b[1;32m--> 262\u001b[1;33m             return [func(*args, **kwargs)\n\u001b[0m\u001b[0;32m    263\u001b[0m                     for func, args, kwargs in self.items]\n\u001b[0;32m    264\u001b[0m \u001b[1;33m\u001b[0m\u001b[0m\n",
      "\u001b[1;32mc:\\users\\grace\\appdata\\local\\programs\\python\\python38\\lib\\site-packages\\joblib\\parallel.py\u001b[0m in \u001b[0;36m<listcomp>\u001b[1;34m(.0)\u001b[0m\n\u001b[0;32m    260\u001b[0m         \u001b[1;31m# change the default number of processes to -1\u001b[0m\u001b[1;33m\u001b[0m\u001b[1;33m\u001b[0m\u001b[1;33m\u001b[0m\u001b[0m\n\u001b[0;32m    261\u001b[0m         \u001b[1;32mwith\u001b[0m \u001b[0mparallel_backend\u001b[0m\u001b[1;33m(\u001b[0m\u001b[0mself\u001b[0m\u001b[1;33m.\u001b[0m\u001b[0m_backend\u001b[0m\u001b[1;33m,\u001b[0m \u001b[0mn_jobs\u001b[0m\u001b[1;33m=\u001b[0m\u001b[0mself\u001b[0m\u001b[1;33m.\u001b[0m\u001b[0m_n_jobs\u001b[0m\u001b[1;33m)\u001b[0m\u001b[1;33m:\u001b[0m\u001b[1;33m\u001b[0m\u001b[1;33m\u001b[0m\u001b[0m\n\u001b[1;32m--> 262\u001b[1;33m             return [func(*args, **kwargs)\n\u001b[0m\u001b[0;32m    263\u001b[0m                     for func, args, kwargs in self.items]\n\u001b[0;32m    264\u001b[0m \u001b[1;33m\u001b[0m\u001b[0m\n",
      "\u001b[1;32mc:\\users\\grace\\appdata\\local\\programs\\python\\python38\\lib\\site-packages\\sklearn\\utils\\fixes.py\u001b[0m in \u001b[0;36m__call__\u001b[1;34m(self, *args, **kwargs)\u001b[0m\n\u001b[0;32m    220\u001b[0m     \u001b[1;32mdef\u001b[0m \u001b[0m__call__\u001b[0m\u001b[1;33m(\u001b[0m\u001b[0mself\u001b[0m\u001b[1;33m,\u001b[0m \u001b[1;33m*\u001b[0m\u001b[0margs\u001b[0m\u001b[1;33m,\u001b[0m \u001b[1;33m**\u001b[0m\u001b[0mkwargs\u001b[0m\u001b[1;33m)\u001b[0m\u001b[1;33m:\u001b[0m\u001b[1;33m\u001b[0m\u001b[1;33m\u001b[0m\u001b[0m\n\u001b[0;32m    221\u001b[0m         \u001b[1;32mwith\u001b[0m \u001b[0mconfig_context\u001b[0m\u001b[1;33m(\u001b[0m\u001b[1;33m**\u001b[0m\u001b[0mself\u001b[0m\u001b[1;33m.\u001b[0m\u001b[0mconfig\u001b[0m\u001b[1;33m)\u001b[0m\u001b[1;33m:\u001b[0m\u001b[1;33m\u001b[0m\u001b[1;33m\u001b[0m\u001b[0m\n\u001b[1;32m--> 222\u001b[1;33m             \u001b[1;32mreturn\u001b[0m \u001b[0mself\u001b[0m\u001b[1;33m.\u001b[0m\u001b[0mfunction\u001b[0m\u001b[1;33m(\u001b[0m\u001b[1;33m*\u001b[0m\u001b[0margs\u001b[0m\u001b[1;33m,\u001b[0m \u001b[1;33m**\u001b[0m\u001b[0mkwargs\u001b[0m\u001b[1;33m)\u001b[0m\u001b[1;33m\u001b[0m\u001b[1;33m\u001b[0m\u001b[0m\n\u001b[0m",
      "\u001b[1;32mc:\\users\\grace\\appdata\\local\\programs\\python\\python38\\lib\\site-packages\\sklearn\\ensemble\\_forest.py\u001b[0m in \u001b[0;36m_parallel_build_trees\u001b[1;34m(tree, forest, X, y, sample_weight, tree_idx, n_trees, verbose, class_weight, n_samples_bootstrap)\u001b[0m\n\u001b[0;32m    167\u001b[0m                                                         indices=indices)\n\u001b[0;32m    168\u001b[0m \u001b[1;33m\u001b[0m\u001b[0m\n\u001b[1;32m--> 169\u001b[1;33m         \u001b[0mtree\u001b[0m\u001b[1;33m.\u001b[0m\u001b[0mfit\u001b[0m\u001b[1;33m(\u001b[0m\u001b[0mX\u001b[0m\u001b[1;33m,\u001b[0m \u001b[0my\u001b[0m\u001b[1;33m,\u001b[0m \u001b[0msample_weight\u001b[0m\u001b[1;33m=\u001b[0m\u001b[0mcurr_sample_weight\u001b[0m\u001b[1;33m,\u001b[0m \u001b[0mcheck_input\u001b[0m\u001b[1;33m=\u001b[0m\u001b[1;32mFalse\u001b[0m\u001b[1;33m)\u001b[0m\u001b[1;33m\u001b[0m\u001b[1;33m\u001b[0m\u001b[0m\n\u001b[0m\u001b[0;32m    170\u001b[0m     \u001b[1;32melse\u001b[0m\u001b[1;33m:\u001b[0m\u001b[1;33m\u001b[0m\u001b[1;33m\u001b[0m\u001b[0m\n\u001b[0;32m    171\u001b[0m         \u001b[0mtree\u001b[0m\u001b[1;33m.\u001b[0m\u001b[0mfit\u001b[0m\u001b[1;33m(\u001b[0m\u001b[0mX\u001b[0m\u001b[1;33m,\u001b[0m \u001b[0my\u001b[0m\u001b[1;33m,\u001b[0m \u001b[0msample_weight\u001b[0m\u001b[1;33m=\u001b[0m\u001b[0msample_weight\u001b[0m\u001b[1;33m,\u001b[0m \u001b[0mcheck_input\u001b[0m\u001b[1;33m=\u001b[0m\u001b[1;32mFalse\u001b[0m\u001b[1;33m)\u001b[0m\u001b[1;33m\u001b[0m\u001b[1;33m\u001b[0m\u001b[0m\n",
      "\u001b[1;32mc:\\users\\grace\\appdata\\local\\programs\\python\\python38\\lib\\site-packages\\sklearn\\tree\\_classes.py\u001b[0m in \u001b[0;36mfit\u001b[1;34m(self, X, y, sample_weight, check_input, X_idx_sorted)\u001b[0m\n\u001b[0;32m    896\u001b[0m         \"\"\"\n\u001b[0;32m    897\u001b[0m \u001b[1;33m\u001b[0m\u001b[0m\n\u001b[1;32m--> 898\u001b[1;33m         super().fit(\n\u001b[0m\u001b[0;32m    899\u001b[0m             \u001b[0mX\u001b[0m\u001b[1;33m,\u001b[0m \u001b[0my\u001b[0m\u001b[1;33m,\u001b[0m\u001b[1;33m\u001b[0m\u001b[1;33m\u001b[0m\u001b[0m\n\u001b[0;32m    900\u001b[0m             \u001b[0msample_weight\u001b[0m\u001b[1;33m=\u001b[0m\u001b[0msample_weight\u001b[0m\u001b[1;33m,\u001b[0m\u001b[1;33m\u001b[0m\u001b[1;33m\u001b[0m\u001b[0m\n",
      "\u001b[1;32mc:\\users\\grace\\appdata\\local\\programs\\python\\python38\\lib\\site-packages\\sklearn\\tree\\_classes.py\u001b[0m in \u001b[0;36mfit\u001b[1;34m(self, X, y, sample_weight, check_input, X_idx_sorted)\u001b[0m\n\u001b[0;32m    188\u001b[0m \u001b[1;33m\u001b[0m\u001b[0m\n\u001b[0;32m    189\u001b[0m         \u001b[1;32mif\u001b[0m \u001b[0mis_classification\u001b[0m\u001b[1;33m:\u001b[0m\u001b[1;33m\u001b[0m\u001b[1;33m\u001b[0m\u001b[0m\n\u001b[1;32m--> 190\u001b[1;33m             \u001b[0mcheck_classification_targets\u001b[0m\u001b[1;33m(\u001b[0m\u001b[0my\u001b[0m\u001b[1;33m)\u001b[0m\u001b[1;33m\u001b[0m\u001b[1;33m\u001b[0m\u001b[0m\n\u001b[0m\u001b[0;32m    191\u001b[0m             \u001b[0my\u001b[0m \u001b[1;33m=\u001b[0m \u001b[0mnp\u001b[0m\u001b[1;33m.\u001b[0m\u001b[0mcopy\u001b[0m\u001b[1;33m(\u001b[0m\u001b[0my\u001b[0m\u001b[1;33m)\u001b[0m\u001b[1;33m\u001b[0m\u001b[1;33m\u001b[0m\u001b[0m\n\u001b[0;32m    192\u001b[0m \u001b[1;33m\u001b[0m\u001b[0m\n",
      "\u001b[1;32mc:\\users\\grace\\appdata\\local\\programs\\python\\python38\\lib\\site-packages\\sklearn\\utils\\multiclass.py\u001b[0m in \u001b[0;36mcheck_classification_targets\u001b[1;34m(y)\u001b[0m\n\u001b[0;32m    178\u001b[0m     \u001b[0my\u001b[0m \u001b[1;33m:\u001b[0m \u001b[0marray\u001b[0m\u001b[1;33m-\u001b[0m\u001b[0mlike\u001b[0m\u001b[1;33m\u001b[0m\u001b[1;33m\u001b[0m\u001b[0m\n\u001b[0;32m    179\u001b[0m     \"\"\"\n\u001b[1;32m--> 180\u001b[1;33m     \u001b[0my_type\u001b[0m \u001b[1;33m=\u001b[0m \u001b[0mtype_of_target\u001b[0m\u001b[1;33m(\u001b[0m\u001b[0my\u001b[0m\u001b[1;33m)\u001b[0m\u001b[1;33m\u001b[0m\u001b[1;33m\u001b[0m\u001b[0m\n\u001b[0m\u001b[0;32m    181\u001b[0m     if y_type not in ['binary', 'multiclass', 'multiclass-multioutput',\n\u001b[0;32m    182\u001b[0m                       'multilabel-indicator', 'multilabel-sequences']:\n",
      "\u001b[1;32mc:\\users\\grace\\appdata\\local\\programs\\python\\python38\\lib\\site-packages\\sklearn\\utils\\multiclass.py\u001b[0m in \u001b[0;36mtype_of_target\u001b[1;34m(y)\u001b[0m\n\u001b[0;32m    304\u001b[0m         \u001b[1;32mreturn\u001b[0m \u001b[1;34m'continuous'\u001b[0m \u001b[1;33m+\u001b[0m \u001b[0msuffix\u001b[0m\u001b[1;33m\u001b[0m\u001b[1;33m\u001b[0m\u001b[0m\n\u001b[0;32m    305\u001b[0m \u001b[1;33m\u001b[0m\u001b[0m\n\u001b[1;32m--> 306\u001b[1;33m     \u001b[1;32mif\u001b[0m \u001b[1;33m(\u001b[0m\u001b[0mlen\u001b[0m\u001b[1;33m(\u001b[0m\u001b[0mnp\u001b[0m\u001b[1;33m.\u001b[0m\u001b[0munique\u001b[0m\u001b[1;33m(\u001b[0m\u001b[0my\u001b[0m\u001b[1;33m)\u001b[0m\u001b[1;33m)\u001b[0m \u001b[1;33m>\u001b[0m \u001b[1;36m2\u001b[0m\u001b[1;33m)\u001b[0m \u001b[1;32mor\u001b[0m \u001b[1;33m(\u001b[0m\u001b[0my\u001b[0m\u001b[1;33m.\u001b[0m\u001b[0mndim\u001b[0m \u001b[1;33m>=\u001b[0m \u001b[1;36m2\u001b[0m \u001b[1;32mand\u001b[0m \u001b[0mlen\u001b[0m\u001b[1;33m(\u001b[0m\u001b[0my\u001b[0m\u001b[1;33m[\u001b[0m\u001b[1;36m0\u001b[0m\u001b[1;33m]\u001b[0m\u001b[1;33m)\u001b[0m \u001b[1;33m>\u001b[0m \u001b[1;36m1\u001b[0m\u001b[1;33m)\u001b[0m\u001b[1;33m:\u001b[0m\u001b[1;33m\u001b[0m\u001b[1;33m\u001b[0m\u001b[0m\n\u001b[0m\u001b[0;32m    307\u001b[0m         \u001b[1;32mreturn\u001b[0m \u001b[1;34m'multiclass'\u001b[0m \u001b[1;33m+\u001b[0m \u001b[0msuffix\u001b[0m  \u001b[1;31m# [1, 2, 3] or [[1., 2., 3]] or [[1, 2]]\u001b[0m\u001b[1;33m\u001b[0m\u001b[1;33m\u001b[0m\u001b[0m\n\u001b[0;32m    308\u001b[0m     \u001b[1;32melse\u001b[0m\u001b[1;33m:\u001b[0m\u001b[1;33m\u001b[0m\u001b[1;33m\u001b[0m\u001b[0m\n",
      "\u001b[1;32m<__array_function__ internals>\u001b[0m in \u001b[0;36munique\u001b[1;34m(*args, **kwargs)\u001b[0m\n",
      "\u001b[1;32mc:\\users\\grace\\appdata\\local\\programs\\python\\python38\\lib\\site-packages\\numpy\\lib\\arraysetops.py\u001b[0m in \u001b[0;36munique\u001b[1;34m(ar, return_index, return_inverse, return_counts, axis)\u001b[0m\n\u001b[0;32m    259\u001b[0m     \u001b[0mar\u001b[0m \u001b[1;33m=\u001b[0m \u001b[0mnp\u001b[0m\u001b[1;33m.\u001b[0m\u001b[0masanyarray\u001b[0m\u001b[1;33m(\u001b[0m\u001b[0mar\u001b[0m\u001b[1;33m)\u001b[0m\u001b[1;33m\u001b[0m\u001b[1;33m\u001b[0m\u001b[0m\n\u001b[0;32m    260\u001b[0m     \u001b[1;32mif\u001b[0m \u001b[0maxis\u001b[0m \u001b[1;32mis\u001b[0m \u001b[1;32mNone\u001b[0m\u001b[1;33m:\u001b[0m\u001b[1;33m\u001b[0m\u001b[1;33m\u001b[0m\u001b[0m\n\u001b[1;32m--> 261\u001b[1;33m         \u001b[0mret\u001b[0m \u001b[1;33m=\u001b[0m \u001b[0m_unique1d\u001b[0m\u001b[1;33m(\u001b[0m\u001b[0mar\u001b[0m\u001b[1;33m,\u001b[0m \u001b[0mreturn_index\u001b[0m\u001b[1;33m,\u001b[0m \u001b[0mreturn_inverse\u001b[0m\u001b[1;33m,\u001b[0m \u001b[0mreturn_counts\u001b[0m\u001b[1;33m)\u001b[0m\u001b[1;33m\u001b[0m\u001b[1;33m\u001b[0m\u001b[0m\n\u001b[0m\u001b[0;32m    262\u001b[0m         \u001b[1;32mreturn\u001b[0m \u001b[0m_unpack_tuple\u001b[0m\u001b[1;33m(\u001b[0m\u001b[0mret\u001b[0m\u001b[1;33m)\u001b[0m\u001b[1;33m\u001b[0m\u001b[1;33m\u001b[0m\u001b[0m\n\u001b[0;32m    263\u001b[0m \u001b[1;33m\u001b[0m\u001b[0m\n",
      "\u001b[1;32mc:\\users\\grace\\appdata\\local\\programs\\python\\python38\\lib\\site-packages\\numpy\\lib\\arraysetops.py\u001b[0m in \u001b[0;36m_unique1d\u001b[1;34m(ar, return_index, return_inverse, return_counts)\u001b[0m\n\u001b[0;32m    320\u001b[0m         \u001b[0maux\u001b[0m \u001b[1;33m=\u001b[0m \u001b[0mar\u001b[0m\u001b[1;33m[\u001b[0m\u001b[0mperm\u001b[0m\u001b[1;33m]\u001b[0m\u001b[1;33m\u001b[0m\u001b[1;33m\u001b[0m\u001b[0m\n\u001b[0;32m    321\u001b[0m     \u001b[1;32melse\u001b[0m\u001b[1;33m:\u001b[0m\u001b[1;33m\u001b[0m\u001b[1;33m\u001b[0m\u001b[0m\n\u001b[1;32m--> 322\u001b[1;33m         \u001b[0mar\u001b[0m\u001b[1;33m.\u001b[0m\u001b[0msort\u001b[0m\u001b[1;33m(\u001b[0m\u001b[1;33m)\u001b[0m\u001b[1;33m\u001b[0m\u001b[1;33m\u001b[0m\u001b[0m\n\u001b[0m\u001b[0;32m    323\u001b[0m         \u001b[0maux\u001b[0m \u001b[1;33m=\u001b[0m \u001b[0mar\u001b[0m\u001b[1;33m\u001b[0m\u001b[1;33m\u001b[0m\u001b[0m\n\u001b[0;32m    324\u001b[0m     \u001b[0mmask\u001b[0m \u001b[1;33m=\u001b[0m \u001b[0mnp\u001b[0m\u001b[1;33m.\u001b[0m\u001b[0mempty\u001b[0m\u001b[1;33m(\u001b[0m\u001b[0maux\u001b[0m\u001b[1;33m.\u001b[0m\u001b[0mshape\u001b[0m\u001b[1;33m,\u001b[0m \u001b[0mdtype\u001b[0m\u001b[1;33m=\u001b[0m\u001b[0mnp\u001b[0m\u001b[1;33m.\u001b[0m\u001b[0mbool_\u001b[0m\u001b[1;33m)\u001b[0m\u001b[1;33m\u001b[0m\u001b[1;33m\u001b[0m\u001b[0m\n",
      "\u001b[1;31mKeyboardInterrupt\u001b[0m: "
     ]
    },
    {
     "data": {
      "image/png": "[encoded data removed]",
      "text/plain": [
       "<Figure size 864x576 with 1 Axes>"
      ]
     },
     "metadata": {
      "needs_background": "light"
     },
     "output_type": "display_data"
    }
   ],
   "source": [
    "#prefer the lighter color(higher f1 score)\n",
    "import seaborn as sns\n",
    "import matplotlib.pyplot as plt\n",
    "\n",
    "fig, ax = plt.subplots(figsize=(12,8))\n",
    "\n",
    "d_range = range(1,11)\n",
    "n_range = range(1,100)\n",
    "\n",
    "sns.heatmap(\n",
    "pd.DataFrame([[f1_scores_by_depth_and_estimators(d, n) for d in d_range] for n in n_range], \n",
    "             columns=['depth'+str(i) for i in d_range], \n",
    "             index=n_range)\n",
    ")"
   ]
  },
  {
   "cell_type": "code",
   "execution_count": 787,
   "id": "certain-functionality",
   "metadata": {},
   "outputs": [],
   "source": [
    "prediction=rfc.predict(X_test)"
   ]
  },
  {
   "cell_type": "code",
   "execution_count": 788,
   "id": "sharp-inventory",
   "metadata": {},
   "outputs": [
    {
     "name": "stdout",
     "output_type": "stream",
     "text": [
      "              precision    recall  f1-score   support\n",
      "\n",
      "           0       0.75      0.40      0.52       428\n",
      "           1       0.70      0.91      0.79       646\n",
      "\n",
      "    accuracy                           0.71      1074\n",
      "   macro avg       0.72      0.66      0.66      1074\n",
      "weighted avg       0.72      0.71      0.68      1074\n",
      "\n"
     ]
    }
   ],
   "source": [
    "print(classification_report(y_test,predictions))"
   ]
  },
  {
   "cell_type": "markdown",
   "id": "athletic-insertion",
   "metadata": {},
   "source": [
    "## XG Boost"
   ]
  },
  {
   "cell_type": "code",
   "execution_count": 789,
   "id": "lasting-ordinance",
   "metadata": {},
   "outputs": [],
   "source": [
    "from xgboost import XGBClassifier"
   ]
  },
  {
   "cell_type": "code",
   "execution_count": 790,
   "id": "powerful-status",
   "metadata": {},
   "outputs": [
    {
     "name": "stderr",
     "output_type": "stream",
     "text": [
      "c:\\users\\grace\\appdata\\local\\programs\\python\\python38\\lib\\site-packages\\xgboost\\sklearn.py:1146: UserWarning: The use of label encoder in XGBClassifier is deprecated and will be removed in a future release. To remove this warning, do the following: 1) Pass option use_label_encoder=False when constructing XGBClassifier object; and 2) Encode your labels (y) as integers starting with 0, i.e. 0, 1, 2, ..., [num_class - 1].\n",
      "  warnings.warn(label_encoder_deprecation_msg, UserWarning)\n"
     ]
    },
    {
     "name": "stdout",
     "output_type": "stream",
     "text": [
      "[12:10:42] WARNING: C:/Users/Administrator/workspace/xgboost-win64_release_1.4.0/src/learner.cc:1095: Starting in XGBoost 1.3.0, the default evaluation metric used with the objective 'binary:logistic' was changed from 'error' to 'logloss'. Explicitly set eval_metric if you'd like to restore the old behavior.\n"
     ]
    },
    {
     "data": {
      "text/plain": [
       "XGBClassifier(base_score=0.5, booster='gbtree', colsample_bylevel=1,\n",
       "              colsample_bynode=1, colsample_bytree=1, gamma=0, gpu_id=-1,\n",
       "              importance_type='gain', interaction_constraints='',\n",
       "              learning_rate=0.300000012, max_delta_step=0, max_depth=6,\n",
       "              min_child_weight=1, missing=nan, monotone_constraints='()',\n",
       "              n_estimators=100, n_jobs=12, num_parallel_tree=1, random_state=0,\n",
       "              reg_alpha=0, reg_lambda=1, scale_pos_weight=1, subsample=1,\n",
       "              tree_method='exact', validate_parameters=1, verbosity=None)"
      ]
     },
     "execution_count": 790,
     "metadata": {},
     "output_type": "execute_result"
    }
   ],
   "source": [
    "XGB_model=XGBClassifier()\n",
    "XGB_model.fit(X_train,y_train)"
   ]
  },
  {
   "cell_type": "code",
   "execution_count": 791,
   "id": "invalid-discovery",
   "metadata": {},
   "outputs": [],
   "source": [
    "y_pred = XGB_model.predict(X_test)\n",
    "predictions_rf = [round(value) for value in y_pred]"
   ]
  },
  {
   "cell_type": "code",
   "execution_count": 792,
   "id": "european-teens",
   "metadata": {},
   "outputs": [
    {
     "name": "stdout",
     "output_type": "stream",
     "text": [
      "Acurracy of XGB: 71.7877094972067 %\n"
     ]
    }
   ],
   "source": [
    "# evaluate predictions\n",
    "accuracy = accuracy_score(y_test,predictions_rf)\n",
    "\n",
    "print('Acurracy of XGB:',accuracy*100.0,'%')"
   ]
  },
  {
   "cell_type": "code",
   "execution_count": 793,
   "id": "demonstrated-renaissance",
   "metadata": {},
   "outputs": [
    {
     "name": "stdout",
     "output_type": "stream",
     "text": [
      "              precision    recall  f1-score   support\n",
      "\n",
      "           0       0.67      0.57      0.62       428\n",
      "           1       0.74      0.81      0.78       646\n",
      "\n",
      "    accuracy                           0.72      1074\n",
      "   macro avg       0.71      0.69      0.70      1074\n",
      "weighted avg       0.71      0.72      0.71      1074\n",
      "\n"
     ]
    }
   ],
   "source": [
    "print(classification_report(y_test,predictions_rf))"
   ]
  },
  {
   "cell_type": "code",
   "execution_count": 794,
   "id": "medical-month",
   "metadata": {},
   "outputs": [
    {
     "name": "stdout",
     "output_type": "stream",
     "text": [
      "Accuracy of XGB_test: 71.79%\n",
      "Accuracy of XGB_train: 97.92%\n"
     ]
    }
   ],
   "source": [
    "xgb_test_acc=accuracy_score(y_true=y_test, y_pred= XGB_model.predict(X_test))\n",
    "xgb_train_acc=accuracy_score(y_true=y_train, y_pred= XGB_model.predict(X_train))\n",
    "print(\"Accuracy of XGB_test: %.2f%%\" % (xgb_test_acc * 100.0))\n",
    "print(\"Accuracy of XGB_train: %.2f%%\" % (xgb_train_acc * 100.0))"
   ]
  },
  {
   "cell_type": "markdown",
   "id": "hollow-precipitation",
   "metadata": {},
   "source": [
    "# Predict pledging amount"
   ]
  },
  {
   "cell_type": "markdown",
   "id": "crazy-operator",
   "metadata": {},
   "source": [
    "## split data and stadardisation"
   ]
  },
  {
   "cell_type": "code",
   "execution_count": 795,
   "id": "pending-correlation",
   "metadata": {},
   "outputs": [],
   "source": [
    "X = data_predict_pledging_amount.drop('usd_pledged',axis=1)\n",
    "y = data_predict_pledging_amount['usd_pledged']"
   ]
  },
  {
   "cell_type": "code",
   "execution_count": 796,
   "id": "armed-basketball",
   "metadata": {},
   "outputs": [],
   "source": [
    "from sklearn.model_selection import train_test_split"
   ]
  },
  {
   "cell_type": "code",
   "execution_count": 797,
   "id": "lined-yacht",
   "metadata": {},
   "outputs": [],
   "source": [
    "X_train,X_test,y_train, y_test =train_test_split(X,y,test_size=0.3,random_state=101)"
   ]
  },
  {
   "cell_type": "code",
   "execution_count": 798,
   "id": "direct-office",
   "metadata": {},
   "outputs": [],
   "source": [
    "from  sklearn.preprocessing import StandardScaler\n",
    "X_train_scaled_features=StandardScaler().fit_transform(X_train.values)\n",
    "X_test_scaled_features=StandardScaler().fit_transform(X_test.values)\n"
   ]
  },
  {
   "cell_type": "code",
   "execution_count": 799,
   "id": "written-spare",
   "metadata": {},
   "outputs": [
    {
     "data": {
      "text/plain": [
       "array([[-0.3920039 , -0.27302412,  0.00609626, ...,  1.63829633,\n",
       "        -0.3497289 , -0.18266935],\n",
       "       [-0.3920039 , -2.14134545, -0.32953656, ..., -0.61039018,\n",
       "        -0.3497289 , -0.18266935],\n",
       "       [-0.3920039 , -0.27302412, -0.25853731, ..., -0.61039018,\n",
       "        -0.3497289 , -0.18266935],\n",
       "       ...,\n",
       "       [-0.3920039 , -0.27302412,  3.07842744, ..., -0.61039018,\n",
       "        -0.3497289 , -0.18266935],\n",
       "       [-0.3920039 , -0.27302412,  0.03191417, ...,  1.63829633,\n",
       "        -0.3497289 , -0.18266935],\n",
       "       [-0.3920039 , -0.27302412, -0.32953656, ..., -0.61039018,\n",
       "        -0.3497289 , -0.18266935]])"
      ]
     },
     "execution_count": 799,
     "metadata": {},
     "output_type": "execute_result"
    }
   ],
   "source": [
    "X_test_scaled_features"
   ]
  },
  {
   "cell_type": "code",
   "execution_count": 800,
   "id": "covered-minister",
   "metadata": {},
   "outputs": [],
   "source": [
    "#array to df\n",
    "X_train_scaled_features_df = pd.DataFrame(X_train_scaled_features,index=X_train.index,columns=X_train.columns)\n",
    "X_test_scaled_features_df = pd.DataFrame(X_test_scaled_features,index=X_test.index,columns=X_test.columns)"
   ]
  },
  {
   "cell_type": "code",
   "execution_count": 801,
   "id": "national-institution",
   "metadata": {},
   "outputs": [
    {
     "data": {
      "text/plain": [
       "LinearRegression()"
      ]
     },
     "execution_count": 801,
     "metadata": {},
     "output_type": "execute_result"
    }
   ],
   "source": [
    "from sklearn.linear_model import LinearRegression\n",
    "lm = LinearRegression()\n",
    "lm.fit(X_train_scaled_features,y_train)"
   ]
  },
  {
   "cell_type": "code",
   "execution_count": 802,
   "id": "consecutive-strengthening",
   "metadata": {},
   "outputs": [
    {
     "name": "stdout",
     "output_type": "stream",
     "text": [
      "7.061015921352256\n"
     ]
    }
   ],
   "source": [
    "print(lm.intercept_)"
   ]
  },
  {
   "cell_type": "code",
   "execution_count": 803,
   "id": "particular-fence",
   "metadata": {},
   "outputs": [
    {
     "data": {
      "text/html": [
       "<div>\n",
       "<style scoped>\n",
       "    .dataframe tbody tr th:only-of-type {\n",
       "        vertical-align: middle;\n",
       "    }\n",
       "\n",
       "    .dataframe tbody tr th {\n",
       "        vertical-align: top;\n",
       "    }\n",
       "\n",
       "    .dataframe thead th {\n",
       "        text-align: right;\n",
       "    }\n",
       "</style>\n",
       "<table border=\"1\" class=\"dataframe\">\n",
       "  <thead>\n",
       "    <tr style=\"text-align: right;\">\n",
       "      <th></th>\n",
       "      <th>Coefficient</th>\n",
       "    </tr>\n",
       "  </thead>\n",
       "  <tbody>\n",
       "    <tr>\n",
       "      <th>staff_pick</th>\n",
       "      <td>9.130291e-01</td>\n",
       "    </tr>\n",
       "    <tr>\n",
       "      <th>Launch_Period</th>\n",
       "      <td>-3.452112e-01</td>\n",
       "    </tr>\n",
       "    <tr>\n",
       "      <th>Created_to_Launch</th>\n",
       "      <td>2.131079e-01</td>\n",
       "    </tr>\n",
       "    <tr>\n",
       "      <th>blurb_words_count</th>\n",
       "      <td>-1.210155e-01</td>\n",
       "    </tr>\n",
       "    <tr>\n",
       "      <th>name_words_count</th>\n",
       "      <td>3.415534e-01</td>\n",
       "    </tr>\n",
       "    <tr>\n",
       "      <th>usd_goal</th>\n",
       "      <td>-3.411552e-02</td>\n",
       "    </tr>\n",
       "    <tr>\n",
       "      <th>1</th>\n",
       "      <td>-6.198388e+13</td>\n",
       "    </tr>\n",
       "    <tr>\n",
       "      <th>2</th>\n",
       "      <td>-6.364389e+13</td>\n",
       "    </tr>\n",
       "    <tr>\n",
       "      <th>3</th>\n",
       "      <td>-6.404896e+13</td>\n",
       "    </tr>\n",
       "    <tr>\n",
       "      <th>4</th>\n",
       "      <td>-5.689321e+13</td>\n",
       "    </tr>\n",
       "    <tr>\n",
       "      <th>5</th>\n",
       "      <td>-5.936541e+13</td>\n",
       "    </tr>\n",
       "    <tr>\n",
       "      <th>6</th>\n",
       "      <td>-5.966447e+13</td>\n",
       "    </tr>\n",
       "    <tr>\n",
       "      <th>7</th>\n",
       "      <td>-6.665506e+13</td>\n",
       "    </tr>\n",
       "    <tr>\n",
       "      <th>8</th>\n",
       "      <td>-5.705206e+13</td>\n",
       "    </tr>\n",
       "    <tr>\n",
       "      <th>9</th>\n",
       "      <td>-6.240500e+13</td>\n",
       "    </tr>\n",
       "    <tr>\n",
       "      <th>10</th>\n",
       "      <td>-6.524152e+13</td>\n",
       "    </tr>\n",
       "    <tr>\n",
       "      <th>11</th>\n",
       "      <td>-6.226509e+13</td>\n",
       "    </tr>\n",
       "    <tr>\n",
       "      <th>12</th>\n",
       "      <td>-5.145847e+13</td>\n",
       "    </tr>\n",
       "    <tr>\n",
       "      <th>crafts</th>\n",
       "      <td>7.461891e+12</td>\n",
       "    </tr>\n",
       "    <tr>\n",
       "      <th>dance</th>\n",
       "      <td>7.461891e+12</td>\n",
       "    </tr>\n",
       "    <tr>\n",
       "      <th>design</th>\n",
       "      <td>1.083476e+13</td>\n",
       "    </tr>\n",
       "    <tr>\n",
       "      <th>fashion</th>\n",
       "      <td>2.667813e+13</td>\n",
       "    </tr>\n",
       "    <tr>\n",
       "      <th>film%20&amp;%20video</th>\n",
       "      <td>3.913155e+13</td>\n",
       "    </tr>\n",
       "    <tr>\n",
       "      <th>food</th>\n",
       "      <td>2.998729e+13</td>\n",
       "    </tr>\n",
       "    <tr>\n",
       "      <th>games</th>\n",
       "      <td>1.932517e+13</td>\n",
       "    </tr>\n",
       "    <tr>\n",
       "      <th>journalism</th>\n",
       "      <td>2.237561e+13</td>\n",
       "    </tr>\n",
       "    <tr>\n",
       "      <th>music</th>\n",
       "      <td>3.839710e+13</td>\n",
       "    </tr>\n",
       "    <tr>\n",
       "      <th>publishing</th>\n",
       "      <td>2.730148e+13</td>\n",
       "    </tr>\n",
       "    <tr>\n",
       "      <th>technology</th>\n",
       "      <td>1.712883e+13</td>\n",
       "    </tr>\n",
       "  </tbody>\n",
       "</table>\n",
       "</div>"
      ],
      "text/plain": [
       "                    Coefficient\n",
       "staff_pick         9.130291e-01\n",
       "Launch_Period     -3.452112e-01\n",
       "Created_to_Launch  2.131079e-01\n",
       "blurb_words_count -1.210155e-01\n",
       "name_words_count   3.415534e-01\n",
       "usd_goal          -3.411552e-02\n",
       "1                 -6.198388e+13\n",
       "2                 -6.364389e+13\n",
       "3                 -6.404896e+13\n",
       "4                 -5.689321e+13\n",
       "5                 -5.936541e+13\n",
       "6                 -5.966447e+13\n",
       "7                 -6.665506e+13\n",
       "8                 -5.705206e+13\n",
       "9                 -6.240500e+13\n",
       "10                -6.524152e+13\n",
       "11                -6.226509e+13\n",
       "12                -5.145847e+13\n",
       "crafts             7.461891e+12\n",
       "dance              7.461891e+12\n",
       "design             1.083476e+13\n",
       "fashion            2.667813e+13\n",
       "film%20&%20video   3.913155e+13\n",
       "food               2.998729e+13\n",
       "games              1.932517e+13\n",
       "journalism         2.237561e+13\n",
       "music              3.839710e+13\n",
       "publishing         2.730148e+13\n",
       "technology         1.712883e+13"
      ]
     },
     "execution_count": 803,
     "metadata": {},
     "output_type": "execute_result"
    }
   ],
   "source": [
    "coeff_df=pd.DataFrame(lm.coef_,X.columns,columns=['Coefficient'])\n",
    "coeff_df"
   ]
  },
  {
   "cell_type": "code",
   "execution_count": 804,
   "id": "surrounded-pharmacology",
   "metadata": {},
   "outputs": [],
   "source": [
    "predictions = lm.predict(X_test_scaled_features_df)"
   ]
  },
  {
   "cell_type": "code",
   "execution_count": 805,
   "id": "contained-audit",
   "metadata": {},
   "outputs": [
    {
     "data": {
      "text/plain": [
       "<matplotlib.collections.PathCollection at 0x150fdbd15b0>"
      ]
     },
     "execution_count": 805,
     "metadata": {},
     "output_type": "execute_result"
    },
    {
     "data": {
      "image/png": "[encoded data removed]",
      "text/plain": [
       "<Figure size 432x288 with 1 Axes>"
      ]
     },
     "metadata": {
      "needs_background": "light"
     },
     "output_type": "display_data"
    }
   ],
   "source": [
    "plt.scatter(y_test,predictions)"
   ]
  },
  {
   "cell_type": "code",
   "execution_count": 806,
   "id": "damaged-shipping",
   "metadata": {},
   "outputs": [],
   "source": [
    "from sklearn import metrics\n",
    "from sklearn.metrics import r2_score"
   ]
  },
  {
   "cell_type": "code",
   "execution_count": 807,
   "id": "radical-graduation",
   "metadata": {},
   "outputs": [],
   "source": [
    "r2=r2_score(y_test,predictions)"
   ]
  },
  {
   "cell_type": "code",
   "execution_count": 808,
   "id": "protected-showcase",
   "metadata": {},
   "outputs": [
    {
     "data": {
      "text/plain": [
       "-2.710107779165429e+25"
      ]
     },
     "execution_count": 808,
     "metadata": {},
     "output_type": "execute_result"
    }
   ],
   "source": [
    "r2"
   ]
  },
  {
   "cell_type": "code",
   "execution_count": 809,
   "id": "simplified-tragedy",
   "metadata": {},
   "outputs": [
    {
     "name": "stdout",
     "output_type": "stream",
     "text": [
      "MAE: 11027425325601.602\n",
      "MSE: 2.0952040203604535e+26\n",
      "RMSE: 14474819585612.988\n"
     ]
    }
   ],
   "source": [
    "print('MAE:', metrics.mean_absolute_error(y_test, predictions))\n",
    "print('MSE:', metrics.mean_squared_error(y_test, predictions))\n",
    "print('RMSE:', np.sqrt(metrics.mean_squared_error(y_test, predictions)))"
   ]
  },
  {
   "cell_type": "markdown",
   "id": "first-visiting",
   "metadata": {},
   "source": [
    "# Decision Tree Regressor"
   ]
  },
  {
   "cell_type": "code",
   "execution_count": 810,
   "id": "meaningful-moscow",
   "metadata": {},
   "outputs": [],
   "source": [
    "from sklearn.tree import DecisionTreeRegressor"
   ]
  },
  {
   "cell_type": "code",
   "execution_count": 811,
   "id": "dependent-procedure",
   "metadata": {},
   "outputs": [
    {
     "data": {
      "text/plain": [
       "DecisionTreeRegressor(random_state=0)"
      ]
     },
     "execution_count": 811,
     "metadata": {},
     "output_type": "execute_result"
    }
   ],
   "source": [
    "regressor = DecisionTreeRegressor(random_state=0)\n",
    "regressor.fit(X_train,y_train)"
   ]
  },
  {
   "cell_type": "code",
   "execution_count": 812,
   "id": "athletic-portland",
   "metadata": {},
   "outputs": [
    {
     "name": "stdout",
     "output_type": "stream",
     "text": [
      "5\n"
     ]
    }
   ],
   "source": [
    "#fit the best max.depth\n",
    "\n",
    "myList = list(range(2,100))\n",
    "scores=[]\n",
    "for i in myList:\n",
    "    dt_reg=DecisionTreeRegressor(max_depth=i)\n",
    "    dt_reg.fit(X_train,y_train)\n",
    "    scores.append(dt_reg.score(X_test,y_test))\n",
    "    \n",
    "print(myList[scores.index(max(scores))])"
   ]
  },
  {
   "cell_type": "code",
   "execution_count": 813,
   "id": "sticky-quarterly",
   "metadata": {},
   "outputs": [
    {
     "data": {
      "text/plain": [
       "DecisionTreeRegressor(max_depth=10)"
      ]
     },
     "execution_count": 813,
     "metadata": {},
     "output_type": "execute_result"
    }
   ],
   "source": [
    "# Fit regression model\n",
    "regr_1 = DecisionTreeRegressor(max_depth=2)\n",
    "regr_2 = DecisionTreeRegressor(max_depth=5)\n",
    "regr_3 = DecisionTreeRegressor(max_depth=8)\n",
    "regr_4 = DecisionTreeRegressor(max_depth=10)\n",
    "regr_1.fit(X, y)\n",
    "regr_2.fit(X, y)\n",
    "regr_3.fit(X, y)\n",
    "regr_4.fit(X, y)"
   ]
  },
  {
   "cell_type": "code",
   "execution_count": 814,
   "id": "liable-independence",
   "metadata": {},
   "outputs": [],
   "source": [
    "y_1 = regr_1.predict(X_test)\n",
    "y_2 = regr_2.predict(X_test)\n",
    "y_3 = regr_3.predict(X_test)\n",
    "y_4 = regr_4.predict(X_test)"
   ]
  },
  {
   "cell_type": "code",
   "execution_count": 815,
   "id": "caring-family",
   "metadata": {},
   "outputs": [
    {
     "name": "stdout",
     "output_type": "stream",
     "text": [
      "Mean Absolute Error: 1.9394317590605425\n",
      "Mean Squared Error: 6.492492893931405\n",
      "Root Mean Squared Error: 2.548037066828386\n",
      "R Squared: 0.16020801186737377\n"
     ]
    }
   ],
   "source": [
    "from sklearn import metrics\n",
    "print('Mean Absolute Error:', metrics.mean_absolute_error(y_test, y_1))\n",
    "print('Mean Squared Error:', metrics.mean_squared_error(y_test, y_1))\n",
    "print('Root Mean Squared Error:', np.sqrt(metrics.mean_squared_error(y_test, y_1)))\n",
    "print('R Squared:',r2_score(y_test,y_1))"
   ]
  },
  {
   "cell_type": "code",
   "execution_count": 816,
   "id": "royal-expression",
   "metadata": {},
   "outputs": [
    {
     "name": "stdout",
     "output_type": "stream",
     "text": [
      "Mean Absolute Error: 1.683149830620827\n",
      "Mean Squared Error: 5.362121080751575\n",
      "Root Mean Squared Error: 2.31562541892068\n",
      "R Squared: 0.3064195222729792\n"
     ]
    }
   ],
   "source": [
    "from sklearn import metrics\n",
    "print('Mean Absolute Error:', metrics.mean_absolute_error(y_test, y_2))\n",
    "print('Mean Squared Error:', metrics.mean_squared_error(y_test, y_2))\n",
    "print('Root Mean Squared Error:', np.sqrt(metrics.mean_squared_error(y_test, y_2)))\n",
    "print('R Squared:',r2_score(y_test,y_2))"
   ]
  },
  {
   "cell_type": "code",
   "execution_count": 817,
   "id": "roman-penetration",
   "metadata": {},
   "outputs": [
    {
     "name": "stdout",
     "output_type": "stream",
     "text": [
      "Mean Absolute Error: 1.234986974159066\n",
      "Mean Squared Error: 3.502202240614698\n",
      "Root Mean Squared Error: 1.8714171743934322\n",
      "R Squared: 0.5469965958318646\n"
     ]
    }
   ],
   "source": [
    "from sklearn import metrics\n",
    "print('Mean Absolute Error:', metrics.mean_absolute_error(y_test, y_4))\n",
    "print('Mean Squared Error:', metrics.mean_squared_error(y_test, y_4))\n",
    "print('Root Mean Squared Error:', np.sqrt(metrics.mean_squared_error(y_test, y_4)))\n",
    "print('R Squared:',r2_score(y_test,y_4))"
   ]
  },
  {
   "cell_type": "code",
   "execution_count": 818,
   "id": "identical-swaziland",
   "metadata": {},
   "outputs": [
    {
     "name": "stdout",
     "output_type": "stream",
     "text": [
      "Mean Absolute Error: 1.437412617131834\n",
      "Mean Squared Error: 4.251958837748116\n",
      "Root Mean Squared Error: 2.0620278460166626\n",
      "R Squared: 0.450016962028837\n"
     ]
    }
   ],
   "source": [
    "from sklearn import metrics\n",
    "print('Mean Absolute Error:', metrics.mean_absolute_error(y_test, y_3))\n",
    "print('Mean Squared Error:', metrics.mean_squared_error(y_test, y_3))\n",
    "print('Root Mean Squared Error:', np.sqrt(metrics.mean_squared_error(y_test, y_3)))\n",
    "print('R Squared:',r2_score(y_test,y_3))"
   ]
  },
  {
   "cell_type": "code",
   "execution_count": null,
   "id": "fifth-structure",
   "metadata": {},
   "outputs": [],
   "source": []
  },
  {
   "cell_type": "code",
   "execution_count": null,
   "id": "bottom-plumbing",
   "metadata": {},
   "outputs": [],
   "source": []
  },
  {
   "cell_type": "code",
   "execution_count": null,
   "id": "military-ceiling",
   "metadata": {},
   "outputs": [],
   "source": []
  },
  {
   "cell_type": "code",
   "execution_count": null,
   "id": "fundamental-namibia",
   "metadata": {},
   "outputs": [],
   "source": []
  },
  {
   "cell_type": "code",
   "execution_count": null,
   "id": "alien-library",
   "metadata": {},
   "outputs": [],
   "source": []
  },
  {
   "cell_type": "code",
   "execution_count": null,
   "id": "beautiful-wealth",
   "metadata": {},
   "outputs": [],
   "source": []
  },
  {
   "cell_type": "code",
   "execution_count": null,
   "id": "little-logistics",
   "metadata": {},
   "outputs": [],
   "source": []
  },
  {
   "cell_type": "code",
   "execution_count": null,
   "id": "textile-confidentiality",
   "metadata": {},
   "outputs": [],
   "source": []
  }
 ],
 "metadata": {
  "kernelspec": {
   "display_name": "Python 3",
   "language": "python",
   "name": "python3"
  },
  "language_info": {
   "codemirror_mode": {
    "name": "ipython",
    "version": 3
   },
   "file_extension": ".py",
   "mimetype": "text/x-python",
   "name": "python",
   "nbconvert_exporter": "python",
   "pygments_lexer": "ipython3",
   "version": "3.8.5"
  }
 },
 "nbformat": 4,
 "nbformat_minor": 5
}
