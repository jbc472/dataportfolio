{
  "nbformat": 4,
  "nbformat_minor": 0,
  "metadata": {
    "colab": {
      "name": "Ecommerce_Time series_Prediction",
      "provenance": [],
      "toc_visible": true
    },
    "kernelspec": {
      "name": "python3",
      "display_name": "Python 3"
    },
    "language_info": {
      "name": "python"
    }
  },
  "cells": [
    {
      "cell_type": "code",
      "metadata": {
        "id": "M4D_HWcqEKt5"
      },
      "source": [
        "import warnings;\n",
        "warnings.simplefilter('ignore')"
      ],
      "execution_count": 21,
      "outputs": []
    },
    {
      "cell_type": "code",
      "metadata": {
        "id": "eTXReQTKBELU"
      },
      "source": [
        "#https://www.kaggle.com/vik2012kvs/high-value-customers-identification"
      ],
      "execution_count": null,
      "outputs": []
    },
    {
      "cell_type": "code",
      "metadata": {
        "colab": {
          "base_uri": "https://localhost:8080/"
        },
        "id": "D_BY9h8yGntG",
        "outputId": "f4602df3-b1ab-40b5-a85c-92ba334c678b"
      },
      "source": [
        "!pip install pystan fbprophet"
      ],
      "execution_count": 22,
      "outputs": [
        {
          "output_type": "stream",
          "text": [
            "Requirement already satisfied: pystan in /usr/local/lib/python3.7/dist-packages (2.19.1.1)\n",
            "Requirement already satisfied: fbprophet in /usr/local/lib/python3.7/dist-packages (0.7.1)\n",
            "Requirement already satisfied: Cython!=0.25.1,>=0.22 in /usr/local/lib/python3.7/dist-packages (from pystan) (0.29.23)\n",
            "Requirement already satisfied: numpy>=1.7 in /usr/local/lib/python3.7/dist-packages (from pystan) (1.19.5)\n",
            "Requirement already satisfied: cmdstanpy==0.9.5 in /usr/local/lib/python3.7/dist-packages (from fbprophet) (0.9.5)\n",
            "Requirement already satisfied: pandas>=1.0.4 in /usr/local/lib/python3.7/dist-packages (from fbprophet) (1.1.5)\n",
            "Requirement already satisfied: matplotlib>=2.0.0 in /usr/local/lib/python3.7/dist-packages (from fbprophet) (3.2.2)\n",
            "Requirement already satisfied: LunarCalendar>=0.0.9 in /usr/local/lib/python3.7/dist-packages (from fbprophet) (0.0.9)\n",
            "Requirement already satisfied: convertdate>=2.1.2 in /usr/local/lib/python3.7/dist-packages (from fbprophet) (2.3.2)\n",
            "Requirement already satisfied: holidays>=0.10.2 in /usr/local/lib/python3.7/dist-packages (from fbprophet) (0.10.5.2)\n",
            "Requirement already satisfied: setuptools-git>=1.2 in /usr/local/lib/python3.7/dist-packages (from fbprophet) (1.2)\n",
            "Requirement already satisfied: python-dateutil>=2.8.0 in /usr/local/lib/python3.7/dist-packages (from fbprophet) (2.8.1)\n",
            "Requirement already satisfied: tqdm>=4.36.1 in /usr/local/lib/python3.7/dist-packages (from fbprophet) (4.41.1)\n",
            "Requirement already satisfied: pytz>=2017.2 in /usr/local/lib/python3.7/dist-packages (from pandas>=1.0.4->fbprophet) (2018.9)\n",
            "Requirement already satisfied: kiwisolver>=1.0.1 in /usr/local/lib/python3.7/dist-packages (from matplotlib>=2.0.0->fbprophet) (1.3.1)\n",
            "Requirement already satisfied: pyparsing!=2.0.4,!=2.1.2,!=2.1.6,>=2.0.1 in /usr/local/lib/python3.7/dist-packages (from matplotlib>=2.0.0->fbprophet) (2.4.7)\n",
            "Requirement already satisfied: cycler>=0.10 in /usr/local/lib/python3.7/dist-packages (from matplotlib>=2.0.0->fbprophet) (0.10.0)\n",
            "Requirement already satisfied: ephem>=3.7.5.3 in /usr/local/lib/python3.7/dist-packages (from LunarCalendar>=0.0.9->fbprophet) (3.7.7.1)\n",
            "Requirement already satisfied: pymeeus<=1,>=0.3.13 in /usr/local/lib/python3.7/dist-packages (from convertdate>=2.1.2->fbprophet) (0.5.11)\n",
            "Requirement already satisfied: hijri-converter in /usr/local/lib/python3.7/dist-packages (from holidays>=0.10.2->fbprophet) (2.1.1)\n",
            "Requirement already satisfied: korean-lunar-calendar in /usr/local/lib/python3.7/dist-packages (from holidays>=0.10.2->fbprophet) (0.2.1)\n",
            "Requirement already satisfied: six in /usr/local/lib/python3.7/dist-packages (from holidays>=0.10.2->fbprophet) (1.15.0)\n"
          ],
          "name": "stdout"
        }
      ]
    },
    {
      "cell_type": "code",
      "metadata": {
        "id": "rEJqg4tRGFcW"
      },
      "source": [
        "import pandas as pd\n",
        "from fbprophet import Prophet\n",
        "\n",
        "import seaborn as sns\n",
        "import matplotlib.pyplot as plt\n",
        "%matplotlib inline\n",
        "import pandas as pd\n",
        "import numpy as np\n"
      ],
      "execution_count": 23,
      "outputs": []
    },
    {
      "cell_type": "code",
      "metadata": {
        "id": "Msgjrkxd_bO9"
      },
      "source": [
        "\n",
        "data = pd.read_csv('Ecommerce.csv', encoding= 'unicode_escape')"
      ],
      "execution_count": 31,
      "outputs": []
    },
    {
      "cell_type": "code",
      "metadata": {
        "colab": {
          "base_uri": "https://localhost:8080/",
          "height": 203
        },
        "id": "KOYyhpvqIgwD",
        "outputId": "03fd35de-72e4-4b5a-8313-263324da003b"
      },
      "source": [
        "data.head()"
      ],
      "execution_count": 32,
      "outputs": [
        {
          "output_type": "execute_result",
          "data": {
            "text/html": [
              "<div>\n",
              "<style scoped>\n",
              "    .dataframe tbody tr th:only-of-type {\n",
              "        vertical-align: middle;\n",
              "    }\n",
              "\n",
              "    .dataframe tbody tr th {\n",
              "        vertical-align: top;\n",
              "    }\n",
              "\n",
              "    .dataframe thead th {\n",
              "        text-align: right;\n",
              "    }\n",
              "</style>\n",
              "<table border=\"1\" class=\"dataframe\">\n",
              "  <thead>\n",
              "    <tr style=\"text-align: right;\">\n",
              "      <th></th>\n",
              "      <th>InvoiceNo</th>\n",
              "      <th>StockCode</th>\n",
              "      <th>Description</th>\n",
              "      <th>Quantity</th>\n",
              "      <th>InvoiceDate</th>\n",
              "      <th>UnitPrice</th>\n",
              "      <th>CustomerID</th>\n",
              "      <th>Country</th>\n",
              "      <th>Unnamed: 8</th>\n",
              "    </tr>\n",
              "  </thead>\n",
              "  <tbody>\n",
              "    <tr>\n",
              "      <th>0</th>\n",
              "      <td>536365</td>\n",
              "      <td>85123A</td>\n",
              "      <td>WHITE HANGING HEART T-LIGHT HOLDER</td>\n",
              "      <td>6</td>\n",
              "      <td>29-Nov-16</td>\n",
              "      <td>2.55</td>\n",
              "      <td>17850.0</td>\n",
              "      <td>United Kingdom</td>\n",
              "      <td>NaN</td>\n",
              "    </tr>\n",
              "    <tr>\n",
              "      <th>1</th>\n",
              "      <td>536365</td>\n",
              "      <td>71053</td>\n",
              "      <td>WHITE METAL LANTERN</td>\n",
              "      <td>6</td>\n",
              "      <td>29-Nov-16</td>\n",
              "      <td>3.39</td>\n",
              "      <td>17850.0</td>\n",
              "      <td>United Kingdom</td>\n",
              "      <td>NaN</td>\n",
              "    </tr>\n",
              "    <tr>\n",
              "      <th>2</th>\n",
              "      <td>536365</td>\n",
              "      <td>84406B</td>\n",
              "      <td>CREAM CUPID HEARTS COAT HANGER</td>\n",
              "      <td>8</td>\n",
              "      <td>29-Nov-16</td>\n",
              "      <td>2.75</td>\n",
              "      <td>17850.0</td>\n",
              "      <td>United Kingdom</td>\n",
              "      <td>NaN</td>\n",
              "    </tr>\n",
              "    <tr>\n",
              "      <th>3</th>\n",
              "      <td>536365</td>\n",
              "      <td>84029G</td>\n",
              "      <td>KNITTED UNION FLAG HOT WATER BOTTLE</td>\n",
              "      <td>6</td>\n",
              "      <td>29-Nov-16</td>\n",
              "      <td>3.39</td>\n",
              "      <td>17850.0</td>\n",
              "      <td>United Kingdom</td>\n",
              "      <td>NaN</td>\n",
              "    </tr>\n",
              "    <tr>\n",
              "      <th>4</th>\n",
              "      <td>536365</td>\n",
              "      <td>84029E</td>\n",
              "      <td>RED WOOLLY HOTTIE WHITE HEART.</td>\n",
              "      <td>6</td>\n",
              "      <td>29-Nov-16</td>\n",
              "      <td>3.39</td>\n",
              "      <td>17850.0</td>\n",
              "      <td>United Kingdom</td>\n",
              "      <td>NaN</td>\n",
              "    </tr>\n",
              "  </tbody>\n",
              "</table>\n",
              "</div>"
            ],
            "text/plain": [
              "  InvoiceNo StockCode  ...         Country  Unnamed: 8\n",
              "0    536365    85123A  ...  United Kingdom         NaN\n",
              "1    536365     71053  ...  United Kingdom         NaN\n",
              "2    536365    84406B  ...  United Kingdom         NaN\n",
              "3    536365    84029G  ...  United Kingdom         NaN\n",
              "4    536365    84029E  ...  United Kingdom         NaN\n",
              "\n",
              "[5 rows x 9 columns]"
            ]
          },
          "metadata": {
            "tags": []
          },
          "execution_count": 32
        }
      ]
    },
    {
      "cell_type": "code",
      "metadata": {
        "colab": {
          "base_uri": "https://localhost:8080/"
        },
        "id": "q3u3TW6CIr_b",
        "outputId": "86041c54-c00a-44ea-9c20-30adf3ec3ed0"
      },
      "source": [
        "data['Country'].value_counts()"
      ],
      "execution_count": 33,
      "outputs": [
        {
          "output_type": "execute_result",
          "data": {
            "text/plain": [
              "United Kingdom          495478\n",
              "Germany                   9495\n",
              "France                    8557\n",
              "EIRE                      8196\n",
              "Spain                     2533\n",
              "Netherlands               2371\n",
              "Belgium                   2069\n",
              "Switzerland               2002\n",
              "Portugal                  1519\n",
              "Australia                 1259\n",
              "Norway                    1086\n",
              "Italy                      803\n",
              "Channel Islands            758\n",
              "Finland                    695\n",
              "Cyprus                     622\n",
              "Sweden                     462\n",
              "Unspecified                446\n",
              "Austria                    401\n",
              "Denmark                    389\n",
              "Japan                      358\n",
              "Poland                     341\n",
              "Israel                     297\n",
              "USA                        291\n",
              "Hong Kong                  288\n",
              "Singapore                  229\n",
              "Iceland                    182\n",
              "Canada                     151\n",
              "Greece                     146\n",
              "Malta                      127\n",
              "United Arab Emirates        68\n",
              "European Community          61\n",
              "RSA                         58\n",
              "Lebanon                     45\n",
              "Lithuania                   35\n",
              "Brazil                      32\n",
              "Czech Republic              30\n",
              "Bahrain                     19\n",
              "Saudi Arabia                10\n",
              "Name: Country, dtype: int64"
            ]
          },
          "metadata": {
            "tags": []
          },
          "execution_count": 33
        }
      ]
    },
    {
      "cell_type": "code",
      "metadata": {
        "colab": {
          "base_uri": "https://localhost:8080/"
        },
        "id": "TBFYZdr2APlF",
        "outputId": "09d260a4-af99-41ac-b032-b35d5a92c8b1"
      },
      "source": [
        "data['Unnamed: 8'].value_counts()"
      ],
      "execution_count": 34,
      "outputs": [
        {
          "output_type": "execute_result",
          "data": {
            "text/plain": [
              "Series([], Name: Unnamed: 8, dtype: int64)"
            ]
          },
          "metadata": {
            "tags": []
          },
          "execution_count": 34
        }
      ]
    },
    {
      "cell_type": "code",
      "metadata": {
        "colab": {
          "base_uri": "https://localhost:8080/"
        },
        "id": "7xJmuBOyAWGE",
        "outputId": "7f97021e-8298-4ab7-af3f-ee2e9f9a76d4"
      },
      "source": [
        "data['InvoiceDate'].value_counts()"
      ],
      "execution_count": 35,
      "outputs": [
        {
          "output_type": "execute_result",
          "data": {
            "text/plain": [
              "3-Dec-17     5331\n",
              "6-Dec-17     4940\n",
              "27-Nov-17    4313\n",
              "14-Nov-17    4195\n",
              "9-Nov-17     4089\n",
              "             ... \n",
              "11-Mar-17     537\n",
              "17-Dec-16     522\n",
              "29-Apr-17     452\n",
              "20-Dec-16     291\n",
              "4-Feb-17      279\n",
              "Name: InvoiceDate, Length: 305, dtype: int64"
            ]
          },
          "metadata": {
            "tags": []
          },
          "execution_count": 35
        }
      ]
    },
    {
      "cell_type": "code",
      "metadata": {
        "colab": {
          "base_uri": "https://localhost:8080/",
          "height": 295
        },
        "id": "UzFMimvvIio7",
        "outputId": "4e6e1264-d052-4ca5-c865-d745636e416c"
      },
      "source": [
        "data.describe()"
      ],
      "execution_count": 36,
      "outputs": [
        {
          "output_type": "execute_result",
          "data": {
            "text/html": [
              "<div>\n",
              "<style scoped>\n",
              "    .dataframe tbody tr th:only-of-type {\n",
              "        vertical-align: middle;\n",
              "    }\n",
              "\n",
              "    .dataframe tbody tr th {\n",
              "        vertical-align: top;\n",
              "    }\n",
              "\n",
              "    .dataframe thead th {\n",
              "        text-align: right;\n",
              "    }\n",
              "</style>\n",
              "<table border=\"1\" class=\"dataframe\">\n",
              "  <thead>\n",
              "    <tr style=\"text-align: right;\">\n",
              "      <th></th>\n",
              "      <th>Quantity</th>\n",
              "      <th>UnitPrice</th>\n",
              "      <th>CustomerID</th>\n",
              "      <th>Unnamed: 8</th>\n",
              "    </tr>\n",
              "  </thead>\n",
              "  <tbody>\n",
              "    <tr>\n",
              "      <th>count</th>\n",
              "      <td>541909.000000</td>\n",
              "      <td>541909.000000</td>\n",
              "      <td>406829.000000</td>\n",
              "      <td>0.0</td>\n",
              "    </tr>\n",
              "    <tr>\n",
              "      <th>mean</th>\n",
              "      <td>9.552250</td>\n",
              "      <td>4.611114</td>\n",
              "      <td>15287.690570</td>\n",
              "      <td>NaN</td>\n",
              "    </tr>\n",
              "    <tr>\n",
              "      <th>std</th>\n",
              "      <td>218.081158</td>\n",
              "      <td>96.759853</td>\n",
              "      <td>1713.600303</td>\n",
              "      <td>NaN</td>\n",
              "    </tr>\n",
              "    <tr>\n",
              "      <th>min</th>\n",
              "      <td>-80995.000000</td>\n",
              "      <td>-11062.060000</td>\n",
              "      <td>12346.000000</td>\n",
              "      <td>NaN</td>\n",
              "    </tr>\n",
              "    <tr>\n",
              "      <th>25%</th>\n",
              "      <td>1.000000</td>\n",
              "      <td>1.250000</td>\n",
              "      <td>13953.000000</td>\n",
              "      <td>NaN</td>\n",
              "    </tr>\n",
              "    <tr>\n",
              "      <th>50%</th>\n",
              "      <td>3.000000</td>\n",
              "      <td>2.080000</td>\n",
              "      <td>15152.000000</td>\n",
              "      <td>NaN</td>\n",
              "    </tr>\n",
              "    <tr>\n",
              "      <th>75%</th>\n",
              "      <td>10.000000</td>\n",
              "      <td>4.130000</td>\n",
              "      <td>16791.000000</td>\n",
              "      <td>NaN</td>\n",
              "    </tr>\n",
              "    <tr>\n",
              "      <th>max</th>\n",
              "      <td>80995.000000</td>\n",
              "      <td>38970.000000</td>\n",
              "      <td>18287.000000</td>\n",
              "      <td>NaN</td>\n",
              "    </tr>\n",
              "  </tbody>\n",
              "</table>\n",
              "</div>"
            ],
            "text/plain": [
              "            Quantity      UnitPrice     CustomerID  Unnamed: 8\n",
              "count  541909.000000  541909.000000  406829.000000         0.0\n",
              "mean        9.552250       4.611114   15287.690570         NaN\n",
              "std       218.081158      96.759853    1713.600303         NaN\n",
              "min    -80995.000000  -11062.060000   12346.000000         NaN\n",
              "25%         1.000000       1.250000   13953.000000         NaN\n",
              "50%         3.000000       2.080000   15152.000000         NaN\n",
              "75%        10.000000       4.130000   16791.000000         NaN\n",
              "max     80995.000000   38970.000000   18287.000000         NaN"
            ]
          },
          "metadata": {
            "tags": []
          },
          "execution_count": 36
        }
      ]
    },
    {
      "cell_type": "code",
      "metadata": {
        "id": "6hebhAshI0rM"
      },
      "source": [
        "data.drop(['Unnamed: 8'],axis=1,inplace = True)"
      ],
      "execution_count": 37,
      "outputs": []
    },
    {
      "cell_type": "code",
      "metadata": {
        "colab": {
          "base_uri": "https://localhost:8080/"
        },
        "id": "StLITcoWMIfK",
        "outputId": "6df8e531-cafa-446f-efd1-453ff04defed"
      },
      "source": [
        "data.info()"
      ],
      "execution_count": 38,
      "outputs": [
        {
          "output_type": "stream",
          "text": [
            "<class 'pandas.core.frame.DataFrame'>\n",
            "RangeIndex: 541909 entries, 0 to 541908\n",
            "Data columns (total 8 columns):\n",
            " #   Column       Non-Null Count   Dtype  \n",
            "---  ------       --------------   -----  \n",
            " 0   InvoiceNo    541909 non-null  object \n",
            " 1   StockCode    541909 non-null  object \n",
            " 2   Description  540455 non-null  object \n",
            " 3   Quantity     541909 non-null  int64  \n",
            " 4   InvoiceDate  541909 non-null  object \n",
            " 5   UnitPrice    541909 non-null  float64\n",
            " 6   CustomerID   406829 non-null  float64\n",
            " 7   Country      541909 non-null  object \n",
            "dtypes: float64(2), int64(1), object(5)\n",
            "memory usage: 33.1+ MB\n"
          ],
          "name": "stdout"
        }
      ]
    },
    {
      "cell_type": "code",
      "metadata": {
        "id": "XLg4wVl7F7Z8"
      },
      "source": [
        "data['InvoiceDate'] =  pd.to_datetime(data['InvoiceDate'])"
      ],
      "execution_count": 67,
      "outputs": []
    },
    {
      "cell_type": "code",
      "metadata": {
        "colab": {
          "base_uri": "https://localhost:8080/"
        },
        "id": "bBoB0qB_GCvL",
        "outputId": "fc108a89-96df-4d3b-e8cb-48b91bb9e3da"
      },
      "source": [
        "data['InvoiceDate']"
      ],
      "execution_count": 68,
      "outputs": [
        {
          "output_type": "execute_result",
          "data": {
            "text/plain": [
              "0        2016-11-29\n",
              "1        2016-11-29\n",
              "2        2016-11-29\n",
              "3        2016-11-29\n",
              "4        2016-11-29\n",
              "            ...    \n",
              "541904   2017-12-07\n",
              "541905   2017-12-07\n",
              "541906   2017-12-07\n",
              "541907   2017-12-07\n",
              "541908   2017-12-07\n",
              "Name: InvoiceDate, Length: 541909, dtype: datetime64[ns]"
            ]
          },
          "metadata": {
            "tags": []
          },
          "execution_count": 68
        }
      ]
    },
    {
      "cell_type": "code",
      "metadata": {
        "id": "1U-QwgkKMbHr"
      },
      "source": [
        "data['Year'] = data['InvoiceDate'].apply(lambda x:str(x)[0:4])\n",
        "data['Month'] = data['InvoiceDate'].apply(lambda x:str(x)[5:7])\n",
        "data['Day'] = data['InvoiceDate'].apply(lambda x:str(x)[8:10])\n",
        "\n"
      ],
      "execution_count": 78,
      "outputs": []
    },
    {
      "cell_type": "code",
      "metadata": {
        "colab": {
          "base_uri": "https://localhost:8080/"
        },
        "id": "c5LIw-CSFJuO",
        "outputId": "9747b936-a39f-4bd1-e485-893e8ef7df74"
      },
      "source": [
        "data['Month'].unique()"
      ],
      "execution_count": 74,
      "outputs": [
        {
          "output_type": "execute_result",
          "data": {
            "text/plain": [
              "array(['11', '12', '01', '02', '03', '04', '05', '06', '07', '08', '09',\n",
              "       '10'], dtype=object)"
            ]
          },
          "metadata": {
            "tags": []
          },
          "execution_count": 74
        }
      ]
    },
    {
      "cell_type": "code",
      "metadata": {
        "colab": {
          "base_uri": "https://localhost:8080/"
        },
        "id": "cbc9JuzjGcx6",
        "outputId": "ffca6cd1-e32f-4e6b-b75d-12cbb018b61a"
      },
      "source": [
        "data['Year'].unique()"
      ],
      "execution_count": 75,
      "outputs": [
        {
          "output_type": "execute_result",
          "data": {
            "text/plain": [
              "array(['2016', '2017'], dtype=object)"
            ]
          },
          "metadata": {
            "tags": []
          },
          "execution_count": 75
        }
      ]
    },
    {
      "cell_type": "code",
      "metadata": {
        "colab": {
          "base_uri": "https://localhost:8080/"
        },
        "id": "yCb9qxL9Gijr",
        "outputId": "6b70cd58-2586-43fb-e650-d0b19d81d7b3"
      },
      "source": [
        "data['Day'].unique()"
      ],
      "execution_count": 79,
      "outputs": [
        {
          "output_type": "execute_result",
          "data": {
            "text/plain": [
              "array(['29', '30', '01', '03', '04', '05', '06', '07', '08', '10', '11',\n",
              "       '12', '13', '14', '15', '17', '18', '19', '20', '21', '02', '09',\n",
              "       '16', '22', '23', '24', '25', '26', '28', '31', '27'], dtype=object)"
            ]
          },
          "metadata": {
            "tags": []
          },
          "execution_count": 79
        }
      ]
    },
    {
      "cell_type": "code",
      "metadata": {
        "colab": {
          "base_uri": "https://localhost:8080/"
        },
        "id": "p1XqzjTVNwAi",
        "outputId": "e0332963-601b-4699-ae43-26a5f14fae0f"
      },
      "source": [
        "data.columns.values"
      ],
      "execution_count": 77,
      "outputs": [
        {
          "output_type": "execute_result",
          "data": {
            "text/plain": [
              "array(['InvoiceNo', 'StockCode', 'Description', 'Quantity', 'InvoiceDate',\n",
              "       'UnitPrice', 'CustomerID', 'Country', 'Year', 'Month', 'Day'],\n",
              "      dtype=object)"
            ]
          },
          "metadata": {
            "tags": []
          },
          "execution_count": 77
        }
      ]
    },
    {
      "cell_type": "code",
      "metadata": {
        "id": "a4nzy5MxN7Eq",
        "colab": {
          "base_uri": "https://localhost:8080/"
        },
        "outputId": "399b1f2b-e404-4079-f44f-f83ef72a7ba3"
      },
      "source": [
        "data.isnull().sum()"
      ],
      "execution_count": 81,
      "outputs": [
        {
          "output_type": "execute_result",
          "data": {
            "text/plain": [
              "InvoiceNo           0\n",
              "StockCode           0\n",
              "Description      1454\n",
              "Quantity            0\n",
              "InvoiceDate         0\n",
              "UnitPrice           0\n",
              "CustomerID     135080\n",
              "Country             0\n",
              "Year                0\n",
              "Month               0\n",
              "Day                 0\n",
              "dtype: int64"
            ]
          },
          "metadata": {
            "tags": []
          },
          "execution_count": 81
        }
      ]
    },
    {
      "cell_type": "code",
      "metadata": {
        "colab": {
          "base_uri": "https://localhost:8080/"
        },
        "id": "SMNlPP8IHTsv",
        "outputId": "1ffd46d3-2fb8-4755-913b-445972535c72"
      },
      "source": [
        "data.InvoiceDate.duplicated().sum()"
      ],
      "execution_count": 87,
      "outputs": [
        {
          "output_type": "execute_result",
          "data": {
            "text/plain": [
              "541604"
            ]
          },
          "metadata": {
            "tags": []
          },
          "execution_count": 87
        }
      ]
    },
    {
      "cell_type": "code",
      "metadata": {
        "colab": {
          "base_uri": "https://localhost:8080/"
        },
        "id": "R0fawbcPIcBC",
        "outputId": "99a8c337-bd99-4214-ab15-a58cd4089ec1"
      },
      "source": [
        "data['InvoiceNo'].value_counts()"
      ],
      "execution_count": 88,
      "outputs": [
        {
          "output_type": "execute_result",
          "data": {
            "text/plain": [
              "573585     1114\n",
              "581219      749\n",
              "581492      731\n",
              "580729      721\n",
              "558475      705\n",
              "           ... \n",
              "C544080       1\n",
              "C562122       1\n",
              "560658        1\n",
              "C566775       1\n",
              "C539838       1\n",
              "Name: InvoiceNo, Length: 25900, dtype: int64"
            ]
          },
          "metadata": {
            "tags": []
          },
          "execution_count": 88
        }
      ]
    },
    {
      "cell_type": "code",
      "metadata": {
        "id": "yHs2B8XSIV5D"
      },
      "source": [
        "data['sales'] = data['UnitPrice']* data['Quantity']"
      ],
      "execution_count": 102,
      "outputs": []
    },
    {
      "cell_type": "code",
      "metadata": {
        "colab": {
          "base_uri": "https://localhost:8080/"
        },
        "id": "Du_L0rSBI6Mi",
        "outputId": "f76b9ac9-051e-49d7-a5a8-d86607fa4257"
      },
      "source": [
        "data['UnitPrice']"
      ],
      "execution_count": 101,
      "outputs": [
        {
          "output_type": "execute_result",
          "data": {
            "text/plain": [
              "0         2.55\n",
              "1         3.39\n",
              "2         2.75\n",
              "3         3.39\n",
              "4         3.39\n",
              "          ... \n",
              "541904    0.85\n",
              "541905    2.10\n",
              "541906    4.15\n",
              "541907    4.15\n",
              "541908    4.95\n",
              "Name: UnitPrice, Length: 541909, dtype: float64"
            ]
          },
          "metadata": {
            "tags": []
          },
          "execution_count": 101
        }
      ]
    },
    {
      "cell_type": "code",
      "metadata": {
        "colab": {
          "base_uri": "https://localhost:8080/"
        },
        "id": "Y6xlwjHPI27r",
        "outputId": "ed33e905-05ea-4aad-96da-d4e29cedd167"
      },
      "source": [
        "data['sales']"
      ],
      "execution_count": 103,
      "outputs": [
        {
          "output_type": "execute_result",
          "data": {
            "text/plain": [
              "0         15.30\n",
              "1         20.34\n",
              "2         22.00\n",
              "3         20.34\n",
              "4         20.34\n",
              "          ...  \n",
              "541904    10.20\n",
              "541905    12.60\n",
              "541906    16.60\n",
              "541907    16.60\n",
              "541908    14.85\n",
              "Name: sales, Length: 541909, dtype: float64"
            ]
          },
          "metadata": {
            "tags": []
          },
          "execution_count": 103
        }
      ]
    },
    {
      "cell_type": "code",
      "metadata": {
        "id": "oK15rZJsI8-b"
      },
      "source": [
        "y = data['sales']\n",
        "ds = data['InvoiceDate']"
      ],
      "execution_count": 213,
      "outputs": []
    },
    {
      "cell_type": "code",
      "metadata": {
        "id": "AtFnaAOtJEvq"
      },
      "source": [
        "salespred = pd.concat([y,ds],axis=1)"
      ],
      "execution_count": 214,
      "outputs": []
    },
    {
      "cell_type": "code",
      "metadata": {
        "id": "YZP5SBdLJQ9A"
      },
      "source": [
        "salespred = salespred.groupby(salespred['InvoiceDate'])['sales'].sum().reset_index(name='sales')"
      ],
      "execution_count": 215,
      "outputs": []
    },
    {
      "cell_type": "code",
      "metadata": {
        "colab": {
          "base_uri": "https://localhost:8080/",
          "height": 417
        },
        "id": "1heHNIO7TWHS",
        "outputId": "17eb5047-2a46-4581-f1b5-61cb45e99abe"
      },
      "source": [
        "salespred"
      ],
      "execution_count": 216,
      "outputs": [
        {
          "output_type": "execute_result",
          "data": {
            "text/html": [
              "<div>\n",
              "<style scoped>\n",
              "    .dataframe tbody tr th:only-of-type {\n",
              "        vertical-align: middle;\n",
              "    }\n",
              "\n",
              "    .dataframe tbody tr th {\n",
              "        vertical-align: top;\n",
              "    }\n",
              "\n",
              "    .dataframe thead th {\n",
              "        text-align: right;\n",
              "    }\n",
              "</style>\n",
              "<table border=\"1\" class=\"dataframe\">\n",
              "  <thead>\n",
              "    <tr style=\"text-align: right;\">\n",
              "      <th></th>\n",
              "      <th>InvoiceDate</th>\n",
              "      <th>sales</th>\n",
              "    </tr>\n",
              "  </thead>\n",
              "  <tbody>\n",
              "    <tr>\n",
              "      <th>0</th>\n",
              "      <td>2016-11-29</td>\n",
              "      <td>58635.56</td>\n",
              "    </tr>\n",
              "    <tr>\n",
              "      <th>1</th>\n",
              "      <td>2016-11-30</td>\n",
              "      <td>46207.28</td>\n",
              "    </tr>\n",
              "    <tr>\n",
              "      <th>2</th>\n",
              "      <td>2016-12-01</td>\n",
              "      <td>45620.46</td>\n",
              "    </tr>\n",
              "    <tr>\n",
              "      <th>3</th>\n",
              "      <td>2016-12-03</td>\n",
              "      <td>31383.95</td>\n",
              "    </tr>\n",
              "    <tr>\n",
              "      <th>4</th>\n",
              "      <td>2016-12-04</td>\n",
              "      <td>53860.18</td>\n",
              "    </tr>\n",
              "    <tr>\n",
              "      <th>...</th>\n",
              "      <td>...</td>\n",
              "      <td>...</td>\n",
              "    </tr>\n",
              "    <tr>\n",
              "      <th>300</th>\n",
              "      <td>2017-12-03</td>\n",
              "      <td>57751.32</td>\n",
              "    </tr>\n",
              "    <tr>\n",
              "      <th>301</th>\n",
              "      <td>2017-12-04</td>\n",
              "      <td>54228.37</td>\n",
              "    </tr>\n",
              "    <tr>\n",
              "      <th>302</th>\n",
              "      <td>2017-12-05</td>\n",
              "      <td>75076.22</td>\n",
              "    </tr>\n",
              "    <tr>\n",
              "      <th>303</th>\n",
              "      <td>2017-12-06</td>\n",
              "      <td>81417.78</td>\n",
              "    </tr>\n",
              "    <tr>\n",
              "      <th>304</th>\n",
              "      <td>2017-12-07</td>\n",
              "      <td>32131.53</td>\n",
              "    </tr>\n",
              "  </tbody>\n",
              "</table>\n",
              "<p>305 rows × 2 columns</p>\n",
              "</div>"
            ],
            "text/plain": [
              "    InvoiceDate     sales\n",
              "0    2016-11-29  58635.56\n",
              "1    2016-11-30  46207.28\n",
              "2    2016-12-01  45620.46\n",
              "3    2016-12-03  31383.95\n",
              "4    2016-12-04  53860.18\n",
              "..          ...       ...\n",
              "300  2017-12-03  57751.32\n",
              "301  2017-12-04  54228.37\n",
              "302  2017-12-05  75076.22\n",
              "303  2017-12-06  81417.78\n",
              "304  2017-12-07  32131.53\n",
              "\n",
              "[305 rows x 2 columns]"
            ]
          },
          "metadata": {
            "tags": []
          },
          "execution_count": 216
        }
      ]
    },
    {
      "cell_type": "code",
      "metadata": {
        "id": "FgGaq7KIJhwd"
      },
      "source": [
        "salespred.rename(columns={'sales': 'y', 'InvoiceDate': 'ds'},inplace=True)"
      ],
      "execution_count": 217,
      "outputs": []
    },
    {
      "cell_type": "markdown",
      "metadata": {
        "id": "IMd4k_lDOVr0"
      },
      "source": [
        "# EDA"
      ]
    },
    {
      "cell_type": "code",
      "metadata": {
        "colab": {
          "base_uri": "https://localhost:8080/"
        },
        "id": "niKwEJFIOW5y",
        "outputId": "f99fa131-7bf7-4a27-df80-8b76bf80be1c"
      },
      "source": [
        "data['Year'].sort_values"
      ],
      "execution_count": 111,
      "outputs": [
        {
          "output_type": "execute_result",
          "data": {
            "text/plain": [
              "<bound method Series.sort_values of 0         2016\n",
              "1         2016\n",
              "2         2016\n",
              "3         2016\n",
              "4         2016\n",
              "          ... \n",
              "541904    2017\n",
              "541905    2017\n",
              "541906    2017\n",
              "541907    2017\n",
              "541908    2017\n",
              "Name: Year, Length: 541909, dtype: object>"
            ]
          },
          "metadata": {
            "tags": []
          },
          "execution_count": 111
        }
      ]
    },
    {
      "cell_type": "code",
      "metadata": {
        "id": "c74UnZFYO7e0"
      },
      "source": [
        "data['Year']=data['Year'].astype('int')\n",
        "data['Month']=data['Month'].astype('int')\n",
        "data['Day']=data['Day'].astype('int')"
      ],
      "execution_count": 112,
      "outputs": []
    },
    {
      "cell_type": "code",
      "metadata": {
        "id": "wIOSrmdKWRVG"
      },
      "source": [
        "year = data.groupby(data['Year'])['sales'].sum().reset_index(name='sales')"
      ],
      "execution_count": 233,
      "outputs": []
    },
    {
      "cell_type": "code",
      "metadata": {
        "colab": {
          "base_uri": "https://localhost:8080/",
          "height": 307
        },
        "id": "oiF36bZhOghz",
        "outputId": "4e66dc36-3c43-45f9-e5a8-78e44169e4ca"
      },
      "source": [
        "sns.barplot(data=year, x ='Year', y ='sales',estimator=sum)"
      ],
      "execution_count": 236,
      "outputs": [
        {
          "output_type": "execute_result",
          "data": {
            "text/plain": [
              "<matplotlib.axes._subplots.AxesSubplot at 0x7f97eda9a710>"
            ]
          },
          "metadata": {
            "tags": []
          },
          "execution_count": 236
        },
        {
          "output_type": "display_data",
          "data": {
            "image/png": "[encoded data removed]",
            "text/plain": [
              "<Figure size 432x288 with 1 Axes>"
            ]
          },
          "metadata": {
            "tags": [],
            "needs_background": "light"
          }
        }
      ]
    },
    {
      "cell_type": "code",
      "metadata": {
        "colab": {
          "base_uri": "https://localhost:8080/",
          "height": 307
        },
        "id": "KIAGlAH8Or5o",
        "outputId": "45e4c848-8f10-4369-877a-2c305f9be560"
      },
      "source": [
        "month = data.groupby(data['Month'])['sales'].sum().reset_index(name='sales')\n",
        "sns.barplot(data=month, x ='Month', y ='sales',estimator=sum)"
      ],
      "execution_count": 237,
      "outputs": [
        {
          "output_type": "execute_result",
          "data": {
            "text/plain": [
              "<matplotlib.axes._subplots.AxesSubplot at 0x7f980b73b090>"
            ]
          },
          "metadata": {
            "tags": []
          },
          "execution_count": 237
        },
        {
          "output_type": "display_data",
          "data": {
            "image/png": "[encoded data removed]",
            "text/plain": [
              "<Figure size 432x288 with 1 Axes>"
            ]
          },
          "metadata": {
            "tags": [],
            "needs_background": "light"
          }
        }
      ]
    },
    {
      "cell_type": "code",
      "metadata": {
        "colab": {
          "base_uri": "https://localhost:8080/",
          "height": 296
        },
        "id": "fD5dmcr2OuPa",
        "outputId": "81b636fd-8090-40e0-8ad6-03bc79e699cc"
      },
      "source": [
        "day = data.groupby(data['Day'])['sales'].sum().reset_index(name='sales')\n",
        "sns.lineplot(data=day, x ='Day', y ='sales',estimator=sum)"
      ],
      "execution_count": 240,
      "outputs": [
        {
          "output_type": "execute_result",
          "data": {
            "text/plain": [
              "<matplotlib.axes._subplots.AxesSubplot at 0x7f97f1d3bf90>"
            ]
          },
          "metadata": {
            "tags": []
          },
          "execution_count": 240
        },
        {
          "output_type": "display_data",
          "data": {
            "image/png": "[encoded data removed]",
            "text/plain": [
              "<Figure size 432x288 with 1 Axes>"
            ]
          },
          "metadata": {
            "tags": [],
            "needs_background": "light"
          }
        }
      ]
    },
    {
      "cell_type": "code",
      "metadata": {
        "colab": {
          "base_uri": "https://localhost:8080/",
          "height": 296
        },
        "id": "-2ozJJGwP046",
        "outputId": "5cd6fb93-fc9c-461e-c32d-53e6b0e8322f"
      },
      "source": [
        "sns.lineplot(data=salespred, x ='ds', y ='y')\n",
        "\n",
        "\n"
      ],
      "execution_count": 224,
      "outputs": [
        {
          "output_type": "execute_result",
          "data": {
            "text/plain": [
              "<matplotlib.axes._subplots.AxesSubplot at 0x7f97f3a5dfd0>"
            ]
          },
          "metadata": {
            "tags": []
          },
          "execution_count": 224
        },
        {
          "output_type": "display_data",
          "data": {
            "image/png": "[encoded data removed]",
            "text/plain": [
              "<Figure size 432x288 with 1 Axes>"
            ]
          },
          "metadata": {
            "tags": [],
            "needs_background": "light"
          }
        }
      ]
    },
    {
      "cell_type": "markdown",
      "metadata": {
        "id": "lD3BlodwMJlQ"
      },
      "source": [
        "# Time series prediction"
      ]
    },
    {
      "cell_type": "code",
      "metadata": {
        "colab": {
          "base_uri": "https://localhost:8080/",
          "height": 417
        },
        "id": "WbOQOz45MNkP",
        "outputId": "7cf9cbe1-e723-4a62-a3ab-86ddb2d0431f"
      },
      "source": [
        "salespred "
      ],
      "execution_count": 225,
      "outputs": [
        {
          "output_type": "execute_result",
          "data": {
            "text/html": [
              "<div>\n",
              "<style scoped>\n",
              "    .dataframe tbody tr th:only-of-type {\n",
              "        vertical-align: middle;\n",
              "    }\n",
              "\n",
              "    .dataframe tbody tr th {\n",
              "        vertical-align: top;\n",
              "    }\n",
              "\n",
              "    .dataframe thead th {\n",
              "        text-align: right;\n",
              "    }\n",
              "</style>\n",
              "<table border=\"1\" class=\"dataframe\">\n",
              "  <thead>\n",
              "    <tr style=\"text-align: right;\">\n",
              "      <th></th>\n",
              "      <th>ds</th>\n",
              "      <th>y</th>\n",
              "    </tr>\n",
              "  </thead>\n",
              "  <tbody>\n",
              "    <tr>\n",
              "      <th>0</th>\n",
              "      <td>2016-11-29</td>\n",
              "      <td>58635.56</td>\n",
              "    </tr>\n",
              "    <tr>\n",
              "      <th>1</th>\n",
              "      <td>2016-11-30</td>\n",
              "      <td>46207.28</td>\n",
              "    </tr>\n",
              "    <tr>\n",
              "      <th>2</th>\n",
              "      <td>2016-12-01</td>\n",
              "      <td>45620.46</td>\n",
              "    </tr>\n",
              "    <tr>\n",
              "      <th>3</th>\n",
              "      <td>2016-12-03</td>\n",
              "      <td>31383.95</td>\n",
              "    </tr>\n",
              "    <tr>\n",
              "      <th>4</th>\n",
              "      <td>2016-12-04</td>\n",
              "      <td>53860.18</td>\n",
              "    </tr>\n",
              "    <tr>\n",
              "      <th>...</th>\n",
              "      <td>...</td>\n",
              "      <td>...</td>\n",
              "    </tr>\n",
              "    <tr>\n",
              "      <th>300</th>\n",
              "      <td>2017-12-03</td>\n",
              "      <td>57751.32</td>\n",
              "    </tr>\n",
              "    <tr>\n",
              "      <th>301</th>\n",
              "      <td>2017-12-04</td>\n",
              "      <td>54228.37</td>\n",
              "    </tr>\n",
              "    <tr>\n",
              "      <th>302</th>\n",
              "      <td>2017-12-05</td>\n",
              "      <td>75076.22</td>\n",
              "    </tr>\n",
              "    <tr>\n",
              "      <th>303</th>\n",
              "      <td>2017-12-06</td>\n",
              "      <td>81417.78</td>\n",
              "    </tr>\n",
              "    <tr>\n",
              "      <th>304</th>\n",
              "      <td>2017-12-07</td>\n",
              "      <td>32131.53</td>\n",
              "    </tr>\n",
              "  </tbody>\n",
              "</table>\n",
              "<p>305 rows × 2 columns</p>\n",
              "</div>"
            ],
            "text/plain": [
              "            ds         y\n",
              "0   2016-11-29  58635.56\n",
              "1   2016-11-30  46207.28\n",
              "2   2016-12-01  45620.46\n",
              "3   2016-12-03  31383.95\n",
              "4   2016-12-04  53860.18\n",
              "..         ...       ...\n",
              "300 2017-12-03  57751.32\n",
              "301 2017-12-04  54228.37\n",
              "302 2017-12-05  75076.22\n",
              "303 2017-12-06  81417.78\n",
              "304 2017-12-07  32131.53\n",
              "\n",
              "[305 rows x 2 columns]"
            ]
          },
          "metadata": {
            "tags": []
          },
          "execution_count": 225
        }
      ]
    },
    {
      "cell_type": "code",
      "metadata": {
        "colab": {
          "base_uri": "https://localhost:8080/"
        },
        "id": "MSTjWVVMMe3a",
        "outputId": "ed781f8c-4519-49c7-d31a-a89934c6aab2"
      },
      "source": [
        "m = Prophet(interval_width=0.95,daily_seasonality=True)\n",
        "model = m.fit(salespred)"
      ],
      "execution_count": 226,
      "outputs": [
        {
          "output_type": "stream",
          "text": [
            "INFO:fbprophet:Disabling yearly seasonality. Run prophet with yearly_seasonality=True to override this.\n"
          ],
          "name": "stderr"
        }
      ]
    },
    {
      "cell_type": "code",
      "metadata": {
        "colab": {
          "base_uri": "https://localhost:8080/",
          "height": 307
        },
        "id": "GMCmJy9pMopA",
        "outputId": "1c5b6863-e337-406c-9f62-40399dfe4a28"
      },
      "source": [
        "future = m.make_future_dataframe(periods=365,freq='D')\n",
        "forecast = m.predict(future)\n",
        "forecast.head()"
      ],
      "execution_count": 227,
      "outputs": [
        {
          "output_type": "execute_result",
          "data": {
            "text/html": [
              "<div>\n",
              "<style scoped>\n",
              "    .dataframe tbody tr th:only-of-type {\n",
              "        vertical-align: middle;\n",
              "    }\n",
              "\n",
              "    .dataframe tbody tr th {\n",
              "        vertical-align: top;\n",
              "    }\n",
              "\n",
              "    .dataframe thead th {\n",
              "        text-align: right;\n",
              "    }\n",
              "</style>\n",
              "<table border=\"1\" class=\"dataframe\">\n",
              "  <thead>\n",
              "    <tr style=\"text-align: right;\">\n",
              "      <th></th>\n",
              "      <th>ds</th>\n",
              "      <th>trend</th>\n",
              "      <th>yhat_lower</th>\n",
              "      <th>yhat_upper</th>\n",
              "      <th>trend_lower</th>\n",
              "      <th>trend_upper</th>\n",
              "      <th>additive_terms</th>\n",
              "      <th>additive_terms_lower</th>\n",
              "      <th>additive_terms_upper</th>\n",
              "      <th>daily</th>\n",
              "      <th>daily_lower</th>\n",
              "      <th>daily_upper</th>\n",
              "      <th>weekly</th>\n",
              "      <th>weekly_lower</th>\n",
              "      <th>weekly_upper</th>\n",
              "      <th>multiplicative_terms</th>\n",
              "      <th>multiplicative_terms_lower</th>\n",
              "      <th>multiplicative_terms_upper</th>\n",
              "      <th>yhat</th>\n",
              "    </tr>\n",
              "  </thead>\n",
              "  <tbody>\n",
              "    <tr>\n",
              "      <th>0</th>\n",
              "      <td>2016-11-29</td>\n",
              "      <td>52758.694145</td>\n",
              "      <td>7028.907459</td>\n",
              "      <td>54637.075551</td>\n",
              "      <td>52758.694145</td>\n",
              "      <td>52758.694145</td>\n",
              "      <td>-22717.702474</td>\n",
              "      <td>-22717.702474</td>\n",
              "      <td>-22717.702474</td>\n",
              "      <td>-23267.72018</td>\n",
              "      <td>-23267.72018</td>\n",
              "      <td>-23267.72018</td>\n",
              "      <td>550.017705</td>\n",
              "      <td>550.017705</td>\n",
              "      <td>550.017705</td>\n",
              "      <td>0.0</td>\n",
              "      <td>0.0</td>\n",
              "      <td>0.0</td>\n",
              "      <td>30040.991671</td>\n",
              "    </tr>\n",
              "    <tr>\n",
              "      <th>1</th>\n",
              "      <td>2016-11-30</td>\n",
              "      <td>52700.715359</td>\n",
              "      <td>13499.421348</td>\n",
              "      <td>59717.079111</td>\n",
              "      <td>52700.715359</td>\n",
              "      <td>52700.715359</td>\n",
              "      <td>-15663.184919</td>\n",
              "      <td>-15663.184919</td>\n",
              "      <td>-15663.184919</td>\n",
              "      <td>-23267.72018</td>\n",
              "      <td>-23267.72018</td>\n",
              "      <td>-23267.72018</td>\n",
              "      <td>7604.535260</td>\n",
              "      <td>7604.535260</td>\n",
              "      <td>7604.535260</td>\n",
              "      <td>0.0</td>\n",
              "      <td>0.0</td>\n",
              "      <td>0.0</td>\n",
              "      <td>37037.530439</td>\n",
              "    </tr>\n",
              "    <tr>\n",
              "      <th>2</th>\n",
              "      <td>2016-12-01</td>\n",
              "      <td>52642.736572</td>\n",
              "      <td>1857.243568</td>\n",
              "      <td>51251.611132</td>\n",
              "      <td>52642.736572</td>\n",
              "      <td>52642.736572</td>\n",
              "      <td>-25148.067061</td>\n",
              "      <td>-25148.067061</td>\n",
              "      <td>-25148.067061</td>\n",
              "      <td>-23267.72018</td>\n",
              "      <td>-23267.72018</td>\n",
              "      <td>-23267.72018</td>\n",
              "      <td>-1880.346881</td>\n",
              "      <td>-1880.346881</td>\n",
              "      <td>-1880.346881</td>\n",
              "      <td>0.0</td>\n",
              "      <td>0.0</td>\n",
              "      <td>0.0</td>\n",
              "      <td>27494.669511</td>\n",
              "    </tr>\n",
              "    <tr>\n",
              "      <th>3</th>\n",
              "      <td>2016-12-03</td>\n",
              "      <td>52526.779000</td>\n",
              "      <td>-8842.038720</td>\n",
              "      <td>35449.607160</td>\n",
              "      <td>52526.779000</td>\n",
              "      <td>52526.779000</td>\n",
              "      <td>-39352.618696</td>\n",
              "      <td>-39352.618696</td>\n",
              "      <td>-39352.618696</td>\n",
              "      <td>-23267.72018</td>\n",
              "      <td>-23267.72018</td>\n",
              "      <td>-23267.72018</td>\n",
              "      <td>-16084.898516</td>\n",
              "      <td>-16084.898516</td>\n",
              "      <td>-16084.898516</td>\n",
              "      <td>0.0</td>\n",
              "      <td>0.0</td>\n",
              "      <td>0.0</td>\n",
              "      <td>13174.160304</td>\n",
              "    </tr>\n",
              "    <tr>\n",
              "      <th>4</th>\n",
              "      <td>2016-12-04</td>\n",
              "      <td>52468.800213</td>\n",
              "      <td>6078.584795</td>\n",
              "      <td>53402.802196</td>\n",
              "      <td>52468.800213</td>\n",
              "      <td>52468.800213</td>\n",
              "      <td>-21993.326366</td>\n",
              "      <td>-21993.326366</td>\n",
              "      <td>-21993.326366</td>\n",
              "      <td>-23267.72018</td>\n",
              "      <td>-23267.72018</td>\n",
              "      <td>-23267.72018</td>\n",
              "      <td>1274.393814</td>\n",
              "      <td>1274.393814</td>\n",
              "      <td>1274.393814</td>\n",
              "      <td>0.0</td>\n",
              "      <td>0.0</td>\n",
              "      <td>0.0</td>\n",
              "      <td>30475.473847</td>\n",
              "    </tr>\n",
              "  </tbody>\n",
              "</table>\n",
              "</div>"
            ],
            "text/plain": [
              "          ds         trend  ...  multiplicative_terms_upper          yhat\n",
              "0 2016-11-29  52758.694145  ...                         0.0  30040.991671\n",
              "1 2016-11-30  52700.715359  ...                         0.0  37037.530439\n",
              "2 2016-12-01  52642.736572  ...                         0.0  27494.669511\n",
              "3 2016-12-03  52526.779000  ...                         0.0  13174.160304\n",
              "4 2016-12-04  52468.800213  ...                         0.0  30475.473847\n",
              "\n",
              "[5 rows x 19 columns]"
            ]
          },
          "metadata": {
            "tags": []
          },
          "execution_count": 227
        }
      ]
    },
    {
      "cell_type": "code",
      "metadata": {
        "colab": {
          "base_uri": "https://localhost:8080/",
          "height": 307
        },
        "id": "bcABIkhCNz7I",
        "outputId": "a39266b8-d4f2-4efd-e1e3-c18b8b0d4bd4"
      },
      "source": [
        "forecast.tail()"
      ],
      "execution_count": 228,
      "outputs": [
        {
          "output_type": "execute_result",
          "data": {
            "text/html": [
              "<div>\n",
              "<style scoped>\n",
              "    .dataframe tbody tr th:only-of-type {\n",
              "        vertical-align: middle;\n",
              "    }\n",
              "\n",
              "    .dataframe tbody tr th {\n",
              "        vertical-align: top;\n",
              "    }\n",
              "\n",
              "    .dataframe thead th {\n",
              "        text-align: right;\n",
              "    }\n",
              "</style>\n",
              "<table border=\"1\" class=\"dataframe\">\n",
              "  <thead>\n",
              "    <tr style=\"text-align: right;\">\n",
              "      <th></th>\n",
              "      <th>ds</th>\n",
              "      <th>trend</th>\n",
              "      <th>yhat_lower</th>\n",
              "      <th>yhat_upper</th>\n",
              "      <th>trend_lower</th>\n",
              "      <th>trend_upper</th>\n",
              "      <th>additive_terms</th>\n",
              "      <th>additive_terms_lower</th>\n",
              "      <th>additive_terms_upper</th>\n",
              "      <th>daily</th>\n",
              "      <th>daily_lower</th>\n",
              "      <th>daily_upper</th>\n",
              "      <th>weekly</th>\n",
              "      <th>weekly_lower</th>\n",
              "      <th>weekly_upper</th>\n",
              "      <th>multiplicative_terms</th>\n",
              "      <th>multiplicative_terms_lower</th>\n",
              "      <th>multiplicative_terms_upper</th>\n",
              "      <th>yhat</th>\n",
              "    </tr>\n",
              "  </thead>\n",
              "  <tbody>\n",
              "    <tr>\n",
              "      <th>665</th>\n",
              "      <td>2018-12-03</td>\n",
              "      <td>151201.867400</td>\n",
              "      <td>95165.197816</td>\n",
              "      <td>174602.498084</td>\n",
              "      <td>122257.893984</td>\n",
              "      <td>183824.274291</td>\n",
              "      <td>-17639.886583</td>\n",
              "      <td>-17639.886583</td>\n",
              "      <td>-17639.886583</td>\n",
              "      <td>-23267.72018</td>\n",
              "      <td>-23267.72018</td>\n",
              "      <td>-23267.72018</td>\n",
              "      <td>5627.833596</td>\n",
              "      <td>5627.833596</td>\n",
              "      <td>5627.833596</td>\n",
              "      <td>0.0</td>\n",
              "      <td>0.0</td>\n",
              "      <td>0.0</td>\n",
              "      <td>133561.980816</td>\n",
              "    </tr>\n",
              "    <tr>\n",
              "      <th>666</th>\n",
              "      <td>2018-12-04</td>\n",
              "      <td>151403.496384</td>\n",
              "      <td>91696.560831</td>\n",
              "      <td>169347.884128</td>\n",
              "      <td>122410.944436</td>\n",
              "      <td>184120.872893</td>\n",
              "      <td>-22717.702474</td>\n",
              "      <td>-22717.702474</td>\n",
              "      <td>-22717.702474</td>\n",
              "      <td>-23267.72018</td>\n",
              "      <td>-23267.72018</td>\n",
              "      <td>-23267.72018</td>\n",
              "      <td>550.017705</td>\n",
              "      <td>550.017705</td>\n",
              "      <td>550.017705</td>\n",
              "      <td>0.0</td>\n",
              "      <td>0.0</td>\n",
              "      <td>0.0</td>\n",
              "      <td>128685.793909</td>\n",
              "    </tr>\n",
              "    <tr>\n",
              "      <th>667</th>\n",
              "      <td>2018-12-05</td>\n",
              "      <td>151605.125368</td>\n",
              "      <td>99955.240368</td>\n",
              "      <td>175306.469752</td>\n",
              "      <td>122563.994889</td>\n",
              "      <td>184421.925156</td>\n",
              "      <td>-15663.184919</td>\n",
              "      <td>-15663.184919</td>\n",
              "      <td>-15663.184919</td>\n",
              "      <td>-23267.72018</td>\n",
              "      <td>-23267.72018</td>\n",
              "      <td>-23267.72018</td>\n",
              "      <td>7604.535260</td>\n",
              "      <td>7604.535260</td>\n",
              "      <td>7604.535260</td>\n",
              "      <td>0.0</td>\n",
              "      <td>0.0</td>\n",
              "      <td>0.0</td>\n",
              "      <td>135941.940448</td>\n",
              "    </tr>\n",
              "    <tr>\n",
              "      <th>668</th>\n",
              "      <td>2018-12-06</td>\n",
              "      <td>151806.754352</td>\n",
              "      <td>87805.526131</td>\n",
              "      <td>164223.209656</td>\n",
              "      <td>122655.992487</td>\n",
              "      <td>184785.919608</td>\n",
              "      <td>-25148.067061</td>\n",
              "      <td>-25148.067061</td>\n",
              "      <td>-25148.067061</td>\n",
              "      <td>-23267.72018</td>\n",
              "      <td>-23267.72018</td>\n",
              "      <td>-23267.72018</td>\n",
              "      <td>-1880.346881</td>\n",
              "      <td>-1880.346881</td>\n",
              "      <td>-1880.346881</td>\n",
              "      <td>0.0</td>\n",
              "      <td>0.0</td>\n",
              "      <td>0.0</td>\n",
              "      <td>126658.687291</td>\n",
              "    </tr>\n",
              "    <tr>\n",
              "      <th>669</th>\n",
              "      <td>2018-12-07</td>\n",
              "      <td>152008.383336</td>\n",
              "      <td>94043.519145</td>\n",
              "      <td>172475.349059</td>\n",
              "      <td>122733.932208</td>\n",
              "      <td>185131.209611</td>\n",
              "      <td>-20359.255157</td>\n",
              "      <td>-20359.255157</td>\n",
              "      <td>-20359.255157</td>\n",
              "      <td>-23267.72018</td>\n",
              "      <td>-23267.72018</td>\n",
              "      <td>-23267.72018</td>\n",
              "      <td>2908.465023</td>\n",
              "      <td>2908.465023</td>\n",
              "      <td>2908.465023</td>\n",
              "      <td>0.0</td>\n",
              "      <td>0.0</td>\n",
              "      <td>0.0</td>\n",
              "      <td>131649.128179</td>\n",
              "    </tr>\n",
              "  </tbody>\n",
              "</table>\n",
              "</div>"
            ],
            "text/plain": [
              "            ds          trend  ...  multiplicative_terms_upper           yhat\n",
              "665 2018-12-03  151201.867400  ...                         0.0  133561.980816\n",
              "666 2018-12-04  151403.496384  ...                         0.0  128685.793909\n",
              "667 2018-12-05  151605.125368  ...                         0.0  135941.940448\n",
              "668 2018-12-06  151806.754352  ...                         0.0  126658.687291\n",
              "669 2018-12-07  152008.383336  ...                         0.0  131649.128179\n",
              "\n",
              "[5 rows x 19 columns]"
            ]
          },
          "metadata": {
            "tags": []
          },
          "execution_count": 228
        }
      ]
    },
    {
      "cell_type": "code",
      "metadata": {
        "colab": {
          "base_uri": "https://localhost:8080/",
          "height": 441
        },
        "id": "GrDDJP8UN8XX",
        "outputId": "c9731e1c-277b-44f9-bfea-babe107249db"
      },
      "source": [
        "plot1 = m.plot(forecast)\n"
      ],
      "execution_count": 230,
      "outputs": [
        {
          "output_type": "display_data",
          "data": {
            "image/png": "[encoded data removed]",
            "text/plain": [
              "<Figure size 720x432 with 1 Axes>"
            ]
          },
          "metadata": {
            "tags": []
          }
        }
      ]
    },
    {
      "cell_type": "code",
      "metadata": {
        "colab": {
          "base_uri": "https://localhost:8080/",
          "height": 657
        },
        "id": "LvPuaFROOoT3",
        "outputId": "74db8a23-094a-4a86-c667-491a393fea2f"
      },
      "source": [
        "plot2=m.plot_components(forecast)"
      ],
      "execution_count": 231,
      "outputs": [
        {
          "output_type": "display_data",
          "data": {
            "image/png": "[encoded data removed]",
            "text/plain": [
              "<Figure size 648x648 with 3 Axes>"
            ]
          },
          "metadata": {
            "tags": []
          }
        }
      ]
    }
  ]
}