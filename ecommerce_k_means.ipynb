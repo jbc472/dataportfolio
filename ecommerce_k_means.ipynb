{
 "cells": [
  {
   "cell_type": "code",
   "execution_count": 9,
   "id": "consistent-colleague",
   "metadata": {},
   "outputs": [],
   "source": [
    "import seaborn as sns\n",
    "import matplotlib.pyplot as plt\n",
    "%matplotlib inline\n",
    "import pandas as pd\n",
    "import numpy as np\n"
    "#https://www.kaggle.com/mkechinov/ecommerce-events-history-in-cosmetics-shop"
   ]
  },
  {
   "cell_type": "code",
   "execution_count": 12,
   "id": "surprised-operation",
   "metadata": {},
   "outputs": [],
   "source": [
    "import glob\n",
    "#import all files with similar names(*represent the different part)\n",
    "files = glob.glob('20*.csv')\n",
    "#make a blank data frame first\n",
    "all_data = pd.DataFrame()\n",
    "for file in files:\n",
    "    df = pd.read_csv(file)\n",
    "    all_data = pd.concat([all_data,df])\n",
    "    all_data.to_csv('all_ecommerce.csv')\n"
   ]
  },
  {
   "cell_type": "code",
   "execution_count": 10,
   "id": "southeast-killing",
   "metadata": {},
   "outputs": [],
   "source": [
    "data_raw = pd.read_csv('all_ecommerce.csv')"
   ]
  },
  {
   "cell_type": "code",
   "execution_count": 11,
   "id": "infectious-allowance",
   "metadata": {},
   "outputs": [],
   "source": [
    "data = data_raw.copy()"
   ]
  },
  {
   "cell_type": "code",
   "execution_count": 12,
   "id": "tropical-sunglasses",
   "metadata": {},
   "outputs": [
    {
     "data": {
      "text/html": [
       "<div>\n",
       "<style scoped>\n",
       "    .dataframe tbody tr th:only-of-type {\n",
       "        vertical-align: middle;\n",
       "    }\n",
       "\n",
       "    .dataframe tbody tr th {\n",
       "        vertical-align: top;\n",
       "    }\n",
       "\n",
       "    .dataframe thead th {\n",
       "        text-align: right;\n",
       "    }\n",
       "</style>\n",
       "<table border=\"1\" class=\"dataframe\">\n",
       "  <thead>\n",
       "    <tr style=\"text-align: right;\">\n",
       "      <th></th>\n",
       "      <th>Unnamed: 0</th>\n",
       "      <th>event_time</th>\n",
       "      <th>event_type</th>\n",
       "      <th>product_id</th>\n",
       "      <th>category_id</th>\n",
       "      <th>category_code</th>\n",
       "      <th>brand</th>\n",
       "      <th>price</th>\n",
       "      <th>user_id</th>\n",
       "      <th>user_session</th>\n",
       "    </tr>\n",
       "  </thead>\n",
       "  <tbody>\n",
       "    <tr>\n",
       "      <th>0</th>\n",
       "      <td>0</td>\n",
       "      <td>2019-12-01 00:00:00 UTC</td>\n",
       "      <td>remove_from_cart</td>\n",
       "      <td>5712790</td>\n",
       "      <td>1487580005268456287</td>\n",
       "      <td>NaN</td>\n",
       "      <td>f.o.x</td>\n",
       "      <td>6.27</td>\n",
       "      <td>576802932</td>\n",
       "      <td>51d85cb0-897f-48d2-918b-ad63965c12dc</td>\n",
       "    </tr>\n",
       "    <tr>\n",
       "      <th>1</th>\n",
       "      <td>1</td>\n",
       "      <td>2019-12-01 00:00:00 UTC</td>\n",
       "      <td>view</td>\n",
       "      <td>5764655</td>\n",
       "      <td>1487580005411062629</td>\n",
       "      <td>NaN</td>\n",
       "      <td>cnd</td>\n",
       "      <td>29.05</td>\n",
       "      <td>412120092</td>\n",
       "      <td>8adff31e-2051-4894-9758-224bfa8aec18</td>\n",
       "    </tr>\n",
       "    <tr>\n",
       "      <th>2</th>\n",
       "      <td>2</td>\n",
       "      <td>2019-12-01 00:00:02 UTC</td>\n",
       "      <td>cart</td>\n",
       "      <td>4958</td>\n",
       "      <td>1487580009471148064</td>\n",
       "      <td>NaN</td>\n",
       "      <td>runail</td>\n",
       "      <td>1.19</td>\n",
       "      <td>494077766</td>\n",
       "      <td>c99a50e8-2fac-4c4d-89ec-41c05f114554</td>\n",
       "    </tr>\n",
       "    <tr>\n",
       "      <th>3</th>\n",
       "      <td>3</td>\n",
       "      <td>2019-12-01 00:00:05 UTC</td>\n",
       "      <td>view</td>\n",
       "      <td>5848413</td>\n",
       "      <td>1487580007675986893</td>\n",
       "      <td>NaN</td>\n",
       "      <td>freedecor</td>\n",
       "      <td>0.79</td>\n",
       "      <td>348405118</td>\n",
       "      <td>722ffea5-73c0-4924-8e8f-371ff8031af4</td>\n",
       "    </tr>\n",
       "    <tr>\n",
       "      <th>4</th>\n",
       "      <td>4</td>\n",
       "      <td>2019-12-01 00:00:07 UTC</td>\n",
       "      <td>view</td>\n",
       "      <td>5824148</td>\n",
       "      <td>1487580005511725929</td>\n",
       "      <td>NaN</td>\n",
       "      <td>NaN</td>\n",
       "      <td>5.56</td>\n",
       "      <td>576005683</td>\n",
       "      <td>28172809-7e4a-45ce-bab0-5efa90117cd5</td>\n",
       "    </tr>\n",
       "  </tbody>\n",
       "</table>\n",
       "</div>"
      ],
      "text/plain": [
       "   Unnamed: 0               event_time        event_type  product_id  \\\n",
       "0           0  2019-12-01 00:00:00 UTC  remove_from_cart     5712790   \n",
       "1           1  2019-12-01 00:00:00 UTC              view     5764655   \n",
       "2           2  2019-12-01 00:00:02 UTC              cart        4958   \n",
       "3           3  2019-12-01 00:00:05 UTC              view     5848413   \n",
       "4           4  2019-12-01 00:00:07 UTC              view     5824148   \n",
       "\n",
       "           category_id category_code      brand  price    user_id  \\\n",
       "0  1487580005268456287           NaN      f.o.x   6.27  576802932   \n",
       "1  1487580005411062629           NaN        cnd  29.05  412120092   \n",
       "2  1487580009471148064           NaN     runail   1.19  494077766   \n",
       "3  1487580007675986893           NaN  freedecor   0.79  348405118   \n",
       "4  1487580005511725929           NaN        NaN   5.56  576005683   \n",
       "\n",
       "                           user_session  \n",
       "0  51d85cb0-897f-48d2-918b-ad63965c12dc  \n",
       "1  8adff31e-2051-4894-9758-224bfa8aec18  \n",
       "2  c99a50e8-2fac-4c4d-89ec-41c05f114554  \n",
       "3  722ffea5-73c0-4924-8e8f-371ff8031af4  \n",
       "4  28172809-7e4a-45ce-bab0-5efa90117cd5  "
      ]
     },
     "execution_count": 12,
     "metadata": {},
     "output_type": "execute_result"
    }
   ],
   "source": [
    "data.head()"
   ]
  },
  {
   "cell_type": "code",
   "execution_count": 13,
   "id": "reasonable-caution",
   "metadata": {},
   "outputs": [
    {
     "data": {
      "text/plain": [
       "(20692840, 10)"
      ]
     },
     "execution_count": 13,
     "metadata": {},
     "output_type": "execute_result"
    }
   ],
   "source": [
    "data.shape"
   ]
  },
  {
   "cell_type": "code",
   "execution_count": 14,
   "id": "adult-showcase",
   "metadata": {},
   "outputs": [
    {
     "data": {
      "text/plain": [
       "Unnamed: 0              0\n",
       "event_time              0\n",
       "event_type              0\n",
       "product_id              0\n",
       "category_id             0\n",
       "category_code    20339246\n",
       "brand             8757117\n",
       "price                   0\n",
       "user_id                 0\n",
       "user_session         4598\n",
       "dtype: int64"
      ]
     },
     "execution_count": 14,
     "metadata": {},
     "output_type": "execute_result"
    }
   ],
   "source": [
    "data.isnull().sum()"
   ]
  },
  {
   "cell_type": "code",
   "execution_count": 15,
   "id": "difficult-clothing",
   "metadata": {},
   "outputs": [
    {
     "data": {
      "text/plain": [
       "527021202    26752\n",
       "557616099     9903\n",
       "583884978     9420\n",
       "419558969     8283\n",
       "476450673     8122\n",
       "             ...  \n",
       "458672173        1\n",
       "564746201        1\n",
       "510504774        1\n",
       "581875493        1\n",
       "601706943        1\n",
       "Name: user_id, Length: 1639358, dtype: int64"
      ]
     },
     "execution_count": 15,
     "metadata": {},
     "output_type": "execute_result"
    }
   ],
   "source": [
    "data['user_id'].value_counts()"
   ]
  },
  {
   "cell_type": "code",
   "execution_count": 16,
   "id": "cordless-allocation",
   "metadata": {},
   "outputs": [
    {
     "data": {
      "text/plain": [
       "74206ba1-c863-4760-bbdc-b11777059e46    5411\n",
       "dee05e29-f331-48dc-b1b3-547985fc2aa4    5323\n",
       "d7998d70-7562-4ff0-8870-5ace290db2c9    4193\n",
       "a062f07b-4eef-4266-8660-b3040ed412aa    4037\n",
       "ec5821ee-396d-4b72-a89b-50aea5b0847b    3785\n",
       "                                        ... \n",
       "fbf6197b-30a5-4633-8ad2-c6f6d844a5f4       1\n",
       "0482128e-a763-4a62-933e-86b69d93ba65       1\n",
       "2886089d-0275-4922-bcc5-7c78089ef23b       1\n",
       "6a4a93bc-c689-4202-94fa-f2bea99b2008       1\n",
       "5e4150cd-c78d-4132-bee0-4a199aa81ed7       1\n",
       "Name: user_session, Length: 4535941, dtype: int64"
      ]
     },
     "execution_count": 16,
     "metadata": {},
     "output_type": "execute_result"
    }
   ],
   "source": [
    "data['user_session'].value_counts()"
   ]
  },
  {
   "cell_type": "code",
   "execution_count": 17,
   "id": "personal-characterization",
   "metadata": {},
   "outputs": [
    {
     "data": {
      "text/plain": [
       "runail       1528908\n",
       "irisk        1033852\n",
       "masura        861763\n",
       "grattol       852591\n",
       "bpw.style     434813\n",
       "              ...   \n",
       "shifei             9\n",
       "vl-gel             7\n",
       "dessata            6\n",
       "gena               3\n",
       "pueen              1\n",
       "Name: brand, Length: 273, dtype: int64"
      ]
     },
     "execution_count": 17,
     "metadata": {},
     "output_type": "execute_result"
    }
   ],
   "source": [
    "data['brand'].value_counts()"
   ]
  },
  {
   "cell_type": "code",
   "execution_count": 18,
   "id": "optical-evidence",
   "metadata": {},
   "outputs": [
    {
     "data": {
      "text/plain": [
       "array(['f.o.x', 'cnd', 'runail', 'freedecor', nan, 'ingarden', 'roubloff',\n",
       "       'metzger', 'staleks', 'zinger', 'yoko', 'entity', 'irisk',\n",
       "       'beautix', 'uno', 'philips', 'domix', 'masura', 'grattol',\n",
       "       'strong', 'skinlite', 'nagaraku', 'italwax', 'max', 'bluesky',\n",
       "       'pole', 'cosmoprofi', 'severina', 'bpw.style', 'igrobeauty',\n",
       "       'smart', 'coifin', 'estel', 'lador', 'kapous', 'sophin',\n",
       "       'marathon', 'nitrimax', 'jessnail', 'jas', 'de.lux', 'haruyama',\n",
       "       'orly', 'lianail', 'almea', 'milv', 'lakme', 'concept', 'pnb',\n",
       "       'bodyton', 'rosi', 'petitfee', 'polarus', 'lovely', 'oniq',\n",
       "       'provoc', 'solomeya', 'shik', 'bioaqua', 'art-visage',\n",
       "       'refectocil', 'freshbubble', 'elskin', 'swarovski', 'airnails',\n",
       "       'kosmekka', 'bergamo', 'keen', 'gehwol', 'kinetics', 'estelare',\n",
       "       'missha', 'candy', 'naomi', 'thuya', 'balbcare', 'uskusi',\n",
       "       'farmavita', 'insight', 'ardell', 'limoni', 'happyfons',\n",
       "       'bespecial', 'beauty-free', 'carmex', 'benovy', 'browxenna',\n",
       "       'dermal', 'kiss', 'lowence', 'finish', 'deoproce', 'ecolab', 'inm',\n",
       "       'kaypro', 'emil', 'chi', 'matrix', 'zeitun', 'mavala', 'dizao',\n",
       "       'meisterwerk', 'opi', 'dewal', 's.care', 'kocostar', 'litaline',\n",
       "       'lsanic', 'mane', 'kaaral', 'konad', 'markell', 'artex', 'consly',\n",
       "       'shary', 'lamixx', 'levrana', 'eunyul', 'farmstay', 'kamill',\n",
       "       'elizavecca', 'matreshka', 'sanoto', 'beauugreen', 'koreatida',\n",
       "       'jaguar', 'joico', 'farmona', 'sunuv', 'vosev', 'greymy', 'trind',\n",
       "       'moyou', 'coocla', 'profhenna', 'depilflax', 'inoface', 'miskin',\n",
       "       'fancy', 'i-laq', 'laboratorium', 'riche', 'coxir', 'foamie',\n",
       "       'glysolid', 'enigma', 'parachute', 'tertio', 'lebelage', 'nirvel',\n",
       "       'beautyblender', 'likato', 'nitrile', 'siberina', 'ypsed',\n",
       "       'cutrin', 'enas', 'dr.gloderm', 'osmo', 'vilenta', 'kims',\n",
       "       'levissime', 'keune', 'yu-r', 'mielle', 'ecocraft', 'treaclemoon',\n",
       "       'latinoil', 'cristalinas', 'protokeratin', 'godefroy', 'blixz',\n",
       "       'koelf', 'tannymaxx', 'soleo', 'tosowoong', 'ladykin', 'supertan',\n",
       "       'frozen', 'fly', 'bodipure', 'fedua', 'ovale', 'nefertiti',\n",
       "       'biofollica', 'enjoy', 'batiste', 'profepil', 'ellips', 'dermacol',\n",
       "       'zab', 'kerasys', 'egomania', 'rocknailstar', 'rasyan', 'dorena',\n",
       "       'aura', 'plazan', 'ibd', 'sun', 'sawa', 'tazol', 'veraclara',\n",
       "       'marutaka-foot', 'naturmed', 'binacil', 'essie', 'bosnic',\n",
       "       'barbie', 'cosima', 'australis', 'koelcia', 'skipofit', 'voesh',\n",
       "       'kares', 'grace', 'cruset', 'neoleor', 'biore', 'skinity',\n",
       "       'weaver', 'juno', 'busch', 'andrea', 'kezy', 'eos', 'blise',\n",
       "       'labay', 'esquire', 'barex', 'radius', 'invisibobble',\n",
       "       'embryolisse', 'uralsoap', 'lunaris', 'helloganic', 'cuccio',\n",
       "       'dartnails', 'laiseven', 'mayamy', 'ikoo', 'estrade', 'biorepair',\n",
       "       'macadamia', 'babyliss', 'yllozure', 'relouis', 'avene', 'ermine',\n",
       "       'beautific', 'herbolive', 'shifei', 'dessata', 'footlogix', 'nova',\n",
       "       'vl-gel', 'pueen', 'gena', 'bielenda', 'arganoil', 'gezatone',\n",
       "       'kondor', 'termix', 'vichy', 'luxvisage', 'bioderma', 'note',\n",
       "       'dancoly', 'everyang', 'rorec', 'pilaten', 'dobrovit', 'cettua',\n",
       "       'resize'], dtype=object)"
      ]
     },
     "execution_count": 18,
     "metadata": {},
     "output_type": "execute_result"
    }
   ],
   "source": [
    "data['brand'].unique()"
   ]
  },
  {
   "cell_type": "code",
   "execution_count": 19,
   "id": "equivalent-stockholm",
   "metadata": {},
   "outputs": [
    {
     "data": {
      "text/plain": [
       "array(['remove_from_cart', 'view', 'cart', 'purchase'], dtype=object)"
      ]
     },
     "execution_count": 19,
     "metadata": {},
     "output_type": "execute_result"
    }
   ],
   "source": [
    "data['event_type'].unique()"
   ]
  },
  {
   "cell_type": "code",
   "execution_count": 20,
   "id": "filled-uncertainty",
   "metadata": {},
   "outputs": [],
   "source": [
    "data = data.drop(['Unnamed: 0','category_code','user_session'],axis=1)"
   ]
  },
  {
   "cell_type": "markdown",
   "id": "olive-poultry",
   "metadata": {},
   "source": [
    "# Initial Planning\n",
    "# Possible EDA:\n",
    "1. unique user id highest purchased amount (Done)\n",
    "2. brand with highest purchased (Done)\n",
    "3. click through rate --------------product / brand with highest CTR\n",
    "4. cart:view ratio------------------brand with highest add to cart ratio\n",
    "5. purchase:view ratio (conversion rate)------------product,brand with highest conversion rate\n",
    "6. Average purchased price\n",
    "7. Customer purchased frequency/Customer Lifetime value\n",
    "8. CPO, CPNC\n",
    "9. average order value\n",
    "10. return rate\n",
    "10. Time series analysis e.g sales/view/sessions in days, hours, months (Done)\n",
    "\n",
    "\n",
    "# Possible Machine learning\n",
    "1. K means clustering based on (total purchased amount, purchase frequency, viewing frequency, average order value, number of brands purchased, is returned customer?)(Done) \n",
    "\n",
    "2. Sales forecast \n",
    "\n",
    "3. Regression to predict purchase frequency"
   ]
  },
  {
   "cell_type": "markdown",
   "id": "sacred-spanish",
   "metadata": {},
   "source": [
    "# Data Preprocessing"
   ]
  },
  {
   "cell_type": "markdown",
   "id": "straight-anchor",
   "metadata": {},
   "source": [
    "## Deal with missing values"
   ]
  },
  {
   "cell_type": "code",
   "execution_count": 150,
   "id": "curious-meter",
   "metadata": {},
   "outputs": [
    {
     "data": {
      "text/plain": [
       "event_time     0\n",
       "event_type     0\n",
       "product_id     0\n",
       "category_id    0\n",
       "brand          0\n",
       "price          0\n",
       "user_id        0\n",
       "Year           0\n",
       "Month          0\n",
       "Day            0\n",
       "Hour           0\n",
       "Date           0\n",
       "dtype: int64"
      ]
     },
     "execution_count": 150,
     "metadata": {},
     "output_type": "execute_result"
    }
   ],
   "source": [
    "data.isnull().sum()"
   ]
  },
  {
   "cell_type": "code",
   "execution_count": 151,
   "id": "loved-marble",
   "metadata": {},
   "outputs": [],
   "source": [
    "# replace missing brand as 'otherbrand' (brand is not machine learning)\n",
    "\n",
    "data['brand'].replace(np.nan,'otherbrand', inplace=True)"
   ]
  },
  {
   "cell_type": "code",
   "execution_count": 23,
   "id": "ancient-treasury",
   "metadata": {},
   "outputs": [
    {
     "data": {
      "text/plain": [
       "event_time     0\n",
       "event_type     0\n",
       "product_id     0\n",
       "category_id    0\n",
       "brand          0\n",
       "price          0\n",
       "user_id        0\n",
       "dtype: int64"
      ]
     },
     "execution_count": 23,
     "metadata": {},
     "output_type": "execute_result"
    }
   ],
   "source": [
    "data.isnull().sum()"
   ]
  },
  {
   "cell_type": "code",
   "execution_count": 24,
   "id": "coral-europe",
   "metadata": {},
   "outputs": [],
   "source": [
    "#  replace unknown user sessions (brand is not machine learning)"
   ]
  },
  {
   "cell_type": "markdown",
   "id": "commercial-dylan",
   "metadata": {},
   "source": [
    "## datetime transformation"
   ]
  },
  {
   "cell_type": "code",
   "execution_count": 31,
   "id": "breathing-default",
   "metadata": {},
   "outputs": [
    {
     "name": "stdout",
     "output_type": "stream",
     "text": [
      "<class 'pandas.core.frame.DataFrame'>\n",
      "RangeIndex: 20692840 entries, 0 to 20692839\n",
      "Data columns (total 12 columns):\n",
      " #   Column       Dtype  \n",
      "---  ------       -----  \n",
      " 0   event_time   object \n",
      " 1   event_type   object \n",
      " 2   product_id   int64  \n",
      " 3   category_id  int64  \n",
      " 4   brand        object \n",
      " 5   price        float64\n",
      " 6   user_id      int64  \n",
      " 7   Year         object \n",
      " 8   Month        object \n",
      " 9   Day          object \n",
      " 10  Hour         object \n",
      " 11  Date         object \n",
      "dtypes: float64(1), int64(3), object(8)\n",
      "memory usage: 1.9+ GB\n"
     ]
    }
   ],
   "source": [
    "data.info()"
   ]
  },
  {
   "cell_type": "code",
   "execution_count": 32,
   "id": "legal-richmond",
   "metadata": {},
   "outputs": [
    {
     "data": {
      "text/plain": [
       "0           2019-12-01 00:00:00 UTC\n",
       "1           2019-12-01 00:00:00 UTC\n",
       "2           2019-12-01 00:00:02 UTC\n",
       "3           2019-12-01 00:00:05 UTC\n",
       "4           2019-12-01 00:00:07 UTC\n",
       "                     ...           \n",
       "20692835    2020-01-31 23:59:52 UTC\n",
       "20692836    2020-01-31 23:59:52 UTC\n",
       "20692837    2020-01-31 23:59:53 UTC\n",
       "20692838    2020-01-31 23:59:57 UTC\n",
       "20692839    2020-01-31 23:59:58 UTC\n",
       "Name: event_time, Length: 20692840, dtype: object"
      ]
     },
     "execution_count": 32,
     "metadata": {},
     "output_type": "execute_result"
    }
   ],
   "source": [
    "data.event_time"
   ]
  },
  {
   "cell_type": "code",
   "execution_count": 33,
   "id": "hollywood-remedy",
   "metadata": {},
   "outputs": [],
   "source": [
    "#get year month day time \n",
    "data['Year'] = data['event_time'].apply(lambda x:str(x)[:4])\n",
    "data['Month'] = data['event_time'].apply(lambda x:str(x)[5:7])\n",
    "data['Day'] = data['event_time'].apply(lambda x:str(x)[8:10])\n",
    "data['Hour'] = data['event_time'].apply(lambda x:str(x)[-12:-10])\n",
    "data['Date'] = data['event_time'].apply(lambda x:str(x)[0:10])"
   ]
  },
  {
   "cell_type": "code",
   "execution_count": 34,
   "id": "aerial-aurora",
   "metadata": {},
   "outputs": [
    {
     "data": {
      "text/html": [
       "<div>\n",
       "<style scoped>\n",
       "    .dataframe tbody tr th:only-of-type {\n",
       "        vertical-align: middle;\n",
       "    }\n",
       "\n",
       "    .dataframe tbody tr th {\n",
       "        vertical-align: top;\n",
       "    }\n",
       "\n",
       "    .dataframe thead th {\n",
       "        text-align: right;\n",
       "    }\n",
       "</style>\n",
       "<table border=\"1\" class=\"dataframe\">\n",
       "  <thead>\n",
       "    <tr style=\"text-align: right;\">\n",
       "      <th></th>\n",
       "      <th>event_time</th>\n",
       "      <th>event_type</th>\n",
       "      <th>product_id</th>\n",
       "      <th>category_id</th>\n",
       "      <th>brand</th>\n",
       "      <th>price</th>\n",
       "      <th>user_id</th>\n",
       "      <th>Year</th>\n",
       "      <th>Month</th>\n",
       "      <th>Day</th>\n",
       "      <th>Hour</th>\n",
       "      <th>Date</th>\n",
       "    </tr>\n",
       "  </thead>\n",
       "  <tbody>\n",
       "    <tr>\n",
       "      <th>20692835</th>\n",
       "      <td>2020-01-31 23:59:52 UTC</td>\n",
       "      <td>remove_from_cart</td>\n",
       "      <td>5886774</td>\n",
       "      <td>1487580006317032337</td>\n",
       "      <td>otherbrand</td>\n",
       "      <td>1.59</td>\n",
       "      <td>607092857</td>\n",
       "      <td>2020</td>\n",
       "      <td>01</td>\n",
       "      <td>31</td>\n",
       "      <td>23</td>\n",
       "      <td>2020-01-31</td>\n",
       "    </tr>\n",
       "    <tr>\n",
       "      <th>20692836</th>\n",
       "      <td>2020-01-31 23:59:52 UTC</td>\n",
       "      <td>remove_from_cart</td>\n",
       "      <td>5886774</td>\n",
       "      <td>1487580006317032337</td>\n",
       "      <td>otherbrand</td>\n",
       "      <td>1.59</td>\n",
       "      <td>607092857</td>\n",
       "      <td>2020</td>\n",
       "      <td>01</td>\n",
       "      <td>31</td>\n",
       "      <td>23</td>\n",
       "      <td>2020-01-31</td>\n",
       "    </tr>\n",
       "    <tr>\n",
       "      <th>20692837</th>\n",
       "      <td>2020-01-31 23:59:53 UTC</td>\n",
       "      <td>view</td>\n",
       "      <td>5875432</td>\n",
       "      <td>2084144451428549153</td>\n",
       "      <td>otherbrand</td>\n",
       "      <td>2.05</td>\n",
       "      <td>423651741</td>\n",
       "      <td>2020</td>\n",
       "      <td>01</td>\n",
       "      <td>31</td>\n",
       "      <td>23</td>\n",
       "      <td>2020-01-31</td>\n",
       "    </tr>\n",
       "    <tr>\n",
       "      <th>20692838</th>\n",
       "      <td>2020-01-31 23:59:57 UTC</td>\n",
       "      <td>remove_from_cart</td>\n",
       "      <td>5820745</td>\n",
       "      <td>1487580006317032337</td>\n",
       "      <td>otherbrand</td>\n",
       "      <td>2.22</td>\n",
       "      <td>607092857</td>\n",
       "      <td>2020</td>\n",
       "      <td>01</td>\n",
       "      <td>31</td>\n",
       "      <td>23</td>\n",
       "      <td>2020-01-31</td>\n",
       "    </tr>\n",
       "    <tr>\n",
       "      <th>20692839</th>\n",
       "      <td>2020-01-31 23:59:58 UTC</td>\n",
       "      <td>remove_from_cart</td>\n",
       "      <td>5820745</td>\n",
       "      <td>1487580006317032337</td>\n",
       "      <td>otherbrand</td>\n",
       "      <td>2.22</td>\n",
       "      <td>607092857</td>\n",
       "      <td>2020</td>\n",
       "      <td>01</td>\n",
       "      <td>31</td>\n",
       "      <td>23</td>\n",
       "      <td>2020-01-31</td>\n",
       "    </tr>\n",
       "  </tbody>\n",
       "</table>\n",
       "</div>"
      ],
      "text/plain": [
       "                       event_time        event_type  product_id  \\\n",
       "20692835  2020-01-31 23:59:52 UTC  remove_from_cart     5886774   \n",
       "20692836  2020-01-31 23:59:52 UTC  remove_from_cart     5886774   \n",
       "20692837  2020-01-31 23:59:53 UTC              view     5875432   \n",
       "20692838  2020-01-31 23:59:57 UTC  remove_from_cart     5820745   \n",
       "20692839  2020-01-31 23:59:58 UTC  remove_from_cart     5820745   \n",
       "\n",
       "                  category_id       brand  price    user_id  Year Month Day  \\\n",
       "20692835  1487580006317032337  otherbrand   1.59  607092857  2020    01  31   \n",
       "20692836  1487580006317032337  otherbrand   1.59  607092857  2020    01  31   \n",
       "20692837  2084144451428549153  otherbrand   2.05  423651741  2020    01  31   \n",
       "20692838  1487580006317032337  otherbrand   2.22  607092857  2020    01  31   \n",
       "20692839  1487580006317032337  otherbrand   2.22  607092857  2020    01  31   \n",
       "\n",
       "         Hour        Date  \n",
       "20692835   23  2020-01-31  \n",
       "20692836   23  2020-01-31  \n",
       "20692837   23  2020-01-31  \n",
       "20692838   23  2020-01-31  \n",
       "20692839   23  2020-01-31  "
      ]
     },
     "execution_count": 34,
     "metadata": {},
     "output_type": "execute_result"
    }
   ],
   "source": [
    "data.tail()"
   ]
  },
  {
   "cell_type": "code",
   "execution_count": 142,
   "id": "sharp-national",
   "metadata": {},
   "outputs": [
    {
     "data": {
      "text/html": [
       "<div>\n",
       "<style scoped>\n",
       "    .dataframe tbody tr th:only-of-type {\n",
       "        vertical-align: middle;\n",
       "    }\n",
       "\n",
       "    .dataframe tbody tr th {\n",
       "        vertical-align: top;\n",
       "    }\n",
       "\n",
       "    .dataframe thead th {\n",
       "        text-align: right;\n",
       "    }\n",
       "</style>\n",
       "<table border=\"1\" class=\"dataframe\">\n",
       "  <thead>\n",
       "    <tr style=\"text-align: right;\">\n",
       "      <th></th>\n",
       "      <th>product_id</th>\n",
       "      <th>category_id</th>\n",
       "      <th>price</th>\n",
       "      <th>user_id</th>\n",
       "    </tr>\n",
       "  </thead>\n",
       "  <tbody>\n",
       "    <tr>\n",
       "      <th>count</th>\n",
       "      <td>2.069284e+07</td>\n",
       "      <td>2.069284e+07</td>\n",
       "      <td>2.069284e+07</td>\n",
       "      <td>2.069284e+07</td>\n",
       "    </tr>\n",
       "    <tr>\n",
       "      <th>mean</th>\n",
       "      <td>5.484297e+06</td>\n",
       "      <td>1.554230e+18</td>\n",
       "      <td>8.534735e+00</td>\n",
       "      <td>5.215527e+08</td>\n",
       "    </tr>\n",
       "    <tr>\n",
       "      <th>std</th>\n",
       "      <td>1.305716e+06</td>\n",
       "      <td>1.691038e+17</td>\n",
       "      <td>1.938142e+01</td>\n",
       "      <td>8.744312e+07</td>\n",
       "    </tr>\n",
       "    <tr>\n",
       "      <th>min</th>\n",
       "      <td>3.752000e+03</td>\n",
       "      <td>1.487580e+18</td>\n",
       "      <td>-7.937000e+01</td>\n",
       "      <td>4.654960e+05</td>\n",
       "    </tr>\n",
       "    <tr>\n",
       "      <th>25%</th>\n",
       "      <td>5.724650e+06</td>\n",
       "      <td>1.487580e+18</td>\n",
       "      <td>2.060000e+00</td>\n",
       "      <td>4.818306e+08</td>\n",
       "    </tr>\n",
       "    <tr>\n",
       "      <th>50%</th>\n",
       "      <td>5.810720e+06</td>\n",
       "      <td>1.487580e+18</td>\n",
       "      <td>4.050000e+00</td>\n",
       "      <td>5.531297e+08</td>\n",
       "    </tr>\n",
       "    <tr>\n",
       "      <th>75%</th>\n",
       "      <td>5.857864e+06</td>\n",
       "      <td>1.487580e+18</td>\n",
       "      <td>7.060000e+00</td>\n",
       "      <td>5.788573e+08</td>\n",
       "    </tr>\n",
       "    <tr>\n",
       "      <th>max</th>\n",
       "      <td>5.932595e+06</td>\n",
       "      <td>2.242903e+18</td>\n",
       "      <td>3.277800e+02</td>\n",
       "      <td>6.220902e+08</td>\n",
       "    </tr>\n",
       "  </tbody>\n",
       "</table>\n",
       "</div>"
      ],
      "text/plain": [
       "         product_id   category_id         price       user_id\n",
       "count  2.069284e+07  2.069284e+07  2.069284e+07  2.069284e+07\n",
       "mean   5.484297e+06  1.554230e+18  8.534735e+00  5.215527e+08\n",
       "std    1.305716e+06  1.691038e+17  1.938142e+01  8.744312e+07\n",
       "min    3.752000e+03  1.487580e+18 -7.937000e+01  4.654960e+05\n",
       "25%    5.724650e+06  1.487580e+18  2.060000e+00  4.818306e+08\n",
       "50%    5.810720e+06  1.487580e+18  4.050000e+00  5.531297e+08\n",
       "75%    5.857864e+06  1.487580e+18  7.060000e+00  5.788573e+08\n",
       "max    5.932595e+06  2.242903e+18  3.277800e+02  6.220902e+08"
      ]
     },
     "execution_count": 142,
     "metadata": {},
     "output_type": "execute_result"
    }
   ],
   "source": [
    "data.describe()"
   ]
  },
  {
   "cell_type": "code",
   "execution_count": 148,
   "id": "juvenile-sender",
   "metadata": {},
   "outputs": [],
   "source": [
    "#price cant be negative\n",
    "data = data.drop(data[data['price']<0].index)"
   ]
  },
  {
   "cell_type": "code",
   "execution_count": 149,
   "id": "electric-emission",
   "metadata": {},
   "outputs": [
    {
     "data": {
      "text/html": [
       "<div>\n",
       "<style scoped>\n",
       "    .dataframe tbody tr th:only-of-type {\n",
       "        vertical-align: middle;\n",
       "    }\n",
       "\n",
       "    .dataframe tbody tr th {\n",
       "        vertical-align: top;\n",
       "    }\n",
       "\n",
       "    .dataframe thead th {\n",
       "        text-align: right;\n",
       "    }\n",
       "</style>\n",
       "<table border=\"1\" class=\"dataframe\">\n",
       "  <thead>\n",
       "    <tr style=\"text-align: right;\">\n",
       "      <th></th>\n",
       "      <th>event_time</th>\n",
       "      <th>event_type</th>\n",
       "      <th>product_id</th>\n",
       "      <th>category_id</th>\n",
       "      <th>brand</th>\n",
       "      <th>price</th>\n",
       "      <th>user_id</th>\n",
       "      <th>Year</th>\n",
       "      <th>Month</th>\n",
       "      <th>Day</th>\n",
       "      <th>Hour</th>\n",
       "      <th>Date</th>\n",
       "    </tr>\n",
       "  </thead>\n",
       "  <tbody>\n",
       "  </tbody>\n",
       "</table>\n",
       "</div>"
      ],
      "text/plain": [
       "Empty DataFrame\n",
       "Columns: [event_time, event_type, product_id, category_id, brand, price, user_id, Year, Month, Day, Hour, Date]\n",
       "Index: []"
      ]
     },
     "execution_count": 149,
     "metadata": {},
     "output_type": "execute_result"
    }
   ],
   "source": [
    "data[data['price']<0]"
   ]
  },
  {
   "cell_type": "markdown",
   "id": "related-crisis",
   "metadata": {},
   "source": [
    "# EDA"
   ]
  },
  {
   "cell_type": "code",
   "execution_count": 153,
   "id": "fewer-mother",
   "metadata": {},
   "outputs": [],
   "source": [
    "purchase = data[data['event_type']=='purchase']"
   ]
  },
  {
   "cell_type": "code",
   "execution_count": 156,
   "id": "another-dictionary",
   "metadata": {},
   "outputs": [
    {
     "data": {
      "text/plain": [
       "user_id\n",
       "150318419    3785.03\n",
       "531900924    3446.90\n",
       "562167663    2969.45\n",
       "471197852    2938.91\n",
       "469299888    2934.13\n",
       "Name: price, dtype: float64"
      ]
     },
     "execution_count": 156,
     "metadata": {},
     "output_type": "execute_result"
    }
   ],
   "source": [
    "#individual highest total purchase value in 6 months\n",
    "purchase.groupby('user_id')['price'].sum().sort_values(ascending= False).head()"
   ]
  },
  {
   "cell_type": "code",
   "execution_count": 159,
   "id": "current-theme",
   "metadata": {},
   "outputs": [
    {
     "data": {
      "text/plain": [
       "brand\n",
       "otherbrand    2.564007e+06\n",
       "runail        3.434332e+05\n",
       "grattol       2.662959e+05\n",
       "irisk         2.239034e+05\n",
       "uno           1.907195e+05\n",
       "Name: price, dtype: float64"
      ]
     },
     "execution_count": 159,
     "metadata": {},
     "output_type": "execute_result"
    }
   ],
   "source": [
    "# brand with highest purchass amount\n",
    "purchase.groupby('brand')['price'].sum().sort_values(ascending= False).head()"
   ]
  },
  {
   "cell_type": "code",
   "execution_count": 160,
   "id": "recognized-penalty",
   "metadata": {},
   "outputs": [
    {
     "data": {
      "text/plain": [
       "brand\n",
       "otherbrand    6.358836e+07\n",
       "strong        1.198212e+07\n",
       "jessnail      1.018742e+07\n",
       "runail        9.372817e+06\n",
       "irisk         6.730045e+06\n",
       "Name: price, dtype: float64"
      ]
     },
     "execution_count": 160,
     "metadata": {},
     "output_type": "execute_result"
    }
   ],
   "source": [
    "# brand with highest sessions\n",
    "data.groupby('brand')['price'].sum().sort_values(ascending= False).head()"
   ]
  },
  {
   "cell_type": "code",
   "execution_count": 123,
   "id": "packed-chapel",
   "metadata": {},
   "outputs": [
    {
     "data": {
      "text/plain": [
       "Text(0.5, 1.0, 'Session per month')"
      ]
     },
     "execution_count": 123,
     "metadata": {},
     "output_type": "execute_result"
    },
    {
     "data": {
      "image/png": "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\n",
      "text/plain": [
       "<Figure size 432x288 with 1 Axes>"
      ]
     },
     "metadata": {
      "needs_background": "light"
     },
     "output_type": "display_data"
    }
   ],
   "source": [
    "sns.histplot(data = data , x = 'Month')\n",
    "plt.title('Session per month')"
   ]
  },
  {
   "cell_type": "code",
   "execution_count": 124,
   "id": "variable-handling",
   "metadata": {},
   "outputs": [
    {
     "data": {
      "text/plain": [
       "Text(0.5, 1.0, 'Session per day')"
      ]
     },
     "execution_count": 124,
     "metadata": {},
     "output_type": "execute_result"
    },
    {
     "data": {
      "image/png": "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\n",
      "text/plain": [
       "<Figure size 1440x288 with 1 Axes>"
      ]
     },
     "metadata": {
      "needs_background": "light"
     },
     "output_type": "display_data"
    }
   ],
   "source": [
    "fig, ax = plt.subplots(figsize= (20, 4))\n",
    "sns.histplot(data = data, x = 'Day')\n",
    "plt.title('Session per day')"
   ]
  },
  {
   "cell_type": "code",
   "execution_count": 125,
   "id": "photographic-repeat",
   "metadata": {},
   "outputs": [
    {
     "data": {
      "text/plain": [
       "Text(0.5, 1.0, 'Session per hour')"
      ]
     },
     "execution_count": 125,
     "metadata": {},
     "output_type": "execute_result"
    },
    {
     "data": {
      "image/png": "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\n",
      "text/plain": [
       "<Figure size 1440x288 with 1 Axes>"
      ]
     },
     "metadata": {
      "needs_background": "light"
     },
     "output_type": "display_data"
    }
   ],
   "source": [
    "plt.subplots(figsize= (20, 4))\n",
    "sns.histplot(data = data, x = 'Hour')\n",
    "plt.title('Session per hour')"
   ]
  },
  {
   "cell_type": "code",
   "execution_count": 133,
   "id": "experienced-disclosure",
   "metadata": {},
   "outputs": [],
   "source": [
    "\n",
    "data['event_time']=pd.to_datetime(data['event_time'],infer_datetime_format=True)"
   ]
  },
  {
   "cell_type": "code",
   "execution_count": 134,
   "id": "spanish-spirit",
   "metadata": {},
   "outputs": [
    {
     "data": {
      "text/plain": [
       "<AxesSubplot:xlabel='event_time', ylabel='Density'>"
      ]
     },
     "execution_count": 134,
     "metadata": {},
     "output_type": "execute_result"
    },
    {
     "data": {
      "image/png": "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\n",
      "text/plain": [
       "<Figure size 1440x576 with 1 Axes>"
      ]
     },
     "metadata": {
      "needs_background": "light"
     },
     "output_type": "display_data"
    }
   ],
   "source": [
    "plt.subplots(figsize=(20,8))\n",
    "sns.kdeplot(data = data, x = 'event_time')\n",
    "plt.title('Sessions over time')"
   ]
  },
  {
   "cell_type": "markdown",
   "id": "dynamic-biodiversity",
   "metadata": {},
   "source": [
    "## Data Preperation for k means custering"
   ]
  },
  {
   "cell_type": "code",
   "execution_count": 36,
   "id": "virgin-operator",
   "metadata": {},
   "outputs": [
    {
     "data": {
      "text/plain": [
       "view                9657821\n",
       "cart                5768333\n",
       "remove_from_cart    3979679\n",
       "purchase            1287007\n",
       "Name: event_type, dtype: int64"
      ]
     },
     "execution_count": 36,
     "metadata": {},
     "output_type": "execute_result"
    }
   ],
   "source": [
    "data['event_type'].value_counts()"
   ]
  },
  {
   "cell_type": "code",
   "execution_count": 37,
   "id": "rough-sleeve",
   "metadata": {},
   "outputs": [],
   "source": [
    "purchase = data[data['event_type']=='purchase']"
   ]
  },
  {
   "cell_type": "code",
   "execution_count": 38,
   "id": "continued-politics",
   "metadata": {},
   "outputs": [
    {
     "data": {
      "text/html": [
       "<div>\n",
       "<style scoped>\n",
       "    .dataframe tbody tr th:only-of-type {\n",
       "        vertical-align: middle;\n",
       "    }\n",
       "\n",
       "    .dataframe tbody tr th {\n",
       "        vertical-align: top;\n",
       "    }\n",
       "\n",
       "    .dataframe thead th {\n",
       "        text-align: right;\n",
       "    }\n",
       "</style>\n",
       "<table border=\"1\" class=\"dataframe\">\n",
       "  <thead>\n",
       "    <tr style=\"text-align: right;\">\n",
       "      <th></th>\n",
       "      <th>event_time</th>\n",
       "      <th>event_type</th>\n",
       "      <th>product_id</th>\n",
       "      <th>category_id</th>\n",
       "      <th>brand</th>\n",
       "      <th>price</th>\n",
       "      <th>user_id</th>\n",
       "      <th>Year</th>\n",
       "      <th>Month</th>\n",
       "      <th>Day</th>\n",
       "      <th>Hour</th>\n",
       "      <th>Date</th>\n",
       "    </tr>\n",
       "  </thead>\n",
       "  <tbody>\n",
       "    <tr>\n",
       "      <th>557</th>\n",
       "      <td>2019-12-01 00:17:50 UTC</td>\n",
       "      <td>purchase</td>\n",
       "      <td>4554</td>\n",
       "      <td>1487580010796548183</td>\n",
       "      <td>runail</td>\n",
       "      <td>0.38</td>\n",
       "      <td>473613801</td>\n",
       "      <td>2019</td>\n",
       "      <td>12</td>\n",
       "      <td>01</td>\n",
       "      <td>00</td>\n",
       "      <td>2019-12-01</td>\n",
       "    </tr>\n",
       "    <tr>\n",
       "      <th>558</th>\n",
       "      <td>2019-12-01 00:17:50 UTC</td>\n",
       "      <td>purchase</td>\n",
       "      <td>4600</td>\n",
       "      <td>1487580010796548183</td>\n",
       "      <td>runail</td>\n",
       "      <td>0.38</td>\n",
       "      <td>473613801</td>\n",
       "      <td>2019</td>\n",
       "      <td>12</td>\n",
       "      <td>01</td>\n",
       "      <td>00</td>\n",
       "      <td>2019-12-01</td>\n",
       "    </tr>\n",
       "    <tr>\n",
       "      <th>559</th>\n",
       "      <td>2019-12-01 00:17:50 UTC</td>\n",
       "      <td>purchase</td>\n",
       "      <td>4607</td>\n",
       "      <td>1487580010796548183</td>\n",
       "      <td>runail</td>\n",
       "      <td>0.38</td>\n",
       "      <td>473613801</td>\n",
       "      <td>2019</td>\n",
       "      <td>12</td>\n",
       "      <td>01</td>\n",
       "      <td>00</td>\n",
       "      <td>2019-12-01</td>\n",
       "    </tr>\n",
       "    <tr>\n",
       "      <th>560</th>\n",
       "      <td>2019-12-01 00:17:50 UTC</td>\n",
       "      <td>purchase</td>\n",
       "      <td>4640</td>\n",
       "      <td>1487580011157258342</td>\n",
       "      <td>runail</td>\n",
       "      <td>0.37</td>\n",
       "      <td>473613801</td>\n",
       "      <td>2019</td>\n",
       "      <td>12</td>\n",
       "      <td>01</td>\n",
       "      <td>00</td>\n",
       "      <td>2019-12-01</td>\n",
       "    </tr>\n",
       "    <tr>\n",
       "      <th>561</th>\n",
       "      <td>2019-12-01 00:17:50 UTC</td>\n",
       "      <td>purchase</td>\n",
       "      <td>4689</td>\n",
       "      <td>1487580010796548183</td>\n",
       "      <td>runail</td>\n",
       "      <td>0.38</td>\n",
       "      <td>473613801</td>\n",
       "      <td>2019</td>\n",
       "      <td>12</td>\n",
       "      <td>01</td>\n",
       "      <td>00</td>\n",
       "      <td>2019-12-01</td>\n",
       "    </tr>\n",
       "    <tr>\n",
       "      <th>...</th>\n",
       "      <td>...</td>\n",
       "      <td>...</td>\n",
       "      <td>...</td>\n",
       "      <td>...</td>\n",
       "      <td>...</td>\n",
       "      <td>...</td>\n",
       "      <td>...</td>\n",
       "      <td>...</td>\n",
       "      <td>...</td>\n",
       "      <td>...</td>\n",
       "      <td>...</td>\n",
       "      <td>...</td>\n",
       "    </tr>\n",
       "    <tr>\n",
       "      <th>20692802</th>\n",
       "      <td>2020-01-31 23:58:26 UTC</td>\n",
       "      <td>purchase</td>\n",
       "      <td>5730206</td>\n",
       "      <td>1487580005092295511</td>\n",
       "      <td>otherbrand</td>\n",
       "      <td>10.32</td>\n",
       "      <td>604470329</td>\n",
       "      <td>2020</td>\n",
       "      <td>01</td>\n",
       "      <td>31</td>\n",
       "      <td>23</td>\n",
       "      <td>2020-01-31</td>\n",
       "    </tr>\n",
       "    <tr>\n",
       "      <th>20692803</th>\n",
       "      <td>2020-01-31 23:58:26 UTC</td>\n",
       "      <td>purchase</td>\n",
       "      <td>5861342</td>\n",
       "      <td>1487580010645553231</td>\n",
       "      <td>otherbrand</td>\n",
       "      <td>1.90</td>\n",
       "      <td>604470329</td>\n",
       "      <td>2020</td>\n",
       "      <td>01</td>\n",
       "      <td>31</td>\n",
       "      <td>23</td>\n",
       "      <td>2020-01-31</td>\n",
       "    </tr>\n",
       "    <tr>\n",
       "      <th>20692804</th>\n",
       "      <td>2020-01-31 23:58:26 UTC</td>\n",
       "      <td>purchase</td>\n",
       "      <td>5867185</td>\n",
       "      <td>1487580007910867929</td>\n",
       "      <td>staleks</td>\n",
       "      <td>11.43</td>\n",
       "      <td>604470329</td>\n",
       "      <td>2020</td>\n",
       "      <td>01</td>\n",
       "      <td>31</td>\n",
       "      <td>23</td>\n",
       "      <td>2020-01-31</td>\n",
       "    </tr>\n",
       "    <tr>\n",
       "      <th>20692805</th>\n",
       "      <td>2020-01-31 23:58:26 UTC</td>\n",
       "      <td>purchase</td>\n",
       "      <td>5877766</td>\n",
       "      <td>1605161575889502297</td>\n",
       "      <td>otherbrand</td>\n",
       "      <td>4.76</td>\n",
       "      <td>604470329</td>\n",
       "      <td>2020</td>\n",
       "      <td>01</td>\n",
       "      <td>31</td>\n",
       "      <td>23</td>\n",
       "      <td>2020-01-31</td>\n",
       "    </tr>\n",
       "    <tr>\n",
       "      <th>20692806</th>\n",
       "      <td>2020-01-31 23:58:26 UTC</td>\n",
       "      <td>purchase</td>\n",
       "      <td>5905704</td>\n",
       "      <td>1487580005092295511</td>\n",
       "      <td>otherbrand</td>\n",
       "      <td>10.63</td>\n",
       "      <td>604470329</td>\n",
       "      <td>2020</td>\n",
       "      <td>01</td>\n",
       "      <td>31</td>\n",
       "      <td>23</td>\n",
       "      <td>2020-01-31</td>\n",
       "    </tr>\n",
       "  </tbody>\n",
       "</table>\n",
       "<p>1287007 rows × 12 columns</p>\n",
       "</div>"
      ],
      "text/plain": [
       "                       event_time event_type  product_id          category_id  \\\n",
       "557       2019-12-01 00:17:50 UTC   purchase        4554  1487580010796548183   \n",
       "558       2019-12-01 00:17:50 UTC   purchase        4600  1487580010796548183   \n",
       "559       2019-12-01 00:17:50 UTC   purchase        4607  1487580010796548183   \n",
       "560       2019-12-01 00:17:50 UTC   purchase        4640  1487580011157258342   \n",
       "561       2019-12-01 00:17:50 UTC   purchase        4689  1487580010796548183   \n",
       "...                           ...        ...         ...                  ...   \n",
       "20692802  2020-01-31 23:58:26 UTC   purchase     5730206  1487580005092295511   \n",
       "20692803  2020-01-31 23:58:26 UTC   purchase     5861342  1487580010645553231   \n",
       "20692804  2020-01-31 23:58:26 UTC   purchase     5867185  1487580007910867929   \n",
       "20692805  2020-01-31 23:58:26 UTC   purchase     5877766  1605161575889502297   \n",
       "20692806  2020-01-31 23:58:26 UTC   purchase     5905704  1487580005092295511   \n",
       "\n",
       "               brand  price    user_id  Year Month Day Hour        Date  \n",
       "557           runail   0.38  473613801  2019    12  01   00  2019-12-01  \n",
       "558           runail   0.38  473613801  2019    12  01   00  2019-12-01  \n",
       "559           runail   0.38  473613801  2019    12  01   00  2019-12-01  \n",
       "560           runail   0.37  473613801  2019    12  01   00  2019-12-01  \n",
       "561           runail   0.38  473613801  2019    12  01   00  2019-12-01  \n",
       "...              ...    ...        ...   ...   ...  ..  ...         ...  \n",
       "20692802  otherbrand  10.32  604470329  2020    01  31   23  2020-01-31  \n",
       "20692803  otherbrand   1.90  604470329  2020    01  31   23  2020-01-31  \n",
       "20692804     staleks  11.43  604470329  2020    01  31   23  2020-01-31  \n",
       "20692805  otherbrand   4.76  604470329  2020    01  31   23  2020-01-31  \n",
       "20692806  otherbrand  10.63  604470329  2020    01  31   23  2020-01-31  \n",
       "\n",
       "[1287007 rows x 12 columns]"
      ]
     },
     "execution_count": 38,
     "metadata": {},
     "output_type": "execute_result"
    }
   ],
   "source": [
    "purchase"
   ]
  },
  {
   "cell_type": "code",
   "execution_count": 39,
   "id": "floppy-demand",
   "metadata": {},
   "outputs": [],
   "source": [
    "view = data[data['event_type']=='view']"
   ]
  },
  {
   "cell_type": "code",
   "execution_count": 40,
   "id": "announced-pursuit",
   "metadata": {},
   "outputs": [
    {
     "data": {
      "text/html": [
       "<div>\n",
       "<style scoped>\n",
       "    .dataframe tbody tr th:only-of-type {\n",
       "        vertical-align: middle;\n",
       "    }\n",
       "\n",
       "    .dataframe tbody tr th {\n",
       "        vertical-align: top;\n",
       "    }\n",
       "\n",
       "    .dataframe thead th {\n",
       "        text-align: right;\n",
       "    }\n",
       "</style>\n",
       "<table border=\"1\" class=\"dataframe\">\n",
       "  <thead>\n",
       "    <tr style=\"text-align: right;\">\n",
       "      <th></th>\n",
       "      <th>event_time</th>\n",
       "      <th>event_type</th>\n",
       "      <th>product_id</th>\n",
       "      <th>category_id</th>\n",
       "      <th>brand</th>\n",
       "      <th>price</th>\n",
       "      <th>user_id</th>\n",
       "      <th>Year</th>\n",
       "      <th>Month</th>\n",
       "      <th>Day</th>\n",
       "      <th>Hour</th>\n",
       "      <th>Date</th>\n",
       "    </tr>\n",
       "  </thead>\n",
       "  <tbody>\n",
       "    <tr>\n",
       "      <th>0</th>\n",
       "      <td>2019-12-01 00:00:00 UTC</td>\n",
       "      <td>remove_from_cart</td>\n",
       "      <td>5712790</td>\n",
       "      <td>1487580005268456287</td>\n",
       "      <td>f.o.x</td>\n",
       "      <td>6.27</td>\n",
       "      <td>576802932</td>\n",
       "      <td>2019</td>\n",
       "      <td>12</td>\n",
       "      <td>01</td>\n",
       "      <td>00</td>\n",
       "      <td>2019-12-01</td>\n",
       "    </tr>\n",
       "    <tr>\n",
       "      <th>1</th>\n",
       "      <td>2019-12-01 00:00:00 UTC</td>\n",
       "      <td>view</td>\n",
       "      <td>5764655</td>\n",
       "      <td>1487580005411062629</td>\n",
       "      <td>cnd</td>\n",
       "      <td>29.05</td>\n",
       "      <td>412120092</td>\n",
       "      <td>2019</td>\n",
       "      <td>12</td>\n",
       "      <td>01</td>\n",
       "      <td>00</td>\n",
       "      <td>2019-12-01</td>\n",
       "    </tr>\n",
       "    <tr>\n",
       "      <th>2</th>\n",
       "      <td>2019-12-01 00:00:02 UTC</td>\n",
       "      <td>cart</td>\n",
       "      <td>4958</td>\n",
       "      <td>1487580009471148064</td>\n",
       "      <td>runail</td>\n",
       "      <td>1.19</td>\n",
       "      <td>494077766</td>\n",
       "      <td>2019</td>\n",
       "      <td>12</td>\n",
       "      <td>01</td>\n",
       "      <td>00</td>\n",
       "      <td>2019-12-01</td>\n",
       "    </tr>\n",
       "    <tr>\n",
       "      <th>3</th>\n",
       "      <td>2019-12-01 00:00:05 UTC</td>\n",
       "      <td>view</td>\n",
       "      <td>5848413</td>\n",
       "      <td>1487580007675986893</td>\n",
       "      <td>freedecor</td>\n",
       "      <td>0.79</td>\n",
       "      <td>348405118</td>\n",
       "      <td>2019</td>\n",
       "      <td>12</td>\n",
       "      <td>01</td>\n",
       "      <td>00</td>\n",
       "      <td>2019-12-01</td>\n",
       "    </tr>\n",
       "    <tr>\n",
       "      <th>4</th>\n",
       "      <td>2019-12-01 00:00:07 UTC</td>\n",
       "      <td>view</td>\n",
       "      <td>5824148</td>\n",
       "      <td>1487580005511725929</td>\n",
       "      <td>otherbrand</td>\n",
       "      <td>5.56</td>\n",
       "      <td>576005683</td>\n",
       "      <td>2019</td>\n",
       "      <td>12</td>\n",
       "      <td>01</td>\n",
       "      <td>00</td>\n",
       "      <td>2019-12-01</td>\n",
       "    </tr>\n",
       "  </tbody>\n",
       "</table>\n",
       "</div>"
      ],
      "text/plain": [
       "                event_time        event_type  product_id          category_id  \\\n",
       "0  2019-12-01 00:00:00 UTC  remove_from_cart     5712790  1487580005268456287   \n",
       "1  2019-12-01 00:00:00 UTC              view     5764655  1487580005411062629   \n",
       "2  2019-12-01 00:00:02 UTC              cart        4958  1487580009471148064   \n",
       "3  2019-12-01 00:00:05 UTC              view     5848413  1487580007675986893   \n",
       "4  2019-12-01 00:00:07 UTC              view     5824148  1487580005511725929   \n",
       "\n",
       "        brand  price    user_id  Year Month Day Hour        Date  \n",
       "0       f.o.x   6.27  576802932  2019    12  01   00  2019-12-01  \n",
       "1         cnd  29.05  412120092  2019    12  01   00  2019-12-01  \n",
       "2      runail   1.19  494077766  2019    12  01   00  2019-12-01  \n",
       "3   freedecor   0.79  348405118  2019    12  01   00  2019-12-01  \n",
       "4  otherbrand   5.56  576005683  2019    12  01   00  2019-12-01  "
      ]
     },
     "execution_count": 40,
     "metadata": {},
     "output_type": "execute_result"
    }
   ],
   "source": [
    "data.head()"
   ]
  },
  {
   "cell_type": "code",
   "execution_count": 41,
   "id": "blocked-campaign",
   "metadata": {},
   "outputs": [],
   "source": [
    "total_order_value = purchase.groupby(['user_id'])['price'].mean().reset_index(name='total_order_value')"
   ]
  },
  {
   "cell_type": "code",
   "execution_count": 42,
   "id": "timely-score",
   "metadata": {},
   "outputs": [
    {
     "data": {
      "text/html": [
       "<div>\n",
       "<style scoped>\n",
       "    .dataframe tbody tr th:only-of-type {\n",
       "        vertical-align: middle;\n",
       "    }\n",
       "\n",
       "    .dataframe tbody tr th {\n",
       "        vertical-align: top;\n",
       "    }\n",
       "\n",
       "    .dataframe thead th {\n",
       "        text-align: right;\n",
       "    }\n",
       "</style>\n",
       "<table border=\"1\" class=\"dataframe\">\n",
       "  <thead>\n",
       "    <tr style=\"text-align: right;\">\n",
       "      <th></th>\n",
       "      <th>user_id</th>\n",
       "      <th>total_order_value</th>\n",
       "    </tr>\n",
       "  </thead>\n",
       "  <tbody>\n",
       "    <tr>\n",
       "      <th>0</th>\n",
       "      <td>9794320</td>\n",
       "      <td>3.170000</td>\n",
       "    </tr>\n",
       "    <tr>\n",
       "      <th>1</th>\n",
       "      <td>10079204</td>\n",
       "      <td>12.905000</td>\n",
       "    </tr>\n",
       "    <tr>\n",
       "      <th>2</th>\n",
       "      <td>10280338</td>\n",
       "      <td>2.067791</td>\n",
       "    </tr>\n",
       "    <tr>\n",
       "      <th>3</th>\n",
       "      <td>12055855</td>\n",
       "      <td>4.135000</td>\n",
       "    </tr>\n",
       "    <tr>\n",
       "      <th>4</th>\n",
       "      <td>12936739</td>\n",
       "      <td>14.945000</td>\n",
       "    </tr>\n",
       "    <tr>\n",
       "      <th>...</th>\n",
       "      <td>...</td>\n",
       "      <td>...</td>\n",
       "    </tr>\n",
       "    <tr>\n",
       "      <th>110513</th>\n",
       "      <td>622065819</td>\n",
       "      <td>5.120000</td>\n",
       "    </tr>\n",
       "    <tr>\n",
       "      <th>110514</th>\n",
       "      <td>622066161</td>\n",
       "      <td>3.237500</td>\n",
       "    </tr>\n",
       "    <tr>\n",
       "      <th>110515</th>\n",
       "      <td>622067983</td>\n",
       "      <td>6.648000</td>\n",
       "    </tr>\n",
       "    <tr>\n",
       "      <th>110516</th>\n",
       "      <td>622069477</td>\n",
       "      <td>0.950000</td>\n",
       "    </tr>\n",
       "    <tr>\n",
       "      <th>110517</th>\n",
       "      <td>622073202</td>\n",
       "      <td>3.810000</td>\n",
       "    </tr>\n",
       "  </tbody>\n",
       "</table>\n",
       "<p>110518 rows × 2 columns</p>\n",
       "</div>"
      ],
      "text/plain": [
       "          user_id  total_order_value\n",
       "0         9794320           3.170000\n",
       "1        10079204          12.905000\n",
       "2        10280338           2.067791\n",
       "3        12055855           4.135000\n",
       "4        12936739          14.945000\n",
       "...           ...                ...\n",
       "110513  622065819           5.120000\n",
       "110514  622066161           3.237500\n",
       "110515  622067983           6.648000\n",
       "110516  622069477           0.950000\n",
       "110517  622073202           3.810000\n",
       "\n",
       "[110518 rows x 2 columns]"
      ]
     },
     "execution_count": 42,
     "metadata": {},
     "output_type": "execute_result"
    }
   ],
   "source": [
    "total_order_value"
   ]
  },
  {
   "cell_type": "code",
   "execution_count": 43,
   "id": "massive-refrigerator",
   "metadata": {},
   "outputs": [],
   "source": [
    "average_order_value = purchase.groupby(['user_id','Date'])['price'].mean().reset_index(name='average_order_value')"
   ]
  },
  {
   "cell_type": "code",
   "execution_count": 44,
   "id": "appropriate-culture",
   "metadata": {},
   "outputs": [
    {
     "data": {
      "text/html": [
       "<div>\n",
       "<style scoped>\n",
       "    .dataframe tbody tr th:only-of-type {\n",
       "        vertical-align: middle;\n",
       "    }\n",
       "\n",
       "    .dataframe tbody tr th {\n",
       "        vertical-align: top;\n",
       "    }\n",
       "\n",
       "    .dataframe thead th {\n",
       "        text-align: right;\n",
       "    }\n",
       "</style>\n",
       "<table border=\"1\" class=\"dataframe\">\n",
       "  <thead>\n",
       "    <tr style=\"text-align: right;\">\n",
       "      <th></th>\n",
       "      <th>user_id</th>\n",
       "      <th>Date</th>\n",
       "      <th>average_order_value</th>\n",
       "    </tr>\n",
       "  </thead>\n",
       "  <tbody>\n",
       "    <tr>\n",
       "      <th>0</th>\n",
       "      <td>9794320</td>\n",
       "      <td>2019-11-25</td>\n",
       "      <td>3.170000</td>\n",
       "    </tr>\n",
       "    <tr>\n",
       "      <th>1</th>\n",
       "      <td>10079204</td>\n",
       "      <td>2019-11-06</td>\n",
       "      <td>12.905000</td>\n",
       "    </tr>\n",
       "    <tr>\n",
       "      <th>2</th>\n",
       "      <td>10280338</td>\n",
       "      <td>2019-11-20</td>\n",
       "      <td>2.526000</td>\n",
       "    </tr>\n",
       "    <tr>\n",
       "      <th>3</th>\n",
       "      <td>10280338</td>\n",
       "      <td>2019-11-21</td>\n",
       "      <td>4.928333</td>\n",
       "    </tr>\n",
       "    <tr>\n",
       "      <th>4</th>\n",
       "      <td>10280338</td>\n",
       "      <td>2020-01-12</td>\n",
       "      <td>18.100000</td>\n",
       "    </tr>\n",
       "    <tr>\n",
       "      <th>...</th>\n",
       "      <td>...</td>\n",
       "      <td>...</td>\n",
       "      <td>...</td>\n",
       "    </tr>\n",
       "    <tr>\n",
       "      <th>154360</th>\n",
       "      <td>622065819</td>\n",
       "      <td>2020-02-29</td>\n",
       "      <td>5.120000</td>\n",
       "    </tr>\n",
       "    <tr>\n",
       "      <th>154361</th>\n",
       "      <td>622066161</td>\n",
       "      <td>2020-02-29</td>\n",
       "      <td>3.237500</td>\n",
       "    </tr>\n",
       "    <tr>\n",
       "      <th>154362</th>\n",
       "      <td>622067983</td>\n",
       "      <td>2020-02-29</td>\n",
       "      <td>6.648000</td>\n",
       "    </tr>\n",
       "    <tr>\n",
       "      <th>154363</th>\n",
       "      <td>622069477</td>\n",
       "      <td>2020-02-29</td>\n",
       "      <td>0.950000</td>\n",
       "    </tr>\n",
       "    <tr>\n",
       "      <th>154364</th>\n",
       "      <td>622073202</td>\n",
       "      <td>2020-02-29</td>\n",
       "      <td>3.810000</td>\n",
       "    </tr>\n",
       "  </tbody>\n",
       "</table>\n",
       "<p>154365 rows × 3 columns</p>\n",
       "</div>"
      ],
      "text/plain": [
       "          user_id        Date  average_order_value\n",
       "0         9794320  2019-11-25             3.170000\n",
       "1        10079204  2019-11-06            12.905000\n",
       "2        10280338  2019-11-20             2.526000\n",
       "3        10280338  2019-11-21             4.928333\n",
       "4        10280338  2020-01-12            18.100000\n",
       "...           ...         ...                  ...\n",
       "154360  622065819  2020-02-29             5.120000\n",
       "154361  622066161  2020-02-29             3.237500\n",
       "154362  622067983  2020-02-29             6.648000\n",
       "154363  622069477  2020-02-29             0.950000\n",
       "154364  622073202  2020-02-29             3.810000\n",
       "\n",
       "[154365 rows x 3 columns]"
      ]
     },
     "execution_count": 44,
     "metadata": {},
     "output_type": "execute_result"
    }
   ],
   "source": [
    "average_order_value "
   ]
  },
  {
   "cell_type": "code",
   "execution_count": 45,
   "id": "close-accounting",
   "metadata": {},
   "outputs": [],
   "source": [
    "average_order_value.drop(['Date'],axis = 1, inplace = True)"
   ]
  },
  {
   "cell_type": "code",
   "execution_count": 46,
   "id": "elect-consumer",
   "metadata": {},
   "outputs": [],
   "source": [
    "interacted_brands_num=data.groupby('user_id')['brand'].count().reset_index(name='interacted_brands_num')"
   ]
  },
  {
   "cell_type": "code",
   "execution_count": 47,
   "id": "handled-launch",
   "metadata": {},
   "outputs": [
    {
     "data": {
      "text/html": [
       "<div>\n",
       "<style scoped>\n",
       "    .dataframe tbody tr th:only-of-type {\n",
       "        vertical-align: middle;\n",
       "    }\n",
       "\n",
       "    .dataframe tbody tr th {\n",
       "        vertical-align: top;\n",
       "    }\n",
       "\n",
       "    .dataframe thead th {\n",
       "        text-align: right;\n",
       "    }\n",
       "</style>\n",
       "<table border=\"1\" class=\"dataframe\">\n",
       "  <thead>\n",
       "    <tr style=\"text-align: right;\">\n",
       "      <th></th>\n",
       "      <th>user_id</th>\n",
       "      <th>interacted_brands_num</th>\n",
       "    </tr>\n",
       "  </thead>\n",
       "  <tbody>\n",
       "    <tr>\n",
       "      <th>0</th>\n",
       "      <td>465496</td>\n",
       "      <td>3</td>\n",
       "    </tr>\n",
       "    <tr>\n",
       "      <th>1</th>\n",
       "      <td>1120748</td>\n",
       "      <td>1</td>\n",
       "    </tr>\n",
       "    <tr>\n",
       "      <th>2</th>\n",
       "      <td>1180452</td>\n",
       "      <td>1</td>\n",
       "    </tr>\n",
       "    <tr>\n",
       "      <th>3</th>\n",
       "      <td>1458813</td>\n",
       "      <td>31</td>\n",
       "    </tr>\n",
       "    <tr>\n",
       "      <th>4</th>\n",
       "      <td>2038666</td>\n",
       "      <td>1</td>\n",
       "    </tr>\n",
       "    <tr>\n",
       "      <th>...</th>\n",
       "      <td>...</td>\n",
       "      <td>...</td>\n",
       "    </tr>\n",
       "    <tr>\n",
       "      <th>1639353</th>\n",
       "      <td>622090016</td>\n",
       "      <td>2</td>\n",
       "    </tr>\n",
       "    <tr>\n",
       "      <th>1639354</th>\n",
       "      <td>622090043</td>\n",
       "      <td>3</td>\n",
       "    </tr>\n",
       "    <tr>\n",
       "      <th>1639355</th>\n",
       "      <td>622090052</td>\n",
       "      <td>2</td>\n",
       "    </tr>\n",
       "    <tr>\n",
       "      <th>1639356</th>\n",
       "      <td>622090098</td>\n",
       "      <td>1</td>\n",
       "    </tr>\n",
       "    <tr>\n",
       "      <th>1639357</th>\n",
       "      <td>622090237</td>\n",
       "      <td>1</td>\n",
       "    </tr>\n",
       "  </tbody>\n",
       "</table>\n",
       "<p>1639358 rows × 2 columns</p>\n",
       "</div>"
      ],
      "text/plain": [
       "           user_id  interacted_brands_num\n",
       "0           465496                      3\n",
       "1          1120748                      1\n",
       "2          1180452                      1\n",
       "3          1458813                     31\n",
       "4          2038666                      1\n",
       "...            ...                    ...\n",
       "1639353  622090016                      2\n",
       "1639354  622090043                      3\n",
       "1639355  622090052                      2\n",
       "1639356  622090098                      1\n",
       "1639357  622090237                      1\n",
       "\n",
       "[1639358 rows x 2 columns]"
      ]
     },
     "execution_count": 47,
     "metadata": {},
     "output_type": "execute_result"
    }
   ],
   "source": [
    "interacted_brands_num"
   ]
  },
  {
   "cell_type": "code",
   "execution_count": 48,
   "id": "affecting-worse",
   "metadata": {},
   "outputs": [],
   "source": [
    "interacted_categories_num=data.groupby('user_id')['category_id'].count().reset_index(name='interacted_categories_num')\n"
   ]
  },
  {
   "cell_type": "code",
   "execution_count": 49,
   "id": "paperback-tenant",
   "metadata": {},
   "outputs": [
    {
     "data": {
      "text/html": [
       "<div>\n",
       "<style scoped>\n",
       "    .dataframe tbody tr th:only-of-type {\n",
       "        vertical-align: middle;\n",
       "    }\n",
       "\n",
       "    .dataframe tbody tr th {\n",
       "        vertical-align: top;\n",
       "    }\n",
       "\n",
       "    .dataframe thead th {\n",
       "        text-align: right;\n",
       "    }\n",
       "</style>\n",
       "<table border=\"1\" class=\"dataframe\">\n",
       "  <thead>\n",
       "    <tr style=\"text-align: right;\">\n",
       "      <th></th>\n",
       "      <th>user_id</th>\n",
       "      <th>interacted_categories_num</th>\n",
       "    </tr>\n",
       "  </thead>\n",
       "  <tbody>\n",
       "    <tr>\n",
       "      <th>0</th>\n",
       "      <td>465496</td>\n",
       "      <td>3</td>\n",
       "    </tr>\n",
       "    <tr>\n",
       "      <th>1</th>\n",
       "      <td>1120748</td>\n",
       "      <td>1</td>\n",
       "    </tr>\n",
       "    <tr>\n",
       "      <th>2</th>\n",
       "      <td>1180452</td>\n",
       "      <td>1</td>\n",
       "    </tr>\n",
       "    <tr>\n",
       "      <th>3</th>\n",
       "      <td>1458813</td>\n",
       "      <td>31</td>\n",
       "    </tr>\n",
       "    <tr>\n",
       "      <th>4</th>\n",
       "      <td>2038666</td>\n",
       "      <td>1</td>\n",
       "    </tr>\n",
       "    <tr>\n",
       "      <th>...</th>\n",
       "      <td>...</td>\n",
       "      <td>...</td>\n",
       "    </tr>\n",
       "    <tr>\n",
       "      <th>1639353</th>\n",
       "      <td>622090016</td>\n",
       "      <td>2</td>\n",
       "    </tr>\n",
       "    <tr>\n",
       "      <th>1639354</th>\n",
       "      <td>622090043</td>\n",
       "      <td>3</td>\n",
       "    </tr>\n",
       "    <tr>\n",
       "      <th>1639355</th>\n",
       "      <td>622090052</td>\n",
       "      <td>2</td>\n",
       "    </tr>\n",
       "    <tr>\n",
       "      <th>1639356</th>\n",
       "      <td>622090098</td>\n",
       "      <td>1</td>\n",
       "    </tr>\n",
       "    <tr>\n",
       "      <th>1639357</th>\n",
       "      <td>622090237</td>\n",
       "      <td>1</td>\n",
       "    </tr>\n",
       "  </tbody>\n",
       "</table>\n",
       "<p>1639358 rows × 2 columns</p>\n",
       "</div>"
      ],
      "text/plain": [
       "           user_id  interacted_categories_num\n",
       "0           465496                          3\n",
       "1          1120748                          1\n",
       "2          1180452                          1\n",
       "3          1458813                         31\n",
       "4          2038666                          1\n",
       "...            ...                        ...\n",
       "1639353  622090016                          2\n",
       "1639354  622090043                          3\n",
       "1639355  622090052                          2\n",
       "1639356  622090098                          1\n",
       "1639357  622090237                          1\n",
       "\n",
       "[1639358 rows x 2 columns]"
      ]
     },
     "execution_count": 49,
     "metadata": {},
     "output_type": "execute_result"
    }
   ],
   "source": [
    "interacted_categories_num"
   ]
  },
  {
   "cell_type": "code",
   "execution_count": 50,
   "id": "conservative-monitoring",
   "metadata": {},
   "outputs": [],
   "source": [
    "view_dates = view.groupby('user_id')['Date'].count().reset_index(name='view_frequency')"
   ]
  },
  {
   "cell_type": "code",
   "execution_count": 86,
   "id": "musical-creator",
   "metadata": {},
   "outputs": [
    {
     "data": {
      "text/html": [
       "<div>\n",
       "<style scoped>\n",
       "    .dataframe tbody tr th:only-of-type {\n",
       "        vertical-align: middle;\n",
       "    }\n",
       "\n",
       "    .dataframe tbody tr th {\n",
       "        vertical-align: top;\n",
       "    }\n",
       "\n",
       "    .dataframe thead th {\n",
       "        text-align: right;\n",
       "    }\n",
       "</style>\n",
       "<table border=\"1\" class=\"dataframe\">\n",
       "  <thead>\n",
       "    <tr style=\"text-align: right;\">\n",
       "      <th></th>\n",
       "      <th>user_id</th>\n",
       "      <th>view_frequency</th>\n",
       "    </tr>\n",
       "  </thead>\n",
       "  <tbody>\n",
       "    <tr>\n",
       "      <th>0</th>\n",
       "      <td>465496</td>\n",
       "      <td>3</td>\n",
       "    </tr>\n",
       "    <tr>\n",
       "      <th>1</th>\n",
       "      <td>1120748</td>\n",
       "      <td>1</td>\n",
       "    </tr>\n",
       "    <tr>\n",
       "      <th>2</th>\n",
       "      <td>1180452</td>\n",
       "      <td>1</td>\n",
       "    </tr>\n",
       "    <tr>\n",
       "      <th>3</th>\n",
       "      <td>1458813</td>\n",
       "      <td>31</td>\n",
       "    </tr>\n",
       "    <tr>\n",
       "      <th>4</th>\n",
       "      <td>2038666</td>\n",
       "      <td>1</td>\n",
       "    </tr>\n",
       "    <tr>\n",
       "      <th>...</th>\n",
       "      <td>...</td>\n",
       "      <td>...</td>\n",
       "    </tr>\n",
       "    <tr>\n",
       "      <th>1597749</th>\n",
       "      <td>622090016</td>\n",
       "      <td>2</td>\n",
       "    </tr>\n",
       "    <tr>\n",
       "      <th>1597750</th>\n",
       "      <td>622090043</td>\n",
       "      <td>2</td>\n",
       "    </tr>\n",
       "    <tr>\n",
       "      <th>1597751</th>\n",
       "      <td>622090052</td>\n",
       "      <td>2</td>\n",
       "    </tr>\n",
       "    <tr>\n",
       "      <th>1597752</th>\n",
       "      <td>622090098</td>\n",
       "      <td>1</td>\n",
       "    </tr>\n",
       "    <tr>\n",
       "      <th>1597753</th>\n",
       "      <td>622090237</td>\n",
       "      <td>1</td>\n",
       "    </tr>\n",
       "  </tbody>\n",
       "</table>\n",
       "<p>1597754 rows × 2 columns</p>\n",
       "</div>"
      ],
      "text/plain": [
       "           user_id  view_frequency\n",
       "0           465496               3\n",
       "1          1120748               1\n",
       "2          1180452               1\n",
       "3          1458813              31\n",
       "4          2038666               1\n",
       "...            ...             ...\n",
       "1597749  622090016               2\n",
       "1597750  622090043               2\n",
       "1597751  622090052               2\n",
       "1597752  622090098               1\n",
       "1597753  622090237               1\n",
       "\n",
       "[1597754 rows x 2 columns]"
      ]
     },
     "execution_count": 86,
     "metadata": {},
     "output_type": "execute_result"
    }
   ],
   "source": [
    "view_dates"
   ]
  },
  {
   "cell_type": "code",
   "execution_count": 51,
   "id": "swedish-increase",
   "metadata": {},
   "outputs": [],
   "source": [
    "purchased_dates = purchase.groupby('user_id')['Date'].count().reset_index(name='purchase_frequency')"
   ]
  },
  {
   "cell_type": "code",
   "execution_count": 52,
   "id": "future-message",
   "metadata": {},
   "outputs": [
    {
     "data": {
      "text/html": [
       "<div>\n",
       "<style scoped>\n",
       "    .dataframe tbody tr th:only-of-type {\n",
       "        vertical-align: middle;\n",
       "    }\n",
       "\n",
       "    .dataframe tbody tr th {\n",
       "        vertical-align: top;\n",
       "    }\n",
       "\n",
       "    .dataframe thead th {\n",
       "        text-align: right;\n",
       "    }\n",
       "</style>\n",
       "<table border=\"1\" class=\"dataframe\">\n",
       "  <thead>\n",
       "    <tr style=\"text-align: right;\">\n",
       "      <th></th>\n",
       "      <th>user_id</th>\n",
       "      <th>purchase_frequency</th>\n",
       "    </tr>\n",
       "  </thead>\n",
       "  <tbody>\n",
       "    <tr>\n",
       "      <th>0</th>\n",
       "      <td>9794320</td>\n",
       "      <td>4</td>\n",
       "    </tr>\n",
       "    <tr>\n",
       "      <th>1</th>\n",
       "      <td>10079204</td>\n",
       "      <td>2</td>\n",
       "    </tr>\n",
       "    <tr>\n",
       "      <th>2</th>\n",
       "      <td>10280338</td>\n",
       "      <td>86</td>\n",
       "    </tr>\n",
       "    <tr>\n",
       "      <th>3</th>\n",
       "      <td>12055855</td>\n",
       "      <td>4</td>\n",
       "    </tr>\n",
       "    <tr>\n",
       "      <th>4</th>\n",
       "      <td>12936739</td>\n",
       "      <td>2</td>\n",
       "    </tr>\n",
       "    <tr>\n",
       "      <th>...</th>\n",
       "      <td>...</td>\n",
       "      <td>...</td>\n",
       "    </tr>\n",
       "    <tr>\n",
       "      <th>110513</th>\n",
       "      <td>622065819</td>\n",
       "      <td>4</td>\n",
       "    </tr>\n",
       "    <tr>\n",
       "      <th>110514</th>\n",
       "      <td>622066161</td>\n",
       "      <td>4</td>\n",
       "    </tr>\n",
       "    <tr>\n",
       "      <th>110515</th>\n",
       "      <td>622067983</td>\n",
       "      <td>10</td>\n",
       "    </tr>\n",
       "    <tr>\n",
       "      <th>110516</th>\n",
       "      <td>622069477</td>\n",
       "      <td>1</td>\n",
       "    </tr>\n",
       "    <tr>\n",
       "      <th>110517</th>\n",
       "      <td>622073202</td>\n",
       "      <td>1</td>\n",
       "    </tr>\n",
       "  </tbody>\n",
       "</table>\n",
       "<p>110518 rows × 2 columns</p>\n",
       "</div>"
      ],
      "text/plain": [
       "          user_id  purchase_frequency\n",
       "0         9794320                   4\n",
       "1        10079204                   2\n",
       "2        10280338                  86\n",
       "3        12055855                   4\n",
       "4        12936739                   2\n",
       "...           ...                 ...\n",
       "110513  622065819                   4\n",
       "110514  622066161                   4\n",
       "110515  622067983                  10\n",
       "110516  622069477                   1\n",
       "110517  622073202                   1\n",
       "\n",
       "[110518 rows x 2 columns]"
      ]
     },
     "execution_count": 52,
     "metadata": {},
     "output_type": "execute_result"
    }
   ],
   "source": [
    "purchased_dates"
   ]
  },
  {
   "cell_type": "code",
   "execution_count": 53,
   "id": "egyptian-swiss",
   "metadata": {},
   "outputs": [],
   "source": [
    "def returncustomer(row):\n",
    "    if row['purchase_frequency'] >1:\n",
    "        return 1\n",
    "    else:\n",
    "        return 0 \n",
    "purchased_dates['is_return'] =purchased_dates.apply(returncustomer,axis=1)"
   ]
  },
  {
   "cell_type": "code",
   "execution_count": 54,
   "id": "commercial-focus",
   "metadata": {},
   "outputs": [
    {
     "data": {
      "text/html": [
       "<div>\n",
       "<style scoped>\n",
       "    .dataframe tbody tr th:only-of-type {\n",
       "        vertical-align: middle;\n",
       "    }\n",
       "\n",
       "    .dataframe tbody tr th {\n",
       "        vertical-align: top;\n",
       "    }\n",
       "\n",
       "    .dataframe thead th {\n",
       "        text-align: right;\n",
       "    }\n",
       "</style>\n",
       "<table border=\"1\" class=\"dataframe\">\n",
       "  <thead>\n",
       "    <tr style=\"text-align: right;\">\n",
       "      <th></th>\n",
       "      <th>user_id</th>\n",
       "      <th>purchase_frequency</th>\n",
       "      <th>is_return</th>\n",
       "    </tr>\n",
       "  </thead>\n",
       "  <tbody>\n",
       "    <tr>\n",
       "      <th>0</th>\n",
       "      <td>9794320</td>\n",
       "      <td>4</td>\n",
       "      <td>1</td>\n",
       "    </tr>\n",
       "    <tr>\n",
       "      <th>1</th>\n",
       "      <td>10079204</td>\n",
       "      <td>2</td>\n",
       "      <td>1</td>\n",
       "    </tr>\n",
       "    <tr>\n",
       "      <th>2</th>\n",
       "      <td>10280338</td>\n",
       "      <td>86</td>\n",
       "      <td>1</td>\n",
       "    </tr>\n",
       "    <tr>\n",
       "      <th>3</th>\n",
       "      <td>12055855</td>\n",
       "      <td>4</td>\n",
       "      <td>1</td>\n",
       "    </tr>\n",
       "    <tr>\n",
       "      <th>4</th>\n",
       "      <td>12936739</td>\n",
       "      <td>2</td>\n",
       "      <td>1</td>\n",
       "    </tr>\n",
       "    <tr>\n",
       "      <th>...</th>\n",
       "      <td>...</td>\n",
       "      <td>...</td>\n",
       "      <td>...</td>\n",
       "    </tr>\n",
       "    <tr>\n",
       "      <th>110513</th>\n",
       "      <td>622065819</td>\n",
       "      <td>4</td>\n",
       "      <td>1</td>\n",
       "    </tr>\n",
       "    <tr>\n",
       "      <th>110514</th>\n",
       "      <td>622066161</td>\n",
       "      <td>4</td>\n",
       "      <td>1</td>\n",
       "    </tr>\n",
       "    <tr>\n",
       "      <th>110515</th>\n",
       "      <td>622067983</td>\n",
       "      <td>10</td>\n",
       "      <td>1</td>\n",
       "    </tr>\n",
       "    <tr>\n",
       "      <th>110516</th>\n",
       "      <td>622069477</td>\n",
       "      <td>1</td>\n",
       "      <td>0</td>\n",
       "    </tr>\n",
       "    <tr>\n",
       "      <th>110517</th>\n",
       "      <td>622073202</td>\n",
       "      <td>1</td>\n",
       "      <td>0</td>\n",
       "    </tr>\n",
       "  </tbody>\n",
       "</table>\n",
       "<p>110518 rows × 3 columns</p>\n",
       "</div>"
      ],
      "text/plain": [
       "          user_id  purchase_frequency  is_return\n",
       "0         9794320                   4          1\n",
       "1        10079204                   2          1\n",
       "2        10280338                  86          1\n",
       "3        12055855                   4          1\n",
       "4        12936739                   2          1\n",
       "...           ...                 ...        ...\n",
       "110513  622065819                   4          1\n",
       "110514  622066161                   4          1\n",
       "110515  622067983                  10          1\n",
       "110516  622069477                   1          0\n",
       "110517  622073202                   1          0\n",
       "\n",
       "[110518 rows x 3 columns]"
      ]
     },
     "execution_count": 54,
     "metadata": {},
     "output_type": "execute_result"
    }
   ],
   "source": [
    "purchased_dates"
   ]
  },
  {
   "cell_type": "code",
   "execution_count": 57,
   "id": "increasing-attraction",
   "metadata": {},
   "outputs": [
    {
     "data": {
      "text/html": [
       "<div>\n",
       "<style scoped>\n",
       "    .dataframe tbody tr th:only-of-type {\n",
       "        vertical-align: middle;\n",
       "    }\n",
       "\n",
       "    .dataframe tbody tr th {\n",
       "        vertical-align: top;\n",
       "    }\n",
       "\n",
       "    .dataframe thead th {\n",
       "        text-align: right;\n",
       "    }\n",
       "</style>\n",
       "<table border=\"1\" class=\"dataframe\">\n",
       "  <thead>\n",
       "    <tr style=\"text-align: right;\">\n",
       "      <th></th>\n",
       "      <th>event_time</th>\n",
       "      <th>event_type</th>\n",
       "      <th>product_id</th>\n",
       "      <th>category_id</th>\n",
       "      <th>brand</th>\n",
       "      <th>price</th>\n",
       "      <th>user_id</th>\n",
       "      <th>Year</th>\n",
       "      <th>Month</th>\n",
       "      <th>Day</th>\n",
       "      <th>Hour</th>\n",
       "      <th>Date</th>\n",
       "    </tr>\n",
       "  </thead>\n",
       "  <tbody>\n",
       "    <tr>\n",
       "      <th>0</th>\n",
       "      <td>2019-12-01 00:00:00 UTC</td>\n",
       "      <td>remove_from_cart</td>\n",
       "      <td>5712790</td>\n",
       "      <td>1487580005268456287</td>\n",
       "      <td>f.o.x</td>\n",
       "      <td>6.27</td>\n",
       "      <td>576802932</td>\n",
       "      <td>2019</td>\n",
       "      <td>12</td>\n",
       "      <td>01</td>\n",
       "      <td>00</td>\n",
       "      <td>2019-12-01</td>\n",
       "    </tr>\n",
       "    <tr>\n",
       "      <th>1</th>\n",
       "      <td>2019-12-01 00:00:00 UTC</td>\n",
       "      <td>view</td>\n",
       "      <td>5764655</td>\n",
       "      <td>1487580005411062629</td>\n",
       "      <td>cnd</td>\n",
       "      <td>29.05</td>\n",
       "      <td>412120092</td>\n",
       "      <td>2019</td>\n",
       "      <td>12</td>\n",
       "      <td>01</td>\n",
       "      <td>00</td>\n",
       "      <td>2019-12-01</td>\n",
       "    </tr>\n",
       "    <tr>\n",
       "      <th>2</th>\n",
       "      <td>2019-12-01 00:00:02 UTC</td>\n",
       "      <td>cart</td>\n",
       "      <td>4958</td>\n",
       "      <td>1487580009471148064</td>\n",
       "      <td>runail</td>\n",
       "      <td>1.19</td>\n",
       "      <td>494077766</td>\n",
       "      <td>2019</td>\n",
       "      <td>12</td>\n",
       "      <td>01</td>\n",
       "      <td>00</td>\n",
       "      <td>2019-12-01</td>\n",
       "    </tr>\n",
       "    <tr>\n",
       "      <th>3</th>\n",
       "      <td>2019-12-01 00:00:05 UTC</td>\n",
       "      <td>view</td>\n",
       "      <td>5848413</td>\n",
       "      <td>1487580007675986893</td>\n",
       "      <td>freedecor</td>\n",
       "      <td>0.79</td>\n",
       "      <td>348405118</td>\n",
       "      <td>2019</td>\n",
       "      <td>12</td>\n",
       "      <td>01</td>\n",
       "      <td>00</td>\n",
       "      <td>2019-12-01</td>\n",
       "    </tr>\n",
       "    <tr>\n",
       "      <th>4</th>\n",
       "      <td>2019-12-01 00:00:07 UTC</td>\n",
       "      <td>view</td>\n",
       "      <td>5824148</td>\n",
       "      <td>1487580005511725929</td>\n",
       "      <td>otherbrand</td>\n",
       "      <td>5.56</td>\n",
       "      <td>576005683</td>\n",
       "      <td>2019</td>\n",
       "      <td>12</td>\n",
       "      <td>01</td>\n",
       "      <td>00</td>\n",
       "      <td>2019-12-01</td>\n",
       "    </tr>\n",
       "  </tbody>\n",
       "</table>\n",
       "</div>"
      ],
      "text/plain": [
       "                event_time        event_type  product_id          category_id  \\\n",
       "0  2019-12-01 00:00:00 UTC  remove_from_cart     5712790  1487580005268456287   \n",
       "1  2019-12-01 00:00:00 UTC              view     5764655  1487580005411062629   \n",
       "2  2019-12-01 00:00:02 UTC              cart        4958  1487580009471148064   \n",
       "3  2019-12-01 00:00:05 UTC              view     5848413  1487580007675986893   \n",
       "4  2019-12-01 00:00:07 UTC              view     5824148  1487580005511725929   \n",
       "\n",
       "        brand  price    user_id  Year Month Day Hour        Date  \n",
       "0       f.o.x   6.27  576802932  2019    12  01   00  2019-12-01  \n",
       "1         cnd  29.05  412120092  2019    12  01   00  2019-12-01  \n",
       "2      runail   1.19  494077766  2019    12  01   00  2019-12-01  \n",
       "3   freedecor   0.79  348405118  2019    12  01   00  2019-12-01  \n",
       "4  otherbrand   5.56  576005683  2019    12  01   00  2019-12-01  "
      ]
     },
     "execution_count": 57,
     "metadata": {},
     "output_type": "execute_result"
    }
   ],
   "source": [
    "data.head()"
   ]
  },
  {
   "cell_type": "code",
   "execution_count": 58,
   "id": "adapted-kidney",
   "metadata": {},
   "outputs": [
    {
     "data": {
      "text/plain": [
       "array(['12', '11', '10', '02', '01'], dtype=object)"
      ]
     },
     "execution_count": 58,
     "metadata": {},
     "output_type": "execute_result"
    }
   ],
   "source": [
    "data['Month'].unique()"
   ]
  },
  {
   "cell_type": "code",
   "execution_count": 59,
   "id": "artistic-coordinator",
   "metadata": {},
   "outputs": [
    {
     "data": {
      "text/html": [
       "<div>\n",
       "<style scoped>\n",
       "    .dataframe tbody tr th:only-of-type {\n",
       "        vertical-align: middle;\n",
       "    }\n",
       "\n",
       "    .dataframe tbody tr th {\n",
       "        vertical-align: top;\n",
       "    }\n",
       "\n",
       "    .dataframe thead th {\n",
       "        text-align: right;\n",
       "    }\n",
       "</style>\n",
       "<table border=\"1\" class=\"dataframe\">\n",
       "  <thead>\n",
       "    <tr style=\"text-align: right;\">\n",
       "      <th></th>\n",
       "      <th>event_time</th>\n",
       "      <th>event_type</th>\n",
       "      <th>product_id</th>\n",
       "      <th>category_id</th>\n",
       "      <th>brand</th>\n",
       "      <th>price</th>\n",
       "      <th>user_id</th>\n",
       "      <th>Year</th>\n",
       "      <th>Month</th>\n",
       "      <th>Day</th>\n",
       "      <th>Hour</th>\n",
       "      <th>Date</th>\n",
       "    </tr>\n",
       "  </thead>\n",
       "  <tbody>\n",
       "    <tr>\n",
       "      <th>557</th>\n",
       "      <td>2019-12-01 00:17:50 UTC</td>\n",
       "      <td>purchase</td>\n",
       "      <td>4554</td>\n",
       "      <td>1487580010796548183</td>\n",
       "      <td>runail</td>\n",
       "      <td>0.38</td>\n",
       "      <td>473613801</td>\n",
       "      <td>2019</td>\n",
       "      <td>12</td>\n",
       "      <td>01</td>\n",
       "      <td>00</td>\n",
       "      <td>2019-12-01</td>\n",
       "    </tr>\n",
       "    <tr>\n",
       "      <th>558</th>\n",
       "      <td>2019-12-01 00:17:50 UTC</td>\n",
       "      <td>purchase</td>\n",
       "      <td>4600</td>\n",
       "      <td>1487580010796548183</td>\n",
       "      <td>runail</td>\n",
       "      <td>0.38</td>\n",
       "      <td>473613801</td>\n",
       "      <td>2019</td>\n",
       "      <td>12</td>\n",
       "      <td>01</td>\n",
       "      <td>00</td>\n",
       "      <td>2019-12-01</td>\n",
       "    </tr>\n",
       "    <tr>\n",
       "      <th>559</th>\n",
       "      <td>2019-12-01 00:17:50 UTC</td>\n",
       "      <td>purchase</td>\n",
       "      <td>4607</td>\n",
       "      <td>1487580010796548183</td>\n",
       "      <td>runail</td>\n",
       "      <td>0.38</td>\n",
       "      <td>473613801</td>\n",
       "      <td>2019</td>\n",
       "      <td>12</td>\n",
       "      <td>01</td>\n",
       "      <td>00</td>\n",
       "      <td>2019-12-01</td>\n",
       "    </tr>\n",
       "    <tr>\n",
       "      <th>560</th>\n",
       "      <td>2019-12-01 00:17:50 UTC</td>\n",
       "      <td>purchase</td>\n",
       "      <td>4640</td>\n",
       "      <td>1487580011157258342</td>\n",
       "      <td>runail</td>\n",
       "      <td>0.37</td>\n",
       "      <td>473613801</td>\n",
       "      <td>2019</td>\n",
       "      <td>12</td>\n",
       "      <td>01</td>\n",
       "      <td>00</td>\n",
       "      <td>2019-12-01</td>\n",
       "    </tr>\n",
       "    <tr>\n",
       "      <th>561</th>\n",
       "      <td>2019-12-01 00:17:50 UTC</td>\n",
       "      <td>purchase</td>\n",
       "      <td>4689</td>\n",
       "      <td>1487580010796548183</td>\n",
       "      <td>runail</td>\n",
       "      <td>0.38</td>\n",
       "      <td>473613801</td>\n",
       "      <td>2019</td>\n",
       "      <td>12</td>\n",
       "      <td>01</td>\n",
       "      <td>00</td>\n",
       "      <td>2019-12-01</td>\n",
       "    </tr>\n",
       "    <tr>\n",
       "      <th>...</th>\n",
       "      <td>...</td>\n",
       "      <td>...</td>\n",
       "      <td>...</td>\n",
       "      <td>...</td>\n",
       "      <td>...</td>\n",
       "      <td>...</td>\n",
       "      <td>...</td>\n",
       "      <td>...</td>\n",
       "      <td>...</td>\n",
       "      <td>...</td>\n",
       "      <td>...</td>\n",
       "      <td>...</td>\n",
       "    </tr>\n",
       "    <tr>\n",
       "      <th>20692802</th>\n",
       "      <td>2020-01-31 23:58:26 UTC</td>\n",
       "      <td>purchase</td>\n",
       "      <td>5730206</td>\n",
       "      <td>1487580005092295511</td>\n",
       "      <td>otherbrand</td>\n",
       "      <td>10.32</td>\n",
       "      <td>604470329</td>\n",
       "      <td>2020</td>\n",
       "      <td>01</td>\n",
       "      <td>31</td>\n",
       "      <td>23</td>\n",
       "      <td>2020-01-31</td>\n",
       "    </tr>\n",
       "    <tr>\n",
       "      <th>20692803</th>\n",
       "      <td>2020-01-31 23:58:26 UTC</td>\n",
       "      <td>purchase</td>\n",
       "      <td>5861342</td>\n",
       "      <td>1487580010645553231</td>\n",
       "      <td>otherbrand</td>\n",
       "      <td>1.90</td>\n",
       "      <td>604470329</td>\n",
       "      <td>2020</td>\n",
       "      <td>01</td>\n",
       "      <td>31</td>\n",
       "      <td>23</td>\n",
       "      <td>2020-01-31</td>\n",
       "    </tr>\n",
       "    <tr>\n",
       "      <th>20692804</th>\n",
       "      <td>2020-01-31 23:58:26 UTC</td>\n",
       "      <td>purchase</td>\n",
       "      <td>5867185</td>\n",
       "      <td>1487580007910867929</td>\n",
       "      <td>staleks</td>\n",
       "      <td>11.43</td>\n",
       "      <td>604470329</td>\n",
       "      <td>2020</td>\n",
       "      <td>01</td>\n",
       "      <td>31</td>\n",
       "      <td>23</td>\n",
       "      <td>2020-01-31</td>\n",
       "    </tr>\n",
       "    <tr>\n",
       "      <th>20692805</th>\n",
       "      <td>2020-01-31 23:58:26 UTC</td>\n",
       "      <td>purchase</td>\n",
       "      <td>5877766</td>\n",
       "      <td>1605161575889502297</td>\n",
       "      <td>otherbrand</td>\n",
       "      <td>4.76</td>\n",
       "      <td>604470329</td>\n",
       "      <td>2020</td>\n",
       "      <td>01</td>\n",
       "      <td>31</td>\n",
       "      <td>23</td>\n",
       "      <td>2020-01-31</td>\n",
       "    </tr>\n",
       "    <tr>\n",
       "      <th>20692806</th>\n",
       "      <td>2020-01-31 23:58:26 UTC</td>\n",
       "      <td>purchase</td>\n",
       "      <td>5905704</td>\n",
       "      <td>1487580005092295511</td>\n",
       "      <td>otherbrand</td>\n",
       "      <td>10.63</td>\n",
       "      <td>604470329</td>\n",
       "      <td>2020</td>\n",
       "      <td>01</td>\n",
       "      <td>31</td>\n",
       "      <td>23</td>\n",
       "      <td>2020-01-31</td>\n",
       "    </tr>\n",
       "  </tbody>\n",
       "</table>\n",
       "<p>1287007 rows × 12 columns</p>\n",
       "</div>"
      ],
      "text/plain": [
       "                       event_time event_type  product_id          category_id  \\\n",
       "557       2019-12-01 00:17:50 UTC   purchase        4554  1487580010796548183   \n",
       "558       2019-12-01 00:17:50 UTC   purchase        4600  1487580010796548183   \n",
       "559       2019-12-01 00:17:50 UTC   purchase        4607  1487580010796548183   \n",
       "560       2019-12-01 00:17:50 UTC   purchase        4640  1487580011157258342   \n",
       "561       2019-12-01 00:17:50 UTC   purchase        4689  1487580010796548183   \n",
       "...                           ...        ...         ...                  ...   \n",
       "20692802  2020-01-31 23:58:26 UTC   purchase     5730206  1487580005092295511   \n",
       "20692803  2020-01-31 23:58:26 UTC   purchase     5861342  1487580010645553231   \n",
       "20692804  2020-01-31 23:58:26 UTC   purchase     5867185  1487580007910867929   \n",
       "20692805  2020-01-31 23:58:26 UTC   purchase     5877766  1605161575889502297   \n",
       "20692806  2020-01-31 23:58:26 UTC   purchase     5905704  1487580005092295511   \n",
       "\n",
       "               brand  price    user_id  Year Month Day Hour        Date  \n",
       "557           runail   0.38  473613801  2019    12  01   00  2019-12-01  \n",
       "558           runail   0.38  473613801  2019    12  01   00  2019-12-01  \n",
       "559           runail   0.38  473613801  2019    12  01   00  2019-12-01  \n",
       "560           runail   0.37  473613801  2019    12  01   00  2019-12-01  \n",
       "561           runail   0.38  473613801  2019    12  01   00  2019-12-01  \n",
       "...              ...    ...        ...   ...   ...  ..  ...         ...  \n",
       "20692802  otherbrand  10.32  604470329  2020    01  31   23  2020-01-31  \n",
       "20692803  otherbrand   1.90  604470329  2020    01  31   23  2020-01-31  \n",
       "20692804     staleks  11.43  604470329  2020    01  31   23  2020-01-31  \n",
       "20692805  otherbrand   4.76  604470329  2020    01  31   23  2020-01-31  \n",
       "20692806  otherbrand  10.63  604470329  2020    01  31   23  2020-01-31  \n",
       "\n",
       "[1287007 rows x 12 columns]"
      ]
     },
     "execution_count": 59,
     "metadata": {},
     "output_type": "execute_result"
    }
   ],
   "source": [
    "purchase"
   ]
  },
  {
   "cell_type": "code",
   "execution_count": 63,
   "id": "noble-burton",
   "metadata": {},
   "outputs": [],
   "source": [
    "m={\"10\":4,\"11\":3,\"12\":2,\"01\":1,\"02\":0}\n",
    "purchase.loc[:,'Recency']=purchase['Month'].map(m)\n",
    "recency=purchase.groupby('user_id')['Recency'].min().reset_index().rename(columns={\"0\":\"Recency\"})"
   ]
  },
  {
   "cell_type": "code",
   "execution_count": 64,
   "id": "northern-aircraft",
   "metadata": {},
   "outputs": [
    {
     "data": {
      "text/html": [
       "<div>\n",
       "<style scoped>\n",
       "    .dataframe tbody tr th:only-of-type {\n",
       "        vertical-align: middle;\n",
       "    }\n",
       "\n",
       "    .dataframe tbody tr th {\n",
       "        vertical-align: top;\n",
       "    }\n",
       "\n",
       "    .dataframe thead th {\n",
       "        text-align: right;\n",
       "    }\n",
       "</style>\n",
       "<table border=\"1\" class=\"dataframe\">\n",
       "  <thead>\n",
       "    <tr style=\"text-align: right;\">\n",
       "      <th></th>\n",
       "      <th>user_id</th>\n",
       "      <th>Recency</th>\n",
       "    </tr>\n",
       "  </thead>\n",
       "  <tbody>\n",
       "    <tr>\n",
       "      <th>0</th>\n",
       "      <td>9794320</td>\n",
       "      <td>3</td>\n",
       "    </tr>\n",
       "    <tr>\n",
       "      <th>1</th>\n",
       "      <td>10079204</td>\n",
       "      <td>3</td>\n",
       "    </tr>\n",
       "    <tr>\n",
       "      <th>2</th>\n",
       "      <td>10280338</td>\n",
       "      <td>0</td>\n",
       "    </tr>\n",
       "    <tr>\n",
       "      <th>3</th>\n",
       "      <td>12055855</td>\n",
       "      <td>2</td>\n",
       "    </tr>\n",
       "    <tr>\n",
       "      <th>4</th>\n",
       "      <td>12936739</td>\n",
       "      <td>1</td>\n",
       "    </tr>\n",
       "    <tr>\n",
       "      <th>...</th>\n",
       "      <td>...</td>\n",
       "      <td>...</td>\n",
       "    </tr>\n",
       "    <tr>\n",
       "      <th>110513</th>\n",
       "      <td>622065819</td>\n",
       "      <td>0</td>\n",
       "    </tr>\n",
       "    <tr>\n",
       "      <th>110514</th>\n",
       "      <td>622066161</td>\n",
       "      <td>0</td>\n",
       "    </tr>\n",
       "    <tr>\n",
       "      <th>110515</th>\n",
       "      <td>622067983</td>\n",
       "      <td>0</td>\n",
       "    </tr>\n",
       "    <tr>\n",
       "      <th>110516</th>\n",
       "      <td>622069477</td>\n",
       "      <td>0</td>\n",
       "    </tr>\n",
       "    <tr>\n",
       "      <th>110517</th>\n",
       "      <td>622073202</td>\n",
       "      <td>0</td>\n",
       "    </tr>\n",
       "  </tbody>\n",
       "</table>\n",
       "<p>110518 rows × 2 columns</p>\n",
       "</div>"
      ],
      "text/plain": [
       "          user_id  Recency\n",
       "0         9794320        3\n",
       "1        10079204        3\n",
       "2        10280338        0\n",
       "3        12055855        2\n",
       "4        12936739        1\n",
       "...           ...      ...\n",
       "110513  622065819        0\n",
       "110514  622066161        0\n",
       "110515  622067983        0\n",
       "110516  622069477        0\n",
       "110517  622073202        0\n",
       "\n",
       "[110518 rows x 2 columns]"
      ]
     },
     "execution_count": 64,
     "metadata": {},
     "output_type": "execute_result"
    }
   ],
   "source": [
    "recency"
   ]
  },
  {
   "cell_type": "code",
   "execution_count": 87,
   "id": "durable-pottery",
   "metadata": {},
   "outputs": [],
   "source": [
    "\n",
    "data_cleaned_1 = pd.DataFrame.merge(average_order_value,purchased_dates,on='user_id')\n",
    "data_cleaned_1 = pd.DataFrame.merge(data_cleaned_1,total_order_value,on='user_id')\n",
    "data_cleaned_1 = pd.DataFrame.merge(data_cleaned_1,view_dates,on='user_id')\n",
    "data_cleaned_1 = pd.DataFrame.merge(data_cleaned_1,interacted_brands_num,on='user_id')\n",
    "data_cleaned_1 = pd.DataFrame.merge(data_cleaned_1,interacted_categories_num,on='user_id')\n",
    "data_cleaned_1 = pd.DataFrame.merge(data_cleaned_1,recency,on='user_id')"
   ]
  },
  {
   "cell_type": "code",
   "execution_count": 88,
   "id": "caring-solution",
   "metadata": {},
   "outputs": [
    {
     "data": {
      "text/html": [
       "<div>\n",
       "<style scoped>\n",
       "    .dataframe tbody tr th:only-of-type {\n",
       "        vertical-align: middle;\n",
       "    }\n",
       "\n",
       "    .dataframe tbody tr th {\n",
       "        vertical-align: top;\n",
       "    }\n",
       "\n",
       "    .dataframe thead th {\n",
       "        text-align: right;\n",
       "    }\n",
       "</style>\n",
       "<table border=\"1\" class=\"dataframe\">\n",
       "  <thead>\n",
       "    <tr style=\"text-align: right;\">\n",
       "      <th></th>\n",
       "      <th>user_id</th>\n",
       "      <th>average_order_value</th>\n",
       "      <th>purchase_frequency</th>\n",
       "      <th>is_return</th>\n",
       "      <th>total_order_value</th>\n",
       "      <th>view_frequency</th>\n",
       "      <th>interacted_brands_num</th>\n",
       "      <th>interacted_categories_num</th>\n",
       "      <th>Recency</th>\n",
       "    </tr>\n",
       "  </thead>\n",
       "  <tbody>\n",
       "    <tr>\n",
       "      <th>0</th>\n",
       "      <td>9794320</td>\n",
       "      <td>3.170000</td>\n",
       "      <td>4</td>\n",
       "      <td>1</td>\n",
       "      <td>3.170000</td>\n",
       "      <td>93</td>\n",
       "      <td>188</td>\n",
       "      <td>188</td>\n",
       "      <td>3</td>\n",
       "    </tr>\n",
       "    <tr>\n",
       "      <th>1</th>\n",
       "      <td>10280338</td>\n",
       "      <td>2.526000</td>\n",
       "      <td>86</td>\n",
       "      <td>1</td>\n",
       "      <td>2.067791</td>\n",
       "      <td>133</td>\n",
       "      <td>551</td>\n",
       "      <td>551</td>\n",
       "      <td>0</td>\n",
       "    </tr>\n",
       "    <tr>\n",
       "      <th>2</th>\n",
       "      <td>10280338</td>\n",
       "      <td>4.928333</td>\n",
       "      <td>86</td>\n",
       "      <td>1</td>\n",
       "      <td>2.067791</td>\n",
       "      <td>133</td>\n",
       "      <td>551</td>\n",
       "      <td>551</td>\n",
       "      <td>0</td>\n",
       "    </tr>\n",
       "    <tr>\n",
       "      <th>3</th>\n",
       "      <td>10280338</td>\n",
       "      <td>18.100000</td>\n",
       "      <td>86</td>\n",
       "      <td>1</td>\n",
       "      <td>2.067791</td>\n",
       "      <td>133</td>\n",
       "      <td>551</td>\n",
       "      <td>551</td>\n",
       "      <td>0</td>\n",
       "    </tr>\n",
       "    <tr>\n",
       "      <th>4</th>\n",
       "      <td>10280338</td>\n",
       "      <td>1.555745</td>\n",
       "      <td>86</td>\n",
       "      <td>1</td>\n",
       "      <td>2.067791</td>\n",
       "      <td>133</td>\n",
       "      <td>551</td>\n",
       "      <td>551</td>\n",
       "      <td>0</td>\n",
       "    </tr>\n",
       "    <tr>\n",
       "      <th>...</th>\n",
       "      <td>...</td>\n",
       "      <td>...</td>\n",
       "      <td>...</td>\n",
       "      <td>...</td>\n",
       "      <td>...</td>\n",
       "      <td>...</td>\n",
       "      <td>...</td>\n",
       "      <td>...</td>\n",
       "      <td>...</td>\n",
       "    </tr>\n",
       "    <tr>\n",
       "      <th>148791</th>\n",
       "      <td>622065819</td>\n",
       "      <td>5.120000</td>\n",
       "      <td>4</td>\n",
       "      <td>1</td>\n",
       "      <td>5.120000</td>\n",
       "      <td>4</td>\n",
       "      <td>27</td>\n",
       "      <td>27</td>\n",
       "      <td>0</td>\n",
       "    </tr>\n",
       "    <tr>\n",
       "      <th>148792</th>\n",
       "      <td>622066161</td>\n",
       "      <td>3.237500</td>\n",
       "      <td>4</td>\n",
       "      <td>1</td>\n",
       "      <td>3.237500</td>\n",
       "      <td>13</td>\n",
       "      <td>33</td>\n",
       "      <td>33</td>\n",
       "      <td>0</td>\n",
       "    </tr>\n",
       "    <tr>\n",
       "      <th>148793</th>\n",
       "      <td>622067983</td>\n",
       "      <td>6.648000</td>\n",
       "      <td>10</td>\n",
       "      <td>1</td>\n",
       "      <td>6.648000</td>\n",
       "      <td>16</td>\n",
       "      <td>76</td>\n",
       "      <td>76</td>\n",
       "      <td>0</td>\n",
       "    </tr>\n",
       "    <tr>\n",
       "      <th>148794</th>\n",
       "      <td>622069477</td>\n",
       "      <td>0.950000</td>\n",
       "      <td>1</td>\n",
       "      <td>0</td>\n",
       "      <td>0.950000</td>\n",
       "      <td>1</td>\n",
       "      <td>48</td>\n",
       "      <td>48</td>\n",
       "      <td>0</td>\n",
       "    </tr>\n",
       "    <tr>\n",
       "      <th>148795</th>\n",
       "      <td>622073202</td>\n",
       "      <td>3.810000</td>\n",
       "      <td>1</td>\n",
       "      <td>0</td>\n",
       "      <td>3.810000</td>\n",
       "      <td>1</td>\n",
       "      <td>6</td>\n",
       "      <td>6</td>\n",
       "      <td>0</td>\n",
       "    </tr>\n",
       "  </tbody>\n",
       "</table>\n",
       "<p>148796 rows × 9 columns</p>\n",
       "</div>"
      ],
      "text/plain": [
       "          user_id  average_order_value  purchase_frequency  is_return  \\\n",
       "0         9794320             3.170000                   4          1   \n",
       "1        10280338             2.526000                  86          1   \n",
       "2        10280338             4.928333                  86          1   \n",
       "3        10280338            18.100000                  86          1   \n",
       "4        10280338             1.555745                  86          1   \n",
       "...           ...                  ...                 ...        ...   \n",
       "148791  622065819             5.120000                   4          1   \n",
       "148792  622066161             3.237500                   4          1   \n",
       "148793  622067983             6.648000                  10          1   \n",
       "148794  622069477             0.950000                   1          0   \n",
       "148795  622073202             3.810000                   1          0   \n",
       "\n",
       "        total_order_value  view_frequency  interacted_brands_num  \\\n",
       "0                3.170000              93                    188   \n",
       "1                2.067791             133                    551   \n",
       "2                2.067791             133                    551   \n",
       "3                2.067791             133                    551   \n",
       "4                2.067791             133                    551   \n",
       "...                   ...             ...                    ...   \n",
       "148791           5.120000               4                     27   \n",
       "148792           3.237500              13                     33   \n",
       "148793           6.648000              16                     76   \n",
       "148794           0.950000               1                     48   \n",
       "148795           3.810000               1                      6   \n",
       "\n",
       "        interacted_categories_num  Recency  \n",
       "0                             188        3  \n",
       "1                             551        0  \n",
       "2                             551        0  \n",
       "3                             551        0  \n",
       "4                             551        0  \n",
       "...                           ...      ...  \n",
       "148791                         27        0  \n",
       "148792                         33        0  \n",
       "148793                         76        0  \n",
       "148794                         48        0  \n",
       "148795                          6        0  \n",
       "\n",
       "[148796 rows x 9 columns]"
      ]
     },
     "execution_count": 88,
     "metadata": {},
     "output_type": "execute_result"
    }
   ],
   "source": [
    "data_cleaned_1"
   ]
  },
  {
   "cell_type": "code",
   "execution_count": 89,
   "id": "unlimited-oklahoma",
   "metadata": {},
   "outputs": [],
   "source": [
    "df_cluster = data_cleaned_1.drop(['user_id'],axis = 1)"
   ]
  },
  {
   "cell_type": "markdown",
   "id": "innocent-process",
   "metadata": {},
   "source": [
    "# K means clustering\n"
   ]
  },
  {
   "cell_type": "code",
   "execution_count": 90,
   "id": "known-premium",
   "metadata": {},
   "outputs": [],
   "source": [
    "from  sklearn.preprocessing import StandardScaler"
   ]
  },
  {
   "cell_type": "code",
   "execution_count": 91,
   "id": "grateful-screen",
   "metadata": {},
   "outputs": [],
   "source": [
    "scaler = StandardScaler()\n",
    "df_cluster_scaled = scaler.fit_transform(df_cluster)"
   ]
  },
  {
   "cell_type": "code",
   "execution_count": 92,
   "id": "further-satisfaction",
   "metadata": {},
   "outputs": [
    {
     "data": {
      "text/plain": [
       "(148796, 8)"
      ]
     },
     "execution_count": 92,
     "metadata": {},
     "output_type": "execute_result"
    }
   ],
   "source": [
    "df_cluster_scaled.shape"
   ]
  },
  {
   "cell_type": "code",
   "execution_count": 93,
   "id": "ancient-robin",
   "metadata": {},
   "outputs": [
    {
     "data": {
      "text/plain": [
       "array([[-0.35394905, -0.49699029,  0.27623442, ..., -0.04189481,\n",
       "        -0.04189481,  1.03504629],\n",
       "       [-0.40223764,  1.74295869,  0.27623442, ...,  0.83423505,\n",
       "         0.83423505, -1.11331137],\n",
       "       [-0.22210519,  1.74295869,  0.27623442, ...,  0.83423505,\n",
       "         0.83423505, -1.11331137],\n",
       "       ...,\n",
       "       [-0.09316064, -0.33309159,  0.27623442, ..., -0.31221587,\n",
       "        -0.31221587, -1.11331137],\n",
       "       [-0.52040973, -0.57893965, -3.62011371, ..., -0.37979613,\n",
       "        -0.37979613, -1.11331137],\n",
       "       [-0.30596038, -0.57893965, -3.62011371, ..., -0.48116653,\n",
       "        -0.48116653, -1.11331137]])"
      ]
     },
     "execution_count": 93,
     "metadata": {},
     "output_type": "execute_result"
    }
   ],
   "source": [
    "df_cluster_scaled"
   ]
  },
  {
   "cell_type": "code",
   "execution_count": 94,
   "id": "literary-holiday",
   "metadata": {},
   "outputs": [],
   "source": [
    "from sklearn.cluster import KMeans"
   ]
  },
  {
   "cell_type": "code",
   "execution_count": 95,
   "id": "duplicate-layer",
   "metadata": {},
   "outputs": [],
   "source": [
    "scores=[]\n",
    "\n",
    "range_values = range(1,20)\n",
    "\n",
    "for i in range_values:\n",
    "    kmeans = KMeans(n_clusters = i)\n",
    "    kmeans.fit(df_cluster_scaled)\n",
    "    scores.append(kmeans.inertia_)"
   ]
  },
  {
   "cell_type": "code",
   "execution_count": 96,
   "id": "placed-catalyst",
   "metadata": {},
   "outputs": [
    {
     "data": {
      "text/plain": [
       "Text(0, 0.5, 'Scores WCSS')"
      ]
     },
     "execution_count": 96,
     "metadata": {},
     "output_type": "execute_result"
    },
    {
     "data": {
      "image/png": "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\n",
      "text/plain": [
       "<Figure size 432x288 with 1 Axes>"
      ]
     },
     "metadata": {
      "needs_background": "light"
     },
     "output_type": "display_data"
    }
   ],
   "source": [
    "plt.plot(scores,'bx-')\n",
    "plt.title('Find the right number of clusters')\n",
    "plt.xlabel('Clusters')\n",
    "plt.ylabel('Scores WCSS')"
   ]
  },
  {
   "cell_type": "code",
   "execution_count": 104,
   "id": "champion-bones",
   "metadata": {},
   "outputs": [],
   "source": [
    "# choose cluster as 5\n",
    "\n",
    "kmeans = KMeans(5)\n",
    "kmeans.fit(df_cluster_scaled)\n",
    "labels = kmeans.labels_"
   ]
  },
  {
   "cell_type": "code",
   "execution_count": 105,
   "id": "liked-flesh",
   "metadata": {},
   "outputs": [
    {
     "data": {
      "text/plain": [
       "(148796,)"
      ]
     },
     "execution_count": 105,
     "metadata": {},
     "output_type": "execute_result"
    }
   ],
   "source": [
    "labels.shape"
   ]
  },
  {
   "cell_type": "code",
   "execution_count": 106,
   "id": "oriental-orbit",
   "metadata": {},
   "outputs": [
    {
     "data": {
      "text/plain": [
       "4"
      ]
     },
     "execution_count": 106,
     "metadata": {},
     "output_type": "execute_result"
    }
   ],
   "source": [
    "labels.max()"
   ]
  },
  {
   "cell_type": "code",
   "execution_count": 107,
   "id": "fatty-peoples",
   "metadata": {},
   "outputs": [
    {
     "data": {
      "text/plain": [
       "0"
      ]
     },
     "execution_count": 107,
     "metadata": {},
     "output_type": "execute_result"
    }
   ],
   "source": [
    "labels.min()"
   ]
  },
  {
   "cell_type": "code",
   "execution_count": 108,
   "id": "liquid-graphic",
   "metadata": {},
   "outputs": [],
   "source": [
    "data_clustered = pd.concat([df_cluster,pd.DataFrame({'cluster':labels})],axis=1)"
   ]
  },
  {
   "cell_type": "code",
   "execution_count": 109,
   "id": "collective-kingston",
   "metadata": {},
   "outputs": [
    {
     "data": {
      "text/html": [
       "<div>\n",
       "<style scoped>\n",
       "    .dataframe tbody tr th:only-of-type {\n",
       "        vertical-align: middle;\n",
       "    }\n",
       "\n",
       "    .dataframe tbody tr th {\n",
       "        vertical-align: top;\n",
       "    }\n",
       "\n",
       "    .dataframe thead th {\n",
       "        text-align: right;\n",
       "    }\n",
       "</style>\n",
       "<table border=\"1\" class=\"dataframe\">\n",
       "  <thead>\n",
       "    <tr style=\"text-align: right;\">\n",
       "      <th></th>\n",
       "      <th>average_order_value</th>\n",
       "      <th>purchase_frequency</th>\n",
       "      <th>is_return</th>\n",
       "      <th>total_order_value</th>\n",
       "      <th>view_frequency</th>\n",
       "      <th>interacted_brands_num</th>\n",
       "      <th>interacted_categories_num</th>\n",
       "      <th>Recency</th>\n",
       "      <th>cluster</th>\n",
       "    </tr>\n",
       "  </thead>\n",
       "  <tbody>\n",
       "    <tr>\n",
       "      <th>0</th>\n",
       "      <td>3.170000</td>\n",
       "      <td>4</td>\n",
       "      <td>1</td>\n",
       "      <td>3.170000</td>\n",
       "      <td>93</td>\n",
       "      <td>188</td>\n",
       "      <td>188</td>\n",
       "      <td>3</td>\n",
       "      <td>1</td>\n",
       "    </tr>\n",
       "    <tr>\n",
       "      <th>1</th>\n",
       "      <td>2.526000</td>\n",
       "      <td>86</td>\n",
       "      <td>1</td>\n",
       "      <td>2.067791</td>\n",
       "      <td>133</td>\n",
       "      <td>551</td>\n",
       "      <td>551</td>\n",
       "      <td>0</td>\n",
       "      <td>4</td>\n",
       "    </tr>\n",
       "    <tr>\n",
       "      <th>2</th>\n",
       "      <td>4.928333</td>\n",
       "      <td>86</td>\n",
       "      <td>1</td>\n",
       "      <td>2.067791</td>\n",
       "      <td>133</td>\n",
       "      <td>551</td>\n",
       "      <td>551</td>\n",
       "      <td>0</td>\n",
       "      <td>4</td>\n",
       "    </tr>\n",
       "    <tr>\n",
       "      <th>3</th>\n",
       "      <td>18.100000</td>\n",
       "      <td>86</td>\n",
       "      <td>1</td>\n",
       "      <td>2.067791</td>\n",
       "      <td>133</td>\n",
       "      <td>551</td>\n",
       "      <td>551</td>\n",
       "      <td>0</td>\n",
       "      <td>4</td>\n",
       "    </tr>\n",
       "    <tr>\n",
       "      <th>4</th>\n",
       "      <td>1.555745</td>\n",
       "      <td>86</td>\n",
       "      <td>1</td>\n",
       "      <td>2.067791</td>\n",
       "      <td>133</td>\n",
       "      <td>551</td>\n",
       "      <td>551</td>\n",
       "      <td>0</td>\n",
       "      <td>4</td>\n",
       "    </tr>\n",
       "    <tr>\n",
       "      <th>...</th>\n",
       "      <td>...</td>\n",
       "      <td>...</td>\n",
       "      <td>...</td>\n",
       "      <td>...</td>\n",
       "      <td>...</td>\n",
       "      <td>...</td>\n",
       "      <td>...</td>\n",
       "      <td>...</td>\n",
       "      <td>...</td>\n",
       "    </tr>\n",
       "    <tr>\n",
       "      <th>148791</th>\n",
       "      <td>5.120000</td>\n",
       "      <td>4</td>\n",
       "      <td>1</td>\n",
       "      <td>5.120000</td>\n",
       "      <td>4</td>\n",
       "      <td>27</td>\n",
       "      <td>27</td>\n",
       "      <td>0</td>\n",
       "      <td>0</td>\n",
       "    </tr>\n",
       "    <tr>\n",
       "      <th>148792</th>\n",
       "      <td>3.237500</td>\n",
       "      <td>4</td>\n",
       "      <td>1</td>\n",
       "      <td>3.237500</td>\n",
       "      <td>13</td>\n",
       "      <td>33</td>\n",
       "      <td>33</td>\n",
       "      <td>0</td>\n",
       "      <td>0</td>\n",
       "    </tr>\n",
       "    <tr>\n",
       "      <th>148793</th>\n",
       "      <td>6.648000</td>\n",
       "      <td>10</td>\n",
       "      <td>1</td>\n",
       "      <td>6.648000</td>\n",
       "      <td>16</td>\n",
       "      <td>76</td>\n",
       "      <td>76</td>\n",
       "      <td>0</td>\n",
       "      <td>0</td>\n",
       "    </tr>\n",
       "    <tr>\n",
       "      <th>148794</th>\n",
       "      <td>0.950000</td>\n",
       "      <td>1</td>\n",
       "      <td>0</td>\n",
       "      <td>0.950000</td>\n",
       "      <td>1</td>\n",
       "      <td>48</td>\n",
       "      <td>48</td>\n",
       "      <td>0</td>\n",
       "      <td>3</td>\n",
       "    </tr>\n",
       "    <tr>\n",
       "      <th>148795</th>\n",
       "      <td>3.810000</td>\n",
       "      <td>1</td>\n",
       "      <td>0</td>\n",
       "      <td>3.810000</td>\n",
       "      <td>1</td>\n",
       "      <td>6</td>\n",
       "      <td>6</td>\n",
       "      <td>0</td>\n",
       "      <td>3</td>\n",
       "    </tr>\n",
       "  </tbody>\n",
       "</table>\n",
       "<p>148796 rows × 9 columns</p>\n",
       "</div>"
      ],
      "text/plain": [
       "        average_order_value  purchase_frequency  is_return  total_order_value  \\\n",
       "0                  3.170000                   4          1           3.170000   \n",
       "1                  2.526000                  86          1           2.067791   \n",
       "2                  4.928333                  86          1           2.067791   \n",
       "3                 18.100000                  86          1           2.067791   \n",
       "4                  1.555745                  86          1           2.067791   \n",
       "...                     ...                 ...        ...                ...   \n",
       "148791             5.120000                   4          1           5.120000   \n",
       "148792             3.237500                   4          1           3.237500   \n",
       "148793             6.648000                  10          1           6.648000   \n",
       "148794             0.950000                   1          0           0.950000   \n",
       "148795             3.810000                   1          0           3.810000   \n",
       "\n",
       "        view_frequency  interacted_brands_num  interacted_categories_num  \\\n",
       "0                   93                    188                        188   \n",
       "1                  133                    551                        551   \n",
       "2                  133                    551                        551   \n",
       "3                  133                    551                        551   \n",
       "4                  133                    551                        551   \n",
       "...                ...                    ...                        ...   \n",
       "148791               4                     27                         27   \n",
       "148792              13                     33                         33   \n",
       "148793              16                     76                         76   \n",
       "148794               1                     48                         48   \n",
       "148795               1                      6                          6   \n",
       "\n",
       "        Recency  cluster  \n",
       "0             3        1  \n",
       "1             0        4  \n",
       "2             0        4  \n",
       "3             0        4  \n",
       "4             0        4  \n",
       "...         ...      ...  \n",
       "148791        0        0  \n",
       "148792        0        0  \n",
       "148793        0        0  \n",
       "148794        0        3  \n",
       "148795        0        3  \n",
       "\n",
       "[148796 rows x 9 columns]"
      ]
     },
     "execution_count": 109,
     "metadata": {},
     "output_type": "execute_result"
    }
   ],
   "source": [
    "data_clustered "
   ]
  },
  {
   "cell_type": "code",
   "execution_count": 110,
   "id": "elder-giving",
   "metadata": {},
   "outputs": [
    {
     "data": {
      "image/png": "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\n",
      "text/plain": [
       "<Figure size 2520x360 with 4 Axes>"
      ]
     },
     "metadata": {
      "needs_background": "light"
     },
     "output_type": "display_data"
    },
    {
     "data": {
      "image/png": "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\n",
      "text/plain": [
       "<Figure size 2520x360 with 4 Axes>"
      ]
     },
     "metadata": {
      "needs_background": "light"
     },
     "output_type": "display_data"
    },
    {
     "data": {
      "image/png": "iVBORw0KGgoAAAANSUhEUgAAB9UAAAFOCAYAAAA4rU00AAAAOXRFWHRTb2Z0d2FyZQBNYXRwbG90bGliIHZlcnNpb24zLjMuMiwgaHR0cHM6Ly9tYXRwbG90bGliLm9yZy8vihELAAAACXBIWXMAAAsTAAALEwEAmpwYAABBrUlEQVR4nO3df7hlZ3Uf9u9CY0AGgwQ4N4qkWEoYJxEQMEyF/JA618gWI9n10BZjEdkMVGXaIFzcqAkidSuXHym0xRiwTSJbikauaqEQO5oaYVkR3Lo0kZAIGFnIWBMhrJkI5DCS8IABD6z+cfaIg3TPzD13zv019/N5nvPcvd/97n3evZ4zs869a+93V3cHAAAAAAAAAHi8J6z1AAAAAAAAAABgvVJUBwAAAAAAAIAJFNUBAAAAAAAAYAJFdQAAAAAAAACYQFEdAAAAAAAAACZQVAcAAAAAAACACRTVAQAAAAAAAGACRXVY56rqrqqaX+txAAArS84HgM1D3geAzUHOh+NHdfdajwFYJ6qqk2zt7r1rPRYAYOXI+QCwecj7ALA5yPmwstypDptEVW1Zhfc4YaXfAwA4MjkfADYPeR8ANgc5H9aeojqsc1V1X1X9SFWdXVV3VNWXq+qLVfWLR9nvjKrqqrq4qv4kyUeG9v+qqu6uqoeq6qaq+r6h/feHXf+gqg5W1U9V1Wuq6mOPOW5X1bOH5aur6v1VdWNVfSXJDw/j/R+q6tNV9UhVfaCqnjzzwADAcUbOB4DNQ94HgM1Bzofjh6I6bBzvSfKe7n5akr+e5Pol7vd3k/ytJC+rqh1J/nGS/yLJ9yb5f5P8ZpJ09w8N/Z/f3U/t7g8s8fh/L8nbk3xPksMJ+pVJtic5M8nfTvKaJR4LAJDzAWAzkfcBYHOQ82GDU1SHjeMvkjy7qp7V3Qe7+9Yl7vcL3f2V7v7zJP9tkv+1u+/u7kNJ/kmSFxy+mm2Zbuju/6+7v9XdXxva3tvd/6G7DyT5v5O84BiODwCbjZwPAJuHvA8Am4OcDxucojpsHBcn+f4kf1RVt1fVjy9xv/vHlr8vyXuq6uGqejjJgSSV5NRjGNf9i7R9YWz5q0meegzHB4DNRs4HgM1D3geAzUHOhw1uy1oPAFia7r4nyauq6gkZTe/ywap6Znd/5Wi7ji3fn+Tt3X3tEt/2K0m++/BKVf3loxwfADhGcj4AbB7yPgBsDnI+bHzuVIcNoqp+uqq+t7u/leThoflbUx7mnyZ5c1U9Zzjm06vqJ8e2fzHJXxtb/4Mkz6mqF1TVk5P8wrIGDwAsmZwPAJuHvA8Am4OcDxufojpsHNuT3FVVB5O8J8mFw3NUlqy7fzvJO5NcV1VfTvKHSc4f6/ILSXYP08e8srv/OMlbkvzrJPck+dixnwYAcBRyPgBsHvI+AGwOcj5scNVtZgcAAAAAAAAAWIw71QEAAAAAAABgAkV12MCq6qKqOrjI6661HhsAMDtyPgBsHvI+AGwOcj5sLKZ/BwAAAAAAAIAJ3KkOG1hVvaaqPrbW4wAAVp68DwCbg5wPAJuHvA8bh6I6kKrqqnr2MR7jGVX121X1lar6fFX9vVmNDwCYnRnl/TdU1R1V9fWqunpGQwMAZuhYc35VPamqrhx+x/+zqvpUVZ0/yzECALMxo9/1/8+qeqCqvlxVf1xV//WsxgfHA0V14JhU1ZZh8VeSfCPJXJKLkry/qp6zZgMDAGZuLO//hyRvS3LVGg4HAFghQ87fkuT+JH83ydOT/HyS66vqjDUcGgAwY2O/6/+vSc7o7qcl+Ykkb6uqF63dyGB9UVSHDaKqTq+q36qqP62qL1XVLz9m+xnD1WhbxtoWDl9NVlXPrqr/p6oeqar/WFUfGNp/f+j+B1V1sKp+amj/8eEq9Ier6t9U1d8eO+59VfWmqvp0kq9U1dOT/JdJ/qfuPtjdH0uyJ8nPrGRMAOB4tc7z/pbu/q3u/ldJvrSykQCA49t6zvlJvt7dv9Dd93X3t7r7d5J8Lok/rgPAMqznvD/8rn9Xd3996NLD66+vWEBgg1FUhw2gqk5I8jtJPp/kjCSnJrluysO8NcnvJTk5yWlJ3pck3f1Dw/bnd/dTu/sDVfUDGd159t8keWaSf5ZkT1U9aex4r0ryY0lOSvLXkhzq7j8e2/4HSdypDgBTWu95v7sPLee8AIDvtNFyflXNJfn+JHdNOUYA2PQ2St6vql+tqq8m+aMkDyS5ccoxwnFLUR02hrOT/JUk/7C7v9LdXxvuBp/GXyT5viR/ZQn770ryz7r7tu7+ZnfvTvL1JOeM9Xlvd9/f3X+e5KlJvvyYYzyS5HumHCMAsP7zPgAwGxsm51fVdyW5Nsnu7v6jKccIAGyQvN/dr8/o7/r/aZLfGvYBoqgOG8XpST5/jHeG/aMkleTjVXVXVf1XR+j7fUkuHaaFebiqHh7G8FfG+tw/tnwwydMec4ynJfmzYxgvAGxW6z3vAwCzsSFyflU9IclvJPlGkjccw1gBYDPbEHk/SYYi/Mcyuhv+7x/DeOG4suXoXYB14P4kf3V4rsmkpPuV4ed359t3jf/lwxu7+wtJXpckVfV3kvzrqvr97t474f3e3t1vP8KYemz5j5Nsqaqt3X3P0Pb8mBIOAJZjved9AGA21n3Or6pKcmWSuSQXdPdfHOWcAIDFrfu8v4gt8Ux1eJQ71WFj+HhGzy95R1U9paqeXFUvGe/Q3X+aZH+Sn66qE4ar1B5NeFX1k1V12rD6UEYJ81vD+hczei76Yb+W5L+tqhfXyFOq6seqatHp3Lv7KxlNBfOWoe9LkuzI6Ep2AGA66zrvD8ffUlVPTnJCkhOGMbpgFwCms+5zfpL3J/lbSf4zj4EBgGOyrvN+Vf2lqrqwqp46vPfLMnrm+i3HfupwfFBUhw2gu7+Z5D9L8uwkf5JkX5KfWqTr65L8wyRfSvKcJP9mbNt/kuS2qjqYZE+SN3b3vcO2X0iye5gG5pXdfcdwrF/OKDnvTfKaowzz9UlOTPJgkt9M8ve7253qADClDZL3fz7Jnye5LMlPD8s/P9WJAsAmt95zflV9X5L/JskLknyhqg4Or4uWdcIAsImt97yfUYH+7w/jeijJ/5Hk57p7z9QnC8ep6jaTIwAAAAAAAAAsxp3qAAAAAAAAADCBojoAAAAAAAAATKCoDgAAAAAAAAATKKoDAAAAAAAAwASK6gAAAAAAAAAwwZa1HsByPetZz+ozzjhjrYexor7yla/kKU95yloPY8MRt+mJ2fTEbHqbJWaf+MQn/mN3f+9aj+N4shlyfrJ5/o3MkphNT8yWR9ymt1liJu/P3izz/mb5HM6SmE1PzKYnZssjbtObZczk/NmT89eeuE1PzKYnZtMTs+nNOmaT8v6GLaqfccYZueOOO9Z6GCtqYWEh8/Pzaz2MDUfcpidm0xOz6W2WmFXV59d6DMebzZDzk83zb2SWxGx6YrY84ja9zRIzeX/2Zpn3N8vncJbEbHpiNj0xWx5xm94sYybnz56cv/bEbXpiNj0xm56YTW/WMZuU903/DgAAAAAAAAATKKoDAAAAAAAAwASK6gAAAAAAAAAwgaI6AAAAAAAAAEygqA4APKqqTqqqD1bVH1XV3VX1g1X1jKq6uaruGX6ePPStqnpvVe2tqk9X1QvHjrNz6H9PVe0ca39RVd057PPeqqq1OE8AAAAAAFgqRXUAYNx7kvxud//NJM9PcneSy5Lc0t1bk9wyrCfJ+Um2Dq9dSd6fJFX1jCSXJ3lxkrOTXH64ED/0ed3YfttX4ZwAAAAAAGDZFNUBgCRJVT09yQ8luTJJuvsb3f1wkh1Jdg/ddid5+bC8I8k1PXJrkpOq6pQkL0tyc3cf6O6HktycZPuw7WndfWt3d5Jrxo4FAAAAAADrkqI6AHDYmUn+NMk/r6pPVtWvV9VTksx19wNDny8kmRuWT01y/9j++4a2I7XvW6QdAAAAAADWrS1rPQAAYN3YkuSFSX62u2+rqvfk21O9J0m6u6uqV3ogVbUroynlMzc3l4WFhZV+yzV38ODBTXGesyRm0xOz5RG36YkZAAAAcDxRVAcADtuXZF933zasfzCjovoXq+qU7n5gmML9wWH7/iSnj+1/2tC2P8n8Y9oXhvbTFun/ON19RZIrkmTbtm09Pz+/WLfjysLCQjbDec6SmE1PzJZH3KYnZgAAAMDxxPTvAECSpLu/kOT+qvobQ9O5ST6TZE+SnUPbziQ3DMt7kry6Rs5J8sgwTfxNSc6rqpOr6uQk5yW5adj25ao6p6oqyavHjgUAAAAAAOuSO9WB3Ln/kbzmsg9N3H7fO35sFUcDrLGfTXJtVT0xyb1JXpvRRXjXV9XFST6f5JVD3xuTXJBkb5KvDn3T3Qeq6q1Jbh/6vaW7DwzLr09ydZITk3x4eAGrRM4HAOB4ccYRvtcmydXbn7JKI2Gt+T0HgNWgqA4APKq7P5Vk2yKbzl2kbye5ZMJxrkpy1SLtdyR57rGNEgAAAAAAVo/p3wEAAAAAAABgAkV1AAAAAAAAAJhAUR0AAAAAAAAAJlBUBwAAAAAAAIAJFNUBAAAAAAAAYAJFdQAAAOBRVXVVVT1YVX841vaMqrq5qu4Zfp48tFdVvbeq9lbVp6vqhWP77Bz631NVO9fiXAAAAGAWFNUBAACAcVcn2f6YtsuS3NLdW5PcMqwnyflJtg6vXUnen4yK8EkuT/LiJGcnufxwIR4AAAA2GkV1AAAA4FHd/ftJDjymeUeS3cPy7iQvH2u/pkduTXJSVZ2S5GVJbu7uA939UJKb8/hCPQAAAGwISyqqV9VJVfXBqvqjqrq7qn5wllO/VdWLqurOYZ/3VlXN/lQBAACAZZrr7geG5S8kmRuWT01y/1i/fUPbpHYAYJWt9KNd/H0fgM1gyxL7vSfJ73b3K6rqiUm+O8k/zmjqt3dU1WUZTf32pnzn1G8vzmjqtxePTf22LUkn+URV7RmuWH9/ktcluS3JjRldvf7hGZ0jAAAAMCPd3VXVszpeVe3KaOr4zM3NZWFhYSbHPXjw4MyOtVmI2fTEbHpitjzi9niXPu/QEbeL2Xe4OskvJ7lmrO3wo138fR8AluCoRfWqenqSH0rymiTp7m8k+UZV7UgyP3TbnWQho6T76NRvSW4d7nI/Zeh7c3cfGI57c5LtVbWQ5GnDNHGpqmsymkZO0gUAAID14YtVdUp3PzD8jv/g0L4/yelj/U4b2vbn238zONy+sNiBu/uKJFckybZt23p+fn6xblNbWFjIrI61WYjZ9MRsemK2POL2eK+57ENH3H719qeI2aC7f7+qznhMs7/vA8AUlnKn+plJ/jTJP6+q5yf5RJI3ZnZTv506LD+2HQAAAFgf9iTZmeQdw88bxtrfUFXXZXQ32yND4f2mJP/k8FSySc5L8uZVHjMAMNmq/31/pWanmTvxyDMXmLFgcWZzmJ6YTU/Mpidm01utmC2lqL4lyQuT/Gx331ZV78loKphHzXrqt0lWKumuV/7hLI+4Tc8Xz+n5nE1PzAAANoaq+s2M7kZ7VlXty2iq13ckub6qLk7y+SSvHLrfmOSCJHuTfDXJa5Okuw9U1VuT3D70e8vhO9sAgPVltf6+v1Kz07zv2hvyrjsnlzruu2g273O8MQPG9MRsemI2PTGb3mrFbClF9X1J9nX3bcP6BzMqqs9q6rf9w/Jj+z/OSiXd9co/nOURt+n54jk9n7PpiRkAwMbQ3a+asOncRfp2kksmHOeqJFfNcGgAwOys+t/3AWAje8LROnT3F5LcX1V/Y2g6N8ln8u2p35LHT/326ho5J8PUb0luSnJeVZ08TP92XpKbhm1frqpzqqqSvHrsWAAAAAAAwGz5+z4ATGEpd6onyc8mubaqnpjk3oymc3tCZjf12+uTXJ3kxCQfHl4AAAAAAMAxWIVHu/j7PgDHvSUV1bv7U0m2LbJpJlO/dfcdSZ67lLEAAAAAAABLs9KPdvH3fQA2g6NO/w4AAAAAAAAAm5WiOgAAAAAAAABMoKgOAAAAAAAAABMoqgMAAAAAAADABIrqAAAAAAAAADCBojoAAAAAAAAATKCoDgAAAAAAAAATKKoDAAAAAAAAwASK6gAAAAAAAAAwgaI6AAAAAAAAAEygqA4AAAAAAAAAEyiqAwAAAAAAAMAEiuoAAAAAAAAAMIGiOgAAAAAAAABMoKgOAAAAAAAAABMoqgMAAAAAAADABIrqAAAAAAAAADCBojoAAAAAAAAATKCoDgA8qqruq6o7q+pTVXXH0PaMqrq5qu4Zfp48tFdVvbeq9lbVp6vqhWPH2Tn0v6eqdo61v2g4/t5h31r9swQAAAAAgKVTVAcAHuuHu/sF3b1tWL8syS3dvTXJLcN6kpyfZOvw2pXk/cmoCJ/k8iQvTnJ2kssPF+KHPq8b22/7yp8OAAAAAAAsn6I6AHA0O5LsHpZ3J3n5WPs1PXJrkpOq6pQkL0tyc3cf6O6HktycZPuw7WndfWt3d5Jrxo4FAAAAAADr0pa1HgAAsK50kt+rqk7yz7r7iiRz3f3AsP0LSeaG5VOT3D+2776h7Ujt+xZpf5yq2pXR3e+Zm5vLwsLCMZzSxnDw4MFNcZ6zJGbTmzsxufR5hyZuF8/F+axNT8wAAACA44miOgAw7u909/6q+ktJbq6qPxrf2N09FNxX1FDMvyJJtm3b1vPz8yv9lmtuYWEhm+E8Z0nMpve+a2/Iu+6c/CvAfRfNr95gNhCftemJGQAAAHA8Mf07APCo7t4//HwwyW9n9Ez0Lw5Tt2f4+eDQfX+S08d2P21oO1L7aYu0AwAAAADAuqWoDgAkSarqKVX1PYeXk5yX5A+T7Emyc+i2M8kNw/KeJK+ukXOSPDJME39TkvOq6uSqOnk4zk3Dti9X1TlVVUlePXYsAAAAAABYl0z/DgAcNpfkt0f17mxJ8n919+9W1e1Jrq+qi5N8Pskrh/43Jrkgyd4kX03y2iTp7gNV9dYktw/93tLdB4bl1ye5OsmJST48vAAAAAAAYN1SVAcAkiTdfW+S5y/S/qUk5y7S3kkumXCsq5JctUj7HUmee8yDBQAAAACAVWL6dwAAAAAAAACYQFEdAAAAAAAAACZQVAcAAAAAAACACRTVAQAAAAAAAGACRXUAAAAAAAAAmGBJRfWquq+q7qyqT1XVHUPbM6rq5qq6Z/h58tBeVfXeqtpbVZ+uqheOHWfn0P+eqto51v6i4fh7h31r1icKAAAAAAAAANOa5k71H+7uF3T3tmH9siS3dPfWJLcM60lyfpKtw2tXkvcnoyJ8ksuTvDjJ2UkuP1yIH/q8bmy/7cs+IwAAAAAAAACYkWOZ/n1Hkt3D8u4kLx9rv6ZHbk1yUlWdkuRlSW7u7gPd/VCSm5NsH7Y9rbtv7e5Ocs3YsQAAAAAAAABgzSy1qN5Jfq+qPlFVu4a2ue5+YFj+QpK5YfnUJPeP7btvaDtS+75F2gEAAAAAAABgTW1ZYr+/0937q+ovJbm5qv5ofGN3d1X17If3nYaC/q4kmZuby8LCwkq/5Zo6ePDgcX+OK0Hcpjd3YnLp8w5N3C6ej+dzNj0xAwAAAAAANqIlFdW7e//w88Gq+u2Mnon+xao6pbsfGKZwf3Dovj/J6WO7nza07U8y/5j2haH9tEX6LzaOK5JckSTbtm3r+fn5xbodNxYWFnK8n+NKELfpve/aG/KuOyf/d3DfRfOrN5gNwudsemIGALCxVdV/n+S/zmg2uzuTvDbJKUmuS/LMJJ9I8jPd/Y2qelJGj3d7UZIvJfmp7r5vLcYNAAAAx+qo079X1VOq6nsOLyc5L8kfJtmTZOfQbWeSG4blPUleXSPnJHlkmCb+piTnVdXJVXXycJybhm1frqpzqqqSvHrsWAAAAMAaq6pTk/x3SbZ193OTnJDkwiTvTPLu7n52koeSXDzscnGSh4b2dw/9AAAAYENayjPV55J8rKr+IMnHk3you383yTuS/GhV3ZPkR4b1JLkxyb1J9ib5tSSvT5LuPpDkrUluH15vGdoy9Pn1YZ9/n+TDx35qAAAAwAxtSXJiVW1J8t1JHkjy0iQfHLbvTvLyYXnHsJ5h+7nDhfQAAACw4Rx1+vfuvjfJ8xdp/1KScxdp7ySXTDjWVUmuWqT9jiTPXcJ4AQAAgFXW3fur6v9I8idJ/jzJ72U03fvD3X1o6LYvyanD8qlJ7h/2PVRVj2Q0Rfx/XNWBAwBHNKvHu1TVmzOaqeabSf677r5plU8FAFbUkp6pDgAAAGxew2PcdiQ5M8nDSf5Fku0zOvauJLuSZG5uLgsLC7M4bA4ePDizY20WYjY9MZuemC2PuD3epc87dMTtYnZ0Y493Oau7/7yqrs/o8S4XZPR4l+uq6p9mVCx/f8Ye71JVhx8D81NVddaw33OS/JUk/7qqvr+7v7kGpwUAK0JRHQAAADiaH0nyue7+0ySpqt9K8pIkJ1XVluFu9dOS7B/6709yepJ9w3TxT8/ojrbH6e4rklyRJNu2bev5+fmZDHhhYSGzOtZmIWbTE7PpidnyiNvjveayDx1x+9XbnyJmS3P48S5/ke98vMvfG7bvTvILGRXVdwzLyejxLr88PN5lR5LruvvrST5XVXuTnJ3k367SOQDAilNUBwAAAI7mT5KcU1XfndH07+cmuSPJR5O8IqMpYncmuWHov2dY/7fD9o8Mj4sDANaJGT7e5dQkt44denyfR63U7DRzJx555gIzFizObA7TE7Ppidn0xGx6qxUzRXUAAADgiLr7tqr6YJJ/l+RQkk9mdHf5h5JcV1VvG9quHHa5MslvDHeqHchoSlgAYB1Zyce7LGalZqd537U35F13Ti513HfRbN7neGMGjOmJ2fTEbHpiNr3VipmiOgAAAHBU3X15kssf03xvRtO7Prbv15L85GqMCwBYtlk93uVw+2Hj+wDAceEJaz0AAAAAAABg1T36eJfh2ejnJvlMvv14l2Txx7sk3/l4lz1JLqyqJ1XVmUm2Jvn4Kp0DAKwKd6oDAAAAAMAmM6vHu3T3XVV1fUYF+UNJLunub67qyQDAClNUBwAAAACATWhWj3fp7rcnefvMBwgA64Tp3wEAAAAAAABgAkV1AAAAAAAAAJhAUR0AAAAAAAAAJlBUBwAAAAAAAIAJFNUBAAAAAAAAYAJFdQAAAAAAAACYQFEdAAAAAAAAACZQVAcAAAAAAACACRTVAQAAAAAAAGACRXUAAAAAAAAAmEBRHQAAAAAAAAAmUFQHAAAAAAAAgAkU1QGA71BVJ1TVJ6vqd4b1M6vqtqraW1UfqKonDu1PGtb3DtvPGDvGm4f2z1bVy8batw9te6vqslU/OQAAAAAAmJKiOgDwWG9McvfY+juTvLu7n53koSQXD+0XJ3loaH/30C9VdVaSC5M8J8n2JL86FOpPSPIrSc5PclaSVw19AQAAAABg3VJUBwAeVVWnJfmxJL8+rFeSlyb54NBld5KXD8s7hvUM288d+u9Icl13f727P5dkb5Kzh9fe7r63u7+R5LqhLwAAAAAArFuK6gDAuF9K8o+SfGtYf2aSh7v70LC+L8mpw/KpSe5PkmH7I0P/R9sfs8+kdgAAAAAAWLe2rPUAAID1oap+PMmD3f2Jqppf47HsSrIrSebm5rKwsLCWw1kVBw8e3BTnOUtiNr25E5NLn3do4nbxXJzP2vTEDAAAADieKKoDAIe9JMlPVNUFSZ6c5GlJ3pPkpKraMtyNflqS/UP//UlOT7KvqrYkeXqSL421Hza+z6T279DdVyS5Ikm2bdvW8/Pzx3xy693CwkI2w3nOkphN733X3pB33Tn5V4D7LppfvcFsID5r0xMzAAAA4Hhi+ncAIEnS3W/u7tO6+4wkFyb5SHdflOSjSV4xdNuZ5IZhec+wnmH7R7q7h/YLq+pJVXVmkq1JPp7k9iRbq+rMqnri8B57VuHUAAAAAABg2dypDgAczZuSXFdVb0vyySRXDu1XJvmNqtqb5EBGRfJ0911VdX2SzyQ5lOSS7v5mklTVG5LclOSEJFd1912reiYAAAAAADAlRXUA4HG6eyHJwrB8b5KzF+nztSQ/OWH/tyd5+yLtNya5cYZDBQAAAACAFWX6dwAAAAAAAACYQFEdAAAAAAAAACZQVAcAAAAAAACACZZcVK+qE6rqk1X1O8P6mVV1W1XtraoPVNUTh/YnDet7h+1njB3jzUP7Z6vqZWPt24e2vVV12QzPDwAAAAAAAACWbZo71d+Y5O6x9XcmeXd3PzvJQ0kuHtovTvLQ0P7uoV+q6qwkFyZ5TpLtSX51KNSfkORXkpyf5Kwkrxr6AgAAAAAAAMCaWlJRvapOS/JjSX59WK8kL03ywaHL7iQvH5Z3DOsZtp879N+R5Lru/np3fy7J3iRnD6+93X1vd38jyXVDXwAAAAAAAABYU0u9U/2XkvyjJN8a1p+Z5OHuPjSs70ty6rB8apL7k2TY/sjQ/9H2x+wzqR0AAAAAAAAA1tSWo3Woqh9P8mB3f6Kq5ld8REcey64ku5Jkbm4uCwsLazmcFXfw4MHj/hxXgrhNb+7E5NLnHZq4XTwfz+dsemIGAAAAAABsREctqid5SZKfqKoLkjw5ydOSvCfJSVW1Zbgb/bQk+4f++5OcnmRfVW1J8vQkXxprP2x8n0nt36G7r0hyRZJs27at5+fnlzD8jWthYSHH+zmuBHGb3vuuvSHvunPyfwf3XTS/eoPZIHzOpidmAAAAAADARnTU6d+7+83dfVp3n5HkwiQf6e6Lknw0ySuGbjuT3DAs7xnWM2z/SHf30H5hVT2pqs5MsjXJx5PcnmRrVZ1ZVU8c3mPPTM4OAAAAAAAAAI7BUu5Un+RNSa6rqrcl+WSSK4f2K5P8RlXtTXIgoyJ5uvuuqro+yWeSHEpySXd/M0mq6g1JbkpyQpKruvuuYxgXAAAAAAAAAMzEVEX17l5IsjAs35vk7EX6fC3JT07Y/+1J3r5I+41JbpxmLAAAAAAAAACw0o46/TsAAAAAAAAAbFaK6gAAAAAAAAAwgaI6AAAAAAAAAEygqA4AAAAAAAAAEyiqAwAAAAAAAMAEiuoAAADAUVXVSVX1war6o6q6u6p+sKqeUVU3V9U9w8+Th75VVe+tqr1V9emqeuFajx8AAACWS1EdAAAAWIr3JPnd7v6bSZ6f5O4klyW5pbu3JrllWE+S85NsHV67krx/9YcLAAAAs6GoDgAAABxRVT09yQ8luTJJuvsb3f1wkh1Jdg/ddid5+bC8I8k1PXJrkpOq6pRVHTQAcFSzmommqnYO/e+pqp1rd0YAsDIU1QEAAICjOTPJnyb551X1yar69ap6SpK57n5g6POFJHPD8qlJ7h/bf9/QBgCsL8c8E01VPSPJ5UlenOTsJJcfLsQDwPFiy1oPAAAAAFj3tiR5YZKf7e7bquo9+fYf2JMk3d1V1dMeuKp2ZfSH+czNzWVhYWEGw00OHjw4s2NtFmI2PTGbnpgtj7g93qXPO3TE7WJ2dGMz0bwmGc1Ek+QbVbUjyfzQbXeShSRvythMNEluHe5yP2Xoe3N3HxiOe3OS7Ul+c7XOBQBWmqI6AAAAcDT7kuzr7tuG9Q9mVFT/YlWd0t0PDH9Uf3DYvj/J6WP7nza0PU53X5HkiiTZtm1bz8/Pz2TACwsLmdWxNgsxm56YTU/MlkfcHu81l33oiNuv3v4UMTu68Zlonp/kE0nemOlnojFDDQDHPUV1AAAA4Ii6+wtVdX9V/Y3u/mySc5N8ZnjtTPKO4ecNwy57kryhqq7LaCrYR8b+OA8ArA8rNhPNYlZqdpq5E488c4EZCxZnNofpidn0xGx6Yja91YqZojoAAACwFD+b5NqqemKSe5O8NskTklxfVRcn+XySVw59b0xyQZK9Sb469AUA1pdZzUSzP9+eLv5w+8Jj32ylZqd537U35F13Ti513HfRbN7neGMGjOmJ2fTEbHpiNr3VipmiOgAAAHBU3f2pJNsW2XTuIn07ySUrPSYAYPlmNRNNVd2U5J9U1clDv/OSvHk1zwUAVpqiOgAAAAAAbE7HPBNNdx+oqrcmuX3o95buPrB6pwAAK09RHQAAAAAANqFZzUTT3VcluWqmgwOAdeQJaz0AAAAAAAAAAFivFNUBAAAAAAAAYAJFdQAAAAAAAACYQFEdAAAAAAAAACZQVAcAAAAAAACACRTVAQAAAAAAAGACRXUAAAAAAAAAmEBRHQB4VFU9uao+XlV/UFV3VdX/MrSfWVW3VdXeqvpAVT1xaH/SsL532H7G2LHePLR/tqpeNta+fWjbW1WXrfpJAgAAAADAFBTVAYBxX0/y0u5+fpIXJNleVeckeWeSd3f3s5M8lOTiof/FSR4a2t899EtVnZXkwiTPSbI9ya9W1QlVdUKSX0lyfpKzkrxq6AsAAAAAAOuSojoA8KgeOTisftfw6iQvTfLBoX13kpcPyzuG9Qzbz62qGtqv6+6vd/fnkuxNcvbw2tvd93b3N5JcN/QFAAAAAIB1SVEdAPgOwx3ln0ryYJKbk/z7JA9396Ghy74kpw7Lpya5P0mG7Y8keeZ4+2P2mdQOAAAAAADr0pa1HgAAsL509zeTvKCqTkry20n+5mqPoap2JdmVJHNzc1lYWFjtIay6gwcPborznCUxm97cicmlzzs0cbt4Ls5nbXpiBgAAABxPFNUBgEV198NV9dEkP5jkpKraMtyNflqS/UO3/UlOT7KvqrYkeXqSL421Hza+z6T28fe+IskVSbJt27aen5+f1WmtWwsLC9kM5zlLYja99117Q9515+RfAe67aH71BrOB+KxNT8wAAACA44np3wGAR1XV9w53qKeqTkzyo0nuTvLRJK8Yuu1McsOwvGdYz7D9I93dQ/uFVfWkqjozydYkH09ye5KtVXVmVT0xyYVDXwAAAAAAWJfcqQ4AjDslye6qOiGji++u7+7fqarPJLmuqt6W5JNJrhz6X5nkN6pqb5IDGRXJ0913VdX1ST6T5FCSS4Zp5VNVb0hyU5ITklzV3Xet3ukBAAAAAMB0FNUBgEd196eT/MAi7fcmOXuR9q8l+ckJx3p7krcv0n5jkhuPebAAAAAAALAKjjr9e1U9uao+XlV/UFV3VdX/MrSfWVW3VdXeqvrAMIVrhmlePzC031ZVZ4wd681D+2er6mVj7duHtr1VddkKnCcAAAAAAAAATG0pz1T/epKXdvfzk7wgyfaqOifJO5O8u7ufneShJBcP/S9O8tDQ/u6hX6rqrIymhH1Oku1JfrWqThiml/2VJOcnOSvJq4a+AAAAAAAAALCmjlpU75GDw+p3Da9O8tIkHxzadyd5+bC8Y1jPsP3cqqqh/bru/np3fy7J3oymkT07yd7uvre7v5HkuqEvAAAAAAAAAKypJT1Tfbib/BNJnp3RXeX/PsnD3X1o6LIvyanD8qlJ7k+S7j5UVY8keebQfuvYYcf3uf8x7S+eMI5dSXYlydzcXBYWFpYy/A3r4MGDx/05rgRxm97cicmlzzs0cbt4Pp7P2fTEDAAAAAAA2IiWVFTv7m8meUFVnZTkt5P8zZUc1BHGcUWSK5Jk27ZtPT8/vxbDWDULCws53s9xJYjb9N537Q15152T/zu476L51RvMBuFzNj0xAwAAAAAANqKlPFP9Ud39cJKPJvnBJCdV1eEq3GlJ9g/L+5OcniTD9qcn+dJ4+2P2mdQOAAAAAAAAAGvqqEX1qvre4Q71VNWJSX40yd0ZFddfMXTbmeSGYXnPsJ5h+0e6u4f2C6vqSVV1ZpKtST6e5PYkW6vqzKp6YpILh74AAAAAAAAAsKaWMv37KUl2D89Vf0KS67v7d6rqM0muq6q3JflkkiuH/lcm+Y2q2pvkQEZF8nT3XVV1fZLPJDmU5JJhWvlU1RuS3JTkhCRXdfddMztDAAAAAAAAAFimoxbVu/vTSX5gkfZ7k5y9SPvXkvzkhGO9PcnbF2m/McmNSxgvAAAAAAAAAKyaqZ6pDgAAAAAAAACbiaI6AAAAAAAAAEygqA4AAAAAAAAAEyiqAwAAAAAAAMAEiuoAAAAAAAAAMIGiOgAAAAAAAABMoKgOAAAAAAAAABMoqgMAAAAAAADABIrqAAAAAAAAADCBojoAAAAAAAAATKCoDgAAAAAAAAATKKoDAAAAAAAAwASK6gAAAAAAAAAwgaI6AAAAAAAAAEygqA4AAAAsSVWdUFWfrKrfGdbPrKrbqmpvVX2gqp44tD9pWN87bD9jTQcOAAAAx0BRHQAAAFiqNya5e2z9nUne3d3PTvJQkouH9ouTPDS0v3voBwCsM7O4YK6q3jy0f7aqXrZGpwIAK0pRHQAAADiqqjotyY8l+fVhvZK8NMkHhy67k7x8WN4xrGfYfu7QHwBYX47pgrmqOivJhUmek2R7kl+tqhNWaewAsGoU1QEAAICl+KUk/yjJt4b1ZyZ5uLsPDev7kpw6LJ+a5P4kGbY/MvQHANaJGV0wtyPJdd399e7+XJK9Sc5elRMAgFW0Za0HAAAAAKxvVfXjSR7s7k9U1fyMj70rya4kmZuby8LCwkyOe/DgwZkda7MQs+mJ2fTEbHnE7fEufd6hI24XsyX5pYwumPueYX3JF8xV1eEL5k5NcuvYMcf3AYDjhqI6AAAAcDQvSfITVXVBkicneVqS9yQ5qaq2DH98Py3J/qH//iSnJ9lXVVuSPD3JlxY7cHdfkeSKJNm2bVvPz8/PZMALCwuZ1bE2CzGbnphNT8yWR9we7zWXfeiI26/e/hQxO4KVvGDuCO+5IhfSzZ145IssXFyxOBeeTE/Mpidm0xOz6a1WzBTVAQAAgCPq7jcneXOSDH94/x+6+6Kq+hdJXpHkuiQ7k9ww7LJnWP+3w/aPdHev8rABgMlmdcHc4fbDxvf5Dit1Id37rr0h77pzcqnjvotm8z7HGxfrTE/Mpidm0xOz6a1WzDxTHQAAAFiuNyX5B1W1N6MpYK8c2q9M8syh/R8kuWyNxgcALKK739zdp3X3GUkuzOgCuIuSfDSjC+KSxS+YS77zgrk9SS6sqidV1ZlJtib5+CqdBgCsGneqAwAAAEvW3QtJFoble5OcvUifryX5yVUdGAAwC29Kcl1VvS3JJ/OdF8z9xnDB3IGMCvHp7ruq6vokn0lyKMkl3f3N1R82AKwsRXUAAAAAANikjvWCue5+e5K3r9wIAWDtmf4dAAAAAAAAACZQVAcAAAAAAACACRTVAYAkSVWdXlUfrarPVNVdVfXGof0ZVXVzVd0z/Dx5aK+qem9V7a2qT1fVC8eOtXPof09V7Rxrf1FV3Tns896qqtU/UwAAAAAAWDpFdQDgsENJLu3us5Kck+SSqjoryWVJbunurUluGdaT5PwkW4fXriTvT0ZF+CSXJ3lxRs9hu/xwIX7o87qx/bavwnkBAAAAAMCyKaoDAEmS7n6gu//dsPxnSe5OcmqSHUl2D912J3n5sLwjyTU9cmuSk6rqlCQvS3Jzdx/o7oeS3Jxk+7Dtad19a3d3kmvGjgUAAAAAAOvSlrUeAACw/lTVGUl+IMltSea6+4Fh0xeSzA3Lpya5f2y3fUPbkdr3LdK+2Pvvyuju98zNzWVhYWH5J7NBHDx4cFOc5yyJ2fTmTkwufd6hidvFc3E+a9MTMwAAAOB4oqgOAHyHqnpqkn+Z5Oe6+8vjjz3v7q6qXukxdPcVSa5Ikm3btvX8/PxKv+WaW1hYyGY4z1kSs+m979ob8q47J/8KcN9F86s3mA3EZ216YgYAAAAcT446/XtVnV5VH62qz1TVXVX1xqH9GVV1c1XdM/w8eWivqnpvVe2tqk9X1QvHjrVz6H9PVe0ca39RVd057PPeGv/rPQCwaqrquzIqqF/b3b81NH9xmLo9w88Hh/b9SU4f2/20oe1I7act0g4AAAAAAOvWUp6pfijJpd19VpJzklxSVWcluSzJLd29Ncktw3qSnJ9k6/DaleT9yagIn+TyJC9OcnaSyw8X4oc+rxvbb/uxnxoAMI3horYrk9zd3b84tmlPksMXw+1McsNY+6uHC+rOSfLIME38TUnOq6qTh1x/XpKbhm1frqpzhvd69dixAAAAAABgXTpqUb27H+jufzcs/1mSuzN6/umOJLuHbruTvHxY3pHkmh65NclJw11tL0tyc3cf6O6HktycZPuw7WndfWt3d5Jrxo4FAKyelyT5mSQvrapPDa8LkrwjyY9W1T1JfmRYT5Ibk9ybZG+SX0vy+iTp7gNJ3prk9uH1lqEtQ59fH/b590k+vBonBgAAAAAAyzXVM9Wr6owkP5DktiRzwx1nSfKFJHPD8qlJ7h/bbd/QdqT2fYu0AwCrqLs/lmTSI1jOXaR/J7lkwrGuSnLVIu13JHnuMQwTAAAAAABW1ZKL6lX11Iyesfpz3f3l8ceed3dXVa/A+B47hl0ZTSmfubm5LCwsrPRbrqmDBw8e9+e4EsRtenMnJpc+79DE7eL5eD5n0xMzAAAAAABgI1pSUb2qviujgvq13f1bQ/MXq+qU7n5gmML9waF9f5LTx3Y/bWjbn2T+Me0LQ/tpi/R/nO6+IskVSbJt27aen59frNtxY2FhIcf7Oa4EcZve+669Ie+6c/J/B/ddNL96g9kgfM6mJ2YAAAAAAMBGdNRnqtfolvQrk9zd3b84tmlPkp3D8s4kN4y1v7pGzknyyDBN/E1Jzquqk6vq5CTnJblp2PblqjpneK9Xjx0LAAAAAAAAANbMUu5Uf0mSn0lyZ1V9amj7x0nekeT6qro4yeeTvHLYdmOSC5LsTfLVJK9Nku4+UFVvTXL70O8t3X1gWH59kquTnJjkw8MLAAAAAAAAANbUUYvq3f2xJDVh87mL9O8kl0w41lVJrlqk/Y4kzz3aWAAAAAAAAABgNR11+ncAAAAAAAAA2KwU1QEAAAAAAABgAkV1AAAAAAAAAJhAUR0AAAAAAAAAJlBUBwAAAAAAAIAJFNUBAAAAAAAAYAJFdQAAAAAAAACYQFEdAAAAAAAAACZQVAcAAAAAAACACRTVAQAAAAAAAGACRXUAAAAAAAAAmEBRHQAAAAAAAAAmUFQHAAAAAAAAgAkU1QEAAAAAAABgAkV1AAAAAAAAAJhAUR0AAAAAAAAAJlBUBwAAAAAAAIAJFNUBAAAAAAAAYAJFdQAAAAAAAACYQFEdAAAAAAAAACZQVAcAAAAAAACACRTVAQAAAAAAAGACRXUAAAAAAAAAmEBRHQAAADiiqjq9qj5aVZ+pqruq6o1D+zOq6uaqumf4efLQXlX13qraW1WfrqoXru0ZAAAAwPIpqgMAAABHcyjJpd19VpJzklxSVWcluSzJLd29Ncktw3qSnJ9k6/DaleT9qz9kAOBIZnnRXFXtHPrfU1U71+qcAGClKKoDAAAAR9TdD3T3vxuW/yzJ3UlOTbIjye6h2+4kLx+WdyS5pkduTXJSVZ2yuqMGAI5iJhfNVdUzklye5MVJzk5y+eFCPAAcLxTVAQAAgCWrqjOS/ECS25LMdfcDw6YvJJkblk9Ncv/YbvuGNgBgnZjhRXMvS3Jzdx/o7oeS3Jxk++qdCQCsvC1rPQAAAABgY6iqpyb5l0l+rru/XFWPbuvurqpexjF3ZXS3W+bm5rKwsDCTsR48eHBmx9osxGx6YjY9MVsecXu8S5936IjbxWw6x3jRnIvpADjuKaoDAAAAR1VV35VRQf3a7v6tofmLVXVKdz8w3Kn24NC+P8npY7ufNrQ9TndfkeSKJNm2bVvPz8/PZLwLCwuZ1bE2CzGbnphNT8yWR9we7zWXfeiI26/e/hQxW6KVuGhuwvusyIV0cyce+SILF1cszoUn0xOz6YnZ9MRseqsVM0V1AOBRVXVVkh9P8mB3P3doe0aSDyQ5I8l9SV7Z3Q/V6Lfs9yS5IMlXk7zm8LRxVbUzyc8Ph31bd+8e2l+U5OokJya5Mckbu3smv5wDACtnyPtXJrm7u39xbNOeJDuTvGP4ecNY+xuq6rqMnq/6yNgdbwDAOjGji+b2J5l/TPvCY99rpS6ke9+1N+Rdd04uddx30Wze53jjYp3pidn0xGx6Yja91YqZZ6oDAOOuzuOfe3ZZklu6e2uSW4b1JDk/ydbhtSvJ+5NHi/CXZ/QH9LOTXF5VJw/7vD/J68b284w1ANgYXpLkZ5K8tKo+NbwuyKiY/qNVdU+SHxnWk9HFc/cm2Zvk15K8fg3GDAAcwRIumksef9Hcq2vknHz7ormbkpxXVScPv/+fN7QBwHHDneoAwKO6+/eH56iN25FvX3G+O6Orzd80tF8z3Gl+a1WdNFzBPp/k5u4+kCRVdXOS7VW1kORp3X3r0H5Nkpcn+fDKnREAMAvd/bEkNWHzuYv07ySXrOigAIBjdfiiuTur6lND2z/O6CK566vq4iSfT/LKYduNGc1WtzejGetemyTdfaCq3prk9qHfWw7/TQAAjhdHLaqbBhYANr25selav5Bkblg+Ncn9Y/32DW1Hat+3SDsAAACwymZ50Vx3X5XkqtmNDgDWl6XcqX51kl9Ocs1Y2+FpYN9RVZcN62/Kd04D++KMpnh98dg0sNuSdJJPVNWe7n4o354G9raMiurb4441AFiXururasUvfquqXRlNKZ+5ubksLCys9FuuuYMHD26K85wlMZve3InJpc87NHG7eC7OZ216YgYAAAAcT45aVDcNLABsel+sqlO6+4Ehrz84tO9PcvpYv9OGtv359veEw+0LQ/tpi/R/nO6+IskVSbJt27aen59frNtxZWFhIZvhPGdJzKb3vmtvyLvunPwrwH0Xza/eYDYQn7XpiRkAAABwPHnCMvczDSwAbB57kuwclncmuWGs/dU1ck6SR4bvBzclOa+qTq6qk5Ocl+SmYduXq+qc4ZExrx47FgAAAAAArEtLmf79iFZrGthk800Fa8rE5RG36ZkKdno+Z9MTs42hqn4zo7vMn1VV+zJ6fMs7klxfVRcn+XySVw7db0xyQZK9Sb6a5LVJ0t0HquqtSW4f+r3l8Gw1SV6f0aNlTsxoZhqz0wAAAAAAsK4tt6i+6tPAJptvKlhTJi6PuE3PVLDT8zmbnphtDN39qgmbzl2kbye5ZMJxrkpy1SLtdyR57rGMEQAAAAAAVtNyp383DSwAAAAAAAAAx72j3qluGlgAAAAAAAAANqujFtVNAwsAAAAAAADAZrXc6d8BAAAAAAAA4LinqA4AAAAAAAAAEyiqAwAAAAAAAMAEiuoAAAAAAAAAMIGiOgAAAAAAAABMoKgOAAAAAAAAABMoqgMAAAAAAADABIrqAAAAAAAAADCBojoAAAAAAAAATKCoDgAAAAAAAAATKKoDAAAAAAAAwASK6gAAAAAAAAAwgaI6AAAAAAAAAEygqA4AAAAAAAAAEyiqAwAAAAAAAMAEiuoAAAAAAAAAMMGWtR4AAAAAAAAAACzmjMs+NHHb1dufsipjcKc6AAAAAAAAAEygqA4AAAAAAAAAEyiqAwAAAAAAAMAEiuoAAAAAAAAAMIGiOgAAAAAAAABMoKgOAAAAAAAAABMoqgMAAAAAAADABIrqAAAAAAAAADCBojoAAAAAAAAATKCoDgAAAAAAAAATKKoDAAAAAAAAwASK6gAAAAAAAAAwgaI6AAAAAAAAAEygqA4AAAAAAAAAEyiqAwAAAAAAAMAE66aoXlXbq+qzVbW3qi5b6/EAACtDzgeAzUPeB4DNQc4H4Hi3LorqVXVCkl9Jcn6Ss5K8qqrOWttRAQCzJucDwOYh7wPA5iDnA7AZrIuiepKzk+zt7nu7+xtJrkuyY43HBADMnpwPAJuHvA8Am4OcD8Bxb70U1U9Ncv/Y+r6hDQA4vsj5ALB5yPsAsDnI+QAc97as9QCmUVW7kuwaVg9W1WfXcjyr4FlJ/uNaD2IDErfpHTFm9c5VHMnG4XM2vc0Ss+9b6wEcDzZhzk82z7+RWRKz6cn5y+OzNr3NEjN5fwZWMO9vls/hLInZ9MRsemK2POI2pR9+50xjJufPwFrlfL/nTOT/lemJ2fTEbHpiNqUZ5/xkQt5fL0X1/UlOH1s/bWj7Dt19RZIrVmtQa62q7ujubWs9jo1G3KYnZtMTs+mJGQM5fwL/RqYnZtMTs+URt+mJGYM1zfs+h9MTs+mJ2fTEbHnEbXpitqrk/A1I3KYnZtMTs+mJ2fRWK2brZfr325Nsraozq+qJSS5MsmeNxwQAzJ6cDwCbh7wPAJuDnA/AcW9d3Kne3Yeq6g1JbkpyQpKruvuuNR4WADBjcj4AbB7yPgBsDnI+AJvBuiiqJ0l335jkxrUexzqzqaa9nSFxm56YTU/MpidmJJHzj8C/kemJ2fTEbHnEbXpiRpI1z/s+h9MTs+mJ2fTEbHnEbXpitork/A1J3KYnZtMTs+mJ2fRWJWbV3avxPgAAAAAAAACw4ayXZ6oDAAAAAAAAwLqjqL4OVNX2qvpsVe2tqssm9HllVX2mqu6qqv9rtce43hwtZlX1V6vqo1X1yar6dFVdsBbjXE+q6qqqerCq/nDC9qqq9w4x/XRVvXC1x7jeLCFmFw2xurOq/k1VPX+1x7jeHC1mY/3+k6o6VFWvWK2xwXoh709P3p+evD89eX968j7rxRLyxJOq6gPD9tuq6ow1GOa6soSY/YPhu8inq+qWqvq+tRjnerKU73BDv/+yqrqqtq3m+NYj33un53vv9Hzv3Vzk/OnJ+dOT85dH3p+evD+d9ZDzFdXXWFWdkORXkpyf5Kwkr6qqsx7TZ2uSNyd5SXc/J8nPrfY415OlxCzJzye5vrt/IMmFSX51dUe5Ll2dZPsRtp+fZOvw2pXk/aswpvXu6hw5Zp9L8ne7+3lJ3hrPOkmOHrPD/4bfmeT3VmNAsJ7I+9OT95ft6sj707o68v60ro68zxpbYp64OMlD3f3sJO/O6DO5aS0xZp9Msq27/3aSDyb531Z3lOvLEmOWqvqeJG9MctvqjnD98b13er73LtvV8b13U5DzpyfnT0/OXx55f3ry/rJcnTXO+Yrqa+/sJHu7+97u/kaS65LseEyf1yX5le5+KEm6+8FVHuN6s5SYdZKnDctPT/IfVnF861J3/36SA0fosiPJNT1ya5KTquqU1Rnd+nS0mHX3vzn87zLJrUlOW5WBrWNL+Jwlyc8m+ZdJNvv/ZWxO8v705P1lkPenJ+9PT95nnVhKntiRZPew/MEk51ZVreIY15ujxqy7P9rdXx1W/Z+3tM9ZMrro6p1Jvraag1unfO+dnu+9y+B776Yi509Pzp+enL888v705P0prYecr6i+9k5Ncv/Y+r6hbdz3J/n+qvr/qurWqjri3SCbwFJi9gtJfrqq9iW5MaM/5nFkS4krk12c5MNrPYj1rqpOTfKfx5XhbF7y/vTk/ZUh7x8beX8J5H1WyVL+P3u0T3cfSvJIkmeuyujWp2lzgP/zlhCzYXrJ07v7Q6s5sHXM997p+d67MnzvPX7I+dOT86cn5y+PvD89eX/2VjznK6pvDFsymq5gPsmrkvxaVZ20lgPaAF6V5OruPi3JBUl+o6p83lkRVfXDGX3pfNNaj2UD+KUkb+rub631QGAdk/enJ++zauT9qfxS5H3Y0Krqp5NsS/K/r/VY1rPhe8cvJrl0rceywfjeOz3fe4EVIecvjZx/TOT96cn768yWtR4A2Z/k9LH104a2cfuS3Nbdf5Hkc1X1xxn953P76gxx3VlKzC7O8GyF7v63VfXkJM+KaSePZClx5TGq6m8n+fUk53f3l9Z6PBvAtiTXDTNvPSvJBVV1qLv/1ZqOClaPvD89eX9lyPvLIO9PTd5nNSzl/7PDffZV1ZaMpk7czP+Gl5QDqupHkvyPSf5ud399lca2Xh0tZt+T5LlJFob/8/5ykj1V9RPdfceqjXJ98b13er73rgzfe48fcv705PzpyfnLI+9PT96fvRXP+a5oWHu3J9laVWdW1ROTXJhkz2P6/KuMrt5JVT0ro2ky7l3FMa43S4nZnyQ5N0mq6m8leXKSP13VUW48e5K8ukbOSfJIdz+w1oNaz6rqryb5rSQ/091/vNbj2Qi6+8zuPqO7z8jo2Vav94d1Nhl5f3ry/sqQ96ck709P3meVLCVP7Emyc1h+RZKPdHev4hjXm6PGrKp+IMk/S/ITnneZ5Cgx6+5HuvtZY//n3ZpR7DbzH9d9752e770rw/fe44ecPz05f3py/vLI+9OT92dvxXO+O9XXWHcfqqo3JLkpyQlJruruu6rqLUnu6O49w7bzquozSb6Z5B9u5jtjlhizSzOaPuS/T9JJXrPJv0Clqn4zo6T1rOEZHJcn+a4k6e5/mtEzOS5IsjfJV5O8dm1Gun4sIWb/c0bPZfrV4crEQ929bW1Guz4sIWawqcn705P3l0fen568Pz15n/VgiXniyoymStyb5EBGf7DatJYYs/89yVOT/Ivh/7w/6e6fWLNBr7ElxowxvvdOz/fe5fG9d/OQ86cn509Pzl8eeX968v701kPOr00cfwAAAAAAAAA4ItO/AwAAAAAAAMAEiuoAAAAAAAAAMIGiOgAAAAAAAABMoKgOAAAAAAAAABMoqgMAAAAAAADABIrqAAAAAAAAADCBojoAAAAAAAAATKCoDgAAAAAAAAAT/P/hvulBsRJW0AAAAABJRU5ErkJggg==\n",
      "text/plain": [
       "<Figure size 2520x360 with 4 Axes>"
      ]
     },
     "metadata": {
      "needs_background": "light"
     },
     "output_type": "display_data"
    },
    {
     "data": {
      "image/png": "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\n",
      "text/plain": [
       "<Figure size 2520x360 with 4 Axes>"
      ]
     },
     "metadata": {
      "needs_background": "light"
     },
     "output_type": "display_data"
    },
    {
     "data": {
      "image/png": "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\n",
      "text/plain": [
       "<Figure size 2520x360 with 4 Axes>"
      ]
     },
     "metadata": {
      "needs_background": "light"
     },
     "output_type": "display_data"
    },
    {
     "data": {
      "image/png": "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\n",
      "text/plain": [
       "<Figure size 2520x360 with 4 Axes>"
      ]
     },
     "metadata": {
      "needs_background": "light"
     },
     "output_type": "display_data"
    },
    {
     "data": {
      "image/png": "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\n",
      "text/plain": [
       "<Figure size 2520x360 with 4 Axes>"
      ]
     },
     "metadata": {
      "needs_background": "light"
     },
     "output_type": "display_data"
    },
    {
     "data": {
      "image/png": "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\n",
      "text/plain": [
       "<Figure size 2520x360 with 4 Axes>"
      ]
     },
     "metadata": {
      "needs_background": "light"
     },
     "output_type": "display_data"
    },
    {
     "data": {
      "image/png": "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\n",
      "text/plain": [
       "<Figure size 2520x360 with 4 Axes>"
      ]
     },
     "metadata": {
      "needs_background": "light"
     },
     "output_type": "display_data"
    }
   ],
   "source": [
    "# plot the histogram of various clusters\n",
    "for i in data_clustered .columns:\n",
    "    plt.figure(figsize = (35,5))\n",
    "    for j in range(4):\n",
    "        plt.subplot(1,4,j+1)\n",
    "        cluster = data_clustered[data_clustered ['cluster']==j]\n",
    "        cluster[i].hist(bins = 50)\n",
    "        plt.title('{}\\ncluster{}'.format(i,j))\n",
    "        \n",
    "plt.show()"
   ]
  },
  {
   "cell_type": "markdown",
   "id": "willing-going",
   "metadata": {},
   "source": [
    "### 0: At risk customer\n",
    "### 1: Loyal customer with high recency\n",
    "### 2: High value but low recency\n",
    "### 3: New customer"
   ]
  },
  {
   "cell_type": "code",
   "execution_count": null,
   "id": "correct-guinea",
   "metadata": {},
   "outputs": [],
   "source": []
  }
 ],
 "metadata": {
  "kernelspec": {
   "display_name": "Python 3",
   "language": "python",
   "name": "python3"
  },
  "language_info": {
   "codemirror_mode": {
    "name": "ipython",
    "version": 3
   },
   "file_extension": ".py",
   "mimetype": "text/x-python",
   "name": "python",
   "nbconvert_exporter": "python",
   "pygments_lexer": "ipython3",
   "version": "3.8.5"
  }
 },
 "nbformat": 4,
 "nbformat_minor": 5
}
